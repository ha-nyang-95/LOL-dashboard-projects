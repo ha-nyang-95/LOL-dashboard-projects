{
 "cells": [
  {
   "cell_type": "code",
   "execution_count": 125,
   "id": "b53a1d37",
   "metadata": {},
   "outputs": [],
   "source": [
    "# ! pip install ipympl\n",
    "#!pip install scikit-learn\n",
    "#! pip install seaborn"
   ]
  },
  {
   "cell_type": "code",
   "execution_count": 126,
   "id": "2022f7fc",
   "metadata": {},
   "outputs": [],
   "source": [
    "import pandas as pd\n",
    "import numpy as np\n",
    "from sklearn.preprocessing import StandardScaler\n",
    "from sklearn.metrics.pairwise import cosine_similarity\n",
    "import matplotlib.pyplot as plt\n",
    "import seaborn as sns\n"
   ]
  },
  {
   "cell_type": "markdown",
   "id": "a4872c58",
   "metadata": {},
   "source": [
    "# 1. 데이터 로딩 및 전처리"
   ]
  },
  {
   "cell_type": "code",
   "execution_count": 127,
   "id": "92a062fc",
   "metadata": {},
   "outputs": [],
   "source": [
    "# 예시 경로, 실제 경로로 수정 필요\n",
    "\n",
    "# 게임에 참가한 사람들의 고유 정보\n",
    "participants = pd.read_csv(\"data/top1000/participants.csv\")\n",
    "# 시간 흐름에 따라 변화하는 실시간 스탯 (골드, 딜량 등) \n",
    "participants_frames = pd.read_csv(\"data/top1000/participant_frames.csv\")\n",
    "# 게임 단위의 결과 (승패 등)\n",
    "matches = pd.read_csv(\"data/top1000/matches.csv\")\n",
    "# 킬 이벤트 정보 (누가 누구를 죽였는지)\n",
    "champ_kill = pd.read_csv('data/top1000/events__CHAMPION_KILL.csv')"
   ]
  },
  {
   "cell_type": "code",
   "execution_count": 128,
   "id": "477857b9",
   "metadata": {},
   "outputs": [
    {
     "data": {
      "text/html": [
       "<div>\n",
       "<style scoped>\n",
       "    .dataframe tbody tr th:only-of-type {\n",
       "        vertical-align: middle;\n",
       "    }\n",
       "\n",
       "    .dataframe tbody tr th {\n",
       "        vertical-align: top;\n",
       "    }\n",
       "\n",
       "    .dataframe thead th {\n",
       "        text-align: right;\n",
       "    }\n",
       "</style>\n",
       "<table border=\"1\" class=\"dataframe\">\n",
       "  <thead>\n",
       "    <tr style=\"text-align: right;\">\n",
       "      <th></th>\n",
       "      <th>bounty</th>\n",
       "      <th>frame_timestamp</th>\n",
       "      <th>game_id</th>\n",
       "      <th>kill_streak_length</th>\n",
       "      <th>killer_id</th>\n",
       "      <th>position_x</th>\n",
       "      <th>position_y</th>\n",
       "      <th>shutdown_bounty</th>\n",
       "      <th>timestamp</th>\n",
       "      <th>type</th>\n",
       "      <th>victim_id</th>\n",
       "    </tr>\n",
       "  </thead>\n",
       "  <tbody>\n",
       "    <tr>\n",
       "      <th>0</th>\n",
       "      <td>300.0</td>\n",
       "      <td>180020</td>\n",
       "      <td>7586549521</td>\n",
       "      <td>0.0</td>\n",
       "      <td>10.0</td>\n",
       "      <td>12555.0</td>\n",
       "      <td>1765.0</td>\n",
       "      <td>0.0</td>\n",
       "      <td>150975</td>\n",
       "      <td>CHAMPION_KILL</td>\n",
       "      <td>5.0</td>\n",
       "    </tr>\n",
       "    <tr>\n",
       "      <th>1</th>\n",
       "      <td>300.0</td>\n",
       "      <td>180020</td>\n",
       "      <td>7586549521</td>\n",
       "      <td>1.0</td>\n",
       "      <td>10.0</td>\n",
       "      <td>12244.0</td>\n",
       "      <td>2880.0</td>\n",
       "      <td>0.0</td>\n",
       "      <td>154282</td>\n",
       "      <td>CHAMPION_KILL</td>\n",
       "      <td>4.0</td>\n",
       "    </tr>\n",
       "    <tr>\n",
       "      <th>2</th>\n",
       "      <td>300.0</td>\n",
       "      <td>240021</td>\n",
       "      <td>7586549521</td>\n",
       "      <td>0.0</td>\n",
       "      <td>8.0</td>\n",
       "      <td>7875.0</td>\n",
       "      <td>6366.0</td>\n",
       "      <td>0.0</td>\n",
       "      <td>182192</td>\n",
       "      <td>CHAMPION_KILL</td>\n",
       "      <td>3.0</td>\n",
       "    </tr>\n",
       "    <tr>\n",
       "      <th>3</th>\n",
       "      <td>300.0</td>\n",
       "      <td>300047</td>\n",
       "      <td>7586549521</td>\n",
       "      <td>1.0</td>\n",
       "      <td>8.0</td>\n",
       "      <td>9952.0</td>\n",
       "      <td>5800.0</td>\n",
       "      <td>0.0</td>\n",
       "      <td>249951</td>\n",
       "      <td>CHAMPION_KILL</td>\n",
       "      <td>2.0</td>\n",
       "    </tr>\n",
       "    <tr>\n",
       "      <th>4</th>\n",
       "      <td>220.0</td>\n",
       "      <td>300047</td>\n",
       "      <td>7586549521</td>\n",
       "      <td>2.0</td>\n",
       "      <td>10.0</td>\n",
       "      <td>10381.0</td>\n",
       "      <td>5133.0</td>\n",
       "      <td>0.0</td>\n",
       "      <td>253357</td>\n",
       "      <td>CHAMPION_KILL</td>\n",
       "      <td>5.0</td>\n",
       "    </tr>\n",
       "  </tbody>\n",
       "</table>\n",
       "</div>"
      ],
      "text/plain": [
       "   bounty  frame_timestamp     game_id  kill_streak_length  killer_id  \\\n",
       "0   300.0           180020  7586549521                 0.0       10.0   \n",
       "1   300.0           180020  7586549521                 1.0       10.0   \n",
       "2   300.0           240021  7586549521                 0.0        8.0   \n",
       "3   300.0           300047  7586549521                 1.0        8.0   \n",
       "4   220.0           300047  7586549521                 2.0       10.0   \n",
       "\n",
       "   position_x  position_y  shutdown_bounty  timestamp           type  \\\n",
       "0     12555.0      1765.0              0.0     150975  CHAMPION_KILL   \n",
       "1     12244.0      2880.0              0.0     154282  CHAMPION_KILL   \n",
       "2      7875.0      6366.0              0.0     182192  CHAMPION_KILL   \n",
       "3      9952.0      5800.0              0.0     249951  CHAMPION_KILL   \n",
       "4     10381.0      5133.0              0.0     253357  CHAMPION_KILL   \n",
       "\n",
       "   victim_id  \n",
       "0        5.0  \n",
       "1        4.0  \n",
       "2        3.0  \n",
       "3        2.0  \n",
       "4        5.0  "
      ]
     },
     "execution_count": 128,
     "metadata": {},
     "output_type": "execute_result"
    }
   ],
   "source": [
    "champ_kill.head()"
   ]
  },
  {
   "cell_type": "code",
   "execution_count": 129,
   "id": "3dd3e3fa",
   "metadata": {},
   "outputs": [],
   "source": [
    "# 가장 마지막 프레임만 사용 (게임 종료 시점 상태)\n",
    "# 게임 종료 시점 기준으로 정보 하나로 묶기\n",
    "latest_frames = participants_frames.sort_values(\"frame_timestamp\").drop_duplicates(\n",
    "    subset=[\"game_id\", \"participant_id\"], keep='last'\n",
    ")\n",
    "\n",
    "merged_df = pd.merge(participants, latest_frames, on=[\"game_id\", \"participant_id\"], how=\"left\")"
   ]
  },
  {
   "cell_type": "markdown",
   "id": "bade9f35",
   "metadata": {},
   "source": [
    "## 2. KDA 및 주요 파생 지표 생성"
   ]
  },
  {
   "cell_type": "markdown",
   "id": "6227b0ac",
   "metadata": {},
   "source": [
    "### KDA 계산\n",
    "\n",
    "컬럼 | 의미\n",
    "---- | ----\n",
    "kills | 해당 경기에서 몇 번 킬 했는가\n",
    "deaths | 몇 번 죽었는가\n",
    "assists | 어시스트 수\n",
    "KDA | (킬 + 어시스트) / 데스 (생존 기반 전투 영향력)"
   ]
  },
  {
   "cell_type": "code",
   "execution_count": 130,
   "id": "9d99094f",
   "metadata": {},
   "outputs": [],
   "source": [
    "# kills 수 계산 (킬한 사람 기준)\n",
    "kills = champ_kill.groupby([\"game_id\", \"killer_id\"]).size().reset_index(name=\"kills\")\n",
    "kills.rename(columns={\"killer_id\": \"participant_id\"}, inplace=True)"
   ]
  },
  {
   "cell_type": "code",
   "execution_count": 131,
   "id": "28fc37ad",
   "metadata": {},
   "outputs": [],
   "source": [
    "# deaths 수 계산 (죽은 사람 기준)\n",
    "deaths = champ_kill.groupby([\"game_id\", \"victim_id\"]).size().reset_index(name=\"deaths\")\n",
    "deaths.rename(columns={\"victim_id\": \"participant_id\"}, inplace=True)"
   ]
  },
  {
   "cell_type": "code",
   "execution_count": 132,
   "id": "e36b6eed",
   "metadata": {},
   "outputs": [],
   "source": [
    "# assists 수 계산\n",
    "assist_df = pd.read_csv(\"data/top1000/event_assists.csv\")\n",
    "\n",
    "# 게임 ID + 어시스트 참가자 ID로 그룹화\n",
    "assists = assist_df.groupby([\"game_id\", \"participant_id\"]).size().reset_index(name=\"assists\")\n"
   ]
  },
  {
   "cell_type": "code",
   "execution_count": 133,
   "id": "2ad7d614",
   "metadata": {},
   "outputs": [],
   "source": [
    "# KDA 구하기\n",
    "\n",
    "# 기본 participant list (merged_df)에서 가져오자\n",
    "kda_base = merged_df[[\"game_id\", \"participant_id\", \"puuid\"]].drop_duplicates()\n",
    "\n",
    "# 병합\n",
    "kda_df = (\n",
    "    kda_base\n",
    "    .merge(kills, on=[\"game_id\", \"participant_id\"], how=\"left\")\n",
    "    .merge(deaths, on=[\"game_id\", \"participant_id\"], how=\"left\")\n",
    ")\n",
    "\n",
    "# 어시스트 컬럼 있으면 병합\n",
    "if 'assists' in locals():\n",
    "    kda_df = kda_df.merge(assists, on=[\"game_id\", \"participant_id\"], how=\"left\")\n",
    "\n",
    "# 결측값 0으로 채우기\n",
    "kda_df[[\"kills\", \"deaths\", \"assists\"]] = kda_df[[\"kills\", \"deaths\", \"assists\"]].fillna(0).astype(int)\n",
    "\n",
    "# KDA 계산\n",
    "# 분모가 0이 되면 오류가 나기 때문에, 완벽 생존은 1로 나눈 값을 최대치로 보정\n",
    "kda_df[\"KDA\"] = (kda_df[\"kills\"] + kda_df[\"assists\"]) / kda_df[\"deaths\"].replace(0, 1)\n"
   ]
  },
  {
   "cell_type": "code",
   "execution_count": 134,
   "id": "499d1b79",
   "metadata": {},
   "outputs": [
    {
     "data": {
      "text/html": [
       "<div>\n",
       "<style scoped>\n",
       "    .dataframe tbody tr th:only-of-type {\n",
       "        vertical-align: middle;\n",
       "    }\n",
       "\n",
       "    .dataframe tbody tr th {\n",
       "        vertical-align: top;\n",
       "    }\n",
       "\n",
       "    .dataframe thead th {\n",
       "        text-align: right;\n",
       "    }\n",
       "</style>\n",
       "<table border=\"1\" class=\"dataframe\">\n",
       "  <thead>\n",
       "    <tr style=\"text-align: right;\">\n",
       "      <th></th>\n",
       "      <th>game_id</th>\n",
       "      <th>participant_id</th>\n",
       "      <th>puuid</th>\n",
       "      <th>frame_timestamp</th>\n",
       "      <th>current_gold</th>\n",
       "      <th>gold_per_second</th>\n",
       "      <th>jungle_minions_killed</th>\n",
       "      <th>level</th>\n",
       "      <th>minions_killed</th>\n",
       "      <th>time_enemy_spent_controlled</th>\n",
       "      <th>...</th>\n",
       "      <th>totalDamageDone</th>\n",
       "      <th>totalDamageDoneToChampions</th>\n",
       "      <th>totalDamageTaken</th>\n",
       "      <th>trueDamageDone</th>\n",
       "      <th>trueDamageDoneToChampions</th>\n",
       "      <th>trueDamageTaken</th>\n",
       "      <th>kills</th>\n",
       "      <th>deaths</th>\n",
       "      <th>assists</th>\n",
       "      <th>KDA</th>\n",
       "    </tr>\n",
       "  </thead>\n",
       "  <tbody>\n",
       "    <tr>\n",
       "      <th>0</th>\n",
       "      <td>7586549521</td>\n",
       "      <td>1</td>\n",
       "      <td>T2coi9U5HI63yttsRxRgUeQ2xLzedwMv0LWMV_Xtp812gj...</td>\n",
       "      <td>1956361</td>\n",
       "      <td>3780</td>\n",
       "      <td>0</td>\n",
       "      <td>4</td>\n",
       "      <td>18</td>\n",
       "      <td>236</td>\n",
       "      <td>227461</td>\n",
       "      <td>...</td>\n",
       "      <td>221039</td>\n",
       "      <td>38637</td>\n",
       "      <td>35625</td>\n",
       "      <td>26709</td>\n",
       "      <td>13168</td>\n",
       "      <td>3156</td>\n",
       "      <td>13</td>\n",
       "      <td>3</td>\n",
       "      <td>19</td>\n",
       "      <td>10.666667</td>\n",
       "    </tr>\n",
       "    <tr>\n",
       "      <th>1</th>\n",
       "      <td>7586549521</td>\n",
       "      <td>2</td>\n",
       "      <td>VzxkuEt2Ay_6P_1wY1FajjdMW8ty20cPLb0jmwqAAjA9Ns...</td>\n",
       "      <td>1956361</td>\n",
       "      <td>1597</td>\n",
       "      <td>0</td>\n",
       "      <td>142</td>\n",
       "      <td>17</td>\n",
       "      <td>22</td>\n",
       "      <td>171344</td>\n",
       "      <td>...</td>\n",
       "      <td>251617</td>\n",
       "      <td>26859</td>\n",
       "      <td>44796</td>\n",
       "      <td>65212</td>\n",
       "      <td>2829</td>\n",
       "      <td>2577</td>\n",
       "      <td>12</td>\n",
       "      <td>10</td>\n",
       "      <td>14</td>\n",
       "      <td>2.600000</td>\n",
       "    </tr>\n",
       "    <tr>\n",
       "      <th>2</th>\n",
       "      <td>7586549521</td>\n",
       "      <td>3</td>\n",
       "      <td>-jMFYAy4ogcmItoiwYmQX7tG2fB59CvKQieQwZqYvcLw1x...</td>\n",
       "      <td>1956361</td>\n",
       "      <td>2454</td>\n",
       "      <td>0</td>\n",
       "      <td>8</td>\n",
       "      <td>17</td>\n",
       "      <td>232</td>\n",
       "      <td>259989</td>\n",
       "      <td>...</td>\n",
       "      <td>206296</td>\n",
       "      <td>37478</td>\n",
       "      <td>31216</td>\n",
       "      <td>7563</td>\n",
       "      <td>1790</td>\n",
       "      <td>3254</td>\n",
       "      <td>4</td>\n",
       "      <td>11</td>\n",
       "      <td>19</td>\n",
       "      <td>2.090909</td>\n",
       "    </tr>\n",
       "    <tr>\n",
       "      <th>3</th>\n",
       "      <td>7586549521</td>\n",
       "      <td>4</td>\n",
       "      <td>CDtqv-NZS5cmtQI0bsfbxBhq29QlqmwX_YwgG5oW3PkhMm...</td>\n",
       "      <td>1956361</td>\n",
       "      <td>1339</td>\n",
       "      <td>0</td>\n",
       "      <td>16</td>\n",
       "      <td>18</td>\n",
       "      <td>199</td>\n",
       "      <td>130050</td>\n",
       "      <td>...</td>\n",
       "      <td>217726</td>\n",
       "      <td>47278</td>\n",
       "      <td>33657</td>\n",
       "      <td>9483</td>\n",
       "      <td>2649</td>\n",
       "      <td>782</td>\n",
       "      <td>16</td>\n",
       "      <td>11</td>\n",
       "      <td>15</td>\n",
       "      <td>2.818182</td>\n",
       "    </tr>\n",
       "    <tr>\n",
       "      <th>4</th>\n",
       "      <td>7586549521</td>\n",
       "      <td>5</td>\n",
       "      <td>72aXoGzHe_SjiP1hNKnMXyx_UYND4_HE2j1Awp9E3l6pge...</td>\n",
       "      <td>1956361</td>\n",
       "      <td>1189</td>\n",
       "      <td>50</td>\n",
       "      <td>0</td>\n",
       "      <td>14</td>\n",
       "      <td>15</td>\n",
       "      <td>226379</td>\n",
       "      <td>...</td>\n",
       "      <td>17701</td>\n",
       "      <td>12926</td>\n",
       "      <td>36143</td>\n",
       "      <td>3208</td>\n",
       "      <td>2008</td>\n",
       "      <td>2392</td>\n",
       "      <td>2</td>\n",
       "      <td>15</td>\n",
       "      <td>23</td>\n",
       "      <td>1.666667</td>\n",
       "    </tr>\n",
       "  </tbody>\n",
       "</table>\n",
       "<p>5 rows × 55 columns</p>\n",
       "</div>"
      ],
      "text/plain": [
       "      game_id  participant_id  \\\n",
       "0  7586549521               1   \n",
       "1  7586549521               2   \n",
       "2  7586549521               3   \n",
       "3  7586549521               4   \n",
       "4  7586549521               5   \n",
       "\n",
       "                                               puuid  frame_timestamp  \\\n",
       "0  T2coi9U5HI63yttsRxRgUeQ2xLzedwMv0LWMV_Xtp812gj...          1956361   \n",
       "1  VzxkuEt2Ay_6P_1wY1FajjdMW8ty20cPLb0jmwqAAjA9Ns...          1956361   \n",
       "2  -jMFYAy4ogcmItoiwYmQX7tG2fB59CvKQieQwZqYvcLw1x...          1956361   \n",
       "3  CDtqv-NZS5cmtQI0bsfbxBhq29QlqmwX_YwgG5oW3PkhMm...          1956361   \n",
       "4  72aXoGzHe_SjiP1hNKnMXyx_UYND4_HE2j1Awp9E3l6pge...          1956361   \n",
       "\n",
       "   current_gold  gold_per_second  jungle_minions_killed  level  \\\n",
       "0          3780                0                      4     18   \n",
       "1          1597                0                    142     17   \n",
       "2          2454                0                      8     17   \n",
       "3          1339                0                     16     18   \n",
       "4          1189               50                      0     14   \n",
       "\n",
       "   minions_killed  time_enemy_spent_controlled  ...  totalDamageDone  \\\n",
       "0             236                       227461  ...           221039   \n",
       "1              22                       171344  ...           251617   \n",
       "2             232                       259989  ...           206296   \n",
       "3             199                       130050  ...           217726   \n",
       "4              15                       226379  ...            17701   \n",
       "\n",
       "   totalDamageDoneToChampions  totalDamageTaken  trueDamageDone  \\\n",
       "0                       38637             35625           26709   \n",
       "1                       26859             44796           65212   \n",
       "2                       37478             31216            7563   \n",
       "3                       47278             33657            9483   \n",
       "4                       12926             36143            3208   \n",
       "\n",
       "   trueDamageDoneToChampions  trueDamageTaken  kills  deaths  assists  \\\n",
       "0                      13168             3156     13       3       19   \n",
       "1                       2829             2577     12      10       14   \n",
       "2                       1790             3254      4      11       19   \n",
       "3                       2649              782     16      11       15   \n",
       "4                       2008             2392      2      15       23   \n",
       "\n",
       "         KDA  \n",
       "0  10.666667  \n",
       "1   2.600000  \n",
       "2   2.090909  \n",
       "3   2.818182  \n",
       "4   1.666667  \n",
       "\n",
       "[5 rows x 55 columns]"
      ]
     },
     "execution_count": 134,
     "metadata": {},
     "output_type": "execute_result"
    }
   ],
   "source": [
    "# merged_df에 병합\n",
    "\n",
    "merged_df = pd.merge(merged_df, kda_df[[\"game_id\", \"participant_id\", \"kills\", \"deaths\", \"assists\", \"KDA\"]],\n",
    "                     on=[\"game_id\", \"participant_id\"], how=\"left\")\n",
    "merged_df.head()"
   ]
  },
  {
   "cell_type": "markdown",
   "id": "4b76b1b9",
   "metadata": {},
   "source": [
    "## 유사도 기반 파생 지표 생성 (예시: 시야 점수, 미니언 수, 골드 등)"
   ]
  },
  {
   "cell_type": "markdown",
   "id": "016cf00b",
   "metadata": {},
   "source": [
    "### 성장 및 경제 지표        \n",
    "\n",
    "| 지표 | 의미 | 해석 |  \n",
    "| ---- | ---- | ---- |   \n",
    "| CS/Min | 분당 미니언 수급량 | 파밍 능력 |     \n",
    "| Gold/Min | 분당 골드 | 성장 속도 |        \n",
    "| XP/Min | 분당 경험치 | 레벨 성장 속도 |       \n",
    "\n",
    "\n"
   ]
  },
  {
   "cell_type": "code",
   "execution_count": 135,
   "id": "f410c370",
   "metadata": {},
   "outputs": [],
   "source": [
    "# 성장 및 경제 지표\n",
    "\n",
    "# 분당 라인 몬스터 \n",
    "merged_df['lane_cs_per_min'] = merged_df['minions_killed'] / (merged_df[\"frame_timestamp\"] / 60000)\n",
    "\n",
    "# 분당 정글 몬스터\n",
    "merged_df['jungle_cs_per_min'] = merged_df['jungle_minions_killed'] / (merged_df[\"frame_timestamp\"] / 60000)\n",
    "\n",
    "# # CS (미니언 + 정글)\n",
    "# merged_df[\"cs\"] = merged_df[\"minions_killed\"] + merged_df[\"jungle_minions_killed\"]\n",
    "\n",
    "# # 분당 CS\n",
    "# merged_df[\"cs_per_min\"] = merged_df[\"cs\"] / (merged_df[\"frame_timestamp\"] / 60000)\n",
    "\n",
    "# jungle 성향 분석\n",
    "merged_df['jungle_ratio'] = merged_df['jungle_minions_killed'] / (merged_df['jungle_minions_killed'] + merged_df['minions_killed'])\n",
    "\n",
    "# 분당 골드\n",
    "merged_df[\"gold_per_min\"] = merged_df[\"total_gold\"] / (merged_df[\"frame_timestamp\"] / 60000)\n",
    "\n",
    "# 분당 경험치\n",
    "merged_df[\"xp_per_min\"] = merged_df[\"xp\"] / (merged_df[\"frame_timestamp\"] / 60000)"
   ]
  },
  {
   "cell_type": "markdown",
   "id": "ddaa2d34",
   "metadata": {},
   "source": [
    "### 전투 능력 지표\n",
    "\n",
    "지표 | 의미 | 해석\n",
    "---- | ---- | ----\n",
    "Damage/Min | 분당 딜량 | 전투 기여도\n",
    "Damage Taken/Min | 분당 받은 피해 | 탱킹 능력 또는 위험 노출\n",
    "KA/Min | 분당 킬 관여 수 | 싸움 참여율 (적극적인지 여부)\n",
    "Damage Efficiency | 피해 교환 비율 | 딜 효율 (딜을 얼마나 잘 넣고 덜 맞았는지)"
   ]
  },
  {
   "cell_type": "code",
   "execution_count": 136,
   "id": "9abb96ef",
   "metadata": {},
   "outputs": [],
   "source": [
    "# 전투력 관련 지표\n",
    "# 분당 피해량\n",
    "merged_df[\"damage_per_min\"] = merged_df[\"totalDamageDoneToChampions\"] / (merged_df[\"frame_timestamp\"] / 60000)\n",
    "\n",
    "# 분당 받은 피해량\n",
    "merged_df[\"damage_taken_per_min\"] = merged_df[\"totalDamageTaken\"] / (merged_df[\"frame_timestamp\"] / 60000)\n",
    "\n",
    "# 분당 킬 관여율 (K+A)/시간\n",
    "merged_df[\"ka_per_min\"] = (merged_df[\"kills\"] + merged_df[\"assists\"]) / (merged_df[\"frame_timestamp\"] / 60000)\n",
    "\n",
    "# 피해 교환 효율 (딜량 / 받은 피해량)\n",
    "merged_df[\"damage_efficiency\"] = merged_df[\"totalDamageDoneToChampions\"] / merged_df[\"totalDamageTaken\"].replace(0, 1)\n"
   ]
  },
  {
   "cell_type": "markdown",
   "id": "51178c99",
   "metadata": {},
   "source": [
    "### 생존력 지표\n",
    "\n",
    "지표 | 의미 | 해석\n",
    "---- | ---- | ----\n",
    "survivability | 생존률 | \n",
    "healthregen_per_min | 분당 체력 재생 | \n"
   ]
  },
  {
   "cell_type": "code",
   "execution_count": 137,
   "id": "347895bd",
   "metadata": {},
   "outputs": [],
   "source": [
    "# 생존력 지표\n",
    "# 생존률 (1 - 데스 / 평균 생존시간) → 데스 적을수록 높음\n",
    "merged_df[\"survivability\"] = 1 / merged_df[\"deaths\"].replace(0, 1)\n",
    "\n",
    "# 1. healthregen의 총합을 참가자별로 groupby\n",
    "agg_df = participants_frames.groupby(['game_id', 'participant_id']).agg({\n",
    "    'healthregen': 'sum',\n",
    "    'frame_timestamp': 'max'  # 해당 플레이어의 게임 시간 (ms)\n",
    "}).reset_index()\n",
    "\n",
    "# 2. 게임 시간(ms)를 분 단위로 변환\n",
    "agg_df['game_time_min'] = agg_df['frame_timestamp'] / 60000\n",
    "\n",
    "# 3. 분당 체력 재생량 계산\n",
    "agg_df['healthregen_per_min'] = agg_df['healthregen'] / agg_df['game_time_min']\n",
    "\n",
    "# 4. merged_df에 병합 (game_id + participant_id 기준)\n",
    "merged_df = merged_df.merge(\n",
    "    agg_df[['game_id', 'participant_id', 'healthregen_per_min']],\n",
    "    on=['game_id', 'participant_id'],\n",
    "    how='left'\n",
    ")\n",
    "\n",
    "# # 분당 체력 재생\n",
    "# merged_df[\"healthregen_per_min\"] = merged_df[\"healthregen\"] / (merged_df[\"frame_timestamp\"] / 60000)\n"
   ]
  },
  {
   "cell_type": "markdown",
   "id": "3484cf58",
   "metadata": {},
   "source": [
    "### 시야 장악 지표\n",
    "\n",
    "지표 | 의미 | 해석\n",
    "---- | ---- | ----\n",
    "Wards Placed/Min | 분당 설치 | 시야 제공 적극성\n",
    "Wards Killed/Min | 분당 제거 | 상대 시야 차단 능력\n",
    "Vision Score Est. | 설치+제거 총합 | 시야 장악 종합 평가 (approx.)"
   ]
  },
  {
   "cell_type": "code",
   "execution_count": 138,
   "id": "700a2ec5",
   "metadata": {},
   "outputs": [],
   "source": [
    "# 포지션 제어 / 시야 장악 지표\n",
    "wards_placed = pd.read_csv(\"data/top1000/events__WARD_PLACED.csv\")\n",
    "wards_killed = pd.read_csv(\"data/top1000/events__WARD_KILL.csv\")\n",
    "\n",
    "## 와드 설치 수\n",
    "ward_placed_count = (\n",
    "    wards_placed\n",
    "    .groupby([\"game_id\", \"creator_id\"])\n",
    "    .size()\n",
    "    .reset_index(name=\"wards_placed\")\n",
    "    .rename(columns={\"creator_id\": \"participant_id\"})\n",
    ")\n",
    "\n",
    "## 와드 제거 수\n",
    "ward_kill_count = (\n",
    "    wards_killed\n",
    "    .groupby([\"game_id\", \"killer_id\"])\n",
    "    .size()\n",
    "    .reset_index(name=\"wards_killed\")\n",
    "    .rename(columns={\"killer_id\": \"participant_id\"})\n",
    ")\n",
    "\n",
    "## merged_df에 와드 수 붙이기\n",
    "merged_df = (\n",
    "    merged_df\n",
    "    .merge(ward_placed_count, on=[\"game_id\", \"participant_id\"], how=\"left\")\n",
    "    .merge(ward_kill_count, on=[\"game_id\", \"participant_id\"], how=\"left\")\n",
    ")\n",
    "\n",
    "# 결측치는 0으로 처리\n",
    "merged_df[[\"wards_placed\", \"wards_killed\"]] = merged_df[[\"wards_placed\", \"wards_killed\"]].fillna(0).astype(int)\n",
    "\n",
    "## 시야 제어 파생 지표 추가\n",
    "# 분당 와드 설치\n",
    "merged_df[\"wards_placed_per_min\"] = merged_df[\"wards_placed\"] / (merged_df[\"frame_timestamp\"] / 60000)\n",
    "\n",
    "# 분당 와드 제거\n",
    "merged_df[\"wards_killed_per_min\"] = merged_df[\"wards_killed\"] / (merged_df[\"frame_timestamp\"] / 60000)\n",
    "\n",
    "# 종합 시야 지표 (설치 + 제거)\n",
    "merged_df[\"vision_score_est\"] = merged_df[\"wards_placed\"] + merged_df[\"wards_killed\"]\n"
   ]
  },
  {
   "cell_type": "markdown",
   "id": "933bcb7a",
   "metadata": {},
   "source": [
    "### 종합 능력치 지표\n",
    "기본 아이템 + 능력치 요약"
   ]
  },
  {
   "cell_type": "code",
   "execution_count": 139,
   "id": "fb85c0f3",
   "metadata": {},
   "outputs": [],
   "source": [
    "# 아이템/스탯 관련 종합 능력치\n",
    "# 전체 공격 스탯\n",
    "merged_df[\"offensive_score\"] = merged_df[\"attackdamage\"] + merged_df[\"attackspeed\"]\n",
    "\n",
    "# 전체 방어 스탯\n",
    "merged_df[\"defensive_score\"] = merged_df[\"armor\"] + merged_df[\"magicresist\"]\n",
    "\n",
    "# 전체 마법 능력치\n",
    "merged_df[\"magic_score\"] = merged_df[\"abilitypower\"] + merged_df[\"magicpen\"] + merged_df[\"magicpenpercent\"]\n"
   ]
  },
  {
   "cell_type": "markdown",
   "id": "d4671090",
   "metadata": {},
   "source": [
    "생존 또는 스킬 활용 능력"
   ]
  },
  {
   "cell_type": "code",
   "execution_count": 140,
   "id": "fb7b656b",
   "metadata": {},
   "outputs": [],
   "source": [
    "# 기타 유틸성 스탯\n",
    "# 만능 흡혈 + 물리 흡혈 + 주문 흡혈\n",
    "merged_df[\"total_vamp\"] = merged_df[[\"omnivamp\", \"physicalvamp\", \"spellvamp\"]].sum(axis=1)\n",
    "\n",
    "# 스킬 쿨다운 영향력\n",
    "merged_df[\"haste_score\"] = merged_df[\"cooldownreduction\"] + merged_df[\"abilityhaste\"]\n"
   ]
  },
  {
   "cell_type": "markdown",
   "id": "1dd7cfc0",
   "metadata": {},
   "source": [
    "## 3. 상위 1000명 필터링 및 일반 유저 선택"
   ]
  },
  {
   "cell_type": "code",
   "execution_count": 141,
   "id": "69b83e9c",
   "metadata": {},
   "outputs": [
    {
     "data": {
      "text/html": [
       "<div>\n",
       "<style scoped>\n",
       "    .dataframe tbody tr th:only-of-type {\n",
       "        vertical-align: middle;\n",
       "    }\n",
       "\n",
       "    .dataframe tbody tr th {\n",
       "        vertical-align: top;\n",
       "    }\n",
       "\n",
       "    .dataframe thead th {\n",
       "        text-align: right;\n",
       "    }\n",
       "</style>\n",
       "<table border=\"1\" class=\"dataframe\">\n",
       "  <thead>\n",
       "    <tr style=\"text-align: right;\">\n",
       "      <th></th>\n",
       "      <th>game_id</th>\n",
       "      <th>participant_id</th>\n",
       "      <th>puuid</th>\n",
       "      <th>frame_timestamp</th>\n",
       "      <th>current_gold</th>\n",
       "      <th>gold_per_second</th>\n",
       "      <th>jungle_minions_killed</th>\n",
       "      <th>level</th>\n",
       "      <th>minions_killed</th>\n",
       "      <th>time_enemy_spent_controlled</th>\n",
       "      <th>...</th>\n",
       "      <th>wards_killed</th>\n",
       "      <th>wards_placed_per_min</th>\n",
       "      <th>wards_killed_per_min</th>\n",
       "      <th>vision_score_est</th>\n",
       "      <th>offensive_score</th>\n",
       "      <th>defensive_score</th>\n",
       "      <th>magic_score</th>\n",
       "      <th>total_vamp</th>\n",
       "      <th>haste_score</th>\n",
       "      <th>is_top1000</th>\n",
       "    </tr>\n",
       "  </thead>\n",
       "  <tbody>\n",
       "    <tr>\n",
       "      <th>0</th>\n",
       "      <td>7586549521</td>\n",
       "      <td>1</td>\n",
       "      <td>T2coi9U5HI63yttsRxRgUeQ2xLzedwMv0LWMV_Xtp812gj...</td>\n",
       "      <td>1956361</td>\n",
       "      <td>3780</td>\n",
       "      <td>0</td>\n",
       "      <td>4</td>\n",
       "      <td>18</td>\n",
       "      <td>236</td>\n",
       "      <td>227461</td>\n",
       "      <td>...</td>\n",
       "      <td>6</td>\n",
       "      <td>0.276023</td>\n",
       "      <td>0.184015</td>\n",
       "      <td>15</td>\n",
       "      <td>541</td>\n",
       "      <td>293</td>\n",
       "      <td>0</td>\n",
       "      <td>0</td>\n",
       "      <td>0</td>\n",
       "      <td>True</td>\n",
       "    </tr>\n",
       "    <tr>\n",
       "      <th>1</th>\n",
       "      <td>7586549521</td>\n",
       "      <td>2</td>\n",
       "      <td>VzxkuEt2Ay_6P_1wY1FajjdMW8ty20cPLb0jmwqAAjA9Ns...</td>\n",
       "      <td>1956361</td>\n",
       "      <td>1597</td>\n",
       "      <td>0</td>\n",
       "      <td>142</td>\n",
       "      <td>17</td>\n",
       "      <td>22</td>\n",
       "      <td>171344</td>\n",
       "      <td>...</td>\n",
       "      <td>6</td>\n",
       "      <td>0.337361</td>\n",
       "      <td>0.184015</td>\n",
       "      <td>17</td>\n",
       "      <td>478</td>\n",
       "      <td>195</td>\n",
       "      <td>0</td>\n",
       "      <td>0</td>\n",
       "      <td>0</td>\n",
       "      <td>False</td>\n",
       "    </tr>\n",
       "    <tr>\n",
       "      <th>2</th>\n",
       "      <td>7586549521</td>\n",
       "      <td>3</td>\n",
       "      <td>-jMFYAy4ogcmItoiwYmQX7tG2fB59CvKQieQwZqYvcLw1x...</td>\n",
       "      <td>1956361</td>\n",
       "      <td>2454</td>\n",
       "      <td>0</td>\n",
       "      <td>8</td>\n",
       "      <td>17</td>\n",
       "      <td>232</td>\n",
       "      <td>259989</td>\n",
       "      <td>...</td>\n",
       "      <td>5</td>\n",
       "      <td>0.306692</td>\n",
       "      <td>0.153346</td>\n",
       "      <td>15</td>\n",
       "      <td>383</td>\n",
       "      <td>203</td>\n",
       "      <td>344</td>\n",
       "      <td>0</td>\n",
       "      <td>0</td>\n",
       "      <td>True</td>\n",
       "    </tr>\n",
       "    <tr>\n",
       "      <th>3</th>\n",
       "      <td>7586549521</td>\n",
       "      <td>4</td>\n",
       "      <td>CDtqv-NZS5cmtQI0bsfbxBhq29QlqmwX_YwgG5oW3PkhMm...</td>\n",
       "      <td>1956361</td>\n",
       "      <td>1339</td>\n",
       "      <td>0</td>\n",
       "      <td>16</td>\n",
       "      <td>18</td>\n",
       "      <td>199</td>\n",
       "      <td>130050</td>\n",
       "      <td>...</td>\n",
       "      <td>4</td>\n",
       "      <td>0.214684</td>\n",
       "      <td>0.122677</td>\n",
       "      <td>11</td>\n",
       "      <td>476</td>\n",
       "      <td>175</td>\n",
       "      <td>414</td>\n",
       "      <td>0</td>\n",
       "      <td>0</td>\n",
       "      <td>False</td>\n",
       "    </tr>\n",
       "    <tr>\n",
       "      <th>4</th>\n",
       "      <td>7586549521</td>\n",
       "      <td>5</td>\n",
       "      <td>72aXoGzHe_SjiP1hNKnMXyx_UYND4_HE2j1Awp9E3l6pge...</td>\n",
       "      <td>1956361</td>\n",
       "      <td>1189</td>\n",
       "      <td>50</td>\n",
       "      <td>0</td>\n",
       "      <td>14</td>\n",
       "      <td>15</td>\n",
       "      <td>226379</td>\n",
       "      <td>...</td>\n",
       "      <td>6</td>\n",
       "      <td>1.717474</td>\n",
       "      <td>0.184015</td>\n",
       "      <td>62</td>\n",
       "      <td>222</td>\n",
       "      <td>269</td>\n",
       "      <td>30</td>\n",
       "      <td>0</td>\n",
       "      <td>0</td>\n",
       "      <td>False</td>\n",
       "    </tr>\n",
       "    <tr>\n",
       "      <th>...</th>\n",
       "      <td>...</td>\n",
       "      <td>...</td>\n",
       "      <td>...</td>\n",
       "      <td>...</td>\n",
       "      <td>...</td>\n",
       "      <td>...</td>\n",
       "      <td>...</td>\n",
       "      <td>...</td>\n",
       "      <td>...</td>\n",
       "      <td>...</td>\n",
       "      <td>...</td>\n",
       "      <td>...</td>\n",
       "      <td>...</td>\n",
       "      <td>...</td>\n",
       "      <td>...</td>\n",
       "      <td>...</td>\n",
       "      <td>...</td>\n",
       "      <td>...</td>\n",
       "      <td>...</td>\n",
       "      <td>...</td>\n",
       "      <td>...</td>\n",
       "    </tr>\n",
       "    <tr>\n",
       "      <th>8855</th>\n",
       "      <td>7587349701</td>\n",
       "      <td>6</td>\n",
       "      <td>wh2vaHHIyqboQmG8WRm37yUpwZAySsICm_RI1kW-4Fp0xR...</td>\n",
       "      <td>1747846</td>\n",
       "      <td>1572</td>\n",
       "      <td>0</td>\n",
       "      <td>0</td>\n",
       "      <td>16</td>\n",
       "      <td>202</td>\n",
       "      <td>100348</td>\n",
       "      <td>...</td>\n",
       "      <td>3</td>\n",
       "      <td>0.205968</td>\n",
       "      <td>0.102984</td>\n",
       "      <td>9</td>\n",
       "      <td>287</td>\n",
       "      <td>238</td>\n",
       "      <td>407</td>\n",
       "      <td>0</td>\n",
       "      <td>0</td>\n",
       "      <td>True</td>\n",
       "    </tr>\n",
       "    <tr>\n",
       "      <th>8856</th>\n",
       "      <td>7587349701</td>\n",
       "      <td>7</td>\n",
       "      <td>PYkdiyRFs3q_Hkz3yVWkswBFruwd65D80KKlsdxggdTajJ...</td>\n",
       "      <td>1747846</td>\n",
       "      <td>1885</td>\n",
       "      <td>0</td>\n",
       "      <td>151</td>\n",
       "      <td>16</td>\n",
       "      <td>17</td>\n",
       "      <td>553210</td>\n",
       "      <td>...</td>\n",
       "      <td>12</td>\n",
       "      <td>0.308952</td>\n",
       "      <td>0.411936</td>\n",
       "      <td>21</td>\n",
       "      <td>461</td>\n",
       "      <td>216</td>\n",
       "      <td>44</td>\n",
       "      <td>0</td>\n",
       "      <td>0</td>\n",
       "      <td>True</td>\n",
       "    </tr>\n",
       "    <tr>\n",
       "      <th>8857</th>\n",
       "      <td>7587349701</td>\n",
       "      <td>8</td>\n",
       "      <td>ucved09ZRkvD3WOyO8Oy54cuWNHKiTKWedeAiTPeSu5-26...</td>\n",
       "      <td>1747846</td>\n",
       "      <td>2169</td>\n",
       "      <td>0</td>\n",
       "      <td>8</td>\n",
       "      <td>18</td>\n",
       "      <td>271</td>\n",
       "      <td>158619</td>\n",
       "      <td>...</td>\n",
       "      <td>2</td>\n",
       "      <td>0.377608</td>\n",
       "      <td>0.068656</td>\n",
       "      <td>13</td>\n",
       "      <td>422</td>\n",
       "      <td>246</td>\n",
       "      <td>470</td>\n",
       "      <td>0</td>\n",
       "      <td>0</td>\n",
       "      <td>True</td>\n",
       "    </tr>\n",
       "    <tr>\n",
       "      <th>8858</th>\n",
       "      <td>7587349701</td>\n",
       "      <td>9</td>\n",
       "      <td>B7wiDKpWQ68MJ4Q2nyh_R6esOPEEIV5LhAKJ1mVQs962X4...</td>\n",
       "      <td>1747846</td>\n",
       "      <td>872</td>\n",
       "      <td>0</td>\n",
       "      <td>20</td>\n",
       "      <td>16</td>\n",
       "      <td>240</td>\n",
       "      <td>57391</td>\n",
       "      <td>...</td>\n",
       "      <td>3</td>\n",
       "      <td>0.446264</td>\n",
       "      <td>0.102984</td>\n",
       "      <td>16</td>\n",
       "      <td>495</td>\n",
       "      <td>175</td>\n",
       "      <td>44</td>\n",
       "      <td>0</td>\n",
       "      <td>0</td>\n",
       "      <td>False</td>\n",
       "    </tr>\n",
       "    <tr>\n",
       "      <th>8859</th>\n",
       "      <td>7587349701</td>\n",
       "      <td>10</td>\n",
       "      <td>FLRh-a2hmUBNDTSmxWQV5Fq8dMnHxDeHk0F3gc0QnHz5Cb...</td>\n",
       "      <td>1747846</td>\n",
       "      <td>941</td>\n",
       "      <td>50</td>\n",
       "      <td>0</td>\n",
       "      <td>14</td>\n",
       "      <td>38</td>\n",
       "      <td>167586</td>\n",
       "      <td>...</td>\n",
       "      <td>7</td>\n",
       "      <td>1.029839</td>\n",
       "      <td>0.240296</td>\n",
       "      <td>37</td>\n",
       "      <td>289</td>\n",
       "      <td>319</td>\n",
       "      <td>44</td>\n",
       "      <td>0</td>\n",
       "      <td>0</td>\n",
       "      <td>True</td>\n",
       "    </tr>\n",
       "  </tbody>\n",
       "</table>\n",
       "<p>8860 rows × 77 columns</p>\n",
       "</div>"
      ],
      "text/plain": [
       "         game_id  participant_id  \\\n",
       "0     7586549521               1   \n",
       "1     7586549521               2   \n",
       "2     7586549521               3   \n",
       "3     7586549521               4   \n",
       "4     7586549521               5   \n",
       "...          ...             ...   \n",
       "8855  7587349701               6   \n",
       "8856  7587349701               7   \n",
       "8857  7587349701               8   \n",
       "8858  7587349701               9   \n",
       "8859  7587349701              10   \n",
       "\n",
       "                                                  puuid  frame_timestamp  \\\n",
       "0     T2coi9U5HI63yttsRxRgUeQ2xLzedwMv0LWMV_Xtp812gj...          1956361   \n",
       "1     VzxkuEt2Ay_6P_1wY1FajjdMW8ty20cPLb0jmwqAAjA9Ns...          1956361   \n",
       "2     -jMFYAy4ogcmItoiwYmQX7tG2fB59CvKQieQwZqYvcLw1x...          1956361   \n",
       "3     CDtqv-NZS5cmtQI0bsfbxBhq29QlqmwX_YwgG5oW3PkhMm...          1956361   \n",
       "4     72aXoGzHe_SjiP1hNKnMXyx_UYND4_HE2j1Awp9E3l6pge...          1956361   \n",
       "...                                                 ...              ...   \n",
       "8855  wh2vaHHIyqboQmG8WRm37yUpwZAySsICm_RI1kW-4Fp0xR...          1747846   \n",
       "8856  PYkdiyRFs3q_Hkz3yVWkswBFruwd65D80KKlsdxggdTajJ...          1747846   \n",
       "8857  ucved09ZRkvD3WOyO8Oy54cuWNHKiTKWedeAiTPeSu5-26...          1747846   \n",
       "8858  B7wiDKpWQ68MJ4Q2nyh_R6esOPEEIV5LhAKJ1mVQs962X4...          1747846   \n",
       "8859  FLRh-a2hmUBNDTSmxWQV5Fq8dMnHxDeHk0F3gc0QnHz5Cb...          1747846   \n",
       "\n",
       "      current_gold  gold_per_second  jungle_minions_killed  level  \\\n",
       "0             3780                0                      4     18   \n",
       "1             1597                0                    142     17   \n",
       "2             2454                0                      8     17   \n",
       "3             1339                0                     16     18   \n",
       "4             1189               50                      0     14   \n",
       "...            ...              ...                    ...    ...   \n",
       "8855          1572                0                      0     16   \n",
       "8856          1885                0                    151     16   \n",
       "8857          2169                0                      8     18   \n",
       "8858           872                0                     20     16   \n",
       "8859           941               50                      0     14   \n",
       "\n",
       "      minions_killed  time_enemy_spent_controlled  ...  wards_killed  \\\n",
       "0                236                       227461  ...             6   \n",
       "1                 22                       171344  ...             6   \n",
       "2                232                       259989  ...             5   \n",
       "3                199                       130050  ...             4   \n",
       "4                 15                       226379  ...             6   \n",
       "...              ...                          ...  ...           ...   \n",
       "8855             202                       100348  ...             3   \n",
       "8856              17                       553210  ...            12   \n",
       "8857             271                       158619  ...             2   \n",
       "8858             240                        57391  ...             3   \n",
       "8859              38                       167586  ...             7   \n",
       "\n",
       "      wards_placed_per_min  wards_killed_per_min  vision_score_est  \\\n",
       "0                 0.276023              0.184015                15   \n",
       "1                 0.337361              0.184015                17   \n",
       "2                 0.306692              0.153346                15   \n",
       "3                 0.214684              0.122677                11   \n",
       "4                 1.717474              0.184015                62   \n",
       "...                    ...                   ...               ...   \n",
       "8855              0.205968              0.102984                 9   \n",
       "8856              0.308952              0.411936                21   \n",
       "8857              0.377608              0.068656                13   \n",
       "8858              0.446264              0.102984                16   \n",
       "8859              1.029839              0.240296                37   \n",
       "\n",
       "      offensive_score  defensive_score  magic_score  total_vamp  haste_score  \\\n",
       "0                 541              293            0           0            0   \n",
       "1                 478              195            0           0            0   \n",
       "2                 383              203          344           0            0   \n",
       "3                 476              175          414           0            0   \n",
       "4                 222              269           30           0            0   \n",
       "...               ...              ...          ...         ...          ...   \n",
       "8855              287              238          407           0            0   \n",
       "8856              461              216           44           0            0   \n",
       "8857              422              246          470           0            0   \n",
       "8858              495              175           44           0            0   \n",
       "8859              289              319           44           0            0   \n",
       "\n",
       "      is_top1000  \n",
       "0           True  \n",
       "1          False  \n",
       "2           True  \n",
       "3          False  \n",
       "4          False  \n",
       "...          ...  \n",
       "8855        True  \n",
       "8856        True  \n",
       "8857        True  \n",
       "8858       False  \n",
       "8859        True  \n",
       "\n",
       "[8860 rows x 77 columns]"
      ]
     },
     "execution_count": 141,
     "metadata": {},
     "output_type": "execute_result"
    }
   ],
   "source": [
    "# Top 1000 유저 필터링\n",
    "top1000_puuids = merged_df.sort_values(\"KDA\", ascending=False)[\"puuid\"].unique()[:1000]\n",
    "merged_df[\"is_top1000\"] = merged_df[\"puuid\"].isin(top1000_puuids)\n",
    "merged_df\n"
   ]
  },
  {
   "cell_type": "code",
   "execution_count": null,
   "id": "e6dde6cd",
   "metadata": {},
   "outputs": [],
   "source": [
    "# 상위 1000명의 유저와 아닌 유저 분리\n",
    "# KDA를 기준으로만 나누었기 때문에 정확하지 않을 수 있음\n",
    "# df_top = merged_df[merged_df[\"is_top1000\"] == True].copy()\n",
    "# df_user = merged_df[merged_df[\"is_top1000\"] == False].copy()\n"
   ]
  },
  {
   "cell_type": "code",
   "execution_count": 146,
   "id": "c78d0a33",
   "metadata": {},
   "outputs": [],
   "source": [
    "features = [\n",
    "    \"kills\", \"deaths\", \"assists\", 'lane_cs_per_min', 'jungle_cs_per_min', 'jungle_ratio',\n",
    "    \"KDA\", \"gold_per_min\", \"xp_per_min\",\n",
    "    \"damage_per_min\", \"damage_taken_per_min\", \"ka_per_min\", \"damage_efficiency\",\n",
    "    \"survivability\", \"healthregen_per_min\",\n",
    "    \"offensive_score\", \"defensive_score\", \"magic_score\", \"total_vamp\", \"haste_score\",\n",
    "    \"wards_placed_per_min\", \"wards_killed_per_min\", \"vision_score_est\"\n",
    "]"
   ]
  },
  {
   "cell_type": "code",
   "execution_count": 147,
   "id": "0f33d405",
   "metadata": {},
   "outputs": [
    {
     "data": {
      "text/html": [
       "<div>\n",
       "<style scoped>\n",
       "    .dataframe tbody tr th:only-of-type {\n",
       "        vertical-align: middle;\n",
       "    }\n",
       "\n",
       "    .dataframe tbody tr th {\n",
       "        vertical-align: top;\n",
       "    }\n",
       "\n",
       "    .dataframe thead th {\n",
       "        text-align: right;\n",
       "    }\n",
       "</style>\n",
       "<table border=\"1\" class=\"dataframe\">\n",
       "  <thead>\n",
       "    <tr style=\"text-align: right;\">\n",
       "      <th></th>\n",
       "      <th>kills</th>\n",
       "      <th>deaths</th>\n",
       "      <th>assists</th>\n",
       "      <th>lane_cs_per_min</th>\n",
       "      <th>jungle_cs_per_min</th>\n",
       "      <th>jungle_ratio</th>\n",
       "      <th>KDA</th>\n",
       "      <th>gold_per_min</th>\n",
       "      <th>xp_per_min</th>\n",
       "      <th>damage_per_min</th>\n",
       "      <th>...</th>\n",
       "      <th>survivability</th>\n",
       "      <th>healthregen_per_min</th>\n",
       "      <th>offensive_score</th>\n",
       "      <th>defensive_score</th>\n",
       "      <th>magic_score</th>\n",
       "      <th>total_vamp</th>\n",
       "      <th>haste_score</th>\n",
       "      <th>wards_placed_per_min</th>\n",
       "      <th>wards_killed_per_min</th>\n",
       "      <th>vision_score_est</th>\n",
       "    </tr>\n",
       "  </thead>\n",
       "  <tbody>\n",
       "    <tr>\n",
       "      <th>0</th>\n",
       "      <td>13</td>\n",
       "      <td>3</td>\n",
       "      <td>19</td>\n",
       "      <td>7.237928</td>\n",
       "      <td>0.122677</td>\n",
       "      <td>0.016667</td>\n",
       "      <td>10.666667</td>\n",
       "      <td>521.345498</td>\n",
       "      <td>628.779658</td>\n",
       "      <td>1184.965351</td>\n",
       "      <td>...</td>\n",
       "      <td>0.333333</td>\n",
       "      <td>286.358193</td>\n",
       "      <td>541</td>\n",
       "      <td>293</td>\n",
       "      <td>0</td>\n",
       "      <td>0</td>\n",
       "      <td>0</td>\n",
       "      <td>0.276023</td>\n",
       "      <td>0.184015</td>\n",
       "      <td>15</td>\n",
       "    </tr>\n",
       "    <tr>\n",
       "      <th>2</th>\n",
       "      <td>4</td>\n",
       "      <td>11</td>\n",
       "      <td>19</td>\n",
       "      <td>7.115251</td>\n",
       "      <td>0.245353</td>\n",
       "      <td>0.033333</td>\n",
       "      <td>2.090909</td>\n",
       "      <td>428.693886</td>\n",
       "      <td>550.205202</td>\n",
       "      <td>1149.419765</td>\n",
       "      <td>...</td>\n",
       "      <td>0.090909</td>\n",
       "      <td>38.673844</td>\n",
       "      <td>383</td>\n",
       "      <td>203</td>\n",
       "      <td>344</td>\n",
       "      <td>0</td>\n",
       "      <td>0</td>\n",
       "      <td>0.306692</td>\n",
       "      <td>0.153346</td>\n",
       "      <td>15</td>\n",
       "    </tr>\n",
       "    <tr>\n",
       "      <th>5</th>\n",
       "      <td>4</td>\n",
       "      <td>11</td>\n",
       "      <td>11</td>\n",
       "      <td>5.091085</td>\n",
       "      <td>0.490707</td>\n",
       "      <td>0.087912</td>\n",
       "      <td>1.363636</td>\n",
       "      <td>332.269964</td>\n",
       "      <td>431.638128</td>\n",
       "      <td>572.777724</td>\n",
       "      <td>...</td>\n",
       "      <td>0.090909</td>\n",
       "      <td>45.942441</td>\n",
       "      <td>540</td>\n",
       "      <td>308</td>\n",
       "      <td>0</td>\n",
       "      <td>0</td>\n",
       "      <td>0</td>\n",
       "      <td>0.368030</td>\n",
       "      <td>0.092008</td>\n",
       "      <td>15</td>\n",
       "    </tr>\n",
       "    <tr>\n",
       "      <th>6</th>\n",
       "      <td>13</td>\n",
       "      <td>9</td>\n",
       "      <td>28</td>\n",
       "      <td>2.821565</td>\n",
       "      <td>5.183092</td>\n",
       "      <td>0.647510</td>\n",
       "      <td>4.555556</td>\n",
       "      <td>544.102034</td>\n",
       "      <td>577.378101</td>\n",
       "      <td>963.135127</td>\n",
       "      <td>...</td>\n",
       "      <td>0.111111</td>\n",
       "      <td>53.211038</td>\n",
       "      <td>624</td>\n",
       "      <td>328</td>\n",
       "      <td>0</td>\n",
       "      <td>0</td>\n",
       "      <td>0</td>\n",
       "      <td>0.092008</td>\n",
       "      <td>0.398699</td>\n",
       "      <td>16</td>\n",
       "    </tr>\n",
       "    <tr>\n",
       "      <th>7</th>\n",
       "      <td>10</td>\n",
       "      <td>9</td>\n",
       "      <td>16</td>\n",
       "      <td>4.907070</td>\n",
       "      <td>0.184015</td>\n",
       "      <td>0.036145</td>\n",
       "      <td>2.888889</td>\n",
       "      <td>377.322999</td>\n",
       "      <td>458.320320</td>\n",
       "      <td>898.515151</td>\n",
       "      <td>...</td>\n",
       "      <td>0.111111</td>\n",
       "      <td>59.559560</td>\n",
       "      <td>430</td>\n",
       "      <td>274</td>\n",
       "      <td>0</td>\n",
       "      <td>0</td>\n",
       "      <td>0</td>\n",
       "      <td>0.245353</td>\n",
       "      <td>0.214684</td>\n",
       "      <td>15</td>\n",
       "    </tr>\n",
       "    <tr>\n",
       "      <th>...</th>\n",
       "      <td>...</td>\n",
       "      <td>...</td>\n",
       "      <td>...</td>\n",
       "      <td>...</td>\n",
       "      <td>...</td>\n",
       "      <td>...</td>\n",
       "      <td>...</td>\n",
       "      <td>...</td>\n",
       "      <td>...</td>\n",
       "      <td>...</td>\n",
       "      <td>...</td>\n",
       "      <td>...</td>\n",
       "      <td>...</td>\n",
       "      <td>...</td>\n",
       "      <td>...</td>\n",
       "      <td>...</td>\n",
       "      <td>...</td>\n",
       "      <td>...</td>\n",
       "      <td>...</td>\n",
       "      <td>...</td>\n",
       "      <td>...</td>\n",
       "    </tr>\n",
       "    <tr>\n",
       "      <th>8854</th>\n",
       "      <td>0</td>\n",
       "      <td>5</td>\n",
       "      <td>16</td>\n",
       "      <td>1.338791</td>\n",
       "      <td>0.000000</td>\n",
       "      <td>0.000000</td>\n",
       "      <td>3.200000</td>\n",
       "      <td>249.221041</td>\n",
       "      <td>287.565380</td>\n",
       "      <td>447.362067</td>\n",
       "      <td>...</td>\n",
       "      <td>0.200000</td>\n",
       "      <td>37.623452</td>\n",
       "      <td>202</td>\n",
       "      <td>152</td>\n",
       "      <td>90</td>\n",
       "      <td>0</td>\n",
       "      <td>0</td>\n",
       "      <td>1.338791</td>\n",
       "      <td>0.583575</td>\n",
       "      <td>56</td>\n",
       "    </tr>\n",
       "    <tr>\n",
       "      <th>8855</th>\n",
       "      <td>4</td>\n",
       "      <td>6</td>\n",
       "      <td>11</td>\n",
       "      <td>6.934249</td>\n",
       "      <td>0.000000</td>\n",
       "      <td>0.000000</td>\n",
       "      <td>2.500000</td>\n",
       "      <td>400.847672</td>\n",
       "      <td>564.969683</td>\n",
       "      <td>736.849814</td>\n",
       "      <td>...</td>\n",
       "      <td>0.166667</td>\n",
       "      <td>37.348828</td>\n",
       "      <td>287</td>\n",
       "      <td>238</td>\n",
       "      <td>407</td>\n",
       "      <td>0</td>\n",
       "      <td>0</td>\n",
       "      <td>0.205968</td>\n",
       "      <td>0.102984</td>\n",
       "      <td>9</td>\n",
       "    </tr>\n",
       "    <tr>\n",
       "      <th>8856</th>\n",
       "      <td>10</td>\n",
       "      <td>4</td>\n",
       "      <td>11</td>\n",
       "      <td>0.583575</td>\n",
       "      <td>5.183523</td>\n",
       "      <td>0.898810</td>\n",
       "      <td>5.250000</td>\n",
       "      <td>464.114115</td>\n",
       "      <td>561.262262</td>\n",
       "      <td>682.131034</td>\n",
       "      <td>...</td>\n",
       "      <td>0.250000</td>\n",
       "      <td>43.699502</td>\n",
       "      <td>461</td>\n",
       "      <td>216</td>\n",
       "      <td>44</td>\n",
       "      <td>0</td>\n",
       "      <td>0</td>\n",
       "      <td>0.308952</td>\n",
       "      <td>0.411936</td>\n",
       "      <td>21</td>\n",
       "    </tr>\n",
       "    <tr>\n",
       "      <th>8857</th>\n",
       "      <td>9</td>\n",
       "      <td>5</td>\n",
       "      <td>13</td>\n",
       "      <td>9.302879</td>\n",
       "      <td>0.274624</td>\n",
       "      <td>0.028674</td>\n",
       "      <td>4.400000</td>\n",
       "      <td>552.474303</td>\n",
       "      <td>688.722004</td>\n",
       "      <td>1090.839811</td>\n",
       "      <td>...</td>\n",
       "      <td>0.200000</td>\n",
       "      <td>30.654875</td>\n",
       "      <td>422</td>\n",
       "      <td>246</td>\n",
       "      <td>470</td>\n",
       "      <td>0</td>\n",
       "      <td>0</td>\n",
       "      <td>0.377608</td>\n",
       "      <td>0.068656</td>\n",
       "      <td>13</td>\n",
       "    </tr>\n",
       "    <tr>\n",
       "      <th>8859</th>\n",
       "      <td>1</td>\n",
       "      <td>7</td>\n",
       "      <td>21</td>\n",
       "      <td>1.304463</td>\n",
       "      <td>0.000000</td>\n",
       "      <td>0.000000</td>\n",
       "      <td>3.142857</td>\n",
       "      <td>295.254845</td>\n",
       "      <td>432.909993</td>\n",
       "      <td>262.334325</td>\n",
       "      <td>...</td>\n",
       "      <td>0.142857</td>\n",
       "      <td>65.429105</td>\n",
       "      <td>289</td>\n",
       "      <td>319</td>\n",
       "      <td>44</td>\n",
       "      <td>0</td>\n",
       "      <td>0</td>\n",
       "      <td>1.029839</td>\n",
       "      <td>0.240296</td>\n",
       "      <td>37</td>\n",
       "    </tr>\n",
       "  </tbody>\n",
       "</table>\n",
       "<p>5787 rows × 23 columns</p>\n",
       "</div>"
      ],
      "text/plain": [
       "      kills  deaths  assists  lane_cs_per_min  jungle_cs_per_min  \\\n",
       "0        13       3       19         7.237928           0.122677   \n",
       "2         4      11       19         7.115251           0.245353   \n",
       "5         4      11       11         5.091085           0.490707   \n",
       "6        13       9       28         2.821565           5.183092   \n",
       "7        10       9       16         4.907070           0.184015   \n",
       "...     ...     ...      ...              ...                ...   \n",
       "8854      0       5       16         1.338791           0.000000   \n",
       "8855      4       6       11         6.934249           0.000000   \n",
       "8856     10       4       11         0.583575           5.183523   \n",
       "8857      9       5       13         9.302879           0.274624   \n",
       "8859      1       7       21         1.304463           0.000000   \n",
       "\n",
       "      jungle_ratio        KDA  gold_per_min  xp_per_min  damage_per_min  ...  \\\n",
       "0         0.016667  10.666667    521.345498  628.779658     1184.965351  ...   \n",
       "2         0.033333   2.090909    428.693886  550.205202     1149.419765  ...   \n",
       "5         0.087912   1.363636    332.269964  431.638128      572.777724  ...   \n",
       "6         0.647510   4.555556    544.102034  577.378101      963.135127  ...   \n",
       "7         0.036145   2.888889    377.322999  458.320320      898.515151  ...   \n",
       "...            ...        ...           ...         ...             ...  ...   \n",
       "8854      0.000000   3.200000    249.221041  287.565380      447.362067  ...   \n",
       "8855      0.000000   2.500000    400.847672  564.969683      736.849814  ...   \n",
       "8856      0.898810   5.250000    464.114115  561.262262      682.131034  ...   \n",
       "8857      0.028674   4.400000    552.474303  688.722004     1090.839811  ...   \n",
       "8859      0.000000   3.142857    295.254845  432.909993      262.334325  ...   \n",
       "\n",
       "      survivability  healthregen_per_min  offensive_score  defensive_score  \\\n",
       "0          0.333333           286.358193              541              293   \n",
       "2          0.090909            38.673844              383              203   \n",
       "5          0.090909            45.942441              540              308   \n",
       "6          0.111111            53.211038              624              328   \n",
       "7          0.111111            59.559560              430              274   \n",
       "...             ...                  ...              ...              ...   \n",
       "8854       0.200000            37.623452              202              152   \n",
       "8855       0.166667            37.348828              287              238   \n",
       "8856       0.250000            43.699502              461              216   \n",
       "8857       0.200000            30.654875              422              246   \n",
       "8859       0.142857            65.429105              289              319   \n",
       "\n",
       "      magic_score  total_vamp  haste_score  wards_placed_per_min  \\\n",
       "0               0           0            0              0.276023   \n",
       "2             344           0            0              0.306692   \n",
       "5               0           0            0              0.368030   \n",
       "6               0           0            0              0.092008   \n",
       "7               0           0            0              0.245353   \n",
       "...           ...         ...          ...                   ...   \n",
       "8854           90           0            0              1.338791   \n",
       "8855          407           0            0              0.205968   \n",
       "8856           44           0            0              0.308952   \n",
       "8857          470           0            0              0.377608   \n",
       "8859           44           0            0              1.029839   \n",
       "\n",
       "      wards_killed_per_min  vision_score_est  \n",
       "0                 0.184015                15  \n",
       "2                 0.153346                15  \n",
       "5                 0.092008                15  \n",
       "6                 0.398699                16  \n",
       "7                 0.214684                15  \n",
       "...                    ...               ...  \n",
       "8854              0.583575                56  \n",
       "8855              0.102984                 9  \n",
       "8856              0.411936                21  \n",
       "8857              0.068656                13  \n",
       "8859              0.240296                37  \n",
       "\n",
       "[5787 rows x 23 columns]"
      ]
     },
     "execution_count": 147,
     "metadata": {},
     "output_type": "execute_result"
    }
   ],
   "source": [
    "# 상위 유저 데이터만 추출\n",
    "X_top = merged_df[merged_df[\"is_top1000\"] == True][features].fillna(0)\n",
    "X_top"
   ]
  },
  {
   "cell_type": "code",
   "execution_count": 149,
   "id": "8b72d580",
   "metadata": {},
   "outputs": [
    {
     "data": {
      "text/html": [
       "<div>\n",
       "<style scoped>\n",
       "    .dataframe tbody tr th:only-of-type {\n",
       "        vertical-align: middle;\n",
       "    }\n",
       "\n",
       "    .dataframe tbody tr th {\n",
       "        vertical-align: top;\n",
       "    }\n",
       "\n",
       "    .dataframe thead th {\n",
       "        text-align: right;\n",
       "    }\n",
       "</style>\n",
       "<table border=\"1\" class=\"dataframe\">\n",
       "  <thead>\n",
       "    <tr style=\"text-align: right;\">\n",
       "      <th></th>\n",
       "      <th>kills</th>\n",
       "      <th>deaths</th>\n",
       "      <th>assists</th>\n",
       "      <th>lane_cs_per_min</th>\n",
       "      <th>jungle_cs_per_min</th>\n",
       "      <th>jungle_ratio</th>\n",
       "      <th>KDA</th>\n",
       "      <th>gold_per_min</th>\n",
       "      <th>xp_per_min</th>\n",
       "      <th>damage_per_min</th>\n",
       "      <th>...</th>\n",
       "      <th>damage_efficiency</th>\n",
       "      <th>survivability</th>\n",
       "      <th>healthregen_per_min</th>\n",
       "      <th>offensive_score</th>\n",
       "      <th>defensive_score</th>\n",
       "      <th>magic_score</th>\n",
       "      <th>total_vamp</th>\n",
       "      <th>wards_placed_per_min</th>\n",
       "      <th>wards_killed_per_min</th>\n",
       "      <th>vision_score_est</th>\n",
       "    </tr>\n",
       "  </thead>\n",
       "  <tbody>\n",
       "    <tr>\n",
       "      <th>0</th>\n",
       "      <td>13</td>\n",
       "      <td>3</td>\n",
       "      <td>19</td>\n",
       "      <td>7.237928</td>\n",
       "      <td>0.122677</td>\n",
       "      <td>0.016667</td>\n",
       "      <td>10.666667</td>\n",
       "      <td>521.345498</td>\n",
       "      <td>628.779658</td>\n",
       "      <td>1184.965351</td>\n",
       "      <td>...</td>\n",
       "      <td>1.084547</td>\n",
       "      <td>0.333333</td>\n",
       "      <td>286.358193</td>\n",
       "      <td>541</td>\n",
       "      <td>293</td>\n",
       "      <td>0</td>\n",
       "      <td>0</td>\n",
       "      <td>0.276023</td>\n",
       "      <td>0.184015</td>\n",
       "      <td>15</td>\n",
       "    </tr>\n",
       "    <tr>\n",
       "      <th>2</th>\n",
       "      <td>4</td>\n",
       "      <td>11</td>\n",
       "      <td>19</td>\n",
       "      <td>7.115251</td>\n",
       "      <td>0.245353</td>\n",
       "      <td>0.033333</td>\n",
       "      <td>2.090909</td>\n",
       "      <td>428.693886</td>\n",
       "      <td>550.205202</td>\n",
       "      <td>1149.419765</td>\n",
       "      <td>...</td>\n",
       "      <td>1.200602</td>\n",
       "      <td>0.090909</td>\n",
       "      <td>38.673844</td>\n",
       "      <td>383</td>\n",
       "      <td>203</td>\n",
       "      <td>344</td>\n",
       "      <td>0</td>\n",
       "      <td>0.306692</td>\n",
       "      <td>0.153346</td>\n",
       "      <td>15</td>\n",
       "    </tr>\n",
       "    <tr>\n",
       "      <th>5</th>\n",
       "      <td>4</td>\n",
       "      <td>11</td>\n",
       "      <td>11</td>\n",
       "      <td>5.091085</td>\n",
       "      <td>0.490707</td>\n",
       "      <td>0.087912</td>\n",
       "      <td>1.363636</td>\n",
       "      <td>332.269964</td>\n",
       "      <td>431.638128</td>\n",
       "      <td>572.777724</td>\n",
       "      <td>...</td>\n",
       "      <td>0.496583</td>\n",
       "      <td>0.090909</td>\n",
       "      <td>45.942441</td>\n",
       "      <td>540</td>\n",
       "      <td>308</td>\n",
       "      <td>0</td>\n",
       "      <td>0</td>\n",
       "      <td>0.368030</td>\n",
       "      <td>0.092008</td>\n",
       "      <td>15</td>\n",
       "    </tr>\n",
       "    <tr>\n",
       "      <th>6</th>\n",
       "      <td>13</td>\n",
       "      <td>9</td>\n",
       "      <td>28</td>\n",
       "      <td>2.821565</td>\n",
       "      <td>5.183092</td>\n",
       "      <td>0.647510</td>\n",
       "      <td>4.555556</td>\n",
       "      <td>544.102034</td>\n",
       "      <td>577.378101</td>\n",
       "      <td>963.135127</td>\n",
       "      <td>...</td>\n",
       "      <td>0.559397</td>\n",
       "      <td>0.111111</td>\n",
       "      <td>53.211038</td>\n",
       "      <td>624</td>\n",
       "      <td>328</td>\n",
       "      <td>0</td>\n",
       "      <td>0</td>\n",
       "      <td>0.092008</td>\n",
       "      <td>0.398699</td>\n",
       "      <td>16</td>\n",
       "    </tr>\n",
       "    <tr>\n",
       "      <th>7</th>\n",
       "      <td>10</td>\n",
       "      <td>9</td>\n",
       "      <td>16</td>\n",
       "      <td>4.907070</td>\n",
       "      <td>0.184015</td>\n",
       "      <td>0.036145</td>\n",
       "      <td>2.888889</td>\n",
       "      <td>377.322999</td>\n",
       "      <td>458.320320</td>\n",
       "      <td>898.515151</td>\n",
       "      <td>...</td>\n",
       "      <td>0.700182</td>\n",
       "      <td>0.111111</td>\n",
       "      <td>59.559560</td>\n",
       "      <td>430</td>\n",
       "      <td>274</td>\n",
       "      <td>0</td>\n",
       "      <td>0</td>\n",
       "      <td>0.245353</td>\n",
       "      <td>0.214684</td>\n",
       "      <td>15</td>\n",
       "    </tr>\n",
       "    <tr>\n",
       "      <th>...</th>\n",
       "      <td>...</td>\n",
       "      <td>...</td>\n",
       "      <td>...</td>\n",
       "      <td>...</td>\n",
       "      <td>...</td>\n",
       "      <td>...</td>\n",
       "      <td>...</td>\n",
       "      <td>...</td>\n",
       "      <td>...</td>\n",
       "      <td>...</td>\n",
       "      <td>...</td>\n",
       "      <td>...</td>\n",
       "      <td>...</td>\n",
       "      <td>...</td>\n",
       "      <td>...</td>\n",
       "      <td>...</td>\n",
       "      <td>...</td>\n",
       "      <td>...</td>\n",
       "      <td>...</td>\n",
       "      <td>...</td>\n",
       "      <td>...</td>\n",
       "    </tr>\n",
       "    <tr>\n",
       "      <th>8854</th>\n",
       "      <td>0</td>\n",
       "      <td>5</td>\n",
       "      <td>16</td>\n",
       "      <td>1.338791</td>\n",
       "      <td>0.000000</td>\n",
       "      <td>0.000000</td>\n",
       "      <td>3.200000</td>\n",
       "      <td>249.221041</td>\n",
       "      <td>287.565380</td>\n",
       "      <td>447.362067</td>\n",
       "      <td>...</td>\n",
       "      <td>0.588857</td>\n",
       "      <td>0.200000</td>\n",
       "      <td>37.623452</td>\n",
       "      <td>202</td>\n",
       "      <td>152</td>\n",
       "      <td>90</td>\n",
       "      <td>0</td>\n",
       "      <td>1.338791</td>\n",
       "      <td>0.583575</td>\n",
       "      <td>56</td>\n",
       "    </tr>\n",
       "    <tr>\n",
       "      <th>8855</th>\n",
       "      <td>4</td>\n",
       "      <td>6</td>\n",
       "      <td>11</td>\n",
       "      <td>6.934249</td>\n",
       "      <td>0.000000</td>\n",
       "      <td>0.000000</td>\n",
       "      <td>2.500000</td>\n",
       "      <td>400.847672</td>\n",
       "      <td>564.969683</td>\n",
       "      <td>736.849814</td>\n",
       "      <td>...</td>\n",
       "      <td>0.859769</td>\n",
       "      <td>0.166667</td>\n",
       "      <td>37.348828</td>\n",
       "      <td>287</td>\n",
       "      <td>238</td>\n",
       "      <td>407</td>\n",
       "      <td>0</td>\n",
       "      <td>0.205968</td>\n",
       "      <td>0.102984</td>\n",
       "      <td>9</td>\n",
       "    </tr>\n",
       "    <tr>\n",
       "      <th>8856</th>\n",
       "      <td>10</td>\n",
       "      <td>4</td>\n",
       "      <td>11</td>\n",
       "      <td>0.583575</td>\n",
       "      <td>5.183523</td>\n",
       "      <td>0.898810</td>\n",
       "      <td>5.250000</td>\n",
       "      <td>464.114115</td>\n",
       "      <td>561.262262</td>\n",
       "      <td>682.131034</td>\n",
       "      <td>...</td>\n",
       "      <td>0.396453</td>\n",
       "      <td>0.250000</td>\n",
       "      <td>43.699502</td>\n",
       "      <td>461</td>\n",
       "      <td>216</td>\n",
       "      <td>44</td>\n",
       "      <td>0</td>\n",
       "      <td>0.308952</td>\n",
       "      <td>0.411936</td>\n",
       "      <td>21</td>\n",
       "    </tr>\n",
       "    <tr>\n",
       "      <th>8857</th>\n",
       "      <td>9</td>\n",
       "      <td>5</td>\n",
       "      <td>13</td>\n",
       "      <td>9.302879</td>\n",
       "      <td>0.274624</td>\n",
       "      <td>0.028674</td>\n",
       "      <td>4.400000</td>\n",
       "      <td>552.474303</td>\n",
       "      <td>688.722004</td>\n",
       "      <td>1090.839811</td>\n",
       "      <td>...</td>\n",
       "      <td>1.467014</td>\n",
       "      <td>0.200000</td>\n",
       "      <td>30.654875</td>\n",
       "      <td>422</td>\n",
       "      <td>246</td>\n",
       "      <td>470</td>\n",
       "      <td>0</td>\n",
       "      <td>0.377608</td>\n",
       "      <td>0.068656</td>\n",
       "      <td>13</td>\n",
       "    </tr>\n",
       "    <tr>\n",
       "      <th>8859</th>\n",
       "      <td>1</td>\n",
       "      <td>7</td>\n",
       "      <td>21</td>\n",
       "      <td>1.304463</td>\n",
       "      <td>0.000000</td>\n",
       "      <td>0.000000</td>\n",
       "      <td>3.142857</td>\n",
       "      <td>295.254845</td>\n",
       "      <td>432.909993</td>\n",
       "      <td>262.334325</td>\n",
       "      <td>...</td>\n",
       "      <td>0.308718</td>\n",
       "      <td>0.142857</td>\n",
       "      <td>65.429105</td>\n",
       "      <td>289</td>\n",
       "      <td>319</td>\n",
       "      <td>44</td>\n",
       "      <td>0</td>\n",
       "      <td>1.029839</td>\n",
       "      <td>0.240296</td>\n",
       "      <td>37</td>\n",
       "    </tr>\n",
       "  </tbody>\n",
       "</table>\n",
       "<p>5787 rows × 22 columns</p>\n",
       "</div>"
      ],
      "text/plain": [
       "      kills  deaths  assists  lane_cs_per_min  jungle_cs_per_min  \\\n",
       "0        13       3       19         7.237928           0.122677   \n",
       "2         4      11       19         7.115251           0.245353   \n",
       "5         4      11       11         5.091085           0.490707   \n",
       "6        13       9       28         2.821565           5.183092   \n",
       "7        10       9       16         4.907070           0.184015   \n",
       "...     ...     ...      ...              ...                ...   \n",
       "8854      0       5       16         1.338791           0.000000   \n",
       "8855      4       6       11         6.934249           0.000000   \n",
       "8856     10       4       11         0.583575           5.183523   \n",
       "8857      9       5       13         9.302879           0.274624   \n",
       "8859      1       7       21         1.304463           0.000000   \n",
       "\n",
       "      jungle_ratio        KDA  gold_per_min  xp_per_min  damage_per_min  ...  \\\n",
       "0         0.016667  10.666667    521.345498  628.779658     1184.965351  ...   \n",
       "2         0.033333   2.090909    428.693886  550.205202     1149.419765  ...   \n",
       "5         0.087912   1.363636    332.269964  431.638128      572.777724  ...   \n",
       "6         0.647510   4.555556    544.102034  577.378101      963.135127  ...   \n",
       "7         0.036145   2.888889    377.322999  458.320320      898.515151  ...   \n",
       "...            ...        ...           ...         ...             ...  ...   \n",
       "8854      0.000000   3.200000    249.221041  287.565380      447.362067  ...   \n",
       "8855      0.000000   2.500000    400.847672  564.969683      736.849814  ...   \n",
       "8856      0.898810   5.250000    464.114115  561.262262      682.131034  ...   \n",
       "8857      0.028674   4.400000    552.474303  688.722004     1090.839811  ...   \n",
       "8859      0.000000   3.142857    295.254845  432.909993      262.334325  ...   \n",
       "\n",
       "      damage_efficiency  survivability  healthregen_per_min  offensive_score  \\\n",
       "0              1.084547       0.333333           286.358193              541   \n",
       "2              1.200602       0.090909            38.673844              383   \n",
       "5              0.496583       0.090909            45.942441              540   \n",
       "6              0.559397       0.111111            53.211038              624   \n",
       "7              0.700182       0.111111            59.559560              430   \n",
       "...                 ...            ...                  ...              ...   \n",
       "8854           0.588857       0.200000            37.623452              202   \n",
       "8855           0.859769       0.166667            37.348828              287   \n",
       "8856           0.396453       0.250000            43.699502              461   \n",
       "8857           1.467014       0.200000            30.654875              422   \n",
       "8859           0.308718       0.142857            65.429105              289   \n",
       "\n",
       "      defensive_score  magic_score  total_vamp  wards_placed_per_min  \\\n",
       "0                 293            0           0              0.276023   \n",
       "2                 203          344           0              0.306692   \n",
       "5                 308            0           0              0.368030   \n",
       "6                 328            0           0              0.092008   \n",
       "7                 274            0           0              0.245353   \n",
       "...               ...          ...         ...                   ...   \n",
       "8854              152           90           0              1.338791   \n",
       "8855              238          407           0              0.205968   \n",
       "8856              216           44           0              0.308952   \n",
       "8857              246          470           0              0.377608   \n",
       "8859              319           44           0              1.029839   \n",
       "\n",
       "      wards_killed_per_min  vision_score_est  \n",
       "0                 0.184015                15  \n",
       "2                 0.153346                15  \n",
       "5                 0.092008                15  \n",
       "6                 0.398699                16  \n",
       "7                 0.214684                15  \n",
       "...                    ...               ...  \n",
       "8854              0.583575                56  \n",
       "8855              0.102984                 9  \n",
       "8856              0.411936                21  \n",
       "8857              0.068656                13  \n",
       "8859              0.240296                37  \n",
       "\n",
       "[5787 rows x 22 columns]"
      ]
     },
     "execution_count": 149,
     "metadata": {},
     "output_type": "execute_result"
    }
   ],
   "source": [
    "# 분산 낮은 거 제거 -> 설명력이 없음\n",
    "# haste_score 제거\n",
    "\n",
    "from sklearn.feature_selection import VarianceThreshold\n",
    "\n",
    "selector = VarianceThreshold(threshold=0.01)  # 예: 분산 1% 미만 제거\n",
    "selector.fit(X_top)\n",
    "selected_columns = X_top.columns[selector.get_support()]\n",
    "filtered_df = X_top[selected_columns]\n",
    "filtered_df"
   ]
  },
  {
   "cell_type": "code",
   "execution_count": 150,
   "id": "b1e34380",
   "metadata": {},
   "outputs": [
    {
     "data": {
      "text/plain": [
       "<Axes: >"
      ]
     },
     "execution_count": 150,
     "metadata": {},
     "output_type": "execute_result"
    },
    {
     "data": {
      "image/png": "[encoded data removed]",
      "text/plain": [
       "<Figure size 1200x1000 with 2 Axes>"
      ]
     },
     "metadata": {},
     "output_type": "display_data"
    }
   ],
   "source": [
    "import seaborn as sns\n",
    "import matplotlib.pyplot as plt\n",
    "\n",
    "corr = filtered_df.corr()\n",
    "plt.figure(figsize=(12, 10))\n",
    "sns.heatmap(corr, cmap='coolwarm', center=0)"
   ]
  },
  {
   "cell_type": "code",
   "execution_count": 151,
   "id": "d636a0ae",
   "metadata": {},
   "outputs": [
    {
     "name": "stdout",
     "output_type": "stream",
     "text": [
      "            Variable1             Variable2  Correlation\n",
      "14       jungle_ratio     jungle_cs_per_min     0.980574\n",
      "229  vision_score_est  wards_placed_per_min     0.947711\n",
      "79      survivability                deaths     0.812137\n",
      "57         ka_per_min               assists     0.790342\n",
      "21       gold_per_min                 kills     0.785295\n",
      "35         xp_per_min          gold_per_min     0.762318\n",
      "36     damage_per_min                 kills     0.744366\n",
      "43     damage_per_min          gold_per_min     0.715656\n",
      "84      survivability                   KDA     0.703254\n"
     ]
    }
   ],
   "source": [
    "import pandas as pd\n",
    "\n",
    "# 상관계수 행렬\n",
    "corr_matrix = filtered_df.corr().abs()\n",
    "\n",
    "# 자기 자신과의 상관관계는 제외\n",
    "mask = np.triu(np.ones_like(corr_matrix, dtype=bool))  # 상삼각행렬 마스킹\n",
    "corr_matrix_masked = corr_matrix.mask(mask)\n",
    "\n",
    "# 기준 이상 (ex: 0.8 이상)인 변수쌍 추출\n",
    "high_corr_pairs = corr_matrix_masked.stack().reset_index()\n",
    "high_corr_pairs.columns = ['Variable1', 'Variable2', 'Correlation']\n",
    "high_corr_pairs = high_corr_pairs.sort_values(by='Correlation', ascending=False)\n",
    "\n",
    "# 0.8 이상인 경우만 필터링\n",
    "high_corr_pairs = high_corr_pairs[high_corr_pairs['Correlation'] >= 0.7]\n",
    "\n",
    "# 출력\n",
    "print(high_corr_pairs)"
   ]
  },
  {
   "cell_type": "code",
   "execution_count": 152,
   "id": "f992a7e2",
   "metadata": {},
   "outputs": [],
   "source": [
    "drop_col = ['jungle_ratio', 'vision_score_est', 'deaths', 'assists', 'kills']\n",
    "X_top = filtered_df.drop(columns=drop_col)"
   ]
  },
  {
   "cell_type": "code",
   "execution_count": 154,
   "id": "8ccb59cc",
   "metadata": {},
   "outputs": [
    {
     "name": "stdout",
     "output_type": "stream",
     "text": [
      "Empty DataFrame\n",
      "Columns: [Variable1, Variable2, Correlation]\n",
      "Index: []\n"
     ]
    }
   ],
   "source": [
    "# 상관계수 행렬\n",
    "corr_matrix = X_top.corr().abs()\n",
    "\n",
    "# 자기 자신과의 상관관계는 제외\n",
    "mask = np.triu(np.ones_like(corr_matrix, dtype=bool))  # 상삼각행렬 마스킹\n",
    "corr_matrix_masked = corr_matrix.mask(mask)\n",
    "\n",
    "# 기준 이상 (ex: 0.8 이상)인 변수쌍 추출\n",
    "high_corr_pairs = corr_matrix_masked.stack().reset_index()\n",
    "high_corr_pairs.columns = ['Variable1', 'Variable2', 'Correlation']\n",
    "high_corr_pairs = high_corr_pairs.sort_values(by='Correlation', ascending=False)\n",
    "\n",
    "# 0.8 이상인 경우만 필터링\n",
    "high_corr_pairs = high_corr_pairs[high_corr_pairs['Correlation'] >= 0.8]\n",
    "\n",
    "# 출력\n",
    "print(high_corr_pairs)"
   ]
  },
  {
   "cell_type": "code",
   "execution_count": 156,
   "id": "15f79115",
   "metadata": {},
   "outputs": [
    {
     "data": {
      "text/html": [
       "<div>\n",
       "<style scoped>\n",
       "    .dataframe tbody tr th:only-of-type {\n",
       "        vertical-align: middle;\n",
       "    }\n",
       "\n",
       "    .dataframe tbody tr th {\n",
       "        vertical-align: top;\n",
       "    }\n",
       "\n",
       "    .dataframe thead th {\n",
       "        text-align: right;\n",
       "    }\n",
       "</style>\n",
       "<table border=\"1\" class=\"dataframe\">\n",
       "  <thead>\n",
       "    <tr style=\"text-align: right;\">\n",
       "      <th></th>\n",
       "      <th>lane_cs_per_min</th>\n",
       "      <th>jungle_cs_per_min</th>\n",
       "      <th>KDA</th>\n",
       "      <th>gold_per_min</th>\n",
       "      <th>xp_per_min</th>\n",
       "      <th>damage_per_min</th>\n",
       "      <th>damage_taken_per_min</th>\n",
       "      <th>ka_per_min</th>\n",
       "      <th>damage_efficiency</th>\n",
       "      <th>survivability</th>\n",
       "      <th>healthregen_per_min</th>\n",
       "      <th>offensive_score</th>\n",
       "      <th>defensive_score</th>\n",
       "      <th>magic_score</th>\n",
       "      <th>total_vamp</th>\n",
       "      <th>wards_placed_per_min</th>\n",
       "      <th>wards_killed_per_min</th>\n",
       "    </tr>\n",
       "  </thead>\n",
       "  <tbody>\n",
       "    <tr>\n",
       "      <th>0</th>\n",
       "      <td>7.237928</td>\n",
       "      <td>0.122677</td>\n",
       "      <td>10.666667</td>\n",
       "      <td>521.345498</td>\n",
       "      <td>628.779658</td>\n",
       "      <td>1184.965351</td>\n",
       "      <td>1092.589762</td>\n",
       "      <td>0.981414</td>\n",
       "      <td>1.084547</td>\n",
       "      <td>0.333333</td>\n",
       "      <td>286.358193</td>\n",
       "      <td>541</td>\n",
       "      <td>293</td>\n",
       "      <td>0</td>\n",
       "      <td>0</td>\n",
       "      <td>0.276023</td>\n",
       "      <td>0.184015</td>\n",
       "    </tr>\n",
       "    <tr>\n",
       "      <th>2</th>\n",
       "      <td>7.115251</td>\n",
       "      <td>0.245353</td>\n",
       "      <td>2.090909</td>\n",
       "      <td>428.693886</td>\n",
       "      <td>550.205202</td>\n",
       "      <td>1149.419765</td>\n",
       "      <td>957.369320</td>\n",
       "      <td>0.705391</td>\n",
       "      <td>1.200602</td>\n",
       "      <td>0.090909</td>\n",
       "      <td>38.673844</td>\n",
       "      <td>383</td>\n",
       "      <td>203</td>\n",
       "      <td>344</td>\n",
       "      <td>0</td>\n",
       "      <td>0.306692</td>\n",
       "      <td>0.153346</td>\n",
       "    </tr>\n",
       "    <tr>\n",
       "      <th>5</th>\n",
       "      <td>5.091085</td>\n",
       "      <td>0.490707</td>\n",
       "      <td>1.363636</td>\n",
       "      <td>332.269964</td>\n",
       "      <td>431.638128</td>\n",
       "      <td>572.777724</td>\n",
       "      <td>1153.437428</td>\n",
       "      <td>0.460038</td>\n",
       "      <td>0.496583</td>\n",
       "      <td>0.090909</td>\n",
       "      <td>45.942441</td>\n",
       "      <td>540</td>\n",
       "      <td>308</td>\n",
       "      <td>0</td>\n",
       "      <td>0</td>\n",
       "      <td>0.368030</td>\n",
       "      <td>0.092008</td>\n",
       "    </tr>\n",
       "    <tr>\n",
       "      <th>6</th>\n",
       "      <td>2.821565</td>\n",
       "      <td>5.183092</td>\n",
       "      <td>4.555556</td>\n",
       "      <td>544.102034</td>\n",
       "      <td>577.378101</td>\n",
       "      <td>963.135127</td>\n",
       "      <td>1721.737450</td>\n",
       "      <td>1.257437</td>\n",
       "      <td>0.559397</td>\n",
       "      <td>0.111111</td>\n",
       "      <td>53.211038</td>\n",
       "      <td>624</td>\n",
       "      <td>328</td>\n",
       "      <td>0</td>\n",
       "      <td>0</td>\n",
       "      <td>0.092008</td>\n",
       "      <td>0.398699</td>\n",
       "    </tr>\n",
       "    <tr>\n",
       "      <th>7</th>\n",
       "      <td>4.907070</td>\n",
       "      <td>0.184015</td>\n",
       "      <td>2.888889</td>\n",
       "      <td>377.322999</td>\n",
       "      <td>458.320320</td>\n",
       "      <td>898.515151</td>\n",
       "      <td>1283.260094</td>\n",
       "      <td>0.797399</td>\n",
       "      <td>0.700182</td>\n",
       "      <td>0.111111</td>\n",
       "      <td>59.559560</td>\n",
       "      <td>430</td>\n",
       "      <td>274</td>\n",
       "      <td>0</td>\n",
       "      <td>0</td>\n",
       "      <td>0.245353</td>\n",
       "      <td>0.214684</td>\n",
       "    </tr>\n",
       "    <tr>\n",
       "      <th>...</th>\n",
       "      <td>...</td>\n",
       "      <td>...</td>\n",
       "      <td>...</td>\n",
       "      <td>...</td>\n",
       "      <td>...</td>\n",
       "      <td>...</td>\n",
       "      <td>...</td>\n",
       "      <td>...</td>\n",
       "      <td>...</td>\n",
       "      <td>...</td>\n",
       "      <td>...</td>\n",
       "      <td>...</td>\n",
       "      <td>...</td>\n",
       "      <td>...</td>\n",
       "      <td>...</td>\n",
       "      <td>...</td>\n",
       "      <td>...</td>\n",
       "    </tr>\n",
       "    <tr>\n",
       "      <th>8854</th>\n",
       "      <td>1.338791</td>\n",
       "      <td>0.000000</td>\n",
       "      <td>3.200000</td>\n",
       "      <td>249.221041</td>\n",
       "      <td>287.565380</td>\n",
       "      <td>447.362067</td>\n",
       "      <td>759.712240</td>\n",
       "      <td>0.549247</td>\n",
       "      <td>0.588857</td>\n",
       "      <td>0.200000</td>\n",
       "      <td>37.623452</td>\n",
       "      <td>202</td>\n",
       "      <td>152</td>\n",
       "      <td>90</td>\n",
       "      <td>0</td>\n",
       "      <td>1.338791</td>\n",
       "      <td>0.583575</td>\n",
       "    </tr>\n",
       "    <tr>\n",
       "      <th>8855</th>\n",
       "      <td>6.934249</td>\n",
       "      <td>0.000000</td>\n",
       "      <td>2.500000</td>\n",
       "      <td>400.847672</td>\n",
       "      <td>564.969683</td>\n",
       "      <td>736.849814</td>\n",
       "      <td>857.032027</td>\n",
       "      <td>0.514920</td>\n",
       "      <td>0.859769</td>\n",
       "      <td>0.166667</td>\n",
       "      <td>37.348828</td>\n",
       "      <td>287</td>\n",
       "      <td>238</td>\n",
       "      <td>407</td>\n",
       "      <td>0</td>\n",
       "      <td>0.205968</td>\n",
       "      <td>0.102984</td>\n",
       "    </tr>\n",
       "    <tr>\n",
       "      <th>8856</th>\n",
       "      <td>0.583575</td>\n",
       "      <td>5.183523</td>\n",
       "      <td>5.250000</td>\n",
       "      <td>464.114115</td>\n",
       "      <td>561.262262</td>\n",
       "      <td>682.131034</td>\n",
       "      <td>1720.586367</td>\n",
       "      <td>0.720887</td>\n",
       "      <td>0.396453</td>\n",
       "      <td>0.250000</td>\n",
       "      <td>43.699502</td>\n",
       "      <td>461</td>\n",
       "      <td>216</td>\n",
       "      <td>44</td>\n",
       "      <td>0</td>\n",
       "      <td>0.308952</td>\n",
       "      <td>0.411936</td>\n",
       "    </tr>\n",
       "    <tr>\n",
       "      <th>8857</th>\n",
       "      <td>9.302879</td>\n",
       "      <td>0.274624</td>\n",
       "      <td>4.400000</td>\n",
       "      <td>552.474303</td>\n",
       "      <td>688.722004</td>\n",
       "      <td>1090.839811</td>\n",
       "      <td>743.578096</td>\n",
       "      <td>0.755215</td>\n",
       "      <td>1.467014</td>\n",
       "      <td>0.200000</td>\n",
       "      <td>30.654875</td>\n",
       "      <td>422</td>\n",
       "      <td>246</td>\n",
       "      <td>470</td>\n",
       "      <td>0</td>\n",
       "      <td>0.377608</td>\n",
       "      <td>0.068656</td>\n",
       "    </tr>\n",
       "    <tr>\n",
       "      <th>8859</th>\n",
       "      <td>1.304463</td>\n",
       "      <td>0.000000</td>\n",
       "      <td>3.142857</td>\n",
       "      <td>295.254845</td>\n",
       "      <td>432.909993</td>\n",
       "      <td>262.334325</td>\n",
       "      <td>849.754498</td>\n",
       "      <td>0.755215</td>\n",
       "      <td>0.308718</td>\n",
       "      <td>0.142857</td>\n",
       "      <td>65.429105</td>\n",
       "      <td>289</td>\n",
       "      <td>319</td>\n",
       "      <td>44</td>\n",
       "      <td>0</td>\n",
       "      <td>1.029839</td>\n",
       "      <td>0.240296</td>\n",
       "    </tr>\n",
       "  </tbody>\n",
       "</table>\n",
       "<p>5787 rows × 17 columns</p>\n",
       "</div>"
      ],
      "text/plain": [
       "      lane_cs_per_min  jungle_cs_per_min        KDA  gold_per_min  xp_per_min  \\\n",
       "0            7.237928           0.122677  10.666667    521.345498  628.779658   \n",
       "2            7.115251           0.245353   2.090909    428.693886  550.205202   \n",
       "5            5.091085           0.490707   1.363636    332.269964  431.638128   \n",
       "6            2.821565           5.183092   4.555556    544.102034  577.378101   \n",
       "7            4.907070           0.184015   2.888889    377.322999  458.320320   \n",
       "...               ...                ...        ...           ...         ...   \n",
       "8854         1.338791           0.000000   3.200000    249.221041  287.565380   \n",
       "8855         6.934249           0.000000   2.500000    400.847672  564.969683   \n",
       "8856         0.583575           5.183523   5.250000    464.114115  561.262262   \n",
       "8857         9.302879           0.274624   4.400000    552.474303  688.722004   \n",
       "8859         1.304463           0.000000   3.142857    295.254845  432.909993   \n",
       "\n",
       "      damage_per_min  damage_taken_per_min  ka_per_min  damage_efficiency  \\\n",
       "0        1184.965351           1092.589762    0.981414           1.084547   \n",
       "2        1149.419765            957.369320    0.705391           1.200602   \n",
       "5         572.777724           1153.437428    0.460038           0.496583   \n",
       "6         963.135127           1721.737450    1.257437           0.559397   \n",
       "7         898.515151           1283.260094    0.797399           0.700182   \n",
       "...              ...                   ...         ...                ...   \n",
       "8854      447.362067            759.712240    0.549247           0.588857   \n",
       "8855      736.849814            857.032027    0.514920           0.859769   \n",
       "8856      682.131034           1720.586367    0.720887           0.396453   \n",
       "8857     1090.839811            743.578096    0.755215           1.467014   \n",
       "8859      262.334325            849.754498    0.755215           0.308718   \n",
       "\n",
       "      survivability  healthregen_per_min  offensive_score  defensive_score  \\\n",
       "0          0.333333           286.358193              541              293   \n",
       "2          0.090909            38.673844              383              203   \n",
       "5          0.090909            45.942441              540              308   \n",
       "6          0.111111            53.211038              624              328   \n",
       "7          0.111111            59.559560              430              274   \n",
       "...             ...                  ...              ...              ...   \n",
       "8854       0.200000            37.623452              202              152   \n",
       "8855       0.166667            37.348828              287              238   \n",
       "8856       0.250000            43.699502              461              216   \n",
       "8857       0.200000            30.654875              422              246   \n",
       "8859       0.142857            65.429105              289              319   \n",
       "\n",
       "      magic_score  total_vamp  wards_placed_per_min  wards_killed_per_min  \n",
       "0               0           0              0.276023              0.184015  \n",
       "2             344           0              0.306692              0.153346  \n",
       "5               0           0              0.368030              0.092008  \n",
       "6               0           0              0.092008              0.398699  \n",
       "7               0           0              0.245353              0.214684  \n",
       "...           ...         ...                   ...                   ...  \n",
       "8854           90           0              1.338791              0.583575  \n",
       "8855          407           0              0.205968              0.102984  \n",
       "8856           44           0              0.308952              0.411936  \n",
       "8857          470           0              0.377608              0.068656  \n",
       "8859           44           0              1.029839              0.240296  \n",
       "\n",
       "[5787 rows x 17 columns]"
      ]
     },
     "execution_count": 156,
     "metadata": {},
     "output_type": "execute_result"
    }
   ],
   "source": [
    "X_top"
   ]
  },
  {
   "cell_type": "markdown",
   "id": "88a302bc",
   "metadata": {},
   "source": [
    "# 유사도 분석\n",
    "- 일반 유저와 Top1000 유저 간의 유사도를 수치로 계산\n",
    "- 가장 유사한 상위 10~20명을 추출"
   ]
  },
  {
   "cell_type": "markdown",
   "id": "b3e9ea34",
   "metadata": {},
   "source": [
    "## 유사도 계산용 피처 선택\n",
    "- 유저의 게임 스타일을 구성하는 성능 지표\n",
    "\n",
    "카테고리 | 예시 지표 | 의미\n",
    "------ | ------- | ----\n",
    "성장 | CS/Min, Gold/Min, XP/Min | 파밍 능력\n",
    "전투 | KDA, KA/Min, Damage | 교전 참여도\n",
    "생존 | Survivability, Damage Efficiency | 얼마나 잘 살아남는가\n",
    "능력치 | offensive_score 등 | 스탯 종합\n",
    "시야 | wards_placed_per_min 등 | 맵 컨트롤 능력"
   ]
  },
  {
   "cell_type": "markdown",
   "id": "e2e7ae49",
   "metadata": {},
   "source": [
    "## 정규화 (Standard Scaler)\n",
    "- 모든 feature는 단위와 크기가 다르기 때문에, 정규화를 하지 않으면 왜곡된 유사도가 계산\n",
    "\n",
    "### 💡 StandardScaler 작동 방식     \n",
    "- 평균을 0으로, 표준편차를 1로 바꾸는 방식        \n",
    "    → 값의 분포가 동일한 기준에서 비교되도록 조정"
   ]
  },
  {
   "cell_type": "code",
   "execution_count": null,
   "id": "09868586",
   "metadata": {},
   "outputs": [],
   "source": [
    "from sklearn.preprocessing import StandardScaler\n",
    "\n",
    "# 일반 유저 하나 선택 (예: puuid 기반)\n",
    "# target_puuid = df_user['puuid'].sample(1).values[0]\n",
    "target_puuid = '1nry226Ys8jmA4IrYNRAqBOLA09dO_oisz6Din8AyUOowu80Mp3ggYKg3moP6BbiDD8d8fw9t-3IVw' \n",
    "X_target = merged_df[merged_df[\"puuid\"] == target_puuid][features].fillna(0).iloc[0:1]\n",
    "\n",
    "# 스케일링\n",
    "scaler = StandardScaler()\n",
    "scaler.fit(pd.concat([X_top, X_target]))  # 전체 기준으로 학습\n",
    "X_top_scaled = scaler.transform(X_top)\n",
    "X_target_scaled = scaler.transform(X_target)\n"
   ]
  },
  {
   "cell_type": "markdown",
   "id": "63f70083",
   "metadata": {},
   "source": [
    "## 유사도 계산 (Cosine Similarity)\n",
    "- 두 벡터(유저)의 방향이 얼마나 비슷한지를 보는 지표\n",
    "\n",
    "  - 모든 유저를 동일한 척도로 정규화\n",
    "\n",
    "  - 기준 유저와 Top 유저 각각의 \"플레이 스타일 유사도\"를 수치화\n",
    "\n",
    "  - 이제 정량적 비교가 가능해짐 → 추천, 시각화, 군집화 등 모두 이 위에서 진행됨"
   ]
  },
  {
   "cell_type": "code",
   "execution_count": 21,
   "id": "9ec1521a",
   "metadata": {},
   "outputs": [],
   "source": [
    "from sklearn.metrics.pairwise import cosine_similarity\n",
    "\n",
    "# 유사도 계산\n",
    "similarities = cosine_similarity(X_target_scaled, X_top_scaled)[0]  # 1행으로 나온 값\n"
   ]
  },
  {
   "cell_type": "markdown",
   "id": "ee8b7bef",
   "metadata": {},
   "source": [
    "## 유사도 상위 유저 추출\n",
    "- 기준 유저와 각 Top 유저 간의 유사도 배열"
   ]
  },
  {
   "cell_type": "code",
   "execution_count": 22,
   "id": "faf72381",
   "metadata": {},
   "outputs": [],
   "source": [
    "# 상위 유저 리스트 가져오기\n",
    "top_players = merged_df[merged_df[\"is_top1000\"] == True][[\"puuid\", \"game_id\", \"participant_id\"]].drop_duplicates()\n",
    "\n",
    "# 유사도 결과와 합치기\n",
    "top_players[\"similarity\"] = similarities\n",
    "\n",
    "# 상위 10명 추출\n",
    "top_similar_players = top_players.sort_values(\"similarity\", ascending=False).head(10)\n"
   ]
  },
  {
   "cell_type": "code",
   "execution_count": 23,
   "id": "bf2c9321",
   "metadata": {},
   "outputs": [
    {
     "name": "stdout",
     "output_type": "stream",
     "text": [
      "                                                  puuid     game_id  \\\n",
      "5908  N8s2Toz0lAW-qfSH3A0NufmmkZeVXQoqKYMDedmESurz6n...  7587157805   \n",
      "5323  JkAtetPeV8eLH-GNF14_7Z96cIMbONg0x-7yil5ZrhqURu...  7586075765   \n",
      "1815  _v3N7CJjg-9RvLsJjD-ciWb4ZtXdigRT2miD8SYenA7wnK...  7586550262   \n",
      "3148  0S7Qb-aNl4ZarGy2KldZFAAN4qum5qqCeGLJDv4vUn-d2V...  7587236000   \n",
      "4267  znTmuVKGw2_g_dApzVG2sId1sO0scMTJeeXryiMC-uNysp...  7586830524   \n",
      "4335  EVMY5lU8NxM93WsfJe1FH5irgp_daSX36OzDqSLmhoycEu...  7587377295   \n",
      "4541  BMLYrja7g84tXOAYN6an9UVxswRCySLhffkA_x8VKlFi-s...  7586513486   \n",
      "8122  mkuS-q15u1Xgel-8i20FgzR0qO16_5dV3IdJOiu6rGtQIm...  7587139551   \n",
      "2616  7UDpSRt0mNr-aRORdAY9-LXLEexD2goynSIcH63l2jRdYg...  7585750368   \n",
      "6485  Tjx_NecuU07AaxNwLyhT7sOX6kYjLTtSnwteY6g_jrpeya...  7587091839   \n",
      "\n",
      "      participant_id  similarity  \n",
      "5908               9    0.960658  \n",
      "5323               4    0.924943  \n",
      "1815               6    0.917098  \n",
      "3148               9    0.912967  \n",
      "4267               8    0.900781  \n",
      "4335               6    0.900137  \n",
      "4541               2    0.898521  \n",
      "8122               3    0.892245  \n",
      "2616               7    0.891860  \n",
      "6485               6    0.890804  \n"
     ]
    }
   ],
   "source": [
    "# 유사도(similarity)가 높은 상위 유저 10명 추출\n",
    "print(top_similar_players[[\"puuid\", \"game_id\", \"participant_id\", \"similarity\"]])\n"
   ]
  },
  {
   "cell_type": "markdown",
   "id": "db420dce",
   "metadata": {},
   "source": [
    "## 데이터 추출"
   ]
  },
  {
   "cell_type": "code",
   "execution_count": 24,
   "id": "7fabf596",
   "metadata": {},
   "outputs": [],
   "source": [
    "# export_df = top_similar_players[[\"puuid\", \"game_id\", \"participant_id\", \"similarity\"]]"
   ]
  },
  {
   "cell_type": "code",
   "execution_count": 25,
   "id": "a511fdce",
   "metadata": {},
   "outputs": [],
   "source": [
    "# export_df.to_csv(\"top_similar_users.csv\", index=False)\n"
   ]
  },
  {
   "cell_type": "markdown",
   "id": "ca493658",
   "metadata": {},
   "source": [
    "## 데이터 시각화"
   ]
  },
  {
   "cell_type": "markdown",
   "id": "d84cc049",
   "metadata": {},
   "source": [
    "### 2차원 좌표 생성 (PCA or t-SNE)\n",
    "#### 📌 PCA란?\n",
    "> PCA는 데이터의 가장 큰 **변동성(variance)** 을 유지하면서      \n",
    "> 고차원 데이터를 저차원으로 압축하는 수학 기법이야.\n",
    "\n",
    "- 데이터를 선형 조합하여 새로운 축(주성분)을 생성\n",
    "\n",
    "- 첫 번째 축: 데이터의 가장 큰 분산 방향\n",
    "\n",
    "- 두 번째 축: 그다음으로 큰 분산 방향 (첫 축과 직교)\n",
    "\n",
    "단계 | 설명\n",
    "--- | ---\n",
    "X_vis | 유사도 상위 10명의 원본 성능 데이터\n",
    "scaler.transform() | 앞에서 학습된 정규화 모델로 스케일링\n",
    "pca.fit_transform() | 정규화된 데이터를 2차원으로 압축 (x, y 좌표)"
   ]
  },
  {
   "cell_type": "code",
   "execution_count": 26,
   "id": "3680cc09",
   "metadata": {},
   "outputs": [],
   "source": [
    "from sklearn.decomposition import PCA\n",
    "\n",
    "# 해당 유저들만 필터링\n",
    "similar_puuids = top_similar_players[\"puuid\"].tolist()\n",
    "X_vis = merged_df[merged_df[\"puuid\"].isin(similar_puuids)][features].fillna(0)\n",
    "\n",
    "# PCA로 2D 압축\n",
    "pca = PCA(n_components=2)\n",
    "X_pca = pca.fit_transform(scaler.transform(X_vis))\n",
    "\n",
    "# 위치 + 메타데이터 결합\n",
    "plot_df = merged_df[merged_df[\"puuid\"].isin(similar_puuids)].copy()\n",
    "plot_df = plot_df.reset_index(drop=True)\n",
    "plot_df[\"x\"] = X_pca[:, 0]\n",
    "plot_df[\"y\"] = X_pca[:, 1]\n"
   ]
  },
  {
   "cell_type": "code",
   "execution_count": 27,
   "id": "082cca4a",
   "metadata": {},
   "outputs": [],
   "source": [
    "# similarity 정보 복원\n",
    "similarity_map = top_similar_players.set_index(\"puuid\")[\"similarity\"].to_dict()\n",
    "plot_df[\"similarity\"] = plot_df[\"puuid\"].map(similarity_map)\n"
   ]
  },
  {
   "cell_type": "markdown",
   "id": "043ccc41",
   "metadata": {},
   "source": [
    "#### 💡 PCA가 아니라 t-SNE는 안 썼는가?\n",
    "\n",
    "기법 | 설명 | 장단점\n",
    "--- | --- | ---\n",
    "PCA | 선형 변환, 빠름, 해석 가능 | 빠르고 간단, 큰 구조 보기 좋음\n",
    "t-SNE | 비선형, 국소적 구조 보존 | 군집 표현에 강하지만 느리고 전역 해석 어려움"
   ]
  },
  {
   "cell_type": "markdown",
   "id": "0e951c0c",
   "metadata": {},
   "source": [
    "### matplotlib + interactive 클릭 이벤트 시각화\n",
    "vscode에서는 matplotlib이 클릭이 작동이 안됌"
   ]
  },
  {
   "cell_type": "code",
   "execution_count": 28,
   "id": "7afe1e55",
   "metadata": {},
   "outputs": [
    {
     "data": {
      "image/png": "[encoded data removed]",
      "text/plain": [
       "<Figure size 1000x600 with 2 Axes>"
      ]
     },
     "metadata": {},
     "output_type": "display_data"
    }
   ],
   "source": [
    "import matplotlib.pyplot as plt\n",
    "\n",
    "fig, ax = plt.subplots(figsize=(10, 6))\n",
    "scatter = ax.scatter(plot_df[\"x\"], plot_df[\"y\"], c=plot_df[\"similarity\"], cmap=\"viridis\", s=100)\n",
    "\n",
    "# 텍스트 박스 준비\n",
    "annot = ax.annotate(\"\", xy=(0,0), xytext=(20,20), textcoords=\"offset points\",\n",
    "                    bbox=dict(boxstyle=\"round\", fc=\"w\"),\n",
    "                    arrowprops=dict(arrowstyle=\"->\"))\n",
    "annot.set_visible(False)\n",
    "\n",
    "# 클릭 시 작동할 함수 정의\n",
    "def update_annot(ind):\n",
    "    i = ind[\"ind\"][0]\n",
    "    row = plot_df.iloc[i]\n",
    "    text = f\"\"\"PUUID: {row['puuid']}\n",
    "                KDA: {row['KDA']:.2f}\n",
    "                CS/Min: {row['cs_per_min']:.2f}\n",
    "                Gold/Min: {row['gold_per_min']:.2f}\n",
    "                Damage/Min: {row['damage_per_min']:.2f}\n",
    "                Vision Score: {row['vision_score_est']}\n",
    "                Similarity: {row['similarity']:.2f}\n",
    "            \"\"\"\n",
    "    annot.xy = (row[\"x\"], row[\"y\"])\n",
    "    annot.set_text(text)\n",
    "    annot.get_bbox_patch().set_alpha(0.9)\n",
    "\n",
    "# 마우스 클릭 이벤트 연결\n",
    "def on_click(event):\n",
    "    vis = annot.get_visible()\n",
    "    if event.inaxes == ax:\n",
    "        cont, ind = scatter.contains(event)\n",
    "        if cont:\n",
    "            update_annot(ind)\n",
    "            annot.set_visible(True)\n",
    "            fig.canvas.draw_idle()\n",
    "        else:\n",
    "            if vis:\n",
    "                annot.set_visible(False)\n",
    "                fig.canvas.draw_idle()\n",
    "\n",
    "fig.canvas.mpl_connect(\"button_press_event\", on_click)\n",
    "\n",
    "# 기준 유저 좌표(★)\n",
    "target_row = merged_df[merged_df[\"puuid\"] == target_puuid].copy()\n",
    "target_scaled = scaler.transform(target_row[features].fillna(0))\n",
    "target_pca = pca.transform(target_scaled)\n",
    "ax.scatter(target_pca[:, 0], target_pca[:, 1], c=\"red\", marker=\"*\", s=200, label=\"Target User\")\n",
    "ax.legend()\n",
    "\n",
    "\n",
    "plt.title(\"Top Similar LoL Players (Click to View Info)\")\n",
    "plt.xlabel(\"PCA Dimension 1\")\n",
    "plt.ylabel(\"PCA Dimension 2\")\n",
    "plt.colorbar(scatter, label=\"Similarity\")\n",
    "plt.tight_layout()\n",
    "plt.show()"
   ]
  },
  {
   "cell_type": "markdown",
   "id": "d094ccfb",
   "metadata": {},
   "source": [
    "### 상대적 거리 좌표 생성 (유사도 → 거리 변환)\n",
    "기준 유저를 중심으로        \n",
    "유사도가 높을수록 가까운 거리,      \n",
    "       낮을수록 멀리 배치"
   ]
  },
  {
   "cell_type": "code",
   "execution_count": 29,
   "id": "3e45c553",
   "metadata": {},
   "outputs": [],
   "source": [
    "import numpy as np\n",
    "\n",
    "# 유사도 기반 거리 계산 (0~1 사이 → 가까울수록 유사함)\n",
    "top_similar_players[\"distance\"] = 1 - top_similar_players[\"similarity\"]\n",
    "\n",
    "# 간단한 원형 배치: 유사한 순서대로 각도를 나눠서 원 주변에 배치\n",
    "angles = np.linspace(0, 2 * np.pi, len(top_similar_players), endpoint=False)\n",
    "top_similar_players[\"x\"] = np.cos(angles) * top_similar_players[\"distance\"]\n",
    "top_similar_players[\"y\"] = np.sin(angles) * top_similar_players[\"distance\"]\n",
    "\n",
    "# 파생 지표 붙이기 (중복 제거 주의!)\n",
    "top_features = merged_df[[\"game_id\", \"participant_id\", \"KDA\", \"cs_per_min\", \"gold_per_min\"]].copy()\n",
    "top_similar_players = pd.merge(\n",
    "    top_similar_players,\n",
    "    top_features,\n",
    "    on=[\"game_id\", \"participant_id\"],\n",
    "    how=\"left\"\n",
    ")\n",
    "\n",
    "# 기준 유저 좌표 (항상 중심)\n",
    "target_user_df = pd.DataFrame({\n",
    "    \"puuid\": [target_puuid],\n",
    "    \"x\": [0.0],\n",
    "    \"y\": [0.0],\n",
    "    \"KDA\": merged_df.loc[merged_df[\"puuid\"] == target_puuid, \"KDA\"].values[0],\n",
    "    \"cs_per_min\": merged_df.loc[merged_df[\"puuid\"] == target_puuid, \"cs_per_min\"].values[0],\n",
    "    \"gold_per_min\": merged_df.loc[merged_df[\"puuid\"] == target_puuid, \"gold_per_min\"].values[0],\n",
    "    \"label\": [\"Target\"]\n",
    "})\n",
    "\n",
    "# 상위 유저 + 타겟 유저 병합\n",
    "top_similar_players[\"label\"] = \"Top\"\n",
    "plot_df = pd.concat([top_similar_players, target_user_df], ignore_index=True)\n"
   ]
  },
  {
   "cell_type": "code",
   "execution_count": 30,
   "id": "bfefcc4c",
   "metadata": {},
   "outputs": [],
   "source": [
    "# import plotly.express as px\n",
    "\n",
    "# # Plotly용 데이터 준비\n",
    "# fig = px.scatter(\n",
    "#     plot_df,\n",
    "#     x=\"x\", y=\"y\",\n",
    "#     color=\"similarity\",\n",
    "#     hover_data=[\"puuid\", \"KDA\", \"cs_per_min\", \"gold_per_min\", \"similarity\"],\n",
    "#     text=\"label\",\n",
    "#     color_continuous_scale=\"Viridis\",\n",
    "#     title=\"Similarity-based Positioning (Target User = Center)\"\n",
    "# )\n",
    "\n",
    "# # 기준 유저 강조 (색 없음, hover로만 표시됨)\n",
    "# fig.update_traces(marker=dict(size=14, line=dict(width=1, color='DarkSlateGrey')))\n",
    "\n",
    "# fig.show()\n"
   ]
  },
  {
   "cell_type": "markdown",
   "id": "cddecb73",
   "metadata": {},
   "source": [
    "### Plotly로 시각화\n",
    "- 기준 유저와 유사한 Top 유저들을 2D 공간에 배치하고    \n",
    "   유사도, KDA, CS/분 등의 정보를 마우스만으로 직관적으로 파악\n",
    "- 색상, 크기, 마커, 텍스트 등 시각 정보를 다차원적으로 표현\n",
    "\n"
   ]
  },
  {
   "cell_type": "code",
   "execution_count": 31,
   "id": "ea00d74c",
   "metadata": {},
   "outputs": [
    {
     "data": {
      "application/vnd.plotly.v1+json": {
       "config": {
        "plotlyServerURL": "https://plot.ly"
       },
       "data": [
        {
         "customdata": [
          [
           "N8s2Toz0lAW-qfSH3A0NufmmkZeVXQoqKYMDedmESurz6nYyw9a3mZJrv86FWwJhfrJvzm86fh6nqQ",
           3.3333333333333335,
           8.574889365937901,
           517.6115035438878,
           0.9606584593900177
          ],
          [
           "JkAtetPeV8eLH-GNF14_7Z96cIMbONg0x-7yil5ZrhqURu1J2aBCvTE4mgKK54Top4cV2_ZyomqDtA",
           5.166666666666667,
           8.571203190496952,
           519.0993800398497,
           0.9249429559292812
          ],
          [
           "_v3N7CJjg-9RvLsJjD-ciWb4ZtXdigRT2miD8SYenA7wnKNRaDu_8xnSAVAuM9SY0llbH5twTXb76Q",
           3.6666666666666665,
           6.632732535060524,
           471.2556466160502,
           0.9170976362145455
          ],
          [
           "0S7Qb-aNl4ZarGy2KldZFAAN4qum5qqCeGLJDv4vUn-d2VKjpeLmXgJMGSW8uzUWwxi38XE1rpw4dg",
           10,
           6.6060168558050005,
           591.4925861659246,
           0.9129668771647411
          ],
          [
           "znTmuVKGw2_g_dApzVG2sId1sO0scMTJeeXryiMC-uNysp_6Ns5tyDd7l-JtypWk1NRIMOAmE6sHKw",
           1.6,
           8.204456936827434,
           472.2120770307346,
           0.9007808618406882
          ],
          [
           "EVMY5lU8NxM93WsfJe1FH5irgp_daSX36OzDqSLmhoycEuynfYSCGtOHwsajrnAitJgUjNsCoGcCQw",
           3.4,
           8.544044729325378,
           474.74859416502517,
           0.9001374317462426
          ],
          [
           "BMLYrja7g84tXOAYN6an9UVxswRCySLhffkA_x8VKlFi-sx5fQXjSYPTsam2OaaXA984lzrj8IySTA",
           3.75,
           7.966531616053456,
           496.6774416244563,
           0.8985207443499628
          ],
          [
           "mkuS-q15u1Xgel-8i20FgzR0qO16_5dV3IdJOiu6rGtQIm6l0Of_YfL2QTsHrBY3mqOw2AwMpku6NA",
           4.4,
           8.686749959513335,
           496.3464719949596,
           0.8922449539270413
          ],
          [
           "7UDpSRt0mNr-aRORdAY9-LXLEexD2goynSIcH63l2jRdYgMp2dtNJYa7uONaudzREUYs8X0D0FodYQ",
           7.25,
           7.296867169759098,
           525.7518603866081,
           0.8918599669468047
          ],
          [
           "Tjx_NecuU07AaxNwLyhT7sOX6kYjLTtSnwteY6g_jrpeya-jSiK9xQEl3BnboE4UCMdGJtU_4gJSpw",
           3.1666666666666665,
           9.751681856522724,
           525.9736251980167,
           0.8908036639394334
          ],
          [
           "1nry226Ys8jmA4IrYNRAqBOLA09dO_oisz6Din8AyUOowu80Mp3ggYKg3moP6BbiDD8d8fw9t-3IVw",
           5.5,
           7.941692605259449,
           476.95699388432735,
           null
          ]
         ],
         "hovertemplate": "x=%{x}<br>y=%{y}<br>label=%{text}<br>puuid=%{customdata[0]}<br>KDA=%{customdata[1]}<br>cs_per_min=%{customdata[2]}<br>gold_per_min=%{customdata[3]}<br>similarity=%{marker.color}<extra></extra>",
         "legendgroup": "",
         "marker": {
          "color": [
           0.9606584593900177,
           0.9249429559292812,
           0.9170976362145455,
           0.9129668771647411,
           0.9007808618406882,
           0.9001374317462426,
           0.8985207443499628,
           0.8922449539270413,
           0.8918599669468047,
           0.8908036639394334,
           null
          ],
          "coloraxis": "coloraxis",
          "line": {
           "color": "DarkSlateGrey",
           "width": 1
          },
          "size": 14,
          "symbol": "circle"
         },
         "mode": "markers+text",
         "name": "",
         "orientation": "v",
         "showlegend": false,
         "text": [
          "Top",
          "Top",
          "Top",
          "Top",
          "Top",
          "Top",
          "Top",
          "Top",
          "Top",
          "Top",
          "Target"
         ],
         "type": "scatter",
         "x": [
          0.039341540609982295,
          0.06072242420076088,
          0.025618239283559628,
          -0.026894714029617295,
          -0.0802699689381191,
          -0.09986256825375739,
          -0.08209844239740002,
          -0.0332981404661997,
          0.03341710798570586,
          0.08834169159647623,
          0
         ],
         "xaxis": "x",
         "y": [
          0,
          0.04411742358543471,
          0.07884483329442782,
          0.0827734186059895,
          0.05831954615521286,
          1.2229637456659807e-17,
          -0.05964800988470951,
          -0.10248113873137188,
          -0.10284728310761469,
          -0.06418399594077381,
          0
         ],
         "yaxis": "y"
        },
        {
         "customdata": [
          [
           5.5,
           7.941692605259449,
           476.95699388432735
          ]
         ],
         "hovertemplate": "x=%{x}<br>y=%{y}<br>text=%{text}<br>KDA=%{customdata[0]}<br>cs_per_min=%{customdata[1]}<br>gold_per_min=%{customdata[2]}<extra></extra>",
         "legendgroup": "",
         "marker": {
          "color": "red",
          "size": 16,
          "symbol": "star"
         },
         "mode": "markers+text",
         "name": "",
         "orientation": "v",
         "showlegend": false,
         "text": [
          "You"
         ],
         "type": "scatter",
         "x": [
          0
         ],
         "xaxis": "x",
         "y": [
          0
         ],
         "yaxis": "y"
        }
       ],
       "layout": {
        "coloraxis": {
         "colorbar": {
          "title": {
           "text": "similarity"
          }
         },
         "colorscale": [
          [
           0,
           "#440154"
          ],
          [
           0.1111111111111111,
           "#482878"
          ],
          [
           0.2222222222222222,
           "#3e4989"
          ],
          [
           0.3333333333333333,
           "#31688e"
          ],
          [
           0.4444444444444444,
           "#26828e"
          ],
          [
           0.5555555555555556,
           "#1f9e89"
          ],
          [
           0.6666666666666666,
           "#35b779"
          ],
          [
           0.7777777777777778,
           "#6ece58"
          ],
          [
           0.8888888888888888,
           "#b5de2b"
          ],
          [
           1,
           "#fde725"
          ]
         ]
        },
        "legend": {
         "tracegroupgap": 0
        },
        "template": {
         "data": {
          "bar": [
           {
            "error_x": {
             "color": "#2a3f5f"
            },
            "error_y": {
             "color": "#2a3f5f"
            },
            "marker": {
             "line": {
              "color": "#E5ECF6",
              "width": 0.5
             },
             "pattern": {
              "fillmode": "overlay",
              "size": 10,
              "solidity": 0.2
             }
            },
            "type": "bar"
           }
          ],
          "barpolar": [
           {
            "marker": {
             "line": {
              "color": "#E5ECF6",
              "width": 0.5
             },
             "pattern": {
              "fillmode": "overlay",
              "size": 10,
              "solidity": 0.2
             }
            },
            "type": "barpolar"
           }
          ],
          "carpet": [
           {
            "aaxis": {
             "endlinecolor": "#2a3f5f",
             "gridcolor": "white",
             "linecolor": "white",
             "minorgridcolor": "white",
             "startlinecolor": "#2a3f5f"
            },
            "baxis": {
             "endlinecolor": "#2a3f5f",
             "gridcolor": "white",
             "linecolor": "white",
             "minorgridcolor": "white",
             "startlinecolor": "#2a3f5f"
            },
            "type": "carpet"
           }
          ],
          "choropleth": [
           {
            "colorbar": {
             "outlinewidth": 0,
             "ticks": ""
            },
            "type": "choropleth"
           }
          ],
          "contour": [
           {
            "colorbar": {
             "outlinewidth": 0,
             "ticks": ""
            },
            "colorscale": [
             [
              0,
              "#0d0887"
             ],
             [
              0.1111111111111111,
              "#46039f"
             ],
             [
              0.2222222222222222,
              "#7201a8"
             ],
             [
              0.3333333333333333,
              "#9c179e"
             ],
             [
              0.4444444444444444,
              "#bd3786"
             ],
             [
              0.5555555555555556,
              "#d8576b"
             ],
             [
              0.6666666666666666,
              "#ed7953"
             ],
             [
              0.7777777777777778,
              "#fb9f3a"
             ],
             [
              0.8888888888888888,
              "#fdca26"
             ],
             [
              1,
              "#f0f921"
             ]
            ],
            "type": "contour"
           }
          ],
          "contourcarpet": [
           {
            "colorbar": {
             "outlinewidth": 0,
             "ticks": ""
            },
            "type": "contourcarpet"
           }
          ],
          "heatmap": [
           {
            "colorbar": {
             "outlinewidth": 0,
             "ticks": ""
            },
            "colorscale": [
             [
              0,
              "#0d0887"
             ],
             [
              0.1111111111111111,
              "#46039f"
             ],
             [
              0.2222222222222222,
              "#7201a8"
             ],
             [
              0.3333333333333333,
              "#9c179e"
             ],
             [
              0.4444444444444444,
              "#bd3786"
             ],
             [
              0.5555555555555556,
              "#d8576b"
             ],
             [
              0.6666666666666666,
              "#ed7953"
             ],
             [
              0.7777777777777778,
              "#fb9f3a"
             ],
             [
              0.8888888888888888,
              "#fdca26"
             ],
             [
              1,
              "#f0f921"
             ]
            ],
            "type": "heatmap"
           }
          ],
          "heatmapgl": [
           {
            "colorbar": {
             "outlinewidth": 0,
             "ticks": ""
            },
            "colorscale": [
             [
              0,
              "#0d0887"
             ],
             [
              0.1111111111111111,
              "#46039f"
             ],
             [
              0.2222222222222222,
              "#7201a8"
             ],
             [
              0.3333333333333333,
              "#9c179e"
             ],
             [
              0.4444444444444444,
              "#bd3786"
             ],
             [
              0.5555555555555556,
              "#d8576b"
             ],
             [
              0.6666666666666666,
              "#ed7953"
             ],
             [
              0.7777777777777778,
              "#fb9f3a"
             ],
             [
              0.8888888888888888,
              "#fdca26"
             ],
             [
              1,
              "#f0f921"
             ]
            ],
            "type": "heatmapgl"
           }
          ],
          "histogram": [
           {
            "marker": {
             "pattern": {
              "fillmode": "overlay",
              "size": 10,
              "solidity": 0.2
             }
            },
            "type": "histogram"
           }
          ],
          "histogram2d": [
           {
            "colorbar": {
             "outlinewidth": 0,
             "ticks": ""
            },
            "colorscale": [
             [
              0,
              "#0d0887"
             ],
             [
              0.1111111111111111,
              "#46039f"
             ],
             [
              0.2222222222222222,
              "#7201a8"
             ],
             [
              0.3333333333333333,
              "#9c179e"
             ],
             [
              0.4444444444444444,
              "#bd3786"
             ],
             [
              0.5555555555555556,
              "#d8576b"
             ],
             [
              0.6666666666666666,
              "#ed7953"
             ],
             [
              0.7777777777777778,
              "#fb9f3a"
             ],
             [
              0.8888888888888888,
              "#fdca26"
             ],
             [
              1,
              "#f0f921"
             ]
            ],
            "type": "histogram2d"
           }
          ],
          "histogram2dcontour": [
           {
            "colorbar": {
             "outlinewidth": 0,
             "ticks": ""
            },
            "colorscale": [
             [
              0,
              "#0d0887"
             ],
             [
              0.1111111111111111,
              "#46039f"
             ],
             [
              0.2222222222222222,
              "#7201a8"
             ],
             [
              0.3333333333333333,
              "#9c179e"
             ],
             [
              0.4444444444444444,
              "#bd3786"
             ],
             [
              0.5555555555555556,
              "#d8576b"
             ],
             [
              0.6666666666666666,
              "#ed7953"
             ],
             [
              0.7777777777777778,
              "#fb9f3a"
             ],
             [
              0.8888888888888888,
              "#fdca26"
             ],
             [
              1,
              "#f0f921"
             ]
            ],
            "type": "histogram2dcontour"
           }
          ],
          "mesh3d": [
           {
            "colorbar": {
             "outlinewidth": 0,
             "ticks": ""
            },
            "type": "mesh3d"
           }
          ],
          "parcoords": [
           {
            "line": {
             "colorbar": {
              "outlinewidth": 0,
              "ticks": ""
             }
            },
            "type": "parcoords"
           }
          ],
          "pie": [
           {
            "automargin": true,
            "type": "pie"
           }
          ],
          "scatter": [
           {
            "fillpattern": {
             "fillmode": "overlay",
             "size": 10,
             "solidity": 0.2
            },
            "type": "scatter"
           }
          ],
          "scatter3d": [
           {
            "line": {
             "colorbar": {
              "outlinewidth": 0,
              "ticks": ""
             }
            },
            "marker": {
             "colorbar": {
              "outlinewidth": 0,
              "ticks": ""
             }
            },
            "type": "scatter3d"
           }
          ],
          "scattercarpet": [
           {
            "marker": {
             "colorbar": {
              "outlinewidth": 0,
              "ticks": ""
             }
            },
            "type": "scattercarpet"
           }
          ],
          "scattergeo": [
           {
            "marker": {
             "colorbar": {
              "outlinewidth": 0,
              "ticks": ""
             }
            },
            "type": "scattergeo"
           }
          ],
          "scattergl": [
           {
            "marker": {
             "colorbar": {
              "outlinewidth": 0,
              "ticks": ""
             }
            },
            "type": "scattergl"
           }
          ],
          "scattermapbox": [
           {
            "marker": {
             "colorbar": {
              "outlinewidth": 0,
              "ticks": ""
             }
            },
            "type": "scattermapbox"
           }
          ],
          "scatterpolar": [
           {
            "marker": {
             "colorbar": {
              "outlinewidth": 0,
              "ticks": ""
             }
            },
            "type": "scatterpolar"
           }
          ],
          "scatterpolargl": [
           {
            "marker": {
             "colorbar": {
              "outlinewidth": 0,
              "ticks": ""
             }
            },
            "type": "scatterpolargl"
           }
          ],
          "scatterternary": [
           {
            "marker": {
             "colorbar": {
              "outlinewidth": 0,
              "ticks": ""
             }
            },
            "type": "scatterternary"
           }
          ],
          "surface": [
           {
            "colorbar": {
             "outlinewidth": 0,
             "ticks": ""
            },
            "colorscale": [
             [
              0,
              "#0d0887"
             ],
             [
              0.1111111111111111,
              "#46039f"
             ],
             [
              0.2222222222222222,
              "#7201a8"
             ],
             [
              0.3333333333333333,
              "#9c179e"
             ],
             [
              0.4444444444444444,
              "#bd3786"
             ],
             [
              0.5555555555555556,
              "#d8576b"
             ],
             [
              0.6666666666666666,
              "#ed7953"
             ],
             [
              0.7777777777777778,
              "#fb9f3a"
             ],
             [
              0.8888888888888888,
              "#fdca26"
             ],
             [
              1,
              "#f0f921"
             ]
            ],
            "type": "surface"
           }
          ],
          "table": [
           {
            "cells": {
             "fill": {
              "color": "#EBF0F8"
             },
             "line": {
              "color": "white"
             }
            },
            "header": {
             "fill": {
              "color": "#C8D4E3"
             },
             "line": {
              "color": "white"
             }
            },
            "type": "table"
           }
          ]
         },
         "layout": {
          "annotationdefaults": {
           "arrowcolor": "#2a3f5f",
           "arrowhead": 0,
           "arrowwidth": 1
          },
          "autotypenumbers": "strict",
          "coloraxis": {
           "colorbar": {
            "outlinewidth": 0,
            "ticks": ""
           }
          },
          "colorscale": {
           "diverging": [
            [
             0,
             "#8e0152"
            ],
            [
             0.1,
             "#c51b7d"
            ],
            [
             0.2,
             "#de77ae"
            ],
            [
             0.3,
             "#f1b6da"
            ],
            [
             0.4,
             "#fde0ef"
            ],
            [
             0.5,
             "#f7f7f7"
            ],
            [
             0.6,
             "#e6f5d0"
            ],
            [
             0.7,
             "#b8e186"
            ],
            [
             0.8,
             "#7fbc41"
            ],
            [
             0.9,
             "#4d9221"
            ],
            [
             1,
             "#276419"
            ]
           ],
           "sequential": [
            [
             0,
             "#0d0887"
            ],
            [
             0.1111111111111111,
             "#46039f"
            ],
            [
             0.2222222222222222,
             "#7201a8"
            ],
            [
             0.3333333333333333,
             "#9c179e"
            ],
            [
             0.4444444444444444,
             "#bd3786"
            ],
            [
             0.5555555555555556,
             "#d8576b"
            ],
            [
             0.6666666666666666,
             "#ed7953"
            ],
            [
             0.7777777777777778,
             "#fb9f3a"
            ],
            [
             0.8888888888888888,
             "#fdca26"
            ],
            [
             1,
             "#f0f921"
            ]
           ],
           "sequentialminus": [
            [
             0,
             "#0d0887"
            ],
            [
             0.1111111111111111,
             "#46039f"
            ],
            [
             0.2222222222222222,
             "#7201a8"
            ],
            [
             0.3333333333333333,
             "#9c179e"
            ],
            [
             0.4444444444444444,
             "#bd3786"
            ],
            [
             0.5555555555555556,
             "#d8576b"
            ],
            [
             0.6666666666666666,
             "#ed7953"
            ],
            [
             0.7777777777777778,
             "#fb9f3a"
            ],
            [
             0.8888888888888888,
             "#fdca26"
            ],
            [
             1,
             "#f0f921"
            ]
           ]
          },
          "colorway": [
           "#636efa",
           "#EF553B",
           "#00cc96",
           "#ab63fa",
           "#FFA15A",
           "#19d3f3",
           "#FF6692",
           "#B6E880",
           "#FF97FF",
           "#FECB52"
          ],
          "font": {
           "color": "#2a3f5f"
          },
          "geo": {
           "bgcolor": "white",
           "lakecolor": "white",
           "landcolor": "#E5ECF6",
           "showlakes": true,
           "showland": true,
           "subunitcolor": "white"
          },
          "hoverlabel": {
           "align": "left"
          },
          "hovermode": "closest",
          "mapbox": {
           "style": "light"
          },
          "paper_bgcolor": "white",
          "plot_bgcolor": "#E5ECF6",
          "polar": {
           "angularaxis": {
            "gridcolor": "white",
            "linecolor": "white",
            "ticks": ""
           },
           "bgcolor": "#E5ECF6",
           "radialaxis": {
            "gridcolor": "white",
            "linecolor": "white",
            "ticks": ""
           }
          },
          "scene": {
           "xaxis": {
            "backgroundcolor": "#E5ECF6",
            "gridcolor": "white",
            "gridwidth": 2,
            "linecolor": "white",
            "showbackground": true,
            "ticks": "",
            "zerolinecolor": "white"
           },
           "yaxis": {
            "backgroundcolor": "#E5ECF6",
            "gridcolor": "white",
            "gridwidth": 2,
            "linecolor": "white",
            "showbackground": true,
            "ticks": "",
            "zerolinecolor": "white"
           },
           "zaxis": {
            "backgroundcolor": "#E5ECF6",
            "gridcolor": "white",
            "gridwidth": 2,
            "linecolor": "white",
            "showbackground": true,
            "ticks": "",
            "zerolinecolor": "white"
           }
          },
          "shapedefaults": {
           "line": {
            "color": "#2a3f5f"
           }
          },
          "ternary": {
           "aaxis": {
            "gridcolor": "white",
            "linecolor": "white",
            "ticks": ""
           },
           "baxis": {
            "gridcolor": "white",
            "linecolor": "white",
            "ticks": ""
           },
           "bgcolor": "#E5ECF6",
           "caxis": {
            "gridcolor": "white",
            "linecolor": "white",
            "ticks": ""
           }
          },
          "title": {
           "x": 0.05
          },
          "xaxis": {
           "automargin": true,
           "gridcolor": "white",
           "linecolor": "white",
           "ticks": "",
           "title": {
            "standoff": 15
           },
           "zerolinecolor": "white",
           "zerolinewidth": 2
          },
          "yaxis": {
           "automargin": true,
           "gridcolor": "white",
           "linecolor": "white",
           "ticks": "",
           "title": {
            "standoff": 15
           },
           "zerolinecolor": "white",
           "zerolinewidth": 2
          }
         }
        },
        "title": {
         "text": "Similarity-based Positioning (Target User = Center)"
        },
        "xaxis": {
         "anchor": "y",
         "domain": [
          0,
          1
         ],
         "title": {
          "text": "x"
         }
        },
        "yaxis": {
         "anchor": "x",
         "domain": [
          0,
          1
         ],
         "title": {
          "text": "y"
         }
        }
       }
      }
     },
     "metadata": {},
     "output_type": "display_data"
    }
   ],
   "source": [
    "# 기준 유저 따로 빨간 점으로 표시\n",
    "import plotly.express as px\n",
    "import plotly.graph_objects as go\n",
    "import plotly.express as px\n",
    "\n",
    "# Plotly용 데이터 준비\n",
    "fig = px.scatter(\n",
    "    plot_df,\n",
    "    x=\"x\", y=\"y\",\n",
    "    color=\"similarity\",\n",
    "    # 마우스를 올리면 나오는 정보\n",
    "    hover_data=[\"puuid\", \"KDA\", \"cs_per_min\", \"gold_per_min\", \"similarity\"],\n",
    "    text=\"label\",\n",
    "    color_continuous_scale=\"Viridis\",\n",
    "    title=\"Similarity-based Positioning (Target User = Center)\"\n",
    ")\n",
    "\n",
    "# 기준 유저 강조 (색 없음, hover로만 표시됨)\n",
    "fig.update_traces(marker=dict(size=14, line=dict(width=1, color='DarkSlateGrey')))\n",
    "\n",
    "\n",
    "target_trace = px.scatter(\n",
    "    target_user_df,\n",
    "    x=\"x\", y=\"y\",\n",
    "    hover_data=[\"KDA\", \"cs_per_min\", \"gold_per_min\"],\n",
    "    text=[\"You\"],\n",
    ")\n",
    "\n",
    "target_trace.update_traces(marker=dict(size=16, color='red', symbol='star'))\n",
    "fig.add_trace(target_trace.data[0])\n"
   ]
  },
  {
   "cell_type": "markdown",
   "id": "17333422",
   "metadata": {},
   "source": [
    "### 일반 유저 + 상위 유저 지표 비교 막대그래프 같이 그리기\n",
    "- 기준 유저(일반 유저)의 최근 10게임의 KDA 변화를 시각화\n",
    "\n",
    "- 상위 1000명 유저들의 평균 KDA 선과 비교\n",
    "\n",
    "- 사용자에게 실력의 흐름 + 상대적 수준을 한눈에 보여주는 것"
   ]
  },
  {
   "cell_type": "code",
   "execution_count": null,
   "id": "8ade1bd8",
   "metadata": {},
   "outputs": [
    {
     "data": {
      "application/vnd.plotly.v1+json": {
       "config": {
        "plotlyServerURL": "https://plot.ly"
       },
       "data": [
        {
         "marker": {
          "color": "royalblue"
         },
         "name": "Target User KDA",
         "type": "bar",
         "x": [
          "Game 1",
          "Game 2",
          "Game 3",
          "Game 4",
          "Game 5",
          "Game 6",
          "Game 7",
          "Game 8",
          "Game 9",
          "Game 10"
         ],
         "xaxis": "x",
         "y": [
          5,
          5.5,
          0.7272727272727273,
          5,
          0.5,
          1,
          5.75,
          2.1666666666666665,
          4,
          3.6666666666666665
         ],
         "yaxis": "y"
        },
        {
         "line": {
          "color": "red",
          "dash": "dash"
         },
         "name": "Top Players Avg KDA",
         "type": "scatter",
         "x": [
          "Game 1",
          "Game 2",
          "Game 3",
          "Game 4",
          "Game 5",
          "Game 6",
          "Game 7",
          "Game 8",
          "Game 9",
          "Game 10"
         ],
         "xaxis": "x",
         "y": [
          5.4767703734106625,
          5.4767703734106625,
          5.4767703734106625,
          5.4767703734106625,
          5.4767703734106625,
          5.4767703734106625,
          5.4767703734106625,
          5.4767703734106625,
          5.4767703734106625,
          5.4767703734106625
         ],
         "yaxis": "y"
        },
        {
         "marker": {
          "color": "seagreen"
         },
         "name": "Target User CS/Min",
         "type": "bar",
         "x": [
          "Game 1",
          "Game 2",
          "Game 3",
          "Game 4",
          "Game 5",
          "Game 6",
          "Game 7",
          "Game 8",
          "Game 9",
          "Game 10"
         ],
         "xaxis": "x2",
         "y": [
          7.913284470267152,
          7.941692605259449,
          5.475141816568888,
          8.652097555070334,
          8.60663411621584,
          6.7140521099119885,
          7.455820590185128,
          6.499328084170122,
          8.11942452915298,
          7.2244509417284295
         ],
         "yaxis": "y2"
        },
        {
         "line": {
          "color": "orange",
          "dash": "dash"
         },
         "name": "Top Players Avg CS/Min",
         "type": "scatter",
         "x": [
          "Game 1",
          "Game 2",
          "Game 3",
          "Game 4",
          "Game 5",
          "Game 6",
          "Game 7",
          "Game 8",
          "Game 9",
          "Game 10"
         ],
         "xaxis": "x2",
         "y": [
          6.032137624256394,
          6.032137624256394,
          6.032137624256394,
          6.032137624256394,
          6.032137624256394,
          6.032137624256394,
          6.032137624256394,
          6.032137624256394,
          6.032137624256394,
          6.032137624256394
         ],
         "yaxis": "y2"
        }
       ],
       "layout": {
        "annotations": [
         {
          "font": {
           "size": 16
          },
          "showarrow": false,
          "text": "KDA vs Top Avg",
          "x": 0.225,
          "xanchor": "center",
          "xref": "paper",
          "y": 1,
          "yanchor": "bottom",
          "yref": "paper"
         },
         {
          "font": {
           "size": 16
          },
          "showarrow": false,
          "text": "CS per Min vs Top Avg",
          "x": 0.775,
          "xanchor": "center",
          "xref": "paper",
          "y": 1,
          "yanchor": "bottom",
          "yref": "paper"
         }
        ],
        "showlegend": true,
        "template": {
         "data": {
          "bar": [
           {
            "error_x": {
             "color": "#2a3f5f"
            },
            "error_y": {
             "color": "#2a3f5f"
            },
            "marker": {
             "line": {
              "color": "white",
              "width": 0.5
             },
             "pattern": {
              "fillmode": "overlay",
              "size": 10,
              "solidity": 0.2
             }
            },
            "type": "bar"
           }
          ],
          "barpolar": [
           {
            "marker": {
             "line": {
              "color": "white",
              "width": 0.5
             },
             "pattern": {
              "fillmode": "overlay",
              "size": 10,
              "solidity": 0.2
             }
            },
            "type": "barpolar"
           }
          ],
          "carpet": [
           {
            "aaxis": {
             "endlinecolor": "#2a3f5f",
             "gridcolor": "#C8D4E3",
             "linecolor": "#C8D4E3",
             "minorgridcolor": "#C8D4E3",
             "startlinecolor": "#2a3f5f"
            },
            "baxis": {
             "endlinecolor": "#2a3f5f",
             "gridcolor": "#C8D4E3",
             "linecolor": "#C8D4E3",
             "minorgridcolor": "#C8D4E3",
             "startlinecolor": "#2a3f5f"
            },
            "type": "carpet"
           }
          ],
          "choropleth": [
           {
            "colorbar": {
             "outlinewidth": 0,
             "ticks": ""
            },
            "type": "choropleth"
           }
          ],
          "contour": [
           {
            "colorbar": {
             "outlinewidth": 0,
             "ticks": ""
            },
            "colorscale": [
             [
              0,
              "#0d0887"
             ],
             [
              0.1111111111111111,
              "#46039f"
             ],
             [
              0.2222222222222222,
              "#7201a8"
             ],
             [
              0.3333333333333333,
              "#9c179e"
             ],
             [
              0.4444444444444444,
              "#bd3786"
             ],
             [
              0.5555555555555556,
              "#d8576b"
             ],
             [
              0.6666666666666666,
              "#ed7953"
             ],
             [
              0.7777777777777778,
              "#fb9f3a"
             ],
             [
              0.8888888888888888,
              "#fdca26"
             ],
             [
              1,
              "#f0f921"
             ]
            ],
            "type": "contour"
           }
          ],
          "contourcarpet": [
           {
            "colorbar": {
             "outlinewidth": 0,
             "ticks": ""
            },
            "type": "contourcarpet"
           }
          ],
          "heatmap": [
           {
            "colorbar": {
             "outlinewidth": 0,
             "ticks": ""
            },
            "colorscale": [
             [
              0,
              "#0d0887"
             ],
             [
              0.1111111111111111,
              "#46039f"
             ],
             [
              0.2222222222222222,
              "#7201a8"
             ],
             [
              0.3333333333333333,
              "#9c179e"
             ],
             [
              0.4444444444444444,
              "#bd3786"
             ],
             [
              0.5555555555555556,
              "#d8576b"
             ],
             [
              0.6666666666666666,
              "#ed7953"
             ],
             [
              0.7777777777777778,
              "#fb9f3a"
             ],
             [
              0.8888888888888888,
              "#fdca26"
             ],
             [
              1,
              "#f0f921"
             ]
            ],
            "type": "heatmap"
           }
          ],
          "heatmapgl": [
           {
            "colorbar": {
             "outlinewidth": 0,
             "ticks": ""
            },
            "colorscale": [
             [
              0,
              "#0d0887"
             ],
             [
              0.1111111111111111,
              "#46039f"
             ],
             [
              0.2222222222222222,
              "#7201a8"
             ],
             [
              0.3333333333333333,
              "#9c179e"
             ],
             [
              0.4444444444444444,
              "#bd3786"
             ],
             [
              0.5555555555555556,
              "#d8576b"
             ],
             [
              0.6666666666666666,
              "#ed7953"
             ],
             [
              0.7777777777777778,
              "#fb9f3a"
             ],
             [
              0.8888888888888888,
              "#fdca26"
             ],
             [
              1,
              "#f0f921"
             ]
            ],
            "type": "heatmapgl"
           }
          ],
          "histogram": [
           {
            "marker": {
             "pattern": {
              "fillmode": "overlay",
              "size": 10,
              "solidity": 0.2
             }
            },
            "type": "histogram"
           }
          ],
          "histogram2d": [
           {
            "colorbar": {
             "outlinewidth": 0,
             "ticks": ""
            },
            "colorscale": [
             [
              0,
              "#0d0887"
             ],
             [
              0.1111111111111111,
              "#46039f"
             ],
             [
              0.2222222222222222,
              "#7201a8"
             ],
             [
              0.3333333333333333,
              "#9c179e"
             ],
             [
              0.4444444444444444,
              "#bd3786"
             ],
             [
              0.5555555555555556,
              "#d8576b"
             ],
             [
              0.6666666666666666,
              "#ed7953"
             ],
             [
              0.7777777777777778,
              "#fb9f3a"
             ],
             [
              0.8888888888888888,
              "#fdca26"
             ],
             [
              1,
              "#f0f921"
             ]
            ],
            "type": "histogram2d"
           }
          ],
          "histogram2dcontour": [
           {
            "colorbar": {
             "outlinewidth": 0,
             "ticks": ""
            },
            "colorscale": [
             [
              0,
              "#0d0887"
             ],
             [
              0.1111111111111111,
              "#46039f"
             ],
             [
              0.2222222222222222,
              "#7201a8"
             ],
             [
              0.3333333333333333,
              "#9c179e"
             ],
             [
              0.4444444444444444,
              "#bd3786"
             ],
             [
              0.5555555555555556,
              "#d8576b"
             ],
             [
              0.6666666666666666,
              "#ed7953"
             ],
             [
              0.7777777777777778,
              "#fb9f3a"
             ],
             [
              0.8888888888888888,
              "#fdca26"
             ],
             [
              1,
              "#f0f921"
             ]
            ],
            "type": "histogram2dcontour"
           }
          ],
          "mesh3d": [
           {
            "colorbar": {
             "outlinewidth": 0,
             "ticks": ""
            },
            "type": "mesh3d"
           }
          ],
          "parcoords": [
           {
            "line": {
             "colorbar": {
              "outlinewidth": 0,
              "ticks": ""
             }
            },
            "type": "parcoords"
           }
          ],
          "pie": [
           {
            "automargin": true,
            "type": "pie"
           }
          ],
          "scatter": [
           {
            "fillpattern": {
             "fillmode": "overlay",
             "size": 10,
             "solidity": 0.2
            },
            "type": "scatter"
           }
          ],
          "scatter3d": [
           {
            "line": {
             "colorbar": {
              "outlinewidth": 0,
              "ticks": ""
             }
            },
            "marker": {
             "colorbar": {
              "outlinewidth": 0,
              "ticks": ""
             }
            },
            "type": "scatter3d"
           }
          ],
          "scattercarpet": [
           {
            "marker": {
             "colorbar": {
              "outlinewidth": 0,
              "ticks": ""
             }
            },
            "type": "scattercarpet"
           }
          ],
          "scattergeo": [
           {
            "marker": {
             "colorbar": {
              "outlinewidth": 0,
              "ticks": ""
             }
            },
            "type": "scattergeo"
           }
          ],
          "scattergl": [
           {
            "marker": {
             "colorbar": {
              "outlinewidth": 0,
              "ticks": ""
             }
            },
            "type": "scattergl"
           }
          ],
          "scattermapbox": [
           {
            "marker": {
             "colorbar": {
              "outlinewidth": 0,
              "ticks": ""
             }
            },
            "type": "scattermapbox"
           }
          ],
          "scatterpolar": [
           {
            "marker": {
             "colorbar": {
              "outlinewidth": 0,
              "ticks": ""
             }
            },
            "type": "scatterpolar"
           }
          ],
          "scatterpolargl": [
           {
            "marker": {
             "colorbar": {
              "outlinewidth": 0,
              "ticks": ""
             }
            },
            "type": "scatterpolargl"
           }
          ],
          "scatterternary": [
           {
            "marker": {
             "colorbar": {
              "outlinewidth": 0,
              "ticks": ""
             }
            },
            "type": "scatterternary"
           }
          ],
          "surface": [
           {
            "colorbar": {
             "outlinewidth": 0,
             "ticks": ""
            },
            "colorscale": [
             [
              0,
              "#0d0887"
             ],
             [
              0.1111111111111111,
              "#46039f"
             ],
             [
              0.2222222222222222,
              "#7201a8"
             ],
             [
              0.3333333333333333,
              "#9c179e"
             ],
             [
              0.4444444444444444,
              "#bd3786"
             ],
             [
              0.5555555555555556,
              "#d8576b"
             ],
             [
              0.6666666666666666,
              "#ed7953"
             ],
             [
              0.7777777777777778,
              "#fb9f3a"
             ],
             [
              0.8888888888888888,
              "#fdca26"
             ],
             [
              1,
              "#f0f921"
             ]
            ],
            "type": "surface"
           }
          ],
          "table": [
           {
            "cells": {
             "fill": {
              "color": "#EBF0F8"
             },
             "line": {
              "color": "white"
             }
            },
            "header": {
             "fill": {
              "color": "#C8D4E3"
             },
             "line": {
              "color": "white"
             }
            },
            "type": "table"
           }
          ]
         },
         "layout": {
          "annotationdefaults": {
           "arrowcolor": "#2a3f5f",
           "arrowhead": 0,
           "arrowwidth": 1
          },
          "autotypenumbers": "strict",
          "coloraxis": {
           "colorbar": {
            "outlinewidth": 0,
            "ticks": ""
           }
          },
          "colorscale": {
           "diverging": [
            [
             0,
             "#8e0152"
            ],
            [
             0.1,
             "#c51b7d"
            ],
            [
             0.2,
             "#de77ae"
            ],
            [
             0.3,
             "#f1b6da"
            ],
            [
             0.4,
             "#fde0ef"
            ],
            [
             0.5,
             "#f7f7f7"
            ],
            [
             0.6,
             "#e6f5d0"
            ],
            [
             0.7,
             "#b8e186"
            ],
            [
             0.8,
             "#7fbc41"
            ],
            [
             0.9,
             "#4d9221"
            ],
            [
             1,
             "#276419"
            ]
           ],
           "sequential": [
            [
             0,
             "#0d0887"
            ],
            [
             0.1111111111111111,
             "#46039f"
            ],
            [
             0.2222222222222222,
             "#7201a8"
            ],
            [
             0.3333333333333333,
             "#9c179e"
            ],
            [
             0.4444444444444444,
             "#bd3786"
            ],
            [
             0.5555555555555556,
             "#d8576b"
            ],
            [
             0.6666666666666666,
             "#ed7953"
            ],
            [
             0.7777777777777778,
             "#fb9f3a"
            ],
            [
             0.8888888888888888,
             "#fdca26"
            ],
            [
             1,
             "#f0f921"
            ]
           ],
           "sequentialminus": [
            [
             0,
             "#0d0887"
            ],
            [
             0.1111111111111111,
             "#46039f"
            ],
            [
             0.2222222222222222,
             "#7201a8"
            ],
            [
             0.3333333333333333,
             "#9c179e"
            ],
            [
             0.4444444444444444,
             "#bd3786"
            ],
            [
             0.5555555555555556,
             "#d8576b"
            ],
            [
             0.6666666666666666,
             "#ed7953"
            ],
            [
             0.7777777777777778,
             "#fb9f3a"
            ],
            [
             0.8888888888888888,
             "#fdca26"
            ],
            [
             1,
             "#f0f921"
            ]
           ]
          },
          "colorway": [
           "#636efa",
           "#EF553B",
           "#00cc96",
           "#ab63fa",
           "#FFA15A",
           "#19d3f3",
           "#FF6692",
           "#B6E880",
           "#FF97FF",
           "#FECB52"
          ],
          "font": {
           "color": "#2a3f5f"
          },
          "geo": {
           "bgcolor": "white",
           "lakecolor": "white",
           "landcolor": "white",
           "showlakes": true,
           "showland": true,
           "subunitcolor": "#C8D4E3"
          },
          "hoverlabel": {
           "align": "left"
          },
          "hovermode": "closest",
          "mapbox": {
           "style": "light"
          },
          "paper_bgcolor": "white",
          "plot_bgcolor": "white",
          "polar": {
           "angularaxis": {
            "gridcolor": "#EBF0F8",
            "linecolor": "#EBF0F8",
            "ticks": ""
           },
           "bgcolor": "white",
           "radialaxis": {
            "gridcolor": "#EBF0F8",
            "linecolor": "#EBF0F8",
            "ticks": ""
           }
          },
          "scene": {
           "xaxis": {
            "backgroundcolor": "white",
            "gridcolor": "#DFE8F3",
            "gridwidth": 2,
            "linecolor": "#EBF0F8",
            "showbackground": true,
            "ticks": "",
            "zerolinecolor": "#EBF0F8"
           },
           "yaxis": {
            "backgroundcolor": "white",
            "gridcolor": "#DFE8F3",
            "gridwidth": 2,
            "linecolor": "#EBF0F8",
            "showbackground": true,
            "ticks": "",
            "zerolinecolor": "#EBF0F8"
           },
           "zaxis": {
            "backgroundcolor": "white",
            "gridcolor": "#DFE8F3",
            "gridwidth": 2,
            "linecolor": "#EBF0F8",
            "showbackground": true,
            "ticks": "",
            "zerolinecolor": "#EBF0F8"
           }
          },
          "shapedefaults": {
           "line": {
            "color": "#2a3f5f"
           }
          },
          "ternary": {
           "aaxis": {
            "gridcolor": "#DFE8F3",
            "linecolor": "#A2B1C6",
            "ticks": ""
           },
           "baxis": {
            "gridcolor": "#DFE8F3",
            "linecolor": "#A2B1C6",
            "ticks": ""
           },
           "bgcolor": "white",
           "caxis": {
            "gridcolor": "#DFE8F3",
            "linecolor": "#A2B1C6",
            "ticks": ""
           }
          },
          "title": {
           "x": 0.05
          },
          "xaxis": {
           "automargin": true,
           "gridcolor": "#EBF0F8",
           "linecolor": "#EBF0F8",
           "ticks": "",
           "title": {
            "standoff": 15
           },
           "zerolinecolor": "#EBF0F8",
           "zerolinewidth": 2
          },
          "yaxis": {
           "automargin": true,
           "gridcolor": "#EBF0F8",
           "linecolor": "#EBF0F8",
           "ticks": "",
           "title": {
            "standoff": 15
           },
           "zerolinecolor": "#EBF0F8",
           "zerolinewidth": 2
          }
         }
        },
        "title": {
         "text": "Recent 10 Games Comparison: KDA vs CS per Min"
        },
        "xaxis": {
         "anchor": "y",
         "domain": [
          0,
          0.45
         ],
         "title": {
          "text": "Game"
         }
        },
        "xaxis2": {
         "anchor": "y2",
         "domain": [
          0.55,
          1
         ],
         "title": {
          "text": "Game"
         }
        },
        "yaxis": {
         "anchor": "x",
         "domain": [
          0,
          1
         ],
         "title": {
          "text": "KDA"
         }
        },
        "yaxis2": {
         "anchor": "x2",
         "domain": [
          0,
          1
         ],
         "title": {
          "text": "CS per Min"
         }
        }
       }
      }
     },
     "metadata": {},
     "output_type": "display_data"
    }
   ],
   "source": [
    "# import plotly.graph_objects as go\n",
    "# from plotly.subplots import make_subplots\n",
    "# import pandas as pd\n",
    "\n",
    "# # 1. 기준 유저 게임 가져오기\n",
    "# user_games = merged_df[(merged_df[\"puuid\"] == target_puuid)].copy()\n",
    "# user_games = user_games.sort_values(\"game_id\", ascending=False).head(10)\n",
    "\n",
    "# # 2. KDA 데이터 부족 시 채우기 (0으로)\n",
    "# kda_values = user_games[\"KDA\"].tolist()\n",
    "# kda_values += [0] * (10 - len(kda_values))  # 10게임 채우기\n",
    "\n",
    "# # 2-1 CS 데이터 부족 시 채우기\n",
    "# cs_values = user_games[\"cs_per_min\"].tolist()\n",
    "# cs_values += [0] * (10 - len(cs_values))\n",
    "\n",
    "\n",
    "# # 3. x축 레이블\n",
    "# x_labels = [f\"Game {i+1}\" for i in range(10)]\n",
    "\n",
    "# # 4. Top 평균 KDA\n",
    "# top_avg_kda = merged_df[merged_df[\"is_top1000\"] == True][\"KDA\"].mean()\n",
    "\n",
    "# # 4-1. Top 평균 CS\n",
    "# top_avg_cs = merged_df[merged_df[\"is_top1000\"] == True][\"cs_per_min\"].mean()\n",
    "\n",
    "\n",
    "# # # 5. 그래프 생성\n",
    "# # fig = go.Figure()\n",
    "\n",
    "# # # 유저 KDA 막대\n",
    "# # fig.add_trace(go.Bar(\n",
    "# #     x=x_labels,\n",
    "# #     y=kda_values,\n",
    "# #     name=\"Target User KDA\",\n",
    "# #     marker_color='royalblue'\n",
    "# # ))\n",
    "\n",
    "# # # Top 유저 평균 선\n",
    "# # fig.add_trace(go.Scatter(\n",
    "# #     x=x_labels,\n",
    "# #     y=[top_avg_kda] * 10,\n",
    "# #     name=\"Top Players Avg KDA\",\n",
    "# #     mode='lines',\n",
    "# #     line=dict(color='red', dash='dash')\n",
    "# # ))\n",
    "\n",
    "# # fig.update_layout(\n",
    "# #     title=\"Recent 10 Games KDA vs Top Player Avg KDA\",\n",
    "# #     xaxis_title=\"Game\",\n",
    "# #     yaxis_title=\"KDA\",\n",
    "# #     barmode='group',\n",
    "# #     template='plotly_white'\n",
    "# # )\n",
    "\n",
    "# # fig.show()\n",
    "\n",
    "# # 두 개의 서브플롯 생성 (1행 2열)\n",
    "# fig = make_subplots(\n",
    "#     rows=1, cols=2, subplot_titles=(\"KDA vs Top Avg\", \"CS per Min vs Top Avg\")\n",
    "# )\n",
    "\n",
    "# # Target 유저 데이터\n",
    "# fig.add_trace(\n",
    "#     go.Bar(x=x_labels, y=kda_values, name=\"Target User KDA\", marker_color=\"royalblue\"),\n",
    "#     row=1,\n",
    "#     col=1,\n",
    "# )\n",
    "# fig.add_trace(\n",
    "#     go.Scatter(\n",
    "#         x=x_labels,\n",
    "#         y=[top_avg_kda] * 10,\n",
    "#         name=\"Top Players Avg KDA\",\n",
    "#         line=dict(color=\"red\", dash=\"dash\"),\n",
    "#     ),\n",
    "#     row=1,\n",
    "#     col=1,\n",
    "# )\n",
    "\n",
    "# fig.add_trace(\n",
    "#     go.Bar(x=x_labels, y=cs_values, name=\"Target User CS/Min\", marker_color=\"seagreen\"),\n",
    "#     row=1,\n",
    "#     col=2,\n",
    "# )\n",
    "# fig.add_trace(\n",
    "#     go.Scatter(\n",
    "#         x=x_labels,\n",
    "#         y=[top_avg_cs] * 10,\n",
    "#         name=\"Top Players Avg CS/Min\",\n",
    "#         line=dict(color=\"orange\", dash=\"dash\"),\n",
    "#     ),\n",
    "#     row=1,\n",
    "#     col=2,\n",
    "# )\n",
    "\n",
    "# # 레이아웃 설정\n",
    "# fig.update_layout(\n",
    "#     title_text=\"Recent 10 Games Comparison: KDA vs CS per Min\",\n",
    "#     template=\"plotly_white\",\n",
    "#     showlegend=True,\n",
    "# )\n",
    "\n",
    "# # 축 레이블 개별 설정\n",
    "# fig.update_xaxes(title_text=\"Game\", row=1, col=1)\n",
    "# fig.update_yaxes(title_text=\"KDA\", row=1, col=1)\n",
    "\n",
    "# fig.update_xaxes(title_text=\"Game\", row=1, col=2)\n",
    "# fig.update_yaxes(title_text=\"CS per Min\", row=1, col=2)\n",
    "\n",
    "# fig.show()"
   ]
  },
  {
   "cell_type": "code",
   "execution_count": 34,
   "id": "87b6b7c8",
   "metadata": {},
   "outputs": [
    {
     "data": {
      "application/vnd.plotly.v1+json": {
       "config": {
        "plotlyServerURL": "https://plot.ly"
       },
       "data": [
        {
         "marker": {
          "color": "royalblue"
         },
         "name": "KDA",
         "type": "bar",
         "x": [
          "Game 1",
          "Game 2",
          "Game 3",
          "Game 4",
          "Game 5",
          "Game 6",
          "Game 7",
          "Game 8",
          "Game 9",
          "Game 10"
         ],
         "xaxis": "x",
         "y": [
          5,
          5.5,
          0.7272727272727273,
          5,
          0.5,
          1,
          5.75,
          2.1666666666666665,
          4,
          3.6666666666666665
         ],
         "yaxis": "y"
        },
        {
         "line": {
          "color": "red",
          "dash": "dash"
         },
         "name": "Top Avg KDA",
         "type": "scatter",
         "x": [
          "Game 1",
          "Game 2",
          "Game 3",
          "Game 4",
          "Game 5",
          "Game 6",
          "Game 7",
          "Game 8",
          "Game 9",
          "Game 10"
         ],
         "xaxis": "x",
         "y": [
          5.4767703734106625,
          5.4767703734106625,
          5.4767703734106625,
          5.4767703734106625,
          5.4767703734106625,
          5.4767703734106625,
          5.4767703734106625,
          5.4767703734106625,
          5.4767703734106625,
          5.4767703734106625
         ],
         "yaxis": "y"
        },
        {
         "marker": {
          "color": "seagreen"
         },
         "name": "CS/Min",
         "type": "bar",
         "x": [
          "Game 1",
          "Game 2",
          "Game 3",
          "Game 4",
          "Game 5",
          "Game 6",
          "Game 7",
          "Game 8",
          "Game 9",
          "Game 10"
         ],
         "xaxis": "x2",
         "y": [
          7.913284470267152,
          7.941692605259449,
          5.475141816568888,
          8.652097555070334,
          8.60663411621584,
          6.7140521099119885,
          7.455820590185128,
          6.499328084170122,
          8.11942452915298,
          7.2244509417284295
         ],
         "yaxis": "y2"
        },
        {
         "line": {
          "color": "orange",
          "dash": "dash"
         },
         "name": "Top Avg CS",
         "type": "scatter",
         "x": [
          "Game 1",
          "Game 2",
          "Game 3",
          "Game 4",
          "Game 5",
          "Game 6",
          "Game 7",
          "Game 8",
          "Game 9",
          "Game 10"
         ],
         "xaxis": "x2",
         "y": [
          6.032137624256394,
          6.032137624256394,
          6.032137624256394,
          6.032137624256394,
          6.032137624256394,
          6.032137624256394,
          6.032137624256394,
          6.032137624256394,
          6.032137624256394,
          6.032137624256394
         ],
         "yaxis": "y2"
        },
        {
         "marker": {
          "color": "goldenrod"
         },
         "name": "Gold/Min",
         "type": "bar",
         "x": [
          "Game 1",
          "Game 2",
          "Game 3",
          "Game 4",
          "Game 5",
          "Game 6",
          "Game 7",
          "Game 8",
          "Game 9",
          "Game 10"
         ],
         "xaxis": "x3",
         "y": [
          436.70779229914325,
          476.95699388432735,
          355.22581494713717,
          444.1410078269438,
          340.58619281269404,
          310.7466004832851,
          447.2390508703661,
          431.97592954728356,
          362.879901505543,
          359.01271503365746
         ],
         "yaxis": "y3"
        },
        {
         "line": {
          "color": "darkblue",
          "dash": "dash"
         },
         "name": "Top Avg Gold",
         "type": "scatter",
         "x": [
          "Game 1",
          "Game 2",
          "Game 3",
          "Game 4",
          "Game 5",
          "Game 6",
          "Game 7",
          "Game 8",
          "Game 9",
          "Game 10"
         ],
         "xaxis": "x3",
         "y": [
          398.2689843436052,
          398.2689843436052,
          398.2689843436052,
          398.2689843436052,
          398.2689843436052,
          398.2689843436052,
          398.2689843436052,
          398.2689843436052,
          398.2689843436052,
          398.2689843436052
         ],
         "yaxis": "y3"
        },
        {
         "marker": {
          "color": "indianred"
         },
         "name": "Damage/Min",
         "type": "bar",
         "x": [
          "Game 1",
          "Game 2",
          "Game 3",
          "Game 4",
          "Game 5",
          "Game 6",
          "Game 7",
          "Game 8",
          "Game 9",
          "Game 10"
         ],
         "xaxis": "x4",
         "y": [
          902.9936834404851,
          1493.0951394848717,
          534.8659110046885,
          443.126255644559,
          572.3083189798182,
          529.9033957690915,
          741.8357846332967,
          528.6247612930605,
          433.72586063246604,
          902.3764193921263
         ],
         "yaxis": "y4"
        },
        {
         "line": {
          "color": "black",
          "dash": "dash"
         },
         "name": "Top Avg Damage",
         "type": "scatter",
         "x": [
          "Game 1",
          "Game 2",
          "Game 3",
          "Game 4",
          "Game 5",
          "Game 6",
          "Game 7",
          "Game 8",
          "Game 9",
          "Game 10"
         ],
         "xaxis": "x4",
         "y": [
          659.2192216246698,
          659.2192216246698,
          659.2192216246698,
          659.2192216246698,
          659.2192216246698,
          659.2192216246698,
          659.2192216246698,
          659.2192216246698,
          659.2192216246698,
          659.2192216246698
         ],
         "yaxis": "y4"
        }
       ],
       "layout": {
        "annotations": [
         {
          "font": {
           "size": 16
          },
          "showarrow": false,
          "text": "KDA vs Top Avg",
          "x": 0.225,
          "xanchor": "center",
          "xref": "paper",
          "y": 1,
          "yanchor": "bottom",
          "yref": "paper"
         },
         {
          "font": {
           "size": 16
          },
          "showarrow": false,
          "text": "CS per Min vs Top Avg",
          "x": 0.775,
          "xanchor": "center",
          "xref": "paper",
          "y": 1,
          "yanchor": "bottom",
          "yref": "paper"
         },
         {
          "font": {
           "size": 16
          },
          "showarrow": false,
          "text": "Gold per Min vs Top Avg",
          "x": 0.225,
          "xanchor": "center",
          "xref": "paper",
          "y": 0.375,
          "yanchor": "bottom",
          "yref": "paper"
         },
         {
          "font": {
           "size": 16
          },
          "showarrow": false,
          "text": "Damage per Min vs Top Avg",
          "x": 0.775,
          "xanchor": "center",
          "xref": "paper",
          "y": 0.375,
          "yanchor": "bottom",
          "yref": "paper"
         }
        ],
        "height": 800,
        "showlegend": false,
        "template": {
         "data": {
          "bar": [
           {
            "error_x": {
             "color": "#2a3f5f"
            },
            "error_y": {
             "color": "#2a3f5f"
            },
            "marker": {
             "line": {
              "color": "white",
              "width": 0.5
             },
             "pattern": {
              "fillmode": "overlay",
              "size": 10,
              "solidity": 0.2
             }
            },
            "type": "bar"
           }
          ],
          "barpolar": [
           {
            "marker": {
             "line": {
              "color": "white",
              "width": 0.5
             },
             "pattern": {
              "fillmode": "overlay",
              "size": 10,
              "solidity": 0.2
             }
            },
            "type": "barpolar"
           }
          ],
          "carpet": [
           {
            "aaxis": {
             "endlinecolor": "#2a3f5f",
             "gridcolor": "#C8D4E3",
             "linecolor": "#C8D4E3",
             "minorgridcolor": "#C8D4E3",
             "startlinecolor": "#2a3f5f"
            },
            "baxis": {
             "endlinecolor": "#2a3f5f",
             "gridcolor": "#C8D4E3",
             "linecolor": "#C8D4E3",
             "minorgridcolor": "#C8D4E3",
             "startlinecolor": "#2a3f5f"
            },
            "type": "carpet"
           }
          ],
          "choropleth": [
           {
            "colorbar": {
             "outlinewidth": 0,
             "ticks": ""
            },
            "type": "choropleth"
           }
          ],
          "contour": [
           {
            "colorbar": {
             "outlinewidth": 0,
             "ticks": ""
            },
            "colorscale": [
             [
              0,
              "#0d0887"
             ],
             [
              0.1111111111111111,
              "#46039f"
             ],
             [
              0.2222222222222222,
              "#7201a8"
             ],
             [
              0.3333333333333333,
              "#9c179e"
             ],
             [
              0.4444444444444444,
              "#bd3786"
             ],
             [
              0.5555555555555556,
              "#d8576b"
             ],
             [
              0.6666666666666666,
              "#ed7953"
             ],
             [
              0.7777777777777778,
              "#fb9f3a"
             ],
             [
              0.8888888888888888,
              "#fdca26"
             ],
             [
              1,
              "#f0f921"
             ]
            ],
            "type": "contour"
           }
          ],
          "contourcarpet": [
           {
            "colorbar": {
             "outlinewidth": 0,
             "ticks": ""
            },
            "type": "contourcarpet"
           }
          ],
          "heatmap": [
           {
            "colorbar": {
             "outlinewidth": 0,
             "ticks": ""
            },
            "colorscale": [
             [
              0,
              "#0d0887"
             ],
             [
              0.1111111111111111,
              "#46039f"
             ],
             [
              0.2222222222222222,
              "#7201a8"
             ],
             [
              0.3333333333333333,
              "#9c179e"
             ],
             [
              0.4444444444444444,
              "#bd3786"
             ],
             [
              0.5555555555555556,
              "#d8576b"
             ],
             [
              0.6666666666666666,
              "#ed7953"
             ],
             [
              0.7777777777777778,
              "#fb9f3a"
             ],
             [
              0.8888888888888888,
              "#fdca26"
             ],
             [
              1,
              "#f0f921"
             ]
            ],
            "type": "heatmap"
           }
          ],
          "heatmapgl": [
           {
            "colorbar": {
             "outlinewidth": 0,
             "ticks": ""
            },
            "colorscale": [
             [
              0,
              "#0d0887"
             ],
             [
              0.1111111111111111,
              "#46039f"
             ],
             [
              0.2222222222222222,
              "#7201a8"
             ],
             [
              0.3333333333333333,
              "#9c179e"
             ],
             [
              0.4444444444444444,
              "#bd3786"
             ],
             [
              0.5555555555555556,
              "#d8576b"
             ],
             [
              0.6666666666666666,
              "#ed7953"
             ],
             [
              0.7777777777777778,
              "#fb9f3a"
             ],
             [
              0.8888888888888888,
              "#fdca26"
             ],
             [
              1,
              "#f0f921"
             ]
            ],
            "type": "heatmapgl"
           }
          ],
          "histogram": [
           {
            "marker": {
             "pattern": {
              "fillmode": "overlay",
              "size": 10,
              "solidity": 0.2
             }
            },
            "type": "histogram"
           }
          ],
          "histogram2d": [
           {
            "colorbar": {
             "outlinewidth": 0,
             "ticks": ""
            },
            "colorscale": [
             [
              0,
              "#0d0887"
             ],
             [
              0.1111111111111111,
              "#46039f"
             ],
             [
              0.2222222222222222,
              "#7201a8"
             ],
             [
              0.3333333333333333,
              "#9c179e"
             ],
             [
              0.4444444444444444,
              "#bd3786"
             ],
             [
              0.5555555555555556,
              "#d8576b"
             ],
             [
              0.6666666666666666,
              "#ed7953"
             ],
             [
              0.7777777777777778,
              "#fb9f3a"
             ],
             [
              0.8888888888888888,
              "#fdca26"
             ],
             [
              1,
              "#f0f921"
             ]
            ],
            "type": "histogram2d"
           }
          ],
          "histogram2dcontour": [
           {
            "colorbar": {
             "outlinewidth": 0,
             "ticks": ""
            },
            "colorscale": [
             [
              0,
              "#0d0887"
             ],
             [
              0.1111111111111111,
              "#46039f"
             ],
             [
              0.2222222222222222,
              "#7201a8"
             ],
             [
              0.3333333333333333,
              "#9c179e"
             ],
             [
              0.4444444444444444,
              "#bd3786"
             ],
             [
              0.5555555555555556,
              "#d8576b"
             ],
             [
              0.6666666666666666,
              "#ed7953"
             ],
             [
              0.7777777777777778,
              "#fb9f3a"
             ],
             [
              0.8888888888888888,
              "#fdca26"
             ],
             [
              1,
              "#f0f921"
             ]
            ],
            "type": "histogram2dcontour"
           }
          ],
          "mesh3d": [
           {
            "colorbar": {
             "outlinewidth": 0,
             "ticks": ""
            },
            "type": "mesh3d"
           }
          ],
          "parcoords": [
           {
            "line": {
             "colorbar": {
              "outlinewidth": 0,
              "ticks": ""
             }
            },
            "type": "parcoords"
           }
          ],
          "pie": [
           {
            "automargin": true,
            "type": "pie"
           }
          ],
          "scatter": [
           {
            "fillpattern": {
             "fillmode": "overlay",
             "size": 10,
             "solidity": 0.2
            },
            "type": "scatter"
           }
          ],
          "scatter3d": [
           {
            "line": {
             "colorbar": {
              "outlinewidth": 0,
              "ticks": ""
             }
            },
            "marker": {
             "colorbar": {
              "outlinewidth": 0,
              "ticks": ""
             }
            },
            "type": "scatter3d"
           }
          ],
          "scattercarpet": [
           {
            "marker": {
             "colorbar": {
              "outlinewidth": 0,
              "ticks": ""
             }
            },
            "type": "scattercarpet"
           }
          ],
          "scattergeo": [
           {
            "marker": {
             "colorbar": {
              "outlinewidth": 0,
              "ticks": ""
             }
            },
            "type": "scattergeo"
           }
          ],
          "scattergl": [
           {
            "marker": {
             "colorbar": {
              "outlinewidth": 0,
              "ticks": ""
             }
            },
            "type": "scattergl"
           }
          ],
          "scattermapbox": [
           {
            "marker": {
             "colorbar": {
              "outlinewidth": 0,
              "ticks": ""
             }
            },
            "type": "scattermapbox"
           }
          ],
          "scatterpolar": [
           {
            "marker": {
             "colorbar": {
              "outlinewidth": 0,
              "ticks": ""
             }
            },
            "type": "scatterpolar"
           }
          ],
          "scatterpolargl": [
           {
            "marker": {
             "colorbar": {
              "outlinewidth": 0,
              "ticks": ""
             }
            },
            "type": "scatterpolargl"
           }
          ],
          "scatterternary": [
           {
            "marker": {
             "colorbar": {
              "outlinewidth": 0,
              "ticks": ""
             }
            },
            "type": "scatterternary"
           }
          ],
          "surface": [
           {
            "colorbar": {
             "outlinewidth": 0,
             "ticks": ""
            },
            "colorscale": [
             [
              0,
              "#0d0887"
             ],
             [
              0.1111111111111111,
              "#46039f"
             ],
             [
              0.2222222222222222,
              "#7201a8"
             ],
             [
              0.3333333333333333,
              "#9c179e"
             ],
             [
              0.4444444444444444,
              "#bd3786"
             ],
             [
              0.5555555555555556,
              "#d8576b"
             ],
             [
              0.6666666666666666,
              "#ed7953"
             ],
             [
              0.7777777777777778,
              "#fb9f3a"
             ],
             [
              0.8888888888888888,
              "#fdca26"
             ],
             [
              1,
              "#f0f921"
             ]
            ],
            "type": "surface"
           }
          ],
          "table": [
           {
            "cells": {
             "fill": {
              "color": "#EBF0F8"
             },
             "line": {
              "color": "white"
             }
            },
            "header": {
             "fill": {
              "color": "#C8D4E3"
             },
             "line": {
              "color": "white"
             }
            },
            "type": "table"
           }
          ]
         },
         "layout": {
          "annotationdefaults": {
           "arrowcolor": "#2a3f5f",
           "arrowhead": 0,
           "arrowwidth": 1
          },
          "autotypenumbers": "strict",
          "coloraxis": {
           "colorbar": {
            "outlinewidth": 0,
            "ticks": ""
           }
          },
          "colorscale": {
           "diverging": [
            [
             0,
             "#8e0152"
            ],
            [
             0.1,
             "#c51b7d"
            ],
            [
             0.2,
             "#de77ae"
            ],
            [
             0.3,
             "#f1b6da"
            ],
            [
             0.4,
             "#fde0ef"
            ],
            [
             0.5,
             "#f7f7f7"
            ],
            [
             0.6,
             "#e6f5d0"
            ],
            [
             0.7,
             "#b8e186"
            ],
            [
             0.8,
             "#7fbc41"
            ],
            [
             0.9,
             "#4d9221"
            ],
            [
             1,
             "#276419"
            ]
           ],
           "sequential": [
            [
             0,
             "#0d0887"
            ],
            [
             0.1111111111111111,
             "#46039f"
            ],
            [
             0.2222222222222222,
             "#7201a8"
            ],
            [
             0.3333333333333333,
             "#9c179e"
            ],
            [
             0.4444444444444444,
             "#bd3786"
            ],
            [
             0.5555555555555556,
             "#d8576b"
            ],
            [
             0.6666666666666666,
             "#ed7953"
            ],
            [
             0.7777777777777778,
             "#fb9f3a"
            ],
            [
             0.8888888888888888,
             "#fdca26"
            ],
            [
             1,
             "#f0f921"
            ]
           ],
           "sequentialminus": [
            [
             0,
             "#0d0887"
            ],
            [
             0.1111111111111111,
             "#46039f"
            ],
            [
             0.2222222222222222,
             "#7201a8"
            ],
            [
             0.3333333333333333,
             "#9c179e"
            ],
            [
             0.4444444444444444,
             "#bd3786"
            ],
            [
             0.5555555555555556,
             "#d8576b"
            ],
            [
             0.6666666666666666,
             "#ed7953"
            ],
            [
             0.7777777777777778,
             "#fb9f3a"
            ],
            [
             0.8888888888888888,
             "#fdca26"
            ],
            [
             1,
             "#f0f921"
            ]
           ]
          },
          "colorway": [
           "#636efa",
           "#EF553B",
           "#00cc96",
           "#ab63fa",
           "#FFA15A",
           "#19d3f3",
           "#FF6692",
           "#B6E880",
           "#FF97FF",
           "#FECB52"
          ],
          "font": {
           "color": "#2a3f5f"
          },
          "geo": {
           "bgcolor": "white",
           "lakecolor": "white",
           "landcolor": "white",
           "showlakes": true,
           "showland": true,
           "subunitcolor": "#C8D4E3"
          },
          "hoverlabel": {
           "align": "left"
          },
          "hovermode": "closest",
          "mapbox": {
           "style": "light"
          },
          "paper_bgcolor": "white",
          "plot_bgcolor": "white",
          "polar": {
           "angularaxis": {
            "gridcolor": "#EBF0F8",
            "linecolor": "#EBF0F8",
            "ticks": ""
           },
           "bgcolor": "white",
           "radialaxis": {
            "gridcolor": "#EBF0F8",
            "linecolor": "#EBF0F8",
            "ticks": ""
           }
          },
          "scene": {
           "xaxis": {
            "backgroundcolor": "white",
            "gridcolor": "#DFE8F3",
            "gridwidth": 2,
            "linecolor": "#EBF0F8",
            "showbackground": true,
            "ticks": "",
            "zerolinecolor": "#EBF0F8"
           },
           "yaxis": {
            "backgroundcolor": "white",
            "gridcolor": "#DFE8F3",
            "gridwidth": 2,
            "linecolor": "#EBF0F8",
            "showbackground": true,
            "ticks": "",
            "zerolinecolor": "#EBF0F8"
           },
           "zaxis": {
            "backgroundcolor": "white",
            "gridcolor": "#DFE8F3",
            "gridwidth": 2,
            "linecolor": "#EBF0F8",
            "showbackground": true,
            "ticks": "",
            "zerolinecolor": "#EBF0F8"
           }
          },
          "shapedefaults": {
           "line": {
            "color": "#2a3f5f"
           }
          },
          "ternary": {
           "aaxis": {
            "gridcolor": "#DFE8F3",
            "linecolor": "#A2B1C6",
            "ticks": ""
           },
           "baxis": {
            "gridcolor": "#DFE8F3",
            "linecolor": "#A2B1C6",
            "ticks": ""
           },
           "bgcolor": "white",
           "caxis": {
            "gridcolor": "#DFE8F3",
            "linecolor": "#A2B1C6",
            "ticks": ""
           }
          },
          "title": {
           "x": 0.05
          },
          "xaxis": {
           "automargin": true,
           "gridcolor": "#EBF0F8",
           "linecolor": "#EBF0F8",
           "ticks": "",
           "title": {
            "standoff": 15
           },
           "zerolinecolor": "#EBF0F8",
           "zerolinewidth": 2
          },
          "yaxis": {
           "automargin": true,
           "gridcolor": "#EBF0F8",
           "linecolor": "#EBF0F8",
           "ticks": "",
           "title": {
            "standoff": 15
           },
           "zerolinecolor": "#EBF0F8",
           "zerolinewidth": 2
          }
         }
        },
        "title": {
         "text": "Recent 10 Games Comparison (KDA / CS / Gold / Damage)"
        },
        "xaxis": {
         "anchor": "y",
         "domain": [
          0,
          0.45
         ],
         "title": {
          "text": "Game"
         }
        },
        "xaxis2": {
         "anchor": "y2",
         "domain": [
          0.55,
          1
         ],
         "title": {
          "text": "Game"
         }
        },
        "xaxis3": {
         "anchor": "y3",
         "domain": [
          0,
          0.45
         ],
         "title": {
          "text": "Game"
         }
        },
        "xaxis4": {
         "anchor": "y4",
         "domain": [
          0.55,
          1
         ],
         "title": {
          "text": "Game"
         }
        },
        "yaxis": {
         "anchor": "x",
         "domain": [
          0.625,
          1
         ],
         "title": {
          "text": "KDA"
         }
        },
        "yaxis2": {
         "anchor": "x2",
         "domain": [
          0.625,
          1
         ],
         "title": {
          "text": "CS/Min"
         }
        },
        "yaxis3": {
         "anchor": "x3",
         "domain": [
          0,
          0.375
         ],
         "title": {
          "text": "Gold/Min"
         }
        },
        "yaxis4": {
         "anchor": "x4",
         "domain": [
          0,
          0.375
         ],
         "title": {
          "text": "Damage/Min"
         }
        }
       }
      }
     },
     "metadata": {},
     "output_type": "display_data"
    }
   ],
   "source": [
    "from plotly.subplots import make_subplots\n",
    "import plotly.graph_objects as go\n",
    "\n",
    "# 경기 10개, x축 라벨\n",
    "x_labels = [f\"Game {i+1}\" for i in range(10)]\n",
    "\n",
    "# 데이터 준비\n",
    "user_games = merged_df[(merged_df[\"puuid\"] == target_puuid)].copy()\n",
    "user_games = user_games.sort_values(\"game_id\", ascending=False).head(10)\n",
    "\n",
    "\n",
    "def fill_10(values):\n",
    "    return values.tolist() + [0] * (10 - len(values))\n",
    "\n",
    "\n",
    "kda_values = fill_10(user_games[\"KDA\"])\n",
    "cs_values = fill_10(user_games[\"cs_per_min\"])\n",
    "gold_values = fill_10(user_games[\"gold_per_min\"])\n",
    "damage_values = fill_10(user_games[\"damage_per_min\"])\n",
    "\n",
    "# 상위 유저 평균값\n",
    "top_avg_kda = merged_df[merged_df[\"is_top1000\"] == True][\"KDA\"].mean()\n",
    "top_avg_cs = merged_df[merged_df[\"is_top1000\"] == True][\"cs_per_min\"].mean()\n",
    "top_avg_gold = merged_df[merged_df[\"is_top1000\"] == True][\"gold_per_min\"].mean()\n",
    "top_avg_damage = merged_df[merged_df[\"is_top1000\"] == True][\"damage_per_min\"].mean()\n",
    "\n",
    "# subplot 구성\n",
    "fig = make_subplots(\n",
    "    rows=2,\n",
    "    cols=2,\n",
    "    subplot_titles=(\n",
    "        \"KDA vs Top Avg\",\n",
    "        \"CS per Min vs Top Avg\",\n",
    "        \"Gold per Min vs Top Avg\",\n",
    "        \"Damage per Min vs Top Avg\",\n",
    "    ),\n",
    ")\n",
    "\n",
    "# (1,1) KDA\n",
    "fig.add_trace(\n",
    "    go.Bar(x=x_labels, y=kda_values, name=\"KDA\", marker_color=\"royalblue\"), row=1, col=1\n",
    ")\n",
    "fig.add_trace(\n",
    "    go.Scatter(\n",
    "        x=x_labels,\n",
    "        y=[top_avg_kda] * 10,\n",
    "        name=\"Top Avg KDA\",\n",
    "        line=dict(color=\"red\", dash=\"dash\"),\n",
    "    ),\n",
    "    row=1,\n",
    "    col=1,\n",
    ")\n",
    "\n",
    "# (1,2) CS/Min\n",
    "fig.add_trace(\n",
    "    go.Bar(x=x_labels, y=cs_values, name=\"CS/Min\", marker_color=\"seagreen\"),\n",
    "    row=1,\n",
    "    col=2,\n",
    ")\n",
    "fig.add_trace(\n",
    "    go.Scatter(\n",
    "        x=x_labels,\n",
    "        y=[top_avg_cs] * 10,\n",
    "        name=\"Top Avg CS\",\n",
    "        line=dict(color=\"orange\", dash=\"dash\"),\n",
    "    ),\n",
    "    row=1,\n",
    "    col=2,\n",
    ")\n",
    "\n",
    "# (2,1) Gold/Min\n",
    "fig.add_trace(\n",
    "    go.Bar(x=x_labels, y=gold_values, name=\"Gold/Min\", marker_color=\"goldenrod\"),\n",
    "    row=2,\n",
    "    col=1,\n",
    ")\n",
    "fig.add_trace(\n",
    "    go.Scatter(\n",
    "        x=x_labels,\n",
    "        y=[top_avg_gold] * 10,\n",
    "        name=\"Top Avg Gold\",\n",
    "        line=dict(color=\"darkblue\", dash=\"dash\"),\n",
    "    ),\n",
    "    row=2,\n",
    "    col=1,\n",
    ")\n",
    "\n",
    "# (2,2) Damage/Min\n",
    "fig.add_trace(\n",
    "    go.Bar(x=x_labels, y=damage_values, name=\"Damage/Min\", marker_color=\"indianred\"),\n",
    "    row=2,\n",
    "    col=2,\n",
    ")\n",
    "fig.add_trace(\n",
    "    go.Scatter(\n",
    "        x=x_labels,\n",
    "        y=[top_avg_damage] * 10,\n",
    "        name=\"Top Avg Damage\",\n",
    "        line=dict(color=\"black\", dash=\"dash\"),\n",
    "    ),\n",
    "    row=2,\n",
    "    col=2,\n",
    ")\n",
    "\n",
    "# 전체 레이아웃 설정\n",
    "fig.update_layout(\n",
    "    title_text=\"Recent 10 Games Comparison (KDA / CS / Gold / Damage)\",\n",
    "    template=\"plotly_white\",\n",
    "    height=800,\n",
    "    showlegend=False,\n",
    ")\n",
    "\n",
    "# 개별 축 설정\n",
    "fig.update_xaxes(title_text=\"Game\", row=1, col=1)\n",
    "fig.update_yaxes(title_text=\"KDA\", row=1, col=1)\n",
    "\n",
    "fig.update_xaxes(title_text=\"Game\", row=1, col=2)\n",
    "fig.update_yaxes(title_text=\"CS/Min\", row=1, col=2)\n",
    "\n",
    "fig.update_xaxes(title_text=\"Game\", row=2, col=1)\n",
    "fig.update_yaxes(title_text=\"Gold/Min\", row=2, col=1)\n",
    "\n",
    "fig.update_xaxes(title_text=\"Game\", row=2, col=2)\n",
    "fig.update_yaxes(title_text=\"Damage/Min\", row=2, col=2)\n",
    "\n",
    "fig.show()"
   ]
  },
  {
   "cell_type": "markdown",
   "id": "466aca07",
   "metadata": {},
   "source": [
    "### 유사도 순 정렬된 테이블 만들기"
   ]
  },
  {
   "cell_type": "code",
   "execution_count": 33,
   "id": "5b179931",
   "metadata": {},
   "outputs": [
    {
     "data": {
      "text/html": [
       "<div>\n",
       "<style scoped>\n",
       "    .dataframe tbody tr th:only-of-type {\n",
       "        vertical-align: middle;\n",
       "    }\n",
       "\n",
       "    .dataframe tbody tr th {\n",
       "        vertical-align: top;\n",
       "    }\n",
       "\n",
       "    .dataframe thead th {\n",
       "        text-align: right;\n",
       "    }\n",
       "</style>\n",
       "<table border=\"1\" class=\"dataframe\">\n",
       "  <thead>\n",
       "    <tr style=\"text-align: right;\">\n",
       "      <th></th>\n",
       "      <th>puuid</th>\n",
       "      <th>KDA</th>\n",
       "      <th>cs_per_min</th>\n",
       "      <th>gold_per_min</th>\n",
       "      <th>similarity</th>\n",
       "    </tr>\n",
       "  </thead>\n",
       "  <tbody>\n",
       "    <tr>\n",
       "      <th>0</th>\n",
       "      <td>N8s2Toz0lAW-qfSH3A0NufmmkZeVXQoqKYMDedmESurz6n...</td>\n",
       "      <td>3.333333</td>\n",
       "      <td>8.574889</td>\n",
       "      <td>517.611504</td>\n",
       "      <td>0.960658</td>\n",
       "    </tr>\n",
       "    <tr>\n",
       "      <th>1</th>\n",
       "      <td>JkAtetPeV8eLH-GNF14_7Z96cIMbONg0x-7yil5ZrhqURu...</td>\n",
       "      <td>5.166667</td>\n",
       "      <td>8.571203</td>\n",
       "      <td>519.099380</td>\n",
       "      <td>0.924943</td>\n",
       "    </tr>\n",
       "    <tr>\n",
       "      <th>2</th>\n",
       "      <td>_v3N7CJjg-9RvLsJjD-ciWb4ZtXdigRT2miD8SYenA7wnK...</td>\n",
       "      <td>3.666667</td>\n",
       "      <td>6.632733</td>\n",
       "      <td>471.255647</td>\n",
       "      <td>0.917098</td>\n",
       "    </tr>\n",
       "    <tr>\n",
       "      <th>3</th>\n",
       "      <td>0S7Qb-aNl4ZarGy2KldZFAAN4qum5qqCeGLJDv4vUn-d2V...</td>\n",
       "      <td>10.000000</td>\n",
       "      <td>6.606017</td>\n",
       "      <td>591.492586</td>\n",
       "      <td>0.912967</td>\n",
       "    </tr>\n",
       "    <tr>\n",
       "      <th>4</th>\n",
       "      <td>znTmuVKGw2_g_dApzVG2sId1sO0scMTJeeXryiMC-uNysp...</td>\n",
       "      <td>1.600000</td>\n",
       "      <td>8.204457</td>\n",
       "      <td>472.212077</td>\n",
       "      <td>0.900781</td>\n",
       "    </tr>\n",
       "    <tr>\n",
       "      <th>5</th>\n",
       "      <td>EVMY5lU8NxM93WsfJe1FH5irgp_daSX36OzDqSLmhoycEu...</td>\n",
       "      <td>3.400000</td>\n",
       "      <td>8.544045</td>\n",
       "      <td>474.748594</td>\n",
       "      <td>0.900137</td>\n",
       "    </tr>\n",
       "    <tr>\n",
       "      <th>6</th>\n",
       "      <td>BMLYrja7g84tXOAYN6an9UVxswRCySLhffkA_x8VKlFi-s...</td>\n",
       "      <td>3.750000</td>\n",
       "      <td>7.966532</td>\n",
       "      <td>496.677442</td>\n",
       "      <td>0.898521</td>\n",
       "    </tr>\n",
       "    <tr>\n",
       "      <th>7</th>\n",
       "      <td>mkuS-q15u1Xgel-8i20FgzR0qO16_5dV3IdJOiu6rGtQIm...</td>\n",
       "      <td>4.400000</td>\n",
       "      <td>8.686750</td>\n",
       "      <td>496.346472</td>\n",
       "      <td>0.892245</td>\n",
       "    </tr>\n",
       "    <tr>\n",
       "      <th>8</th>\n",
       "      <td>7UDpSRt0mNr-aRORdAY9-LXLEexD2goynSIcH63l2jRdYg...</td>\n",
       "      <td>7.250000</td>\n",
       "      <td>7.296867</td>\n",
       "      <td>525.751860</td>\n",
       "      <td>0.891860</td>\n",
       "    </tr>\n",
       "    <tr>\n",
       "      <th>9</th>\n",
       "      <td>Tjx_NecuU07AaxNwLyhT7sOX6kYjLTtSnwteY6g_jrpeya...</td>\n",
       "      <td>3.166667</td>\n",
       "      <td>9.751682</td>\n",
       "      <td>525.973625</td>\n",
       "      <td>0.890804</td>\n",
       "    </tr>\n",
       "  </tbody>\n",
       "</table>\n",
       "</div>"
      ],
      "text/plain": [
       "                                               puuid        KDA  cs_per_min  \\\n",
       "0  N8s2Toz0lAW-qfSH3A0NufmmkZeVXQoqKYMDedmESurz6n...   3.333333    8.574889   \n",
       "1  JkAtetPeV8eLH-GNF14_7Z96cIMbONg0x-7yil5ZrhqURu...   5.166667    8.571203   \n",
       "2  _v3N7CJjg-9RvLsJjD-ciWb4ZtXdigRT2miD8SYenA7wnK...   3.666667    6.632733   \n",
       "3  0S7Qb-aNl4ZarGy2KldZFAAN4qum5qqCeGLJDv4vUn-d2V...  10.000000    6.606017   \n",
       "4  znTmuVKGw2_g_dApzVG2sId1sO0scMTJeeXryiMC-uNysp...   1.600000    8.204457   \n",
       "5  EVMY5lU8NxM93WsfJe1FH5irgp_daSX36OzDqSLmhoycEu...   3.400000    8.544045   \n",
       "6  BMLYrja7g84tXOAYN6an9UVxswRCySLhffkA_x8VKlFi-s...   3.750000    7.966532   \n",
       "7  mkuS-q15u1Xgel-8i20FgzR0qO16_5dV3IdJOiu6rGtQIm...   4.400000    8.686750   \n",
       "8  7UDpSRt0mNr-aRORdAY9-LXLEexD2goynSIcH63l2jRdYg...   7.250000    7.296867   \n",
       "9  Tjx_NecuU07AaxNwLyhT7sOX6kYjLTtSnwteY6g_jrpeya...   3.166667    9.751682   \n",
       "\n",
       "   gold_per_min  similarity  \n",
       "0    517.611504    0.960658  \n",
       "1    519.099380    0.924943  \n",
       "2    471.255647    0.917098  \n",
       "3    591.492586    0.912967  \n",
       "4    472.212077    0.900781  \n",
       "5    474.748594    0.900137  \n",
       "6    496.677442    0.898521  \n",
       "7    496.346472    0.892245  \n",
       "8    525.751860    0.891860  \n",
       "9    525.973625    0.890804  "
      ]
     },
     "metadata": {},
     "output_type": "display_data"
    }
   ],
   "source": [
    "import pandas as pd\n",
    "from IPython.display import display\n",
    "\n",
    "display(\n",
    "    plot_df[plot_df[\"label\"] == \"Top\"]\n",
    "    .sort_values(\"similarity\", ascending=False)[\n",
    "        [\"puuid\", \"KDA\", \"cs_per_min\", \"gold_per_min\", \"similarity\"]\n",
    "    ]\n",
    ")\n"
   ]
  },
  {
   "cell_type": "code",
   "execution_count": null,
   "id": "1f53f225",
   "metadata": {},
   "outputs": [],
   "source": []
  }
 ],
 "metadata": {
  "kernelspec": {
   "display_name": "Python 3",
   "language": "python",
   "name": "python3"
  },
  "language_info": {
   "codemirror_mode": {
    "name": "ipython",
    "version": 3
   },
   "file_extension": ".py",
   "mimetype": "text/x-python",
   "name": "python",
   "nbconvert_exporter": "python",
   "pygments_lexer": "ipython3",
   "version": "3.9.13"
  }
 },
 "nbformat": 4,
 "nbformat_minor": 5
}
