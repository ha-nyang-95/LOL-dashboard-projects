{
 "cells": [
  {
   "cell_type": "code",
   "execution_count": 146,
   "id": "b53a1d37",
   "metadata": {},
   "outputs": [],
   "source": [
    "# ! pip install ipympl\n",
    "#! pip install scikit-learn\n",
    "#! pip install seaborn"
   ]
  },
  {
   "cell_type": "code",
   "execution_count": 164,
   "id": "2022f7fc",
   "metadata": {},
   "outputs": [],
   "source": [
    "import pandas as pd\n",
    "import numpy as np\n",
    "from sklearn.preprocessing import StandardScaler\n",
    "from sklearn.metrics.pairwise import cosine_similarity\n",
    "import matplotlib.pyplot as plt\n",
    "import seaborn as sns\n"
   ]
  },
  {
   "cell_type": "markdown",
   "id": "a4872c58",
   "metadata": {},
   "source": [
    "# 1. 데이터 로딩 및 전처리"
   ]
  },
  {
   "cell_type": "code",
   "execution_count": 165,
   "id": "92a062fc",
   "metadata": {},
   "outputs": [],
   "source": [
    "# 예시 경로, 실제 경로로 수정 필요\n",
    "\n",
    "# 게임에 참가한 사람들의 고유 정보\n",
    "participants = pd.read_csv(\"data/top1000/participants.csv\")\n",
    "# 시간 흐름에 따라 변화하는 실시간 스탯 (골드, 딜량 등) \n",
    "participants_frames = pd.read_csv(\"data/top1000/participant_frames.csv\")\n",
    "# 게임 단위의 결과 (승패 등)\n",
    "matches = pd.read_csv(\"data/top1000/matches.csv\")\n",
    "# 킬 이벤트 정보 (누가 누구를 죽였는지)\n",
    "champ_kill = pd.read_csv('data/top1000/events__CHAMPION_KILL.csv')"
   ]
  },
  {
   "cell_type": "code",
   "execution_count": 166,
   "id": "3dd3e3fa",
   "metadata": {},
   "outputs": [],
   "source": [
    "# 가장 마지막 프레임만 사용 (게임 종료 시점 상태)\n",
    "# 게임 종료 시점 기준으로 정보 하나로 묶기\n",
    "latest_frames = participants_frames.sort_values(\"frame_timestamp\").drop_duplicates(\n",
    "    subset=[\"game_id\", \"participant_id\"], keep='last'\n",
    ")\n",
    "\n",
    "merged_df = pd.merge(participants, latest_frames, on=[\"game_id\", \"participant_id\"], how=\"left\")"
   ]
  },
  {
   "cell_type": "markdown",
   "id": "bade9f35",
   "metadata": {},
   "source": [
    "## 2. KDA 및 주요 파생 지표 생성"
   ]
  },
  {
   "cell_type": "markdown",
   "id": "6227b0ac",
   "metadata": {},
   "source": [
    "### KDA 계산\n",
    "\n",
    "컬럼 | 의미\n",
    "---- | ----\n",
    "kills | 해당 경기에서 몇 번 킬 했는가\n",
    "deaths | 몇 번 죽었는가\n",
    "assists | 어시스트 수\n",
    "KDA | (킬 + 어시스트) / 데스 (생존 기반 전투 영향력)"
   ]
  },
  {
   "cell_type": "code",
   "execution_count": 167,
   "id": "9d99094f",
   "metadata": {},
   "outputs": [],
   "source": [
    "# kills 수 계산 (킬한 사람 기준)\n",
    "kills = champ_kill.groupby([\"game_id\", \"killer_id\"]).size().reset_index(name=\"kills\")\n",
    "kills.rename(columns={\"killer_id\": \"participant_id\"}, inplace=True)"
   ]
  },
  {
   "cell_type": "code",
   "execution_count": 168,
   "id": "28fc37ad",
   "metadata": {},
   "outputs": [],
   "source": [
    "# deaths 수 계산 (죽은 사람 기준)\n",
    "deaths = champ_kill.groupby([\"game_id\", \"victim_id\"]).size().reset_index(name=\"deaths\")\n",
    "deaths.rename(columns={\"victim_id\": \"participant_id\"}, inplace=True)"
   ]
  },
  {
   "cell_type": "code",
   "execution_count": 169,
   "id": "e36b6eed",
   "metadata": {},
   "outputs": [],
   "source": [
    "# assists 수 계산\n",
    "assist_df = pd.read_csv(\"data/top1000/event_assists.csv\")\n",
    "\n",
    "# 게임 ID + 어시스트 참가자 ID로 그룹화\n",
    "assists = assist_df.groupby([\"game_id\", \"participant_id\"]).size().reset_index(name=\"assists\")\n"
   ]
  },
  {
   "cell_type": "code",
   "execution_count": 170,
   "id": "2ad7d614",
   "metadata": {},
   "outputs": [],
   "source": [
    "# KDA 구하기\n",
    "\n",
    "# 기본 participant list (merged_df)에서 가져오자\n",
    "kda_base = merged_df[[\"game_id\", \"participant_id\", \"puuid\"]].drop_duplicates()\n",
    "\n",
    "# 병합\n",
    "kda_df = (\n",
    "    kda_base\n",
    "    .merge(kills, on=[\"game_id\", \"participant_id\"], how=\"left\")\n",
    "    .merge(deaths, on=[\"game_id\", \"participant_id\"], how=\"left\")\n",
    ")\n",
    "\n",
    "# 어시스트 컬럼 있으면 병합\n",
    "if 'assists' in locals():\n",
    "    kda_df = kda_df.merge(assists, on=[\"game_id\", \"participant_id\"], how=\"left\")\n",
    "\n",
    "# 결측값 0으로 채우기\n",
    "kda_df[[\"kills\", \"deaths\", \"assists\"]] = kda_df[[\"kills\", \"deaths\", \"assists\"]].fillna(0).astype(int)\n",
    "\n",
    "# KDA 계산\n",
    "# 분모가 0이 되면 오류가 나기 때문에, 완벽 생존은 1로 나눈 값을 최대치로 보정\n",
    "kda_df[\"KDA\"] = (kda_df[\"kills\"] + kda_df[\"assists\"]) / kda_df[\"deaths\"].replace(0, 1)\n"
   ]
  },
  {
   "cell_type": "code",
   "execution_count": 171,
   "id": "499d1b79",
   "metadata": {},
   "outputs": [
    {
     "data": {
      "text/html": [
       "<div>\n",
       "<style scoped>\n",
       "    .dataframe tbody tr th:only-of-type {\n",
       "        vertical-align: middle;\n",
       "    }\n",
       "\n",
       "    .dataframe tbody tr th {\n",
       "        vertical-align: top;\n",
       "    }\n",
       "\n",
       "    .dataframe thead th {\n",
       "        text-align: right;\n",
       "    }\n",
       "</style>\n",
       "<table border=\"1\" class=\"dataframe\">\n",
       "  <thead>\n",
       "    <tr style=\"text-align: right;\">\n",
       "      <th></th>\n",
       "      <th>game_id</th>\n",
       "      <th>participant_id</th>\n",
       "      <th>puuid</th>\n",
       "      <th>frame_timestamp</th>\n",
       "      <th>current_gold</th>\n",
       "      <th>gold_per_second</th>\n",
       "      <th>jungle_minions_killed</th>\n",
       "      <th>level</th>\n",
       "      <th>minions_killed</th>\n",
       "      <th>time_enemy_spent_controlled</th>\n",
       "      <th>...</th>\n",
       "      <th>totalDamageDone</th>\n",
       "      <th>totalDamageDoneToChampions</th>\n",
       "      <th>totalDamageTaken</th>\n",
       "      <th>trueDamageDone</th>\n",
       "      <th>trueDamageDoneToChampions</th>\n",
       "      <th>trueDamageTaken</th>\n",
       "      <th>kills</th>\n",
       "      <th>deaths</th>\n",
       "      <th>assists</th>\n",
       "      <th>KDA</th>\n",
       "    </tr>\n",
       "  </thead>\n",
       "  <tbody>\n",
       "    <tr>\n",
       "      <th>0</th>\n",
       "      <td>7586549521</td>\n",
       "      <td>1</td>\n",
       "      <td>T2coi9U5HI63yttsRxRgUeQ2xLzedwMv0LWMV_Xtp812gj...</td>\n",
       "      <td>1956361</td>\n",
       "      <td>3780</td>\n",
       "      <td>0</td>\n",
       "      <td>4</td>\n",
       "      <td>18</td>\n",
       "      <td>236</td>\n",
       "      <td>227461</td>\n",
       "      <td>...</td>\n",
       "      <td>221039</td>\n",
       "      <td>38637</td>\n",
       "      <td>35625</td>\n",
       "      <td>26709</td>\n",
       "      <td>13168</td>\n",
       "      <td>3156</td>\n",
       "      <td>13</td>\n",
       "      <td>3</td>\n",
       "      <td>19</td>\n",
       "      <td>10.666667</td>\n",
       "    </tr>\n",
       "    <tr>\n",
       "      <th>1</th>\n",
       "      <td>7586549521</td>\n",
       "      <td>2</td>\n",
       "      <td>VzxkuEt2Ay_6P_1wY1FajjdMW8ty20cPLb0jmwqAAjA9Ns...</td>\n",
       "      <td>1956361</td>\n",
       "      <td>1597</td>\n",
       "      <td>0</td>\n",
       "      <td>142</td>\n",
       "      <td>17</td>\n",
       "      <td>22</td>\n",
       "      <td>171344</td>\n",
       "      <td>...</td>\n",
       "      <td>251617</td>\n",
       "      <td>26859</td>\n",
       "      <td>44796</td>\n",
       "      <td>65212</td>\n",
       "      <td>2829</td>\n",
       "      <td>2577</td>\n",
       "      <td>12</td>\n",
       "      <td>10</td>\n",
       "      <td>14</td>\n",
       "      <td>2.600000</td>\n",
       "    </tr>\n",
       "    <tr>\n",
       "      <th>2</th>\n",
       "      <td>7586549521</td>\n",
       "      <td>3</td>\n",
       "      <td>-jMFYAy4ogcmItoiwYmQX7tG2fB59CvKQieQwZqYvcLw1x...</td>\n",
       "      <td>1956361</td>\n",
       "      <td>2454</td>\n",
       "      <td>0</td>\n",
       "      <td>8</td>\n",
       "      <td>17</td>\n",
       "      <td>232</td>\n",
       "      <td>259989</td>\n",
       "      <td>...</td>\n",
       "      <td>206296</td>\n",
       "      <td>37478</td>\n",
       "      <td>31216</td>\n",
       "      <td>7563</td>\n",
       "      <td>1790</td>\n",
       "      <td>3254</td>\n",
       "      <td>4</td>\n",
       "      <td>11</td>\n",
       "      <td>19</td>\n",
       "      <td>2.090909</td>\n",
       "    </tr>\n",
       "    <tr>\n",
       "      <th>3</th>\n",
       "      <td>7586549521</td>\n",
       "      <td>4</td>\n",
       "      <td>CDtqv-NZS5cmtQI0bsfbxBhq29QlqmwX_YwgG5oW3PkhMm...</td>\n",
       "      <td>1956361</td>\n",
       "      <td>1339</td>\n",
       "      <td>0</td>\n",
       "      <td>16</td>\n",
       "      <td>18</td>\n",
       "      <td>199</td>\n",
       "      <td>130050</td>\n",
       "      <td>...</td>\n",
       "      <td>217726</td>\n",
       "      <td>47278</td>\n",
       "      <td>33657</td>\n",
       "      <td>9483</td>\n",
       "      <td>2649</td>\n",
       "      <td>782</td>\n",
       "      <td>16</td>\n",
       "      <td>11</td>\n",
       "      <td>15</td>\n",
       "      <td>2.818182</td>\n",
       "    </tr>\n",
       "    <tr>\n",
       "      <th>4</th>\n",
       "      <td>7586549521</td>\n",
       "      <td>5</td>\n",
       "      <td>72aXoGzHe_SjiP1hNKnMXyx_UYND4_HE2j1Awp9E3l6pge...</td>\n",
       "      <td>1956361</td>\n",
       "      <td>1189</td>\n",
       "      <td>50</td>\n",
       "      <td>0</td>\n",
       "      <td>14</td>\n",
       "      <td>15</td>\n",
       "      <td>226379</td>\n",
       "      <td>...</td>\n",
       "      <td>17701</td>\n",
       "      <td>12926</td>\n",
       "      <td>36143</td>\n",
       "      <td>3208</td>\n",
       "      <td>2008</td>\n",
       "      <td>2392</td>\n",
       "      <td>2</td>\n",
       "      <td>15</td>\n",
       "      <td>23</td>\n",
       "      <td>1.666667</td>\n",
       "    </tr>\n",
       "  </tbody>\n",
       "</table>\n",
       "<p>5 rows × 55 columns</p>\n",
       "</div>"
      ],
      "text/plain": [
       "      game_id  participant_id  \\\n",
       "0  7586549521               1   \n",
       "1  7586549521               2   \n",
       "2  7586549521               3   \n",
       "3  7586549521               4   \n",
       "4  7586549521               5   \n",
       "\n",
       "                                               puuid  frame_timestamp  \\\n",
       "0  T2coi9U5HI63yttsRxRgUeQ2xLzedwMv0LWMV_Xtp812gj...          1956361   \n",
       "1  VzxkuEt2Ay_6P_1wY1FajjdMW8ty20cPLb0jmwqAAjA9Ns...          1956361   \n",
       "2  -jMFYAy4ogcmItoiwYmQX7tG2fB59CvKQieQwZqYvcLw1x...          1956361   \n",
       "3  CDtqv-NZS5cmtQI0bsfbxBhq29QlqmwX_YwgG5oW3PkhMm...          1956361   \n",
       "4  72aXoGzHe_SjiP1hNKnMXyx_UYND4_HE2j1Awp9E3l6pge...          1956361   \n",
       "\n",
       "   current_gold  gold_per_second  jungle_minions_killed  level  \\\n",
       "0          3780                0                      4     18   \n",
       "1          1597                0                    142     17   \n",
       "2          2454                0                      8     17   \n",
       "3          1339                0                     16     18   \n",
       "4          1189               50                      0     14   \n",
       "\n",
       "   minions_killed  time_enemy_spent_controlled  ...  totalDamageDone  \\\n",
       "0             236                       227461  ...           221039   \n",
       "1              22                       171344  ...           251617   \n",
       "2             232                       259989  ...           206296   \n",
       "3             199                       130050  ...           217726   \n",
       "4              15                       226379  ...            17701   \n",
       "\n",
       "   totalDamageDoneToChampions  totalDamageTaken  trueDamageDone  \\\n",
       "0                       38637             35625           26709   \n",
       "1                       26859             44796           65212   \n",
       "2                       37478             31216            7563   \n",
       "3                       47278             33657            9483   \n",
       "4                       12926             36143            3208   \n",
       "\n",
       "   trueDamageDoneToChampions  trueDamageTaken  kills  deaths  assists  \\\n",
       "0                      13168             3156     13       3       19   \n",
       "1                       2829             2577     12      10       14   \n",
       "2                       1790             3254      4      11       19   \n",
       "3                       2649              782     16      11       15   \n",
       "4                       2008             2392      2      15       23   \n",
       "\n",
       "         KDA  \n",
       "0  10.666667  \n",
       "1   2.600000  \n",
       "2   2.090909  \n",
       "3   2.818182  \n",
       "4   1.666667  \n",
       "\n",
       "[5 rows x 55 columns]"
      ]
     },
     "execution_count": 171,
     "metadata": {},
     "output_type": "execute_result"
    }
   ],
   "source": [
    "# merged_df에 병합\n",
    "\n",
    "merged_df = pd.merge(merged_df, kda_df[[\"game_id\", \"participant_id\", \"kills\", \"deaths\", \"assists\", \"KDA\"]],\n",
    "                     on=[\"game_id\", \"participant_id\"], how=\"left\")\n",
    "merged_df.head()"
   ]
  },
  {
   "cell_type": "markdown",
   "id": "4b76b1b9",
   "metadata": {},
   "source": [
    "## 유사도 기반 파생 지표 생성 (예시: 시야 점수, 미니언 수, 골드 등)"
   ]
  },
  {
   "cell_type": "markdown",
   "id": "016cf00b",
   "metadata": {},
   "source": [
    "### 성장 및 경제 지표        \n",
    "\n",
    "| 지표 | 의미 | 해석 |  \n",
    "| ---- | ---- | ---- |   \n",
    "| CS/Min | 분당 미니언 수급량 | 파밍 능력 |     \n",
    "| Gold/Min | 분당 골드 | 성장 속도 |        \n",
    "| XP/Min | 분당 경험치 | 레벨 성장 속도 |       \n",
    "\n",
    "\n"
   ]
  },
  {
   "cell_type": "code",
   "execution_count": null,
   "id": "f410c370",
   "metadata": {},
   "outputs": [],
   "source": [
    "# 성장 및 경제 지표\n",
    "\n",
    "# 분당 라인 몬스터\n",
    "merged_df['lane_cs_per_min'] = merged_df['minions_killed'] / (merged_df[\"frame_timestamp\"] / 60000)\n",
    "\n",
    "# 분당 정글 몬스터\n",
    "merged_df['jungle_cs_per_min'] = merged_df['jungle_minions_killed'] / (merged_df[\"frame_timestamp\"] / 60000)\n",
    "\n",
    "# # CS (미니언 + 정글)\n",
    "# merged_df[\"cs\"] = merged_df[\"minions_killed\"] + merged_df[\"jungle_minions_killed\"]\n",
    "\n",
    "# # 분당 CS\n",
    "# merged_df[\"cs_per_min\"] = merged_df[\"cs\"] / (merged_df[\"frame_timestamp\"] / 60000)\n",
    "\n",
    "# jungle 성향 분석\n",
    "merged_df['jungle_ratio'] = merged_df['jungle_minions_killed'] / (merged_df['jungle_minions_killed'] + merged_df['minions_killed'])\n",
    "\n",
    "# 분당 골드\n",
    "merged_df[\"gold_per_min\"] = merged_df[\"total_gold\"] / (merged_df[\"frame_timestamp\"] / 60000)\n",
    "\n",
    "# 분당 경험치\n",
    "merged_df[\"xp_per_min\"] = merged_df[\"xp\"] / (merged_df[\"frame_timestamp\"] / 60000)"
   ]
  },
  {
   "cell_type": "markdown",
   "id": "ddaa2d34",
   "metadata": {},
   "source": [
    "### 전투 능력 지표\n",
    "\n",
    "지표 | 의미 | 해석\n",
    "---- | ---- | ----\n",
    "Damage/Min | 분당 딜량 | 전투 기여도\n",
    "Damage Taken/Min | 분당 받은 피해 | 탱킹 능력 또는 위험 노출\n",
    "KA/Min | 분당 킬 관여 수 | 싸움 참여율 (적극적인지 여부)\n",
    "Damage Efficiency | 피해 교환 비율 | 딜 효율 (딜을 얼마나 잘 넣고 덜 맞았는지)"
   ]
  },
  {
   "cell_type": "code",
   "execution_count": 173,
   "id": "9abb96ef",
   "metadata": {},
   "outputs": [],
   "source": [
    "# 전투력 관련 지표\n",
    "# 분당 피해량\n",
    "merged_df[\"damage_per_min\"] = merged_df[\"totalDamageDoneToChampions\"] / (merged_df[\"frame_timestamp\"] / 60000)\n",
    "\n",
    "# 분당 받은 피해량\n",
    "merged_df[\"damage_taken_per_min\"] = merged_df[\"totalDamageTaken\"] / (merged_df[\"frame_timestamp\"] / 60000)\n",
    "\n",
    "# 분당 킬 관여율 (K+A)/시간\n",
    "merged_df[\"ka_per_min\"] = (merged_df[\"kills\"] + merged_df[\"assists\"]) / (merged_df[\"frame_timestamp\"] / 60000)\n",
    "\n",
    "# 피해 교환 효율 (딜량 / 받은 피해량)\n",
    "merged_df[\"damage_efficiency\"] = merged_df[\"totalDamageDoneToChampions\"] / merged_df[\"totalDamageTaken\"].replace(0, 1)\n"
   ]
  },
  {
   "cell_type": "markdown",
   "id": "51178c99",
   "metadata": {},
   "source": [
    "### 생존력 지표\n",
    "\n",
    "지표 | 의미 | 해석\n",
    "---- | ---- | ----\n",
    "survivability | 생존률 | \n",
    "healthregen_per_min | 분당 체력 재생 | \n"
   ]
  },
  {
   "cell_type": "code",
   "execution_count": 174,
   "id": "347895bd",
   "metadata": {},
   "outputs": [],
   "source": [
    "# 생존력 지표\n",
    "# 생존률 (1 - 데스 / 평균 생존시간) → 데스 적을수록 높음\n",
    "merged_df[\"survivability\"] = 1 / merged_df[\"deaths\"].replace(0, 1)\n",
    "\n",
    "# 1. healthregen의 총합을 참가자별로 groupby\n",
    "agg_df = participants_frames.groupby(['game_id', 'participant_id']).agg({\n",
    "    'healthregen': 'sum',\n",
    "    'frame_timestamp': 'max'  # 해당 플레이어의 게임 시간 (ms)\n",
    "}).reset_index()\n",
    "\n",
    "# 2. 게임 시간(ms)를 분 단위로 변환\n",
    "agg_df['game_time_min'] = agg_df['frame_timestamp'] / 60000\n",
    "\n",
    "# 3. 분당 체력 재생량 계산\n",
    "agg_df['healthregen_per_min'] = agg_df['healthregen'] / agg_df['game_time_min']\n",
    "\n",
    "# 4. merged_df에 병합 (game_id + participant_id 기준)\n",
    "merged_df = merged_df.merge(\n",
    "    agg_df[['game_id', 'participant_id', 'healthregen_per_min']],\n",
    "    on=['game_id', 'participant_id'],\n",
    "    how='left'\n",
    ")\n",
    "\n",
    "# # 분당 체력 재생\n",
    "# merged_df[\"healthregen_per_min\"] = merged_df[\"healthregen\"] / (merged_df[\"frame_timestamp\"] / 60000)\n"
   ]
  },
  {
   "cell_type": "markdown",
   "id": "3484cf58",
   "metadata": {},
   "source": [
    "### 시야 장악 지표\n",
    "\n",
    "지표 | 의미 | 해석\n",
    "---- | ---- | ----\n",
    "Wards Placed/Min | 분당 설치 | 시야 제공 적극성\n",
    "Wards Killed/Min | 분당 제거 | 상대 시야 차단 능력\n",
    "Vision Score Est. | 설치+제거 총합 | 시야 장악 종합 평가 (approx.)"
   ]
  },
  {
   "cell_type": "code",
   "execution_count": 175,
   "id": "700a2ec5",
   "metadata": {},
   "outputs": [],
   "source": [
    "# 포지션 제어 / 시야 장악 지표\n",
    "wards_placed = pd.read_csv(\"data/top1000/events__WARD_PLACED.csv\")\n",
    "wards_killed = pd.read_csv(\"data/top1000/events__WARD_KILL.csv\")\n",
    "\n",
    "## 와드 설치 수\n",
    "ward_placed_count = (\n",
    "    wards_placed\n",
    "    .groupby([\"game_id\", \"creator_id\"])\n",
    "    .size()\n",
    "    .reset_index(name=\"wards_placed\")\n",
    "    .rename(columns={\"creator_id\": \"participant_id\"})\n",
    ")\n",
    "\n",
    "## 와드 제거 수\n",
    "ward_kill_count = (\n",
    "    wards_killed\n",
    "    .groupby([\"game_id\", \"killer_id\"])\n",
    "    .size()\n",
    "    .reset_index(name=\"wards_killed\")\n",
    "    .rename(columns={\"killer_id\": \"participant_id\"})\n",
    ")\n",
    "\n",
    "## merged_df에 와드 수 붙이기\n",
    "merged_df = (\n",
    "    merged_df\n",
    "    .merge(ward_placed_count, on=[\"game_id\", \"participant_id\"], how=\"left\")\n",
    "    .merge(ward_kill_count, on=[\"game_id\", \"participant_id\"], how=\"left\")\n",
    ")\n",
    "\n",
    "# 결측치는 0으로 처리\n",
    "merged_df[[\"wards_placed\", \"wards_killed\"]] = merged_df[[\"wards_placed\", \"wards_killed\"]].fillna(0).astype(int)\n",
    "\n",
    "## 시야 제어 파생 지표 추가\n",
    "# 분당 와드 설치\n",
    "merged_df[\"wards_placed_per_min\"] = merged_df[\"wards_placed\"] / (merged_df[\"frame_timestamp\"] / 60000)\n",
    "\n",
    "# 분당 와드 제거\n",
    "merged_df[\"wards_killed_per_min\"] = merged_df[\"wards_killed\"] / (merged_df[\"frame_timestamp\"] / 60000)\n",
    "\n",
    "# 종합 시야 지표 (설치 + 제거)\n",
    "merged_df[\"vision_score_est\"] = merged_df[\"wards_placed\"] + merged_df[\"wards_killed\"]\n"
   ]
  },
  {
   "cell_type": "markdown",
   "id": "933bcb7a",
   "metadata": {},
   "source": [
    "### 종합 능력치 지표\n",
    "기본 아이템 + 능력치 요약"
   ]
  },
  {
   "cell_type": "code",
   "execution_count": 176,
   "id": "fb85c0f3",
   "metadata": {},
   "outputs": [],
   "source": [
    "# 아이템/스탯 관련 종합 능력치\n",
    "# 전체 공격 스탯\n",
    "merged_df[\"offensive_score\"] = merged_df[\"attackdamage\"] + merged_df[\"attackspeed\"]\n",
    "\n",
    "# 전체 방어 스탯\n",
    "merged_df[\"defensive_score\"] = merged_df[\"armor\"] + merged_df[\"magicresist\"]\n",
    "\n",
    "# 전체 마법 능력치\n",
    "merged_df[\"magic_score\"] = merged_df[\"abilitypower\"] + merged_df[\"magicpen\"] + merged_df[\"magicpenpercent\"]\n"
   ]
  },
  {
   "cell_type": "markdown",
   "id": "d4671090",
   "metadata": {},
   "source": [
    "생존 또는 스킬 활용 능력"
   ]
  },
  {
   "cell_type": "code",
   "execution_count": 177,
   "id": "fb7b656b",
   "metadata": {},
   "outputs": [],
   "source": [
    "# 기타 유틸성 스탯\n",
    "# 만능 흡혈 + 물리 흡혈 + 주문 흡혈\n",
    "merged_df[\"total_vamp\"] = merged_df[[\"omnivamp\", \"physicalvamp\", \"spellvamp\"]].sum(axis=1)\n",
    "\n",
    "# 스킬 쿨다운 영향력\n",
    "merged_df[\"haste_score\"] = merged_df[\"cooldownreduction\"] + merged_df[\"abilityhaste\"]\n"
   ]
  },
  {
   "cell_type": "code",
   "execution_count": 180,
   "id": "3ea84853",
   "metadata": {},
   "outputs": [],
   "source": [
    "merged_df = merged_df.drop(columns = ['game_id', 'participant_id'])"
   ]
  },
  {
   "cell_type": "code",
   "execution_count": 181,
   "id": "0155775d",
   "metadata": {},
   "outputs": [
    {
     "data": {
      "text/html": [
       "<div>\n",
       "<style scoped>\n",
       "    .dataframe tbody tr th:only-of-type {\n",
       "        vertical-align: middle;\n",
       "    }\n",
       "\n",
       "    .dataframe tbody tr th {\n",
       "        vertical-align: top;\n",
       "    }\n",
       "\n",
       "    .dataframe thead th {\n",
       "        text-align: right;\n",
       "    }\n",
       "</style>\n",
       "<table border=\"1\" class=\"dataframe\">\n",
       "  <thead>\n",
       "    <tr style=\"text-align: right;\">\n",
       "      <th></th>\n",
       "      <th>puuid</th>\n",
       "      <th>frame_timestamp</th>\n",
       "      <th>current_gold</th>\n",
       "      <th>gold_per_second</th>\n",
       "      <th>jungle_minions_killed</th>\n",
       "      <th>level</th>\n",
       "      <th>minions_killed</th>\n",
       "      <th>time_enemy_spent_controlled</th>\n",
       "      <th>total_gold</th>\n",
       "      <th>xp</th>\n",
       "      <th>...</th>\n",
       "      <th>wards_placed</th>\n",
       "      <th>wards_killed</th>\n",
       "      <th>wards_placed_per_min</th>\n",
       "      <th>wards_killed_per_min</th>\n",
       "      <th>vision_score_est</th>\n",
       "      <th>offensive_score</th>\n",
       "      <th>defensive_score</th>\n",
       "      <th>magic_score</th>\n",
       "      <th>total_vamp</th>\n",
       "      <th>haste_score</th>\n",
       "    </tr>\n",
       "  </thead>\n",
       "  <tbody>\n",
       "    <tr>\n",
       "      <th>0</th>\n",
       "      <td>--UU6P3gS9XNXShhKrJjdwtMnSJhAhf1UwYbnXkteqewk9...</td>\n",
       "      <td>1.342382e+06</td>\n",
       "      <td>711.428571</td>\n",
       "      <td>35.714286</td>\n",
       "      <td>0.571429</td>\n",
       "      <td>9.571429</td>\n",
       "      <td>53.000000</td>\n",
       "      <td>60737.857143</td>\n",
       "      <td>7107.142857</td>\n",
       "      <td>6357.857143</td>\n",
       "      <td>...</td>\n",
       "      <td>28.714286</td>\n",
       "      <td>7.428571</td>\n",
       "      <td>1.275884</td>\n",
       "      <td>0.329068</td>\n",
       "      <td>36.142857</td>\n",
       "      <td>296.142857</td>\n",
       "      <td>126.571429</td>\n",
       "      <td>49.714286</td>\n",
       "      <td>0.0</td>\n",
       "      <td>0.0</td>\n",
       "    </tr>\n",
       "    <tr>\n",
       "      <th>1</th>\n",
       "      <td>-0PkJKNOrIe1cG-0lX_um4tEVXO7QvPRCfcgxaU9JZ9PIf...</td>\n",
       "      <td>1.294763e+06</td>\n",
       "      <td>495.000000</td>\n",
       "      <td>0.000000</td>\n",
       "      <td>41.500000</td>\n",
       "      <td>12.500000</td>\n",
       "      <td>125.000000</td>\n",
       "      <td>321477.000000</td>\n",
       "      <td>8772.500000</td>\n",
       "      <td>10836.000000</td>\n",
       "      <td>...</td>\n",
       "      <td>6.000000</td>\n",
       "      <td>2.000000</td>\n",
       "      <td>0.289675</td>\n",
       "      <td>0.086546</td>\n",
       "      <td>8.000000</td>\n",
       "      <td>285.500000</td>\n",
       "      <td>122.000000</td>\n",
       "      <td>233.000000</td>\n",
       "      <td>0.0</td>\n",
       "      <td>0.0</td>\n",
       "    </tr>\n",
       "    <tr>\n",
       "      <th>2</th>\n",
       "      <td>-0o6aHvXTe3xfjgA2mJbTCM85Y9vsqmgVmIBj-GX5sQV0m...</td>\n",
       "      <td>1.648124e+06</td>\n",
       "      <td>1366.000000</td>\n",
       "      <td>0.000000</td>\n",
       "      <td>187.000000</td>\n",
       "      <td>15.000000</td>\n",
       "      <td>10.500000</td>\n",
       "      <td>813079.000000</td>\n",
       "      <td>10567.500000</td>\n",
       "      <td>13827.000000</td>\n",
       "      <td>...</td>\n",
       "      <td>5.500000</td>\n",
       "      <td>8.500000</td>\n",
       "      <td>0.199846</td>\n",
       "      <td>0.307304</td>\n",
       "      <td>14.000000</td>\n",
       "      <td>255.000000</td>\n",
       "      <td>158.500000</td>\n",
       "      <td>263.000000</td>\n",
       "      <td>0.0</td>\n",
       "      <td>0.0</td>\n",
       "    </tr>\n",
       "    <tr>\n",
       "      <th>3</th>\n",
       "      <td>-1S8Vgzl5o8qRc1J24lsOqEi7WemMWiln924OtaniSSXZ-...</td>\n",
       "      <td>1.671957e+06</td>\n",
       "      <td>586.666667</td>\n",
       "      <td>0.000000</td>\n",
       "      <td>0.333333</td>\n",
       "      <td>15.000000</td>\n",
       "      <td>197.000000</td>\n",
       "      <td>431381.000000</td>\n",
       "      <td>11226.000000</td>\n",
       "      <td>13689.666667</td>\n",
       "      <td>...</td>\n",
       "      <td>9.000000</td>\n",
       "      <td>3.000000</td>\n",
       "      <td>0.346756</td>\n",
       "      <td>0.117124</td>\n",
       "      <td>12.000000</td>\n",
       "      <td>213.333333</td>\n",
       "      <td>142.666667</td>\n",
       "      <td>395.666667</td>\n",
       "      <td>0.0</td>\n",
       "      <td>0.0</td>\n",
       "    </tr>\n",
       "    <tr>\n",
       "      <th>4</th>\n",
       "      <td>-5HAguWtbg0NJsVdWoBJEpAcb_8m0qXJWCTB9KBOJbC4gD...</td>\n",
       "      <td>1.827048e+06</td>\n",
       "      <td>607.000000</td>\n",
       "      <td>0.000000</td>\n",
       "      <td>8.000000</td>\n",
       "      <td>14.000000</td>\n",
       "      <td>191.000000</td>\n",
       "      <td>60581.000000</td>\n",
       "      <td>11177.000000</td>\n",
       "      <td>12524.000000</td>\n",
       "      <td>...</td>\n",
       "      <td>7.000000</td>\n",
       "      <td>3.000000</td>\n",
       "      <td>0.229879</td>\n",
       "      <td>0.098520</td>\n",
       "      <td>10.000000</td>\n",
       "      <td>453.000000</td>\n",
       "      <td>122.000000</td>\n",
       "      <td>145.000000</td>\n",
       "      <td>0.0</td>\n",
       "      <td>0.0</td>\n",
       "    </tr>\n",
       "    <tr>\n",
       "      <th>...</th>\n",
       "      <td>...</td>\n",
       "      <td>...</td>\n",
       "      <td>...</td>\n",
       "      <td>...</td>\n",
       "      <td>...</td>\n",
       "      <td>...</td>\n",
       "      <td>...</td>\n",
       "      <td>...</td>\n",
       "      <td>...</td>\n",
       "      <td>...</td>\n",
       "      <td>...</td>\n",
       "      <td>...</td>\n",
       "      <td>...</td>\n",
       "      <td>...</td>\n",
       "      <td>...</td>\n",
       "      <td>...</td>\n",
       "      <td>...</td>\n",
       "      <td>...</td>\n",
       "      <td>...</td>\n",
       "      <td>...</td>\n",
       "      <td>...</td>\n",
       "    </tr>\n",
       "    <tr>\n",
       "      <th>2413</th>\n",
       "      <td>zuTzJktw2MnWYD9D_fYDG-brT-s577KqtSiDkg6KQQMpfJ...</td>\n",
       "      <td>1.498839e+06</td>\n",
       "      <td>927.666667</td>\n",
       "      <td>50.000000</td>\n",
       "      <td>0.000000</td>\n",
       "      <td>12.000000</td>\n",
       "      <td>25.333333</td>\n",
       "      <td>182773.666667</td>\n",
       "      <td>7246.000000</td>\n",
       "      <td>9259.000000</td>\n",
       "      <td>...</td>\n",
       "      <td>26.000000</td>\n",
       "      <td>4.333333</td>\n",
       "      <td>1.024894</td>\n",
       "      <td>0.168740</td>\n",
       "      <td>30.333333</td>\n",
       "      <td>201.666667</td>\n",
       "      <td>104.666667</td>\n",
       "      <td>187.666667</td>\n",
       "      <td>0.0</td>\n",
       "      <td>0.0</td>\n",
       "    </tr>\n",
       "    <tr>\n",
       "      <th>2414</th>\n",
       "      <td>zwyrrvZSzsm3wctHE28o2-6Fyh9rghSWzKJKqQSMaCnLlX...</td>\n",
       "      <td>1.212561e+06</td>\n",
       "      <td>964.000000</td>\n",
       "      <td>0.000000</td>\n",
       "      <td>0.000000</td>\n",
       "      <td>11.200000</td>\n",
       "      <td>169.200000</td>\n",
       "      <td>59283.000000</td>\n",
       "      <td>8886.600000</td>\n",
       "      <td>8361.600000</td>\n",
       "      <td>...</td>\n",
       "      <td>11.000000</td>\n",
       "      <td>2.600000</td>\n",
       "      <td>0.605038</td>\n",
       "      <td>0.134162</td>\n",
       "      <td>13.600000</td>\n",
       "      <td>409.600000</td>\n",
       "      <td>112.600000</td>\n",
       "      <td>10.000000</td>\n",
       "      <td>0.0</td>\n",
       "      <td>0.0</td>\n",
       "    </tr>\n",
       "    <tr>\n",
       "      <th>2415</th>\n",
       "      <td>zx3b47b39_fQAz0sueKSYg2MvsXyz3n3yftVu13TLBAvl7...</td>\n",
       "      <td>1.526417e+06</td>\n",
       "      <td>511.600000</td>\n",
       "      <td>50.000000</td>\n",
       "      <td>0.200000</td>\n",
       "      <td>10.600000</td>\n",
       "      <td>27.200000</td>\n",
       "      <td>133081.800000</td>\n",
       "      <td>6721.400000</td>\n",
       "      <td>7799.800000</td>\n",
       "      <td>...</td>\n",
       "      <td>31.600000</td>\n",
       "      <td>7.000000</td>\n",
       "      <td>1.212318</td>\n",
       "      <td>0.277032</td>\n",
       "      <td>38.600000</td>\n",
       "      <td>207.400000</td>\n",
       "      <td>182.600000</td>\n",
       "      <td>45.400000</td>\n",
       "      <td>0.0</td>\n",
       "      <td>0.0</td>\n",
       "    </tr>\n",
       "    <tr>\n",
       "      <th>2416</th>\n",
       "      <td>zxeBnmRsYg-hHMiD3q76HrWVNHntwjXehUhFAxkzTc2lR7...</td>\n",
       "      <td>1.926704e+06</td>\n",
       "      <td>922.250000</td>\n",
       "      <td>0.000000</td>\n",
       "      <td>3.750000</td>\n",
       "      <td>16.250000</td>\n",
       "      <td>210.000000</td>\n",
       "      <td>149276.000000</td>\n",
       "      <td>12963.500000</td>\n",
       "      <td>17385.250000</td>\n",
       "      <td>...</td>\n",
       "      <td>6.500000</td>\n",
       "      <td>4.000000</td>\n",
       "      <td>0.203751</td>\n",
       "      <td>0.122225</td>\n",
       "      <td>10.500000</td>\n",
       "      <td>357.250000</td>\n",
       "      <td>193.500000</td>\n",
       "      <td>367.750000</td>\n",
       "      <td>5.0</td>\n",
       "      <td>0.0</td>\n",
       "    </tr>\n",
       "    <tr>\n",
       "      <th>2417</th>\n",
       "      <td>zyxuRDZl9DjIsEu8V4pGlH5CPFvgNJBdSD5PBJ-uhniVtM...</td>\n",
       "      <td>1.516484e+06</td>\n",
       "      <td>863.000000</td>\n",
       "      <td>0.000000</td>\n",
       "      <td>0.000000</td>\n",
       "      <td>13.000000</td>\n",
       "      <td>215.000000</td>\n",
       "      <td>70937.000000</td>\n",
       "      <td>9652.000000</td>\n",
       "      <td>11071.000000</td>\n",
       "      <td>...</td>\n",
       "      <td>6.000000</td>\n",
       "      <td>10.000000</td>\n",
       "      <td>0.237391</td>\n",
       "      <td>0.395652</td>\n",
       "      <td>16.000000</td>\n",
       "      <td>437.000000</td>\n",
       "      <td>140.000000</td>\n",
       "      <td>0.000000</td>\n",
       "      <td>0.0</td>\n",
       "      <td>0.0</td>\n",
       "    </tr>\n",
       "  </tbody>\n",
       "</table>\n",
       "<p>2418 rows × 74 columns</p>\n",
       "</div>"
      ],
      "text/plain": [
       "                                                  puuid  frame_timestamp  \\\n",
       "0     --UU6P3gS9XNXShhKrJjdwtMnSJhAhf1UwYbnXkteqewk9...     1.342382e+06   \n",
       "1     -0PkJKNOrIe1cG-0lX_um4tEVXO7QvPRCfcgxaU9JZ9PIf...     1.294763e+06   \n",
       "2     -0o6aHvXTe3xfjgA2mJbTCM85Y9vsqmgVmIBj-GX5sQV0m...     1.648124e+06   \n",
       "3     -1S8Vgzl5o8qRc1J24lsOqEi7WemMWiln924OtaniSSXZ-...     1.671957e+06   \n",
       "4     -5HAguWtbg0NJsVdWoBJEpAcb_8m0qXJWCTB9KBOJbC4gD...     1.827048e+06   \n",
       "...                                                 ...              ...   \n",
       "2413  zuTzJktw2MnWYD9D_fYDG-brT-s577KqtSiDkg6KQQMpfJ...     1.498839e+06   \n",
       "2414  zwyrrvZSzsm3wctHE28o2-6Fyh9rghSWzKJKqQSMaCnLlX...     1.212561e+06   \n",
       "2415  zx3b47b39_fQAz0sueKSYg2MvsXyz3n3yftVu13TLBAvl7...     1.526417e+06   \n",
       "2416  zxeBnmRsYg-hHMiD3q76HrWVNHntwjXehUhFAxkzTc2lR7...     1.926704e+06   \n",
       "2417  zyxuRDZl9DjIsEu8V4pGlH5CPFvgNJBdSD5PBJ-uhniVtM...     1.516484e+06   \n",
       "\n",
       "      current_gold  gold_per_second  jungle_minions_killed      level  \\\n",
       "0       711.428571        35.714286               0.571429   9.571429   \n",
       "1       495.000000         0.000000              41.500000  12.500000   \n",
       "2      1366.000000         0.000000             187.000000  15.000000   \n",
       "3       586.666667         0.000000               0.333333  15.000000   \n",
       "4       607.000000         0.000000               8.000000  14.000000   \n",
       "...            ...              ...                    ...        ...   \n",
       "2413    927.666667        50.000000               0.000000  12.000000   \n",
       "2414    964.000000         0.000000               0.000000  11.200000   \n",
       "2415    511.600000        50.000000               0.200000  10.600000   \n",
       "2416    922.250000         0.000000               3.750000  16.250000   \n",
       "2417    863.000000         0.000000               0.000000  13.000000   \n",
       "\n",
       "      minions_killed  time_enemy_spent_controlled    total_gold            xp  \\\n",
       "0          53.000000                 60737.857143   7107.142857   6357.857143   \n",
       "1         125.000000                321477.000000   8772.500000  10836.000000   \n",
       "2          10.500000                813079.000000  10567.500000  13827.000000   \n",
       "3         197.000000                431381.000000  11226.000000  13689.666667   \n",
       "4         191.000000                 60581.000000  11177.000000  12524.000000   \n",
       "...              ...                          ...           ...           ...   \n",
       "2413       25.333333                182773.666667   7246.000000   9259.000000   \n",
       "2414      169.200000                 59283.000000   8886.600000   8361.600000   \n",
       "2415       27.200000                133081.800000   6721.400000   7799.800000   \n",
       "2416      210.000000                149276.000000  12963.500000  17385.250000   \n",
       "2417      215.000000                 70937.000000   9652.000000  11071.000000   \n",
       "\n",
       "      ...  wards_placed  wards_killed  wards_placed_per_min  \\\n",
       "0     ...     28.714286      7.428571              1.275884   \n",
       "1     ...      6.000000      2.000000              0.289675   \n",
       "2     ...      5.500000      8.500000              0.199846   \n",
       "3     ...      9.000000      3.000000              0.346756   \n",
       "4     ...      7.000000      3.000000              0.229879   \n",
       "...   ...           ...           ...                   ...   \n",
       "2413  ...     26.000000      4.333333              1.024894   \n",
       "2414  ...     11.000000      2.600000              0.605038   \n",
       "2415  ...     31.600000      7.000000              1.212318   \n",
       "2416  ...      6.500000      4.000000              0.203751   \n",
       "2417  ...      6.000000     10.000000              0.237391   \n",
       "\n",
       "      wards_killed_per_min  vision_score_est  offensive_score  \\\n",
       "0                 0.329068         36.142857       296.142857   \n",
       "1                 0.086546          8.000000       285.500000   \n",
       "2                 0.307304         14.000000       255.000000   \n",
       "3                 0.117124         12.000000       213.333333   \n",
       "4                 0.098520         10.000000       453.000000   \n",
       "...                    ...               ...              ...   \n",
       "2413              0.168740         30.333333       201.666667   \n",
       "2414              0.134162         13.600000       409.600000   \n",
       "2415              0.277032         38.600000       207.400000   \n",
       "2416              0.122225         10.500000       357.250000   \n",
       "2417              0.395652         16.000000       437.000000   \n",
       "\n",
       "      defensive_score  magic_score  total_vamp  haste_score  \n",
       "0          126.571429    49.714286         0.0          0.0  \n",
       "1          122.000000   233.000000         0.0          0.0  \n",
       "2          158.500000   263.000000         0.0          0.0  \n",
       "3          142.666667   395.666667         0.0          0.0  \n",
       "4          122.000000   145.000000         0.0          0.0  \n",
       "...               ...          ...         ...          ...  \n",
       "2413       104.666667   187.666667         0.0          0.0  \n",
       "2414       112.600000    10.000000         0.0          0.0  \n",
       "2415       182.600000    45.400000         0.0          0.0  \n",
       "2416       193.500000   367.750000         5.0          0.0  \n",
       "2417       140.000000     0.000000         0.0          0.0  \n",
       "\n",
       "[2418 rows x 74 columns]"
      ]
     },
     "execution_count": 181,
     "metadata": {},
     "output_type": "execute_result"
    }
   ],
   "source": [
    "grouped_df = merged_df.groupby('puuid').mean().reset_index()\n",
    "grouped_df"
   ]
  },
  {
   "cell_type": "markdown",
   "id": "1dd7cfc0",
   "metadata": {},
   "source": [
    "## 3. 변수 선택 및 스케일링"
   ]
  },
  {
   "cell_type": "code",
   "execution_count": 184,
   "id": "c78d0a33",
   "metadata": {},
   "outputs": [],
   "source": [
    "features = [\n",
    "    \"kills\", \"deaths\", \"assists\", \"lane_cs_per_min\", \"jungle_cs_per_min\", \"jungle_ratio\",\n",
    "    \"KDA\", \"gold_per_min\", \"xp_per_min\",\n",
    "    \"damage_per_min\", \"damage_taken_per_min\", \"ka_per_min\", \"damage_efficiency\",\n",
    "    \"survivability\", \"healthregen_per_min\",\n",
    "    \"offensive_score\", \"defensive_score\", \"magic_score\", \"total_vamp\", \"haste_score\",\n",
    "    \"wards_placed_per_min\", \"wards_killed_per_min\", \"vision_score_est\"\n",
    "]"
   ]
  },
  {
   "cell_type": "code",
   "execution_count": 185,
   "id": "924f33fd",
   "metadata": {},
   "outputs": [
    {
     "data": {
      "text/html": [
       "<div>\n",
       "<style scoped>\n",
       "    .dataframe tbody tr th:only-of-type {\n",
       "        vertical-align: middle;\n",
       "    }\n",
       "\n",
       "    .dataframe tbody tr th {\n",
       "        vertical-align: top;\n",
       "    }\n",
       "\n",
       "    .dataframe thead th {\n",
       "        text-align: right;\n",
       "    }\n",
       "</style>\n",
       "<table border=\"1\" class=\"dataframe\">\n",
       "  <thead>\n",
       "    <tr style=\"text-align: right;\">\n",
       "      <th></th>\n",
       "      <th>kills</th>\n",
       "      <th>deaths</th>\n",
       "      <th>assists</th>\n",
       "      <th>lane_cs_per_min</th>\n",
       "      <th>jungle_cs_per_min</th>\n",
       "      <th>jungle_ratio</th>\n",
       "      <th>KDA</th>\n",
       "      <th>gold_per_min</th>\n",
       "      <th>xp_per_min</th>\n",
       "      <th>damage_per_min</th>\n",
       "      <th>...</th>\n",
       "      <th>survivability</th>\n",
       "      <th>healthregen_per_min</th>\n",
       "      <th>offensive_score</th>\n",
       "      <th>defensive_score</th>\n",
       "      <th>magic_score</th>\n",
       "      <th>total_vamp</th>\n",
       "      <th>haste_score</th>\n",
       "      <th>wards_placed_per_min</th>\n",
       "      <th>wards_killed_per_min</th>\n",
       "      <th>vision_score_est</th>\n",
       "    </tr>\n",
       "  </thead>\n",
       "  <tbody>\n",
       "    <tr>\n",
       "      <th>0</th>\n",
       "      <td>3.000000</td>\n",
       "      <td>6.428571</td>\n",
       "      <td>6.285714</td>\n",
       "      <td>2.541444</td>\n",
       "      <td>0.037034</td>\n",
       "      <td>0.038095</td>\n",
       "      <td>2.726984</td>\n",
       "      <td>326.166208</td>\n",
       "      <td>284.953724</td>\n",
       "      <td>424.448871</td>\n",
       "      <td>...</td>\n",
       "      <td>0.268027</td>\n",
       "      <td>33.636125</td>\n",
       "      <td>296.142857</td>\n",
       "      <td>126.571429</td>\n",
       "      <td>49.714286</td>\n",
       "      <td>0.0</td>\n",
       "      <td>0.0</td>\n",
       "      <td>1.275884</td>\n",
       "      <td>0.329068</td>\n",
       "      <td>36.142857</td>\n",
       "    </tr>\n",
       "    <tr>\n",
       "      <th>1</th>\n",
       "      <td>3.500000</td>\n",
       "      <td>4.500000</td>\n",
       "      <td>5.000000</td>\n",
       "      <td>4.605603</td>\n",
       "      <td>2.730754</td>\n",
       "      <td>0.451087</td>\n",
       "      <td>1.800000</td>\n",
       "      <td>396.459185</td>\n",
       "      <td>478.172058</td>\n",
       "      <td>704.375912</td>\n",
       "      <td>...</td>\n",
       "      <td>0.225000</td>\n",
       "      <td>32.174180</td>\n",
       "      <td>285.500000</td>\n",
       "      <td>122.000000</td>\n",
       "      <td>233.000000</td>\n",
       "      <td>0.0</td>\n",
       "      <td>0.0</td>\n",
       "      <td>0.289675</td>\n",
       "      <td>0.086546</td>\n",
       "      <td>8.000000</td>\n",
       "    </tr>\n",
       "    <tr>\n",
       "      <th>2</th>\n",
       "      <td>4.500000</td>\n",
       "      <td>2.500000</td>\n",
       "      <td>7.000000</td>\n",
       "      <td>0.382491</td>\n",
       "      <td>6.871390</td>\n",
       "      <td>0.946126</td>\n",
       "      <td>7.750000</td>\n",
       "      <td>387.689206</td>\n",
       "      <td>507.891553</td>\n",
       "      <td>529.058669</td>\n",
       "      <td>...</td>\n",
       "      <td>0.625000</td>\n",
       "      <td>44.342066</td>\n",
       "      <td>255.000000</td>\n",
       "      <td>158.500000</td>\n",
       "      <td>263.000000</td>\n",
       "      <td>0.0</td>\n",
       "      <td>0.0</td>\n",
       "      <td>0.199846</td>\n",
       "      <td>0.307304</td>\n",
       "      <td>14.000000</td>\n",
       "    </tr>\n",
       "    <tr>\n",
       "      <th>3</th>\n",
       "      <td>4.000000</td>\n",
       "      <td>5.333333</td>\n",
       "      <td>15.666667</td>\n",
       "      <td>7.273737</td>\n",
       "      <td>0.015468</td>\n",
       "      <td>0.001842</td>\n",
       "      <td>4.263889</td>\n",
       "      <td>406.707915</td>\n",
       "      <td>492.078102</td>\n",
       "      <td>874.762058</td>\n",
       "      <td>...</td>\n",
       "      <td>0.263889</td>\n",
       "      <td>28.844061</td>\n",
       "      <td>213.333333</td>\n",
       "      <td>142.666667</td>\n",
       "      <td>395.666667</td>\n",
       "      <td>0.0</td>\n",
       "      <td>0.0</td>\n",
       "      <td>0.346756</td>\n",
       "      <td>0.117124</td>\n",
       "      <td>12.000000</td>\n",
       "    </tr>\n",
       "    <tr>\n",
       "      <th>4</th>\n",
       "      <td>6.000000</td>\n",
       "      <td>6.000000</td>\n",
       "      <td>10.000000</td>\n",
       "      <td>6.272413</td>\n",
       "      <td>0.262719</td>\n",
       "      <td>0.040201</td>\n",
       "      <td>2.666667</td>\n",
       "      <td>367.051112</td>\n",
       "      <td>411.286403</td>\n",
       "      <td>703.429795</td>\n",
       "      <td>...</td>\n",
       "      <td>0.166667</td>\n",
       "      <td>25.188172</td>\n",
       "      <td>453.000000</td>\n",
       "      <td>122.000000</td>\n",
       "      <td>145.000000</td>\n",
       "      <td>0.0</td>\n",
       "      <td>0.0</td>\n",
       "      <td>0.229879</td>\n",
       "      <td>0.098520</td>\n",
       "      <td>10.000000</td>\n",
       "    </tr>\n",
       "    <tr>\n",
       "      <th>...</th>\n",
       "      <td>...</td>\n",
       "      <td>...</td>\n",
       "      <td>...</td>\n",
       "      <td>...</td>\n",
       "      <td>...</td>\n",
       "      <td>...</td>\n",
       "      <td>...</td>\n",
       "      <td>...</td>\n",
       "      <td>...</td>\n",
       "      <td>...</td>\n",
       "      <td>...</td>\n",
       "      <td>...</td>\n",
       "      <td>...</td>\n",
       "      <td>...</td>\n",
       "      <td>...</td>\n",
       "      <td>...</td>\n",
       "      <td>...</td>\n",
       "      <td>...</td>\n",
       "      <td>...</td>\n",
       "      <td>...</td>\n",
       "      <td>...</td>\n",
       "    </tr>\n",
       "    <tr>\n",
       "      <th>2413</th>\n",
       "      <td>1.333333</td>\n",
       "      <td>2.000000</td>\n",
       "      <td>21.333333</td>\n",
       "      <td>1.012666</td>\n",
       "      <td>0.000000</td>\n",
       "      <td>0.000000</td>\n",
       "      <td>13.000000</td>\n",
       "      <td>290.812194</td>\n",
       "      <td>358.051157</td>\n",
       "      <td>165.686041</td>\n",
       "      <td>...</td>\n",
       "      <td>0.611111</td>\n",
       "      <td>27.634148</td>\n",
       "      <td>201.666667</td>\n",
       "      <td>104.666667</td>\n",
       "      <td>187.666667</td>\n",
       "      <td>0.0</td>\n",
       "      <td>0.0</td>\n",
       "      <td>1.024894</td>\n",
       "      <td>0.168740</td>\n",
       "      <td>30.333333</td>\n",
       "    </tr>\n",
       "    <tr>\n",
       "      <th>2414</th>\n",
       "      <td>4.000000</td>\n",
       "      <td>3.800000</td>\n",
       "      <td>4.000000</td>\n",
       "      <td>8.325295</td>\n",
       "      <td>0.000000</td>\n",
       "      <td>0.000000</td>\n",
       "      <td>2.519048</td>\n",
       "      <td>435.914493</td>\n",
       "      <td>408.449208</td>\n",
       "      <td>521.067938</td>\n",
       "      <td>...</td>\n",
       "      <td>0.428571</td>\n",
       "      <td>28.224096</td>\n",
       "      <td>409.600000</td>\n",
       "      <td>112.600000</td>\n",
       "      <td>10.000000</td>\n",
       "      <td>0.0</td>\n",
       "      <td>0.0</td>\n",
       "      <td>0.605038</td>\n",
       "      <td>0.134162</td>\n",
       "      <td>13.600000</td>\n",
       "    </tr>\n",
       "    <tr>\n",
       "      <th>2415</th>\n",
       "      <td>1.800000</td>\n",
       "      <td>6.400000</td>\n",
       "      <td>12.000000</td>\n",
       "      <td>1.136588</td>\n",
       "      <td>0.007083</td>\n",
       "      <td>0.009091</td>\n",
       "      <td>2.564524</td>\n",
       "      <td>264.354897</td>\n",
       "      <td>301.228254</td>\n",
       "      <td>289.321160</td>\n",
       "      <td>...</td>\n",
       "      <td>0.190238</td>\n",
       "      <td>36.240010</td>\n",
       "      <td>207.400000</td>\n",
       "      <td>182.600000</td>\n",
       "      <td>45.400000</td>\n",
       "      <td>0.0</td>\n",
       "      <td>0.0</td>\n",
       "      <td>1.212318</td>\n",
       "      <td>0.277032</td>\n",
       "      <td>38.600000</td>\n",
       "    </tr>\n",
       "    <tr>\n",
       "      <th>2416</th>\n",
       "      <td>6.250000</td>\n",
       "      <td>7.500000</td>\n",
       "      <td>8.500000</td>\n",
       "      <td>6.512612</td>\n",
       "      <td>0.108164</td>\n",
       "      <td>0.015846</td>\n",
       "      <td>2.227083</td>\n",
       "      <td>399.508387</td>\n",
       "      <td>535.312137</td>\n",
       "      <td>965.373112</td>\n",
       "      <td>...</td>\n",
       "      <td>0.139583</td>\n",
       "      <td>49.464724</td>\n",
       "      <td>357.250000</td>\n",
       "      <td>193.500000</td>\n",
       "      <td>367.750000</td>\n",
       "      <td>5.0</td>\n",
       "      <td>0.0</td>\n",
       "      <td>0.203751</td>\n",
       "      <td>0.122225</td>\n",
       "      <td>10.500000</td>\n",
       "    </tr>\n",
       "    <tr>\n",
       "      <th>2417</th>\n",
       "      <td>2.000000</td>\n",
       "      <td>6.000000</td>\n",
       "      <td>8.000000</td>\n",
       "      <td>8.506519</td>\n",
       "      <td>0.000000</td>\n",
       "      <td>0.000000</td>\n",
       "      <td>1.666667</td>\n",
       "      <td>381.883357</td>\n",
       "      <td>438.026382</td>\n",
       "      <td>915.341012</td>\n",
       "      <td>...</td>\n",
       "      <td>0.166667</td>\n",
       "      <td>14.916082</td>\n",
       "      <td>437.000000</td>\n",
       "      <td>140.000000</td>\n",
       "      <td>0.000000</td>\n",
       "      <td>0.0</td>\n",
       "      <td>0.0</td>\n",
       "      <td>0.237391</td>\n",
       "      <td>0.395652</td>\n",
       "      <td>16.000000</td>\n",
       "    </tr>\n",
       "  </tbody>\n",
       "</table>\n",
       "<p>2418 rows × 23 columns</p>\n",
       "</div>"
      ],
      "text/plain": [
       "         kills    deaths    assists  lane_cs_per_min  jungle_cs_per_min  \\\n",
       "0     3.000000  6.428571   6.285714         2.541444           0.037034   \n",
       "1     3.500000  4.500000   5.000000         4.605603           2.730754   \n",
       "2     4.500000  2.500000   7.000000         0.382491           6.871390   \n",
       "3     4.000000  5.333333  15.666667         7.273737           0.015468   \n",
       "4     6.000000  6.000000  10.000000         6.272413           0.262719   \n",
       "...        ...       ...        ...              ...                ...   \n",
       "2413  1.333333  2.000000  21.333333         1.012666           0.000000   \n",
       "2414  4.000000  3.800000   4.000000         8.325295           0.000000   \n",
       "2415  1.800000  6.400000  12.000000         1.136588           0.007083   \n",
       "2416  6.250000  7.500000   8.500000         6.512612           0.108164   \n",
       "2417  2.000000  6.000000   8.000000         8.506519           0.000000   \n",
       "\n",
       "      jungle_ratio        KDA  gold_per_min  xp_per_min  damage_per_min  ...  \\\n",
       "0         0.038095   2.726984    326.166208  284.953724      424.448871  ...   \n",
       "1         0.451087   1.800000    396.459185  478.172058      704.375912  ...   \n",
       "2         0.946126   7.750000    387.689206  507.891553      529.058669  ...   \n",
       "3         0.001842   4.263889    406.707915  492.078102      874.762058  ...   \n",
       "4         0.040201   2.666667    367.051112  411.286403      703.429795  ...   \n",
       "...            ...        ...           ...         ...             ...  ...   \n",
       "2413      0.000000  13.000000    290.812194  358.051157      165.686041  ...   \n",
       "2414      0.000000   2.519048    435.914493  408.449208      521.067938  ...   \n",
       "2415      0.009091   2.564524    264.354897  301.228254      289.321160  ...   \n",
       "2416      0.015846   2.227083    399.508387  535.312137      965.373112  ...   \n",
       "2417      0.000000   1.666667    381.883357  438.026382      915.341012  ...   \n",
       "\n",
       "      survivability  healthregen_per_min  offensive_score  defensive_score  \\\n",
       "0          0.268027            33.636125       296.142857       126.571429   \n",
       "1          0.225000            32.174180       285.500000       122.000000   \n",
       "2          0.625000            44.342066       255.000000       158.500000   \n",
       "3          0.263889            28.844061       213.333333       142.666667   \n",
       "4          0.166667            25.188172       453.000000       122.000000   \n",
       "...             ...                  ...              ...              ...   \n",
       "2413       0.611111            27.634148       201.666667       104.666667   \n",
       "2414       0.428571            28.224096       409.600000       112.600000   \n",
       "2415       0.190238            36.240010       207.400000       182.600000   \n",
       "2416       0.139583            49.464724       357.250000       193.500000   \n",
       "2417       0.166667            14.916082       437.000000       140.000000   \n",
       "\n",
       "      magic_score  total_vamp  haste_score  wards_placed_per_min  \\\n",
       "0       49.714286         0.0          0.0              1.275884   \n",
       "1      233.000000         0.0          0.0              0.289675   \n",
       "2      263.000000         0.0          0.0              0.199846   \n",
       "3      395.666667         0.0          0.0              0.346756   \n",
       "4      145.000000         0.0          0.0              0.229879   \n",
       "...           ...         ...          ...                   ...   \n",
       "2413   187.666667         0.0          0.0              1.024894   \n",
       "2414    10.000000         0.0          0.0              0.605038   \n",
       "2415    45.400000         0.0          0.0              1.212318   \n",
       "2416   367.750000         5.0          0.0              0.203751   \n",
       "2417     0.000000         0.0          0.0              0.237391   \n",
       "\n",
       "      wards_killed_per_min  vision_score_est  \n",
       "0                 0.329068         36.142857  \n",
       "1                 0.086546          8.000000  \n",
       "2                 0.307304         14.000000  \n",
       "3                 0.117124         12.000000  \n",
       "4                 0.098520         10.000000  \n",
       "...                    ...               ...  \n",
       "2413              0.168740         30.333333  \n",
       "2414              0.134162         13.600000  \n",
       "2415              0.277032         38.600000  \n",
       "2416              0.122225         10.500000  \n",
       "2417              0.395652         16.000000  \n",
       "\n",
       "[2418 rows x 23 columns]"
      ]
     },
     "execution_count": 185,
     "metadata": {},
     "output_type": "execute_result"
    }
   ],
   "source": [
    "filtered_df = grouped_df[features].fillna(0)\n",
    "filtered_df"
   ]
  },
  {
   "cell_type": "code",
   "execution_count": 186,
   "id": "8b72d580",
   "metadata": {},
   "outputs": [
    {
     "data": {
      "text/html": [
       "<div>\n",
       "<style scoped>\n",
       "    .dataframe tbody tr th:only-of-type {\n",
       "        vertical-align: middle;\n",
       "    }\n",
       "\n",
       "    .dataframe tbody tr th {\n",
       "        vertical-align: top;\n",
       "    }\n",
       "\n",
       "    .dataframe thead th {\n",
       "        text-align: right;\n",
       "    }\n",
       "</style>\n",
       "<table border=\"1\" class=\"dataframe\">\n",
       "  <thead>\n",
       "    <tr style=\"text-align: right;\">\n",
       "      <th></th>\n",
       "      <th>kills</th>\n",
       "      <th>deaths</th>\n",
       "      <th>assists</th>\n",
       "      <th>lane_cs_per_min</th>\n",
       "      <th>jungle_cs_per_min</th>\n",
       "      <th>jungle_ratio</th>\n",
       "      <th>KDA</th>\n",
       "      <th>gold_per_min</th>\n",
       "      <th>xp_per_min</th>\n",
       "      <th>damage_per_min</th>\n",
       "      <th>...</th>\n",
       "      <th>damage_efficiency</th>\n",
       "      <th>survivability</th>\n",
       "      <th>healthregen_per_min</th>\n",
       "      <th>offensive_score</th>\n",
       "      <th>defensive_score</th>\n",
       "      <th>magic_score</th>\n",
       "      <th>total_vamp</th>\n",
       "      <th>wards_placed_per_min</th>\n",
       "      <th>wards_killed_per_min</th>\n",
       "      <th>vision_score_est</th>\n",
       "    </tr>\n",
       "  </thead>\n",
       "  <tbody>\n",
       "    <tr>\n",
       "      <th>0</th>\n",
       "      <td>3.000000</td>\n",
       "      <td>6.428571</td>\n",
       "      <td>6.285714</td>\n",
       "      <td>2.541444</td>\n",
       "      <td>0.037034</td>\n",
       "      <td>0.038095</td>\n",
       "      <td>2.726984</td>\n",
       "      <td>326.166208</td>\n",
       "      <td>284.953724</td>\n",
       "      <td>424.448871</td>\n",
       "      <td>...</td>\n",
       "      <td>0.624695</td>\n",
       "      <td>0.268027</td>\n",
       "      <td>33.636125</td>\n",
       "      <td>296.142857</td>\n",
       "      <td>126.571429</td>\n",
       "      <td>49.714286</td>\n",
       "      <td>0.0</td>\n",
       "      <td>1.275884</td>\n",
       "      <td>0.329068</td>\n",
       "      <td>36.142857</td>\n",
       "    </tr>\n",
       "    <tr>\n",
       "      <th>1</th>\n",
       "      <td>3.500000</td>\n",
       "      <td>4.500000</td>\n",
       "      <td>5.000000</td>\n",
       "      <td>4.605603</td>\n",
       "      <td>2.730754</td>\n",
       "      <td>0.451087</td>\n",
       "      <td>1.800000</td>\n",
       "      <td>396.459185</td>\n",
       "      <td>478.172058</td>\n",
       "      <td>704.375912</td>\n",
       "      <td>...</td>\n",
       "      <td>0.858635</td>\n",
       "      <td>0.225000</td>\n",
       "      <td>32.174180</td>\n",
       "      <td>285.500000</td>\n",
       "      <td>122.000000</td>\n",
       "      <td>233.000000</td>\n",
       "      <td>0.0</td>\n",
       "      <td>0.289675</td>\n",
       "      <td>0.086546</td>\n",
       "      <td>8.000000</td>\n",
       "    </tr>\n",
       "    <tr>\n",
       "      <th>2</th>\n",
       "      <td>4.500000</td>\n",
       "      <td>2.500000</td>\n",
       "      <td>7.000000</td>\n",
       "      <td>0.382491</td>\n",
       "      <td>6.871390</td>\n",
       "      <td>0.946126</td>\n",
       "      <td>7.750000</td>\n",
       "      <td>387.689206</td>\n",
       "      <td>507.891553</td>\n",
       "      <td>529.058669</td>\n",
       "      <td>...</td>\n",
       "      <td>0.599451</td>\n",
       "      <td>0.625000</td>\n",
       "      <td>44.342066</td>\n",
       "      <td>255.000000</td>\n",
       "      <td>158.500000</td>\n",
       "      <td>263.000000</td>\n",
       "      <td>0.0</td>\n",
       "      <td>0.199846</td>\n",
       "      <td>0.307304</td>\n",
       "      <td>14.000000</td>\n",
       "    </tr>\n",
       "    <tr>\n",
       "      <th>3</th>\n",
       "      <td>4.000000</td>\n",
       "      <td>5.333333</td>\n",
       "      <td>15.666667</td>\n",
       "      <td>7.273737</td>\n",
       "      <td>0.015468</td>\n",
       "      <td>0.001842</td>\n",
       "      <td>4.263889</td>\n",
       "      <td>406.707915</td>\n",
       "      <td>492.078102</td>\n",
       "      <td>874.762058</td>\n",
       "      <td>...</td>\n",
       "      <td>1.505342</td>\n",
       "      <td>0.263889</td>\n",
       "      <td>28.844061</td>\n",
       "      <td>213.333333</td>\n",
       "      <td>142.666667</td>\n",
       "      <td>395.666667</td>\n",
       "      <td>0.0</td>\n",
       "      <td>0.346756</td>\n",
       "      <td>0.117124</td>\n",
       "      <td>12.000000</td>\n",
       "    </tr>\n",
       "    <tr>\n",
       "      <th>4</th>\n",
       "      <td>6.000000</td>\n",
       "      <td>6.000000</td>\n",
       "      <td>10.000000</td>\n",
       "      <td>6.272413</td>\n",
       "      <td>0.262719</td>\n",
       "      <td>0.040201</td>\n",
       "      <td>2.666667</td>\n",
       "      <td>367.051112</td>\n",
       "      <td>411.286403</td>\n",
       "      <td>703.429795</td>\n",
       "      <td>...</td>\n",
       "      <td>0.769590</td>\n",
       "      <td>0.166667</td>\n",
       "      <td>25.188172</td>\n",
       "      <td>453.000000</td>\n",
       "      <td>122.000000</td>\n",
       "      <td>145.000000</td>\n",
       "      <td>0.0</td>\n",
       "      <td>0.229879</td>\n",
       "      <td>0.098520</td>\n",
       "      <td>10.000000</td>\n",
       "    </tr>\n",
       "    <tr>\n",
       "      <th>...</th>\n",
       "      <td>...</td>\n",
       "      <td>...</td>\n",
       "      <td>...</td>\n",
       "      <td>...</td>\n",
       "      <td>...</td>\n",
       "      <td>...</td>\n",
       "      <td>...</td>\n",
       "      <td>...</td>\n",
       "      <td>...</td>\n",
       "      <td>...</td>\n",
       "      <td>...</td>\n",
       "      <td>...</td>\n",
       "      <td>...</td>\n",
       "      <td>...</td>\n",
       "      <td>...</td>\n",
       "      <td>...</td>\n",
       "      <td>...</td>\n",
       "      <td>...</td>\n",
       "      <td>...</td>\n",
       "      <td>...</td>\n",
       "      <td>...</td>\n",
       "    </tr>\n",
       "    <tr>\n",
       "      <th>2413</th>\n",
       "      <td>1.333333</td>\n",
       "      <td>2.000000</td>\n",
       "      <td>21.333333</td>\n",
       "      <td>1.012666</td>\n",
       "      <td>0.000000</td>\n",
       "      <td>0.000000</td>\n",
       "      <td>13.000000</td>\n",
       "      <td>290.812194</td>\n",
       "      <td>358.051157</td>\n",
       "      <td>165.686041</td>\n",
       "      <td>...</td>\n",
       "      <td>0.562242</td>\n",
       "      <td>0.611111</td>\n",
       "      <td>27.634148</td>\n",
       "      <td>201.666667</td>\n",
       "      <td>104.666667</td>\n",
       "      <td>187.666667</td>\n",
       "      <td>0.0</td>\n",
       "      <td>1.024894</td>\n",
       "      <td>0.168740</td>\n",
       "      <td>30.333333</td>\n",
       "    </tr>\n",
       "    <tr>\n",
       "      <th>2414</th>\n",
       "      <td>4.000000</td>\n",
       "      <td>3.800000</td>\n",
       "      <td>4.000000</td>\n",
       "      <td>8.325295</td>\n",
       "      <td>0.000000</td>\n",
       "      <td>0.000000</td>\n",
       "      <td>2.519048</td>\n",
       "      <td>435.914493</td>\n",
       "      <td>408.449208</td>\n",
       "      <td>521.067938</td>\n",
       "      <td>...</td>\n",
       "      <td>0.860420</td>\n",
       "      <td>0.428571</td>\n",
       "      <td>28.224096</td>\n",
       "      <td>409.600000</td>\n",
       "      <td>112.600000</td>\n",
       "      <td>10.000000</td>\n",
       "      <td>0.0</td>\n",
       "      <td>0.605038</td>\n",
       "      <td>0.134162</td>\n",
       "      <td>13.600000</td>\n",
       "    </tr>\n",
       "    <tr>\n",
       "      <th>2415</th>\n",
       "      <td>1.800000</td>\n",
       "      <td>6.400000</td>\n",
       "      <td>12.000000</td>\n",
       "      <td>1.136588</td>\n",
       "      <td>0.007083</td>\n",
       "      <td>0.009091</td>\n",
       "      <td>2.564524</td>\n",
       "      <td>264.354897</td>\n",
       "      <td>301.228254</td>\n",
       "      <td>289.321160</td>\n",
       "      <td>...</td>\n",
       "      <td>0.382798</td>\n",
       "      <td>0.190238</td>\n",
       "      <td>36.240010</td>\n",
       "      <td>207.400000</td>\n",
       "      <td>182.600000</td>\n",
       "      <td>45.400000</td>\n",
       "      <td>0.0</td>\n",
       "      <td>1.212318</td>\n",
       "      <td>0.277032</td>\n",
       "      <td>38.600000</td>\n",
       "    </tr>\n",
       "    <tr>\n",
       "      <th>2416</th>\n",
       "      <td>6.250000</td>\n",
       "      <td>7.500000</td>\n",
       "      <td>8.500000</td>\n",
       "      <td>6.512612</td>\n",
       "      <td>0.108164</td>\n",
       "      <td>0.015846</td>\n",
       "      <td>2.227083</td>\n",
       "      <td>399.508387</td>\n",
       "      <td>535.312137</td>\n",
       "      <td>965.373112</td>\n",
       "      <td>...</td>\n",
       "      <td>0.813215</td>\n",
       "      <td>0.139583</td>\n",
       "      <td>49.464724</td>\n",
       "      <td>357.250000</td>\n",
       "      <td>193.500000</td>\n",
       "      <td>367.750000</td>\n",
       "      <td>5.0</td>\n",
       "      <td>0.203751</td>\n",
       "      <td>0.122225</td>\n",
       "      <td>10.500000</td>\n",
       "    </tr>\n",
       "    <tr>\n",
       "      <th>2417</th>\n",
       "      <td>2.000000</td>\n",
       "      <td>6.000000</td>\n",
       "      <td>8.000000</td>\n",
       "      <td>8.506519</td>\n",
       "      <td>0.000000</td>\n",
       "      <td>0.000000</td>\n",
       "      <td>1.666667</td>\n",
       "      <td>381.883357</td>\n",
       "      <td>438.026382</td>\n",
       "      <td>915.341012</td>\n",
       "      <td>...</td>\n",
       "      <td>1.173234</td>\n",
       "      <td>0.166667</td>\n",
       "      <td>14.916082</td>\n",
       "      <td>437.000000</td>\n",
       "      <td>140.000000</td>\n",
       "      <td>0.000000</td>\n",
       "      <td>0.0</td>\n",
       "      <td>0.237391</td>\n",
       "      <td>0.395652</td>\n",
       "      <td>16.000000</td>\n",
       "    </tr>\n",
       "  </tbody>\n",
       "</table>\n",
       "<p>2418 rows × 22 columns</p>\n",
       "</div>"
      ],
      "text/plain": [
       "         kills    deaths    assists  lane_cs_per_min  jungle_cs_per_min  \\\n",
       "0     3.000000  6.428571   6.285714         2.541444           0.037034   \n",
       "1     3.500000  4.500000   5.000000         4.605603           2.730754   \n",
       "2     4.500000  2.500000   7.000000         0.382491           6.871390   \n",
       "3     4.000000  5.333333  15.666667         7.273737           0.015468   \n",
       "4     6.000000  6.000000  10.000000         6.272413           0.262719   \n",
       "...        ...       ...        ...              ...                ...   \n",
       "2413  1.333333  2.000000  21.333333         1.012666           0.000000   \n",
       "2414  4.000000  3.800000   4.000000         8.325295           0.000000   \n",
       "2415  1.800000  6.400000  12.000000         1.136588           0.007083   \n",
       "2416  6.250000  7.500000   8.500000         6.512612           0.108164   \n",
       "2417  2.000000  6.000000   8.000000         8.506519           0.000000   \n",
       "\n",
       "      jungle_ratio        KDA  gold_per_min  xp_per_min  damage_per_min  ...  \\\n",
       "0         0.038095   2.726984    326.166208  284.953724      424.448871  ...   \n",
       "1         0.451087   1.800000    396.459185  478.172058      704.375912  ...   \n",
       "2         0.946126   7.750000    387.689206  507.891553      529.058669  ...   \n",
       "3         0.001842   4.263889    406.707915  492.078102      874.762058  ...   \n",
       "4         0.040201   2.666667    367.051112  411.286403      703.429795  ...   \n",
       "...            ...        ...           ...         ...             ...  ...   \n",
       "2413      0.000000  13.000000    290.812194  358.051157      165.686041  ...   \n",
       "2414      0.000000   2.519048    435.914493  408.449208      521.067938  ...   \n",
       "2415      0.009091   2.564524    264.354897  301.228254      289.321160  ...   \n",
       "2416      0.015846   2.227083    399.508387  535.312137      965.373112  ...   \n",
       "2417      0.000000   1.666667    381.883357  438.026382      915.341012  ...   \n",
       "\n",
       "      damage_efficiency  survivability  healthregen_per_min  offensive_score  \\\n",
       "0              0.624695       0.268027            33.636125       296.142857   \n",
       "1              0.858635       0.225000            32.174180       285.500000   \n",
       "2              0.599451       0.625000            44.342066       255.000000   \n",
       "3              1.505342       0.263889            28.844061       213.333333   \n",
       "4              0.769590       0.166667            25.188172       453.000000   \n",
       "...                 ...            ...                  ...              ...   \n",
       "2413           0.562242       0.611111            27.634148       201.666667   \n",
       "2414           0.860420       0.428571            28.224096       409.600000   \n",
       "2415           0.382798       0.190238            36.240010       207.400000   \n",
       "2416           0.813215       0.139583            49.464724       357.250000   \n",
       "2417           1.173234       0.166667            14.916082       437.000000   \n",
       "\n",
       "      defensive_score  magic_score  total_vamp  wards_placed_per_min  \\\n",
       "0          126.571429    49.714286         0.0              1.275884   \n",
       "1          122.000000   233.000000         0.0              0.289675   \n",
       "2          158.500000   263.000000         0.0              0.199846   \n",
       "3          142.666667   395.666667         0.0              0.346756   \n",
       "4          122.000000   145.000000         0.0              0.229879   \n",
       "...               ...          ...         ...                   ...   \n",
       "2413       104.666667   187.666667         0.0              1.024894   \n",
       "2414       112.600000    10.000000         0.0              0.605038   \n",
       "2415       182.600000    45.400000         0.0              1.212318   \n",
       "2416       193.500000   367.750000         5.0              0.203751   \n",
       "2417       140.000000     0.000000         0.0              0.237391   \n",
       "\n",
       "      wards_killed_per_min  vision_score_est  \n",
       "0                 0.329068         36.142857  \n",
       "1                 0.086546          8.000000  \n",
       "2                 0.307304         14.000000  \n",
       "3                 0.117124         12.000000  \n",
       "4                 0.098520         10.000000  \n",
       "...                    ...               ...  \n",
       "2413              0.168740         30.333333  \n",
       "2414              0.134162         13.600000  \n",
       "2415              0.277032         38.600000  \n",
       "2416              0.122225         10.500000  \n",
       "2417              0.395652         16.000000  \n",
       "\n",
       "[2418 rows x 22 columns]"
      ]
     },
     "execution_count": 186,
     "metadata": {},
     "output_type": "execute_result"
    }
   ],
   "source": [
    "# 분산 낮은 거 제거 -> 설명력이 없음\n",
    "# haste_score 제거\n",
    "from sklearn.feature_selection import VarianceThreshold\n",
    "\n",
    "selector = VarianceThreshold(threshold=0.01)  # 예: 분산 1% 미만 제거\n",
    "selector.fit(filtered_df)\n",
    "selected_columns = filtered_df.columns[selector.get_support()]\n",
    "filtered_df = filtered_df[selected_columns]\n",
    "filtered_df"
   ]
  },
  {
   "cell_type": "code",
   "execution_count": 187,
   "id": "b1e34380",
   "metadata": {},
   "outputs": [
    {
     "data": {
      "text/plain": [
       "<Axes: >"
      ]
     },
     "execution_count": 187,
     "metadata": {},
     "output_type": "execute_result"
    },
    {
     "data": {
      "image/png": "[encoded data removed]",
      "text/plain": [
       "<Figure size 1200x1000 with 2 Axes>"
      ]
     },
     "metadata": {},
     "output_type": "display_data"
    }
   ],
   "source": [
    "import seaborn as sns\n",
    "import matplotlib.pyplot as plt\n",
    "\n",
    "corr = filtered_df.corr()\n",
    "plt.figure(figsize=(12, 10))\n",
    "sns.heatmap(corr, cmap='coolwarm', center=0)"
   ]
  },
  {
   "cell_type": "code",
   "execution_count": 188,
   "id": "d636a0ae",
   "metadata": {},
   "outputs": [
    {
     "name": "stdout",
     "output_type": "stream",
     "text": [
      "            Variable1             Variable2  Correlation\n",
      "14       jungle_ratio     jungle_cs_per_min     0.984167\n",
      "229  vision_score_est  wards_placed_per_min     0.960431\n",
      "57         ka_per_min               assists     0.809713\n",
      "79      survivability                deaths     0.797452\n",
      "21       gold_per_min                 kills     0.782022\n",
      "35         xp_per_min          gold_per_min     0.768022\n",
      "43     damage_per_min          gold_per_min     0.760941\n",
      "36     damage_per_min                 kills     0.729188\n"
     ]
    }
   ],
   "source": [
    "import pandas as pd\n",
    "\n",
    "# 상관계수 행렬\n",
    "corr_matrix = filtered_df.corr().abs()\n",
    "\n",
    "# 자기 자신과의 상관관계는 제외\n",
    "mask = np.triu(np.ones_like(corr_matrix, dtype=bool))  # 상삼각행렬 마스킹\n",
    "corr_matrix_masked = corr_matrix.mask(mask)\n",
    "\n",
    "# 기준 이상 (ex: 0.8 이상)인 변수쌍 추출\n",
    "high_corr_pairs = corr_matrix_masked.stack().reset_index()\n",
    "high_corr_pairs.columns = ['Variable1', 'Variable2', 'Correlation']\n",
    "high_corr_pairs = high_corr_pairs.sort_values(by='Correlation', ascending=False)\n",
    "\n",
    "# 0.8 이상인 경우만 필터링\n",
    "high_corr_pairs = high_corr_pairs[high_corr_pairs['Correlation'] >= 0.7]\n",
    "\n",
    "# 출력\n",
    "print(high_corr_pairs)"
   ]
  },
  {
   "cell_type": "code",
   "execution_count": 189,
   "id": "f992a7e2",
   "metadata": {},
   "outputs": [],
   "source": [
    "drop_col = ['jungle_ratio', 'vision_score_est', 'deaths', 'assists', 'kills']\n",
    "filtered_df = filtered_df.drop(columns=drop_col)"
   ]
  },
  {
   "cell_type": "code",
   "execution_count": 190,
   "id": "8ccb59cc",
   "metadata": {},
   "outputs": [
    {
     "name": "stdout",
     "output_type": "stream",
     "text": [
      "Empty DataFrame\n",
      "Columns: [Variable1, Variable2, Correlation]\n",
      "Index: []\n"
     ]
    }
   ],
   "source": [
    "# 상관계수 행렬\n",
    "corr_matrix = filtered_df.corr().abs()\n",
    "\n",
    "# 자기 자신과의 상관관계는 제외\n",
    "mask = np.triu(np.ones_like(corr_matrix, dtype=bool))  # 상삼각행렬 마스킹\n",
    "corr_matrix_masked = corr_matrix.mask(mask)\n",
    "\n",
    "# 기준 이상 (ex: 0.8 이상)인 변수쌍 추출\n",
    "high_corr_pairs = corr_matrix_masked.stack().reset_index()\n",
    "high_corr_pairs.columns = ['Variable1', 'Variable2', 'Correlation']\n",
    "high_corr_pairs = high_corr_pairs.sort_values(by='Correlation', ascending=False)\n",
    "\n",
    "# 0.8 이상인 경우만 필터링\n",
    "high_corr_pairs = high_corr_pairs[high_corr_pairs['Correlation'] >= 0.8]\n",
    "\n",
    "# 출력\n",
    "print(high_corr_pairs)"
   ]
  },
  {
   "cell_type": "code",
   "execution_count": 194,
   "id": "e581a88c",
   "metadata": {},
   "outputs": [],
   "source": [
    "merged_df = pd.concat([grouped_df['puuid'], filtered_df], axis=1)"
   ]
  },
  {
   "cell_type": "code",
   "execution_count": 195,
   "id": "15f79115",
   "metadata": {},
   "outputs": [
    {
     "data": {
      "text/plain": [
       "puuid                   0\n",
       "lane_cs_per_min         0\n",
       "jungle_cs_per_min       0\n",
       "KDA                     0\n",
       "gold_per_min            0\n",
       "xp_per_min              0\n",
       "damage_per_min          0\n",
       "damage_taken_per_min    0\n",
       "ka_per_min              0\n",
       "damage_efficiency       0\n",
       "survivability           0\n",
       "healthregen_per_min     0\n",
       "offensive_score         0\n",
       "defensive_score         0\n",
       "magic_score             0\n",
       "total_vamp              0\n",
       "wards_placed_per_min    0\n",
       "wards_killed_per_min    0\n",
       "dtype: int64"
      ]
     },
     "execution_count": 195,
     "metadata": {},
     "output_type": "execute_result"
    }
   ],
   "source": [
    "merged_df.isnull().sum()"
   ]
  },
  {
   "cell_type": "code",
   "execution_count": 196,
   "id": "0bf6bc96",
   "metadata": {},
   "outputs": [
    {
     "data": {
      "text/html": [
       "<div>\n",
       "<style scoped>\n",
       "    .dataframe tbody tr th:only-of-type {\n",
       "        vertical-align: middle;\n",
       "    }\n",
       "\n",
       "    .dataframe tbody tr th {\n",
       "        vertical-align: top;\n",
       "    }\n",
       "\n",
       "    .dataframe thead th {\n",
       "        text-align: right;\n",
       "    }\n",
       "</style>\n",
       "<table border=\"1\" class=\"dataframe\">\n",
       "  <thead>\n",
       "    <tr style=\"text-align: right;\">\n",
       "      <th></th>\n",
       "      <th>puuid</th>\n",
       "      <th>lane_cs_per_min</th>\n",
       "      <th>jungle_cs_per_min</th>\n",
       "      <th>KDA</th>\n",
       "      <th>gold_per_min</th>\n",
       "      <th>xp_per_min</th>\n",
       "      <th>damage_per_min</th>\n",
       "      <th>damage_taken_per_min</th>\n",
       "      <th>ka_per_min</th>\n",
       "      <th>damage_efficiency</th>\n",
       "      <th>survivability</th>\n",
       "      <th>healthregen_per_min</th>\n",
       "      <th>offensive_score</th>\n",
       "      <th>defensive_score</th>\n",
       "      <th>magic_score</th>\n",
       "      <th>total_vamp</th>\n",
       "      <th>wards_placed_per_min</th>\n",
       "      <th>wards_killed_per_min</th>\n",
       "    </tr>\n",
       "  </thead>\n",
       "  <tbody>\n",
       "    <tr>\n",
       "      <th>0</th>\n",
       "      <td>--UU6P3gS9XNXShhKrJjdwtMnSJhAhf1UwYbnXkteqewk9...</td>\n",
       "      <td>2.541444</td>\n",
       "      <td>0.037034</td>\n",
       "      <td>2.726984</td>\n",
       "      <td>326.166208</td>\n",
       "      <td>284.953724</td>\n",
       "      <td>424.448871</td>\n",
       "      <td>696.504767</td>\n",
       "      <td>0.420603</td>\n",
       "      <td>0.624695</td>\n",
       "      <td>0.268027</td>\n",
       "      <td>33.636125</td>\n",
       "      <td>296.142857</td>\n",
       "      <td>126.571429</td>\n",
       "      <td>49.714286</td>\n",
       "      <td>0.0</td>\n",
       "      <td>1.275884</td>\n",
       "      <td>0.329068</td>\n",
       "    </tr>\n",
       "    <tr>\n",
       "      <th>1</th>\n",
       "      <td>-0PkJKNOrIe1cG-0lX_um4tEVXO7QvPRCfcgxaU9JZ9PIf...</td>\n",
       "      <td>4.605603</td>\n",
       "      <td>2.730754</td>\n",
       "      <td>1.800000</td>\n",
       "      <td>396.459185</td>\n",
       "      <td>478.172058</td>\n",
       "      <td>704.375912</td>\n",
       "      <td>946.124550</td>\n",
       "      <td>0.364065</td>\n",
       "      <td>0.858635</td>\n",
       "      <td>0.225000</td>\n",
       "      <td>32.174180</td>\n",
       "      <td>285.500000</td>\n",
       "      <td>122.000000</td>\n",
       "      <td>233.000000</td>\n",
       "      <td>0.0</td>\n",
       "      <td>0.289675</td>\n",
       "      <td>0.086546</td>\n",
       "    </tr>\n",
       "    <tr>\n",
       "      <th>2</th>\n",
       "      <td>-0o6aHvXTe3xfjgA2mJbTCM85Y9vsqmgVmIBj-GX5sQV0m...</td>\n",
       "      <td>0.382491</td>\n",
       "      <td>6.871390</td>\n",
       "      <td>7.750000</td>\n",
       "      <td>387.689206</td>\n",
       "      <td>507.891553</td>\n",
       "      <td>529.058669</td>\n",
       "      <td>912.637495</td>\n",
       "      <td>0.423278</td>\n",
       "      <td>0.599451</td>\n",
       "      <td>0.625000</td>\n",
       "      <td>44.342066</td>\n",
       "      <td>255.000000</td>\n",
       "      <td>158.500000</td>\n",
       "      <td>263.000000</td>\n",
       "      <td>0.0</td>\n",
       "      <td>0.199846</td>\n",
       "      <td>0.307304</td>\n",
       "    </tr>\n",
       "    <tr>\n",
       "      <th>3</th>\n",
       "      <td>-1S8Vgzl5o8qRc1J24lsOqEi7WemMWiln924OtaniSSXZ-...</td>\n",
       "      <td>7.273737</td>\n",
       "      <td>0.015468</td>\n",
       "      <td>4.263889</td>\n",
       "      <td>406.707915</td>\n",
       "      <td>492.078102</td>\n",
       "      <td>874.762058</td>\n",
       "      <td>578.421308</td>\n",
       "      <td>0.670765</td>\n",
       "      <td>1.505342</td>\n",
       "      <td>0.263889</td>\n",
       "      <td>28.844061</td>\n",
       "      <td>213.333333</td>\n",
       "      <td>142.666667</td>\n",
       "      <td>395.666667</td>\n",
       "      <td>0.0</td>\n",
       "      <td>0.346756</td>\n",
       "      <td>0.117124</td>\n",
       "    </tr>\n",
       "    <tr>\n",
       "      <th>4</th>\n",
       "      <td>-5HAguWtbg0NJsVdWoBJEpAcb_8m0qXJWCTB9KBOJbC4gD...</td>\n",
       "      <td>6.272413</td>\n",
       "      <td>0.262719</td>\n",
       "      <td>2.666667</td>\n",
       "      <td>367.051112</td>\n",
       "      <td>411.286403</td>\n",
       "      <td>703.429795</td>\n",
       "      <td>914.031815</td>\n",
       "      <td>0.525438</td>\n",
       "      <td>0.769590</td>\n",
       "      <td>0.166667</td>\n",
       "      <td>25.188172</td>\n",
       "      <td>453.000000</td>\n",
       "      <td>122.000000</td>\n",
       "      <td>145.000000</td>\n",
       "      <td>0.0</td>\n",
       "      <td>0.229879</td>\n",
       "      <td>0.098520</td>\n",
       "    </tr>\n",
       "    <tr>\n",
       "      <th>...</th>\n",
       "      <td>...</td>\n",
       "      <td>...</td>\n",
       "      <td>...</td>\n",
       "      <td>...</td>\n",
       "      <td>...</td>\n",
       "      <td>...</td>\n",
       "      <td>...</td>\n",
       "      <td>...</td>\n",
       "      <td>...</td>\n",
       "      <td>...</td>\n",
       "      <td>...</td>\n",
       "      <td>...</td>\n",
       "      <td>...</td>\n",
       "      <td>...</td>\n",
       "      <td>...</td>\n",
       "      <td>...</td>\n",
       "      <td>...</td>\n",
       "      <td>...</td>\n",
       "    </tr>\n",
       "    <tr>\n",
       "      <th>2413</th>\n",
       "      <td>zuTzJktw2MnWYD9D_fYDG-brT-s577KqtSiDkg6KQQMpfJ...</td>\n",
       "      <td>1.012666</td>\n",
       "      <td>0.000000</td>\n",
       "      <td>13.000000</td>\n",
       "      <td>290.812194</td>\n",
       "      <td>358.051157</td>\n",
       "      <td>165.686041</td>\n",
       "      <td>306.347812</td>\n",
       "      <td>0.875258</td>\n",
       "      <td>0.562242</td>\n",
       "      <td>0.611111</td>\n",
       "      <td>27.634148</td>\n",
       "      <td>201.666667</td>\n",
       "      <td>104.666667</td>\n",
       "      <td>187.666667</td>\n",
       "      <td>0.0</td>\n",
       "      <td>1.024894</td>\n",
       "      <td>0.168740</td>\n",
       "    </tr>\n",
       "    <tr>\n",
       "      <th>2414</th>\n",
       "      <td>zwyrrvZSzsm3wctHE28o2-6Fyh9rghSWzKJKqQSMaCnLlX...</td>\n",
       "      <td>8.325295</td>\n",
       "      <td>0.000000</td>\n",
       "      <td>2.519048</td>\n",
       "      <td>435.914493</td>\n",
       "      <td>408.449208</td>\n",
       "      <td>521.067938</td>\n",
       "      <td>622.513073</td>\n",
       "      <td>0.373584</td>\n",
       "      <td>0.860420</td>\n",
       "      <td>0.428571</td>\n",
       "      <td>28.224096</td>\n",
       "      <td>409.600000</td>\n",
       "      <td>112.600000</td>\n",
       "      <td>10.000000</td>\n",
       "      <td>0.0</td>\n",
       "      <td>0.605038</td>\n",
       "      <td>0.134162</td>\n",
       "    </tr>\n",
       "    <tr>\n",
       "      <th>2415</th>\n",
       "      <td>zx3b47b39_fQAz0sueKSYg2MvsXyz3n3yftVu13TLBAvl7...</td>\n",
       "      <td>1.136588</td>\n",
       "      <td>0.007083</td>\n",
       "      <td>2.564524</td>\n",
       "      <td>264.354897</td>\n",
       "      <td>301.228254</td>\n",
       "      <td>289.321160</td>\n",
       "      <td>762.110048</td>\n",
       "      <td>0.527251</td>\n",
       "      <td>0.382798</td>\n",
       "      <td>0.190238</td>\n",
       "      <td>36.240010</td>\n",
       "      <td>207.400000</td>\n",
       "      <td>182.600000</td>\n",
       "      <td>45.400000</td>\n",
       "      <td>0.0</td>\n",
       "      <td>1.212318</td>\n",
       "      <td>0.277032</td>\n",
       "    </tr>\n",
       "    <tr>\n",
       "      <th>2416</th>\n",
       "      <td>zxeBnmRsYg-hHMiD3q76HrWVNHntwjXehUhFAxkzTc2lR7...</td>\n",
       "      <td>6.512612</td>\n",
       "      <td>0.108164</td>\n",
       "      <td>2.227083</td>\n",
       "      <td>399.508387</td>\n",
       "      <td>535.312137</td>\n",
       "      <td>965.373112</td>\n",
       "      <td>1202.632165</td>\n",
       "      <td>0.455503</td>\n",
       "      <td>0.813215</td>\n",
       "      <td>0.139583</td>\n",
       "      <td>49.464724</td>\n",
       "      <td>357.250000</td>\n",
       "      <td>193.500000</td>\n",
       "      <td>367.750000</td>\n",
       "      <td>5.0</td>\n",
       "      <td>0.203751</td>\n",
       "      <td>0.122225</td>\n",
       "    </tr>\n",
       "    <tr>\n",
       "      <th>2417</th>\n",
       "      <td>zyxuRDZl9DjIsEu8V4pGlH5CPFvgNJBdSD5PBJ-uhniVtM...</td>\n",
       "      <td>8.506519</td>\n",
       "      <td>0.000000</td>\n",
       "      <td>1.666667</td>\n",
       "      <td>381.883357</td>\n",
       "      <td>438.026382</td>\n",
       "      <td>915.341012</td>\n",
       "      <td>780.186273</td>\n",
       "      <td>0.395652</td>\n",
       "      <td>1.173234</td>\n",
       "      <td>0.166667</td>\n",
       "      <td>14.916082</td>\n",
       "      <td>437.000000</td>\n",
       "      <td>140.000000</td>\n",
       "      <td>0.000000</td>\n",
       "      <td>0.0</td>\n",
       "      <td>0.237391</td>\n",
       "      <td>0.395652</td>\n",
       "    </tr>\n",
       "  </tbody>\n",
       "</table>\n",
       "<p>2418 rows × 18 columns</p>\n",
       "</div>"
      ],
      "text/plain": [
       "                                                  puuid  lane_cs_per_min  \\\n",
       "0     --UU6P3gS9XNXShhKrJjdwtMnSJhAhf1UwYbnXkteqewk9...         2.541444   \n",
       "1     -0PkJKNOrIe1cG-0lX_um4tEVXO7QvPRCfcgxaU9JZ9PIf...         4.605603   \n",
       "2     -0o6aHvXTe3xfjgA2mJbTCM85Y9vsqmgVmIBj-GX5sQV0m...         0.382491   \n",
       "3     -1S8Vgzl5o8qRc1J24lsOqEi7WemMWiln924OtaniSSXZ-...         7.273737   \n",
       "4     -5HAguWtbg0NJsVdWoBJEpAcb_8m0qXJWCTB9KBOJbC4gD...         6.272413   \n",
       "...                                                 ...              ...   \n",
       "2413  zuTzJktw2MnWYD9D_fYDG-brT-s577KqtSiDkg6KQQMpfJ...         1.012666   \n",
       "2414  zwyrrvZSzsm3wctHE28o2-6Fyh9rghSWzKJKqQSMaCnLlX...         8.325295   \n",
       "2415  zx3b47b39_fQAz0sueKSYg2MvsXyz3n3yftVu13TLBAvl7...         1.136588   \n",
       "2416  zxeBnmRsYg-hHMiD3q76HrWVNHntwjXehUhFAxkzTc2lR7...         6.512612   \n",
       "2417  zyxuRDZl9DjIsEu8V4pGlH5CPFvgNJBdSD5PBJ-uhniVtM...         8.506519   \n",
       "\n",
       "      jungle_cs_per_min        KDA  gold_per_min  xp_per_min  damage_per_min  \\\n",
       "0              0.037034   2.726984    326.166208  284.953724      424.448871   \n",
       "1              2.730754   1.800000    396.459185  478.172058      704.375912   \n",
       "2              6.871390   7.750000    387.689206  507.891553      529.058669   \n",
       "3              0.015468   4.263889    406.707915  492.078102      874.762058   \n",
       "4              0.262719   2.666667    367.051112  411.286403      703.429795   \n",
       "...                 ...        ...           ...         ...             ...   \n",
       "2413           0.000000  13.000000    290.812194  358.051157      165.686041   \n",
       "2414           0.000000   2.519048    435.914493  408.449208      521.067938   \n",
       "2415           0.007083   2.564524    264.354897  301.228254      289.321160   \n",
       "2416           0.108164   2.227083    399.508387  535.312137      965.373112   \n",
       "2417           0.000000   1.666667    381.883357  438.026382      915.341012   \n",
       "\n",
       "      damage_taken_per_min  ka_per_min  damage_efficiency  survivability  \\\n",
       "0               696.504767    0.420603           0.624695       0.268027   \n",
       "1               946.124550    0.364065           0.858635       0.225000   \n",
       "2               912.637495    0.423278           0.599451       0.625000   \n",
       "3               578.421308    0.670765           1.505342       0.263889   \n",
       "4               914.031815    0.525438           0.769590       0.166667   \n",
       "...                    ...         ...                ...            ...   \n",
       "2413            306.347812    0.875258           0.562242       0.611111   \n",
       "2414            622.513073    0.373584           0.860420       0.428571   \n",
       "2415            762.110048    0.527251           0.382798       0.190238   \n",
       "2416           1202.632165    0.455503           0.813215       0.139583   \n",
       "2417            780.186273    0.395652           1.173234       0.166667   \n",
       "\n",
       "      healthregen_per_min  offensive_score  defensive_score  magic_score  \\\n",
       "0               33.636125       296.142857       126.571429    49.714286   \n",
       "1               32.174180       285.500000       122.000000   233.000000   \n",
       "2               44.342066       255.000000       158.500000   263.000000   \n",
       "3               28.844061       213.333333       142.666667   395.666667   \n",
       "4               25.188172       453.000000       122.000000   145.000000   \n",
       "...                   ...              ...              ...          ...   \n",
       "2413            27.634148       201.666667       104.666667   187.666667   \n",
       "2414            28.224096       409.600000       112.600000    10.000000   \n",
       "2415            36.240010       207.400000       182.600000    45.400000   \n",
       "2416            49.464724       357.250000       193.500000   367.750000   \n",
       "2417            14.916082       437.000000       140.000000     0.000000   \n",
       "\n",
       "      total_vamp  wards_placed_per_min  wards_killed_per_min  \n",
       "0            0.0              1.275884              0.329068  \n",
       "1            0.0              0.289675              0.086546  \n",
       "2            0.0              0.199846              0.307304  \n",
       "3            0.0              0.346756              0.117124  \n",
       "4            0.0              0.229879              0.098520  \n",
       "...          ...                   ...                   ...  \n",
       "2413         0.0              1.024894              0.168740  \n",
       "2414         0.0              0.605038              0.134162  \n",
       "2415         0.0              1.212318              0.277032  \n",
       "2416         5.0              0.203751              0.122225  \n",
       "2417         0.0              0.237391              0.395652  \n",
       "\n",
       "[2418 rows x 18 columns]"
      ]
     },
     "execution_count": 196,
     "metadata": {},
     "output_type": "execute_result"
    }
   ],
   "source": [
    "merged_df"
   ]
  },
  {
   "cell_type": "code",
   "execution_count": 197,
   "id": "59d1bf92",
   "metadata": {},
   "outputs": [
    {
     "data": {
      "text/html": [
       "<div>\n",
       "<style scoped>\n",
       "    .dataframe tbody tr th:only-of-type {\n",
       "        vertical-align: middle;\n",
       "    }\n",
       "\n",
       "    .dataframe tbody tr th {\n",
       "        vertical-align: top;\n",
       "    }\n",
       "\n",
       "    .dataframe thead th {\n",
       "        text-align: right;\n",
       "    }\n",
       "</style>\n",
       "<table border=\"1\" class=\"dataframe\">\n",
       "  <thead>\n",
       "    <tr style=\"text-align: right;\">\n",
       "      <th></th>\n",
       "      <th>lane_cs_per_min</th>\n",
       "      <th>jungle_cs_per_min</th>\n",
       "      <th>KDA</th>\n",
       "      <th>gold_per_min</th>\n",
       "      <th>xp_per_min</th>\n",
       "      <th>damage_per_min</th>\n",
       "      <th>damage_taken_per_min</th>\n",
       "      <th>ka_per_min</th>\n",
       "      <th>damage_efficiency</th>\n",
       "      <th>survivability</th>\n",
       "      <th>healthregen_per_min</th>\n",
       "      <th>offensive_score</th>\n",
       "      <th>defensive_score</th>\n",
       "      <th>magic_score</th>\n",
       "      <th>total_vamp</th>\n",
       "      <th>wards_placed_per_min</th>\n",
       "      <th>wards_killed_per_min</th>\n",
       "    </tr>\n",
       "  </thead>\n",
       "  <tbody>\n",
       "    <tr>\n",
       "      <th>count</th>\n",
       "      <td>2418.000000</td>\n",
       "      <td>2418.000000</td>\n",
       "      <td>2418.000000</td>\n",
       "      <td>2418.000000</td>\n",
       "      <td>2418.000000</td>\n",
       "      <td>2418.000000</td>\n",
       "      <td>2418.000000</td>\n",
       "      <td>2418.000000</td>\n",
       "      <td>2418.000000</td>\n",
       "      <td>2418.000000</td>\n",
       "      <td>2418.000000</td>\n",
       "      <td>2418.000000</td>\n",
       "      <td>2418.000000</td>\n",
       "      <td>2418.000000</td>\n",
       "      <td>2418.000000</td>\n",
       "      <td>2418.000000</td>\n",
       "      <td>2418.000000</td>\n",
       "    </tr>\n",
       "    <tr>\n",
       "      <th>mean</th>\n",
       "      <td>4.812733</td>\n",
       "      <td>1.155431</td>\n",
       "      <td>4.316925</td>\n",
       "      <td>388.662787</td>\n",
       "      <td>467.888362</td>\n",
       "      <td>660.925595</td>\n",
       "      <td>869.912430</td>\n",
       "      <td>0.552504</td>\n",
       "      <td>0.827353</td>\n",
       "      <td>0.311439</td>\n",
       "      <td>40.709749</td>\n",
       "      <td>350.625189</td>\n",
       "      <td>174.172564</td>\n",
       "      <td>103.428682</td>\n",
       "      <td>0.108976</td>\n",
       "      <td>0.717463</td>\n",
       "      <td>0.173687</td>\n",
       "    </tr>\n",
       "    <tr>\n",
       "      <th>std</th>\n",
       "      <td>3.057934</td>\n",
       "      <td>2.087928</td>\n",
       "      <td>3.344298</td>\n",
       "      <td>69.296375</td>\n",
       "      <td>91.220906</td>\n",
       "      <td>259.603466</td>\n",
       "      <td>281.087310</td>\n",
       "      <td>0.218844</td>\n",
       "      <td>0.431718</td>\n",
       "      <td>0.204038</td>\n",
       "      <td>35.090554</td>\n",
       "      <td>112.827551</td>\n",
       "      <td>56.486348</td>\n",
       "      <td>132.846846</td>\n",
       "      <td>1.074386</td>\n",
       "      <td>1.255942</td>\n",
       "      <td>0.115555</td>\n",
       "    </tr>\n",
       "    <tr>\n",
       "      <th>min</th>\n",
       "      <td>0.000000</td>\n",
       "      <td>0.000000</td>\n",
       "      <td>0.000000</td>\n",
       "      <td>187.498893</td>\n",
       "      <td>0.000000</td>\n",
       "      <td>0.000000</td>\n",
       "      <td>0.000000</td>\n",
       "      <td>0.000000</td>\n",
       "      <td>0.000000</td>\n",
       "      <td>0.066667</td>\n",
       "      <td>7.816207</td>\n",
       "      <td>152.000000</td>\n",
       "      <td>54.000000</td>\n",
       "      <td>0.000000</td>\n",
       "      <td>0.000000</td>\n",
       "      <td>0.000000</td>\n",
       "      <td>0.000000</td>\n",
       "    </tr>\n",
       "    <tr>\n",
       "      <th>25%</th>\n",
       "      <td>1.129310</td>\n",
       "      <td>0.000000</td>\n",
       "      <td>2.161616</td>\n",
       "      <td>344.796195</td>\n",
       "      <td>415.537544</td>\n",
       "      <td>485.982984</td>\n",
       "      <td>673.650298</td>\n",
       "      <td>0.413645</td>\n",
       "      <td>0.548087</td>\n",
       "      <td>0.166667</td>\n",
       "      <td>29.186591</td>\n",
       "      <td>244.312500</td>\n",
       "      <td>136.500000</td>\n",
       "      <td>0.000000</td>\n",
       "      <td>0.000000</td>\n",
       "      <td>0.272237</td>\n",
       "      <td>0.093292</td>\n",
       "    </tr>\n",
       "    <tr>\n",
       "      <th>50%</th>\n",
       "      <td>6.209254</td>\n",
       "      <td>0.119729</td>\n",
       "      <td>3.500000</td>\n",
       "      <td>397.004494</td>\n",
       "      <td>481.789759</td>\n",
       "      <td>663.507465</td>\n",
       "      <td>831.276798</td>\n",
       "      <td>0.546235</td>\n",
       "      <td>0.760593</td>\n",
       "      <td>0.250000</td>\n",
       "      <td>37.049735</td>\n",
       "      <td>344.109890</td>\n",
       "      <td>164.000000</td>\n",
       "      <td>43.000000</td>\n",
       "      <td>0.000000</td>\n",
       "      <td>0.368526</td>\n",
       "      <td>0.153542</td>\n",
       "    </tr>\n",
       "    <tr>\n",
       "      <th>75%</th>\n",
       "      <td>7.436094</td>\n",
       "      <td>0.524605</td>\n",
       "      <td>5.408316</td>\n",
       "      <td>434.182734</td>\n",
       "      <td>528.546445</td>\n",
       "      <td>816.840464</td>\n",
       "      <td>1044.482351</td>\n",
       "      <td>0.679939</td>\n",
       "      <td>1.042972</td>\n",
       "      <td>0.375000</td>\n",
       "      <td>45.050222</td>\n",
       "      <td>436.500000</td>\n",
       "      <td>200.000000</td>\n",
       "      <td>165.375000</td>\n",
       "      <td>0.000000</td>\n",
       "      <td>0.751529</td>\n",
       "      <td>0.233239</td>\n",
       "    </tr>\n",
       "    <tr>\n",
       "      <th>max</th>\n",
       "      <td>10.202383</td>\n",
       "      <td>8.238908</td>\n",
       "      <td>28.000000</td>\n",
       "      <td>671.803910</td>\n",
       "      <td>755.269877</td>\n",
       "      <td>2108.894404</td>\n",
       "      <td>3450.252697</td>\n",
       "      <td>1.442956</td>\n",
       "      <td>11.644351</td>\n",
       "      <td>1.000000</td>\n",
       "      <td>1137.199144</td>\n",
       "      <td>1027.000000</td>\n",
       "      <td>620.000000</td>\n",
       "      <td>1065.000000</td>\n",
       "      <td>26.000000</td>\n",
       "      <td>17.606714</td>\n",
       "      <td>0.787834</td>\n",
       "    </tr>\n",
       "  </tbody>\n",
       "</table>\n",
       "</div>"
      ],
      "text/plain": [
       "       lane_cs_per_min  jungle_cs_per_min          KDA  gold_per_min  \\\n",
       "count      2418.000000        2418.000000  2418.000000   2418.000000   \n",
       "mean          4.812733           1.155431     4.316925    388.662787   \n",
       "std           3.057934           2.087928     3.344298     69.296375   \n",
       "min           0.000000           0.000000     0.000000    187.498893   \n",
       "25%           1.129310           0.000000     2.161616    344.796195   \n",
       "50%           6.209254           0.119729     3.500000    397.004494   \n",
       "75%           7.436094           0.524605     5.408316    434.182734   \n",
       "max          10.202383           8.238908    28.000000    671.803910   \n",
       "\n",
       "        xp_per_min  damage_per_min  damage_taken_per_min   ka_per_min  \\\n",
       "count  2418.000000     2418.000000           2418.000000  2418.000000   \n",
       "mean    467.888362      660.925595            869.912430     0.552504   \n",
       "std      91.220906      259.603466            281.087310     0.218844   \n",
       "min       0.000000        0.000000              0.000000     0.000000   \n",
       "25%     415.537544      485.982984            673.650298     0.413645   \n",
       "50%     481.789759      663.507465            831.276798     0.546235   \n",
       "75%     528.546445      816.840464           1044.482351     0.679939   \n",
       "max     755.269877     2108.894404           3450.252697     1.442956   \n",
       "\n",
       "       damage_efficiency  survivability  healthregen_per_min  offensive_score  \\\n",
       "count        2418.000000    2418.000000          2418.000000      2418.000000   \n",
       "mean            0.827353       0.311439            40.709749       350.625189   \n",
       "std             0.431718       0.204038            35.090554       112.827551   \n",
       "min             0.000000       0.066667             7.816207       152.000000   \n",
       "25%             0.548087       0.166667            29.186591       244.312500   \n",
       "50%             0.760593       0.250000            37.049735       344.109890   \n",
       "75%             1.042972       0.375000            45.050222       436.500000   \n",
       "max            11.644351       1.000000          1137.199144      1027.000000   \n",
       "\n",
       "       defensive_score  magic_score   total_vamp  wards_placed_per_min  \\\n",
       "count      2418.000000  2418.000000  2418.000000           2418.000000   \n",
       "mean        174.172564   103.428682     0.108976              0.717463   \n",
       "std          56.486348   132.846846     1.074386              1.255942   \n",
       "min          54.000000     0.000000     0.000000              0.000000   \n",
       "25%         136.500000     0.000000     0.000000              0.272237   \n",
       "50%         164.000000    43.000000     0.000000              0.368526   \n",
       "75%         200.000000   165.375000     0.000000              0.751529   \n",
       "max         620.000000  1065.000000    26.000000             17.606714   \n",
       "\n",
       "       wards_killed_per_min  \n",
       "count           2418.000000  \n",
       "mean               0.173687  \n",
       "std                0.115555  \n",
       "min                0.000000  \n",
       "25%                0.093292  \n",
       "50%                0.153542  \n",
       "75%                0.233239  \n",
       "max                0.787834  "
      ]
     },
     "execution_count": 197,
     "metadata": {},
     "output_type": "execute_result"
    }
   ],
   "source": [
    "merged_df.describe()"
   ]
  },
  {
   "cell_type": "markdown",
   "id": "88a302bc",
   "metadata": {},
   "source": [
    "# 유사도 분석\n",
    "- 일반 유저와 Top1000 유저 간의 유사도를 수치로 계산\n",
    "- 가장 유사한 상위 10~20명을 추출"
   ]
  },
  {
   "cell_type": "markdown",
   "id": "b3e9ea34",
   "metadata": {},
   "source": [
    "## 유사도 계산용 피처 선택\n",
    "- 유저의 게임 스타일을 구성하는 성능 지표\n",
    "\n",
    "카테고리 | 예시 지표 | 의미\n",
    "------ | ------- | ----\n",
    "성장 | CS/Min, Gold/Min, XP/Min | 파밍 능력\n",
    "전투 | KDA, KA/Min, Damage | 교전 참여도\n",
    "생존 | Survivability, Damage Efficiency | 얼마나 잘 살아남는가\n",
    "능력치 | offensive_score 등 | 스탯 종합\n",
    "시야 | wards_placed_per_min 등 | 맵 컨트롤 능력"
   ]
  },
  {
   "cell_type": "markdown",
   "id": "e2e7ae49",
   "metadata": {},
   "source": [
    "## 정규화 (Standard Scaler)\n",
    "- 모든 feature는 단위와 크기가 다르기 때문에, 정규화를 하지 않으면 왜곡된 유사도가 계산\n",
    "\n",
    "### 💡 StandardScaler 작동 방식     \n",
    "- 평균을 0으로, 표준편차를 1로 바꾸는 방식        \n",
    "    → 값의 분포가 동일한 기준에서 비교되도록 조정"
   ]
  },
  {
   "cell_type": "code",
   "execution_count": null,
   "id": "69b83e9c",
   "metadata": {},
   "outputs": [
    {
     "data": {
      "text/html": [
       "<div>\n",
       "<style scoped>\n",
       "    .dataframe tbody tr th:only-of-type {\n",
       "        vertical-align: middle;\n",
       "    }\n",
       "\n",
       "    .dataframe tbody tr th {\n",
       "        vertical-align: top;\n",
       "    }\n",
       "\n",
       "    .dataframe thead th {\n",
       "        text-align: right;\n",
       "    }\n",
       "</style>\n",
       "<table border=\"1\" class=\"dataframe\">\n",
       "  <thead>\n",
       "    <tr style=\"text-align: right;\">\n",
       "      <th></th>\n",
       "      <th>puuid</th>\n",
       "      <th>lane_cs_per_min</th>\n",
       "      <th>jungle_cs_per_min</th>\n",
       "      <th>KDA</th>\n",
       "      <th>gold_per_min</th>\n",
       "      <th>xp_per_min</th>\n",
       "      <th>damage_per_min</th>\n",
       "      <th>damage_taken_per_min</th>\n",
       "      <th>ka_per_min</th>\n",
       "      <th>damage_efficiency</th>\n",
       "      <th>survivability</th>\n",
       "      <th>healthregen_per_min</th>\n",
       "      <th>offensive_score</th>\n",
       "      <th>defensive_score</th>\n",
       "      <th>magic_score</th>\n",
       "      <th>total_vamp</th>\n",
       "      <th>wards_placed_per_min</th>\n",
       "      <th>wards_killed_per_min</th>\n",
       "      <th>is_top1000</th>\n",
       "    </tr>\n",
       "  </thead>\n",
       "  <tbody>\n",
       "    <tr>\n",
       "      <th>0</th>\n",
       "      <td>--UU6P3gS9XNXShhKrJjdwtMnSJhAhf1UwYbnXkteqewk9...</td>\n",
       "      <td>2.541444</td>\n",
       "      <td>0.037034</td>\n",
       "      <td>2.726984</td>\n",
       "      <td>326.166208</td>\n",
       "      <td>284.953724</td>\n",
       "      <td>424.448871</td>\n",
       "      <td>696.504767</td>\n",
       "      <td>0.420603</td>\n",
       "      <td>0.624695</td>\n",
       "      <td>0.268027</td>\n",
       "      <td>33.636125</td>\n",
       "      <td>296.142857</td>\n",
       "      <td>126.571429</td>\n",
       "      <td>49.714286</td>\n",
       "      <td>0.0</td>\n",
       "      <td>1.275884</td>\n",
       "      <td>0.329068</td>\n",
       "      <td>False</td>\n",
       "    </tr>\n",
       "    <tr>\n",
       "      <th>1</th>\n",
       "      <td>-0PkJKNOrIe1cG-0lX_um4tEVXO7QvPRCfcgxaU9JZ9PIf...</td>\n",
       "      <td>4.605603</td>\n",
       "      <td>2.730754</td>\n",
       "      <td>1.800000</td>\n",
       "      <td>396.459185</td>\n",
       "      <td>478.172058</td>\n",
       "      <td>704.375912</td>\n",
       "      <td>946.124550</td>\n",
       "      <td>0.364065</td>\n",
       "      <td>0.858635</td>\n",
       "      <td>0.225000</td>\n",
       "      <td>32.174180</td>\n",
       "      <td>285.500000</td>\n",
       "      <td>122.000000</td>\n",
       "      <td>233.000000</td>\n",
       "      <td>0.0</td>\n",
       "      <td>0.289675</td>\n",
       "      <td>0.086546</td>\n",
       "      <td>False</td>\n",
       "    </tr>\n",
       "    <tr>\n",
       "      <th>2</th>\n",
       "      <td>-0o6aHvXTe3xfjgA2mJbTCM85Y9vsqmgVmIBj-GX5sQV0m...</td>\n",
       "      <td>0.382491</td>\n",
       "      <td>6.871390</td>\n",
       "      <td>7.750000</td>\n",
       "      <td>387.689206</td>\n",
       "      <td>507.891553</td>\n",
       "      <td>529.058669</td>\n",
       "      <td>912.637495</td>\n",
       "      <td>0.423278</td>\n",
       "      <td>0.599451</td>\n",
       "      <td>0.625000</td>\n",
       "      <td>44.342066</td>\n",
       "      <td>255.000000</td>\n",
       "      <td>158.500000</td>\n",
       "      <td>263.000000</td>\n",
       "      <td>0.0</td>\n",
       "      <td>0.199846</td>\n",
       "      <td>0.307304</td>\n",
       "      <td>True</td>\n",
       "    </tr>\n",
       "    <tr>\n",
       "      <th>3</th>\n",
       "      <td>-1S8Vgzl5o8qRc1J24lsOqEi7WemMWiln924OtaniSSXZ-...</td>\n",
       "      <td>7.273737</td>\n",
       "      <td>0.015468</td>\n",
       "      <td>4.263889</td>\n",
       "      <td>406.707915</td>\n",
       "      <td>492.078102</td>\n",
       "      <td>874.762058</td>\n",
       "      <td>578.421308</td>\n",
       "      <td>0.670765</td>\n",
       "      <td>1.505342</td>\n",
       "      <td>0.263889</td>\n",
       "      <td>28.844061</td>\n",
       "      <td>213.333333</td>\n",
       "      <td>142.666667</td>\n",
       "      <td>395.666667</td>\n",
       "      <td>0.0</td>\n",
       "      <td>0.346756</td>\n",
       "      <td>0.117124</td>\n",
       "      <td>True</td>\n",
       "    </tr>\n",
       "    <tr>\n",
       "      <th>4</th>\n",
       "      <td>-5HAguWtbg0NJsVdWoBJEpAcb_8m0qXJWCTB9KBOJbC4gD...</td>\n",
       "      <td>6.272413</td>\n",
       "      <td>0.262719</td>\n",
       "      <td>2.666667</td>\n",
       "      <td>367.051112</td>\n",
       "      <td>411.286403</td>\n",
       "      <td>703.429795</td>\n",
       "      <td>914.031815</td>\n",
       "      <td>0.525438</td>\n",
       "      <td>0.769590</td>\n",
       "      <td>0.166667</td>\n",
       "      <td>25.188172</td>\n",
       "      <td>453.000000</td>\n",
       "      <td>122.000000</td>\n",
       "      <td>145.000000</td>\n",
       "      <td>0.0</td>\n",
       "      <td>0.229879</td>\n",
       "      <td>0.098520</td>\n",
       "      <td>False</td>\n",
       "    </tr>\n",
       "    <tr>\n",
       "      <th>...</th>\n",
       "      <td>...</td>\n",
       "      <td>...</td>\n",
       "      <td>...</td>\n",
       "      <td>...</td>\n",
       "      <td>...</td>\n",
       "      <td>...</td>\n",
       "      <td>...</td>\n",
       "      <td>...</td>\n",
       "      <td>...</td>\n",
       "      <td>...</td>\n",
       "      <td>...</td>\n",
       "      <td>...</td>\n",
       "      <td>...</td>\n",
       "      <td>...</td>\n",
       "      <td>...</td>\n",
       "      <td>...</td>\n",
       "      <td>...</td>\n",
       "      <td>...</td>\n",
       "      <td>...</td>\n",
       "    </tr>\n",
       "    <tr>\n",
       "      <th>2413</th>\n",
       "      <td>zuTzJktw2MnWYD9D_fYDG-brT-s577KqtSiDkg6KQQMpfJ...</td>\n",
       "      <td>1.012666</td>\n",
       "      <td>0.000000</td>\n",
       "      <td>13.000000</td>\n",
       "      <td>290.812194</td>\n",
       "      <td>358.051157</td>\n",
       "      <td>165.686041</td>\n",
       "      <td>306.347812</td>\n",
       "      <td>0.875258</td>\n",
       "      <td>0.562242</td>\n",
       "      <td>0.611111</td>\n",
       "      <td>27.634148</td>\n",
       "      <td>201.666667</td>\n",
       "      <td>104.666667</td>\n",
       "      <td>187.666667</td>\n",
       "      <td>0.0</td>\n",
       "      <td>1.024894</td>\n",
       "      <td>0.168740</td>\n",
       "      <td>True</td>\n",
       "    </tr>\n",
       "    <tr>\n",
       "      <th>2414</th>\n",
       "      <td>zwyrrvZSzsm3wctHE28o2-6Fyh9rghSWzKJKqQSMaCnLlX...</td>\n",
       "      <td>8.325295</td>\n",
       "      <td>0.000000</td>\n",
       "      <td>2.519048</td>\n",
       "      <td>435.914493</td>\n",
       "      <td>408.449208</td>\n",
       "      <td>521.067938</td>\n",
       "      <td>622.513073</td>\n",
       "      <td>0.373584</td>\n",
       "      <td>0.860420</td>\n",
       "      <td>0.428571</td>\n",
       "      <td>28.224096</td>\n",
       "      <td>409.600000</td>\n",
       "      <td>112.600000</td>\n",
       "      <td>10.000000</td>\n",
       "      <td>0.0</td>\n",
       "      <td>0.605038</td>\n",
       "      <td>0.134162</td>\n",
       "      <td>False</td>\n",
       "    </tr>\n",
       "    <tr>\n",
       "      <th>2415</th>\n",
       "      <td>zx3b47b39_fQAz0sueKSYg2MvsXyz3n3yftVu13TLBAvl7...</td>\n",
       "      <td>1.136588</td>\n",
       "      <td>0.007083</td>\n",
       "      <td>2.564524</td>\n",
       "      <td>264.354897</td>\n",
       "      <td>301.228254</td>\n",
       "      <td>289.321160</td>\n",
       "      <td>762.110048</td>\n",
       "      <td>0.527251</td>\n",
       "      <td>0.382798</td>\n",
       "      <td>0.190238</td>\n",
       "      <td>36.240010</td>\n",
       "      <td>207.400000</td>\n",
       "      <td>182.600000</td>\n",
       "      <td>45.400000</td>\n",
       "      <td>0.0</td>\n",
       "      <td>1.212318</td>\n",
       "      <td>0.277032</td>\n",
       "      <td>False</td>\n",
       "    </tr>\n",
       "    <tr>\n",
       "      <th>2416</th>\n",
       "      <td>zxeBnmRsYg-hHMiD3q76HrWVNHntwjXehUhFAxkzTc2lR7...</td>\n",
       "      <td>6.512612</td>\n",
       "      <td>0.108164</td>\n",
       "      <td>2.227083</td>\n",
       "      <td>399.508387</td>\n",
       "      <td>535.312137</td>\n",
       "      <td>965.373112</td>\n",
       "      <td>1202.632165</td>\n",
       "      <td>0.455503</td>\n",
       "      <td>0.813215</td>\n",
       "      <td>0.139583</td>\n",
       "      <td>49.464724</td>\n",
       "      <td>357.250000</td>\n",
       "      <td>193.500000</td>\n",
       "      <td>367.750000</td>\n",
       "      <td>5.0</td>\n",
       "      <td>0.203751</td>\n",
       "      <td>0.122225</td>\n",
       "      <td>False</td>\n",
       "    </tr>\n",
       "    <tr>\n",
       "      <th>2417</th>\n",
       "      <td>zyxuRDZl9DjIsEu8V4pGlH5CPFvgNJBdSD5PBJ-uhniVtM...</td>\n",
       "      <td>8.506519</td>\n",
       "      <td>0.000000</td>\n",
       "      <td>1.666667</td>\n",
       "      <td>381.883357</td>\n",
       "      <td>438.026382</td>\n",
       "      <td>915.341012</td>\n",
       "      <td>780.186273</td>\n",
       "      <td>0.395652</td>\n",
       "      <td>1.173234</td>\n",
       "      <td>0.166667</td>\n",
       "      <td>14.916082</td>\n",
       "      <td>437.000000</td>\n",
       "      <td>140.000000</td>\n",
       "      <td>0.000000</td>\n",
       "      <td>0.0</td>\n",
       "      <td>0.237391</td>\n",
       "      <td>0.395652</td>\n",
       "      <td>False</td>\n",
       "    </tr>\n",
       "  </tbody>\n",
       "</table>\n",
       "<p>2418 rows × 19 columns</p>\n",
       "</div>"
      ],
      "text/plain": [
       "                                                  puuid  lane_cs_per_min  \\\n",
       "0     --UU6P3gS9XNXShhKrJjdwtMnSJhAhf1UwYbnXkteqewk9...         2.541444   \n",
       "1     -0PkJKNOrIe1cG-0lX_um4tEVXO7QvPRCfcgxaU9JZ9PIf...         4.605603   \n",
       "2     -0o6aHvXTe3xfjgA2mJbTCM85Y9vsqmgVmIBj-GX5sQV0m...         0.382491   \n",
       "3     -1S8Vgzl5o8qRc1J24lsOqEi7WemMWiln924OtaniSSXZ-...         7.273737   \n",
       "4     -5HAguWtbg0NJsVdWoBJEpAcb_8m0qXJWCTB9KBOJbC4gD...         6.272413   \n",
       "...                                                 ...              ...   \n",
       "2413  zuTzJktw2MnWYD9D_fYDG-brT-s577KqtSiDkg6KQQMpfJ...         1.012666   \n",
       "2414  zwyrrvZSzsm3wctHE28o2-6Fyh9rghSWzKJKqQSMaCnLlX...         8.325295   \n",
       "2415  zx3b47b39_fQAz0sueKSYg2MvsXyz3n3yftVu13TLBAvl7...         1.136588   \n",
       "2416  zxeBnmRsYg-hHMiD3q76HrWVNHntwjXehUhFAxkzTc2lR7...         6.512612   \n",
       "2417  zyxuRDZl9DjIsEu8V4pGlH5CPFvgNJBdSD5PBJ-uhniVtM...         8.506519   \n",
       "\n",
       "      jungle_cs_per_min        KDA  gold_per_min  xp_per_min  damage_per_min  \\\n",
       "0              0.037034   2.726984    326.166208  284.953724      424.448871   \n",
       "1              2.730754   1.800000    396.459185  478.172058      704.375912   \n",
       "2              6.871390   7.750000    387.689206  507.891553      529.058669   \n",
       "3              0.015468   4.263889    406.707915  492.078102      874.762058   \n",
       "4              0.262719   2.666667    367.051112  411.286403      703.429795   \n",
       "...                 ...        ...           ...         ...             ...   \n",
       "2413           0.000000  13.000000    290.812194  358.051157      165.686041   \n",
       "2414           0.000000   2.519048    435.914493  408.449208      521.067938   \n",
       "2415           0.007083   2.564524    264.354897  301.228254      289.321160   \n",
       "2416           0.108164   2.227083    399.508387  535.312137      965.373112   \n",
       "2417           0.000000   1.666667    381.883357  438.026382      915.341012   \n",
       "\n",
       "      damage_taken_per_min  ka_per_min  damage_efficiency  survivability  \\\n",
       "0               696.504767    0.420603           0.624695       0.268027   \n",
       "1               946.124550    0.364065           0.858635       0.225000   \n",
       "2               912.637495    0.423278           0.599451       0.625000   \n",
       "3               578.421308    0.670765           1.505342       0.263889   \n",
       "4               914.031815    0.525438           0.769590       0.166667   \n",
       "...                    ...         ...                ...            ...   \n",
       "2413            306.347812    0.875258           0.562242       0.611111   \n",
       "2414            622.513073    0.373584           0.860420       0.428571   \n",
       "2415            762.110048    0.527251           0.382798       0.190238   \n",
       "2416           1202.632165    0.455503           0.813215       0.139583   \n",
       "2417            780.186273    0.395652           1.173234       0.166667   \n",
       "\n",
       "      healthregen_per_min  offensive_score  defensive_score  magic_score  \\\n",
       "0               33.636125       296.142857       126.571429    49.714286   \n",
       "1               32.174180       285.500000       122.000000   233.000000   \n",
       "2               44.342066       255.000000       158.500000   263.000000   \n",
       "3               28.844061       213.333333       142.666667   395.666667   \n",
       "4               25.188172       453.000000       122.000000   145.000000   \n",
       "...                   ...              ...              ...          ...   \n",
       "2413            27.634148       201.666667       104.666667   187.666667   \n",
       "2414            28.224096       409.600000       112.600000    10.000000   \n",
       "2415            36.240010       207.400000       182.600000    45.400000   \n",
       "2416            49.464724       357.250000       193.500000   367.750000   \n",
       "2417            14.916082       437.000000       140.000000     0.000000   \n",
       "\n",
       "      total_vamp  wards_placed_per_min  wards_killed_per_min  is_top1000  \n",
       "0            0.0              1.275884              0.329068       False  \n",
       "1            0.0              0.289675              0.086546       False  \n",
       "2            0.0              0.199846              0.307304        True  \n",
       "3            0.0              0.346756              0.117124        True  \n",
       "4            0.0              0.229879              0.098520       False  \n",
       "...          ...                   ...                   ...         ...  \n",
       "2413         0.0              1.024894              0.168740        True  \n",
       "2414         0.0              0.605038              0.134162       False  \n",
       "2415         0.0              1.212318              0.277032       False  \n",
       "2416         5.0              0.203751              0.122225       False  \n",
       "2417         0.0              0.237391              0.395652       False  \n",
       "\n",
       "[2418 rows x 19 columns]"
      ]
     },
     "execution_count": 198,
     "metadata": {},
     "output_type": "execute_result"
    }
   ],
   "source": [
    "# Top 1000 유저 필터링\n",
    "top1000_puuids = merged_df.sort_values(\"KDA\", ascending=False)[\"puuid\"].unique()[:1000]\n",
    "merged_df[\"is_top1000\"] = merged_df[\"puuid\"].isin(top1000_puuids)\n",
    "merged_df"
   ]
  },
  {
   "cell_type": "code",
   "execution_count": null,
   "id": "b10a49c6",
   "metadata": {},
   "outputs": [
    {
     "data": {
      "text/html": [
       "<div>\n",
       "<style scoped>\n",
       "    .dataframe tbody tr th:only-of-type {\n",
       "        vertical-align: middle;\n",
       "    }\n",
       "\n",
       "    .dataframe tbody tr th {\n",
       "        vertical-align: top;\n",
       "    }\n",
       "\n",
       "    .dataframe thead th {\n",
       "        text-align: right;\n",
       "    }\n",
       "</style>\n",
       "<table border=\"1\" class=\"dataframe\">\n",
       "  <thead>\n",
       "    <tr style=\"text-align: right;\">\n",
       "      <th></th>\n",
       "      <th>puuid</th>\n",
       "      <th>lane_cs_per_min</th>\n",
       "      <th>jungle_cs_per_min</th>\n",
       "      <th>KDA</th>\n",
       "      <th>gold_per_min</th>\n",
       "      <th>xp_per_min</th>\n",
       "      <th>damage_per_min</th>\n",
       "      <th>damage_taken_per_min</th>\n",
       "      <th>ka_per_min</th>\n",
       "      <th>damage_efficiency</th>\n",
       "      <th>survivability</th>\n",
       "      <th>healthregen_per_min</th>\n",
       "      <th>offensive_score</th>\n",
       "      <th>defensive_score</th>\n",
       "      <th>magic_score</th>\n",
       "      <th>total_vamp</th>\n",
       "      <th>wards_placed_per_min</th>\n",
       "      <th>wards_killed_per_min</th>\n",
       "      <th>is_top1000</th>\n",
       "    </tr>\n",
       "  </thead>\n",
       "  <tbody>\n",
       "    <tr>\n",
       "      <th>0</th>\n",
       "      <td>--UU6P3gS9XNXShhKrJjdwtMnSJhAhf1UwYbnXkteqewk9...</td>\n",
       "      <td>1</td>\n",
       "      <td>1</td>\n",
       "      <td>1</td>\n",
       "      <td>1</td>\n",
       "      <td>1</td>\n",
       "      <td>1</td>\n",
       "      <td>1</td>\n",
       "      <td>1</td>\n",
       "      <td>1</td>\n",
       "      <td>1</td>\n",
       "      <td>1</td>\n",
       "      <td>1</td>\n",
       "      <td>1</td>\n",
       "      <td>1</td>\n",
       "      <td>1</td>\n",
       "      <td>1</td>\n",
       "      <td>1</td>\n",
       "      <td>1</td>\n",
       "    </tr>\n",
       "    <tr>\n",
       "      <th>1</th>\n",
       "      <td>-0PkJKNOrIe1cG-0lX_um4tEVXO7QvPRCfcgxaU9JZ9PIf...</td>\n",
       "      <td>1</td>\n",
       "      <td>1</td>\n",
       "      <td>1</td>\n",
       "      <td>1</td>\n",
       "      <td>1</td>\n",
       "      <td>1</td>\n",
       "      <td>1</td>\n",
       "      <td>1</td>\n",
       "      <td>1</td>\n",
       "      <td>1</td>\n",
       "      <td>1</td>\n",
       "      <td>1</td>\n",
       "      <td>1</td>\n",
       "      <td>1</td>\n",
       "      <td>1</td>\n",
       "      <td>1</td>\n",
       "      <td>1</td>\n",
       "      <td>1</td>\n",
       "    </tr>\n",
       "    <tr>\n",
       "      <th>2</th>\n",
       "      <td>-0o6aHvXTe3xfjgA2mJbTCM85Y9vsqmgVmIBj-GX5sQV0m...</td>\n",
       "      <td>1</td>\n",
       "      <td>1</td>\n",
       "      <td>1</td>\n",
       "      <td>1</td>\n",
       "      <td>1</td>\n",
       "      <td>1</td>\n",
       "      <td>1</td>\n",
       "      <td>1</td>\n",
       "      <td>1</td>\n",
       "      <td>1</td>\n",
       "      <td>1</td>\n",
       "      <td>1</td>\n",
       "      <td>1</td>\n",
       "      <td>1</td>\n",
       "      <td>1</td>\n",
       "      <td>1</td>\n",
       "      <td>1</td>\n",
       "      <td>1</td>\n",
       "    </tr>\n",
       "    <tr>\n",
       "      <th>3</th>\n",
       "      <td>-1S8Vgzl5o8qRc1J24lsOqEi7WemMWiln924OtaniSSXZ-...</td>\n",
       "      <td>1</td>\n",
       "      <td>1</td>\n",
       "      <td>1</td>\n",
       "      <td>1</td>\n",
       "      <td>1</td>\n",
       "      <td>1</td>\n",
       "      <td>1</td>\n",
       "      <td>1</td>\n",
       "      <td>1</td>\n",
       "      <td>1</td>\n",
       "      <td>1</td>\n",
       "      <td>1</td>\n",
       "      <td>1</td>\n",
       "      <td>1</td>\n",
       "      <td>1</td>\n",
       "      <td>1</td>\n",
       "      <td>1</td>\n",
       "      <td>1</td>\n",
       "    </tr>\n",
       "    <tr>\n",
       "      <th>4</th>\n",
       "      <td>-5HAguWtbg0NJsVdWoBJEpAcb_8m0qXJWCTB9KBOJbC4gD...</td>\n",
       "      <td>1</td>\n",
       "      <td>1</td>\n",
       "      <td>1</td>\n",
       "      <td>1</td>\n",
       "      <td>1</td>\n",
       "      <td>1</td>\n",
       "      <td>1</td>\n",
       "      <td>1</td>\n",
       "      <td>1</td>\n",
       "      <td>1</td>\n",
       "      <td>1</td>\n",
       "      <td>1</td>\n",
       "      <td>1</td>\n",
       "      <td>1</td>\n",
       "      <td>1</td>\n",
       "      <td>1</td>\n",
       "      <td>1</td>\n",
       "      <td>1</td>\n",
       "    </tr>\n",
       "    <tr>\n",
       "      <th>...</th>\n",
       "      <td>...</td>\n",
       "      <td>...</td>\n",
       "      <td>...</td>\n",
       "      <td>...</td>\n",
       "      <td>...</td>\n",
       "      <td>...</td>\n",
       "      <td>...</td>\n",
       "      <td>...</td>\n",
       "      <td>...</td>\n",
       "      <td>...</td>\n",
       "      <td>...</td>\n",
       "      <td>...</td>\n",
       "      <td>...</td>\n",
       "      <td>...</td>\n",
       "      <td>...</td>\n",
       "      <td>...</td>\n",
       "      <td>...</td>\n",
       "      <td>...</td>\n",
       "      <td>...</td>\n",
       "    </tr>\n",
       "    <tr>\n",
       "      <th>2413</th>\n",
       "      <td>zuTzJktw2MnWYD9D_fYDG-brT-s577KqtSiDkg6KQQMpfJ...</td>\n",
       "      <td>1</td>\n",
       "      <td>1</td>\n",
       "      <td>1</td>\n",
       "      <td>1</td>\n",
       "      <td>1</td>\n",
       "      <td>1</td>\n",
       "      <td>1</td>\n",
       "      <td>1</td>\n",
       "      <td>1</td>\n",
       "      <td>1</td>\n",
       "      <td>1</td>\n",
       "      <td>1</td>\n",
       "      <td>1</td>\n",
       "      <td>1</td>\n",
       "      <td>1</td>\n",
       "      <td>1</td>\n",
       "      <td>1</td>\n",
       "      <td>1</td>\n",
       "    </tr>\n",
       "    <tr>\n",
       "      <th>2414</th>\n",
       "      <td>zwyrrvZSzsm3wctHE28o2-6Fyh9rghSWzKJKqQSMaCnLlX...</td>\n",
       "      <td>1</td>\n",
       "      <td>1</td>\n",
       "      <td>1</td>\n",
       "      <td>1</td>\n",
       "      <td>1</td>\n",
       "      <td>1</td>\n",
       "      <td>1</td>\n",
       "      <td>1</td>\n",
       "      <td>1</td>\n",
       "      <td>1</td>\n",
       "      <td>1</td>\n",
       "      <td>1</td>\n",
       "      <td>1</td>\n",
       "      <td>1</td>\n",
       "      <td>1</td>\n",
       "      <td>1</td>\n",
       "      <td>1</td>\n",
       "      <td>1</td>\n",
       "    </tr>\n",
       "    <tr>\n",
       "      <th>2415</th>\n",
       "      <td>zx3b47b39_fQAz0sueKSYg2MvsXyz3n3yftVu13TLBAvl7...</td>\n",
       "      <td>1</td>\n",
       "      <td>1</td>\n",
       "      <td>1</td>\n",
       "      <td>1</td>\n",
       "      <td>1</td>\n",
       "      <td>1</td>\n",
       "      <td>1</td>\n",
       "      <td>1</td>\n",
       "      <td>1</td>\n",
       "      <td>1</td>\n",
       "      <td>1</td>\n",
       "      <td>1</td>\n",
       "      <td>1</td>\n",
       "      <td>1</td>\n",
       "      <td>1</td>\n",
       "      <td>1</td>\n",
       "      <td>1</td>\n",
       "      <td>1</td>\n",
       "    </tr>\n",
       "    <tr>\n",
       "      <th>2416</th>\n",
       "      <td>zxeBnmRsYg-hHMiD3q76HrWVNHntwjXehUhFAxkzTc2lR7...</td>\n",
       "      <td>1</td>\n",
       "      <td>1</td>\n",
       "      <td>1</td>\n",
       "      <td>1</td>\n",
       "      <td>1</td>\n",
       "      <td>1</td>\n",
       "      <td>1</td>\n",
       "      <td>1</td>\n",
       "      <td>1</td>\n",
       "      <td>1</td>\n",
       "      <td>1</td>\n",
       "      <td>1</td>\n",
       "      <td>1</td>\n",
       "      <td>1</td>\n",
       "      <td>1</td>\n",
       "      <td>1</td>\n",
       "      <td>1</td>\n",
       "      <td>1</td>\n",
       "    </tr>\n",
       "    <tr>\n",
       "      <th>2417</th>\n",
       "      <td>zyxuRDZl9DjIsEu8V4pGlH5CPFvgNJBdSD5PBJ-uhniVtM...</td>\n",
       "      <td>1</td>\n",
       "      <td>1</td>\n",
       "      <td>1</td>\n",
       "      <td>1</td>\n",
       "      <td>1</td>\n",
       "      <td>1</td>\n",
       "      <td>1</td>\n",
       "      <td>1</td>\n",
       "      <td>1</td>\n",
       "      <td>1</td>\n",
       "      <td>1</td>\n",
       "      <td>1</td>\n",
       "      <td>1</td>\n",
       "      <td>1</td>\n",
       "      <td>1</td>\n",
       "      <td>1</td>\n",
       "      <td>1</td>\n",
       "      <td>1</td>\n",
       "    </tr>\n",
       "  </tbody>\n",
       "</table>\n",
       "<p>2418 rows × 19 columns</p>\n",
       "</div>"
      ],
      "text/plain": [
       "                                                  puuid  lane_cs_per_min  \\\n",
       "0     --UU6P3gS9XNXShhKrJjdwtMnSJhAhf1UwYbnXkteqewk9...                1   \n",
       "1     -0PkJKNOrIe1cG-0lX_um4tEVXO7QvPRCfcgxaU9JZ9PIf...                1   \n",
       "2     -0o6aHvXTe3xfjgA2mJbTCM85Y9vsqmgVmIBj-GX5sQV0m...                1   \n",
       "3     -1S8Vgzl5o8qRc1J24lsOqEi7WemMWiln924OtaniSSXZ-...                1   \n",
       "4     -5HAguWtbg0NJsVdWoBJEpAcb_8m0qXJWCTB9KBOJbC4gD...                1   \n",
       "...                                                 ...              ...   \n",
       "2413  zuTzJktw2MnWYD9D_fYDG-brT-s577KqtSiDkg6KQQMpfJ...                1   \n",
       "2414  zwyrrvZSzsm3wctHE28o2-6Fyh9rghSWzKJKqQSMaCnLlX...                1   \n",
       "2415  zx3b47b39_fQAz0sueKSYg2MvsXyz3n3yftVu13TLBAvl7...                1   \n",
       "2416  zxeBnmRsYg-hHMiD3q76HrWVNHntwjXehUhFAxkzTc2lR7...                1   \n",
       "2417  zyxuRDZl9DjIsEu8V4pGlH5CPFvgNJBdSD5PBJ-uhniVtM...                1   \n",
       "\n",
       "      jungle_cs_per_min  KDA  gold_per_min  xp_per_min  damage_per_min  \\\n",
       "0                     1    1             1           1               1   \n",
       "1                     1    1             1           1               1   \n",
       "2                     1    1             1           1               1   \n",
       "3                     1    1             1           1               1   \n",
       "4                     1    1             1           1               1   \n",
       "...                 ...  ...           ...         ...             ...   \n",
       "2413                  1    1             1           1               1   \n",
       "2414                  1    1             1           1               1   \n",
       "2415                  1    1             1           1               1   \n",
       "2416                  1    1             1           1               1   \n",
       "2417                  1    1             1           1               1   \n",
       "\n",
       "      damage_taken_per_min  ka_per_min  damage_efficiency  survivability  \\\n",
       "0                        1           1                  1              1   \n",
       "1                        1           1                  1              1   \n",
       "2                        1           1                  1              1   \n",
       "3                        1           1                  1              1   \n",
       "4                        1           1                  1              1   \n",
       "...                    ...         ...                ...            ...   \n",
       "2413                     1           1                  1              1   \n",
       "2414                     1           1                  1              1   \n",
       "2415                     1           1                  1              1   \n",
       "2416                     1           1                  1              1   \n",
       "2417                     1           1                  1              1   \n",
       "\n",
       "      healthregen_per_min  offensive_score  defensive_score  magic_score  \\\n",
       "0                       1                1                1            1   \n",
       "1                       1                1                1            1   \n",
       "2                       1                1                1            1   \n",
       "3                       1                1                1            1   \n",
       "4                       1                1                1            1   \n",
       "...                   ...              ...              ...          ...   \n",
       "2413                    1                1                1            1   \n",
       "2414                    1                1                1            1   \n",
       "2415                    1                1                1            1   \n",
       "2416                    1                1                1            1   \n",
       "2417                    1                1                1            1   \n",
       "\n",
       "      total_vamp  wards_placed_per_min  wards_killed_per_min  is_top1000  \n",
       "0              1                     1                     1           1  \n",
       "1              1                     1                     1           1  \n",
       "2              1                     1                     1           1  \n",
       "3              1                     1                     1           1  \n",
       "4              1                     1                     1           1  \n",
       "...          ...                   ...                   ...         ...  \n",
       "2413           1                     1                     1           1  \n",
       "2414           1                     1                     1           1  \n",
       "2415           1                     1                     1           1  \n",
       "2416           1                     1                     1           1  \n",
       "2417           1                     1                     1           1  \n",
       "\n",
       "[2418 rows x 19 columns]"
      ]
     },
     "execution_count": 199,
     "metadata": {},
     "output_type": "execute_result"
    }
   ],
   "source": [
    "merged_df.groupby('puuid').count().reset_index()"
   ]
  },
  {
   "cell_type": "code",
   "execution_count": 201,
   "id": "92713128",
   "metadata": {},
   "outputs": [
    {
     "data": {
      "text/html": [
       "<div>\n",
       "<style scoped>\n",
       "    .dataframe tbody tr th:only-of-type {\n",
       "        vertical-align: middle;\n",
       "    }\n",
       "\n",
       "    .dataframe tbody tr th {\n",
       "        vertical-align: top;\n",
       "    }\n",
       "\n",
       "    .dataframe thead th {\n",
       "        text-align: right;\n",
       "    }\n",
       "</style>\n",
       "<table border=\"1\" class=\"dataframe\">\n",
       "  <thead>\n",
       "    <tr style=\"text-align: right;\">\n",
       "      <th></th>\n",
       "      <th>puuid</th>\n",
       "      <th>is_top1000</th>\n",
       "      <th>lane_cs_per_min</th>\n",
       "      <th>jungle_cs_per_min</th>\n",
       "      <th>KDA</th>\n",
       "      <th>gold_per_min</th>\n",
       "      <th>xp_per_min</th>\n",
       "      <th>damage_per_min</th>\n",
       "      <th>damage_taken_per_min</th>\n",
       "      <th>ka_per_min</th>\n",
       "      <th>damage_efficiency</th>\n",
       "      <th>survivability</th>\n",
       "      <th>healthregen_per_min</th>\n",
       "      <th>offensive_score</th>\n",
       "      <th>defensive_score</th>\n",
       "      <th>magic_score</th>\n",
       "      <th>total_vamp</th>\n",
       "      <th>wards_placed_per_min</th>\n",
       "      <th>wards_killed_per_min</th>\n",
       "    </tr>\n",
       "  </thead>\n",
       "  <tbody>\n",
       "    <tr>\n",
       "      <th>0</th>\n",
       "      <td>--UU6P3gS9XNXShhKrJjdwtMnSJhAhf1UwYbnXkteqewk9...</td>\n",
       "      <td>False</td>\n",
       "      <td>-0.742906</td>\n",
       "      <td>-0.535760</td>\n",
       "      <td>-0.475517</td>\n",
       "      <td>-0.902060</td>\n",
       "      <td>-2.005817</td>\n",
       "      <td>-0.911104</td>\n",
       "      <td>-0.617045</td>\n",
       "      <td>-0.602842</td>\n",
       "      <td>-0.469519</td>\n",
       "      <td>-0.212807</td>\n",
       "      <td>-0.201624</td>\n",
       "      <td>-0.482981</td>\n",
       "      <td>-0.842876</td>\n",
       "      <td>-0.404417</td>\n",
       "      <td>-0.101452</td>\n",
       "      <td>0.444715</td>\n",
       "      <td>1.344930</td>\n",
       "    </tr>\n",
       "    <tr>\n",
       "      <th>1</th>\n",
       "      <td>-0PkJKNOrIe1cG-0lX_um4tEVXO7QvPRCfcgxaU9JZ9PIf...</td>\n",
       "      <td>False</td>\n",
       "      <td>-0.067749</td>\n",
       "      <td>0.754647</td>\n",
       "      <td>-0.752758</td>\n",
       "      <td>0.112531</td>\n",
       "      <td>0.112757</td>\n",
       "      <td>0.167406</td>\n",
       "      <td>0.271189</td>\n",
       "      <td>-0.861244</td>\n",
       "      <td>0.072474</td>\n",
       "      <td>-0.423729</td>\n",
       "      <td>-0.243294</td>\n",
       "      <td>-0.577329</td>\n",
       "      <td>-0.923822</td>\n",
       "      <td>0.975545</td>\n",
       "      <td>-0.101452</td>\n",
       "      <td>-0.340682</td>\n",
       "      <td>-0.754267</td>\n",
       "    </tr>\n",
       "    <tr>\n",
       "      <th>2</th>\n",
       "      <td>-0o6aHvXTe3xfjgA2mJbTCM85Y9vsqmgVmIBj-GX5sQV0m...</td>\n",
       "      <td>True</td>\n",
       "      <td>-1.449069</td>\n",
       "      <td>2.738189</td>\n",
       "      <td>1.026758</td>\n",
       "      <td>-0.014052</td>\n",
       "      <td>0.438622</td>\n",
       "      <td>-0.508060</td>\n",
       "      <td>0.152031</td>\n",
       "      <td>-0.590618</td>\n",
       "      <td>-0.528005</td>\n",
       "      <td>1.537098</td>\n",
       "      <td>0.103534</td>\n",
       "      <td>-0.847709</td>\n",
       "      <td>-0.277515</td>\n",
       "      <td>1.201416</td>\n",
       "      <td>-0.101452</td>\n",
       "      <td>-0.412220</td>\n",
       "      <td>1.156546</td>\n",
       "    </tr>\n",
       "    <tr>\n",
       "      <th>3</th>\n",
       "      <td>-1S8Vgzl5o8qRc1J24lsOqEi7WemMWiln924OtaniSSXZ-...</td>\n",
       "      <td>True</td>\n",
       "      <td>0.804960</td>\n",
       "      <td>-0.546091</td>\n",
       "      <td>-0.015862</td>\n",
       "      <td>0.260459</td>\n",
       "      <td>0.265232</td>\n",
       "      <td>0.823875</td>\n",
       "      <td>-1.037227</td>\n",
       "      <td>0.540498</td>\n",
       "      <td>1.570767</td>\n",
       "      <td>-0.233093</td>\n",
       "      <td>-0.338215</td>\n",
       "      <td>-1.217081</td>\n",
       "      <td>-0.557877</td>\n",
       "      <td>2.200266</td>\n",
       "      <td>-0.101452</td>\n",
       "      <td>-0.295224</td>\n",
       "      <td>-0.489594</td>\n",
       "    </tr>\n",
       "    <tr>\n",
       "      <th>4</th>\n",
       "      <td>-5HAguWtbg0NJsVdWoBJEpAcb_8m0qXJWCTB9KBOJbC4gD...</td>\n",
       "      <td>False</td>\n",
       "      <td>0.477441</td>\n",
       "      <td>-0.427648</td>\n",
       "      <td>-0.493557</td>\n",
       "      <td>-0.311938</td>\n",
       "      <td>-0.620622</td>\n",
       "      <td>0.163761</td>\n",
       "      <td>0.156992</td>\n",
       "      <td>-0.123706</td>\n",
       "      <td>-0.133826</td>\n",
       "      <td>-0.709683</td>\n",
       "      <td>-0.442421</td>\n",
       "      <td>0.907544</td>\n",
       "      <td>-0.923822</td>\n",
       "      <td>0.312991</td>\n",
       "      <td>-0.101452</td>\n",
       "      <td>-0.388302</td>\n",
       "      <td>-0.650626</td>\n",
       "    </tr>\n",
       "    <tr>\n",
       "      <th>...</th>\n",
       "      <td>...</td>\n",
       "      <td>...</td>\n",
       "      <td>...</td>\n",
       "      <td>...</td>\n",
       "      <td>...</td>\n",
       "      <td>...</td>\n",
       "      <td>...</td>\n",
       "      <td>...</td>\n",
       "      <td>...</td>\n",
       "      <td>...</td>\n",
       "      <td>...</td>\n",
       "      <td>...</td>\n",
       "      <td>...</td>\n",
       "      <td>...</td>\n",
       "      <td>...</td>\n",
       "      <td>...</td>\n",
       "      <td>...</td>\n",
       "      <td>...</td>\n",
       "      <td>...</td>\n",
       "    </tr>\n",
       "    <tr>\n",
       "      <th>2413</th>\n",
       "      <td>zuTzJktw2MnWYD9D_fYDG-brT-s577KqtSiDkg6KQQMpfJ...</td>\n",
       "      <td>True</td>\n",
       "      <td>-1.242948</td>\n",
       "      <td>-0.553501</td>\n",
       "      <td>2.596919</td>\n",
       "      <td>-1.412351</td>\n",
       "      <td>-1.204328</td>\n",
       "      <td>-1.908072</td>\n",
       "      <td>-2.005360</td>\n",
       "      <td>1.475115</td>\n",
       "      <td>-0.614210</td>\n",
       "      <td>1.469014</td>\n",
       "      <td>-0.372702</td>\n",
       "      <td>-1.320505</td>\n",
       "      <td>-1.230745</td>\n",
       "      <td>0.634230</td>\n",
       "      <td>-0.101452</td>\n",
       "      <td>0.244831</td>\n",
       "      <td>-0.042823</td>\n",
       "    </tr>\n",
       "    <tr>\n",
       "      <th>2414</th>\n",
       "      <td>zwyrrvZSzsm3wctHE28o2-6Fyh9rghSWzKJKqQSMaCnLlX...</td>\n",
       "      <td>False</td>\n",
       "      <td>1.148909</td>\n",
       "      <td>-0.553501</td>\n",
       "      <td>-0.537706</td>\n",
       "      <td>0.682020</td>\n",
       "      <td>-0.651731</td>\n",
       "      <td>-0.538847</td>\n",
       "      <td>-0.880333</td>\n",
       "      <td>-0.817740</td>\n",
       "      <td>0.076608</td>\n",
       "      <td>0.574192</td>\n",
       "      <td>-0.355886</td>\n",
       "      <td>0.522807</td>\n",
       "      <td>-1.090269</td>\n",
       "      <td>-0.703427</td>\n",
       "      <td>-0.101452</td>\n",
       "      <td>-0.089533</td>\n",
       "      <td>-0.342115</td>\n",
       "    </tr>\n",
       "    <tr>\n",
       "      <th>2415</th>\n",
       "      <td>zx3b47b39_fQAz0sueKSYg2MvsXyz3n3yftVu13TLBAvl7...</td>\n",
       "      <td>False</td>\n",
       "      <td>-1.202415</td>\n",
       "      <td>-0.550108</td>\n",
       "      <td>-0.524105</td>\n",
       "      <td>-1.794230</td>\n",
       "      <td>-1.827373</td>\n",
       "      <td>-1.431727</td>\n",
       "      <td>-0.383599</td>\n",
       "      <td>-0.115420</td>\n",
       "      <td>-1.029948</td>\n",
       "      <td>-0.594134</td>\n",
       "      <td>-0.127404</td>\n",
       "      <td>-1.269679</td>\n",
       "      <td>0.149225</td>\n",
       "      <td>-0.436899</td>\n",
       "      <td>-0.101452</td>\n",
       "      <td>0.394092</td>\n",
       "      <td>0.894521</td>\n",
       "    </tr>\n",
       "    <tr>\n",
       "      <th>2416</th>\n",
       "      <td>zxeBnmRsYg-hHMiD3q76HrWVNHntwjXehUhFAxkzTc2lR7...</td>\n",
       "      <td>False</td>\n",
       "      <td>0.556006</td>\n",
       "      <td>-0.501686</td>\n",
       "      <td>-0.625026</td>\n",
       "      <td>0.156543</td>\n",
       "      <td>0.739279</td>\n",
       "      <td>1.172983</td>\n",
       "      <td>1.183933</td>\n",
       "      <td>-0.443334</td>\n",
       "      <td>-0.032756</td>\n",
       "      <td>-0.842447</td>\n",
       "      <td>0.249548</td>\n",
       "      <td>0.058728</td>\n",
       "      <td>0.342232</td>\n",
       "      <td>1.990081</td>\n",
       "      <td>4.553330</td>\n",
       "      <td>-0.409110</td>\n",
       "      <td>-0.445440</td>\n",
       "    </tr>\n",
       "    <tr>\n",
       "      <th>2417</th>\n",
       "      <td>zyxuRDZl9DjIsEu8V4pGlH5CPFvgNJBdSD5PBJ-uhniVtM...</td>\n",
       "      <td>False</td>\n",
       "      <td>1.208185</td>\n",
       "      <td>-0.553501</td>\n",
       "      <td>-0.792635</td>\n",
       "      <td>-0.097853</td>\n",
       "      <td>-0.327427</td>\n",
       "      <td>0.980218</td>\n",
       "      <td>-0.319277</td>\n",
       "      <td>-0.716879</td>\n",
       "      <td>0.801338</td>\n",
       "      <td>-0.709683</td>\n",
       "      <td>-0.735212</td>\n",
       "      <td>0.765706</td>\n",
       "      <td>-0.605095</td>\n",
       "      <td>-0.778717</td>\n",
       "      <td>-0.101452</td>\n",
       "      <td>-0.382320</td>\n",
       "      <td>1.921258</td>\n",
       "    </tr>\n",
       "  </tbody>\n",
       "</table>\n",
       "<p>2418 rows × 19 columns</p>\n",
       "</div>"
      ],
      "text/plain": [
       "                                                  puuid  is_top1000  \\\n",
       "0     --UU6P3gS9XNXShhKrJjdwtMnSJhAhf1UwYbnXkteqewk9...       False   \n",
       "1     -0PkJKNOrIe1cG-0lX_um4tEVXO7QvPRCfcgxaU9JZ9PIf...       False   \n",
       "2     -0o6aHvXTe3xfjgA2mJbTCM85Y9vsqmgVmIBj-GX5sQV0m...        True   \n",
       "3     -1S8Vgzl5o8qRc1J24lsOqEi7WemMWiln924OtaniSSXZ-...        True   \n",
       "4     -5HAguWtbg0NJsVdWoBJEpAcb_8m0qXJWCTB9KBOJbC4gD...       False   \n",
       "...                                                 ...         ...   \n",
       "2413  zuTzJktw2MnWYD9D_fYDG-brT-s577KqtSiDkg6KQQMpfJ...        True   \n",
       "2414  zwyrrvZSzsm3wctHE28o2-6Fyh9rghSWzKJKqQSMaCnLlX...       False   \n",
       "2415  zx3b47b39_fQAz0sueKSYg2MvsXyz3n3yftVu13TLBAvl7...       False   \n",
       "2416  zxeBnmRsYg-hHMiD3q76HrWVNHntwjXehUhFAxkzTc2lR7...       False   \n",
       "2417  zyxuRDZl9DjIsEu8V4pGlH5CPFvgNJBdSD5PBJ-uhniVtM...       False   \n",
       "\n",
       "      lane_cs_per_min  jungle_cs_per_min       KDA  gold_per_min  xp_per_min  \\\n",
       "0           -0.742906          -0.535760 -0.475517     -0.902060   -2.005817   \n",
       "1           -0.067749           0.754647 -0.752758      0.112531    0.112757   \n",
       "2           -1.449069           2.738189  1.026758     -0.014052    0.438622   \n",
       "3            0.804960          -0.546091 -0.015862      0.260459    0.265232   \n",
       "4            0.477441          -0.427648 -0.493557     -0.311938   -0.620622   \n",
       "...               ...                ...       ...           ...         ...   \n",
       "2413        -1.242948          -0.553501  2.596919     -1.412351   -1.204328   \n",
       "2414         1.148909          -0.553501 -0.537706      0.682020   -0.651731   \n",
       "2415        -1.202415          -0.550108 -0.524105     -1.794230   -1.827373   \n",
       "2416         0.556006          -0.501686 -0.625026      0.156543    0.739279   \n",
       "2417         1.208185          -0.553501 -0.792635     -0.097853   -0.327427   \n",
       "\n",
       "      damage_per_min  damage_taken_per_min  ka_per_min  damage_efficiency  \\\n",
       "0          -0.911104             -0.617045   -0.602842          -0.469519   \n",
       "1           0.167406              0.271189   -0.861244           0.072474   \n",
       "2          -0.508060              0.152031   -0.590618          -0.528005   \n",
       "3           0.823875             -1.037227    0.540498           1.570767   \n",
       "4           0.163761              0.156992   -0.123706          -0.133826   \n",
       "...              ...                   ...         ...                ...   \n",
       "2413       -1.908072             -2.005360    1.475115          -0.614210   \n",
       "2414       -0.538847             -0.880333   -0.817740           0.076608   \n",
       "2415       -1.431727             -0.383599   -0.115420          -1.029948   \n",
       "2416        1.172983              1.183933   -0.443334          -0.032756   \n",
       "2417        0.980218             -0.319277   -0.716879           0.801338   \n",
       "\n",
       "      survivability  healthregen_per_min  offensive_score  defensive_score  \\\n",
       "0         -0.212807            -0.201624        -0.482981        -0.842876   \n",
       "1         -0.423729            -0.243294        -0.577329        -0.923822   \n",
       "2          1.537098             0.103534        -0.847709        -0.277515   \n",
       "3         -0.233093            -0.338215        -1.217081        -0.557877   \n",
       "4         -0.709683            -0.442421         0.907544        -0.923822   \n",
       "...             ...                  ...              ...              ...   \n",
       "2413       1.469014            -0.372702        -1.320505        -1.230745   \n",
       "2414       0.574192            -0.355886         0.522807        -1.090269   \n",
       "2415      -0.594134            -0.127404        -1.269679         0.149225   \n",
       "2416      -0.842447             0.249548         0.058728         0.342232   \n",
       "2417      -0.709683            -0.735212         0.765706        -0.605095   \n",
       "\n",
       "      magic_score  total_vamp  wards_placed_per_min  wards_killed_per_min  \n",
       "0       -0.404417   -0.101452              0.444715              1.344930  \n",
       "1        0.975545   -0.101452             -0.340682             -0.754267  \n",
       "2        1.201416   -0.101452             -0.412220              1.156546  \n",
       "3        2.200266   -0.101452             -0.295224             -0.489594  \n",
       "4        0.312991   -0.101452             -0.388302             -0.650626  \n",
       "...           ...         ...                   ...                   ...  \n",
       "2413     0.634230   -0.101452              0.244831             -0.042823  \n",
       "2414    -0.703427   -0.101452             -0.089533             -0.342115  \n",
       "2415    -0.436899   -0.101452              0.394092              0.894521  \n",
       "2416     1.990081    4.553330             -0.409110             -0.445440  \n",
       "2417    -0.778717   -0.101452             -0.382320              1.921258  \n",
       "\n",
       "[2418 rows x 19 columns]"
      ]
     },
     "execution_count": 201,
     "metadata": {},
     "output_type": "execute_result"
    }
   ],
   "source": [
    "# 스케일링\n",
    "scaler = StandardScaler()\n",
    "\n",
    "# 분석 대상에서 제외할 컬럼 지정\n",
    "id_columns = ['puuid', 'is_top1000']\n",
    "features = merged_df.drop(columns=id_columns)\n",
    "\n",
    "# StandardScaler 적용\n",
    "scaler = StandardScaler()\n",
    "scaled_array = scaler.fit_transform(features)\n",
    "\n",
    "# 정규화된 데이터를 다시 DataFrame으로\n",
    "scaled_features = pd.DataFrame(scaled_array, columns=features.columns, index=features.index)\n",
    "\n",
    "# 식별자 컬럼 붙이기\n",
    "scaled_df = pd.concat([merged_df[id_columns], scaled_features], axis=1)\n",
    "\n",
    "scaled_df"
   ]
  },
  {
   "cell_type": "code",
   "execution_count": 229,
   "id": "0f33d405",
   "metadata": {},
   "outputs": [
    {
     "data": {
      "text/html": [
       "<div>\n",
       "<style scoped>\n",
       "    .dataframe tbody tr th:only-of-type {\n",
       "        vertical-align: middle;\n",
       "    }\n",
       "\n",
       "    .dataframe tbody tr th {\n",
       "        vertical-align: top;\n",
       "    }\n",
       "\n",
       "    .dataframe thead th {\n",
       "        text-align: right;\n",
       "    }\n",
       "</style>\n",
       "<table border=\"1\" class=\"dataframe\">\n",
       "  <thead>\n",
       "    <tr style=\"text-align: right;\">\n",
       "      <th></th>\n",
       "      <th>puuid</th>\n",
       "      <th>lane_cs_per_min</th>\n",
       "      <th>jungle_cs_per_min</th>\n",
       "      <th>KDA</th>\n",
       "      <th>gold_per_min</th>\n",
       "      <th>xp_per_min</th>\n",
       "      <th>damage_per_min</th>\n",
       "      <th>damage_taken_per_min</th>\n",
       "      <th>ka_per_min</th>\n",
       "      <th>damage_efficiency</th>\n",
       "      <th>survivability</th>\n",
       "      <th>healthregen_per_min</th>\n",
       "      <th>offensive_score</th>\n",
       "      <th>defensive_score</th>\n",
       "      <th>magic_score</th>\n",
       "      <th>total_vamp</th>\n",
       "      <th>wards_placed_per_min</th>\n",
       "      <th>wards_killed_per_min</th>\n",
       "    </tr>\n",
       "  </thead>\n",
       "  <tbody>\n",
       "    <tr>\n",
       "      <th>2</th>\n",
       "      <td>-0o6aHvXTe3xfjgA2mJbTCM85Y9vsqmgVmIBj-GX5sQV0m...</td>\n",
       "      <td>-1.449069</td>\n",
       "      <td>2.738189</td>\n",
       "      <td>1.026758</td>\n",
       "      <td>-0.014052</td>\n",
       "      <td>0.438622</td>\n",
       "      <td>-0.508060</td>\n",
       "      <td>0.152031</td>\n",
       "      <td>-0.590618</td>\n",
       "      <td>-0.528005</td>\n",
       "      <td>1.537098</td>\n",
       "      <td>0.103534</td>\n",
       "      <td>-0.847709</td>\n",
       "      <td>-0.277515</td>\n",
       "      <td>1.201416</td>\n",
       "      <td>-0.101452</td>\n",
       "      <td>-0.412220</td>\n",
       "      <td>1.156546</td>\n",
       "    </tr>\n",
       "    <tr>\n",
       "      <th>3</th>\n",
       "      <td>-1S8Vgzl5o8qRc1J24lsOqEi7WemMWiln924OtaniSSXZ-...</td>\n",
       "      <td>0.804960</td>\n",
       "      <td>-0.546091</td>\n",
       "      <td>-0.015862</td>\n",
       "      <td>0.260459</td>\n",
       "      <td>0.265232</td>\n",
       "      <td>0.823875</td>\n",
       "      <td>-1.037227</td>\n",
       "      <td>0.540498</td>\n",
       "      <td>1.570767</td>\n",
       "      <td>-0.233093</td>\n",
       "      <td>-0.338215</td>\n",
       "      <td>-1.217081</td>\n",
       "      <td>-0.557877</td>\n",
       "      <td>2.200266</td>\n",
       "      <td>-0.101452</td>\n",
       "      <td>-0.295224</td>\n",
       "      <td>-0.489594</td>\n",
       "    </tr>\n",
       "    <tr>\n",
       "      <th>8</th>\n",
       "      <td>-AJRi0IczMhxg2SJjU3RrzFhNGgmwUr8zgOUh9FJrpxk7s...</td>\n",
       "      <td>1.479908</td>\n",
       "      <td>-0.488361</td>\n",
       "      <td>0.802449</td>\n",
       "      <td>1.026007</td>\n",
       "      <td>1.937951</td>\n",
       "      <td>0.945747</td>\n",
       "      <td>-0.447273</td>\n",
       "      <td>0.375077</td>\n",
       "      <td>0.904863</td>\n",
       "      <td>0.924340</td>\n",
       "      <td>-0.143595</td>\n",
       "      <td>0.570677</td>\n",
       "      <td>2.511346</td>\n",
       "      <td>-0.778717</td>\n",
       "      <td>-0.101452</td>\n",
       "      <td>-0.318693</td>\n",
       "      <td>-0.718717</td>\n",
       "    </tr>\n",
       "    <tr>\n",
       "      <th>9</th>\n",
       "      <td>-AfKDjFub1Lkd135hPxm3JdbEXflbibk_TPvnNm0CTbpWi...</td>\n",
       "      <td>1.582155</td>\n",
       "      <td>-0.490607</td>\n",
       "      <td>1.998762</td>\n",
       "      <td>2.717786</td>\n",
       "      <td>-0.284689</td>\n",
       "      <td>-0.238537</td>\n",
       "      <td>-1.751382</td>\n",
       "      <td>0.775112</td>\n",
       "      <td>1.757297</td>\n",
       "      <td>3.375374</td>\n",
       "      <td>-0.172419</td>\n",
       "      <td>0.730246</td>\n",
       "      <td>-1.331085</td>\n",
       "      <td>-0.778717</td>\n",
       "      <td>-0.101452</td>\n",
       "      <td>-0.257702</td>\n",
       "      <td>0.201234</td>\n",
       "    </tr>\n",
       "    <tr>\n",
       "      <th>14</th>\n",
       "      <td>-Ei5YuB1CV4cohstuYkeTX7OrAOIU_bZaRYC7Xu90rOcG4...</td>\n",
       "      <td>-0.757627</td>\n",
       "      <td>-0.530439</td>\n",
       "      <td>0.236013</td>\n",
       "      <td>-0.615307</td>\n",
       "      <td>-0.256245</td>\n",
       "      <td>-0.398840</td>\n",
       "      <td>0.551059</td>\n",
       "      <td>0.494360</td>\n",
       "      <td>-0.618207</td>\n",
       "      <td>-0.342771</td>\n",
       "      <td>0.058229</td>\n",
       "      <td>-0.384961</td>\n",
       "      <td>-0.279286</td>\n",
       "      <td>0.957476</td>\n",
       "      <td>-0.101452</td>\n",
       "      <td>1.470881</td>\n",
       "      <td>1.610038</td>\n",
       "    </tr>\n",
       "    <tr>\n",
       "      <th>...</th>\n",
       "      <td>...</td>\n",
       "      <td>...</td>\n",
       "      <td>...</td>\n",
       "      <td>...</td>\n",
       "      <td>...</td>\n",
       "      <td>...</td>\n",
       "      <td>...</td>\n",
       "      <td>...</td>\n",
       "      <td>...</td>\n",
       "      <td>...</td>\n",
       "      <td>...</td>\n",
       "      <td>...</td>\n",
       "      <td>...</td>\n",
       "      <td>...</td>\n",
       "      <td>...</td>\n",
       "      <td>...</td>\n",
       "      <td>...</td>\n",
       "      <td>...</td>\n",
       "    </tr>\n",
       "    <tr>\n",
       "      <th>2407</th>\n",
       "      <td>zhouqznNR0r9OEw6T7G-40hbaN7s5JidMjkxYW97vNF5rW...</td>\n",
       "      <td>-1.251150</td>\n",
       "      <td>2.451827</td>\n",
       "      <td>4.570836</td>\n",
       "      <td>0.865285</td>\n",
       "      <td>1.048362</td>\n",
       "      <td>1.306432</td>\n",
       "      <td>1.926140</td>\n",
       "      <td>0.596732</td>\n",
       "      <td>-0.234300</td>\n",
       "      <td>1.414547</td>\n",
       "      <td>0.214157</td>\n",
       "      <td>0.406676</td>\n",
       "      <td>0.660959</td>\n",
       "      <td>2.812627</td>\n",
       "      <td>-0.101452</td>\n",
       "      <td>0.688208</td>\n",
       "      <td>1.307190</td>\n",
       "    </tr>\n",
       "    <tr>\n",
       "      <th>2408</th>\n",
       "      <td>znTmuVKGw2_g_dApzVG2sId1sO0scMTJeeXryiMC-uNysp...</td>\n",
       "      <td>1.308921</td>\n",
       "      <td>-0.494088</td>\n",
       "      <td>0.161293</td>\n",
       "      <td>0.883800</td>\n",
       "      <td>0.842730</td>\n",
       "      <td>0.486871</td>\n",
       "      <td>-0.199061</td>\n",
       "      <td>-0.392917</td>\n",
       "      <td>0.384418</td>\n",
       "      <td>0.525710</td>\n",
       "      <td>-0.138713</td>\n",
       "      <td>0.244039</td>\n",
       "      <td>-0.507026</td>\n",
       "      <td>0.246968</td>\n",
       "      <td>0.328220</td>\n",
       "      <td>-0.337102</td>\n",
       "      <td>-0.345543</td>\n",
       "    </tr>\n",
       "    <tr>\n",
       "      <th>2411</th>\n",
       "      <td>zotu_CEvJgKm2YXXMpBmKAehbVqBkiMHgF_xYOFicE_IHd...</td>\n",
       "      <td>0.774709</td>\n",
       "      <td>-0.517860</td>\n",
       "      <td>0.887733</td>\n",
       "      <td>0.279660</td>\n",
       "      <td>1.309771</td>\n",
       "      <td>0.309276</td>\n",
       "      <td>0.452259</td>\n",
       "      <td>0.457430</td>\n",
       "      <td>-0.168917</td>\n",
       "      <td>0.377148</td>\n",
       "      <td>-0.364898</td>\n",
       "      <td>-0.963475</td>\n",
       "      <td>0.063606</td>\n",
       "      <td>1.437916</td>\n",
       "      <td>-0.101452</td>\n",
       "      <td>-0.330975</td>\n",
       "      <td>0.219394</td>\n",
       "    </tr>\n",
       "    <tr>\n",
       "      <th>2412</th>\n",
       "      <td>zrBPWcUk5Ql4A5cWw8bB4KSN8VFpREnHWOtPe38IFT3jIz...</td>\n",
       "      <td>0.678550</td>\n",
       "      <td>-0.553501</td>\n",
       "      <td>2.596919</td>\n",
       "      <td>0.344832</td>\n",
       "      <td>0.658684</td>\n",
       "      <td>-0.002615</td>\n",
       "      <td>-0.250619</td>\n",
       "      <td>1.161396</td>\n",
       "      <td>-0.003497</td>\n",
       "      <td>3.375374</td>\n",
       "      <td>0.176669</td>\n",
       "      <td>-1.308685</td>\n",
       "      <td>-1.295671</td>\n",
       "      <td>0.139824</td>\n",
       "      <td>-0.101452</td>\n",
       "      <td>-0.176067</td>\n",
       "      <td>-0.966318</td>\n",
       "    </tr>\n",
       "    <tr>\n",
       "      <th>2413</th>\n",
       "      <td>zuTzJktw2MnWYD9D_fYDG-brT-s577KqtSiDkg6KQQMpfJ...</td>\n",
       "      <td>-1.242948</td>\n",
       "      <td>-0.553501</td>\n",
       "      <td>2.596919</td>\n",
       "      <td>-1.412351</td>\n",
       "      <td>-1.204328</td>\n",
       "      <td>-1.908072</td>\n",
       "      <td>-2.005360</td>\n",
       "      <td>1.475115</td>\n",
       "      <td>-0.614210</td>\n",
       "      <td>1.469014</td>\n",
       "      <td>-0.372702</td>\n",
       "      <td>-1.320505</td>\n",
       "      <td>-1.230745</td>\n",
       "      <td>0.634230</td>\n",
       "      <td>-0.101452</td>\n",
       "      <td>0.244831</td>\n",
       "      <td>-0.042823</td>\n",
       "    </tr>\n",
       "  </tbody>\n",
       "</table>\n",
       "<p>1000 rows × 18 columns</p>\n",
       "</div>"
      ],
      "text/plain": [
       "                                                  puuid  lane_cs_per_min  \\\n",
       "2     -0o6aHvXTe3xfjgA2mJbTCM85Y9vsqmgVmIBj-GX5sQV0m...        -1.449069   \n",
       "3     -1S8Vgzl5o8qRc1J24lsOqEi7WemMWiln924OtaniSSXZ-...         0.804960   \n",
       "8     -AJRi0IczMhxg2SJjU3RrzFhNGgmwUr8zgOUh9FJrpxk7s...         1.479908   \n",
       "9     -AfKDjFub1Lkd135hPxm3JdbEXflbibk_TPvnNm0CTbpWi...         1.582155   \n",
       "14    -Ei5YuB1CV4cohstuYkeTX7OrAOIU_bZaRYC7Xu90rOcG4...        -0.757627   \n",
       "...                                                 ...              ...   \n",
       "2407  zhouqznNR0r9OEw6T7G-40hbaN7s5JidMjkxYW97vNF5rW...        -1.251150   \n",
       "2408  znTmuVKGw2_g_dApzVG2sId1sO0scMTJeeXryiMC-uNysp...         1.308921   \n",
       "2411  zotu_CEvJgKm2YXXMpBmKAehbVqBkiMHgF_xYOFicE_IHd...         0.774709   \n",
       "2412  zrBPWcUk5Ql4A5cWw8bB4KSN8VFpREnHWOtPe38IFT3jIz...         0.678550   \n",
       "2413  zuTzJktw2MnWYD9D_fYDG-brT-s577KqtSiDkg6KQQMpfJ...        -1.242948   \n",
       "\n",
       "      jungle_cs_per_min       KDA  gold_per_min  xp_per_min  damage_per_min  \\\n",
       "2              2.738189  1.026758     -0.014052    0.438622       -0.508060   \n",
       "3             -0.546091 -0.015862      0.260459    0.265232        0.823875   \n",
       "8             -0.488361  0.802449      1.026007    1.937951        0.945747   \n",
       "9             -0.490607  1.998762      2.717786   -0.284689       -0.238537   \n",
       "14            -0.530439  0.236013     -0.615307   -0.256245       -0.398840   \n",
       "...                 ...       ...           ...         ...             ...   \n",
       "2407           2.451827  4.570836      0.865285    1.048362        1.306432   \n",
       "2408          -0.494088  0.161293      0.883800    0.842730        0.486871   \n",
       "2411          -0.517860  0.887733      0.279660    1.309771        0.309276   \n",
       "2412          -0.553501  2.596919      0.344832    0.658684       -0.002615   \n",
       "2413          -0.553501  2.596919     -1.412351   -1.204328       -1.908072   \n",
       "\n",
       "      damage_taken_per_min  ka_per_min  damage_efficiency  survivability  \\\n",
       "2                 0.152031   -0.590618          -0.528005       1.537098   \n",
       "3                -1.037227    0.540498           1.570767      -0.233093   \n",
       "8                -0.447273    0.375077           0.904863       0.924340   \n",
       "9                -1.751382    0.775112           1.757297       3.375374   \n",
       "14                0.551059    0.494360          -0.618207      -0.342771   \n",
       "...                    ...         ...                ...            ...   \n",
       "2407              1.926140    0.596732          -0.234300       1.414547   \n",
       "2408             -0.199061   -0.392917           0.384418       0.525710   \n",
       "2411              0.452259    0.457430          -0.168917       0.377148   \n",
       "2412             -0.250619    1.161396          -0.003497       3.375374   \n",
       "2413             -2.005360    1.475115          -0.614210       1.469014   \n",
       "\n",
       "      healthregen_per_min  offensive_score  defensive_score  magic_score  \\\n",
       "2                0.103534        -0.847709        -0.277515     1.201416   \n",
       "3               -0.338215        -1.217081        -0.557877     2.200266   \n",
       "8               -0.143595         0.570677         2.511346    -0.778717   \n",
       "9               -0.172419         0.730246        -1.331085    -0.778717   \n",
       "14               0.058229        -0.384961        -0.279286     0.957476   \n",
       "...                   ...              ...              ...          ...   \n",
       "2407             0.214157         0.406676         0.660959     2.812627   \n",
       "2408            -0.138713         0.244039        -0.507026     0.246968   \n",
       "2411            -0.364898        -0.963475         0.063606     1.437916   \n",
       "2412             0.176669        -1.308685        -1.295671     0.139824   \n",
       "2413            -0.372702        -1.320505        -1.230745     0.634230   \n",
       "\n",
       "      total_vamp  wards_placed_per_min  wards_killed_per_min  \n",
       "2      -0.101452             -0.412220              1.156546  \n",
       "3      -0.101452             -0.295224             -0.489594  \n",
       "8      -0.101452             -0.318693             -0.718717  \n",
       "9      -0.101452             -0.257702              0.201234  \n",
       "14     -0.101452              1.470881              1.610038  \n",
       "...          ...                   ...                   ...  \n",
       "2407   -0.101452              0.688208              1.307190  \n",
       "2408    0.328220             -0.337102             -0.345543  \n",
       "2411   -0.101452             -0.330975              0.219394  \n",
       "2412   -0.101452             -0.176067             -0.966318  \n",
       "2413   -0.101452              0.244831             -0.042823  \n",
       "\n",
       "[1000 rows x 18 columns]"
      ]
     },
     "execution_count": 229,
     "metadata": {},
     "output_type": "execute_result"
    }
   ],
   "source": [
    "# 상위 유저 데이터만 추출\n",
    "X_top = scaled_df[scaled_df[\"is_top1000\"] == True].fillna(0)\n",
    "X_top = X_top.drop(columns='is_top1000')\n",
    "X_top"
   ]
  },
  {
   "cell_type": "code",
   "execution_count": 242,
   "id": "1643a7fd",
   "metadata": {},
   "outputs": [
    {
     "data": {
      "text/html": [
       "<div>\n",
       "<style scoped>\n",
       "    .dataframe tbody tr th:only-of-type {\n",
       "        vertical-align: middle;\n",
       "    }\n",
       "\n",
       "    .dataframe tbody tr th {\n",
       "        vertical-align: top;\n",
       "    }\n",
       "\n",
       "    .dataframe thead th {\n",
       "        text-align: right;\n",
       "    }\n",
       "</style>\n",
       "<table border=\"1\" class=\"dataframe\">\n",
       "  <thead>\n",
       "    <tr style=\"text-align: right;\">\n",
       "      <th></th>\n",
       "      <th>puuid</th>\n",
       "      <th>lane_cs_per_min</th>\n",
       "      <th>jungle_cs_per_min</th>\n",
       "      <th>KDA</th>\n",
       "      <th>gold_per_min</th>\n",
       "      <th>xp_per_min</th>\n",
       "      <th>damage_per_min</th>\n",
       "      <th>damage_taken_per_min</th>\n",
       "      <th>ka_per_min</th>\n",
       "      <th>damage_efficiency</th>\n",
       "      <th>survivability</th>\n",
       "      <th>healthregen_per_min</th>\n",
       "      <th>offensive_score</th>\n",
       "      <th>defensive_score</th>\n",
       "      <th>magic_score</th>\n",
       "      <th>total_vamp</th>\n",
       "      <th>wards_placed_per_min</th>\n",
       "      <th>wards_killed_per_min</th>\n",
       "    </tr>\n",
       "  </thead>\n",
       "  <tbody>\n",
       "    <tr>\n",
       "      <th>0</th>\n",
       "      <td>-356wHRenGKjOp5pBnrCzWJv7qFR5ypK9iMpB1S0J8doFX...</td>\n",
       "      <td>-1.036673</td>\n",
       "      <td>1.466676</td>\n",
       "      <td>0.414888</td>\n",
       "      <td>0.44937</td>\n",
       "      <td>0.206065</td>\n",
       "      <td>0.286351</td>\n",
       "      <td>0.627821</td>\n",
       "      <td>0.696177</td>\n",
       "      <td>-0.264621</td>\n",
       "      <td>-0.167017</td>\n",
       "      <td>1.715338</td>\n",
       "      <td>0.145067</td>\n",
       "      <td>0.076626</td>\n",
       "      <td>0.047672</td>\n",
       "      <td>0.0</td>\n",
       "      <td>0.0</td>\n",
       "      <td>0.0</td>\n",
       "    </tr>\n",
       "  </tbody>\n",
       "</table>\n",
       "</div>"
      ],
      "text/plain": [
       "                                               puuid  lane_cs_per_min  \\\n",
       "0  -356wHRenGKjOp5pBnrCzWJv7qFR5ypK9iMpB1S0J8doFX...        -1.036673   \n",
       "\n",
       "   jungle_cs_per_min       KDA  gold_per_min  xp_per_min  damage_per_min  \\\n",
       "0           1.466676  0.414888       0.44937    0.206065        0.286351   \n",
       "\n",
       "   damage_taken_per_min  ka_per_min  damage_efficiency  survivability  \\\n",
       "0              0.627821    0.696177          -0.264621      -0.167017   \n",
       "\n",
       "   healthregen_per_min  offensive_score  defensive_score  magic_score  \\\n",
       "0             1.715338         0.145067         0.076626     0.047672   \n",
       "\n",
       "   total_vamp  wards_placed_per_min  wards_killed_per_min  \n",
       "0         0.0                   0.0                   0.0  "
      ]
     },
     "execution_count": 242,
     "metadata": {},
     "output_type": "execute_result"
    }
   ],
   "source": [
    "X_target = pd.read_csv(\"data/result/normal.csv\")\n",
    "X_target = X_target.drop(columns='Unnamed: 0')\n",
    "X_target"
   ]
  },
  {
   "cell_type": "markdown",
   "id": "63f70083",
   "metadata": {},
   "source": [
    "## 유사도 계산 (Cosine Similarity)\n",
    "- 두 벡터(유저)의 방향이 얼마나 비슷한지를 보는 지표\n",
    "\n",
    "  - 모든 유저를 동일한 척도로 정규화\n",
    "\n",
    "  - 기준 유저와 Top 유저 각각의 \"플레이 스타일 유사도\"를 수치화\n",
    "\n",
    "  - 이제 정량적 비교가 가능해짐 → 추천, 시각화, 군집화 등 모두 이 위에서 진행됨"
   ]
  },
  {
   "cell_type": "markdown",
   "id": "ee8b7bef",
   "metadata": {},
   "source": [
    "## 유사도 상위 유저 추출\n",
    "- 기준 유저와 각 Top 유저 간의 유사도 배열"
   ]
  },
  {
   "cell_type": "code",
   "execution_count": 243,
   "id": "548a78d7",
   "metadata": {},
   "outputs": [
    {
     "name": "stdout",
     "output_type": "stream",
     "text": [
      "                                                  puuid  similarity\n",
      "213   4JnyOmP6FcSX5GFchpN67tC1-hmTzLK1-tqSUyKTm_DQ3f...    0.857624\n",
      "1140  TmpUJu2JbzFa97ZvMLQ2yqr4as7yGaFj-OonNbH-RblhT_...    0.799034\n",
      "971   OJAxPXIfspXW_n2rvPkJrOXXwB5mLqkMlS1nX122rud9K8...    0.782005\n",
      "337   7RrgN1eyFL0wZkr7Lx-RslvQnqu7ApDpr0yCRxhn1-m32A...    0.777527\n",
      "1953  oadLHBtre_qsiiNRv7DAyY9CuZKUvOdkyTYmzv0pF1uxoa...    0.764462\n",
      "980   OeTHCQQ9uYxn4cqsywYo309tq22tHmK-CGpe2Z7sEiwdfR...    0.759196\n",
      "746   IDhs-F-Rm1bgsFHAxPKLgam_e2CuYaGx0LZRx3le5AsyeD...    0.754755\n",
      "1872  m21sZ3e7VYjOGNWh6vDIbpZytSPib1z_c5a2MXVD0GyHDf...    0.754644\n",
      "417   9Ve6ePaO5Gik_drqm32crw0k2k-boga431tN0zr6JfrqMd...    0.753350\n",
      "1071  RbQZ9ibUN99dpA1Nru35-jBav9im9zpFzQ450J269J2uRb...    0.750053\n"
     ]
    }
   ],
   "source": [
    "# 1. 식별자 컬럼 제외하고 feature만 추출\n",
    "id_cols = ['puuid']\n",
    "X_top_features = X_top.drop(columns=id_cols)\n",
    "X_target_features = X_target.drop(columns=id_cols)\n",
    "\n",
    "# 2. 코사인 유사도 계산 (전체 랭커 vs 신규 유저 1명)\n",
    "# → 결과 shape: (랭커 수, 1)\n",
    "similarities = cosine_similarity(X_top_features, X_target_features)\n",
    "\n",
    "# 3. 결과를 DataFrame에 정리\n",
    "result_df = X_top[id_cols].copy()\n",
    "result_df['similarity'] = similarities.ravel()\n",
    "\n",
    "# 4. 유사도 기준 정렬 (높은 순)\n",
    "result_df = result_df.sort_values(by='similarity', ascending=False)\n",
    "\n",
    "# 5. 상위 10명 보기\n",
    "top_similar_players = result_df.head(10)\n",
    "print(top_similar_players)"
   ]
  },
  {
   "cell_type": "code",
   "execution_count": 244,
   "id": "4395fad9",
   "metadata": {},
   "outputs": [
    {
     "data": {
      "image/png": "[encoded data removed]",
      "text/plain": [
       "<Figure size 640x480 with 1 Axes>"
      ]
     },
     "metadata": {},
     "output_type": "display_data"
    }
   ],
   "source": [
    "import seaborn as sns\n",
    "import matplotlib.pyplot as plt\n",
    "\n",
    "sns.histplot(similarities, bins=50, kde=True)\n",
    "plt.title(\"Cosine Similarity Distribution\")\n",
    "plt.xlabel(\"Similarity\")\n",
    "plt.ylabel(\"Count\")\n",
    "plt.show()"
   ]
  },
  {
   "cell_type": "markdown",
   "id": "88e9d410",
   "metadata": {},
   "source": [
    "# 여기까지"
   ]
  },
  {
   "cell_type": "code",
   "execution_count": 213,
   "id": "09868586",
   "metadata": {},
   "outputs": [
    {
     "data": {
      "text/html": [
       "<div>\n",
       "<style scoped>\n",
       "    .dataframe tbody tr th:only-of-type {\n",
       "        vertical-align: middle;\n",
       "    }\n",
       "\n",
       "    .dataframe tbody tr th {\n",
       "        vertical-align: top;\n",
       "    }\n",
       "\n",
       "    .dataframe thead th {\n",
       "        text-align: right;\n",
       "    }\n",
       "</style>\n",
       "<table border=\"1\" class=\"dataframe\">\n",
       "  <thead>\n",
       "    <tr style=\"text-align: right;\">\n",
       "      <th></th>\n",
       "      <th>puuid</th>\n",
       "      <th>is_top1000</th>\n",
       "      <th>lane_cs_per_min</th>\n",
       "      <th>jungle_cs_per_min</th>\n",
       "      <th>KDA</th>\n",
       "      <th>gold_per_min</th>\n",
       "      <th>xp_per_min</th>\n",
       "      <th>damage_per_min</th>\n",
       "      <th>damage_taken_per_min</th>\n",
       "      <th>ka_per_min</th>\n",
       "      <th>damage_efficiency</th>\n",
       "      <th>survivability</th>\n",
       "      <th>healthregen_per_min</th>\n",
       "      <th>offensive_score</th>\n",
       "      <th>defensive_score</th>\n",
       "      <th>magic_score</th>\n",
       "      <th>total_vamp</th>\n",
       "      <th>wards_placed_per_min</th>\n",
       "      <th>wards_killed_per_min</th>\n",
       "    </tr>\n",
       "  </thead>\n",
       "  <tbody>\n",
       "    <tr>\n",
       "      <th>119</th>\n",
       "      <td>1nry226Ys8jmA4IrYNRAqBOLA09dO_oisz6Din8AyUOowu...</td>\n",
       "      <td>False</td>\n",
       "      <td>0.811836</td>\n",
       "      <td>-0.474252</td>\n",
       "      <td>-0.294851</td>\n",
       "      <td>0.113802</td>\n",
       "      <td>0.854366</td>\n",
       "      <td>0.18247</td>\n",
       "      <td>0.171627</td>\n",
       "      <td>-0.788688</td>\n",
       "      <td>-0.059426</td>\n",
       "      <td>0.6421</td>\n",
       "      <td>0.66714</td>\n",
       "      <td>-0.017953</td>\n",
       "      <td>0.643252</td>\n",
       "      <td>-0.157573</td>\n",
       "      <td>-0.101452</td>\n",
       "      <td>-0.331971</td>\n",
       "      <td>-1.010124</td>\n",
       "    </tr>\n",
       "  </tbody>\n",
       "</table>\n",
       "</div>"
      ],
      "text/plain": [
       "                                                 puuid  is_top1000  \\\n",
       "119  1nry226Ys8jmA4IrYNRAqBOLA09dO_oisz6Din8AyUOowu...       False   \n",
       "\n",
       "     lane_cs_per_min  jungle_cs_per_min       KDA  gold_per_min  xp_per_min  \\\n",
       "119         0.811836          -0.474252 -0.294851      0.113802    0.854366   \n",
       "\n",
       "     damage_per_min  damage_taken_per_min  ka_per_min  damage_efficiency  \\\n",
       "119         0.18247              0.171627   -0.788688          -0.059426   \n",
       "\n",
       "     survivability  healthregen_per_min  offensive_score  defensive_score  \\\n",
       "119         0.6421              0.66714        -0.017953         0.643252   \n",
       "\n",
       "     magic_score  total_vamp  wards_placed_per_min  wards_killed_per_min  \n",
       "119    -0.157573   -0.101452             -0.331971             -1.010124  "
      ]
     },
     "execution_count": 213,
     "metadata": {},
     "output_type": "execute_result"
    }
   ],
   "source": [
    "# 일반 유저 하나 선택 (예: puuid 기반)\n",
    "# target_puuid = df_user['puuid'].sample(1).values[0]\n",
    "target_puuid = '1nry226Ys8jmA4IrYNRAqBOLA09dO_oisz6Din8AyUOowu80Mp3ggYKg3moP6BbiDD8d8fw9t-3IVw' \n",
    "X_target = scaled_df[scaled_df[\"puuid\"] == target_puuid].fillna(0).iloc[0:1]\n",
    "X_target\n"
   ]
  },
  {
   "cell_type": "code",
   "execution_count": 222,
   "id": "79098ad7",
   "metadata": {},
   "outputs": [],
   "source": [
    "import numpy as np\n",
    "\n",
    "# 유사도 기반 거리 계산 (0~1 사이 → 가까울수록 유사함)\n",
    "top_similar_players[\"distance\"] = 1 - top_similar_players[\"similarity\"]\n",
    "\n",
    "# 간단한 원형 배치: 유사한 순서대로 각도를 나눠서 원 주변에 배치\n",
    "angles = np.linspace(0, 2 * np.pi, len(top_similar_players), endpoint=False)\n",
    "top_similar_players[\"x\"] = np.cos(angles) * top_similar_players[\"distance\"]\n",
    "top_similar_players[\"y\"] = np.sin(angles) * top_similar_players[\"distance\"]\n",
    "\n",
    "# 파생 지표 붙이기 (중복 제거 주의!)\n",
    "top_features = merged_df[['puuid', \"KDA\", \"damage_per_min\", \"gold_per_min\"]].copy()\n",
    "top_similar_players = pd.merge(\n",
    "    top_similar_players,\n",
    "    top_features,\n",
    "    on=['puuid'],\n",
    "    how=\"left\"\n",
    ")\n",
    "\n",
    "# 기준 유저 좌표 (항상 중심)\n",
    "target_user_df = pd.DataFrame({\n",
    "    \"puuid\": [target_puuid],\n",
    "    \"x\": [0.0],\n",
    "    \"y\": [0.0],\n",
    "    \"KDA\": merged_df.loc[merged_df[\"puuid\"] == target_puuid, \"KDA\"].values[0],\n",
    "    \"damage_per_min\": merged_df.loc[merged_df[\"puuid\"] == target_puuid, \"damage_per_min\"].values[0],\n",
    "    \"gold_per_min\": merged_df.loc[merged_df[\"puuid\"] == target_puuid, \"gold_per_min\"].values[0],\n",
    "    \"label\": [\"Target\"]\n",
    "})\n",
    "\n",
    "# 상위 유저 + 타겟 유저 병합\n",
    "top_similar_players[\"label\"] = \"Top\"\n",
    "plot_df = pd.concat([top_similar_players, target_user_df], ignore_index=True)\n"
   ]
  },
  {
   "cell_type": "code",
   "execution_count": 224,
   "id": "3849f840",
   "metadata": {},
   "outputs": [
    {
     "ename": "ValueError",
     "evalue": "Mime type rendering requires nbformat>=4.2.0 but it is not installed",
     "output_type": "error",
     "traceback": [
      "\u001b[1;31m---------------------------------------------------------------------------\u001b[0m",
      "\u001b[1;31mValueError\u001b[0m                                Traceback (most recent call last)",
      "File \u001b[1;32m~\\AppData\\Roaming\\Python\\Python39\\site-packages\\IPython\\core\\formatters.py:922\u001b[0m, in \u001b[0;36mIPythonDisplayFormatter.__call__\u001b[1;34m(self, obj)\u001b[0m\n\u001b[0;32m    920\u001b[0m method \u001b[38;5;241m=\u001b[39m get_real_method(obj, \u001b[38;5;28mself\u001b[39m\u001b[38;5;241m.\u001b[39mprint_method)\n\u001b[0;32m    921\u001b[0m \u001b[38;5;28;01mif\u001b[39;00m method \u001b[38;5;129;01mis\u001b[39;00m \u001b[38;5;129;01mnot\u001b[39;00m \u001b[38;5;28;01mNone\u001b[39;00m:\n\u001b[1;32m--> 922\u001b[0m     \u001b[43mmethod\u001b[49m\u001b[43m(\u001b[49m\u001b[43m)\u001b[49m\n\u001b[0;32m    923\u001b[0m     \u001b[38;5;28;01mreturn\u001b[39;00m \u001b[38;5;28;01mTrue\u001b[39;00m\n",
      "File \u001b[1;32mc:\\Users\\com\\AppData\\Local\\Programs\\Python\\Python39\\lib\\site-packages\\plotly\\basedatatypes.py:833\u001b[0m, in \u001b[0;36mBaseFigure._ipython_display_\u001b[1;34m(self)\u001b[0m\n\u001b[0;32m    830\u001b[0m \u001b[38;5;28;01mimport\u001b[39;00m\u001b[38;5;250m \u001b[39m\u001b[38;5;21;01mplotly\u001b[39;00m\u001b[38;5;21;01m.\u001b[39;00m\u001b[38;5;21;01mio\u001b[39;00m\u001b[38;5;250m \u001b[39m\u001b[38;5;28;01mas\u001b[39;00m\u001b[38;5;250m \u001b[39m\u001b[38;5;21;01mpio\u001b[39;00m\n\u001b[0;32m    832\u001b[0m \u001b[38;5;28;01mif\u001b[39;00m pio\u001b[38;5;241m.\u001b[39mrenderers\u001b[38;5;241m.\u001b[39mrender_on_display \u001b[38;5;129;01mand\u001b[39;00m pio\u001b[38;5;241m.\u001b[39mrenderers\u001b[38;5;241m.\u001b[39mdefault:\n\u001b[1;32m--> 833\u001b[0m     \u001b[43mpio\u001b[49m\u001b[38;5;241;43m.\u001b[39;49m\u001b[43mshow\u001b[49m\u001b[43m(\u001b[49m\u001b[38;5;28;43mself\u001b[39;49m\u001b[43m)\u001b[49m\n\u001b[0;32m    834\u001b[0m \u001b[38;5;28;01melse\u001b[39;00m:\n\u001b[0;32m    835\u001b[0m     \u001b[38;5;28mprint\u001b[39m(\u001b[38;5;28mrepr\u001b[39m(\u001b[38;5;28mself\u001b[39m))\n",
      "File \u001b[1;32mc:\\Users\\com\\AppData\\Local\\Programs\\Python\\Python39\\lib\\site-packages\\plotly\\io\\_renderers.py:425\u001b[0m, in \u001b[0;36mshow\u001b[1;34m(fig, renderer, validate, **kwargs)\u001b[0m\n\u001b[0;32m    420\u001b[0m     \u001b[38;5;28;01mraise\u001b[39;00m \u001b[38;5;167;01mValueError\u001b[39;00m(\n\u001b[0;32m    421\u001b[0m         \u001b[38;5;124m\"\u001b[39m\u001b[38;5;124mMime type rendering requires ipython but it is not installed\u001b[39m\u001b[38;5;124m\"\u001b[39m\n\u001b[0;32m    422\u001b[0m     )\n\u001b[0;32m    424\u001b[0m \u001b[38;5;28;01mif\u001b[39;00m \u001b[38;5;129;01mnot\u001b[39;00m nbformat \u001b[38;5;129;01mor\u001b[39;00m Version(nbformat\u001b[38;5;241m.\u001b[39m__version__) \u001b[38;5;241m<\u001b[39m Version(\u001b[38;5;124m\"\u001b[39m\u001b[38;5;124m4.2.0\u001b[39m\u001b[38;5;124m\"\u001b[39m):\n\u001b[1;32m--> 425\u001b[0m     \u001b[38;5;28;01mraise\u001b[39;00m \u001b[38;5;167;01mValueError\u001b[39;00m(\n\u001b[0;32m    426\u001b[0m         \u001b[38;5;124m\"\u001b[39m\u001b[38;5;124mMime type rendering requires nbformat>=4.2.0 but it is not installed\u001b[39m\u001b[38;5;124m\"\u001b[39m\n\u001b[0;32m    427\u001b[0m     )\n\u001b[0;32m    429\u001b[0m display_jupyter_version_warnings()\n\u001b[0;32m    431\u001b[0m ipython_display\u001b[38;5;241m.\u001b[39mdisplay(bundle, raw\u001b[38;5;241m=\u001b[39m\u001b[38;5;28;01mTrue\u001b[39;00m)\n",
      "\u001b[1;31mValueError\u001b[0m: Mime type rendering requires nbformat>=4.2.0 but it is not installed"
     ]
    },
    {
     "data": {
      "application/vnd.plotly.v1+json": {
       "config": {
        "plotlyServerURL": "https://plot.ly"
       },
       "data": [
        {
         "customdata": [
          [
           "ELMfXcjWX4kJTltQlX2Z1D9Hh644IQqxbhmOnALgLJjlBfoKrqa56n96Z5Y0w6-1PAtoMWNtBtG4Ww",
           null,
           null,
           null,
           0.8983397892928541
          ],
          [
           "e44LpTwC0GpPxqFEl_JG856m1sfl6JtAurtkIhpccpg8v5l-Uhf0wJy5PSeOLRvOwX1asmxYmuw5sg",
           null,
           null,
           null,
           0.8681076004253769
          ],
          [
           "kAUEA8kEFRNUGeK9vCFJgBEibpWoSVNtlLordAmWudiVhzUhNuGLsrsbO5Wu6ZePhBK2wRwDI8iC4g",
           null,
           null,
           null,
           0.8587595138231059
          ],
          [
           "fA-KkRPK-d2a93sMtYUP9EWHRdDpFaR0UXDSt7vqzvlDPXXvRI4_i83lwPZqvzMn3UkmHSzczuONBQ",
           null,
           null,
           null,
           0.8386276599100277
          ],
          [
           "4O9vRHBah1PpackSuIHoGnK2umwSOWFgAZB82w9uORFEHZRBDyNwneOl8jbrZ3EZUe8tH5HsvAq_mA",
           null,
           null,
           null,
           0.8378609660315678
          ],
          [
           "kPFSAI3VsTJ6gL2gQswPAkD1qf0-yL1Vx_mH0OgR5o_6r8gMtnvN-cYHY6QGnHohMl4uXMWtKxjDKQ",
           null,
           null,
           null,
           0.8167459896133433
          ],
          [
           "khJV22ACWF4Q9frLbWnedhg6SjWREfEITkh8tfGu7NDonCg7HEh-qORcdQriS8M__JGob7QOoHWuGQ",
           null,
           null,
           null,
           0.7978292427051225
          ],
          [
           "yip-HwTdjxXB36Pv2auxQxGcojrqrYq3gCfvitkwqB5tMxVwoFNL-IYGFZvCuxYthF0YPDj2SmHpmQ",
           null,
           null,
           null,
           0.7947696431459538
          ],
          [
           "LVn_ok84iH0WD1I6SPS2PluVFaQVSD8ujKnyP8rOUK_O8R6d4KA3j95ajK3RRnYEvnoj2dREkm2nKA",
           null,
           null,
           null,
           0.7850964328765294
          ],
          [
           "F_PFXXT4KK8mR0WkCpJ_9MRU0X2edJ8ClJJUN5GTK6YhiaTJULIzRkFMjR_5IoS4eH9MuaL2xPOeEg",
           null,
           null,
           null,
           0.784929474819736
          ],
          [
           "1nry226Ys8jmA4IrYNRAqBOLA09dO_oisz6Din8AyUOowu80Mp3ggYKg3moP6BbiDD8d8fw9t-3IVw",
           3.331060606060606,
           708.2855530274463,
           396.5471999210381,
           null
          ]
         ],
         "hovertemplate": "x=%{x}<br>y=%{y}<br>label=%{text}<br>puuid=%{customdata[0]}<br>KDA=%{customdata[1]}<br>damage_per_min=%{customdata[2]}<br>gold_per_min=%{customdata[3]}<br>similarity=%{marker.color}<extra></extra>",
         "legendgroup": "",
         "marker": {
          "color": {
           "bdata": "t6r2FTO/7D+OjSeXicfrP6D4Xzv1eus/4LSarAnW6j/pavbMwc/qPzDpUHzIIuo/FcAmMdGH6T93SyW/wG7pP4cm7Y2CH+k/FI0AayQe6T8AAAAAAAD4fw==",
           "dtype": "f8"
          },
          "coloraxis": "coloraxis",
          "line": {
           "color": "DarkSlateGrey",
           "width": 1
          },
          "size": 14,
          "symbol": "circle"
         },
         "mode": "markers+text",
         "name": "",
         "orientation": "v",
         "showlegend": false,
         "text": [
          "Top",
          "Top",
          "Top",
          "Top",
          "Top",
          "Top",
          "Top",
          "Top",
          "Top",
          "Top",
          "Target"
         ],
         "type": "scatter",
         "x": {
          "bdata": "SKpKUGcGuj/Jt/WC5lC7P73vmwa7WKY//Qa+/yOIqb9bm+zWSMrAv0BbvA7edMe/SO4fMIXvxL/7Khx4RTywv9ZUyLErALE/xhe/zX1Fxj8AAAAAAAAAAA==",
          "dtype": "f8"
         },
         "xaxis": "x",
         "y": {
          "bdata": "AAAAAAAAAADTIkC6o9izP5q0dUqmMcE/rc1fCAulwz/mA2XkxWW4P/XC8m/A33k8iZjxu9Zrvr+kv9cO2PvIv9vjwFFNKcq/5KLkQGAuwL8AAAAAAAAAAA==",
          "dtype": "f8"
         },
         "yaxis": "y"
        },
        {
         "customdata": {
          "bdata": "pjFgGgOmCkA/kQbQSCKGQLhTtFTByHhA",
          "dtype": "f8",
          "shape": "1, 3"
         },
         "hovertemplate": "x=%{x}<br>y=%{y}<br>text=%{text}<br>KDA=%{customdata[0]}<br>damage_per_min=%{customdata[1]}<br>gold_per_min=%{customdata[2]}<extra></extra>",
         "legendgroup": "",
         "marker": {
          "color": "red",
          "size": 16,
          "symbol": "star"
         },
         "mode": "markers+text",
         "name": "",
         "orientation": "v",
         "showlegend": false,
         "text": [
          "You"
         ],
         "type": "scatter",
         "x": {
          "bdata": "AAAAAAAAAAA=",
          "dtype": "f8"
         },
         "xaxis": "x",
         "y": {
          "bdata": "AAAAAAAAAAA=",
          "dtype": "f8"
         },
         "yaxis": "y"
        }
       ],
       "layout": {
        "coloraxis": {
         "colorbar": {
          "title": {
           "text": "similarity"
          }
         },
         "colorscale": [
          [
           0,
           "#440154"
          ],
          [
           0.1111111111111111,
           "#482878"
          ],
          [
           0.2222222222222222,
           "#3e4989"
          ],
          [
           0.3333333333333333,
           "#31688e"
          ],
          [
           0.4444444444444444,
           "#26828e"
          ],
          [
           0.5555555555555556,
           "#1f9e89"
          ],
          [
           0.6666666666666666,
           "#35b779"
          ],
          [
           0.7777777777777778,
           "#6ece58"
          ],
          [
           0.8888888888888888,
           "#b5de2b"
          ],
          [
           1,
           "#fde725"
          ]
         ]
        },
        "legend": {
         "tracegroupgap": 0
        },
        "template": {
         "data": {
          "bar": [
           {
            "error_x": {
             "color": "#2a3f5f"
            },
            "error_y": {
             "color": "#2a3f5f"
            },
            "marker": {
             "line": {
              "color": "#E5ECF6",
              "width": 0.5
             },
             "pattern": {
              "fillmode": "overlay",
              "size": 10,
              "solidity": 0.2
             }
            },
            "type": "bar"
           }
          ],
          "barpolar": [
           {
            "marker": {
             "line": {
              "color": "#E5ECF6",
              "width": 0.5
             },
             "pattern": {
              "fillmode": "overlay",
              "size": 10,
              "solidity": 0.2
             }
            },
            "type": "barpolar"
           }
          ],
          "carpet": [
           {
            "aaxis": {
             "endlinecolor": "#2a3f5f",
             "gridcolor": "white",
             "linecolor": "white",
             "minorgridcolor": "white",
             "startlinecolor": "#2a3f5f"
            },
            "baxis": {
             "endlinecolor": "#2a3f5f",
             "gridcolor": "white",
             "linecolor": "white",
             "minorgridcolor": "white",
             "startlinecolor": "#2a3f5f"
            },
            "type": "carpet"
           }
          ],
          "choropleth": [
           {
            "colorbar": {
             "outlinewidth": 0,
             "ticks": ""
            },
            "type": "choropleth"
           }
          ],
          "contour": [
           {
            "colorbar": {
             "outlinewidth": 0,
             "ticks": ""
            },
            "colorscale": [
             [
              0,
              "#0d0887"
             ],
             [
              0.1111111111111111,
              "#46039f"
             ],
             [
              0.2222222222222222,
              "#7201a8"
             ],
             [
              0.3333333333333333,
              "#9c179e"
             ],
             [
              0.4444444444444444,
              "#bd3786"
             ],
             [
              0.5555555555555556,
              "#d8576b"
             ],
             [
              0.6666666666666666,
              "#ed7953"
             ],
             [
              0.7777777777777778,
              "#fb9f3a"
             ],
             [
              0.8888888888888888,
              "#fdca26"
             ],
             [
              1,
              "#f0f921"
             ]
            ],
            "type": "contour"
           }
          ],
          "contourcarpet": [
           {
            "colorbar": {
             "outlinewidth": 0,
             "ticks": ""
            },
            "type": "contourcarpet"
           }
          ],
          "heatmap": [
           {
            "colorbar": {
             "outlinewidth": 0,
             "ticks": ""
            },
            "colorscale": [
             [
              0,
              "#0d0887"
             ],
             [
              0.1111111111111111,
              "#46039f"
             ],
             [
              0.2222222222222222,
              "#7201a8"
             ],
             [
              0.3333333333333333,
              "#9c179e"
             ],
             [
              0.4444444444444444,
              "#bd3786"
             ],
             [
              0.5555555555555556,
              "#d8576b"
             ],
             [
              0.6666666666666666,
              "#ed7953"
             ],
             [
              0.7777777777777778,
              "#fb9f3a"
             ],
             [
              0.8888888888888888,
              "#fdca26"
             ],
             [
              1,
              "#f0f921"
             ]
            ],
            "type": "heatmap"
           }
          ],
          "histogram": [
           {
            "marker": {
             "pattern": {
              "fillmode": "overlay",
              "size": 10,
              "solidity": 0.2
             }
            },
            "type": "histogram"
           }
          ],
          "histogram2d": [
           {
            "colorbar": {
             "outlinewidth": 0,
             "ticks": ""
            },
            "colorscale": [
             [
              0,
              "#0d0887"
             ],
             [
              0.1111111111111111,
              "#46039f"
             ],
             [
              0.2222222222222222,
              "#7201a8"
             ],
             [
              0.3333333333333333,
              "#9c179e"
             ],
             [
              0.4444444444444444,
              "#bd3786"
             ],
             [
              0.5555555555555556,
              "#d8576b"
             ],
             [
              0.6666666666666666,
              "#ed7953"
             ],
             [
              0.7777777777777778,
              "#fb9f3a"
             ],
             [
              0.8888888888888888,
              "#fdca26"
             ],
             [
              1,
              "#f0f921"
             ]
            ],
            "type": "histogram2d"
           }
          ],
          "histogram2dcontour": [
           {
            "colorbar": {
             "outlinewidth": 0,
             "ticks": ""
            },
            "colorscale": [
             [
              0,
              "#0d0887"
             ],
             [
              0.1111111111111111,
              "#46039f"
             ],
             [
              0.2222222222222222,
              "#7201a8"
             ],
             [
              0.3333333333333333,
              "#9c179e"
             ],
             [
              0.4444444444444444,
              "#bd3786"
             ],
             [
              0.5555555555555556,
              "#d8576b"
             ],
             [
              0.6666666666666666,
              "#ed7953"
             ],
             [
              0.7777777777777778,
              "#fb9f3a"
             ],
             [
              0.8888888888888888,
              "#fdca26"
             ],
             [
              1,
              "#f0f921"
             ]
            ],
            "type": "histogram2dcontour"
           }
          ],
          "mesh3d": [
           {
            "colorbar": {
             "outlinewidth": 0,
             "ticks": ""
            },
            "type": "mesh3d"
           }
          ],
          "parcoords": [
           {
            "line": {
             "colorbar": {
              "outlinewidth": 0,
              "ticks": ""
             }
            },
            "type": "parcoords"
           }
          ],
          "pie": [
           {
            "automargin": true,
            "type": "pie"
           }
          ],
          "scatter": [
           {
            "fillpattern": {
             "fillmode": "overlay",
             "size": 10,
             "solidity": 0.2
            },
            "type": "scatter"
           }
          ],
          "scatter3d": [
           {
            "line": {
             "colorbar": {
              "outlinewidth": 0,
              "ticks": ""
             }
            },
            "marker": {
             "colorbar": {
              "outlinewidth": 0,
              "ticks": ""
             }
            },
            "type": "scatter3d"
           }
          ],
          "scattercarpet": [
           {
            "marker": {
             "colorbar": {
              "outlinewidth": 0,
              "ticks": ""
             }
            },
            "type": "scattercarpet"
           }
          ],
          "scattergeo": [
           {
            "marker": {
             "colorbar": {
              "outlinewidth": 0,
              "ticks": ""
             }
            },
            "type": "scattergeo"
           }
          ],
          "scattergl": [
           {
            "marker": {
             "colorbar": {
              "outlinewidth": 0,
              "ticks": ""
             }
            },
            "type": "scattergl"
           }
          ],
          "scattermap": [
           {
            "marker": {
             "colorbar": {
              "outlinewidth": 0,
              "ticks": ""
             }
            },
            "type": "scattermap"
           }
          ],
          "scattermapbox": [
           {
            "marker": {
             "colorbar": {
              "outlinewidth": 0,
              "ticks": ""
             }
            },
            "type": "scattermapbox"
           }
          ],
          "scatterpolar": [
           {
            "marker": {
             "colorbar": {
              "outlinewidth": 0,
              "ticks": ""
             }
            },
            "type": "scatterpolar"
           }
          ],
          "scatterpolargl": [
           {
            "marker": {
             "colorbar": {
              "outlinewidth": 0,
              "ticks": ""
             }
            },
            "type": "scatterpolargl"
           }
          ],
          "scatterternary": [
           {
            "marker": {
             "colorbar": {
              "outlinewidth": 0,
              "ticks": ""
             }
            },
            "type": "scatterternary"
           }
          ],
          "surface": [
           {
            "colorbar": {
             "outlinewidth": 0,
             "ticks": ""
            },
            "colorscale": [
             [
              0,
              "#0d0887"
             ],
             [
              0.1111111111111111,
              "#46039f"
             ],
             [
              0.2222222222222222,
              "#7201a8"
             ],
             [
              0.3333333333333333,
              "#9c179e"
             ],
             [
              0.4444444444444444,
              "#bd3786"
             ],
             [
              0.5555555555555556,
              "#d8576b"
             ],
             [
              0.6666666666666666,
              "#ed7953"
             ],
             [
              0.7777777777777778,
              "#fb9f3a"
             ],
             [
              0.8888888888888888,
              "#fdca26"
             ],
             [
              1,
              "#f0f921"
             ]
            ],
            "type": "surface"
           }
          ],
          "table": [
           {
            "cells": {
             "fill": {
              "color": "#EBF0F8"
             },
             "line": {
              "color": "white"
             }
            },
            "header": {
             "fill": {
              "color": "#C8D4E3"
             },
             "line": {
              "color": "white"
             }
            },
            "type": "table"
           }
          ]
         },
         "layout": {
          "annotationdefaults": {
           "arrowcolor": "#2a3f5f",
           "arrowhead": 0,
           "arrowwidth": 1
          },
          "autotypenumbers": "strict",
          "coloraxis": {
           "colorbar": {
            "outlinewidth": 0,
            "ticks": ""
           }
          },
          "colorscale": {
           "diverging": [
            [
             0,
             "#8e0152"
            ],
            [
             0.1,
             "#c51b7d"
            ],
            [
             0.2,
             "#de77ae"
            ],
            [
             0.3,
             "#f1b6da"
            ],
            [
             0.4,
             "#fde0ef"
            ],
            [
             0.5,
             "#f7f7f7"
            ],
            [
             0.6,
             "#e6f5d0"
            ],
            [
             0.7,
             "#b8e186"
            ],
            [
             0.8,
             "#7fbc41"
            ],
            [
             0.9,
             "#4d9221"
            ],
            [
             1,
             "#276419"
            ]
           ],
           "sequential": [
            [
             0,
             "#0d0887"
            ],
            [
             0.1111111111111111,
             "#46039f"
            ],
            [
             0.2222222222222222,
             "#7201a8"
            ],
            [
             0.3333333333333333,
             "#9c179e"
            ],
            [
             0.4444444444444444,
             "#bd3786"
            ],
            [
             0.5555555555555556,
             "#d8576b"
            ],
            [
             0.6666666666666666,
             "#ed7953"
            ],
            [
             0.7777777777777778,
             "#fb9f3a"
            ],
            [
             0.8888888888888888,
             "#fdca26"
            ],
            [
             1,
             "#f0f921"
            ]
           ],
           "sequentialminus": [
            [
             0,
             "#0d0887"
            ],
            [
             0.1111111111111111,
             "#46039f"
            ],
            [
             0.2222222222222222,
             "#7201a8"
            ],
            [
             0.3333333333333333,
             "#9c179e"
            ],
            [
             0.4444444444444444,
             "#bd3786"
            ],
            [
             0.5555555555555556,
             "#d8576b"
            ],
            [
             0.6666666666666666,
             "#ed7953"
            ],
            [
             0.7777777777777778,
             "#fb9f3a"
            ],
            [
             0.8888888888888888,
             "#fdca26"
            ],
            [
             1,
             "#f0f921"
            ]
           ]
          },
          "colorway": [
           "#636efa",
           "#EF553B",
           "#00cc96",
           "#ab63fa",
           "#FFA15A",
           "#19d3f3",
           "#FF6692",
           "#B6E880",
           "#FF97FF",
           "#FECB52"
          ],
          "font": {
           "color": "#2a3f5f"
          },
          "geo": {
           "bgcolor": "white",
           "lakecolor": "white",
           "landcolor": "#E5ECF6",
           "showlakes": true,
           "showland": true,
           "subunitcolor": "white"
          },
          "hoverlabel": {
           "align": "left"
          },
          "hovermode": "closest",
          "mapbox": {
           "style": "light"
          },
          "paper_bgcolor": "white",
          "plot_bgcolor": "#E5ECF6",
          "polar": {
           "angularaxis": {
            "gridcolor": "white",
            "linecolor": "white",
            "ticks": ""
           },
           "bgcolor": "#E5ECF6",
           "radialaxis": {
            "gridcolor": "white",
            "linecolor": "white",
            "ticks": ""
           }
          },
          "scene": {
           "xaxis": {
            "backgroundcolor": "#E5ECF6",
            "gridcolor": "white",
            "gridwidth": 2,
            "linecolor": "white",
            "showbackground": true,
            "ticks": "",
            "zerolinecolor": "white"
           },
           "yaxis": {
            "backgroundcolor": "#E5ECF6",
            "gridcolor": "white",
            "gridwidth": 2,
            "linecolor": "white",
            "showbackground": true,
            "ticks": "",
            "zerolinecolor": "white"
           },
           "zaxis": {
            "backgroundcolor": "#E5ECF6",
            "gridcolor": "white",
            "gridwidth": 2,
            "linecolor": "white",
            "showbackground": true,
            "ticks": "",
            "zerolinecolor": "white"
           }
          },
          "shapedefaults": {
           "line": {
            "color": "#2a3f5f"
           }
          },
          "ternary": {
           "aaxis": {
            "gridcolor": "white",
            "linecolor": "white",
            "ticks": ""
           },
           "baxis": {
            "gridcolor": "white",
            "linecolor": "white",
            "ticks": ""
           },
           "bgcolor": "#E5ECF6",
           "caxis": {
            "gridcolor": "white",
            "linecolor": "white",
            "ticks": ""
           }
          },
          "title": {
           "x": 0.05
          },
          "xaxis": {
           "automargin": true,
           "gridcolor": "white",
           "linecolor": "white",
           "ticks": "",
           "title": {
            "standoff": 15
           },
           "zerolinecolor": "white",
           "zerolinewidth": 2
          },
          "yaxis": {
           "automargin": true,
           "gridcolor": "white",
           "linecolor": "white",
           "ticks": "",
           "title": {
            "standoff": 15
           },
           "zerolinecolor": "white",
           "zerolinewidth": 2
          }
         }
        },
        "title": {
         "text": "Similarity-based Positioning (Target User = Center)"
        },
        "xaxis": {
         "anchor": "y",
         "domain": [
          0,
          1
         ],
         "title": {
          "text": "x"
         }
        },
        "yaxis": {
         "anchor": "x",
         "domain": [
          0,
          1
         ],
         "title": {
          "text": "y"
         }
        }
       }
      },
      "text/html": [
       "<div>                        <script type=\"text/javascript\">window.PlotlyConfig = {MathJaxConfig: 'local'};</script>\n",
       "        <script charset=\"utf-8\" src=\"https://cdn.plot.ly/plotly-3.0.1.min.js\"></script>                <div id=\"0f1f9680-a0f1-4587-8491-7814a93196b1\" class=\"plotly-graph-div\" style=\"height:100%; width:100%;\"></div>            <script type=\"text/javascript\">                window.PLOTLYENV=window.PLOTLYENV || {};                                if (document.getElementById(\"0f1f9680-a0f1-4587-8491-7814a93196b1\")) {                    Plotly.newPlot(                        \"0f1f9680-a0f1-4587-8491-7814a93196b1\",                        [{\"customdata\":[[\"ELMfXcjWX4kJTltQlX2Z1D9Hh644IQqxbhmOnALgLJjlBfoKrqa56n96Z5Y0w6-1PAtoMWNtBtG4Ww\",null,null,null,0.8983397892928541],[\"e44LpTwC0GpPxqFEl_JG856m1sfl6JtAurtkIhpccpg8v5l-Uhf0wJy5PSeOLRvOwX1asmxYmuw5sg\",null,null,null,0.8681076004253769],[\"kAUEA8kEFRNUGeK9vCFJgBEibpWoSVNtlLordAmWudiVhzUhNuGLsrsbO5Wu6ZePhBK2wRwDI8iC4g\",null,null,null,0.8587595138231059],[\"fA-KkRPK-d2a93sMtYUP9EWHRdDpFaR0UXDSt7vqzvlDPXXvRI4_i83lwPZqvzMn3UkmHSzczuONBQ\",null,null,null,0.8386276599100277],[\"4O9vRHBah1PpackSuIHoGnK2umwSOWFgAZB82w9uORFEHZRBDyNwneOl8jbrZ3EZUe8tH5HsvAq_mA\",null,null,null,0.8378609660315678],[\"kPFSAI3VsTJ6gL2gQswPAkD1qf0-yL1Vx_mH0OgR5o_6r8gMtnvN-cYHY6QGnHohMl4uXMWtKxjDKQ\",null,null,null,0.8167459896133433],[\"khJV22ACWF4Q9frLbWnedhg6SjWREfEITkh8tfGu7NDonCg7HEh-qORcdQriS8M__JGob7QOoHWuGQ\",null,null,null,0.7978292427051225],[\"yip-HwTdjxXB36Pv2auxQxGcojrqrYq3gCfvitkwqB5tMxVwoFNL-IYGFZvCuxYthF0YPDj2SmHpmQ\",null,null,null,0.7947696431459538],[\"LVn_ok84iH0WD1I6SPS2PluVFaQVSD8ujKnyP8rOUK_O8R6d4KA3j95ajK3RRnYEvnoj2dREkm2nKA\",null,null,null,0.7850964328765294],[\"F_PFXXT4KK8mR0WkCpJ_9MRU0X2edJ8ClJJUN5GTK6YhiaTJULIzRkFMjR_5IoS4eH9MuaL2xPOeEg\",null,null,null,0.784929474819736],[\"1nry226Ys8jmA4IrYNRAqBOLA09dO_oisz6Din8AyUOowu80Mp3ggYKg3moP6BbiDD8d8fw9t-3IVw\",3.331060606060606,708.2855530274463,396.5471999210381,null]],\"hovertemplate\":\"x=%{x}\\u003cbr\\u003ey=%{y}\\u003cbr\\u003elabel=%{text}\\u003cbr\\u003epuuid=%{customdata[0]}\\u003cbr\\u003eKDA=%{customdata[1]}\\u003cbr\\u003edamage_per_min=%{customdata[2]}\\u003cbr\\u003egold_per_min=%{customdata[3]}\\u003cbr\\u003esimilarity=%{marker.color}\\u003cextra\\u003e\\u003c\\u002fextra\\u003e\",\"legendgroup\":\"\",\"marker\":{\"color\":{\"dtype\":\"f8\",\"bdata\":\"t6r2FTO\\u002f7D+OjSeXicfrP6D4Xzv1eus\\u002f4LSarAnW6j\\u002fpavbMwc\\u002fqPzDpUHzIIuo\\u002fFcAmMdGH6T93SyW\\u002fwG7pP4cm7Y2CH+k\\u002fFI0AayQe6T8AAAAAAAD4fw==\"},\"coloraxis\":\"coloraxis\",\"symbol\":\"circle\",\"line\":{\"color\":\"DarkSlateGrey\",\"width\":1},\"size\":14},\"mode\":\"markers+text\",\"name\":\"\",\"orientation\":\"v\",\"showlegend\":false,\"text\":[\"Top\",\"Top\",\"Top\",\"Top\",\"Top\",\"Top\",\"Top\",\"Top\",\"Top\",\"Top\",\"Target\"],\"x\":{\"dtype\":\"f8\",\"bdata\":\"SKpKUGcGuj\\u002fJt\\u002fWC5lC7P73vmwa7WKY\\u002f\\u002fQa+\\u002fyOIqb9bm+zWSMrAv0BbvA7edMe\\u002fSO4fMIXvxL\\u002f7Khx4RTywv9ZUyLErALE\\u002fxhe\\u002fzX1Fxj8AAAAAAAAAAA==\"},\"xaxis\":\"x\",\"y\":{\"dtype\":\"f8\",\"bdata\":\"AAAAAAAAAADTIkC6o9izP5q0dUqmMcE\\u002frc1fCAulwz\\u002fmA2XkxWW4P\\u002fXC8m\\u002fA33k8iZjxu9Zrvr+kv9cO2PvIv9vjwFFNKcq\\u002f5KLkQGAuwL8AAAAAAAAAAA==\"},\"yaxis\":\"y\",\"type\":\"scatter\"},{\"customdata\":{\"dtype\":\"f8\",\"bdata\":\"pjFgGgOmCkA\\u002fkQbQSCKGQLhTtFTByHhA\",\"shape\":\"1, 3\"},\"hovertemplate\":\"x=%{x}\\u003cbr\\u003ey=%{y}\\u003cbr\\u003etext=%{text}\\u003cbr\\u003eKDA=%{customdata[0]}\\u003cbr\\u003edamage_per_min=%{customdata[1]}\\u003cbr\\u003egold_per_min=%{customdata[2]}\\u003cextra\\u003e\\u003c\\u002fextra\\u003e\",\"legendgroup\":\"\",\"marker\":{\"color\":\"red\",\"size\":16,\"symbol\":\"star\"},\"mode\":\"markers+text\",\"name\":\"\",\"orientation\":\"v\",\"showlegend\":false,\"text\":[\"You\"],\"x\":{\"dtype\":\"f8\",\"bdata\":\"AAAAAAAAAAA=\"},\"xaxis\":\"x\",\"y\":{\"dtype\":\"f8\",\"bdata\":\"AAAAAAAAAAA=\"},\"yaxis\":\"y\",\"type\":\"scatter\"}],                        {\"template\":{\"data\":{\"histogram2dcontour\":[{\"type\":\"histogram2dcontour\",\"colorbar\":{\"outlinewidth\":0,\"ticks\":\"\"},\"colorscale\":[[0.0,\"#0d0887\"],[0.1111111111111111,\"#46039f\"],[0.2222222222222222,\"#7201a8\"],[0.3333333333333333,\"#9c179e\"],[0.4444444444444444,\"#bd3786\"],[0.5555555555555556,\"#d8576b\"],[0.6666666666666666,\"#ed7953\"],[0.7777777777777778,\"#fb9f3a\"],[0.8888888888888888,\"#fdca26\"],[1.0,\"#f0f921\"]]}],\"choropleth\":[{\"type\":\"choropleth\",\"colorbar\":{\"outlinewidth\":0,\"ticks\":\"\"}}],\"histogram2d\":[{\"type\":\"histogram2d\",\"colorbar\":{\"outlinewidth\":0,\"ticks\":\"\"},\"colorscale\":[[0.0,\"#0d0887\"],[0.1111111111111111,\"#46039f\"],[0.2222222222222222,\"#7201a8\"],[0.3333333333333333,\"#9c179e\"],[0.4444444444444444,\"#bd3786\"],[0.5555555555555556,\"#d8576b\"],[0.6666666666666666,\"#ed7953\"],[0.7777777777777778,\"#fb9f3a\"],[0.8888888888888888,\"#fdca26\"],[1.0,\"#f0f921\"]]}],\"heatmap\":[{\"type\":\"heatmap\",\"colorbar\":{\"outlinewidth\":0,\"ticks\":\"\"},\"colorscale\":[[0.0,\"#0d0887\"],[0.1111111111111111,\"#46039f\"],[0.2222222222222222,\"#7201a8\"],[0.3333333333333333,\"#9c179e\"],[0.4444444444444444,\"#bd3786\"],[0.5555555555555556,\"#d8576b\"],[0.6666666666666666,\"#ed7953\"],[0.7777777777777778,\"#fb9f3a\"],[0.8888888888888888,\"#fdca26\"],[1.0,\"#f0f921\"]]}],\"contourcarpet\":[{\"type\":\"contourcarpet\",\"colorbar\":{\"outlinewidth\":0,\"ticks\":\"\"}}],\"contour\":[{\"type\":\"contour\",\"colorbar\":{\"outlinewidth\":0,\"ticks\":\"\"},\"colorscale\":[[0.0,\"#0d0887\"],[0.1111111111111111,\"#46039f\"],[0.2222222222222222,\"#7201a8\"],[0.3333333333333333,\"#9c179e\"],[0.4444444444444444,\"#bd3786\"],[0.5555555555555556,\"#d8576b\"],[0.6666666666666666,\"#ed7953\"],[0.7777777777777778,\"#fb9f3a\"],[0.8888888888888888,\"#fdca26\"],[1.0,\"#f0f921\"]]}],\"surface\":[{\"type\":\"surface\",\"colorbar\":{\"outlinewidth\":0,\"ticks\":\"\"},\"colorscale\":[[0.0,\"#0d0887\"],[0.1111111111111111,\"#46039f\"],[0.2222222222222222,\"#7201a8\"],[0.3333333333333333,\"#9c179e\"],[0.4444444444444444,\"#bd3786\"],[0.5555555555555556,\"#d8576b\"],[0.6666666666666666,\"#ed7953\"],[0.7777777777777778,\"#fb9f3a\"],[0.8888888888888888,\"#fdca26\"],[1.0,\"#f0f921\"]]}],\"mesh3d\":[{\"type\":\"mesh3d\",\"colorbar\":{\"outlinewidth\":0,\"ticks\":\"\"}}],\"scatter\":[{\"fillpattern\":{\"fillmode\":\"overlay\",\"size\":10,\"solidity\":0.2},\"type\":\"scatter\"}],\"parcoords\":[{\"type\":\"parcoords\",\"line\":{\"colorbar\":{\"outlinewidth\":0,\"ticks\":\"\"}}}],\"scatterpolargl\":[{\"type\":\"scatterpolargl\",\"marker\":{\"colorbar\":{\"outlinewidth\":0,\"ticks\":\"\"}}}],\"bar\":[{\"error_x\":{\"color\":\"#2a3f5f\"},\"error_y\":{\"color\":\"#2a3f5f\"},\"marker\":{\"line\":{\"color\":\"#E5ECF6\",\"width\":0.5},\"pattern\":{\"fillmode\":\"overlay\",\"size\":10,\"solidity\":0.2}},\"type\":\"bar\"}],\"scattergeo\":[{\"type\":\"scattergeo\",\"marker\":{\"colorbar\":{\"outlinewidth\":0,\"ticks\":\"\"}}}],\"scatterpolar\":[{\"type\":\"scatterpolar\",\"marker\":{\"colorbar\":{\"outlinewidth\":0,\"ticks\":\"\"}}}],\"histogram\":[{\"marker\":{\"pattern\":{\"fillmode\":\"overlay\",\"size\":10,\"solidity\":0.2}},\"type\":\"histogram\"}],\"scattergl\":[{\"type\":\"scattergl\",\"marker\":{\"colorbar\":{\"outlinewidth\":0,\"ticks\":\"\"}}}],\"scatter3d\":[{\"type\":\"scatter3d\",\"line\":{\"colorbar\":{\"outlinewidth\":0,\"ticks\":\"\"}},\"marker\":{\"colorbar\":{\"outlinewidth\":0,\"ticks\":\"\"}}}],\"scattermap\":[{\"type\":\"scattermap\",\"marker\":{\"colorbar\":{\"outlinewidth\":0,\"ticks\":\"\"}}}],\"scattermapbox\":[{\"type\":\"scattermapbox\",\"marker\":{\"colorbar\":{\"outlinewidth\":0,\"ticks\":\"\"}}}],\"scatterternary\":[{\"type\":\"scatterternary\",\"marker\":{\"colorbar\":{\"outlinewidth\":0,\"ticks\":\"\"}}}],\"scattercarpet\":[{\"type\":\"scattercarpet\",\"marker\":{\"colorbar\":{\"outlinewidth\":0,\"ticks\":\"\"}}}],\"carpet\":[{\"aaxis\":{\"endlinecolor\":\"#2a3f5f\",\"gridcolor\":\"white\",\"linecolor\":\"white\",\"minorgridcolor\":\"white\",\"startlinecolor\":\"#2a3f5f\"},\"baxis\":{\"endlinecolor\":\"#2a3f5f\",\"gridcolor\":\"white\",\"linecolor\":\"white\",\"minorgridcolor\":\"white\",\"startlinecolor\":\"#2a3f5f\"},\"type\":\"carpet\"}],\"table\":[{\"cells\":{\"fill\":{\"color\":\"#EBF0F8\"},\"line\":{\"color\":\"white\"}},\"header\":{\"fill\":{\"color\":\"#C8D4E3\"},\"line\":{\"color\":\"white\"}},\"type\":\"table\"}],\"barpolar\":[{\"marker\":{\"line\":{\"color\":\"#E5ECF6\",\"width\":0.5},\"pattern\":{\"fillmode\":\"overlay\",\"size\":10,\"solidity\":0.2}},\"type\":\"barpolar\"}],\"pie\":[{\"automargin\":true,\"type\":\"pie\"}]},\"layout\":{\"autotypenumbers\":\"strict\",\"colorway\":[\"#636efa\",\"#EF553B\",\"#00cc96\",\"#ab63fa\",\"#FFA15A\",\"#19d3f3\",\"#FF6692\",\"#B6E880\",\"#FF97FF\",\"#FECB52\"],\"font\":{\"color\":\"#2a3f5f\"},\"hovermode\":\"closest\",\"hoverlabel\":{\"align\":\"left\"},\"paper_bgcolor\":\"white\",\"plot_bgcolor\":\"#E5ECF6\",\"polar\":{\"bgcolor\":\"#E5ECF6\",\"angularaxis\":{\"gridcolor\":\"white\",\"linecolor\":\"white\",\"ticks\":\"\"},\"radialaxis\":{\"gridcolor\":\"white\",\"linecolor\":\"white\",\"ticks\":\"\"}},\"ternary\":{\"bgcolor\":\"#E5ECF6\",\"aaxis\":{\"gridcolor\":\"white\",\"linecolor\":\"white\",\"ticks\":\"\"},\"baxis\":{\"gridcolor\":\"white\",\"linecolor\":\"white\",\"ticks\":\"\"},\"caxis\":{\"gridcolor\":\"white\",\"linecolor\":\"white\",\"ticks\":\"\"}},\"coloraxis\":{\"colorbar\":{\"outlinewidth\":0,\"ticks\":\"\"}},\"colorscale\":{\"sequential\":[[0.0,\"#0d0887\"],[0.1111111111111111,\"#46039f\"],[0.2222222222222222,\"#7201a8\"],[0.3333333333333333,\"#9c179e\"],[0.4444444444444444,\"#bd3786\"],[0.5555555555555556,\"#d8576b\"],[0.6666666666666666,\"#ed7953\"],[0.7777777777777778,\"#fb9f3a\"],[0.8888888888888888,\"#fdca26\"],[1.0,\"#f0f921\"]],\"sequentialminus\":[[0.0,\"#0d0887\"],[0.1111111111111111,\"#46039f\"],[0.2222222222222222,\"#7201a8\"],[0.3333333333333333,\"#9c179e\"],[0.4444444444444444,\"#bd3786\"],[0.5555555555555556,\"#d8576b\"],[0.6666666666666666,\"#ed7953\"],[0.7777777777777778,\"#fb9f3a\"],[0.8888888888888888,\"#fdca26\"],[1.0,\"#f0f921\"]],\"diverging\":[[0,\"#8e0152\"],[0.1,\"#c51b7d\"],[0.2,\"#de77ae\"],[0.3,\"#f1b6da\"],[0.4,\"#fde0ef\"],[0.5,\"#f7f7f7\"],[0.6,\"#e6f5d0\"],[0.7,\"#b8e186\"],[0.8,\"#7fbc41\"],[0.9,\"#4d9221\"],[1,\"#276419\"]]},\"xaxis\":{\"gridcolor\":\"white\",\"linecolor\":\"white\",\"ticks\":\"\",\"title\":{\"standoff\":15},\"zerolinecolor\":\"white\",\"automargin\":true,\"zerolinewidth\":2},\"yaxis\":{\"gridcolor\":\"white\",\"linecolor\":\"white\",\"ticks\":\"\",\"title\":{\"standoff\":15},\"zerolinecolor\":\"white\",\"automargin\":true,\"zerolinewidth\":2},\"scene\":{\"xaxis\":{\"backgroundcolor\":\"#E5ECF6\",\"gridcolor\":\"white\",\"linecolor\":\"white\",\"showbackground\":true,\"ticks\":\"\",\"zerolinecolor\":\"white\",\"gridwidth\":2},\"yaxis\":{\"backgroundcolor\":\"#E5ECF6\",\"gridcolor\":\"white\",\"linecolor\":\"white\",\"showbackground\":true,\"ticks\":\"\",\"zerolinecolor\":\"white\",\"gridwidth\":2},\"zaxis\":{\"backgroundcolor\":\"#E5ECF6\",\"gridcolor\":\"white\",\"linecolor\":\"white\",\"showbackground\":true,\"ticks\":\"\",\"zerolinecolor\":\"white\",\"gridwidth\":2}},\"shapedefaults\":{\"line\":{\"color\":\"#2a3f5f\"}},\"annotationdefaults\":{\"arrowcolor\":\"#2a3f5f\",\"arrowhead\":0,\"arrowwidth\":1},\"geo\":{\"bgcolor\":\"white\",\"landcolor\":\"#E5ECF6\",\"subunitcolor\":\"white\",\"showland\":true,\"showlakes\":true,\"lakecolor\":\"white\"},\"title\":{\"x\":0.05},\"mapbox\":{\"style\":\"light\"}}},\"xaxis\":{\"anchor\":\"y\",\"domain\":[0.0,1.0],\"title\":{\"text\":\"x\"}},\"yaxis\":{\"anchor\":\"x\",\"domain\":[0.0,1.0],\"title\":{\"text\":\"y\"}},\"coloraxis\":{\"colorbar\":{\"title\":{\"text\":\"similarity\"}},\"colorscale\":[[0.0,\"#440154\"],[0.1111111111111111,\"#482878\"],[0.2222222222222222,\"#3e4989\"],[0.3333333333333333,\"#31688e\"],[0.4444444444444444,\"#26828e\"],[0.5555555555555556,\"#1f9e89\"],[0.6666666666666666,\"#35b779\"],[0.7777777777777778,\"#6ece58\"],[0.8888888888888888,\"#b5de2b\"],[1.0,\"#fde725\"]]},\"legend\":{\"tracegroupgap\":0},\"title\":{\"text\":\"Similarity-based Positioning (Target User = Center)\"}},                        {\"responsive\": true}                    )                };            </script>        </div>"
      ],
      "text/plain": [
       "Figure({\n",
       "    'data': [{'customdata': array([['ELMfXcjWX4kJTltQlX2Z1D9Hh644IQqxbhmOnALgLJjlBfoKrqa56n96Z5Y0w6-1PAtoMWNtBtG4Ww',\n",
       "                                    nan, nan, nan, 0.8983397892928541],\n",
       "                                   ['e44LpTwC0GpPxqFEl_JG856m1sfl6JtAurtkIhpccpg8v5l-Uhf0wJy5PSeOLRvOwX1asmxYmuw5sg',\n",
       "                                    nan, nan, nan, 0.8681076004253769],\n",
       "                                   ['kAUEA8kEFRNUGeK9vCFJgBEibpWoSVNtlLordAmWudiVhzUhNuGLsrsbO5Wu6ZePhBK2wRwDI8iC4g',\n",
       "                                    nan, nan, nan, 0.8587595138231059],\n",
       "                                   ['fA-KkRPK-d2a93sMtYUP9EWHRdDpFaR0UXDSt7vqzvlDPXXvRI4_i83lwPZqvzMn3UkmHSzczuONBQ',\n",
       "                                    nan, nan, nan, 0.8386276599100277],\n",
       "                                   ['4O9vRHBah1PpackSuIHoGnK2umwSOWFgAZB82w9uORFEHZRBDyNwneOl8jbrZ3EZUe8tH5HsvAq_mA',\n",
       "                                    nan, nan, nan, 0.8378609660315678],\n",
       "                                   ['kPFSAI3VsTJ6gL2gQswPAkD1qf0-yL1Vx_mH0OgR5o_6r8gMtnvN-cYHY6QGnHohMl4uXMWtKxjDKQ',\n",
       "                                    nan, nan, nan, 0.8167459896133433],\n",
       "                                   ['khJV22ACWF4Q9frLbWnedhg6SjWREfEITkh8tfGu7NDonCg7HEh-qORcdQriS8M__JGob7QOoHWuGQ',\n",
       "                                    nan, nan, nan, 0.7978292427051225],\n",
       "                                   ['yip-HwTdjxXB36Pv2auxQxGcojrqrYq3gCfvitkwqB5tMxVwoFNL-IYGFZvCuxYthF0YPDj2SmHpmQ',\n",
       "                                    nan, nan, nan, 0.7947696431459538],\n",
       "                                   ['LVn_ok84iH0WD1I6SPS2PluVFaQVSD8ujKnyP8rOUK_O8R6d4KA3j95ajK3RRnYEvnoj2dREkm2nKA',\n",
       "                                    nan, nan, nan, 0.7850964328765294],\n",
       "                                   ['F_PFXXT4KK8mR0WkCpJ_9MRU0X2edJ8ClJJUN5GTK6YhiaTJULIzRkFMjR_5IoS4eH9MuaL2xPOeEg',\n",
       "                                    nan, nan, nan, 0.784929474819736],\n",
       "                                   ['1nry226Ys8jmA4IrYNRAqBOLA09dO_oisz6Din8AyUOowu80Mp3ggYKg3moP6BbiDD8d8fw9t-3IVw',\n",
       "                                    3.331060606060606, 708.2855530274463, 396.5471999210381, nan]],\n",
       "                                  dtype=object),\n",
       "              'hovertemplate': ('x=%{x}<br>y=%{y}<br>label=%{te' ... '%{marker.color}<extra></extra>'),\n",
       "              'legendgroup': '',\n",
       "              'marker': {'color': {'bdata': ('t6r2FTO/7D+OjSeXicfrP6D4Xzv1eu' ... '2CH+k/FI0AayQe6T8AAAAAAAD4fw=='),\n",
       "                                   'dtype': 'f8'},\n",
       "                         'coloraxis': 'coloraxis',\n",
       "                         'line': {'color': 'DarkSlateGrey', 'width': 1},\n",
       "                         'size': 14,\n",
       "                         'symbol': 'circle'},\n",
       "              'mode': 'markers+text',\n",
       "              'name': '',\n",
       "              'orientation': 'v',\n",
       "              'showlegend': False,\n",
       "              'text': array(['Top', 'Top', 'Top', 'Top', 'Top', 'Top', 'Top', 'Top', 'Top', 'Top',\n",
       "                             'Target'], dtype=object),\n",
       "              'type': 'scatter',\n",
       "              'x': {'bdata': ('SKpKUGcGuj/Jt/WC5lC7P73vmwa7WK' ... 'ErALE/xhe/zX1Fxj8AAAAAAAAAAA=='),\n",
       "                    'dtype': 'f8'},\n",
       "              'xaxis': 'x',\n",
       "              'y': {'bdata': ('AAAAAAAAAADTIkC6o9izP5q0dUqmMc' ... 'FNKcq/5KLkQGAuwL8AAAAAAAAAAA=='),\n",
       "                    'dtype': 'f8'},\n",
       "              'yaxis': 'y'},\n",
       "             {'customdata': {'bdata': 'pjFgGgOmCkA/kQbQSCKGQLhTtFTByHhA', 'dtype': 'f8', 'shape': '1, 3'},\n",
       "              'hovertemplate': ('x=%{x}<br>y=%{y}<br>text=%{tex' ... '{customdata[2]}<extra></extra>'),\n",
       "              'legendgroup': '',\n",
       "              'marker': {'color': 'red', 'size': 16, 'symbol': 'star'},\n",
       "              'mode': 'markers+text',\n",
       "              'name': '',\n",
       "              'orientation': 'v',\n",
       "              'showlegend': False,\n",
       "              'text': array(['You'], dtype=object),\n",
       "              'type': 'scatter',\n",
       "              'x': {'bdata': 'AAAAAAAAAAA=', 'dtype': 'f8'},\n",
       "              'xaxis': 'x',\n",
       "              'y': {'bdata': 'AAAAAAAAAAA=', 'dtype': 'f8'},\n",
       "              'yaxis': 'y'}],\n",
       "    'layout': {'coloraxis': {'colorbar': {'title': {'text': 'similarity'}},\n",
       "                             'colorscale': [[0.0, '#440154'], [0.1111111111111111,\n",
       "                                            '#482878'], [0.2222222222222222,\n",
       "                                            '#3e4989'], [0.3333333333333333,\n",
       "                                            '#31688e'], [0.4444444444444444,\n",
       "                                            '#26828e'], [0.5555555555555556,\n",
       "                                            '#1f9e89'], [0.6666666666666666,\n",
       "                                            '#35b779'], [0.7777777777777778,\n",
       "                                            '#6ece58'], [0.8888888888888888,\n",
       "                                            '#b5de2b'], [1.0, '#fde725']]},\n",
       "               'legend': {'tracegroupgap': 0},\n",
       "               'template': '...',\n",
       "               'title': {'text': 'Similarity-based Positioning (Target User = Center)'},\n",
       "               'xaxis': {'anchor': 'y', 'domain': [0.0, 1.0], 'title': {'text': 'x'}},\n",
       "               'yaxis': {'anchor': 'x', 'domain': [0.0, 1.0], 'title': {'text': 'y'}}}\n",
       "})"
      ]
     },
     "execution_count": 224,
     "metadata": {},
     "output_type": "execute_result"
    }
   ],
   "source": [
    "# 기준 유저 따로 빨간 점으로 표시\n",
    "import plotly.express as px\n",
    "import plotly.graph_objects as go\n",
    "import plotly.express as px\n",
    "\n",
    "# Plotly용 데이터 준비\n",
    "fig = px.scatter(\n",
    "    plot_df,\n",
    "    x=\"x\", y=\"y\",\n",
    "    color=\"similarity\",\n",
    "    hover_data=[\"puuid\", \"KDA\", \"damage_per_min\", \"gold_per_min\", \"similarity\"],\n",
    "    text=\"label\",\n",
    "    color_continuous_scale=\"Viridis\",\n",
    "    title=\"Similarity-based Positioning (Target User = Center)\"\n",
    ")\n",
    "\n",
    "# 기준 유저 강조 (색 없음, hover로만 표시됨)\n",
    "fig.update_traces(marker=dict(size=14, line=dict(width=1, color='DarkSlateGrey')))\n",
    "\n",
    "\n",
    "target_trace = px.scatter(\n",
    "    target_user_df,\n",
    "    x=\"x\", y=\"y\",\n",
    "    hover_data=[\"KDA\", \"damage_per_min\", \"gold_per_min\"],\n",
    "    text=[\"You\"],\n",
    ")\n",
    "\n",
    "target_trace.update_traces(marker=dict(size=16, color='red', symbol='star'))\n",
    "fig.add_trace(target_trace.data[0])\n"
   ]
  },
  {
   "cell_type": "markdown",
   "id": "d84cc049",
   "metadata": {},
   "source": [
    "### 2차원 좌표 생성 (PCA or t-SNE)\n",
    "#### 📌 PCA란?\n",
    "> PCA는 데이터의 가장 큰 **변동성(variance)** 을 유지하면서      \n",
    "> 고차원 데이터를 저차원으로 압축하는 수학 기법이야.\n",
    "\n",
    "- 데이터를 선형 조합하여 새로운 축(주성분)을 생성\n",
    "\n",
    "- 첫 번째 축: 데이터의 가장 큰 분산 방향\n",
    "\n",
    "- 두 번째 축: 그다음으로 큰 분산 방향 (첫 축과 직교)\n",
    "\n",
    "단계 | 설명\n",
    "--- | ---\n",
    "X_vis | 유사도 상위 10명의 원본 성능 데이터\n",
    "scaler.transform() | 앞에서 학습된 정규화 모델로 스케일링\n",
    "pca.fit_transform() | 정규화된 데이터를 2차원으로 압축 (x, y 좌표)"
   ]
  },
  {
   "cell_type": "code",
   "execution_count": 26,
   "id": "3680cc09",
   "metadata": {},
   "outputs": [],
   "source": [
    "from sklearn.decomposition import PCA\n",
    "\n",
    "# 해당 유저들만 필터링\n",
    "similar_puuids = top_similar_players[\"puuid\"].tolist()\n",
    "X_vis = merged_df[merged_df[\"puuid\"].isin(similar_puuids)][features].fillna(0)\n",
    "\n",
    "# PCA로 2D 압축\n",
    "pca = PCA(n_components=2)\n",
    "X_pca = pca.fit_transform(scaler.transform(X_vis))\n",
    "\n",
    "# 위치 + 메타데이터 결합\n",
    "plot_df = merged_df[merged_df[\"puuid\"].isin(similar_puuids)].copy()\n",
    "plot_df = plot_df.reset_index(drop=True)\n",
    "plot_df[\"x\"] = X_pca[:, 0]\n",
    "plot_df[\"y\"] = X_pca[:, 1]\n"
   ]
  },
  {
   "cell_type": "code",
   "execution_count": 27,
   "id": "082cca4a",
   "metadata": {},
   "outputs": [],
   "source": [
    "# similarity 정보 복원\n",
    "similarity_map = top_similar_players.set_index(\"puuid\")[\"similarity\"].to_dict()\n",
    "plot_df[\"similarity\"] = plot_df[\"puuid\"].map(similarity_map)\n"
   ]
  },
  {
   "cell_type": "markdown",
   "id": "043ccc41",
   "metadata": {},
   "source": [
    "#### 💡 PCA가 아니라 t-SNE는 안 썼는가?\n",
    "\n",
    "기법 | 설명 | 장단점\n",
    "--- | --- | ---\n",
    "PCA | 선형 변환, 빠름, 해석 가능 | 빠르고 간단, 큰 구조 보기 좋음\n",
    "t-SNE | 비선형, 국소적 구조 보존 | 군집 표현에 강하지만 느리고 전역 해석 어려움"
   ]
  },
  {
   "cell_type": "markdown",
   "id": "0e951c0c",
   "metadata": {},
   "source": [
    "### matplotlib + interactive 클릭 이벤트 시각화\n",
    "vscode에서는 matplotlib이 클릭이 작동이 안됌"
   ]
  },
  {
   "cell_type": "code",
   "execution_count": 28,
   "id": "7afe1e55",
   "metadata": {},
   "outputs": [
    {
     "data": {
      "image/png": "[encoded data removed]",
      "text/plain": [
       "<Figure size 1000x600 with 2 Axes>"
      ]
     },
     "metadata": {},
     "output_type": "display_data"
    }
   ],
   "source": [
    "import matplotlib.pyplot as plt\n",
    "\n",
    "fig, ax = plt.subplots(figsize=(10, 6))\n",
    "scatter = ax.scatter(plot_df[\"x\"], plot_df[\"y\"], c=plot_df[\"similarity\"], cmap=\"viridis\", s=100)\n",
    "\n",
    "# 텍스트 박스 준비\n",
    "annot = ax.annotate(\"\", xy=(0,0), xytext=(20,20), textcoords=\"offset points\",\n",
    "                    bbox=dict(boxstyle=\"round\", fc=\"w\"),\n",
    "                    arrowprops=dict(arrowstyle=\"->\"))\n",
    "annot.set_visible(False)\n",
    "\n",
    "# 클릭 시 작동할 함수 정의\n",
    "def update_annot(ind):\n",
    "    i = ind[\"ind\"][0]\n",
    "    row = plot_df.iloc[i]\n",
    "    text = f\"\"\"PUUID: {row['puuid']}\n",
    "                KDA: {row['KDA']:.2f}\n",
    "                CS/Min: {row['cs_per_min']:.2f}\n",
    "                Gold/Min: {row['gold_per_min']:.2f}\n",
    "                Damage/Min: {row['damage_per_min']:.2f}\n",
    "                Vision Score: {row['vision_score_est']}\n",
    "                Similarity: {row['similarity']:.2f}\n",
    "            \"\"\"\n",
    "    annot.xy = (row[\"x\"], row[\"y\"])\n",
    "    annot.set_text(text)\n",
    "    annot.get_bbox_patch().set_alpha(0.9)\n",
    "\n",
    "# 마우스 클릭 이벤트 연결\n",
    "def on_click(event):\n",
    "    vis = annot.get_visible()\n",
    "    if event.inaxes == ax:\n",
    "        cont, ind = scatter.contains(event)\n",
    "        if cont:\n",
    "            update_annot(ind)\n",
    "            annot.set_visible(True)\n",
    "            fig.canvas.draw_idle()\n",
    "        else:\n",
    "            if vis:\n",
    "                annot.set_visible(False)\n",
    "                fig.canvas.draw_idle()\n",
    "\n",
    "fig.canvas.mpl_connect(\"button_press_event\", on_click)\n",
    "\n",
    "# 기준 유저 좌표(★)\n",
    "target_row = merged_df[merged_df[\"puuid\"] == target_puuid].copy()\n",
    "target_scaled = scaler.transform(target_row[features].fillna(0))\n",
    "target_pca = pca.transform(target_scaled)\n",
    "ax.scatter(target_pca[:, 0], target_pca[:, 1], c=\"red\", marker=\"*\", s=200, label=\"Target User\")\n",
    "ax.legend()\n",
    "\n",
    "\n",
    "plt.title(\"Top Similar LoL Players (Click to View Info)\")\n",
    "plt.xlabel(\"PCA Dimension 1\")\n",
    "plt.ylabel(\"PCA Dimension 2\")\n",
    "plt.colorbar(scatter, label=\"Similarity\")\n",
    "plt.tight_layout()\n",
    "plt.show()"
   ]
  },
  {
   "cell_type": "markdown",
   "id": "d094ccfb",
   "metadata": {},
   "source": [
    "### 상대적 거리 좌표 생성 (유사도 → 거리 변환)\n",
    "기준 유저를 중심으로        \n",
    "유사도가 높을수록 가까운 거리,      \n",
    "       낮을수록 멀리 배치"
   ]
  },
  {
   "cell_type": "code",
   "execution_count": 219,
   "id": "3e45c553",
   "metadata": {},
   "outputs": [
    {
     "name": "stderr",
     "output_type": "stream",
     "text": [
      "C:\\Users\\com\\AppData\\Local\\Temp\\ipykernel_124416\\23735816.py:4: SettingWithCopyWarning: \n",
      "A value is trying to be set on a copy of a slice from a DataFrame.\n",
      "Try using .loc[row_indexer,col_indexer] = value instead\n",
      "\n",
      "See the caveats in the documentation: https://pandas.pydata.org/pandas-docs/stable/user_guide/indexing.html#returning-a-view-versus-a-copy\n",
      "  top_similar_players[\"distance\"] = 1 - top_similar_players[\"similarity\"]\n",
      "C:\\Users\\com\\AppData\\Local\\Temp\\ipykernel_124416\\23735816.py:8: SettingWithCopyWarning: \n",
      "A value is trying to be set on a copy of a slice from a DataFrame.\n",
      "Try using .loc[row_indexer,col_indexer] = value instead\n",
      "\n",
      "See the caveats in the documentation: https://pandas.pydata.org/pandas-docs/stable/user_guide/indexing.html#returning-a-view-versus-a-copy\n",
      "  top_similar_players[\"x\"] = np.cos(angles) * top_similar_players[\"distance\"]\n",
      "C:\\Users\\com\\AppData\\Local\\Temp\\ipykernel_124416\\23735816.py:9: SettingWithCopyWarning: \n",
      "A value is trying to be set on a copy of a slice from a DataFrame.\n",
      "Try using .loc[row_indexer,col_indexer] = value instead\n",
      "\n",
      "See the caveats in the documentation: https://pandas.pydata.org/pandas-docs/stable/user_guide/indexing.html#returning-a-view-versus-a-copy\n",
      "  top_similar_players[\"y\"] = np.sin(angles) * top_similar_players[\"distance\"]\n"
     ]
    },
    {
     "ename": "KeyError",
     "evalue": "\"['cs_per_min'] not in index\"",
     "output_type": "error",
     "traceback": [
      "\u001b[1;31m---------------------------------------------------------------------------\u001b[0m",
      "\u001b[1;31mKeyError\u001b[0m                                  Traceback (most recent call last)",
      "Cell \u001b[1;32mIn[219], line 12\u001b[0m\n\u001b[0;32m      9\u001b[0m top_similar_players[\u001b[38;5;124m\"\u001b[39m\u001b[38;5;124my\u001b[39m\u001b[38;5;124m\"\u001b[39m] \u001b[38;5;241m=\u001b[39m np\u001b[38;5;241m.\u001b[39msin(angles) \u001b[38;5;241m*\u001b[39m top_similar_players[\u001b[38;5;124m\"\u001b[39m\u001b[38;5;124mdistance\u001b[39m\u001b[38;5;124m\"\u001b[39m]\n\u001b[0;32m     11\u001b[0m \u001b[38;5;66;03m# 파생 지표 붙이기 (중복 제거 주의!)\u001b[39;00m\n\u001b[1;32m---> 12\u001b[0m top_features \u001b[38;5;241m=\u001b[39m \u001b[43mmerged_df\u001b[49m\u001b[43m[\u001b[49m\u001b[43m[\u001b[49m\u001b[38;5;124;43m'\u001b[39;49m\u001b[38;5;124;43mpuuid\u001b[39;49m\u001b[38;5;124;43m'\u001b[39;49m\u001b[43m,\u001b[49m\u001b[43m \u001b[49m\u001b[38;5;124;43m\"\u001b[39;49m\u001b[38;5;124;43mKDA\u001b[39;49m\u001b[38;5;124;43m\"\u001b[39;49m\u001b[43m,\u001b[49m\u001b[43m \u001b[49m\u001b[38;5;124;43m\"\u001b[39;49m\u001b[38;5;124;43mcs_per_min\u001b[39;49m\u001b[38;5;124;43m\"\u001b[39;49m\u001b[43m,\u001b[49m\u001b[43m \u001b[49m\u001b[38;5;124;43m\"\u001b[39;49m\u001b[38;5;124;43mgold_per_min\u001b[39;49m\u001b[38;5;124;43m\"\u001b[39;49m\u001b[43m]\u001b[49m\u001b[43m]\u001b[49m\u001b[38;5;241m.\u001b[39mcopy()\n\u001b[0;32m     13\u001b[0m top_similar_players \u001b[38;5;241m=\u001b[39m pd\u001b[38;5;241m.\u001b[39mmerge(\n\u001b[0;32m     14\u001b[0m     top_similar_players,\n\u001b[0;32m     15\u001b[0m     top_features,\n\u001b[0;32m     16\u001b[0m     on\u001b[38;5;241m=\u001b[39m[\u001b[38;5;124m'\u001b[39m\u001b[38;5;124mpuuid\u001b[39m\u001b[38;5;124m'\u001b[39m],\n\u001b[0;32m     17\u001b[0m     how\u001b[38;5;241m=\u001b[39m\u001b[38;5;124m\"\u001b[39m\u001b[38;5;124mleft\u001b[39m\u001b[38;5;124m\"\u001b[39m\n\u001b[0;32m     18\u001b[0m )\n\u001b[0;32m     20\u001b[0m \u001b[38;5;66;03m# 기준 유저 좌표 (항상 중심)\u001b[39;00m\n",
      "File \u001b[1;32mc:\\Users\\com\\AppData\\Local\\Programs\\Python\\Python39\\lib\\site-packages\\pandas\\core\\frame.py:4108\u001b[0m, in \u001b[0;36mDataFrame.__getitem__\u001b[1;34m(self, key)\u001b[0m\n\u001b[0;32m   4106\u001b[0m     \u001b[38;5;28;01mif\u001b[39;00m is_iterator(key):\n\u001b[0;32m   4107\u001b[0m         key \u001b[38;5;241m=\u001b[39m \u001b[38;5;28mlist\u001b[39m(key)\n\u001b[1;32m-> 4108\u001b[0m     indexer \u001b[38;5;241m=\u001b[39m \u001b[38;5;28;43mself\u001b[39;49m\u001b[38;5;241;43m.\u001b[39;49m\u001b[43mcolumns\u001b[49m\u001b[38;5;241;43m.\u001b[39;49m\u001b[43m_get_indexer_strict\u001b[49m\u001b[43m(\u001b[49m\u001b[43mkey\u001b[49m\u001b[43m,\u001b[49m\u001b[43m \u001b[49m\u001b[38;5;124;43m\"\u001b[39;49m\u001b[38;5;124;43mcolumns\u001b[39;49m\u001b[38;5;124;43m\"\u001b[39;49m\u001b[43m)\u001b[49m[\u001b[38;5;241m1\u001b[39m]\n\u001b[0;32m   4110\u001b[0m \u001b[38;5;66;03m# take() does not accept boolean indexers\u001b[39;00m\n\u001b[0;32m   4111\u001b[0m \u001b[38;5;28;01mif\u001b[39;00m \u001b[38;5;28mgetattr\u001b[39m(indexer, \u001b[38;5;124m\"\u001b[39m\u001b[38;5;124mdtype\u001b[39m\u001b[38;5;124m\"\u001b[39m, \u001b[38;5;28;01mNone\u001b[39;00m) \u001b[38;5;241m==\u001b[39m \u001b[38;5;28mbool\u001b[39m:\n",
      "File \u001b[1;32mc:\\Users\\com\\AppData\\Local\\Programs\\Python\\Python39\\lib\\site-packages\\pandas\\core\\indexes\\base.py:6200\u001b[0m, in \u001b[0;36mIndex._get_indexer_strict\u001b[1;34m(self, key, axis_name)\u001b[0m\n\u001b[0;32m   6197\u001b[0m \u001b[38;5;28;01melse\u001b[39;00m:\n\u001b[0;32m   6198\u001b[0m     keyarr, indexer, new_indexer \u001b[38;5;241m=\u001b[39m \u001b[38;5;28mself\u001b[39m\u001b[38;5;241m.\u001b[39m_reindex_non_unique(keyarr)\n\u001b[1;32m-> 6200\u001b[0m \u001b[38;5;28;43mself\u001b[39;49m\u001b[38;5;241;43m.\u001b[39;49m\u001b[43m_raise_if_missing\u001b[49m\u001b[43m(\u001b[49m\u001b[43mkeyarr\u001b[49m\u001b[43m,\u001b[49m\u001b[43m \u001b[49m\u001b[43mindexer\u001b[49m\u001b[43m,\u001b[49m\u001b[43m \u001b[49m\u001b[43maxis_name\u001b[49m\u001b[43m)\u001b[49m\n\u001b[0;32m   6202\u001b[0m keyarr \u001b[38;5;241m=\u001b[39m \u001b[38;5;28mself\u001b[39m\u001b[38;5;241m.\u001b[39mtake(indexer)\n\u001b[0;32m   6203\u001b[0m \u001b[38;5;28;01mif\u001b[39;00m \u001b[38;5;28misinstance\u001b[39m(key, Index):\n\u001b[0;32m   6204\u001b[0m     \u001b[38;5;66;03m# GH 42790 - Preserve name from an Index\u001b[39;00m\n",
      "File \u001b[1;32mc:\\Users\\com\\AppData\\Local\\Programs\\Python\\Python39\\lib\\site-packages\\pandas\\core\\indexes\\base.py:6252\u001b[0m, in \u001b[0;36mIndex._raise_if_missing\u001b[1;34m(self, key, indexer, axis_name)\u001b[0m\n\u001b[0;32m   6249\u001b[0m     \u001b[38;5;28;01mraise\u001b[39;00m \u001b[38;5;167;01mKeyError\u001b[39;00m(\u001b[38;5;124mf\u001b[39m\u001b[38;5;124m\"\u001b[39m\u001b[38;5;124mNone of [\u001b[39m\u001b[38;5;132;01m{\u001b[39;00mkey\u001b[38;5;132;01m}\u001b[39;00m\u001b[38;5;124m] are in the [\u001b[39m\u001b[38;5;132;01m{\u001b[39;00maxis_name\u001b[38;5;132;01m}\u001b[39;00m\u001b[38;5;124m]\u001b[39m\u001b[38;5;124m\"\u001b[39m)\n\u001b[0;32m   6251\u001b[0m not_found \u001b[38;5;241m=\u001b[39m \u001b[38;5;28mlist\u001b[39m(ensure_index(key)[missing_mask\u001b[38;5;241m.\u001b[39mnonzero()[\u001b[38;5;241m0\u001b[39m]]\u001b[38;5;241m.\u001b[39munique())\n\u001b[1;32m-> 6252\u001b[0m \u001b[38;5;28;01mraise\u001b[39;00m \u001b[38;5;167;01mKeyError\u001b[39;00m(\u001b[38;5;124mf\u001b[39m\u001b[38;5;124m\"\u001b[39m\u001b[38;5;132;01m{\u001b[39;00mnot_found\u001b[38;5;132;01m}\u001b[39;00m\u001b[38;5;124m not in index\u001b[39m\u001b[38;5;124m\"\u001b[39m)\n",
      "\u001b[1;31mKeyError\u001b[0m: \"['cs_per_min'] not in index\""
     ]
    }
   ],
   "source": [
    "import numpy as np\n",
    "\n",
    "# 유사도 기반 거리 계산 (0~1 사이 → 가까울수록 유사함)\n",
    "top_similar_players[\"distance\"] = 1 - top_similar_players[\"similarity\"]\n",
    "\n",
    "# 간단한 원형 배치: 유사한 순서대로 각도를 나눠서 원 주변에 배치\n",
    "angles = np.linspace(0, 2 * np.pi, len(top_similar_players), endpoint=False)\n",
    "top_similar_players[\"x\"] = np.cos(angles) * top_similar_players[\"distance\"]\n",
    "top_similar_players[\"y\"] = np.sin(angles) * top_similar_players[\"distance\"]\n",
    "\n",
    "# 파생 지표 붙이기 (중복 제거 주의!)\n",
    "top_features = merged_df[['puuid', \"KDA\", \"cs_per_min\", \"gold_per_min\"]].copy()\n",
    "top_similar_players = pd.merge(\n",
    "    top_similar_players,\n",
    "    top_features,\n",
    "    on=['puuid'],\n",
    "    how=\"left\"\n",
    ")\n",
    "\n",
    "# 기준 유저 좌표 (항상 중심)\n",
    "target_user_df = pd.DataFrame({\n",
    "    \"puuid\": [target_puuid],\n",
    "    \"x\": [0.0],\n",
    "    \"y\": [0.0],\n",
    "    \"KDA\": merged_df.loc[merged_df[\"puuid\"] == target_puuid, \"KDA\"].values[0],\n",
    "    \"cs_per_min\": merged_df.loc[merged_df[\"puuid\"] == target_puuid, \"cs_per_min\"].values[0],\n",
    "    \"gold_per_min\": merged_df.loc[merged_df[\"puuid\"] == target_puuid, \"gold_per_min\"].values[0],\n",
    "    \"label\": [\"Target\"]\n",
    "})\n",
    "\n",
    "# 상위 유저 + 타겟 유저 병합\n",
    "top_similar_players[\"label\"] = \"Top\"\n",
    "plot_df = pd.concat([top_similar_players, target_user_df], ignore_index=True)\n"
   ]
  },
  {
   "cell_type": "code",
   "execution_count": 30,
   "id": "bfefcc4c",
   "metadata": {},
   "outputs": [],
   "source": [
    "# import plotly.express as px\n",
    "\n",
    "# # Plotly용 데이터 준비\n",
    "# fig = px.scatter(\n",
    "#     plot_df,\n",
    "#     x=\"x\", y=\"y\",\n",
    "#     color=\"similarity\",\n",
    "#     hover_data=[\"puuid\", \"KDA\", \"cs_per_min\", \"gold_per_min\", \"similarity\"],\n",
    "#     text=\"label\",\n",
    "#     color_continuous_scale=\"Viridis\",\n",
    "#     title=\"Similarity-based Positioning (Target User = Center)\"\n",
    "# )\n",
    "\n",
    "# # 기준 유저 강조 (색 없음, hover로만 표시됨)\n",
    "# fig.update_traces(marker=dict(size=14, line=dict(width=1, color='DarkSlateGrey')))\n",
    "\n",
    "# fig.show()\n"
   ]
  },
  {
   "cell_type": "markdown",
   "id": "cddecb73",
   "metadata": {},
   "source": [
    "### Plotly로 시각화\n",
    "- 기준 유저와 유사한 Top 유저들을 2D 공간에 배치하고    \n",
    "   유사도, KDA, CS/분 등의 정보를 마우스만으로 직관적으로 파악\n",
    "- 색상, 크기, 마커, 텍스트 등 시각 정보를 다차원적으로 표현\n",
    "\n"
   ]
  },
  {
   "cell_type": "code",
   "execution_count": 209,
   "id": "aa27cf8c",
   "metadata": {},
   "outputs": [
    {
     "name": "stdout",
     "output_type": "stream",
     "text": [
      "Collecting plotly\n",
      "  Downloading plotly-6.0.1-py3-none-any.whl (14.8 MB)\n",
      "     ---------------------------------------- 14.8/14.8 MB 9.4 MB/s eta 0:00:00\n",
      "Collecting narwhals>=1.15.1\n",
      "  Downloading narwhals-1.36.0-py3-none-any.whl (331 kB)\n",
      "     -------------------------------------- 331.0/331.0 KB 6.8 MB/s eta 0:00:00\n",
      "Requirement already satisfied: packaging in c:\\users\\com\\appdata\\local\\programs\\python\\python39\\lib\\site-packages (from plotly) (24.2)\n",
      "Installing collected packages: narwhals, plotly\n",
      "Successfully installed narwhals-1.36.0 plotly-6.0.1\n"
     ]
    },
    {
     "name": "stderr",
     "output_type": "stream",
     "text": [
      "WARNING: You are using pip version 22.0.4; however, version 25.0.1 is available.\n",
      "You should consider upgrading via the 'C:\\Users\\com\\AppData\\Local\\Programs\\Python\\Python39\\python.exe -m pip install --upgrade pip' command.\n"
     ]
    }
   ],
   "source": [
    "! pip install plotly"
   ]
  },
  {
   "cell_type": "code",
   "execution_count": 210,
   "id": "ea00d74c",
   "metadata": {},
   "outputs": [
    {
     "ename": "NameError",
     "evalue": "name 'plot_df' is not defined",
     "output_type": "error",
     "traceback": [
      "\u001b[1;31m---------------------------------------------------------------------------\u001b[0m",
      "\u001b[1;31mNameError\u001b[0m                                 Traceback (most recent call last)",
      "Cell \u001b[1;32mIn[210], line 8\u001b[0m\n\u001b[0;32m      4\u001b[0m \u001b[38;5;28;01mimport\u001b[39;00m\u001b[38;5;250m \u001b[39m\u001b[38;5;21;01mplotly\u001b[39;00m\u001b[38;5;21;01m.\u001b[39;00m\u001b[38;5;21;01mexpress\u001b[39;00m\u001b[38;5;250m \u001b[39m\u001b[38;5;28;01mas\u001b[39;00m\u001b[38;5;250m \u001b[39m\u001b[38;5;21;01mpx\u001b[39;00m\n\u001b[0;32m      6\u001b[0m \u001b[38;5;66;03m# Plotly용 데이터 준비\u001b[39;00m\n\u001b[0;32m      7\u001b[0m fig \u001b[38;5;241m=\u001b[39m px\u001b[38;5;241m.\u001b[39mscatter(\n\u001b[1;32m----> 8\u001b[0m     \u001b[43mplot_df\u001b[49m,\n\u001b[0;32m      9\u001b[0m     x\u001b[38;5;241m=\u001b[39m\u001b[38;5;124m\"\u001b[39m\u001b[38;5;124mx\u001b[39m\u001b[38;5;124m\"\u001b[39m, y\u001b[38;5;241m=\u001b[39m\u001b[38;5;124m\"\u001b[39m\u001b[38;5;124my\u001b[39m\u001b[38;5;124m\"\u001b[39m,\n\u001b[0;32m     10\u001b[0m     color\u001b[38;5;241m=\u001b[39m\u001b[38;5;124m\"\u001b[39m\u001b[38;5;124msimilarity\u001b[39m\u001b[38;5;124m\"\u001b[39m,\n\u001b[0;32m     11\u001b[0m     \u001b[38;5;66;03m# 마우스를 올리면 나오는 정보\u001b[39;00m\n\u001b[0;32m     12\u001b[0m     hover_data\u001b[38;5;241m=\u001b[39m[\u001b[38;5;124m\"\u001b[39m\u001b[38;5;124mpuuid\u001b[39m\u001b[38;5;124m\"\u001b[39m, \u001b[38;5;124m\"\u001b[39m\u001b[38;5;124mKDA\u001b[39m\u001b[38;5;124m\"\u001b[39m, \u001b[38;5;124m\"\u001b[39m\u001b[38;5;124mcs_per_min\u001b[39m\u001b[38;5;124m\"\u001b[39m, \u001b[38;5;124m\"\u001b[39m\u001b[38;5;124mgold_per_min\u001b[39m\u001b[38;5;124m\"\u001b[39m, \u001b[38;5;124m\"\u001b[39m\u001b[38;5;124msimilarity\u001b[39m\u001b[38;5;124m\"\u001b[39m],\n\u001b[0;32m     13\u001b[0m     text\u001b[38;5;241m=\u001b[39m\u001b[38;5;124m\"\u001b[39m\u001b[38;5;124mlabel\u001b[39m\u001b[38;5;124m\"\u001b[39m,\n\u001b[0;32m     14\u001b[0m     color_continuous_scale\u001b[38;5;241m=\u001b[39m\u001b[38;5;124m\"\u001b[39m\u001b[38;5;124mViridis\u001b[39m\u001b[38;5;124m\"\u001b[39m,\n\u001b[0;32m     15\u001b[0m     title\u001b[38;5;241m=\u001b[39m\u001b[38;5;124m\"\u001b[39m\u001b[38;5;124mSimilarity-based Positioning (Target User = Center)\u001b[39m\u001b[38;5;124m\"\u001b[39m\n\u001b[0;32m     16\u001b[0m )\n\u001b[0;32m     18\u001b[0m \u001b[38;5;66;03m# 기준 유저 강조 (색 없음, hover로만 표시됨)\u001b[39;00m\n\u001b[0;32m     19\u001b[0m fig\u001b[38;5;241m.\u001b[39mupdate_traces(marker\u001b[38;5;241m=\u001b[39m\u001b[38;5;28mdict\u001b[39m(size\u001b[38;5;241m=\u001b[39m\u001b[38;5;241m14\u001b[39m, line\u001b[38;5;241m=\u001b[39m\u001b[38;5;28mdict\u001b[39m(width\u001b[38;5;241m=\u001b[39m\u001b[38;5;241m1\u001b[39m, color\u001b[38;5;241m=\u001b[39m\u001b[38;5;124m'\u001b[39m\u001b[38;5;124mDarkSlateGrey\u001b[39m\u001b[38;5;124m'\u001b[39m)))\n",
      "\u001b[1;31mNameError\u001b[0m: name 'plot_df' is not defined"
     ]
    }
   ],
   "source": [
    "# 기준 유저 따로 빨간 점으로 표시\n",
    "import plotly.express as px\n",
    "import plotly.graph_objects as go\n",
    "import plotly.express as px\n",
    "\n",
    "# Plotly용 데이터 준비\n",
    "fig = px.scatter(\n",
    "    plot_df,\n",
    "    x=\"x\", y=\"y\",\n",
    "    color=\"similarity\",\n",
    "    # 마우스를 올리면 나오는 정보\n",
    "    hover_data=[\"puuid\", \"KDA\", \"cs_per_min\", \"gold_per_min\", \"similarity\"],\n",
    "    text=\"label\",\n",
    "    color_continuous_scale=\"Viridis\",\n",
    "    title=\"Similarity-based Positioning (Target User = Center)\"\n",
    ")\n",
    "\n",
    "# 기준 유저 강조 (색 없음, hover로만 표시됨)\n",
    "fig.update_traces(marker=dict(size=14, line=dict(width=1, color='DarkSlateGrey')))\n",
    "\n",
    "\n",
    "target_trace = px.scatter(\n",
    "    target_user_df,\n",
    "    x=\"x\", y=\"y\",\n",
    "    hover_data=[\"KDA\", \"cs_per_min\", \"gold_per_min\"],\n",
    "    text=[\"You\"],\n",
    ")\n",
    "\n",
    "target_trace.update_traces(marker=dict(size=16, color='red', symbol='star'))\n",
    "fig.add_trace(target_trace.data[0])\n"
   ]
  },
  {
   "cell_type": "markdown",
   "id": "17333422",
   "metadata": {},
   "source": [
    "### 일반 유저 + 상위 유저 지표 비교 막대그래프 같이 그리기\n",
    "- 기준 유저(일반 유저)의 최근 10게임의 KDA 변화를 시각화\n",
    "\n",
    "- 상위 1000명 유저들의 평균 KDA 선과 비교\n",
    "\n",
    "- 사용자에게 실력의 흐름 + 상대적 수준을 한눈에 보여주는 것"
   ]
  },
  {
   "cell_type": "code",
   "execution_count": null,
   "id": "8ade1bd8",
   "metadata": {},
   "outputs": [
    {
     "data": {
      "application/vnd.plotly.v1+json": {
       "config": {
        "plotlyServerURL": "https://plot.ly"
       },
       "data": [
        {
         "marker": {
          "color": "royalblue"
         },
         "name": "Target User KDA",
         "type": "bar",
         "x": [
          "Game 1",
          "Game 2",
          "Game 3",
          "Game 4",
          "Game 5",
          "Game 6",
          "Game 7",
          "Game 8",
          "Game 9",
          "Game 10"
         ],
         "xaxis": "x",
         "y": [
          5,
          5.5,
          0.7272727272727273,
          5,
          0.5,
          1,
          5.75,
          2.1666666666666665,
          4,
          3.6666666666666665
         ],
         "yaxis": "y"
        },
        {
         "line": {
          "color": "red",
          "dash": "dash"
         },
         "name": "Top Players Avg KDA",
         "type": "scatter",
         "x": [
          "Game 1",
          "Game 2",
          "Game 3",
          "Game 4",
          "Game 5",
          "Game 6",
          "Game 7",
          "Game 8",
          "Game 9",
          "Game 10"
         ],
         "xaxis": "x",
         "y": [
          5.4767703734106625,
          5.4767703734106625,
          5.4767703734106625,
          5.4767703734106625,
          5.4767703734106625,
          5.4767703734106625,
          5.4767703734106625,
          5.4767703734106625,
          5.4767703734106625,
          5.4767703734106625
         ],
         "yaxis": "y"
        },
        {
         "marker": {
          "color": "seagreen"
         },
         "name": "Target User CS/Min",
         "type": "bar",
         "x": [
          "Game 1",
          "Game 2",
          "Game 3",
          "Game 4",
          "Game 5",
          "Game 6",
          "Game 7",
          "Game 8",
          "Game 9",
          "Game 10"
         ],
         "xaxis": "x2",
         "y": [
          7.913284470267152,
          7.941692605259449,
          5.475141816568888,
          8.652097555070334,
          8.60663411621584,
          6.7140521099119885,
          7.455820590185128,
          6.499328084170122,
          8.11942452915298,
          7.2244509417284295
         ],
         "yaxis": "y2"
        },
        {
         "line": {
          "color": "orange",
          "dash": "dash"
         },
         "name": "Top Players Avg CS/Min",
         "type": "scatter",
         "x": [
          "Game 1",
          "Game 2",
          "Game 3",
          "Game 4",
          "Game 5",
          "Game 6",
          "Game 7",
          "Game 8",
          "Game 9",
          "Game 10"
         ],
         "xaxis": "x2",
         "y": [
          6.032137624256394,
          6.032137624256394,
          6.032137624256394,
          6.032137624256394,
          6.032137624256394,
          6.032137624256394,
          6.032137624256394,
          6.032137624256394,
          6.032137624256394,
          6.032137624256394
         ],
         "yaxis": "y2"
        }
       ],
       "layout": {
        "annotations": [
         {
          "font": {
           "size": 16
          },
          "showarrow": false,
          "text": "KDA vs Top Avg",
          "x": 0.225,
          "xanchor": "center",
          "xref": "paper",
          "y": 1,
          "yanchor": "bottom",
          "yref": "paper"
         },
         {
          "font": {
           "size": 16
          },
          "showarrow": false,
          "text": "CS per Min vs Top Avg",
          "x": 0.775,
          "xanchor": "center",
          "xref": "paper",
          "y": 1,
          "yanchor": "bottom",
          "yref": "paper"
         }
        ],
        "showlegend": true,
        "template": {
         "data": {
          "bar": [
           {
            "error_x": {
             "color": "#2a3f5f"
            },
            "error_y": {
             "color": "#2a3f5f"
            },
            "marker": {
             "line": {
              "color": "white",
              "width": 0.5
             },
             "pattern": {
              "fillmode": "overlay",
              "size": 10,
              "solidity": 0.2
             }
            },
            "type": "bar"
           }
          ],
          "barpolar": [
           {
            "marker": {
             "line": {
              "color": "white",
              "width": 0.5
             },
             "pattern": {
              "fillmode": "overlay",
              "size": 10,
              "solidity": 0.2
             }
            },
            "type": "barpolar"
           }
          ],
          "carpet": [
           {
            "aaxis": {
             "endlinecolor": "#2a3f5f",
             "gridcolor": "#C8D4E3",
             "linecolor": "#C8D4E3",
             "minorgridcolor": "#C8D4E3",
             "startlinecolor": "#2a3f5f"
            },
            "baxis": {
             "endlinecolor": "#2a3f5f",
             "gridcolor": "#C8D4E3",
             "linecolor": "#C8D4E3",
             "minorgridcolor": "#C8D4E3",
             "startlinecolor": "#2a3f5f"
            },
            "type": "carpet"
           }
          ],
          "choropleth": [
           {
            "colorbar": {
             "outlinewidth": 0,
             "ticks": ""
            },
            "type": "choropleth"
           }
          ],
          "contour": [
           {
            "colorbar": {
             "outlinewidth": 0,
             "ticks": ""
            },
            "colorscale": [
             [
              0,
              "#0d0887"
             ],
             [
              0.1111111111111111,
              "#46039f"
             ],
             [
              0.2222222222222222,
              "#7201a8"
             ],
             [
              0.3333333333333333,
              "#9c179e"
             ],
             [
              0.4444444444444444,
              "#bd3786"
             ],
             [
              0.5555555555555556,
              "#d8576b"
             ],
             [
              0.6666666666666666,
              "#ed7953"
             ],
             [
              0.7777777777777778,
              "#fb9f3a"
             ],
             [
              0.8888888888888888,
              "#fdca26"
             ],
             [
              1,
              "#f0f921"
             ]
            ],
            "type": "contour"
           }
          ],
          "contourcarpet": [
           {
            "colorbar": {
             "outlinewidth": 0,
             "ticks": ""
            },
            "type": "contourcarpet"
           }
          ],
          "heatmap": [
           {
            "colorbar": {
             "outlinewidth": 0,
             "ticks": ""
            },
            "colorscale": [
             [
              0,
              "#0d0887"
             ],
             [
              0.1111111111111111,
              "#46039f"
             ],
             [
              0.2222222222222222,
              "#7201a8"
             ],
             [
              0.3333333333333333,
              "#9c179e"
             ],
             [
              0.4444444444444444,
              "#bd3786"
             ],
             [
              0.5555555555555556,
              "#d8576b"
             ],
             [
              0.6666666666666666,
              "#ed7953"
             ],
             [
              0.7777777777777778,
              "#fb9f3a"
             ],
             [
              0.8888888888888888,
              "#fdca26"
             ],
             [
              1,
              "#f0f921"
             ]
            ],
            "type": "heatmap"
           }
          ],
          "heatmapgl": [
           {
            "colorbar": {
             "outlinewidth": 0,
             "ticks": ""
            },
            "colorscale": [
             [
              0,
              "#0d0887"
             ],
             [
              0.1111111111111111,
              "#46039f"
             ],
             [
              0.2222222222222222,
              "#7201a8"
             ],
             [
              0.3333333333333333,
              "#9c179e"
             ],
             [
              0.4444444444444444,
              "#bd3786"
             ],
             [
              0.5555555555555556,
              "#d8576b"
             ],
             [
              0.6666666666666666,
              "#ed7953"
             ],
             [
              0.7777777777777778,
              "#fb9f3a"
             ],
             [
              0.8888888888888888,
              "#fdca26"
             ],
             [
              1,
              "#f0f921"
             ]
            ],
            "type": "heatmapgl"
           }
          ],
          "histogram": [
           {
            "marker": {
             "pattern": {
              "fillmode": "overlay",
              "size": 10,
              "solidity": 0.2
             }
            },
            "type": "histogram"
           }
          ],
          "histogram2d": [
           {
            "colorbar": {
             "outlinewidth": 0,
             "ticks": ""
            },
            "colorscale": [
             [
              0,
              "#0d0887"
             ],
             [
              0.1111111111111111,
              "#46039f"
             ],
             [
              0.2222222222222222,
              "#7201a8"
             ],
             [
              0.3333333333333333,
              "#9c179e"
             ],
             [
              0.4444444444444444,
              "#bd3786"
             ],
             [
              0.5555555555555556,
              "#d8576b"
             ],
             [
              0.6666666666666666,
              "#ed7953"
             ],
             [
              0.7777777777777778,
              "#fb9f3a"
             ],
             [
              0.8888888888888888,
              "#fdca26"
             ],
             [
              1,
              "#f0f921"
             ]
            ],
            "type": "histogram2d"
           }
          ],
          "histogram2dcontour": [
           {
            "colorbar": {
             "outlinewidth": 0,
             "ticks": ""
            },
            "colorscale": [
             [
              0,
              "#0d0887"
             ],
             [
              0.1111111111111111,
              "#46039f"
             ],
             [
              0.2222222222222222,
              "#7201a8"
             ],
             [
              0.3333333333333333,
              "#9c179e"
             ],
             [
              0.4444444444444444,
              "#bd3786"
             ],
             [
              0.5555555555555556,
              "#d8576b"
             ],
             [
              0.6666666666666666,
              "#ed7953"
             ],
             [
              0.7777777777777778,
              "#fb9f3a"
             ],
             [
              0.8888888888888888,
              "#fdca26"
             ],
             [
              1,
              "#f0f921"
             ]
            ],
            "type": "histogram2dcontour"
           }
          ],
          "mesh3d": [
           {
            "colorbar": {
             "outlinewidth": 0,
             "ticks": ""
            },
            "type": "mesh3d"
           }
          ],
          "parcoords": [
           {
            "line": {
             "colorbar": {
              "outlinewidth": 0,
              "ticks": ""
             }
            },
            "type": "parcoords"
           }
          ],
          "pie": [
           {
            "automargin": true,
            "type": "pie"
           }
          ],
          "scatter": [
           {
            "fillpattern": {
             "fillmode": "overlay",
             "size": 10,
             "solidity": 0.2
            },
            "type": "scatter"
           }
          ],
          "scatter3d": [
           {
            "line": {
             "colorbar": {
              "outlinewidth": 0,
              "ticks": ""
             }
            },
            "marker": {
             "colorbar": {
              "outlinewidth": 0,
              "ticks": ""
             }
            },
            "type": "scatter3d"
           }
          ],
          "scattercarpet": [
           {
            "marker": {
             "colorbar": {
              "outlinewidth": 0,
              "ticks": ""
             }
            },
            "type": "scattercarpet"
           }
          ],
          "scattergeo": [
           {
            "marker": {
             "colorbar": {
              "outlinewidth": 0,
              "ticks": ""
             }
            },
            "type": "scattergeo"
           }
          ],
          "scattergl": [
           {
            "marker": {
             "colorbar": {
              "outlinewidth": 0,
              "ticks": ""
             }
            },
            "type": "scattergl"
           }
          ],
          "scattermapbox": [
           {
            "marker": {
             "colorbar": {
              "outlinewidth": 0,
              "ticks": ""
             }
            },
            "type": "scattermapbox"
           }
          ],
          "scatterpolar": [
           {
            "marker": {
             "colorbar": {
              "outlinewidth": 0,
              "ticks": ""
             }
            },
            "type": "scatterpolar"
           }
          ],
          "scatterpolargl": [
           {
            "marker": {
             "colorbar": {
              "outlinewidth": 0,
              "ticks": ""
             }
            },
            "type": "scatterpolargl"
           }
          ],
          "scatterternary": [
           {
            "marker": {
             "colorbar": {
              "outlinewidth": 0,
              "ticks": ""
             }
            },
            "type": "scatterternary"
           }
          ],
          "surface": [
           {
            "colorbar": {
             "outlinewidth": 0,
             "ticks": ""
            },
            "colorscale": [
             [
              0,
              "#0d0887"
             ],
             [
              0.1111111111111111,
              "#46039f"
             ],
             [
              0.2222222222222222,
              "#7201a8"
             ],
             [
              0.3333333333333333,
              "#9c179e"
             ],
             [
              0.4444444444444444,
              "#bd3786"
             ],
             [
              0.5555555555555556,
              "#d8576b"
             ],
             [
              0.6666666666666666,
              "#ed7953"
             ],
             [
              0.7777777777777778,
              "#fb9f3a"
             ],
             [
              0.8888888888888888,
              "#fdca26"
             ],
             [
              1,
              "#f0f921"
             ]
            ],
            "type": "surface"
           }
          ],
          "table": [
           {
            "cells": {
             "fill": {
              "color": "#EBF0F8"
             },
             "line": {
              "color": "white"
             }
            },
            "header": {
             "fill": {
              "color": "#C8D4E3"
             },
             "line": {
              "color": "white"
             }
            },
            "type": "table"
           }
          ]
         },
         "layout": {
          "annotationdefaults": {
           "arrowcolor": "#2a3f5f",
           "arrowhead": 0,
           "arrowwidth": 1
          },
          "autotypenumbers": "strict",
          "coloraxis": {
           "colorbar": {
            "outlinewidth": 0,
            "ticks": ""
           }
          },
          "colorscale": {
           "diverging": [
            [
             0,
             "#8e0152"
            ],
            [
             0.1,
             "#c51b7d"
            ],
            [
             0.2,
             "#de77ae"
            ],
            [
             0.3,
             "#f1b6da"
            ],
            [
             0.4,
             "#fde0ef"
            ],
            [
             0.5,
             "#f7f7f7"
            ],
            [
             0.6,
             "#e6f5d0"
            ],
            [
             0.7,
             "#b8e186"
            ],
            [
             0.8,
             "#7fbc41"
            ],
            [
             0.9,
             "#4d9221"
            ],
            [
             1,
             "#276419"
            ]
           ],
           "sequential": [
            [
             0,
             "#0d0887"
            ],
            [
             0.1111111111111111,
             "#46039f"
            ],
            [
             0.2222222222222222,
             "#7201a8"
            ],
            [
             0.3333333333333333,
             "#9c179e"
            ],
            [
             0.4444444444444444,
             "#bd3786"
            ],
            [
             0.5555555555555556,
             "#d8576b"
            ],
            [
             0.6666666666666666,
             "#ed7953"
            ],
            [
             0.7777777777777778,
             "#fb9f3a"
            ],
            [
             0.8888888888888888,
             "#fdca26"
            ],
            [
             1,
             "#f0f921"
            ]
           ],
           "sequentialminus": [
            [
             0,
             "#0d0887"
            ],
            [
             0.1111111111111111,
             "#46039f"
            ],
            [
             0.2222222222222222,
             "#7201a8"
            ],
            [
             0.3333333333333333,
             "#9c179e"
            ],
            [
             0.4444444444444444,
             "#bd3786"
            ],
            [
             0.5555555555555556,
             "#d8576b"
            ],
            [
             0.6666666666666666,
             "#ed7953"
            ],
            [
             0.7777777777777778,
             "#fb9f3a"
            ],
            [
             0.8888888888888888,
             "#fdca26"
            ],
            [
             1,
             "#f0f921"
            ]
           ]
          },
          "colorway": [
           "#636efa",
           "#EF553B",
           "#00cc96",
           "#ab63fa",
           "#FFA15A",
           "#19d3f3",
           "#FF6692",
           "#B6E880",
           "#FF97FF",
           "#FECB52"
          ],
          "font": {
           "color": "#2a3f5f"
          },
          "geo": {
           "bgcolor": "white",
           "lakecolor": "white",
           "landcolor": "white",
           "showlakes": true,
           "showland": true,
           "subunitcolor": "#C8D4E3"
          },
          "hoverlabel": {
           "align": "left"
          },
          "hovermode": "closest",
          "mapbox": {
           "style": "light"
          },
          "paper_bgcolor": "white",
          "plot_bgcolor": "white",
          "polar": {
           "angularaxis": {
            "gridcolor": "#EBF0F8",
            "linecolor": "#EBF0F8",
            "ticks": ""
           },
           "bgcolor": "white",
           "radialaxis": {
            "gridcolor": "#EBF0F8",
            "linecolor": "#EBF0F8",
            "ticks": ""
           }
          },
          "scene": {
           "xaxis": {
            "backgroundcolor": "white",
            "gridcolor": "#DFE8F3",
            "gridwidth": 2,
            "linecolor": "#EBF0F8",
            "showbackground": true,
            "ticks": "",
            "zerolinecolor": "#EBF0F8"
           },
           "yaxis": {
            "backgroundcolor": "white",
            "gridcolor": "#DFE8F3",
            "gridwidth": 2,
            "linecolor": "#EBF0F8",
            "showbackground": true,
            "ticks": "",
            "zerolinecolor": "#EBF0F8"
           },
           "zaxis": {
            "backgroundcolor": "white",
            "gridcolor": "#DFE8F3",
            "gridwidth": 2,
            "linecolor": "#EBF0F8",
            "showbackground": true,
            "ticks": "",
            "zerolinecolor": "#EBF0F8"
           }
          },
          "shapedefaults": {
           "line": {
            "color": "#2a3f5f"
           }
          },
          "ternary": {
           "aaxis": {
            "gridcolor": "#DFE8F3",
            "linecolor": "#A2B1C6",
            "ticks": ""
           },
           "baxis": {
            "gridcolor": "#DFE8F3",
            "linecolor": "#A2B1C6",
            "ticks": ""
           },
           "bgcolor": "white",
           "caxis": {
            "gridcolor": "#DFE8F3",
            "linecolor": "#A2B1C6",
            "ticks": ""
           }
          },
          "title": {
           "x": 0.05
          },
          "xaxis": {
           "automargin": true,
           "gridcolor": "#EBF0F8",
           "linecolor": "#EBF0F8",
           "ticks": "",
           "title": {
            "standoff": 15
           },
           "zerolinecolor": "#EBF0F8",
           "zerolinewidth": 2
          },
          "yaxis": {
           "automargin": true,
           "gridcolor": "#EBF0F8",
           "linecolor": "#EBF0F8",
           "ticks": "",
           "title": {
            "standoff": 15
           },
           "zerolinecolor": "#EBF0F8",
           "zerolinewidth": 2
          }
         }
        },
        "title": {
         "text": "Recent 10 Games Comparison: KDA vs CS per Min"
        },
        "xaxis": {
         "anchor": "y",
         "domain": [
          0,
          0.45
         ],
         "title": {
          "text": "Game"
         }
        },
        "xaxis2": {
         "anchor": "y2",
         "domain": [
          0.55,
          1
         ],
         "title": {
          "text": "Game"
         }
        },
        "yaxis": {
         "anchor": "x",
         "domain": [
          0,
          1
         ],
         "title": {
          "text": "KDA"
         }
        },
        "yaxis2": {
         "anchor": "x2",
         "domain": [
          0,
          1
         ],
         "title": {
          "text": "CS per Min"
         }
        }
       }
      }
     },
     "metadata": {},
     "output_type": "display_data"
    }
   ],
   "source": [
    "# import plotly.graph_objects as go\n",
    "# from plotly.subplots import make_subplots\n",
    "# import pandas as pd\n",
    "\n",
    "# # 1. 기준 유저 게임 가져오기\n",
    "# user_games = merged_df[(merged_df[\"puuid\"] == target_puuid)].copy()\n",
    "# user_games = user_games.sort_values(\"game_id\", ascending=False).head(10)\n",
    "\n",
    "# # 2. KDA 데이터 부족 시 채우기 (0으로)\n",
    "# kda_values = user_games[\"KDA\"].tolist()\n",
    "# kda_values += [0] * (10 - len(kda_values))  # 10게임 채우기\n",
    "\n",
    "# # 2-1 CS 데이터 부족 시 채우기\n",
    "# cs_values = user_games[\"cs_per_min\"].tolist()\n",
    "# cs_values += [0] * (10 - len(cs_values))\n",
    "\n",
    "\n",
    "# # 3. x축 레이블\n",
    "# x_labels = [f\"Game {i+1}\" for i in range(10)]\n",
    "\n",
    "# # 4. Top 평균 KDA\n",
    "# top_avg_kda = merged_df[merged_df[\"is_top1000\"] == True][\"KDA\"].mean()\n",
    "\n",
    "# # 4-1. Top 평균 CS\n",
    "# top_avg_cs = merged_df[merged_df[\"is_top1000\"] == True][\"cs_per_min\"].mean()\n",
    "\n",
    "\n",
    "# # # 5. 그래프 생성\n",
    "# # fig = go.Figure()\n",
    "\n",
    "# # # 유저 KDA 막대\n",
    "# # fig.add_trace(go.Bar(\n",
    "# #     x=x_labels,\n",
    "# #     y=kda_values,\n",
    "# #     name=\"Target User KDA\",\n",
    "# #     marker_color='royalblue'\n",
    "# # ))\n",
    "\n",
    "# # # Top 유저 평균 선\n",
    "# # fig.add_trace(go.Scatter(\n",
    "# #     x=x_labels,\n",
    "# #     y=[top_avg_kda] * 10,\n",
    "# #     name=\"Top Players Avg KDA\",\n",
    "# #     mode='lines',\n",
    "# #     line=dict(color='red', dash='dash')\n",
    "# # ))\n",
    "\n",
    "# # fig.update_layout(\n",
    "# #     title=\"Recent 10 Games KDA vs Top Player Avg KDA\",\n",
    "# #     xaxis_title=\"Game\",\n",
    "# #     yaxis_title=\"KDA\",\n",
    "# #     barmode='group',\n",
    "# #     template='plotly_white'\n",
    "# # )\n",
    "\n",
    "# # fig.show()\n",
    "\n",
    "# # 두 개의 서브플롯 생성 (1행 2열)\n",
    "# fig = make_subplots(\n",
    "#     rows=1, cols=2, subplot_titles=(\"KDA vs Top Avg\", \"CS per Min vs Top Avg\")\n",
    "# )\n",
    "\n",
    "# # Target 유저 데이터\n",
    "# fig.add_trace(\n",
    "#     go.Bar(x=x_labels, y=kda_values, name=\"Target User KDA\", marker_color=\"royalblue\"),\n",
    "#     row=1,\n",
    "#     col=1,\n",
    "# )\n",
    "# fig.add_trace(\n",
    "#     go.Scatter(\n",
    "#         x=x_labels,\n",
    "#         y=[top_avg_kda] * 10,\n",
    "#         name=\"Top Players Avg KDA\",\n",
    "#         line=dict(color=\"red\", dash=\"dash\"),\n",
    "#     ),\n",
    "#     row=1,\n",
    "#     col=1,\n",
    "# )\n",
    "\n",
    "# fig.add_trace(\n",
    "#     go.Bar(x=x_labels, y=cs_values, name=\"Target User CS/Min\", marker_color=\"seagreen\"),\n",
    "#     row=1,\n",
    "#     col=2,\n",
    "# )\n",
    "# fig.add_trace(\n",
    "#     go.Scatter(\n",
    "#         x=x_labels,\n",
    "#         y=[top_avg_cs] * 10,\n",
    "#         name=\"Top Players Avg CS/Min\",\n",
    "#         line=dict(color=\"orange\", dash=\"dash\"),\n",
    "#     ),\n",
    "#     row=1,\n",
    "#     col=2,\n",
    "# )\n",
    "\n",
    "# # 레이아웃 설정\n",
    "# fig.update_layout(\n",
    "#     title_text=\"Recent 10 Games Comparison: KDA vs CS per Min\",\n",
    "#     template=\"plotly_white\",\n",
    "#     showlegend=True,\n",
    "# )\n",
    "\n",
    "# # 축 레이블 개별 설정\n",
    "# fig.update_xaxes(title_text=\"Game\", row=1, col=1)\n",
    "# fig.update_yaxes(title_text=\"KDA\", row=1, col=1)\n",
    "\n",
    "# fig.update_xaxes(title_text=\"Game\", row=1, col=2)\n",
    "# fig.update_yaxes(title_text=\"CS per Min\", row=1, col=2)\n",
    "\n",
    "# fig.show()"
   ]
  },
  {
   "cell_type": "code",
   "execution_count": 34,
   "id": "87b6b7c8",
   "metadata": {},
   "outputs": [
    {
     "data": {
      "application/vnd.plotly.v1+json": {
       "config": {
        "plotlyServerURL": "https://plot.ly"
       },
       "data": [
        {
         "marker": {
          "color": "royalblue"
         },
         "name": "KDA",
         "type": "bar",
         "x": [
          "Game 1",
          "Game 2",
          "Game 3",
          "Game 4",
          "Game 5",
          "Game 6",
          "Game 7",
          "Game 8",
          "Game 9",
          "Game 10"
         ],
         "xaxis": "x",
         "y": [
          5,
          5.5,
          0.7272727272727273,
          5,
          0.5,
          1,
          5.75,
          2.1666666666666665,
          4,
          3.6666666666666665
         ],
         "yaxis": "y"
        },
        {
         "line": {
          "color": "red",
          "dash": "dash"
         },
         "name": "Top Avg KDA",
         "type": "scatter",
         "x": [
          "Game 1",
          "Game 2",
          "Game 3",
          "Game 4",
          "Game 5",
          "Game 6",
          "Game 7",
          "Game 8",
          "Game 9",
          "Game 10"
         ],
         "xaxis": "x",
         "y": [
          5.4767703734106625,
          5.4767703734106625,
          5.4767703734106625,
          5.4767703734106625,
          5.4767703734106625,
          5.4767703734106625,
          5.4767703734106625,
          5.4767703734106625,
          5.4767703734106625,
          5.4767703734106625
         ],
         "yaxis": "y"
        },
        {
         "marker": {
          "color": "seagreen"
         },
         "name": "CS/Min",
         "type": "bar",
         "x": [
          "Game 1",
          "Game 2",
          "Game 3",
          "Game 4",
          "Game 5",
          "Game 6",
          "Game 7",
          "Game 8",
          "Game 9",
          "Game 10"
         ],
         "xaxis": "x2",
         "y": [
          7.913284470267152,
          7.941692605259449,
          5.475141816568888,
          8.652097555070334,
          8.60663411621584,
          6.7140521099119885,
          7.455820590185128,
          6.499328084170122,
          8.11942452915298,
          7.2244509417284295
         ],
         "yaxis": "y2"
        },
        {
         "line": {
          "color": "orange",
          "dash": "dash"
         },
         "name": "Top Avg CS",
         "type": "scatter",
         "x": [
          "Game 1",
          "Game 2",
          "Game 3",
          "Game 4",
          "Game 5",
          "Game 6",
          "Game 7",
          "Game 8",
          "Game 9",
          "Game 10"
         ],
         "xaxis": "x2",
         "y": [
          6.032137624256394,
          6.032137624256394,
          6.032137624256394,
          6.032137624256394,
          6.032137624256394,
          6.032137624256394,
          6.032137624256394,
          6.032137624256394,
          6.032137624256394,
          6.032137624256394
         ],
         "yaxis": "y2"
        },
        {
         "marker": {
          "color": "goldenrod"
         },
         "name": "Gold/Min",
         "type": "bar",
         "x": [
          "Game 1",
          "Game 2",
          "Game 3",
          "Game 4",
          "Game 5",
          "Game 6",
          "Game 7",
          "Game 8",
          "Game 9",
          "Game 10"
         ],
         "xaxis": "x3",
         "y": [
          436.70779229914325,
          476.95699388432735,
          355.22581494713717,
          444.1410078269438,
          340.58619281269404,
          310.7466004832851,
          447.2390508703661,
          431.97592954728356,
          362.879901505543,
          359.01271503365746
         ],
         "yaxis": "y3"
        },
        {
         "line": {
          "color": "darkblue",
          "dash": "dash"
         },
         "name": "Top Avg Gold",
         "type": "scatter",
         "x": [
          "Game 1",
          "Game 2",
          "Game 3",
          "Game 4",
          "Game 5",
          "Game 6",
          "Game 7",
          "Game 8",
          "Game 9",
          "Game 10"
         ],
         "xaxis": "x3",
         "y": [
          398.2689843436052,
          398.2689843436052,
          398.2689843436052,
          398.2689843436052,
          398.2689843436052,
          398.2689843436052,
          398.2689843436052,
          398.2689843436052,
          398.2689843436052,
          398.2689843436052
         ],
         "yaxis": "y3"
        },
        {
         "marker": {
          "color": "indianred"
         },
         "name": "Damage/Min",
         "type": "bar",
         "x": [
          "Game 1",
          "Game 2",
          "Game 3",
          "Game 4",
          "Game 5",
          "Game 6",
          "Game 7",
          "Game 8",
          "Game 9",
          "Game 10"
         ],
         "xaxis": "x4",
         "y": [
          902.9936834404851,
          1493.0951394848717,
          534.8659110046885,
          443.126255644559,
          572.3083189798182,
          529.9033957690915,
          741.8357846332967,
          528.6247612930605,
          433.72586063246604,
          902.3764193921263
         ],
         "yaxis": "y4"
        },
        {
         "line": {
          "color": "black",
          "dash": "dash"
         },
         "name": "Top Avg Damage",
         "type": "scatter",
         "x": [
          "Game 1",
          "Game 2",
          "Game 3",
          "Game 4",
          "Game 5",
          "Game 6",
          "Game 7",
          "Game 8",
          "Game 9",
          "Game 10"
         ],
         "xaxis": "x4",
         "y": [
          659.2192216246698,
          659.2192216246698,
          659.2192216246698,
          659.2192216246698,
          659.2192216246698,
          659.2192216246698,
          659.2192216246698,
          659.2192216246698,
          659.2192216246698,
          659.2192216246698
         ],
         "yaxis": "y4"
        }
       ],
       "layout": {
        "annotations": [
         {
          "font": {
           "size": 16
          },
          "showarrow": false,
          "text": "KDA vs Top Avg",
          "x": 0.225,
          "xanchor": "center",
          "xref": "paper",
          "y": 1,
          "yanchor": "bottom",
          "yref": "paper"
         },
         {
          "font": {
           "size": 16
          },
          "showarrow": false,
          "text": "CS per Min vs Top Avg",
          "x": 0.775,
          "xanchor": "center",
          "xref": "paper",
          "y": 1,
          "yanchor": "bottom",
          "yref": "paper"
         },
         {
          "font": {
           "size": 16
          },
          "showarrow": false,
          "text": "Gold per Min vs Top Avg",
          "x": 0.225,
          "xanchor": "center",
          "xref": "paper",
          "y": 0.375,
          "yanchor": "bottom",
          "yref": "paper"
         },
         {
          "font": {
           "size": 16
          },
          "showarrow": false,
          "text": "Damage per Min vs Top Avg",
          "x": 0.775,
          "xanchor": "center",
          "xref": "paper",
          "y": 0.375,
          "yanchor": "bottom",
          "yref": "paper"
         }
        ],
        "height": 800,
        "showlegend": false,
        "template": {
         "data": {
          "bar": [
           {
            "error_x": {
             "color": "#2a3f5f"
            },
            "error_y": {
             "color": "#2a3f5f"
            },
            "marker": {
             "line": {
              "color": "white",
              "width": 0.5
             },
             "pattern": {
              "fillmode": "overlay",
              "size": 10,
              "solidity": 0.2
             }
            },
            "type": "bar"
           }
          ],
          "barpolar": [
           {
            "marker": {
             "line": {
              "color": "white",
              "width": 0.5
             },
             "pattern": {
              "fillmode": "overlay",
              "size": 10,
              "solidity": 0.2
             }
            },
            "type": "barpolar"
           }
          ],
          "carpet": [
           {
            "aaxis": {
             "endlinecolor": "#2a3f5f",
             "gridcolor": "#C8D4E3",
             "linecolor": "#C8D4E3",
             "minorgridcolor": "#C8D4E3",
             "startlinecolor": "#2a3f5f"
            },
            "baxis": {
             "endlinecolor": "#2a3f5f",
             "gridcolor": "#C8D4E3",
             "linecolor": "#C8D4E3",
             "minorgridcolor": "#C8D4E3",
             "startlinecolor": "#2a3f5f"
            },
            "type": "carpet"
           }
          ],
          "choropleth": [
           {
            "colorbar": {
             "outlinewidth": 0,
             "ticks": ""
            },
            "type": "choropleth"
           }
          ],
          "contour": [
           {
            "colorbar": {
             "outlinewidth": 0,
             "ticks": ""
            },
            "colorscale": [
             [
              0,
              "#0d0887"
             ],
             [
              0.1111111111111111,
              "#46039f"
             ],
             [
              0.2222222222222222,
              "#7201a8"
             ],
             [
              0.3333333333333333,
              "#9c179e"
             ],
             [
              0.4444444444444444,
              "#bd3786"
             ],
             [
              0.5555555555555556,
              "#d8576b"
             ],
             [
              0.6666666666666666,
              "#ed7953"
             ],
             [
              0.7777777777777778,
              "#fb9f3a"
             ],
             [
              0.8888888888888888,
              "#fdca26"
             ],
             [
              1,
              "#f0f921"
             ]
            ],
            "type": "contour"
           }
          ],
          "contourcarpet": [
           {
            "colorbar": {
             "outlinewidth": 0,
             "ticks": ""
            },
            "type": "contourcarpet"
           }
          ],
          "heatmap": [
           {
            "colorbar": {
             "outlinewidth": 0,
             "ticks": ""
            },
            "colorscale": [
             [
              0,
              "#0d0887"
             ],
             [
              0.1111111111111111,
              "#46039f"
             ],
             [
              0.2222222222222222,
              "#7201a8"
             ],
             [
              0.3333333333333333,
              "#9c179e"
             ],
             [
              0.4444444444444444,
              "#bd3786"
             ],
             [
              0.5555555555555556,
              "#d8576b"
             ],
             [
              0.6666666666666666,
              "#ed7953"
             ],
             [
              0.7777777777777778,
              "#fb9f3a"
             ],
             [
              0.8888888888888888,
              "#fdca26"
             ],
             [
              1,
              "#f0f921"
             ]
            ],
            "type": "heatmap"
           }
          ],
          "heatmapgl": [
           {
            "colorbar": {
             "outlinewidth": 0,
             "ticks": ""
            },
            "colorscale": [
             [
              0,
              "#0d0887"
             ],
             [
              0.1111111111111111,
              "#46039f"
             ],
             [
              0.2222222222222222,
              "#7201a8"
             ],
             [
              0.3333333333333333,
              "#9c179e"
             ],
             [
              0.4444444444444444,
              "#bd3786"
             ],
             [
              0.5555555555555556,
              "#d8576b"
             ],
             [
              0.6666666666666666,
              "#ed7953"
             ],
             [
              0.7777777777777778,
              "#fb9f3a"
             ],
             [
              0.8888888888888888,
              "#fdca26"
             ],
             [
              1,
              "#f0f921"
             ]
            ],
            "type": "heatmapgl"
           }
          ],
          "histogram": [
           {
            "marker": {
             "pattern": {
              "fillmode": "overlay",
              "size": 10,
              "solidity": 0.2
             }
            },
            "type": "histogram"
           }
          ],
          "histogram2d": [
           {
            "colorbar": {
             "outlinewidth": 0,
             "ticks": ""
            },
            "colorscale": [
             [
              0,
              "#0d0887"
             ],
             [
              0.1111111111111111,
              "#46039f"
             ],
             [
              0.2222222222222222,
              "#7201a8"
             ],
             [
              0.3333333333333333,
              "#9c179e"
             ],
             [
              0.4444444444444444,
              "#bd3786"
             ],
             [
              0.5555555555555556,
              "#d8576b"
             ],
             [
              0.6666666666666666,
              "#ed7953"
             ],
             [
              0.7777777777777778,
              "#fb9f3a"
             ],
             [
              0.8888888888888888,
              "#fdca26"
             ],
             [
              1,
              "#f0f921"
             ]
            ],
            "type": "histogram2d"
           }
          ],
          "histogram2dcontour": [
           {
            "colorbar": {
             "outlinewidth": 0,
             "ticks": ""
            },
            "colorscale": [
             [
              0,
              "#0d0887"
             ],
             [
              0.1111111111111111,
              "#46039f"
             ],
             [
              0.2222222222222222,
              "#7201a8"
             ],
             [
              0.3333333333333333,
              "#9c179e"
             ],
             [
              0.4444444444444444,
              "#bd3786"
             ],
             [
              0.5555555555555556,
              "#d8576b"
             ],
             [
              0.6666666666666666,
              "#ed7953"
             ],
             [
              0.7777777777777778,
              "#fb9f3a"
             ],
             [
              0.8888888888888888,
              "#fdca26"
             ],
             [
              1,
              "#f0f921"
             ]
            ],
            "type": "histogram2dcontour"
           }
          ],
          "mesh3d": [
           {
            "colorbar": {
             "outlinewidth": 0,
             "ticks": ""
            },
            "type": "mesh3d"
           }
          ],
          "parcoords": [
           {
            "line": {
             "colorbar": {
              "outlinewidth": 0,
              "ticks": ""
             }
            },
            "type": "parcoords"
           }
          ],
          "pie": [
           {
            "automargin": true,
            "type": "pie"
           }
          ],
          "scatter": [
           {
            "fillpattern": {
             "fillmode": "overlay",
             "size": 10,
             "solidity": 0.2
            },
            "type": "scatter"
           }
          ],
          "scatter3d": [
           {
            "line": {
             "colorbar": {
              "outlinewidth": 0,
              "ticks": ""
             }
            },
            "marker": {
             "colorbar": {
              "outlinewidth": 0,
              "ticks": ""
             }
            },
            "type": "scatter3d"
           }
          ],
          "scattercarpet": [
           {
            "marker": {
             "colorbar": {
              "outlinewidth": 0,
              "ticks": ""
             }
            },
            "type": "scattercarpet"
           }
          ],
          "scattergeo": [
           {
            "marker": {
             "colorbar": {
              "outlinewidth": 0,
              "ticks": ""
             }
            },
            "type": "scattergeo"
           }
          ],
          "scattergl": [
           {
            "marker": {
             "colorbar": {
              "outlinewidth": 0,
              "ticks": ""
             }
            },
            "type": "scattergl"
           }
          ],
          "scattermapbox": [
           {
            "marker": {
             "colorbar": {
              "outlinewidth": 0,
              "ticks": ""
             }
            },
            "type": "scattermapbox"
           }
          ],
          "scatterpolar": [
           {
            "marker": {
             "colorbar": {
              "outlinewidth": 0,
              "ticks": ""
             }
            },
            "type": "scatterpolar"
           }
          ],
          "scatterpolargl": [
           {
            "marker": {
             "colorbar": {
              "outlinewidth": 0,
              "ticks": ""
             }
            },
            "type": "scatterpolargl"
           }
          ],
          "scatterternary": [
           {
            "marker": {
             "colorbar": {
              "outlinewidth": 0,
              "ticks": ""
             }
            },
            "type": "scatterternary"
           }
          ],
          "surface": [
           {
            "colorbar": {
             "outlinewidth": 0,
             "ticks": ""
            },
            "colorscale": [
             [
              0,
              "#0d0887"
             ],
             [
              0.1111111111111111,
              "#46039f"
             ],
             [
              0.2222222222222222,
              "#7201a8"
             ],
             [
              0.3333333333333333,
              "#9c179e"
             ],
             [
              0.4444444444444444,
              "#bd3786"
             ],
             [
              0.5555555555555556,
              "#d8576b"
             ],
             [
              0.6666666666666666,
              "#ed7953"
             ],
             [
              0.7777777777777778,
              "#fb9f3a"
             ],
             [
              0.8888888888888888,
              "#fdca26"
             ],
             [
              1,
              "#f0f921"
             ]
            ],
            "type": "surface"
           }
          ],
          "table": [
           {
            "cells": {
             "fill": {
              "color": "#EBF0F8"
             },
             "line": {
              "color": "white"
             }
            },
            "header": {
             "fill": {
              "color": "#C8D4E3"
             },
             "line": {
              "color": "white"
             }
            },
            "type": "table"
           }
          ]
         },
         "layout": {
          "annotationdefaults": {
           "arrowcolor": "#2a3f5f",
           "arrowhead": 0,
           "arrowwidth": 1
          },
          "autotypenumbers": "strict",
          "coloraxis": {
           "colorbar": {
            "outlinewidth": 0,
            "ticks": ""
           }
          },
          "colorscale": {
           "diverging": [
            [
             0,
             "#8e0152"
            ],
            [
             0.1,
             "#c51b7d"
            ],
            [
             0.2,
             "#de77ae"
            ],
            [
             0.3,
             "#f1b6da"
            ],
            [
             0.4,
             "#fde0ef"
            ],
            [
             0.5,
             "#f7f7f7"
            ],
            [
             0.6,
             "#e6f5d0"
            ],
            [
             0.7,
             "#b8e186"
            ],
            [
             0.8,
             "#7fbc41"
            ],
            [
             0.9,
             "#4d9221"
            ],
            [
             1,
             "#276419"
            ]
           ],
           "sequential": [
            [
             0,
             "#0d0887"
            ],
            [
             0.1111111111111111,
             "#46039f"
            ],
            [
             0.2222222222222222,
             "#7201a8"
            ],
            [
             0.3333333333333333,
             "#9c179e"
            ],
            [
             0.4444444444444444,
             "#bd3786"
            ],
            [
             0.5555555555555556,
             "#d8576b"
            ],
            [
             0.6666666666666666,
             "#ed7953"
            ],
            [
             0.7777777777777778,
             "#fb9f3a"
            ],
            [
             0.8888888888888888,
             "#fdca26"
            ],
            [
             1,
             "#f0f921"
            ]
           ],
           "sequentialminus": [
            [
             0,
             "#0d0887"
            ],
            [
             0.1111111111111111,
             "#46039f"
            ],
            [
             0.2222222222222222,
             "#7201a8"
            ],
            [
             0.3333333333333333,
             "#9c179e"
            ],
            [
             0.4444444444444444,
             "#bd3786"
            ],
            [
             0.5555555555555556,
             "#d8576b"
            ],
            [
             0.6666666666666666,
             "#ed7953"
            ],
            [
             0.7777777777777778,
             "#fb9f3a"
            ],
            [
             0.8888888888888888,
             "#fdca26"
            ],
            [
             1,
             "#f0f921"
            ]
           ]
          },
          "colorway": [
           "#636efa",
           "#EF553B",
           "#00cc96",
           "#ab63fa",
           "#FFA15A",
           "#19d3f3",
           "#FF6692",
           "#B6E880",
           "#FF97FF",
           "#FECB52"
          ],
          "font": {
           "color": "#2a3f5f"
          },
          "geo": {
           "bgcolor": "white",
           "lakecolor": "white",
           "landcolor": "white",
           "showlakes": true,
           "showland": true,
           "subunitcolor": "#C8D4E3"
          },
          "hoverlabel": {
           "align": "left"
          },
          "hovermode": "closest",
          "mapbox": {
           "style": "light"
          },
          "paper_bgcolor": "white",
          "plot_bgcolor": "white",
          "polar": {
           "angularaxis": {
            "gridcolor": "#EBF0F8",
            "linecolor": "#EBF0F8",
            "ticks": ""
           },
           "bgcolor": "white",
           "radialaxis": {
            "gridcolor": "#EBF0F8",
            "linecolor": "#EBF0F8",
            "ticks": ""
           }
          },
          "scene": {
           "xaxis": {
            "backgroundcolor": "white",
            "gridcolor": "#DFE8F3",
            "gridwidth": 2,
            "linecolor": "#EBF0F8",
            "showbackground": true,
            "ticks": "",
            "zerolinecolor": "#EBF0F8"
           },
           "yaxis": {
            "backgroundcolor": "white",
            "gridcolor": "#DFE8F3",
            "gridwidth": 2,
            "linecolor": "#EBF0F8",
            "showbackground": true,
            "ticks": "",
            "zerolinecolor": "#EBF0F8"
           },
           "zaxis": {
            "backgroundcolor": "white",
            "gridcolor": "#DFE8F3",
            "gridwidth": 2,
            "linecolor": "#EBF0F8",
            "showbackground": true,
            "ticks": "",
            "zerolinecolor": "#EBF0F8"
           }
          },
          "shapedefaults": {
           "line": {
            "color": "#2a3f5f"
           }
          },
          "ternary": {
           "aaxis": {
            "gridcolor": "#DFE8F3",
            "linecolor": "#A2B1C6",
            "ticks": ""
           },
           "baxis": {
            "gridcolor": "#DFE8F3",
            "linecolor": "#A2B1C6",
            "ticks": ""
           },
           "bgcolor": "white",
           "caxis": {
            "gridcolor": "#DFE8F3",
            "linecolor": "#A2B1C6",
            "ticks": ""
           }
          },
          "title": {
           "x": 0.05
          },
          "xaxis": {
           "automargin": true,
           "gridcolor": "#EBF0F8",
           "linecolor": "#EBF0F8",
           "ticks": "",
           "title": {
            "standoff": 15
           },
           "zerolinecolor": "#EBF0F8",
           "zerolinewidth": 2
          },
          "yaxis": {
           "automargin": true,
           "gridcolor": "#EBF0F8",
           "linecolor": "#EBF0F8",
           "ticks": "",
           "title": {
            "standoff": 15
           },
           "zerolinecolor": "#EBF0F8",
           "zerolinewidth": 2
          }
         }
        },
        "title": {
         "text": "Recent 10 Games Comparison (KDA / CS / Gold / Damage)"
        },
        "xaxis": {
         "anchor": "y",
         "domain": [
          0,
          0.45
         ],
         "title": {
          "text": "Game"
         }
        },
        "xaxis2": {
         "anchor": "y2",
         "domain": [
          0.55,
          1
         ],
         "title": {
          "text": "Game"
         }
        },
        "xaxis3": {
         "anchor": "y3",
         "domain": [
          0,
          0.45
         ],
         "title": {
          "text": "Game"
         }
        },
        "xaxis4": {
         "anchor": "y4",
         "domain": [
          0.55,
          1
         ],
         "title": {
          "text": "Game"
         }
        },
        "yaxis": {
         "anchor": "x",
         "domain": [
          0.625,
          1
         ],
         "title": {
          "text": "KDA"
         }
        },
        "yaxis2": {
         "anchor": "x2",
         "domain": [
          0.625,
          1
         ],
         "title": {
          "text": "CS/Min"
         }
        },
        "yaxis3": {
         "anchor": "x3",
         "domain": [
          0,
          0.375
         ],
         "title": {
          "text": "Gold/Min"
         }
        },
        "yaxis4": {
         "anchor": "x4",
         "domain": [
          0,
          0.375
         ],
         "title": {
          "text": "Damage/Min"
         }
        }
       }
      }
     },
     "metadata": {},
     "output_type": "display_data"
    }
   ],
   "source": [
    "from plotly.subplots import make_subplots\n",
    "import plotly.graph_objects as go\n",
    "\n",
    "# 경기 10개, x축 라벨\n",
    "x_labels = [f\"Game {i+1}\" for i in range(10)]\n",
    "\n",
    "# 데이터 준비\n",
    "user_games = merged_df[(merged_df[\"puuid\"] == target_puuid)].copy()\n",
    "user_games = user_games.sort_values(\"game_id\", ascending=False).head(10)\n",
    "\n",
    "\n",
    "def fill_10(values):\n",
    "    return values.tolist() + [0] * (10 - len(values))\n",
    "\n",
    "\n",
    "kda_values = fill_10(user_games[\"KDA\"])\n",
    "cs_values = fill_10(user_games[\"cs_per_min\"])\n",
    "gold_values = fill_10(user_games[\"gold_per_min\"])\n",
    "damage_values = fill_10(user_games[\"damage_per_min\"])\n",
    "\n",
    "# 상위 유저 평균값\n",
    "top_avg_kda = merged_df[merged_df[\"is_top1000\"] == True][\"KDA\"].mean()\n",
    "top_avg_cs = merged_df[merged_df[\"is_top1000\"] == True][\"cs_per_min\"].mean()\n",
    "top_avg_gold = merged_df[merged_df[\"is_top1000\"] == True][\"gold_per_min\"].mean()\n",
    "top_avg_damage = merged_df[merged_df[\"is_top1000\"] == True][\"damage_per_min\"].mean()\n",
    "\n",
    "# subplot 구성\n",
    "fig = make_subplots(\n",
    "    rows=2,\n",
    "    cols=2,\n",
    "    subplot_titles=(\n",
    "        \"KDA vs Top Avg\",\n",
    "        \"CS per Min vs Top Avg\",\n",
    "        \"Gold per Min vs Top Avg\",\n",
    "        \"Damage per Min vs Top Avg\",\n",
    "    ),\n",
    ")\n",
    "\n",
    "# (1,1) KDA\n",
    "fig.add_trace(\n",
    "    go.Bar(x=x_labels, y=kda_values, name=\"KDA\", marker_color=\"royalblue\"), row=1, col=1\n",
    ")\n",
    "fig.add_trace(\n",
    "    go.Scatter(\n",
    "        x=x_labels,\n",
    "        y=[top_avg_kda] * 10,\n",
    "        name=\"Top Avg KDA\",\n",
    "        line=dict(color=\"red\", dash=\"dash\"),\n",
    "    ),\n",
    "    row=1,\n",
    "    col=1,\n",
    ")\n",
    "\n",
    "# (1,2) CS/Min\n",
    "fig.add_trace(\n",
    "    go.Bar(x=x_labels, y=cs_values, name=\"CS/Min\", marker_color=\"seagreen\"),\n",
    "    row=1,\n",
    "    col=2,\n",
    ")\n",
    "fig.add_trace(\n",
    "    go.Scatter(\n",
    "        x=x_labels,\n",
    "        y=[top_avg_cs] * 10,\n",
    "        name=\"Top Avg CS\",\n",
    "        line=dict(color=\"orange\", dash=\"dash\"),\n",
    "    ),\n",
    "    row=1,\n",
    "    col=2,\n",
    ")\n",
    "\n",
    "# (2,1) Gold/Min\n",
    "fig.add_trace(\n",
    "    go.Bar(x=x_labels, y=gold_values, name=\"Gold/Min\", marker_color=\"goldenrod\"),\n",
    "    row=2,\n",
    "    col=1,\n",
    ")\n",
    "fig.add_trace(\n",
    "    go.Scatter(\n",
    "        x=x_labels,\n",
    "        y=[top_avg_gold] * 10,\n",
    "        name=\"Top Avg Gold\",\n",
    "        line=dict(color=\"darkblue\", dash=\"dash\"),\n",
    "    ),\n",
    "    row=2,\n",
    "    col=1,\n",
    ")\n",
    "\n",
    "# (2,2) Damage/Min\n",
    "fig.add_trace(\n",
    "    go.Bar(x=x_labels, y=damage_values, name=\"Damage/Min\", marker_color=\"indianred\"),\n",
    "    row=2,\n",
    "    col=2,\n",
    ")\n",
    "fig.add_trace(\n",
    "    go.Scatter(\n",
    "        x=x_labels,\n",
    "        y=[top_avg_damage] * 10,\n",
    "        name=\"Top Avg Damage\",\n",
    "        line=dict(color=\"black\", dash=\"dash\"),\n",
    "    ),\n",
    "    row=2,\n",
    "    col=2,\n",
    ")\n",
    "\n",
    "# 전체 레이아웃 설정\n",
    "fig.update_layout(\n",
    "    title_text=\"Recent 10 Games Comparison (KDA / CS / Gold / Damage)\",\n",
    "    template=\"plotly_white\",\n",
    "    height=800,\n",
    "    showlegend=False,\n",
    ")\n",
    "\n",
    "# 개별 축 설정\n",
    "fig.update_xaxes(title_text=\"Game\", row=1, col=1)\n",
    "fig.update_yaxes(title_text=\"KDA\", row=1, col=1)\n",
    "\n",
    "fig.update_xaxes(title_text=\"Game\", row=1, col=2)\n",
    "fig.update_yaxes(title_text=\"CS/Min\", row=1, col=2)\n",
    "\n",
    "fig.update_xaxes(title_text=\"Game\", row=2, col=1)\n",
    "fig.update_yaxes(title_text=\"Gold/Min\", row=2, col=1)\n",
    "\n",
    "fig.update_xaxes(title_text=\"Game\", row=2, col=2)\n",
    "fig.update_yaxes(title_text=\"Damage/Min\", row=2, col=2)\n",
    "\n",
    "fig.show()"
   ]
  },
  {
   "cell_type": "markdown",
   "id": "466aca07",
   "metadata": {},
   "source": [
    "### 유사도 순 정렬된 테이블 만들기"
   ]
  },
  {
   "cell_type": "code",
   "execution_count": 33,
   "id": "5b179931",
   "metadata": {},
   "outputs": [
    {
     "data": {
      "text/html": [
       "<div>\n",
       "<style scoped>\n",
       "    .dataframe tbody tr th:only-of-type {\n",
       "        vertical-align: middle;\n",
       "    }\n",
       "\n",
       "    .dataframe tbody tr th {\n",
       "        vertical-align: top;\n",
       "    }\n",
       "\n",
       "    .dataframe thead th {\n",
       "        text-align: right;\n",
       "    }\n",
       "</style>\n",
       "<table border=\"1\" class=\"dataframe\">\n",
       "  <thead>\n",
       "    <tr style=\"text-align: right;\">\n",
       "      <th></th>\n",
       "      <th>puuid</th>\n",
       "      <th>KDA</th>\n",
       "      <th>cs_per_min</th>\n",
       "      <th>gold_per_min</th>\n",
       "      <th>similarity</th>\n",
       "    </tr>\n",
       "  </thead>\n",
       "  <tbody>\n",
       "    <tr>\n",
       "      <th>0</th>\n",
       "      <td>N8s2Toz0lAW-qfSH3A0NufmmkZeVXQoqKYMDedmESurz6n...</td>\n",
       "      <td>3.333333</td>\n",
       "      <td>8.574889</td>\n",
       "      <td>517.611504</td>\n",
       "      <td>0.960658</td>\n",
       "    </tr>\n",
       "    <tr>\n",
       "      <th>1</th>\n",
       "      <td>JkAtetPeV8eLH-GNF14_7Z96cIMbONg0x-7yil5ZrhqURu...</td>\n",
       "      <td>5.166667</td>\n",
       "      <td>8.571203</td>\n",
       "      <td>519.099380</td>\n",
       "      <td>0.924943</td>\n",
       "    </tr>\n",
       "    <tr>\n",
       "      <th>2</th>\n",
       "      <td>_v3N7CJjg-9RvLsJjD-ciWb4ZtXdigRT2miD8SYenA7wnK...</td>\n",
       "      <td>3.666667</td>\n",
       "      <td>6.632733</td>\n",
       "      <td>471.255647</td>\n",
       "      <td>0.917098</td>\n",
       "    </tr>\n",
       "    <tr>\n",
       "      <th>3</th>\n",
       "      <td>0S7Qb-aNl4ZarGy2KldZFAAN4qum5qqCeGLJDv4vUn-d2V...</td>\n",
       "      <td>10.000000</td>\n",
       "      <td>6.606017</td>\n",
       "      <td>591.492586</td>\n",
       "      <td>0.912967</td>\n",
       "    </tr>\n",
       "    <tr>\n",
       "      <th>4</th>\n",
       "      <td>znTmuVKGw2_g_dApzVG2sId1sO0scMTJeeXryiMC-uNysp...</td>\n",
       "      <td>1.600000</td>\n",
       "      <td>8.204457</td>\n",
       "      <td>472.212077</td>\n",
       "      <td>0.900781</td>\n",
       "    </tr>\n",
       "    <tr>\n",
       "      <th>5</th>\n",
       "      <td>EVMY5lU8NxM93WsfJe1FH5irgp_daSX36OzDqSLmhoycEu...</td>\n",
       "      <td>3.400000</td>\n",
       "      <td>8.544045</td>\n",
       "      <td>474.748594</td>\n",
       "      <td>0.900137</td>\n",
       "    </tr>\n",
       "    <tr>\n",
       "      <th>6</th>\n",
       "      <td>BMLYrja7g84tXOAYN6an9UVxswRCySLhffkA_x8VKlFi-s...</td>\n",
       "      <td>3.750000</td>\n",
       "      <td>7.966532</td>\n",
       "      <td>496.677442</td>\n",
       "      <td>0.898521</td>\n",
       "    </tr>\n",
       "    <tr>\n",
       "      <th>7</th>\n",
       "      <td>mkuS-q15u1Xgel-8i20FgzR0qO16_5dV3IdJOiu6rGtQIm...</td>\n",
       "      <td>4.400000</td>\n",
       "      <td>8.686750</td>\n",
       "      <td>496.346472</td>\n",
       "      <td>0.892245</td>\n",
       "    </tr>\n",
       "    <tr>\n",
       "      <th>8</th>\n",
       "      <td>7UDpSRt0mNr-aRORdAY9-LXLEexD2goynSIcH63l2jRdYg...</td>\n",
       "      <td>7.250000</td>\n",
       "      <td>7.296867</td>\n",
       "      <td>525.751860</td>\n",
       "      <td>0.891860</td>\n",
       "    </tr>\n",
       "    <tr>\n",
       "      <th>9</th>\n",
       "      <td>Tjx_NecuU07AaxNwLyhT7sOX6kYjLTtSnwteY6g_jrpeya...</td>\n",
       "      <td>3.166667</td>\n",
       "      <td>9.751682</td>\n",
       "      <td>525.973625</td>\n",
       "      <td>0.890804</td>\n",
       "    </tr>\n",
       "  </tbody>\n",
       "</table>\n",
       "</div>"
      ],
      "text/plain": [
       "                                               puuid        KDA  cs_per_min  \\\n",
       "0  N8s2Toz0lAW-qfSH3A0NufmmkZeVXQoqKYMDedmESurz6n...   3.333333    8.574889   \n",
       "1  JkAtetPeV8eLH-GNF14_7Z96cIMbONg0x-7yil5ZrhqURu...   5.166667    8.571203   \n",
       "2  _v3N7CJjg-9RvLsJjD-ciWb4ZtXdigRT2miD8SYenA7wnK...   3.666667    6.632733   \n",
       "3  0S7Qb-aNl4ZarGy2KldZFAAN4qum5qqCeGLJDv4vUn-d2V...  10.000000    6.606017   \n",
       "4  znTmuVKGw2_g_dApzVG2sId1sO0scMTJeeXryiMC-uNysp...   1.600000    8.204457   \n",
       "5  EVMY5lU8NxM93WsfJe1FH5irgp_daSX36OzDqSLmhoycEu...   3.400000    8.544045   \n",
       "6  BMLYrja7g84tXOAYN6an9UVxswRCySLhffkA_x8VKlFi-s...   3.750000    7.966532   \n",
       "7  mkuS-q15u1Xgel-8i20FgzR0qO16_5dV3IdJOiu6rGtQIm...   4.400000    8.686750   \n",
       "8  7UDpSRt0mNr-aRORdAY9-LXLEexD2goynSIcH63l2jRdYg...   7.250000    7.296867   \n",
       "9  Tjx_NecuU07AaxNwLyhT7sOX6kYjLTtSnwteY6g_jrpeya...   3.166667    9.751682   \n",
       "\n",
       "   gold_per_min  similarity  \n",
       "0    517.611504    0.960658  \n",
       "1    519.099380    0.924943  \n",
       "2    471.255647    0.917098  \n",
       "3    591.492586    0.912967  \n",
       "4    472.212077    0.900781  \n",
       "5    474.748594    0.900137  \n",
       "6    496.677442    0.898521  \n",
       "7    496.346472    0.892245  \n",
       "8    525.751860    0.891860  \n",
       "9    525.973625    0.890804  "
      ]
     },
     "metadata": {},
     "output_type": "display_data"
    }
   ],
   "source": [
    "import pandas as pd\n",
    "from IPython.display import display\n",
    "\n",
    "display(\n",
    "    plot_df[plot_df[\"label\"] == \"Top\"]\n",
    "    .sort_values(\"similarity\", ascending=False)[\n",
    "        [\"puuid\", \"KDA\", \"cs_per_min\", \"gold_per_min\", \"similarity\"]\n",
    "    ]\n",
    ")\n"
   ]
  },
  {
   "cell_type": "code",
   "execution_count": null,
   "id": "1f53f225",
   "metadata": {},
   "outputs": [],
   "source": []
  }
 ],
 "metadata": {
  "kernelspec": {
   "display_name": "Python 3",
   "language": "python",
   "name": "python3"
  },
  "language_info": {
   "codemirror_mode": {
    "name": "ipython",
    "version": 3
   },
   "file_extension": ".py",
   "mimetype": "text/x-python",
   "name": "python",
   "nbconvert_exporter": "python",
   "pygments_lexer": "ipython3",
   "version": "3.9.13"
  }
 },
 "nbformat": 4,
 "nbformat_minor": 5
}
