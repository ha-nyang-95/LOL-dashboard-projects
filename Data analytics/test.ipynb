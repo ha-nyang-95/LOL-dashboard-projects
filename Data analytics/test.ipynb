{
 "cells": [
  {
   "cell_type": "code",
   "execution_count": 1,
   "id": "b53a1d37",
   "metadata": {},
   "outputs": [],
   "source": [
    "# ! pip install ipympl\n"
   ]
  },
  {
   "cell_type": "code",
   "execution_count": 2,
   "id": "2022f7fc",
   "metadata": {},
   "outputs": [],
   "source": [
    "import pandas as pd\n",
    "import numpy as np\n",
    "from sklearn.preprocessing import StandardScaler\n",
    "from sklearn.metrics.pairwise import cosine_similarity\n",
    "import matplotlib.pyplot as plt\n",
    "import seaborn as sns\n"
   ]
  },
  {
   "cell_type": "markdown",
   "id": "a4872c58",
   "metadata": {},
   "source": [
    "# 1. 데이터 로딩 및 전처리"
   ]
  },
  {
   "cell_type": "code",
   "execution_count": 3,
   "id": "92a062fc",
   "metadata": {},
   "outputs": [],
   "source": [
    "# 예시 경로, 실제 경로로 수정 필요\n",
    "\n",
    "# 게임에 참가한 사람들의 고유 정보\n",
    "participants = pd.read_csv(\"data/top1000/participants.csv\")\n",
    "# 시간 흐름에 따라 변화하는 실시간 스탯 (골드, 딜량 등) \n",
    "participants_frames = pd.read_csv(\"data/top1000/participant_frames.csv\")\n",
    "# 게임 단위의 결과 (승패 등)\n",
    "matches = pd.read_csv(\"data/top1000/matches.csv\")\n",
    "# 킬 이벤트 정보 (누가 누구를 죽였는지)\n",
    "champ_kill = pd.read_csv('data/top1000/events__CHAMPION_KILL.csv')"
   ]
  },
  {
   "cell_type": "code",
   "execution_count": 4,
   "id": "3dd3e3fa",
   "metadata": {},
   "outputs": [],
   "source": [
    "# 가장 마지막 프레임만 사용 (게임 종료 시점 상태)\n",
    "# 게임 종료 시점 기준으로 정보 하나로 묶기\n",
    "latest_frames = participants_frames.sort_values(\"frame_timestamp\").drop_duplicates(\n",
    "    subset=[\"game_id\", \"participant_id\"], keep='last'\n",
    ")\n",
    "\n",
    "merged_df = pd.merge(participants, latest_frames, on=[\"game_id\", \"participant_id\"], how=\"left\")"
   ]
  },
  {
   "cell_type": "code",
   "execution_count": 5,
   "id": "f6b4ad2b",
   "metadata": {},
   "outputs": [
    {
     "data": {
      "text/html": [
       "<div>\n",
       "<style scoped>\n",
       "    .dataframe tbody tr th:only-of-type {\n",
       "        vertical-align: middle;\n",
       "    }\n",
       "\n",
       "    .dataframe tbody tr th {\n",
       "        vertical-align: top;\n",
       "    }\n",
       "\n",
       "    .dataframe thead th {\n",
       "        text-align: right;\n",
       "    }\n",
       "</style>\n",
       "<table border=\"1\" class=\"dataframe\">\n",
       "  <thead>\n",
       "    <tr style=\"text-align: right;\">\n",
       "      <th></th>\n",
       "      <th>game_id</th>\n",
       "      <th>participant_id</th>\n",
       "      <th>puuid</th>\n",
       "      <th>frame_timestamp</th>\n",
       "      <th>current_gold</th>\n",
       "      <th>gold_per_second</th>\n",
       "      <th>jungle_minions_killed</th>\n",
       "      <th>level</th>\n",
       "      <th>minions_killed</th>\n",
       "      <th>time_enemy_spent_controlled</th>\n",
       "      <th>...</th>\n",
       "      <th>physicalDamageDone</th>\n",
       "      <th>physicalDamageDoneToChampions</th>\n",
       "      <th>physicalDamageTaken</th>\n",
       "      <th>totalDamageDone</th>\n",
       "      <th>totalDamageDoneToChampions</th>\n",
       "      <th>totalDamageTaken</th>\n",
       "      <th>trueDamageDone</th>\n",
       "      <th>trueDamageDoneToChampions</th>\n",
       "      <th>trueDamageTaken</th>\n",
       "      <th>end_of_game_result</th>\n",
       "    </tr>\n",
       "  </thead>\n",
       "  <tbody>\n",
       "    <tr>\n",
       "      <th>0</th>\n",
       "      <td>7586549521</td>\n",
       "      <td>1</td>\n",
       "      <td>T2coi9U5HI63yttsRxRgUeQ2xLzedwMv0LWMV_Xtp812gj...</td>\n",
       "      <td>1956361</td>\n",
       "      <td>3780</td>\n",
       "      <td>0</td>\n",
       "      <td>4</td>\n",
       "      <td>18</td>\n",
       "      <td>236</td>\n",
       "      <td>227461</td>\n",
       "      <td>...</td>\n",
       "      <td>194329</td>\n",
       "      <td>25468</td>\n",
       "      <td>29526</td>\n",
       "      <td>221039</td>\n",
       "      <td>38637</td>\n",
       "      <td>35625</td>\n",
       "      <td>26709</td>\n",
       "      <td>13168</td>\n",
       "      <td>3156</td>\n",
       "      <td>GameComplete</td>\n",
       "    </tr>\n",
       "    <tr>\n",
       "      <th>1</th>\n",
       "      <td>7586549521</td>\n",
       "      <td>2</td>\n",
       "      <td>VzxkuEt2Ay_6P_1wY1FajjdMW8ty20cPLb0jmwqAAjA9Ns...</td>\n",
       "      <td>1956361</td>\n",
       "      <td>1597</td>\n",
       "      <td>0</td>\n",
       "      <td>142</td>\n",
       "      <td>17</td>\n",
       "      <td>22</td>\n",
       "      <td>171344</td>\n",
       "      <td>...</td>\n",
       "      <td>179288</td>\n",
       "      <td>21128</td>\n",
       "      <td>32491</td>\n",
       "      <td>251617</td>\n",
       "      <td>26859</td>\n",
       "      <td>44796</td>\n",
       "      <td>65212</td>\n",
       "      <td>2829</td>\n",
       "      <td>2577</td>\n",
       "      <td>GameComplete</td>\n",
       "    </tr>\n",
       "    <tr>\n",
       "      <th>2</th>\n",
       "      <td>7586549521</td>\n",
       "      <td>3</td>\n",
       "      <td>-jMFYAy4ogcmItoiwYmQX7tG2fB59CvKQieQwZqYvcLw1x...</td>\n",
       "      <td>1956361</td>\n",
       "      <td>2454</td>\n",
       "      <td>0</td>\n",
       "      <td>8</td>\n",
       "      <td>17</td>\n",
       "      <td>232</td>\n",
       "      <td>259989</td>\n",
       "      <td>...</td>\n",
       "      <td>7663</td>\n",
       "      <td>1838</td>\n",
       "      <td>21349</td>\n",
       "      <td>206296</td>\n",
       "      <td>37478</td>\n",
       "      <td>31216</td>\n",
       "      <td>7563</td>\n",
       "      <td>1790</td>\n",
       "      <td>3254</td>\n",
       "      <td>GameComplete</td>\n",
       "    </tr>\n",
       "    <tr>\n",
       "      <th>3</th>\n",
       "      <td>7586549521</td>\n",
       "      <td>4</td>\n",
       "      <td>CDtqv-NZS5cmtQI0bsfbxBhq29QlqmwX_YwgG5oW3PkhMm...</td>\n",
       "      <td>1956361</td>\n",
       "      <td>1339</td>\n",
       "      <td>0</td>\n",
       "      <td>16</td>\n",
       "      <td>18</td>\n",
       "      <td>199</td>\n",
       "      <td>130050</td>\n",
       "      <td>...</td>\n",
       "      <td>142170</td>\n",
       "      <td>22574</td>\n",
       "      <td>20998</td>\n",
       "      <td>217726</td>\n",
       "      <td>47278</td>\n",
       "      <td>33657</td>\n",
       "      <td>9483</td>\n",
       "      <td>2649</td>\n",
       "      <td>782</td>\n",
       "      <td>GameComplete</td>\n",
       "    </tr>\n",
       "    <tr>\n",
       "      <th>4</th>\n",
       "      <td>7586549521</td>\n",
       "      <td>5</td>\n",
       "      <td>72aXoGzHe_SjiP1hNKnMXyx_UYND4_HE2j1Awp9E3l6pge...</td>\n",
       "      <td>1956361</td>\n",
       "      <td>1189</td>\n",
       "      <td>50</td>\n",
       "      <td>0</td>\n",
       "      <td>14</td>\n",
       "      <td>15</td>\n",
       "      <td>226379</td>\n",
       "      <td>...</td>\n",
       "      <td>5571</td>\n",
       "      <td>3723</td>\n",
       "      <td>21177</td>\n",
       "      <td>17701</td>\n",
       "      <td>12926</td>\n",
       "      <td>36143</td>\n",
       "      <td>3208</td>\n",
       "      <td>2008</td>\n",
       "      <td>2392</td>\n",
       "      <td>GameComplete</td>\n",
       "    </tr>\n",
       "  </tbody>\n",
       "</table>\n",
       "<p>5 rows × 52 columns</p>\n",
       "</div>"
      ],
      "text/plain": [
       "      game_id  participant_id  \\\n",
       "0  7586549521               1   \n",
       "1  7586549521               2   \n",
       "2  7586549521               3   \n",
       "3  7586549521               4   \n",
       "4  7586549521               5   \n",
       "\n",
       "                                               puuid  frame_timestamp  \\\n",
       "0  T2coi9U5HI63yttsRxRgUeQ2xLzedwMv0LWMV_Xtp812gj...          1956361   \n",
       "1  VzxkuEt2Ay_6P_1wY1FajjdMW8ty20cPLb0jmwqAAjA9Ns...          1956361   \n",
       "2  -jMFYAy4ogcmItoiwYmQX7tG2fB59CvKQieQwZqYvcLw1x...          1956361   \n",
       "3  CDtqv-NZS5cmtQI0bsfbxBhq29QlqmwX_YwgG5oW3PkhMm...          1956361   \n",
       "4  72aXoGzHe_SjiP1hNKnMXyx_UYND4_HE2j1Awp9E3l6pge...          1956361   \n",
       "\n",
       "   current_gold  gold_per_second  jungle_minions_killed  level  \\\n",
       "0          3780                0                      4     18   \n",
       "1          1597                0                    142     17   \n",
       "2          2454                0                      8     17   \n",
       "3          1339                0                     16     18   \n",
       "4          1189               50                      0     14   \n",
       "\n",
       "   minions_killed  time_enemy_spent_controlled  ...  physicalDamageDone  \\\n",
       "0             236                       227461  ...              194329   \n",
       "1              22                       171344  ...              179288   \n",
       "2             232                       259989  ...                7663   \n",
       "3             199                       130050  ...              142170   \n",
       "4              15                       226379  ...                5571   \n",
       "\n",
       "   physicalDamageDoneToChampions  physicalDamageTaken  totalDamageDone  \\\n",
       "0                          25468                29526           221039   \n",
       "1                          21128                32491           251617   \n",
       "2                           1838                21349           206296   \n",
       "3                          22574                20998           217726   \n",
       "4                           3723                21177            17701   \n",
       "\n",
       "   totalDamageDoneToChampions  totalDamageTaken  trueDamageDone  \\\n",
       "0                       38637             35625           26709   \n",
       "1                       26859             44796           65212   \n",
       "2                       37478             31216            7563   \n",
       "3                       47278             33657            9483   \n",
       "4                       12926             36143            3208   \n",
       "\n",
       "   trueDamageDoneToChampions  trueDamageTaken  end_of_game_result  \n",
       "0                      13168             3156        GameComplete  \n",
       "1                       2829             2577        GameComplete  \n",
       "2                       1790             3254        GameComplete  \n",
       "3                       2649              782        GameComplete  \n",
       "4                       2008             2392        GameComplete  \n",
       "\n",
       "[5 rows x 52 columns]"
      ]
     },
     "execution_count": 5,
     "metadata": {},
     "output_type": "execute_result"
    }
   ],
   "source": [
    "# participants, latest_frames, matches 병합\n",
    "\n",
    "merged_df = pd.merge(merged_df, matches[[\"game_id\", \"end_of_game_result\"]], on=\"game_id\", how=\"left\")\n",
    "merged_df.head()"
   ]
  },
  {
   "cell_type": "code",
   "execution_count": 6,
   "id": "eea9ff66",
   "metadata": {},
   "outputs": [
    {
     "data": {
      "text/plain": [
       "Index(['game_id', 'participant_id', 'puuid', 'frame_timestamp', 'current_gold',\n",
       "       'gold_per_second', 'jungle_minions_killed', 'level', 'minions_killed',\n",
       "       'time_enemy_spent_controlled', 'total_gold', 'xp', 'position_x',\n",
       "       'position_y', 'abilityhaste', 'abilitypower', 'armor', 'armorpen',\n",
       "       'armorpenpercent', 'attackdamage', 'attackspeed',\n",
       "       'bonusarmorpenpercent', 'bonusmagicpenpercent', 'ccreduction',\n",
       "       'cooldownreduction', 'health', 'healthmax', 'healthregen', 'lifesteal',\n",
       "       'magicpen', 'magicpenpercent', 'magicresist', 'movementspeed',\n",
       "       'omnivamp', 'physicalvamp', 'power', 'powermax', 'powerregen',\n",
       "       'spellvamp', 'magicDamageDone', 'magicDamageDoneToChampions',\n",
       "       'magicDamageTaken', 'physicalDamageDone',\n",
       "       'physicalDamageDoneToChampions', 'physicalDamageTaken',\n",
       "       'totalDamageDone', 'totalDamageDoneToChampions', 'totalDamageTaken',\n",
       "       'trueDamageDone', 'trueDamageDoneToChampions', 'trueDamageTaken',\n",
       "       'end_of_game_result'],\n",
       "      dtype='object')"
      ]
     },
     "execution_count": 6,
     "metadata": {},
     "output_type": "execute_result"
    }
   ],
   "source": [
    "merged_df.columns"
   ]
  },
  {
   "cell_type": "markdown",
   "id": "bade9f35",
   "metadata": {},
   "source": [
    "## 2. KDA 및 주요 파생 지표 생성"
   ]
  },
  {
   "cell_type": "markdown",
   "id": "6227b0ac",
   "metadata": {},
   "source": [
    "### KDA 계산\n",
    "\n",
    "컬럼 | 의미\n",
    "---- | ----\n",
    "kills | 해당 경기에서 몇 번 킬 했는가\n",
    "deaths | 몇 번 죽었는가\n",
    "assists | 어시스트 수\n",
    "KDA | (킬 + 어시스트) / 데스 (생존 기반 전투 영향력)"
   ]
  },
  {
   "cell_type": "code",
   "execution_count": 7,
   "id": "9d99094f",
   "metadata": {},
   "outputs": [],
   "source": [
    "# kills 수 계산 (킬한 사람 기준)\n",
    "kills = champ_kill.groupby([\"game_id\", \"killer_id\"]).size().reset_index(name=\"kills\")\n",
    "kills.rename(columns={\"killer_id\": \"participant_id\"}, inplace=True)"
   ]
  },
  {
   "cell_type": "code",
   "execution_count": 8,
   "id": "28fc37ad",
   "metadata": {},
   "outputs": [],
   "source": [
    "# deaths 수 계산 (죽은 사람 기준)\n",
    "deaths = champ_kill.groupby([\"game_id\", \"victim_id\"]).size().reset_index(name=\"deaths\")\n",
    "deaths.rename(columns={\"victim_id\": \"participant_id\"}, inplace=True)"
   ]
  },
  {
   "cell_type": "code",
   "execution_count": 9,
   "id": "e36b6eed",
   "metadata": {},
   "outputs": [],
   "source": [
    "# assists 수 계산\n",
    "assist_df = pd.read_csv(\"data/top1000/event_assists.csv\")\n",
    "\n",
    "# 게임 ID + 어시스트 참가자 ID로 그룹화\n",
    "assists = assist_df.groupby([\"game_id\", \"participant_id\"]).size().reset_index(name=\"assists\")\n"
   ]
  },
  {
   "cell_type": "code",
   "execution_count": 10,
   "id": "2ad7d614",
   "metadata": {},
   "outputs": [],
   "source": [
    "# KDA 구하기\n",
    "\n",
    "# 기본 participant list (merged_df)에서 가져오자\n",
    "kda_base = merged_df[[\"game_id\", \"participant_id\", \"puuid\"]].drop_duplicates()\n",
    "\n",
    "# 병합\n",
    "kda_df = (\n",
    "    kda_base\n",
    "    .merge(kills, on=[\"game_id\", \"participant_id\"], how=\"left\")\n",
    "    .merge(deaths, on=[\"game_id\", \"participant_id\"], how=\"left\")\n",
    ")\n",
    "\n",
    "# 어시스트 컬럼 있으면 병합\n",
    "if 'assists' in locals():\n",
    "    kda_df = kda_df.merge(assists, on=[\"game_id\", \"participant_id\"], how=\"left\")\n",
    "\n",
    "# 결측값 0으로 채우기\n",
    "kda_df[[\"kills\", \"deaths\", \"assists\"]] = kda_df[[\"kills\", \"deaths\", \"assists\"]].fillna(0).astype(int)\n",
    "\n",
    "# KDA 계산\n",
    "# 분모가 0이 되면 오류가 나기 때문에, 완벽 생존은 1로 나눈 값을 최대치로 보정\n",
    "kda_df[\"KDA\"] = (kda_df[\"kills\"] + kda_df[\"assists\"]) / kda_df[\"deaths\"].replace(0, 1)\n"
   ]
  },
  {
   "cell_type": "code",
   "execution_count": 11,
   "id": "499d1b79",
   "metadata": {},
   "outputs": [
    {
     "data": {
      "text/html": [
       "<div>\n",
       "<style scoped>\n",
       "    .dataframe tbody tr th:only-of-type {\n",
       "        vertical-align: middle;\n",
       "    }\n",
       "\n",
       "    .dataframe tbody tr th {\n",
       "        vertical-align: top;\n",
       "    }\n",
       "\n",
       "    .dataframe thead th {\n",
       "        text-align: right;\n",
       "    }\n",
       "</style>\n",
       "<table border=\"1\" class=\"dataframe\">\n",
       "  <thead>\n",
       "    <tr style=\"text-align: right;\">\n",
       "      <th></th>\n",
       "      <th>game_id</th>\n",
       "      <th>participant_id</th>\n",
       "      <th>puuid</th>\n",
       "      <th>frame_timestamp</th>\n",
       "      <th>current_gold</th>\n",
       "      <th>gold_per_second</th>\n",
       "      <th>jungle_minions_killed</th>\n",
       "      <th>level</th>\n",
       "      <th>minions_killed</th>\n",
       "      <th>time_enemy_spent_controlled</th>\n",
       "      <th>...</th>\n",
       "      <th>totalDamageDoneToChampions</th>\n",
       "      <th>totalDamageTaken</th>\n",
       "      <th>trueDamageDone</th>\n",
       "      <th>trueDamageDoneToChampions</th>\n",
       "      <th>trueDamageTaken</th>\n",
       "      <th>end_of_game_result</th>\n",
       "      <th>kills</th>\n",
       "      <th>deaths</th>\n",
       "      <th>assists</th>\n",
       "      <th>KDA</th>\n",
       "    </tr>\n",
       "  </thead>\n",
       "  <tbody>\n",
       "    <tr>\n",
       "      <th>0</th>\n",
       "      <td>7586549521</td>\n",
       "      <td>1</td>\n",
       "      <td>T2coi9U5HI63yttsRxRgUeQ2xLzedwMv0LWMV_Xtp812gj...</td>\n",
       "      <td>1956361</td>\n",
       "      <td>3780</td>\n",
       "      <td>0</td>\n",
       "      <td>4</td>\n",
       "      <td>18</td>\n",
       "      <td>236</td>\n",
       "      <td>227461</td>\n",
       "      <td>...</td>\n",
       "      <td>38637</td>\n",
       "      <td>35625</td>\n",
       "      <td>26709</td>\n",
       "      <td>13168</td>\n",
       "      <td>3156</td>\n",
       "      <td>GameComplete</td>\n",
       "      <td>13</td>\n",
       "      <td>3</td>\n",
       "      <td>19</td>\n",
       "      <td>10.666667</td>\n",
       "    </tr>\n",
       "    <tr>\n",
       "      <th>1</th>\n",
       "      <td>7586549521</td>\n",
       "      <td>2</td>\n",
       "      <td>VzxkuEt2Ay_6P_1wY1FajjdMW8ty20cPLb0jmwqAAjA9Ns...</td>\n",
       "      <td>1956361</td>\n",
       "      <td>1597</td>\n",
       "      <td>0</td>\n",
       "      <td>142</td>\n",
       "      <td>17</td>\n",
       "      <td>22</td>\n",
       "      <td>171344</td>\n",
       "      <td>...</td>\n",
       "      <td>26859</td>\n",
       "      <td>44796</td>\n",
       "      <td>65212</td>\n",
       "      <td>2829</td>\n",
       "      <td>2577</td>\n",
       "      <td>GameComplete</td>\n",
       "      <td>12</td>\n",
       "      <td>10</td>\n",
       "      <td>14</td>\n",
       "      <td>2.600000</td>\n",
       "    </tr>\n",
       "    <tr>\n",
       "      <th>2</th>\n",
       "      <td>7586549521</td>\n",
       "      <td>3</td>\n",
       "      <td>-jMFYAy4ogcmItoiwYmQX7tG2fB59CvKQieQwZqYvcLw1x...</td>\n",
       "      <td>1956361</td>\n",
       "      <td>2454</td>\n",
       "      <td>0</td>\n",
       "      <td>8</td>\n",
       "      <td>17</td>\n",
       "      <td>232</td>\n",
       "      <td>259989</td>\n",
       "      <td>...</td>\n",
       "      <td>37478</td>\n",
       "      <td>31216</td>\n",
       "      <td>7563</td>\n",
       "      <td>1790</td>\n",
       "      <td>3254</td>\n",
       "      <td>GameComplete</td>\n",
       "      <td>4</td>\n",
       "      <td>11</td>\n",
       "      <td>19</td>\n",
       "      <td>2.090909</td>\n",
       "    </tr>\n",
       "    <tr>\n",
       "      <th>3</th>\n",
       "      <td>7586549521</td>\n",
       "      <td>4</td>\n",
       "      <td>CDtqv-NZS5cmtQI0bsfbxBhq29QlqmwX_YwgG5oW3PkhMm...</td>\n",
       "      <td>1956361</td>\n",
       "      <td>1339</td>\n",
       "      <td>0</td>\n",
       "      <td>16</td>\n",
       "      <td>18</td>\n",
       "      <td>199</td>\n",
       "      <td>130050</td>\n",
       "      <td>...</td>\n",
       "      <td>47278</td>\n",
       "      <td>33657</td>\n",
       "      <td>9483</td>\n",
       "      <td>2649</td>\n",
       "      <td>782</td>\n",
       "      <td>GameComplete</td>\n",
       "      <td>16</td>\n",
       "      <td>11</td>\n",
       "      <td>15</td>\n",
       "      <td>2.818182</td>\n",
       "    </tr>\n",
       "    <tr>\n",
       "      <th>4</th>\n",
       "      <td>7586549521</td>\n",
       "      <td>5</td>\n",
       "      <td>72aXoGzHe_SjiP1hNKnMXyx_UYND4_HE2j1Awp9E3l6pge...</td>\n",
       "      <td>1956361</td>\n",
       "      <td>1189</td>\n",
       "      <td>50</td>\n",
       "      <td>0</td>\n",
       "      <td>14</td>\n",
       "      <td>15</td>\n",
       "      <td>226379</td>\n",
       "      <td>...</td>\n",
       "      <td>12926</td>\n",
       "      <td>36143</td>\n",
       "      <td>3208</td>\n",
       "      <td>2008</td>\n",
       "      <td>2392</td>\n",
       "      <td>GameComplete</td>\n",
       "      <td>2</td>\n",
       "      <td>15</td>\n",
       "      <td>23</td>\n",
       "      <td>1.666667</td>\n",
       "    </tr>\n",
       "  </tbody>\n",
       "</table>\n",
       "<p>5 rows × 56 columns</p>\n",
       "</div>"
      ],
      "text/plain": [
       "      game_id  participant_id  \\\n",
       "0  7586549521               1   \n",
       "1  7586549521               2   \n",
       "2  7586549521               3   \n",
       "3  7586549521               4   \n",
       "4  7586549521               5   \n",
       "\n",
       "                                               puuid  frame_timestamp  \\\n",
       "0  T2coi9U5HI63yttsRxRgUeQ2xLzedwMv0LWMV_Xtp812gj...          1956361   \n",
       "1  VzxkuEt2Ay_6P_1wY1FajjdMW8ty20cPLb0jmwqAAjA9Ns...          1956361   \n",
       "2  -jMFYAy4ogcmItoiwYmQX7tG2fB59CvKQieQwZqYvcLw1x...          1956361   \n",
       "3  CDtqv-NZS5cmtQI0bsfbxBhq29QlqmwX_YwgG5oW3PkhMm...          1956361   \n",
       "4  72aXoGzHe_SjiP1hNKnMXyx_UYND4_HE2j1Awp9E3l6pge...          1956361   \n",
       "\n",
       "   current_gold  gold_per_second  jungle_minions_killed  level  \\\n",
       "0          3780                0                      4     18   \n",
       "1          1597                0                    142     17   \n",
       "2          2454                0                      8     17   \n",
       "3          1339                0                     16     18   \n",
       "4          1189               50                      0     14   \n",
       "\n",
       "   minions_killed  time_enemy_spent_controlled  ...  \\\n",
       "0             236                       227461  ...   \n",
       "1              22                       171344  ...   \n",
       "2             232                       259989  ...   \n",
       "3             199                       130050  ...   \n",
       "4              15                       226379  ...   \n",
       "\n",
       "   totalDamageDoneToChampions  totalDamageTaken  trueDamageDone  \\\n",
       "0                       38637             35625           26709   \n",
       "1                       26859             44796           65212   \n",
       "2                       37478             31216            7563   \n",
       "3                       47278             33657            9483   \n",
       "4                       12926             36143            3208   \n",
       "\n",
       "   trueDamageDoneToChampions  trueDamageTaken  end_of_game_result  kills  \\\n",
       "0                      13168             3156        GameComplete     13   \n",
       "1                       2829             2577        GameComplete     12   \n",
       "2                       1790             3254        GameComplete      4   \n",
       "3                       2649              782        GameComplete     16   \n",
       "4                       2008             2392        GameComplete      2   \n",
       "\n",
       "   deaths  assists        KDA  \n",
       "0       3       19  10.666667  \n",
       "1      10       14   2.600000  \n",
       "2      11       19   2.090909  \n",
       "3      11       15   2.818182  \n",
       "4      15       23   1.666667  \n",
       "\n",
       "[5 rows x 56 columns]"
      ]
     },
     "execution_count": 11,
     "metadata": {},
     "output_type": "execute_result"
    }
   ],
   "source": [
    "# merged_df에 병합\n",
    "\n",
    "merged_df = pd.merge(merged_df, kda_df[[\"game_id\", \"participant_id\", \"kills\", \"deaths\", \"assists\", \"KDA\"]],\n",
    "                     on=[\"game_id\", \"participant_id\"], how=\"left\")\n",
    "merged_df.head()"
   ]
  },
  {
   "cell_type": "markdown",
   "id": "4b76b1b9",
   "metadata": {},
   "source": [
    "## 유사도 기반 파생 지표 생성 (예시: 시야 점수, 미니언 수, 골드 등)"
   ]
  },
  {
   "cell_type": "markdown",
   "id": "016cf00b",
   "metadata": {},
   "source": [
    "### 성장 및 경제 지표        \n",
    "\n",
    "| 지표 | 의미 | 해석 |  \n",
    "| ---- | ---- | ---- |   \n",
    "| CS/Min | 분당 미니언 수급량 | 파밍 능력 |     \n",
    "| Gold/Min | 분당 골드 | 성장 속도 |        \n",
    "| XP/Min | 분당 경험치 | 레벨 성장 속도 |       \n",
    "\n",
    "\n"
   ]
  },
  {
   "cell_type": "code",
   "execution_count": 12,
   "id": "f410c370",
   "metadata": {},
   "outputs": [],
   "source": [
    "# 성장 및 경제 지표\n",
    "# CS (미니언 + 정글)\n",
    "merged_df[\"cs\"] = merged_df[\"minions_killed\"] + merged_df[\"jungle_minions_killed\"]\n",
    "\n",
    "# 분당 CS\n",
    "merged_df[\"cs_per_min\"] = merged_df[\"cs\"] / (merged_df[\"frame_timestamp\"] / 60000)\n",
    "\n",
    "# 분당 골드\n",
    "merged_df[\"gold_per_min\"] = merged_df[\"total_gold\"] / (merged_df[\"frame_timestamp\"] / 60000)\n",
    "\n",
    "# 분당 경험치\n",
    "merged_df[\"xp_per_min\"] = merged_df[\"xp\"] / (merged_df[\"frame_timestamp\"] / 60000)"
   ]
  },
  {
   "cell_type": "markdown",
   "id": "ddaa2d34",
   "metadata": {},
   "source": [
    "### 전투 능력 지표\n",
    "\n",
    "지표 | 의미 | 해석\n",
    "---- | ---- | ----\n",
    "Damage/Min | 분당 딜량 | 전투 기여도\n",
    "Damage Taken/Min | 분당 받은 피해 | 탱킹 능력 또는 위험 노출\n",
    "KA/Min | 분당 킬 관여 수 | 싸움 참여율 (적극적인지 여부)\n",
    "Damage Efficiency | 피해 교환 비율 | 딜 효율 (딜을 얼마나 잘 넣고 덜 맞았는지)"
   ]
  },
  {
   "cell_type": "code",
   "execution_count": 13,
   "id": "9abb96ef",
   "metadata": {},
   "outputs": [],
   "source": [
    "# 전투력 관련 지표\n",
    "# 분당 피해량\n",
    "merged_df[\"damage_per_min\"] = merged_df[\"totalDamageDoneToChampions\"] / (merged_df[\"frame_timestamp\"] / 60000)\n",
    "\n",
    "# 분당 받은 피해량\n",
    "merged_df[\"damage_taken_per_min\"] = merged_df[\"totalDamageTaken\"] / (merged_df[\"frame_timestamp\"] / 60000)\n",
    "\n",
    "# 분당 킬 관여율 (K+A)/시간\n",
    "merged_df[\"ka_per_min\"] = (merged_df[\"kills\"] + merged_df[\"assists\"]) / (merged_df[\"frame_timestamp\"] / 60000)\n",
    "\n",
    "# 피해 교환 효율 (딜량 / 받은 피해량)\n",
    "merged_df[\"damage_efficiency\"] = merged_df[\"totalDamageDoneToChampions\"] / merged_df[\"totalDamageTaken\"].replace(0, 1)\n"
   ]
  },
  {
   "cell_type": "markdown",
   "id": "51178c99",
   "metadata": {},
   "source": [
    "### 생존력 지표\n",
    "\n",
    "지표 | 의미 | 해석\n",
    "---- | ---- | ----\n",
    "survivability | 생존률 | \n",
    "healthregen_per_min | 분당 체력 재생 | \n"
   ]
  },
  {
   "cell_type": "code",
   "execution_count": 14,
   "id": "347895bd",
   "metadata": {},
   "outputs": [],
   "source": [
    "# 생존력 지표\n",
    "# 생존률 (1 - 데스 / 평균 생존시간) → 데스 적을수록 높음\n",
    "merged_df[\"survivability\"] = 1 / merged_df[\"deaths\"].replace(0, 1)\n",
    "\n",
    "# 분당 체력 재생\n",
    "merged_df[\"healthregen_per_min\"] = merged_df[\"healthregen\"] / (merged_df[\"frame_timestamp\"] / 60000)\n"
   ]
  },
  {
   "cell_type": "markdown",
   "id": "3484cf58",
   "metadata": {},
   "source": [
    "### 시야 장악 지표\n",
    "\n",
    "지표 | 의미 | 해석\n",
    "---- | ---- | ----\n",
    "Wards Placed/Min | 분당 설치 | 시야 제공 적극성\n",
    "Wards Killed/Min | 분당 제거 | 상대 시야 차단 능력\n",
    "Vision Score Est. | 설치+제거 총합 | 시야 장악 종합 평가 (approx.)"
   ]
  },
  {
   "cell_type": "code",
   "execution_count": 15,
   "id": "700a2ec5",
   "metadata": {},
   "outputs": [],
   "source": [
    "# 포지션 제어 / 시야 장악 지표\n",
    "wards_placed = pd.read_csv(\"data/top1000/events__WARD_PLACED.csv\")\n",
    "wards_killed = pd.read_csv(\"data/top1000/events__WARD_KILL.csv\")\n",
    "\n",
    "## 와드 설치 수\n",
    "ward_placed_count = (\n",
    "    wards_placed\n",
    "    .groupby([\"game_id\", \"creator_id\"])\n",
    "    .size()\n",
    "    .reset_index(name=\"wards_placed\")\n",
    "    .rename(columns={\"creator_id\": \"participant_id\"})\n",
    ")\n",
    "\n",
    "## 와드 제거 수\n",
    "ward_kill_count = (\n",
    "    wards_killed\n",
    "    .groupby([\"game_id\", \"killer_id\"])\n",
    "    .size()\n",
    "    .reset_index(name=\"wards_killed\")\n",
    "    .rename(columns={\"killer_id\": \"participant_id\"})\n",
    ")\n",
    "\n",
    "## merged_df에 와드 수 붙이기\n",
    "merged_df = (\n",
    "    merged_df\n",
    "    .merge(ward_placed_count, on=[\"game_id\", \"participant_id\"], how=\"left\")\n",
    "    .merge(ward_kill_count, on=[\"game_id\", \"participant_id\"], how=\"left\")\n",
    ")\n",
    "\n",
    "# 결측치는 0으로 처리\n",
    "merged_df[[\"wards_placed\", \"wards_killed\"]] = merged_df[[\"wards_placed\", \"wards_killed\"]].fillna(0).astype(int)\n",
    "\n",
    "## 시야 제어 파생 지표 추가\n",
    "# 분당 와드 설치\n",
    "merged_df[\"wards_placed_per_min\"] = merged_df[\"wards_placed\"] / (merged_df[\"frame_timestamp\"] / 60000)\n",
    "\n",
    "# 분당 와드 제거\n",
    "merged_df[\"wards_killed_per_min\"] = merged_df[\"wards_killed\"] / (merged_df[\"frame_timestamp\"] / 60000)\n",
    "\n",
    "# 종합 시야 지표 (설치 + 제거)\n",
    "merged_df[\"vision_score_est\"] = merged_df[\"wards_placed\"] + merged_df[\"wards_killed\"]\n"
   ]
  },
  {
   "cell_type": "markdown",
   "id": "933bcb7a",
   "metadata": {},
   "source": [
    "### 종합 능력치 지표\n",
    "기본 아이템 + 능력치 요약"
   ]
  },
  {
   "cell_type": "code",
   "execution_count": 16,
   "id": "fb85c0f3",
   "metadata": {},
   "outputs": [],
   "source": [
    "# 아이템/스탯 관련 종합 능력치\n",
    "# 전체 공격 스탯\n",
    "merged_df[\"offensive_score\"] = merged_df[\"attackdamage\"] + merged_df[\"attackspeed\"]\n",
    "\n",
    "# 전체 방어 스탯\n",
    "merged_df[\"defensive_score\"] = merged_df[\"armor\"] + merged_df[\"magicresist\"]\n",
    "\n",
    "# 전체 마법 능력치\n",
    "merged_df[\"magic_score\"] = merged_df[\"abilitypower\"] + merged_df[\"magicpen\"] + merged_df[\"magicpenpercent\"]\n"
   ]
  },
  {
   "cell_type": "markdown",
   "id": "d4671090",
   "metadata": {},
   "source": [
    "생존 또는 스킬 활용 능력"
   ]
  },
  {
   "cell_type": "code",
   "execution_count": 17,
   "id": "fb7b656b",
   "metadata": {},
   "outputs": [],
   "source": [
    "# 기타 유틸성 스탯\n",
    "# 만능 흡혈 + 물리 흡혈 + 주문 흡혈\n",
    "merged_df[\"total_vamp\"] = merged_df[[\"omnivamp\", \"physicalvamp\", \"spellvamp\"]].sum(axis=1)\n",
    "\n",
    "# 스킬 쿨다운 영향력\n",
    "merged_df[\"haste_score\"] = merged_df[\"cooldownreduction\"] + merged_df[\"abilityhaste\"]\n"
   ]
  },
  {
   "cell_type": "markdown",
   "id": "1dd7cfc0",
   "metadata": {},
   "source": [
    "## 3. 상위 1000명 필터링 및 일반 유저 선택"
   ]
  },
  {
   "cell_type": "code",
   "execution_count": 18,
   "id": "69b83e9c",
   "metadata": {},
   "outputs": [],
   "source": [
    "# # Top 1000 유저 필터링\n",
    "# top1000_puuids = merged_df.sort_values(\"KDA\", ascending=False)[\"puuid\"].unique()[:1000]\n",
    "# merged_df[\"is_top1000\"] = merged_df[\"puuid\"].isin(top1000_puuids)\n"
   ]
  },
  {
   "cell_type": "code",
   "execution_count": 19,
   "id": "e6dde6cd",
   "metadata": {},
   "outputs": [],
   "source": [
    "# # 상위 1000명의 유저와 아닌 유저 분리\n",
    "# df_top = merged_df[merged_df[\"is_top1000\"] == True].copy()\n",
    "# df_user = merged_df[merged_df[\"is_top1000\"] == False].copy()\n"
   ]
  },
  {
   "cell_type": "markdown",
   "id": "88a302bc",
   "metadata": {},
   "source": [
    "# 유사도 분석\n",
    "- 일반 유저와 Top1000 유저 간의 유사도를 수치로 계산\n",
    "- 가장 유사한 상위 10~20명을 추출"
   ]
  },
  {
   "cell_type": "markdown",
   "id": "b3e9ea34",
   "metadata": {},
   "source": [
    "## 유사도 계산용 피처 선택\n",
    "- 유저의 게임 스타일을 구성하는 성능 지표\n",
    "\n",
    "카테고리 | 예시 지표 | 의미\n",
    "------ | ------- | ----\n",
    "성장 | CS/Min, Gold/Min, XP/Min | 파밍 능력\n",
    "전투 | KDA, KA/Min, Damage | 교전 참여도\n",
    "생존 | Survivability, Damage Efficiency | 얼마나 잘 살아남는가\n",
    "능력치 | offensive_score 등 | 스탯 종합\n",
    "시야 | wards_placed_per_min 등 | 맵 컨트롤 능력"
   ]
  },
  {
   "cell_type": "code",
   "execution_count": 20,
   "id": "10c29caf",
   "metadata": {},
   "outputs": [],
   "source": [
    "features = [\n",
    "    \"KDA\", \"cs_per_min\", \"gold_per_min\", \"xp_per_min\",\n",
    "    \"damage_per_min\", \"damage_taken_per_min\", \"ka_per_min\", \"damage_efficiency\",\n",
    "    \"survivability\", \"healthregen_per_min\",\n",
    "    \"offensive_score\", \"defensive_score\", \"magic_score\", \"total_vamp\", \"haste_score\",\n",
    "    \"wards_placed_per_min\", \"wards_killed_per_min\", \"vision_score_est\"\n",
    "]\n"
   ]
  },
  {
   "cell_type": "markdown",
   "id": "e2e7ae49",
   "metadata": {},
   "source": [
    "## 정규화 (Standard Scaler)\n",
    "- 모든 feature는 단위와 크기가 다르기 때문에, 정규화를 하지 않으면 왜곡된 유사도가 계산"
   ]
  },
  {
   "cell_type": "code",
   "execution_count": 21,
   "id": "09868586",
   "metadata": {},
   "outputs": [],
   "source": [
    "from sklearn.preprocessing import StandardScaler\n",
    "\n",
    "# 상위 유저 데이터만 추출\n",
    "# X_top = merged_df[merged_df[\"is_top1000\"] == True][features].fillna(0)\n",
    "X_top = merged_df[features].fillna(0)\n",
    "\n",
    "# 일반 유저 하나 선택 (예: puuid 기반)\n",
    "# target_puuid = df_user['puuid'].sample(1).values[0]\n",
    "target_puuid = '1nry226Ys8jmA4IrYNRAqBOLA09dO_oisz6Din8AyUOowu80Mp3ggYKg3moP6BbiDD8d8fw9t-3IVw' \n",
    "X_target = merged_df[merged_df[\"puuid\"] == target_puuid][features].fillna(0)\n",
    "X_target = pd.DataFrame(X_target.mean()).T\n",
    "\n",
    "# 스케일링\n",
    "scaler = StandardScaler()\n",
    "scaler.fit(pd.concat([X_top, X_target]))  # 전체 기준으로 학습\n",
    "X_top_scaled = scaler.transform(X_top)\n",
    "X_target_scaled = scaler.transform(X_target)"
   ]
  },
  {
   "cell_type": "markdown",
   "id": "63f70083",
   "metadata": {},
   "source": [
    "## 유사도 계산 (Cosine Similarity)"
   ]
  },
  {
   "cell_type": "code",
   "execution_count": 22,
   "id": "9ec1521a",
   "metadata": {},
   "outputs": [],
   "source": [
    "from sklearn.metrics.pairwise import cosine_similarity\n",
    "\n",
    "# 유사도 계산\n",
    "similarities = cosine_similarity(X_target_scaled, X_top_scaled)[0]  # 1행으로 나온 값\n"
   ]
  },
  {
   "cell_type": "markdown",
   "id": "ee8b7bef",
   "metadata": {},
   "source": [
    "## 유사도 상위 유저 추출"
   ]
  },
  {
   "cell_type": "code",
   "execution_count": 23,
   "id": "faf72381",
   "metadata": {},
   "outputs": [],
   "source": [
    "# 상위 유저 리스트 가져오기\n",
    "# top_players = merged_df[merged_df[\"is_top1000\"] == True][[\"puuid\", \"game_id\", \"participant_id\"]].drop_duplicates()\n",
    "top_players = merged_df[[\"puuid\", \"game_id\", \"participant_id\"]].drop_duplicates()\n",
    "\n",
    "# 유사도 결과와 합치기\n",
    "top_players[\"similarity\"] = similarities\n",
    "\n",
    "# 상위 10명 추출\n",
    "top_similar_players = top_players.sort_values(\"similarity\", ascending=False)[1:].head(10)\n"
   ]
  },
  {
   "cell_type": "code",
   "execution_count": 24,
   "id": "bf2c9321",
   "metadata": {},
   "outputs": [
    {
     "name": "stdout",
     "output_type": "stream",
     "text": [
      "                                                  puuid     game_id  \\\n",
      "5380  Sbed50Dd8jbsS16DyN5nYk4dHNf1zZlI1qOzRCFjkvK-CV...  7587138891   \n",
      "4315  4O9vRHBah1PpackSuIHoGnK2umwSOWFgAZB82w9uORFEHZ...  7587477048   \n",
      "2480  9E5g5a9GWLUBcpAOwJV5dSm2Cyn5j93DlWQiDS8ruAUKaf...  7587625177   \n",
      "675   VDM50cD1Mq4lkLyJfO1T6sxv08g2A67bapjXBfB6W2C9FS...  7587499452   \n",
      "6675  Uo0hxkcCypnpyuxTVdsn7mOsGwn0a8Q9o9BDu66lxRjaYL...  7585861538   \n",
      "1740  bovEA0GShcixkdwc4Gia_fCvUt4RoU4UFqgSl22Uu0eCve...  7587467217   \n",
      "5807  U7dR2JIA3B4sbEQENjHsebCqLAtHt9imdfDBYwK5eEGNif...  7586758073   \n",
      "4290  8NzZY9uRkJLxRd_9mS4ywZMn1KQoZ6xg6HmtnvkYJ-P6NW...  7587487421   \n",
      "1395  0pPRbUmtyh5uHUddRmpkloWRSYTNwYEGKNiCxyHr2T_eLZ...  7587606902   \n",
      "2395  Sq5iuY61JQKIVMQMDIdIRRAb0CvHNiHCBPOUb0IglfV0LV...  7585977639   \n",
      "\n",
      "      participant_id  similarity  \n",
      "5380               1    0.871049  \n",
      "4315               6    0.846763  \n",
      "2480               1    0.836417  \n",
      "675                6    0.830912  \n",
      "6675               6    0.823223  \n",
      "1740               1    0.818461  \n",
      "5807               8    0.818059  \n",
      "4290               1    0.813644  \n",
      "1395               6    0.804981  \n",
      "2395               6    0.799170  \n"
     ]
    }
   ],
   "source": [
    "# 유사도(similarity)가 높은 상위 유저 10명 추출\n",
    "print(top_similar_players[[\"puuid\", \"game_id\", \"participant_id\", \"similarity\"]])\n"
   ]
  },
  {
   "cell_type": "markdown",
   "id": "db420dce",
   "metadata": {},
   "source": [
    "## 데이터 추출"
   ]
  },
  {
   "cell_type": "code",
   "execution_count": 25,
   "id": "7fabf596",
   "metadata": {},
   "outputs": [],
   "source": [
    "# export_df = top_similar_players[[\"puuid\", \"game_id\", \"participant_id\", \"similarity\"]]"
   ]
  },
  {
   "cell_type": "code",
   "execution_count": 26,
   "id": "a511fdce",
   "metadata": {},
   "outputs": [],
   "source": [
    "# export_df.to_csv(\"top_similar_users.csv\", index=False)\n"
   ]
  },
  {
   "cell_type": "markdown",
   "id": "ca493658",
   "metadata": {},
   "source": [
    "## 데이터 시각화"
   ]
  },
  {
   "cell_type": "markdown",
   "id": "d84cc049",
   "metadata": {},
   "source": [
    "### 2차원 좌표 생성 (PCA or t-SNE)"
   ]
  },
  {
   "cell_type": "code",
   "execution_count": 27,
   "id": "3680cc09",
   "metadata": {},
   "outputs": [],
   "source": [
    "from sklearn.decomposition import PCA\n",
    "\n",
    "# 해당 유저들만 필터링\n",
    "similar_puuids = top_similar_players[\"puuid\"].tolist()\n",
    "X_vis = merged_df[merged_df[\"puuid\"].isin(similar_puuids)][features].fillna(0)\n",
    "\n",
    "# PCA로 2D 압축\n",
    "pca = PCA(n_components=2)\n",
    "X_pca = pca.fit_transform(scaler.transform(X_vis))\n",
    "\n",
    "# 위치 + 메타데이터 결합\n",
    "plot_df = merged_df[merged_df[\"puuid\"].isin(similar_puuids)].copy()\n",
    "plot_df = plot_df.reset_index(drop=True)\n",
    "plot_df[\"x\"] = X_pca[:, 0]\n",
    "plot_df[\"y\"] = X_pca[:, 1]\n"
   ]
  },
  {
   "cell_type": "code",
   "execution_count": 28,
   "id": "082cca4a",
   "metadata": {},
   "outputs": [],
   "source": [
    "# similarity 정보 복원\n",
    "similarity_map = top_similar_players.set_index(\"puuid\")[\"similarity\"].to_dict()\n",
    "plot_df[\"similarity\"] = plot_df[\"puuid\"].map(similarity_map)\n"
   ]
  },
  {
   "cell_type": "markdown",
   "id": "0e951c0c",
   "metadata": {},
   "source": [
    "### matplotlib + interactive 클릭 이벤트 시각화"
   ]
  },
  {
   "cell_type": "code",
   "execution_count": 29,
   "id": "7afe1e55",
   "metadata": {},
   "outputs": [
    {
     "data": {
      "image/png": "[encoded data removed]",
      "text/plain": [
       "<Figure size 1000x600 with 2 Axes>"
      ]
     },
     "metadata": {},
     "output_type": "display_data"
    }
   ],
   "source": [
    "import matplotlib.pyplot as plt\n",
    "\n",
    "fig, ax = plt.subplots(figsize=(10, 6))\n",
    "scatter = ax.scatter(plot_df[\"x\"], plot_df[\"y\"], c=plot_df[\"similarity\"], cmap=\"viridis\", s=100)\n",
    "\n",
    "# 텍스트 박스 준비\n",
    "annot = ax.annotate(\"\", xy=(0,0), xytext=(20,20), textcoords=\"offset points\",\n",
    "                    bbox=dict(boxstyle=\"round\", fc=\"w\"),\n",
    "                    arrowprops=dict(arrowstyle=\"->\"))\n",
    "annot.set_visible(False)\n",
    "\n",
    "def update_annot(ind):\n",
    "    i = ind[\"ind\"][0]\n",
    "    row = plot_df.iloc[i]\n",
    "    text = f\"\"\"PUUID: {row['puuid']}\n",
    "                KDA: {row['KDA']:.2f}\n",
    "                CS/Min: {row['cs_per_min']:.2f}\n",
    "                Gold/Min: {row['gold_per_min']:.2f}\n",
    "                Damage/Min: {row['damage_per_min']:.2f}\n",
    "                Vision Score: {row['vision_score_est']}\n",
    "                Similarity: {row['similarity']:.2f}\n",
    "            \"\"\"\n",
    "    annot.xy = (row[\"x\"], row[\"y\"])\n",
    "    annot.set_text(text)\n",
    "    annot.get_bbox_patch().set_alpha(0.9)\n",
    "\n",
    "def on_click(event):\n",
    "    vis = annot.get_visible()\n",
    "    if event.inaxes == ax:\n",
    "        cont, ind = scatter.contains(event)\n",
    "        if cont:\n",
    "            update_annot(ind)\n",
    "            annot.set_visible(True)\n",
    "            fig.canvas.draw_idle()\n",
    "        else:\n",
    "            if vis:\n",
    "                annot.set_visible(False)\n",
    "                fig.canvas.draw_idle()\n",
    "\n",
    "fig.canvas.mpl_connect(\"button_press_event\", on_click)\n",
    "\n",
    "# 기준 유저 좌표\n",
    "target_row = merged_df[merged_df[\"puuid\"] == target_puuid].copy()\n",
    "target_scaled = scaler.transform(target_row[features].fillna(0))\n",
    "target_pca = pca.transform(target_scaled)\n",
    "ax.scatter(target_pca[:, 0], target_pca[:, 1], c=\"red\", marker=\"*\", s=200, label=\"Target User\")\n",
    "ax.legend()\n",
    "\n",
    "\n",
    "plt.title(\"Top Similar LoL Players (Click to View Info)\")\n",
    "plt.xlabel(\"PCA Dimension 1\")\n",
    "plt.ylabel(\"PCA Dimension 2\")\n",
    "plt.colorbar(scatter, label=\"Similarity\")\n",
    "plt.tight_layout()\n",
    "plt.show()\n"
   ]
  },
  {
   "cell_type": "markdown",
   "id": "d094ccfb",
   "metadata": {},
   "source": [
    "### 상대적 거리 좌표 생성 (유사도 → 거리 변환)"
   ]
  },
  {
   "cell_type": "code",
   "execution_count": 30,
   "id": "3e45c553",
   "metadata": {},
   "outputs": [],
   "source": [
    "import numpy as np\n",
    "\n",
    "# 유사도 기반 거리 계산 (0~1 사이 → 가까울수록 유사함)\n",
    "top_similar_players[\"distance\"] = 1 - top_similar_players[\"similarity\"]\n",
    "\n",
    "# 간단한 원형 배치: 유사한 순서대로 각도를 나눠서 원 주변에 배치\n",
    "angles = np.linspace(0, 2 * np.pi, len(top_similar_players), endpoint=False)\n",
    "top_similar_players[\"x\"] = np.cos(angles) * top_similar_players[\"distance\"]\n",
    "top_similar_players[\"y\"] = np.sin(angles) * top_similar_players[\"distance\"]\n",
    "\n",
    "# 파생 지표 붙이기 (중복 제거 주의!)\n",
    "top_features = merged_df[[\"game_id\", \"participant_id\", \"KDA\", \"cs_per_min\", \"gold_per_min\"]].copy()\n",
    "top_similar_players = pd.merge(\n",
    "    top_similar_players,\n",
    "    top_features,\n",
    "    on=[\"game_id\", \"participant_id\"],\n",
    "    how=\"left\"\n",
    ")\n",
    "\n",
    "# 기준 유저 좌표 (항상 중심)\n",
    "target_user_df = pd.DataFrame({\n",
    "    \"puuid\": [target_puuid],\n",
    "    \"x\": [0.0],\n",
    "    \"y\": [0.0],\n",
    "    \"KDA\": merged_df.loc[merged_df[\"puuid\"] == target_puuid, \"KDA\"].values[0],\n",
    "    \"cs_per_min\": merged_df.loc[merged_df[\"puuid\"] == target_puuid, \"cs_per_min\"].values[0],\n",
    "    \"gold_per_min\": merged_df.loc[merged_df[\"puuid\"] == target_puuid, \"gold_per_min\"].values[0],\n",
    "    \"label\": [\"Target\"]\n",
    "})\n",
    "\n",
    "# 상위 유저 + 타겟 유저 병합\n",
    "top_similar_players[\"label\"] = \"Top\"\n",
    "plot_df = pd.concat([top_similar_players, target_user_df], ignore_index=True)\n"
   ]
  },
  {
   "cell_type": "code",
   "execution_count": 31,
   "id": "bfefcc4c",
   "metadata": {},
   "outputs": [],
   "source": [
    "# import plotly.express as px\n",
    "\n",
    "# # Plotly용 데이터 준비\n",
    "# fig = px.scatter(\n",
    "#     plot_df,\n",
    "#     x=\"x\", y=\"y\",\n",
    "#     color=\"similarity\",\n",
    "#     hover_data=[\"puuid\", \"KDA\", \"cs_per_min\", \"gold_per_min\", \"similarity\"],\n",
    "#     text=\"label\",\n",
    "#     color_continuous_scale=\"Viridis\",\n",
    "#     title=\"Similarity-based Positioning (Target User = Center)\"\n",
    "# )\n",
    "\n",
    "# # 기준 유저 강조 (색 없음, hover로만 표시됨)\n",
    "# fig.update_traces(marker=dict(size=14, line=dict(width=1, color='DarkSlateGrey')))\n",
    "\n",
    "# fig.show()\n"
   ]
  },
  {
   "cell_type": "markdown",
   "id": "cddecb73",
   "metadata": {},
   "source": [
    "### Plotly로 시각화"
   ]
  },
  {
   "cell_type": "code",
   "execution_count": 32,
   "id": "ea00d74c",
   "metadata": {},
   "outputs": [
    {
     "data": {
      "application/vnd.plotly.v1+json": {
       "config": {
        "plotlyServerURL": "https://plot.ly"
       },
       "data": [
        {
         "customdata": [
          [
           "Sbed50Dd8jbsS16DyN5nYk4dHNf1zZlI1qOzRCFjkvK-CVvaAqhwto61C_C-OYHOT-NXIrzyucPCxQ",
           3,
           8.114983737830208,
           423.22431060207595,
           0.8710494745701526
          ],
          [
           "4O9vRHBah1PpackSuIHoGnK2umwSOWFgAZB82w9uORFEHZRBDyNwneOl8jbrZ3EZUe8tH5HsvAq_mA",
           2,
           7.868237287879132,
           371.2194002486564,
           0.8467634146813853
          ],
          [
           "9E5g5a9GWLUBcpAOwJV5dSm2Cyn5j93DlWQiDS8ruAUKafJiGyHzjaI_3RYtG8HinlRoNMHtJ4q0xg",
           1.3333333333333333,
           8.528305169065163,
           380.59152918663943,
           0.8364167570447754
          ],
          [
           "VDM50cD1Mq4lkLyJfO1T6sxv08g2A67bapjXBfB6W2C9FSAlyrb5wlwmCzY1oCYK2yv1li5Rju-cHg",
           2.3333333333333335,
           8.357076199511265,
           401.5575113865163,
           0.8309124764745406
          ],
          [
           "Uo0hxkcCypnpyuxTVdsn7mOsGwn0a8Q9o9BDu66lxRjaYLNvOPWIXovpUS9Qp4gAgPu1R6eXSDxX5Q",
           2.6666666666666665,
           8.557372873260665,
           417.4803910122377,
           0.8232233491182608
          ],
          [
           "bovEA0GShcixkdwc4Gia_fCvUt4RoU4UFqgSl22Uu0eCvedsYA3opRvnoOgs5dH6bCbpEh7_yXfamQ",
           2.5,
           7.647446498961688,
           415.7599572240391,
           0.8184609700285753
          ],
          [
           "U7dR2JIA3B4sbEQENjHsebCqLAtHt9imdfDBYwK5eEGNif7uALXz8J4M3RBCZGi4-hyn3CTXKL8QAQ",
           1.5,
           8.294136064112024,
           372.7966984578033,
           0.8180588048864615
          ],
          [
           "8NzZY9uRkJLxRd_9mS4ywZMn1KQoZ6xg6HmtnvkYJ-P6NWVmW9K2_UgQax1ZvPLdPeYYUX1bAHeHFw",
           3.3333333333333335,
           8.748685457061793,
           411.5792191838959,
           0.8136438233079326
          ],
          [
           "0pPRbUmtyh5uHUddRmpkloWRSYTNwYEGKNiCxyHr2T_eLZv93O50EB0vnN8We-TQmtsNHECPRwLH9w",
           1.5,
           8.017136114525817,
           403.4469573940607,
           0.8049812181353193
          ],
          [
           "Sq5iuY61JQKIVMQMDIdIRRAb0CvHNiHCBPOUb0IglfV0LV0bUKlOx4CZC8hkfPoxVk6sC8Da_MLI3Q",
           2,
           9.011926172428188,
           398.39735962266946,
           0.7991703914631992
          ],
          [
           "1nry226Ys8jmA4IrYNRAqBOLA09dO_oisz6Din8AyUOowu80Mp3ggYKg3moP6BbiDD8d8fw9t-3IVw",
           5.5,
           7.941692605259449,
           476.95699388432735,
           null
          ]
         ],
         "hovertemplate": "x=%{x}<br>y=%{y}<br>label=%{text}<br>puuid=%{customdata[0]}<br>KDA=%{customdata[1]}<br>cs_per_min=%{customdata[2]}<br>gold_per_min=%{customdata[3]}<br>similarity=%{marker.color}<extra></extra>",
         "legendgroup": "",
         "marker": {
          "color": [
           0.8710494745701526,
           0.8467634146813853,
           0.8364167570447754,
           0.8309124764745406,
           0.8232233491182608,
           0.8184609700285753,
           0.8180588048864615,
           0.8136438233079326,
           0.8049812181353193,
           0.7991703914631992,
           null
          ],
          "coloraxis": "coloraxis",
          "line": {
           "color": "DarkSlateGrey",
           "width": 1
          },
          "size": 14,
          "symbol": "circle"
         },
         "mode": "markers+text",
         "name": "",
         "orientation": "v",
         "showlegend": false,
         "text": [
          "Top",
          "Top",
          "Top",
          "Top",
          "Top",
          "Top",
          "Top",
          "Top",
          "Top",
          "Top",
          "Target"
         ],
         "type": "scatter",
         "x": [
          0.12895052542984742,
          0.12397100168274588,
          0.05055000206813032,
          -0.05225091830614067,
          -0.14301531477201404,
          -0.18153902997142468,
          -0.14719351882374077,
          -0.05758722560458932,
          0.0602641178184871,
          0.1624745662799398,
          0
         ],
         "xaxis": "x",
         "y": [
          0,
          0.09007020496193904,
          0.15557690916925965,
          0.16081179107309826,
          0.10390670833794155,
          2.2232119197482067e-17,
          -0.10694235127220526,
          -0.1772352561948417,
          -0.1854738832923477,
          -0.1180446821216021,
          0
         ],
         "yaxis": "y"
        },
        {
         "customdata": [
          [
           5.5,
           7.941692605259449,
           476.95699388432735
          ]
         ],
         "hovertemplate": "x=%{x}<br>y=%{y}<br>text=%{text}<br>KDA=%{customdata[0]}<br>cs_per_min=%{customdata[1]}<br>gold_per_min=%{customdata[2]}<extra></extra>",
         "legendgroup": "",
         "marker": {
          "color": "red",
          "size": 16,
          "symbol": "star"
         },
         "mode": "markers+text",
         "name": "",
         "orientation": "v",
         "showlegend": false,
         "text": [
          "You"
         ],
         "type": "scatter",
         "x": [
          0
         ],
         "xaxis": "x",
         "y": [
          0
         ],
         "yaxis": "y"
        }
       ],
       "layout": {
        "coloraxis": {
         "colorbar": {
          "title": {
           "text": "similarity"
          }
         },
         "colorscale": [
          [
           0,
           "#440154"
          ],
          [
           0.1111111111111111,
           "#482878"
          ],
          [
           0.2222222222222222,
           "#3e4989"
          ],
          [
           0.3333333333333333,
           "#31688e"
          ],
          [
           0.4444444444444444,
           "#26828e"
          ],
          [
           0.5555555555555556,
           "#1f9e89"
          ],
          [
           0.6666666666666666,
           "#35b779"
          ],
          [
           0.7777777777777778,
           "#6ece58"
          ],
          [
           0.8888888888888888,
           "#b5de2b"
          ],
          [
           1,
           "#fde725"
          ]
         ]
        },
        "legend": {
         "tracegroupgap": 0
        },
        "template": {
         "data": {
          "bar": [
           {
            "error_x": {
             "color": "#2a3f5f"
            },
            "error_y": {
             "color": "#2a3f5f"
            },
            "marker": {
             "line": {
              "color": "#E5ECF6",
              "width": 0.5
             },
             "pattern": {
              "fillmode": "overlay",
              "size": 10,
              "solidity": 0.2
             }
            },
            "type": "bar"
           }
          ],
          "barpolar": [
           {
            "marker": {
             "line": {
              "color": "#E5ECF6",
              "width": 0.5
             },
             "pattern": {
              "fillmode": "overlay",
              "size": 10,
              "solidity": 0.2
             }
            },
            "type": "barpolar"
           }
          ],
          "carpet": [
           {
            "aaxis": {
             "endlinecolor": "#2a3f5f",
             "gridcolor": "white",
             "linecolor": "white",
             "minorgridcolor": "white",
             "startlinecolor": "#2a3f5f"
            },
            "baxis": {
             "endlinecolor": "#2a3f5f",
             "gridcolor": "white",
             "linecolor": "white",
             "minorgridcolor": "white",
             "startlinecolor": "#2a3f5f"
            },
            "type": "carpet"
           }
          ],
          "choropleth": [
           {
            "colorbar": {
             "outlinewidth": 0,
             "ticks": ""
            },
            "type": "choropleth"
           }
          ],
          "contour": [
           {
            "colorbar": {
             "outlinewidth": 0,
             "ticks": ""
            },
            "colorscale": [
             [
              0,
              "#0d0887"
             ],
             [
              0.1111111111111111,
              "#46039f"
             ],
             [
              0.2222222222222222,
              "#7201a8"
             ],
             [
              0.3333333333333333,
              "#9c179e"
             ],
             [
              0.4444444444444444,
              "#bd3786"
             ],
             [
              0.5555555555555556,
              "#d8576b"
             ],
             [
              0.6666666666666666,
              "#ed7953"
             ],
             [
              0.7777777777777778,
              "#fb9f3a"
             ],
             [
              0.8888888888888888,
              "#fdca26"
             ],
             [
              1,
              "#f0f921"
             ]
            ],
            "type": "contour"
           }
          ],
          "contourcarpet": [
           {
            "colorbar": {
             "outlinewidth": 0,
             "ticks": ""
            },
            "type": "contourcarpet"
           }
          ],
          "heatmap": [
           {
            "colorbar": {
             "outlinewidth": 0,
             "ticks": ""
            },
            "colorscale": [
             [
              0,
              "#0d0887"
             ],
             [
              0.1111111111111111,
              "#46039f"
             ],
             [
              0.2222222222222222,
              "#7201a8"
             ],
             [
              0.3333333333333333,
              "#9c179e"
             ],
             [
              0.4444444444444444,
              "#bd3786"
             ],
             [
              0.5555555555555556,
              "#d8576b"
             ],
             [
              0.6666666666666666,
              "#ed7953"
             ],
             [
              0.7777777777777778,
              "#fb9f3a"
             ],
             [
              0.8888888888888888,
              "#fdca26"
             ],
             [
              1,
              "#f0f921"
             ]
            ],
            "type": "heatmap"
           }
          ],
          "heatmapgl": [
           {
            "colorbar": {
             "outlinewidth": 0,
             "ticks": ""
            },
            "colorscale": [
             [
              0,
              "#0d0887"
             ],
             [
              0.1111111111111111,
              "#46039f"
             ],
             [
              0.2222222222222222,
              "#7201a8"
             ],
             [
              0.3333333333333333,
              "#9c179e"
             ],
             [
              0.4444444444444444,
              "#bd3786"
             ],
             [
              0.5555555555555556,
              "#d8576b"
             ],
             [
              0.6666666666666666,
              "#ed7953"
             ],
             [
              0.7777777777777778,
              "#fb9f3a"
             ],
             [
              0.8888888888888888,
              "#fdca26"
             ],
             [
              1,
              "#f0f921"
             ]
            ],
            "type": "heatmapgl"
           }
          ],
          "histogram": [
           {
            "marker": {
             "pattern": {
              "fillmode": "overlay",
              "size": 10,
              "solidity": 0.2
             }
            },
            "type": "histogram"
           }
          ],
          "histogram2d": [
           {
            "colorbar": {
             "outlinewidth": 0,
             "ticks": ""
            },
            "colorscale": [
             [
              0,
              "#0d0887"
             ],
             [
              0.1111111111111111,
              "#46039f"
             ],
             [
              0.2222222222222222,
              "#7201a8"
             ],
             [
              0.3333333333333333,
              "#9c179e"
             ],
             [
              0.4444444444444444,
              "#bd3786"
             ],
             [
              0.5555555555555556,
              "#d8576b"
             ],
             [
              0.6666666666666666,
              "#ed7953"
             ],
             [
              0.7777777777777778,
              "#fb9f3a"
             ],
             [
              0.8888888888888888,
              "#fdca26"
             ],
             [
              1,
              "#f0f921"
             ]
            ],
            "type": "histogram2d"
           }
          ],
          "histogram2dcontour": [
           {
            "colorbar": {
             "outlinewidth": 0,
             "ticks": ""
            },
            "colorscale": [
             [
              0,
              "#0d0887"
             ],
             [
              0.1111111111111111,
              "#46039f"
             ],
             [
              0.2222222222222222,
              "#7201a8"
             ],
             [
              0.3333333333333333,
              "#9c179e"
             ],
             [
              0.4444444444444444,
              "#bd3786"
             ],
             [
              0.5555555555555556,
              "#d8576b"
             ],
             [
              0.6666666666666666,
              "#ed7953"
             ],
             [
              0.7777777777777778,
              "#fb9f3a"
             ],
             [
              0.8888888888888888,
              "#fdca26"
             ],
             [
              1,
              "#f0f921"
             ]
            ],
            "type": "histogram2dcontour"
           }
          ],
          "mesh3d": [
           {
            "colorbar": {
             "outlinewidth": 0,
             "ticks": ""
            },
            "type": "mesh3d"
           }
          ],
          "parcoords": [
           {
            "line": {
             "colorbar": {
              "outlinewidth": 0,
              "ticks": ""
             }
            },
            "type": "parcoords"
           }
          ],
          "pie": [
           {
            "automargin": true,
            "type": "pie"
           }
          ],
          "scatter": [
           {
            "fillpattern": {
             "fillmode": "overlay",
             "size": 10,
             "solidity": 0.2
            },
            "type": "scatter"
           }
          ],
          "scatter3d": [
           {
            "line": {
             "colorbar": {
              "outlinewidth": 0,
              "ticks": ""
             }
            },
            "marker": {
             "colorbar": {
              "outlinewidth": 0,
              "ticks": ""
             }
            },
            "type": "scatter3d"
           }
          ],
          "scattercarpet": [
           {
            "marker": {
             "colorbar": {
              "outlinewidth": 0,
              "ticks": ""
             }
            },
            "type": "scattercarpet"
           }
          ],
          "scattergeo": [
           {
            "marker": {
             "colorbar": {
              "outlinewidth": 0,
              "ticks": ""
             }
            },
            "type": "scattergeo"
           }
          ],
          "scattergl": [
           {
            "marker": {
             "colorbar": {
              "outlinewidth": 0,
              "ticks": ""
             }
            },
            "type": "scattergl"
           }
          ],
          "scattermapbox": [
           {
            "marker": {
             "colorbar": {
              "outlinewidth": 0,
              "ticks": ""
             }
            },
            "type": "scattermapbox"
           }
          ],
          "scatterpolar": [
           {
            "marker": {
             "colorbar": {
              "outlinewidth": 0,
              "ticks": ""
             }
            },
            "type": "scatterpolar"
           }
          ],
          "scatterpolargl": [
           {
            "marker": {
             "colorbar": {
              "outlinewidth": 0,
              "ticks": ""
             }
            },
            "type": "scatterpolargl"
           }
          ],
          "scatterternary": [
           {
            "marker": {
             "colorbar": {
              "outlinewidth": 0,
              "ticks": ""
             }
            },
            "type": "scatterternary"
           }
          ],
          "surface": [
           {
            "colorbar": {
             "outlinewidth": 0,
             "ticks": ""
            },
            "colorscale": [
             [
              0,
              "#0d0887"
             ],
             [
              0.1111111111111111,
              "#46039f"
             ],
             [
              0.2222222222222222,
              "#7201a8"
             ],
             [
              0.3333333333333333,
              "#9c179e"
             ],
             [
              0.4444444444444444,
              "#bd3786"
             ],
             [
              0.5555555555555556,
              "#d8576b"
             ],
             [
              0.6666666666666666,
              "#ed7953"
             ],
             [
              0.7777777777777778,
              "#fb9f3a"
             ],
             [
              0.8888888888888888,
              "#fdca26"
             ],
             [
              1,
              "#f0f921"
             ]
            ],
            "type": "surface"
           }
          ],
          "table": [
           {
            "cells": {
             "fill": {
              "color": "#EBF0F8"
             },
             "line": {
              "color": "white"
             }
            },
            "header": {
             "fill": {
              "color": "#C8D4E3"
             },
             "line": {
              "color": "white"
             }
            },
            "type": "table"
           }
          ]
         },
         "layout": {
          "annotationdefaults": {
           "arrowcolor": "#2a3f5f",
           "arrowhead": 0,
           "arrowwidth": 1
          },
          "autotypenumbers": "strict",
          "coloraxis": {
           "colorbar": {
            "outlinewidth": 0,
            "ticks": ""
           }
          },
          "colorscale": {
           "diverging": [
            [
             0,
             "#8e0152"
            ],
            [
             0.1,
             "#c51b7d"
            ],
            [
             0.2,
             "#de77ae"
            ],
            [
             0.3,
             "#f1b6da"
            ],
            [
             0.4,
             "#fde0ef"
            ],
            [
             0.5,
             "#f7f7f7"
            ],
            [
             0.6,
             "#e6f5d0"
            ],
            [
             0.7,
             "#b8e186"
            ],
            [
             0.8,
             "#7fbc41"
            ],
            [
             0.9,
             "#4d9221"
            ],
            [
             1,
             "#276419"
            ]
           ],
           "sequential": [
            [
             0,
             "#0d0887"
            ],
            [
             0.1111111111111111,
             "#46039f"
            ],
            [
             0.2222222222222222,
             "#7201a8"
            ],
            [
             0.3333333333333333,
             "#9c179e"
            ],
            [
             0.4444444444444444,
             "#bd3786"
            ],
            [
             0.5555555555555556,
             "#d8576b"
            ],
            [
             0.6666666666666666,
             "#ed7953"
            ],
            [
             0.7777777777777778,
             "#fb9f3a"
            ],
            [
             0.8888888888888888,
             "#fdca26"
            ],
            [
             1,
             "#f0f921"
            ]
           ],
           "sequentialminus": [
            [
             0,
             "#0d0887"
            ],
            [
             0.1111111111111111,
             "#46039f"
            ],
            [
             0.2222222222222222,
             "#7201a8"
            ],
            [
             0.3333333333333333,
             "#9c179e"
            ],
            [
             0.4444444444444444,
             "#bd3786"
            ],
            [
             0.5555555555555556,
             "#d8576b"
            ],
            [
             0.6666666666666666,
             "#ed7953"
            ],
            [
             0.7777777777777778,
             "#fb9f3a"
            ],
            [
             0.8888888888888888,
             "#fdca26"
            ],
            [
             1,
             "#f0f921"
            ]
           ]
          },
          "colorway": [
           "#636efa",
           "#EF553B",
           "#00cc96",
           "#ab63fa",
           "#FFA15A",
           "#19d3f3",
           "#FF6692",
           "#B6E880",
           "#FF97FF",
           "#FECB52"
          ],
          "font": {
           "color": "#2a3f5f"
          },
          "geo": {
           "bgcolor": "white",
           "lakecolor": "white",
           "landcolor": "#E5ECF6",
           "showlakes": true,
           "showland": true,
           "subunitcolor": "white"
          },
          "hoverlabel": {
           "align": "left"
          },
          "hovermode": "closest",
          "mapbox": {
           "style": "light"
          },
          "paper_bgcolor": "white",
          "plot_bgcolor": "#E5ECF6",
          "polar": {
           "angularaxis": {
            "gridcolor": "white",
            "linecolor": "white",
            "ticks": ""
           },
           "bgcolor": "#E5ECF6",
           "radialaxis": {
            "gridcolor": "white",
            "linecolor": "white",
            "ticks": ""
           }
          },
          "scene": {
           "xaxis": {
            "backgroundcolor": "#E5ECF6",
            "gridcolor": "white",
            "gridwidth": 2,
            "linecolor": "white",
            "showbackground": true,
            "ticks": "",
            "zerolinecolor": "white"
           },
           "yaxis": {
            "backgroundcolor": "#E5ECF6",
            "gridcolor": "white",
            "gridwidth": 2,
            "linecolor": "white",
            "showbackground": true,
            "ticks": "",
            "zerolinecolor": "white"
           },
           "zaxis": {
            "backgroundcolor": "#E5ECF6",
            "gridcolor": "white",
            "gridwidth": 2,
            "linecolor": "white",
            "showbackground": true,
            "ticks": "",
            "zerolinecolor": "white"
           }
          },
          "shapedefaults": {
           "line": {
            "color": "#2a3f5f"
           }
          },
          "ternary": {
           "aaxis": {
            "gridcolor": "white",
            "linecolor": "white",
            "ticks": ""
           },
           "baxis": {
            "gridcolor": "white",
            "linecolor": "white",
            "ticks": ""
           },
           "bgcolor": "#E5ECF6",
           "caxis": {
            "gridcolor": "white",
            "linecolor": "white",
            "ticks": ""
           }
          },
          "title": {
           "x": 0.05
          },
          "xaxis": {
           "automargin": true,
           "gridcolor": "white",
           "linecolor": "white",
           "ticks": "",
           "title": {
            "standoff": 15
           },
           "zerolinecolor": "white",
           "zerolinewidth": 2
          },
          "yaxis": {
           "automargin": true,
           "gridcolor": "white",
           "linecolor": "white",
           "ticks": "",
           "title": {
            "standoff": 15
           },
           "zerolinecolor": "white",
           "zerolinewidth": 2
          }
         }
        },
        "title": {
         "text": "Similarity-based Positioning (Target User = Center)"
        },
        "xaxis": {
         "anchor": "y",
         "domain": [
          0,
          1
         ],
         "title": {
          "text": "x"
         }
        },
        "yaxis": {
         "anchor": "x",
         "domain": [
          0,
          1
         ],
         "title": {
          "text": "y"
         }
        }
       }
      }
     },
     "metadata": {},
     "output_type": "display_data"
    }
   ],
   "source": [
    "# 기준 유저 따로 빨간 점으로 표시\n",
    "import plotly.express as px\n",
    "import plotly.graph_objects as go\n",
    "import plotly.express as px\n",
    "\n",
    "# Plotly용 데이터 준비\n",
    "fig = px.scatter(\n",
    "    plot_df,\n",
    "    x=\"x\", y=\"y\",\n",
    "    color=\"similarity\",\n",
    "    hover_data=[\"puuid\", \"KDA\", \"cs_per_min\", \"gold_per_min\", \"similarity\"],\n",
    "    text=\"label\",\n",
    "    color_continuous_scale=\"Viridis\",\n",
    "    title=\"Similarity-based Positioning (Target User = Center)\"\n",
    ")\n",
    "\n",
    "# 기준 유저 강조 (색 없음, hover로만 표시됨)\n",
    "fig.update_traces(marker=dict(size=14, line=dict(width=1, color='DarkSlateGrey')))\n",
    "\n",
    "\n",
    "target_trace = px.scatter(\n",
    "    target_user_df,\n",
    "    x=\"x\", y=\"y\",\n",
    "    hover_data=[\"KDA\", \"cs_per_min\", \"gold_per_min\"],\n",
    "    text=[\"You\"],\n",
    ")\n",
    "\n",
    "target_trace.update_traces(marker=dict(size=16, color='red', symbol='star'))\n",
    "fig.add_trace(target_trace.data[0])\n"
   ]
  },
  {
   "cell_type": "markdown",
   "id": "17333422",
   "metadata": {},
   "source": [
    "### 일반 유저 + 상위 유저 지표 비교 막대그래프 같이 그리기"
   ]
  },
  {
   "cell_type": "code",
   "execution_count": 33,
   "id": "8ade1bd8",
   "metadata": {},
   "outputs": [
    {
     "data": {
      "application/vnd.plotly.v1+json": {
       "config": {
        "plotlyServerURL": "https://plot.ly"
       },
       "data": [
        {
         "marker": {
          "color": "royalblue"
         },
         "name": "Target User KDA",
         "type": "bar",
         "x": [
          "Game 1",
          "Game 2",
          "Game 3",
          "Game 4",
          "Game 5",
          "Game 6",
          "Game 7",
          "Game 8",
          "Game 9",
          "Game 10"
         ],
         "y": [
          5,
          5.5,
          0.7272727272727273,
          5,
          0.5,
          1,
          5.75,
          2.1666666666666665,
          4,
          3.6666666666666665
         ]
        },
        {
         "line": {
          "color": "red",
          "dash": "dash"
         },
         "mode": "lines",
         "name": "Top Players Avg KDA",
         "type": "scatter",
         "x": [
          "Game 1",
          "Game 2",
          "Game 3",
          "Game 4",
          "Game 5",
          "Game 6",
          "Game 7",
          "Game 8",
          "Game 9",
          "Game 10"
         ],
         "y": [
          4.469979398764089,
          4.469979398764089,
          4.469979398764089,
          4.469979398764089,
          4.469979398764089,
          4.469979398764089,
          4.469979398764089,
          4.469979398764089,
          4.469979398764089,
          4.469979398764089
         ]
        }
       ],
       "layout": {
        "barmode": "group",
        "template": {
         "data": {
          "bar": [
           {
            "error_x": {
             "color": "#2a3f5f"
            },
            "error_y": {
             "color": "#2a3f5f"
            },
            "marker": {
             "line": {
              "color": "white",
              "width": 0.5
             },
             "pattern": {
              "fillmode": "overlay",
              "size": 10,
              "solidity": 0.2
             }
            },
            "type": "bar"
           }
          ],
          "barpolar": [
           {
            "marker": {
             "line": {
              "color": "white",
              "width": 0.5
             },
             "pattern": {
              "fillmode": "overlay",
              "size": 10,
              "solidity": 0.2
             }
            },
            "type": "barpolar"
           }
          ],
          "carpet": [
           {
            "aaxis": {
             "endlinecolor": "#2a3f5f",
             "gridcolor": "#C8D4E3",
             "linecolor": "#C8D4E3",
             "minorgridcolor": "#C8D4E3",
             "startlinecolor": "#2a3f5f"
            },
            "baxis": {
             "endlinecolor": "#2a3f5f",
             "gridcolor": "#C8D4E3",
             "linecolor": "#C8D4E3",
             "minorgridcolor": "#C8D4E3",
             "startlinecolor": "#2a3f5f"
            },
            "type": "carpet"
           }
          ],
          "choropleth": [
           {
            "colorbar": {
             "outlinewidth": 0,
             "ticks": ""
            },
            "type": "choropleth"
           }
          ],
          "contour": [
           {
            "colorbar": {
             "outlinewidth": 0,
             "ticks": ""
            },
            "colorscale": [
             [
              0,
              "#0d0887"
             ],
             [
              0.1111111111111111,
              "#46039f"
             ],
             [
              0.2222222222222222,
              "#7201a8"
             ],
             [
              0.3333333333333333,
              "#9c179e"
             ],
             [
              0.4444444444444444,
              "#bd3786"
             ],
             [
              0.5555555555555556,
              "#d8576b"
             ],
             [
              0.6666666666666666,
              "#ed7953"
             ],
             [
              0.7777777777777778,
              "#fb9f3a"
             ],
             [
              0.8888888888888888,
              "#fdca26"
             ],
             [
              1,
              "#f0f921"
             ]
            ],
            "type": "contour"
           }
          ],
          "contourcarpet": [
           {
            "colorbar": {
             "outlinewidth": 0,
             "ticks": ""
            },
            "type": "contourcarpet"
           }
          ],
          "heatmap": [
           {
            "colorbar": {
             "outlinewidth": 0,
             "ticks": ""
            },
            "colorscale": [
             [
              0,
              "#0d0887"
             ],
             [
              0.1111111111111111,
              "#46039f"
             ],
             [
              0.2222222222222222,
              "#7201a8"
             ],
             [
              0.3333333333333333,
              "#9c179e"
             ],
             [
              0.4444444444444444,
              "#bd3786"
             ],
             [
              0.5555555555555556,
              "#d8576b"
             ],
             [
              0.6666666666666666,
              "#ed7953"
             ],
             [
              0.7777777777777778,
              "#fb9f3a"
             ],
             [
              0.8888888888888888,
              "#fdca26"
             ],
             [
              1,
              "#f0f921"
             ]
            ],
            "type": "heatmap"
           }
          ],
          "heatmapgl": [
           {
            "colorbar": {
             "outlinewidth": 0,
             "ticks": ""
            },
            "colorscale": [
             [
              0,
              "#0d0887"
             ],
             [
              0.1111111111111111,
              "#46039f"
             ],
             [
              0.2222222222222222,
              "#7201a8"
             ],
             [
              0.3333333333333333,
              "#9c179e"
             ],
             [
              0.4444444444444444,
              "#bd3786"
             ],
             [
              0.5555555555555556,
              "#d8576b"
             ],
             [
              0.6666666666666666,
              "#ed7953"
             ],
             [
              0.7777777777777778,
              "#fb9f3a"
             ],
             [
              0.8888888888888888,
              "#fdca26"
             ],
             [
              1,
              "#f0f921"
             ]
            ],
            "type": "heatmapgl"
           }
          ],
          "histogram": [
           {
            "marker": {
             "pattern": {
              "fillmode": "overlay",
              "size": 10,
              "solidity": 0.2
             }
            },
            "type": "histogram"
           }
          ],
          "histogram2d": [
           {
            "colorbar": {
             "outlinewidth": 0,
             "ticks": ""
            },
            "colorscale": [
             [
              0,
              "#0d0887"
             ],
             [
              0.1111111111111111,
              "#46039f"
             ],
             [
              0.2222222222222222,
              "#7201a8"
             ],
             [
              0.3333333333333333,
              "#9c179e"
             ],
             [
              0.4444444444444444,
              "#bd3786"
             ],
             [
              0.5555555555555556,
              "#d8576b"
             ],
             [
              0.6666666666666666,
              "#ed7953"
             ],
             [
              0.7777777777777778,
              "#fb9f3a"
             ],
             [
              0.8888888888888888,
              "#fdca26"
             ],
             [
              1,
              "#f0f921"
             ]
            ],
            "type": "histogram2d"
           }
          ],
          "histogram2dcontour": [
           {
            "colorbar": {
             "outlinewidth": 0,
             "ticks": ""
            },
            "colorscale": [
             [
              0,
              "#0d0887"
             ],
             [
              0.1111111111111111,
              "#46039f"
             ],
             [
              0.2222222222222222,
              "#7201a8"
             ],
             [
              0.3333333333333333,
              "#9c179e"
             ],
             [
              0.4444444444444444,
              "#bd3786"
             ],
             [
              0.5555555555555556,
              "#d8576b"
             ],
             [
              0.6666666666666666,
              "#ed7953"
             ],
             [
              0.7777777777777778,
              "#fb9f3a"
             ],
             [
              0.8888888888888888,
              "#fdca26"
             ],
             [
              1,
              "#f0f921"
             ]
            ],
            "type": "histogram2dcontour"
           }
          ],
          "mesh3d": [
           {
            "colorbar": {
             "outlinewidth": 0,
             "ticks": ""
            },
            "type": "mesh3d"
           }
          ],
          "parcoords": [
           {
            "line": {
             "colorbar": {
              "outlinewidth": 0,
              "ticks": ""
             }
            },
            "type": "parcoords"
           }
          ],
          "pie": [
           {
            "automargin": true,
            "type": "pie"
           }
          ],
          "scatter": [
           {
            "fillpattern": {
             "fillmode": "overlay",
             "size": 10,
             "solidity": 0.2
            },
            "type": "scatter"
           }
          ],
          "scatter3d": [
           {
            "line": {
             "colorbar": {
              "outlinewidth": 0,
              "ticks": ""
             }
            },
            "marker": {
             "colorbar": {
              "outlinewidth": 0,
              "ticks": ""
             }
            },
            "type": "scatter3d"
           }
          ],
          "scattercarpet": [
           {
            "marker": {
             "colorbar": {
              "outlinewidth": 0,
              "ticks": ""
             }
            },
            "type": "scattercarpet"
           }
          ],
          "scattergeo": [
           {
            "marker": {
             "colorbar": {
              "outlinewidth": 0,
              "ticks": ""
             }
            },
            "type": "scattergeo"
           }
          ],
          "scattergl": [
           {
            "marker": {
             "colorbar": {
              "outlinewidth": 0,
              "ticks": ""
             }
            },
            "type": "scattergl"
           }
          ],
          "scattermapbox": [
           {
            "marker": {
             "colorbar": {
              "outlinewidth": 0,
              "ticks": ""
             }
            },
            "type": "scattermapbox"
           }
          ],
          "scatterpolar": [
           {
            "marker": {
             "colorbar": {
              "outlinewidth": 0,
              "ticks": ""
             }
            },
            "type": "scatterpolar"
           }
          ],
          "scatterpolargl": [
           {
            "marker": {
             "colorbar": {
              "outlinewidth": 0,
              "ticks": ""
             }
            },
            "type": "scatterpolargl"
           }
          ],
          "scatterternary": [
           {
            "marker": {
             "colorbar": {
              "outlinewidth": 0,
              "ticks": ""
             }
            },
            "type": "scatterternary"
           }
          ],
          "surface": [
           {
            "colorbar": {
             "outlinewidth": 0,
             "ticks": ""
            },
            "colorscale": [
             [
              0,
              "#0d0887"
             ],
             [
              0.1111111111111111,
              "#46039f"
             ],
             [
              0.2222222222222222,
              "#7201a8"
             ],
             [
              0.3333333333333333,
              "#9c179e"
             ],
             [
              0.4444444444444444,
              "#bd3786"
             ],
             [
              0.5555555555555556,
              "#d8576b"
             ],
             [
              0.6666666666666666,
              "#ed7953"
             ],
             [
              0.7777777777777778,
              "#fb9f3a"
             ],
             [
              0.8888888888888888,
              "#fdca26"
             ],
             [
              1,
              "#f0f921"
             ]
            ],
            "type": "surface"
           }
          ],
          "table": [
           {
            "cells": {
             "fill": {
              "color": "#EBF0F8"
             },
             "line": {
              "color": "white"
             }
            },
            "header": {
             "fill": {
              "color": "#C8D4E3"
             },
             "line": {
              "color": "white"
             }
            },
            "type": "table"
           }
          ]
         },
         "layout": {
          "annotationdefaults": {
           "arrowcolor": "#2a3f5f",
           "arrowhead": 0,
           "arrowwidth": 1
          },
          "autotypenumbers": "strict",
          "coloraxis": {
           "colorbar": {
            "outlinewidth": 0,
            "ticks": ""
           }
          },
          "colorscale": {
           "diverging": [
            [
             0,
             "#8e0152"
            ],
            [
             0.1,
             "#c51b7d"
            ],
            [
             0.2,
             "#de77ae"
            ],
            [
             0.3,
             "#f1b6da"
            ],
            [
             0.4,
             "#fde0ef"
            ],
            [
             0.5,
             "#f7f7f7"
            ],
            [
             0.6,
             "#e6f5d0"
            ],
            [
             0.7,
             "#b8e186"
            ],
            [
             0.8,
             "#7fbc41"
            ],
            [
             0.9,
             "#4d9221"
            ],
            [
             1,
             "#276419"
            ]
           ],
           "sequential": [
            [
             0,
             "#0d0887"
            ],
            [
             0.1111111111111111,
             "#46039f"
            ],
            [
             0.2222222222222222,
             "#7201a8"
            ],
            [
             0.3333333333333333,
             "#9c179e"
            ],
            [
             0.4444444444444444,
             "#bd3786"
            ],
            [
             0.5555555555555556,
             "#d8576b"
            ],
            [
             0.6666666666666666,
             "#ed7953"
            ],
            [
             0.7777777777777778,
             "#fb9f3a"
            ],
            [
             0.8888888888888888,
             "#fdca26"
            ],
            [
             1,
             "#f0f921"
            ]
           ],
           "sequentialminus": [
            [
             0,
             "#0d0887"
            ],
            [
             0.1111111111111111,
             "#46039f"
            ],
            [
             0.2222222222222222,
             "#7201a8"
            ],
            [
             0.3333333333333333,
             "#9c179e"
            ],
            [
             0.4444444444444444,
             "#bd3786"
            ],
            [
             0.5555555555555556,
             "#d8576b"
            ],
            [
             0.6666666666666666,
             "#ed7953"
            ],
            [
             0.7777777777777778,
             "#fb9f3a"
            ],
            [
             0.8888888888888888,
             "#fdca26"
            ],
            [
             1,
             "#f0f921"
            ]
           ]
          },
          "colorway": [
           "#636efa",
           "#EF553B",
           "#00cc96",
           "#ab63fa",
           "#FFA15A",
           "#19d3f3",
           "#FF6692",
           "#B6E880",
           "#FF97FF",
           "#FECB52"
          ],
          "font": {
           "color": "#2a3f5f"
          },
          "geo": {
           "bgcolor": "white",
           "lakecolor": "white",
           "landcolor": "white",
           "showlakes": true,
           "showland": true,
           "subunitcolor": "#C8D4E3"
          },
          "hoverlabel": {
           "align": "left"
          },
          "hovermode": "closest",
          "mapbox": {
           "style": "light"
          },
          "paper_bgcolor": "white",
          "plot_bgcolor": "white",
          "polar": {
           "angularaxis": {
            "gridcolor": "#EBF0F8",
            "linecolor": "#EBF0F8",
            "ticks": ""
           },
           "bgcolor": "white",
           "radialaxis": {
            "gridcolor": "#EBF0F8",
            "linecolor": "#EBF0F8",
            "ticks": ""
           }
          },
          "scene": {
           "xaxis": {
            "backgroundcolor": "white",
            "gridcolor": "#DFE8F3",
            "gridwidth": 2,
            "linecolor": "#EBF0F8",
            "showbackground": true,
            "ticks": "",
            "zerolinecolor": "#EBF0F8"
           },
           "yaxis": {
            "backgroundcolor": "white",
            "gridcolor": "#DFE8F3",
            "gridwidth": 2,
            "linecolor": "#EBF0F8",
            "showbackground": true,
            "ticks": "",
            "zerolinecolor": "#EBF0F8"
           },
           "zaxis": {
            "backgroundcolor": "white",
            "gridcolor": "#DFE8F3",
            "gridwidth": 2,
            "linecolor": "#EBF0F8",
            "showbackground": true,
            "ticks": "",
            "zerolinecolor": "#EBF0F8"
           }
          },
          "shapedefaults": {
           "line": {
            "color": "#2a3f5f"
           }
          },
          "ternary": {
           "aaxis": {
            "gridcolor": "#DFE8F3",
            "linecolor": "#A2B1C6",
            "ticks": ""
           },
           "baxis": {
            "gridcolor": "#DFE8F3",
            "linecolor": "#A2B1C6",
            "ticks": ""
           },
           "bgcolor": "white",
           "caxis": {
            "gridcolor": "#DFE8F3",
            "linecolor": "#A2B1C6",
            "ticks": ""
           }
          },
          "title": {
           "x": 0.05
          },
          "xaxis": {
           "automargin": true,
           "gridcolor": "#EBF0F8",
           "linecolor": "#EBF0F8",
           "ticks": "",
           "title": {
            "standoff": 15
           },
           "zerolinecolor": "#EBF0F8",
           "zerolinewidth": 2
          },
          "yaxis": {
           "automargin": true,
           "gridcolor": "#EBF0F8",
           "linecolor": "#EBF0F8",
           "ticks": "",
           "title": {
            "standoff": 15
           },
           "zerolinecolor": "#EBF0F8",
           "zerolinewidth": 2
          }
         }
        },
        "title": {
         "text": "Recent 10 Games KDA vs Top Player Avg KDA"
        },
        "xaxis": {
         "title": {
          "text": "Game"
         }
        },
        "yaxis": {
         "title": {
          "text": "KDA"
         }
        }
       }
      }
     },
     "metadata": {},
     "output_type": "display_data"
    }
   ],
   "source": [
    "import plotly.graph_objects as go\n",
    "import pandas as pd\n",
    "\n",
    "# 1. 기준 유저 게임 가져오기\n",
    "user_games = merged_df[(merged_df[\"puuid\"] == target_puuid)].copy()\n",
    "user_games = user_games.sort_values(\"game_id\", ascending=False).head(10)\n",
    "\n",
    "# 2. KDA 데이터 부족 시 채우기 (0으로)\n",
    "kda_values = user_games[\"KDA\"].tolist()\n",
    "kda_values += [0] * (10 - len(kda_values))  # 10게임 채우기\n",
    "\n",
    "# 3. x축 레이블\n",
    "x_labels = [f\"Game {i+1}\" for i in range(10)]\n",
    "\n",
    "# 4. Top 평균 KDA\n",
    "# top_avg_kda = merged_df[merged_df[\"is_top1000\"] == True][\"KDA\"].mean()\n",
    "top_avg_kda = merged_df[\"KDA\"].mean()\n",
    "\n",
    "# 5. 그래프 생성\n",
    "fig = go.Figure()\n",
    "\n",
    "# 유저 KDA 막대\n",
    "fig.add_trace(go.Bar(\n",
    "    x=x_labels,\n",
    "    y=kda_values,\n",
    "    name=\"Target User KDA\",\n",
    "    marker_color='royalblue'\n",
    "))\n",
    "\n",
    "# Top 유저 평균 선\n",
    "fig.add_trace(go.Scatter(\n",
    "    x=x_labels,\n",
    "    y=[top_avg_kda] * 10,\n",
    "    name=\"Top Players Avg KDA\",\n",
    "    mode='lines',\n",
    "    line=dict(color='red', dash='dash')\n",
    "))\n",
    "\n",
    "fig.update_layout(\n",
    "    title=\"Recent 10 Games KDA vs Top Player Avg KDA\",\n",
    "    xaxis_title=\"Game\",\n",
    "    yaxis_title=\"KDA\",\n",
    "    barmode='group',\n",
    "    template='plotly_white'\n",
    ")\n",
    "\n",
    "fig.show()\n"
   ]
  },
  {
   "cell_type": "markdown",
   "id": "466aca07",
   "metadata": {},
   "source": [
    "### 유사도 순 정렬된 테이블 만들기"
   ]
  },
  {
   "cell_type": "code",
   "execution_count": 34,
   "id": "5b179931",
   "metadata": {},
   "outputs": [
    {
     "data": {
      "text/html": [
       "<div>\n",
       "<style scoped>\n",
       "    .dataframe tbody tr th:only-of-type {\n",
       "        vertical-align: middle;\n",
       "    }\n",
       "\n",
       "    .dataframe tbody tr th {\n",
       "        vertical-align: top;\n",
       "    }\n",
       "\n",
       "    .dataframe thead th {\n",
       "        text-align: right;\n",
       "    }\n",
       "</style>\n",
       "<table border=\"1\" class=\"dataframe\">\n",
       "  <thead>\n",
       "    <tr style=\"text-align: right;\">\n",
       "      <th></th>\n",
       "      <th>puuid</th>\n",
       "      <th>KDA</th>\n",
       "      <th>cs_per_min</th>\n",
       "      <th>gold_per_min</th>\n",
       "      <th>similarity</th>\n",
       "    </tr>\n",
       "  </thead>\n",
       "  <tbody>\n",
       "    <tr>\n",
       "      <th>0</th>\n",
       "      <td>Sbed50Dd8jbsS16DyN5nYk4dHNf1zZlI1qOzRCFjkvK-CV...</td>\n",
       "      <td>3.000000</td>\n",
       "      <td>8.114984</td>\n",
       "      <td>423.224311</td>\n",
       "      <td>0.871049</td>\n",
       "    </tr>\n",
       "    <tr>\n",
       "      <th>1</th>\n",
       "      <td>4O9vRHBah1PpackSuIHoGnK2umwSOWFgAZB82w9uORFEHZ...</td>\n",
       "      <td>2.000000</td>\n",
       "      <td>7.868237</td>\n",
       "      <td>371.219400</td>\n",
       "      <td>0.846763</td>\n",
       "    </tr>\n",
       "    <tr>\n",
       "      <th>2</th>\n",
       "      <td>9E5g5a9GWLUBcpAOwJV5dSm2Cyn5j93DlWQiDS8ruAUKaf...</td>\n",
       "      <td>1.333333</td>\n",
       "      <td>8.528305</td>\n",
       "      <td>380.591529</td>\n",
       "      <td>0.836417</td>\n",
       "    </tr>\n",
       "    <tr>\n",
       "      <th>3</th>\n",
       "      <td>VDM50cD1Mq4lkLyJfO1T6sxv08g2A67bapjXBfB6W2C9FS...</td>\n",
       "      <td>2.333333</td>\n",
       "      <td>8.357076</td>\n",
       "      <td>401.557511</td>\n",
       "      <td>0.830912</td>\n",
       "    </tr>\n",
       "    <tr>\n",
       "      <th>4</th>\n",
       "      <td>Uo0hxkcCypnpyuxTVdsn7mOsGwn0a8Q9o9BDu66lxRjaYL...</td>\n",
       "      <td>2.666667</td>\n",
       "      <td>8.557373</td>\n",
       "      <td>417.480391</td>\n",
       "      <td>0.823223</td>\n",
       "    </tr>\n",
       "    <tr>\n",
       "      <th>5</th>\n",
       "      <td>bovEA0GShcixkdwc4Gia_fCvUt4RoU4UFqgSl22Uu0eCve...</td>\n",
       "      <td>2.500000</td>\n",
       "      <td>7.647446</td>\n",
       "      <td>415.759957</td>\n",
       "      <td>0.818461</td>\n",
       "    </tr>\n",
       "    <tr>\n",
       "      <th>6</th>\n",
       "      <td>U7dR2JIA3B4sbEQENjHsebCqLAtHt9imdfDBYwK5eEGNif...</td>\n",
       "      <td>1.500000</td>\n",
       "      <td>8.294136</td>\n",
       "      <td>372.796698</td>\n",
       "      <td>0.818059</td>\n",
       "    </tr>\n",
       "    <tr>\n",
       "      <th>7</th>\n",
       "      <td>8NzZY9uRkJLxRd_9mS4ywZMn1KQoZ6xg6HmtnvkYJ-P6NW...</td>\n",
       "      <td>3.333333</td>\n",
       "      <td>8.748685</td>\n",
       "      <td>411.579219</td>\n",
       "      <td>0.813644</td>\n",
       "    </tr>\n",
       "    <tr>\n",
       "      <th>8</th>\n",
       "      <td>0pPRbUmtyh5uHUddRmpkloWRSYTNwYEGKNiCxyHr2T_eLZ...</td>\n",
       "      <td>1.500000</td>\n",
       "      <td>8.017136</td>\n",
       "      <td>403.446957</td>\n",
       "      <td>0.804981</td>\n",
       "    </tr>\n",
       "    <tr>\n",
       "      <th>9</th>\n",
       "      <td>Sq5iuY61JQKIVMQMDIdIRRAb0CvHNiHCBPOUb0IglfV0LV...</td>\n",
       "      <td>2.000000</td>\n",
       "      <td>9.011926</td>\n",
       "      <td>398.397360</td>\n",
       "      <td>0.799170</td>\n",
       "    </tr>\n",
       "  </tbody>\n",
       "</table>\n",
       "</div>"
      ],
      "text/plain": [
       "                                               puuid       KDA  cs_per_min  \\\n",
       "0  Sbed50Dd8jbsS16DyN5nYk4dHNf1zZlI1qOzRCFjkvK-CV...  3.000000    8.114984   \n",
       "1  4O9vRHBah1PpackSuIHoGnK2umwSOWFgAZB82w9uORFEHZ...  2.000000    7.868237   \n",
       "2  9E5g5a9GWLUBcpAOwJV5dSm2Cyn5j93DlWQiDS8ruAUKaf...  1.333333    8.528305   \n",
       "3  VDM50cD1Mq4lkLyJfO1T6sxv08g2A67bapjXBfB6W2C9FS...  2.333333    8.357076   \n",
       "4  Uo0hxkcCypnpyuxTVdsn7mOsGwn0a8Q9o9BDu66lxRjaYL...  2.666667    8.557373   \n",
       "5  bovEA0GShcixkdwc4Gia_fCvUt4RoU4UFqgSl22Uu0eCve...  2.500000    7.647446   \n",
       "6  U7dR2JIA3B4sbEQENjHsebCqLAtHt9imdfDBYwK5eEGNif...  1.500000    8.294136   \n",
       "7  8NzZY9uRkJLxRd_9mS4ywZMn1KQoZ6xg6HmtnvkYJ-P6NW...  3.333333    8.748685   \n",
       "8  0pPRbUmtyh5uHUddRmpkloWRSYTNwYEGKNiCxyHr2T_eLZ...  1.500000    8.017136   \n",
       "9  Sq5iuY61JQKIVMQMDIdIRRAb0CvHNiHCBPOUb0IglfV0LV...  2.000000    9.011926   \n",
       "\n",
       "   gold_per_min  similarity  \n",
       "0    423.224311    0.871049  \n",
       "1    371.219400    0.846763  \n",
       "2    380.591529    0.836417  \n",
       "3    401.557511    0.830912  \n",
       "4    417.480391    0.823223  \n",
       "5    415.759957    0.818461  \n",
       "6    372.796698    0.818059  \n",
       "7    411.579219    0.813644  \n",
       "8    403.446957    0.804981  \n",
       "9    398.397360    0.799170  "
      ]
     },
     "metadata": {},
     "output_type": "display_data"
    }
   ],
   "source": [
    "import pandas as pd\n",
    "from IPython.display import display\n",
    "\n",
    "display(\n",
    "    plot_df[plot_df[\"label\"] == \"Top\"]\n",
    "    .sort_values(\"similarity\", ascending=False)[\n",
    "        [\"puuid\", \"KDA\", \"cs_per_min\", \"gold_per_min\", \"similarity\"]\n",
    "    ]\n",
    ")\n"
   ]
  },
  {
   "cell_type": "code",
   "execution_count": 37,
   "id": "1f53f225",
   "metadata": {},
   "outputs": [
    {
     "data": {
      "application/vnd.plotly.v1+json": {
       "config": {
        "plotlyServerURL": "https://plot.ly"
       },
       "data": [
        {
         "customdata": [
          [
           "user_357",
           1.0381378290725509e-16
          ],
          [
           "user_736",
           9.127792402241728e-17
          ],
          [
           "user_450",
           8.779354734176087e-17
          ],
          [
           "user_656",
           8.650670992907133e-17
          ],
          [
           "user_462",
           8.610373788955835e-17
          ],
          [
           "user_413",
           8.533649685581169e-17
          ],
          [
           "user_790",
           8.453747131985734e-17
          ],
          [
           "user_948",
           8.237813263037456e-17
          ],
          [
           "user_467",
           8.137964973583168e-17
          ],
          [
           "user_768",
           8.133811289349387e-17
          ],
          [
           "user_200",
           8.063249862017528e-17
          ],
          [
           "user_854",
           8.008933823004767e-17
          ],
          [
           "user_590",
           7.900709323295644e-17
          ],
          [
           "user_227",
           7.840446226228436e-17
          ],
          [
           "user_165",
           7.840246984873723e-17
          ],
          [
           "user_577",
           7.730600183906989e-17
          ],
          [
           "user_642",
           7.616242095627376e-17
          ],
          [
           "user_455",
           7.615570847622739e-17
          ],
          [
           "user_149",
           7.539766519801505e-17
          ],
          [
           "user_640",
           7.526650587383565e-17
          ],
          [
           "user_301",
           7.504010927268929e-17
          ],
          [
           "user_942",
           7.458966866826978e-17
          ],
          [
           "user_801",
           7.413629418955413e-17
          ],
          [
           "user_350",
           7.363280143421503e-17
          ],
          [
           "user_380",
           7.349455118791564e-17
          ],
          [
           "user_508",
           7.336862125124491e-17
          ],
          [
           "user_12",
           7.332832254134613e-17
          ],
          [
           "user_290",
           7.304647570902699e-17
          ],
          [
           "user_212",
           7.294788869084615e-17
          ],
          [
           "user_729",
           7.188160803210891e-17
          ],
          [
           "user_304",
           7.179863205404276e-17
          ],
          [
           "user_737",
           7.067876844784095e-17
          ],
          [
           "user_917",
           7.052309850703674e-17
          ],
          [
           "user_266",
           7.048711920068218e-17
          ],
          [
           "user_743",
           7.04303869411627e-17
          ],
          [
           "user_619",
           7.023591280274001e-17
          ],
          [
           "user_674",
           7.011190914207433e-17
          ],
          [
           "user_579",
           6.998218537893267e-17
          ],
          [
           "user_308",
           6.988594440909643e-17
          ],
          [
           "user_979",
           6.961206392691725e-17
          ],
          [
           "user_533",
           6.95400007629571e-17
          ],
          [
           "user_950",
           6.952347592465225e-17
          ],
          [
           "user_423",
           6.93710925291971e-17
          ],
          [
           "user_154",
           6.932882006331918e-17
          ],
          [
           "user_371",
           6.929441618260374e-17
          ],
          [
           "user_803",
           6.914473439047327e-17
          ],
          [
           "user_452",
           6.912884057012711e-17
          ],
          [
           "user_911",
           6.880588716485043e-17
          ],
          [
           "user_368",
           6.873980499931428e-17
          ],
          [
           "user_930",
           6.864493576935743e-17
          ],
          [
           "user_100",
           6.85277392092326e-17
          ],
          [
           "user_343",
           6.838252530310271e-17
          ],
          [
           "user_55",
           6.830622443393509e-17
          ],
          [
           "user_487",
           6.787763460801164e-17
          ],
          [
           "user_711",
           6.782032630395509e-17
          ],
          [
           "user_889",
           6.752433824767832e-17
          ],
          [
           "user_800",
           6.749519246995069e-17
          ],
          [
           "user_500",
           6.738849170299086e-17
          ],
          [
           "user_714",
           6.735108100280342e-17
          ],
          [
           "user_282",
           6.733379289693412e-17
          ],
          [
           "user_2",
           6.702498297477124e-17
          ],
          [
           "user_873",
           6.673040549923149e-17
          ],
          [
           "user_882",
           6.66765917821939e-17
          ],
          [
           "user_206",
           6.662304419166516e-17
          ],
          [
           "user_794",
           6.659788223233244e-17
          ],
          [
           "user_895",
           6.652357209100436e-17
          ],
          [
           "user_690",
           6.627977624053868e-17
          ],
          [
           "user_363",
           6.58524668899003e-17
          ],
          [
           "user_842",
           6.582894913808427e-17
          ],
          [
           "user_791",
           6.544703956750666e-17
          ],
          [
           "user_524",
           6.541299109112016e-17
          ],
          [
           "user_792",
           6.540439754403743e-17
          ],
          [
           "user_339",
           6.53629572552499e-17
          ],
          [
           "user_655",
           6.533138599347102e-17
          ],
          [
           "user_823",
           6.520298208438045e-17
          ],
          [
           "user_859",
           6.52016066284799e-17
          ],
          [
           "user_438",
           6.482097581987115e-17
          ],
          [
           "user_609",
           6.43718845541069e-17
          ],
          [
           "user_844",
           6.436925089433979e-17
          ],
          [
           "user_404",
           6.432122284430896e-17
          ],
          [
           "user_780",
           6.427474918457429e-17
          ],
          [
           "user_251",
           6.413523357226164e-17
          ],
          [
           "user_568",
           6.403184702324497e-17
          ],
          [
           "user_161",
           6.395239898410523e-17
          ],
          [
           "user_976",
           6.391399131419592e-17
          ],
          [
           "user_113",
           6.37588738660882e-17
          ],
          [
           "user_670",
           6.372204491713211e-17
          ],
          [
           "user_217",
           6.348221694160962e-17
          ],
          [
           "user_464",
           6.327561882618188e-17
          ],
          [
           "user_904",
           6.327515535924819e-17
          ],
          [
           "user_351",
           6.288410813626925e-17
          ],
          [
           "user_724",
           6.28019710542778e-17
          ],
          [
           "user_313",
           6.274948515827761e-17
          ],
          [
           "user_341",
           6.241624516967228e-17
          ],
          [
           "user_536",
           6.201798950903166e-17
          ],
          [
           "user_937",
           6.190101527946732e-17
          ],
          [
           "user_677",
           6.178170388733174e-17
          ],
          [
           "user_787",
           6.176482164952901e-17
          ],
          [
           "user_495",
           6.174881706143085e-17
          ],
          [
           "user_583",
           6.15985552660933e-17
          ],
          [
           "target_user",
           1
          ]
         ],
         "hovertemplate": "x=%{x}<br>y=%{y}<br>puuid=%{customdata[0]}<br>similarity=%{marker.color}<extra></extra>",
         "legendgroup": "",
         "marker": {
          "color": [
           1.0381378290725509e-16,
           9.127792402241728e-17,
           8.779354734176087e-17,
           8.650670992907133e-17,
           8.610373788955835e-17,
           8.533649685581169e-17,
           8.453747131985734e-17,
           8.237813263037456e-17,
           8.137964973583168e-17,
           8.133811289349387e-17,
           8.063249862017528e-17,
           8.008933823004767e-17,
           7.900709323295644e-17,
           7.840446226228436e-17,
           7.840246984873723e-17,
           7.730600183906989e-17,
           7.616242095627376e-17,
           7.615570847622739e-17,
           7.539766519801505e-17,
           7.526650587383565e-17,
           7.504010927268929e-17,
           7.458966866826978e-17,
           7.413629418955413e-17,
           7.363280143421503e-17,
           7.349455118791564e-17,
           7.336862125124491e-17,
           7.332832254134613e-17,
           7.304647570902699e-17,
           7.294788869084615e-17,
           7.188160803210891e-17,
           7.179863205404276e-17,
           7.067876844784095e-17,
           7.052309850703674e-17,
           7.048711920068218e-17,
           7.04303869411627e-17,
           7.023591280274001e-17,
           7.011190914207433e-17,
           6.998218537893267e-17,
           6.988594440909643e-17,
           6.961206392691725e-17,
           6.95400007629571e-17,
           6.952347592465225e-17,
           6.93710925291971e-17,
           6.932882006331918e-17,
           6.929441618260374e-17,
           6.914473439047327e-17,
           6.912884057012711e-17,
           6.880588716485043e-17,
           6.873980499931428e-17,
           6.864493576935743e-17,
           6.85277392092326e-17,
           6.838252530310271e-17,
           6.830622443393509e-17,
           6.787763460801164e-17,
           6.782032630395509e-17,
           6.752433824767832e-17,
           6.749519246995069e-17,
           6.738849170299086e-17,
           6.735108100280342e-17,
           6.733379289693412e-17,
           6.702498297477124e-17,
           6.673040549923149e-17,
           6.66765917821939e-17,
           6.662304419166516e-17,
           6.659788223233244e-17,
           6.652357209100436e-17,
           6.627977624053868e-17,
           6.58524668899003e-17,
           6.582894913808427e-17,
           6.544703956750666e-17,
           6.541299109112016e-17,
           6.540439754403743e-17,
           6.53629572552499e-17,
           6.533138599347102e-17,
           6.520298208438045e-17,
           6.52016066284799e-17,
           6.482097581987115e-17,
           6.43718845541069e-17,
           6.436925089433979e-17,
           6.432122284430896e-17,
           6.427474918457429e-17,
           6.413523357226164e-17,
           6.403184702324497e-17,
           6.395239898410523e-17,
           6.391399131419592e-17,
           6.37588738660882e-17,
           6.372204491713211e-17,
           6.348221694160962e-17,
           6.327561882618188e-17,
           6.327515535924819e-17,
           6.288410813626925e-17,
           6.28019710542778e-17,
           6.274948515827761e-17,
           6.241624516967228e-17,
           6.201798950903166e-17,
           6.190101527946732e-17,
           6.178170388733174e-17,
           6.176482164952901e-17,
           6.174881706143085e-17,
           6.15985552660933e-17,
           1
          ],
          "coloraxis": "coloraxis",
          "symbol": "circle"
         },
         "mode": "markers+text",
         "name": "",
         "orientation": "v",
         "showlegend": false,
         "text": [
          "user_357",
          "user_736",
          "user_450",
          "user_656",
          "user_462",
          "user_413",
          "user_790",
          "user_948",
          "user_467",
          "user_768",
          "user_200",
          "user_854",
          "user_590",
          "user_227",
          "user_165",
          "user_577",
          "user_642",
          "user_455",
          "user_149",
          "user_640",
          "user_301",
          "user_942",
          "user_801",
          "user_350",
          "user_380",
          "user_508",
          "user_12",
          "user_290",
          "user_212",
          "user_729",
          "user_304",
          "user_737",
          "user_917",
          "user_266",
          "user_743",
          "user_619",
          "user_674",
          "user_579",
          "user_308",
          "user_979",
          "user_533",
          "user_950",
          "user_423",
          "user_154",
          "user_371",
          "user_803",
          "user_452",
          "user_911",
          "user_368",
          "user_930",
          "user_100",
          "user_343",
          "user_55",
          "user_487",
          "user_711",
          "user_889",
          "user_800",
          "user_500",
          "user_714",
          "user_282",
          "user_2",
          "user_873",
          "user_882",
          "user_206",
          "user_794",
          "user_895",
          "user_690",
          "user_363",
          "user_842",
          "user_791",
          "user_524",
          "user_792",
          "user_339",
          "user_655",
          "user_823",
          "user_859",
          "user_438",
          "user_609",
          "user_844",
          "user_404",
          "user_780",
          "user_251",
          "user_568",
          "user_161",
          "user_976",
          "user_113",
          "user_670",
          "user_217",
          "user_464",
          "user_904",
          "user_351",
          "user_724",
          "user_313",
          "user_341",
          "user_536",
          "user_937",
          "user_677",
          "user_787",
          "user_495",
          "user_583",
          "target_user"
         ],
         "type": "scatter",
         "x": [
          -0.696685176671667,
          -0.9580461698400431,
          -0.932125360511012,
          0.8641321727875592,
          -0.2605833097801802,
          0.02388776325304723,
          -0.4369744445861462,
          -0.7829672203833326,
          -0.0900282668703407,
          -0.17284597500243776,
          -0.4534888557374238,
          0.840181635501852,
          -2.104561345927003,
          0.8667093742394715,
          -0.018982459806328743,
          0.41863059853791423,
          -1.7019340052861407,
          0.8080422566869154,
          -1.4898004810670287,
          1.2735165079428514,
          -0.8373534156714941,
          0.9973649402008591,
          -2.0680768323469003,
          0.6970880465674075,
          -0.028704595204748298,
          -0.5009979171507948,
          0.9433679932841793,
          -1.1185616513838124,
          0.33897538132683186,
          -2.042259093014203,
          -0.791899621265251,
          -0.7788307485989558,
          0.4440273390010066,
          -0.2954747717695014,
          1.2829381638876827,
          0.8746990843736605,
          -2.6037364775119007,
          -0.15152091116400157,
          -1.2464651192044762,
          -0.6606401619092317,
          2.6955474486995055,
          0.47439225789772976,
          -1.408133890597043,
          1.7746375510010997,
          0.9084713859870248,
          0.2813004351120588,
          2.307101056935337,
          1.0766436314699237,
          0.11477939535797285,
          -2.2718816825007306,
          -1.44401667408904,
          -0.29134835146912,
          2.220863719040617,
          1.1626039296323354,
          0.6130050144411999,
          -0.5037875935323709,
          -1.241142166963483,
          -0.4017858947866274,
          1.8267013010097413,
          -1.9610894028109593,
          -1.1216574589059316,
          -2.287922255173077,
          0.31055985704002553,
          0.44108685201746806,
          -1.8147180879311395,
          0.1344604060461765,
          -0.09381098930378312,
          1.4180271018649753,
          -0.5492922611426879,
          0.6313830417752769,
          1.453255870240181,
          -1.4264024675775808,
          2.5896923169138626,
          2.0975212271057764,
          -0.38411491449995294,
          0.13858222826748742,
          1.976744602532463,
          -0.0566370136492176,
          1.4830288443425006,
          -0.34876871073116866,
          -0.10112346998826581,
          0.867803535288816,
          -1.2111634177166224,
          0.5253787413557451,
          -0.8438469857194812,
          0.04851182386634701,
          0.7183902244670416,
          0.5615599928234114,
          0.4272460972025349,
          4.016855219622225,
          -1.8685057923032635,
          0.018393650662845908,
          -1.2413105851290367,
          0.22785361191767645,
          -0.19433831190597736,
          1.1195514012650714,
          -1.795171582146123,
          -0.981591569708896,
          0.8584200017993775,
          0.8731908853528704,
          0.18355893083775907
         ],
         "xaxis": "x",
         "y": [
          0.47757580906159897,
          0.09442829753662695,
          -1.5731943685189818,
          -1.2987032290645422,
          0.46879815187856994,
          -0.683016392633374,
          1.0832924864377609,
          1.027749590504606,
          -0.795185885838979,
          -0.30634148711523346,
          0.21656611165790549,
          1.602948424102871,
          1.3373308910460184,
          1.293280115228115,
          0.4401355278127406,
          0.8294412934241552,
          0.01666992193795363,
          0.6389062701521421,
          -1.4744893579947091,
          -1.0749706024733658,
          1.742261686796336,
          2.2500903330270794,
          0.25130339218395414,
          -0.14546601186309058,
          -2.2510760446817204,
          -0.48626529659793594,
          -0.6839260898666089,
          -0.4557859657590274,
          -0.346778783623681,
          1.074967516127625,
          2.6950833107280725,
          0.9725900491978853,
          -0.17777162096246857,
          0.4715562029558816,
          1.078211196903191,
          0.637684327506539,
          -0.4580128664950913,
          1.4630011812230277,
          -0.5312134528641883,
          -1.585784904099547,
          -0.19620665338699897,
          0.17806340107001775,
          -2.818448941323228,
          -0.3783872116583591,
          -1.3667240595601264,
          0.3732994836513542,
          -1.5893041644431007,
          -0.04110931260647076,
          -0.49440077075567324,
          -1.6160115714014731,
          -0.37317835061891863,
          -0.7626104745646823,
          -0.047561467060751615,
          -0.5279634545562858,
          1.870641486051615,
          -1.7109977231156823,
          -0.5700535288652748,
          0.24052623610611534,
          -0.8292103129322801,
          -0.6357070728441083,
          -0.3531890754237397,
          1.4994455768120138,
          1.4922400544268766,
          0.26022513880270104,
          -1.9289855799603277,
          0.7478730482841689,
          -0.751637272453795,
          0.5130712781425313,
          0.38309209130431465,
          -2.0356121331836303,
          0.05042454331656581,
          1.6489035686184816,
          1.8933428987722478,
          -1.2878882342934423,
          -1.819514734720521,
          -0.7593469361094799,
          -0.7043940756498317,
          -1.5497897504885327,
          1.9614396678423949,
          -0.17576031675648615,
          2.8372922851881857,
          0.39259579834757835,
          0.711080578122923,
          -0.6056451189405228,
          2.7112753993419845,
          0.3448507828184358,
          0.912866353588701,
          -0.9167464957910642,
          0.05411076845764346,
          -0.5401238930012744,
          -0.6367510882091323,
          -0.44157321510342873,
          2.022728402174694,
          1.6633534517739144,
          -0.824367654385427,
          -0.7688755779817098,
          0.24192933333252978,
          -2.092985899134583,
          -1.229231355706485,
          0.5397321236607245,
          -0.04549790879062184
         ],
         "yaxis": "y"
        },
        {
         "customdata": [
          [
           1
          ]
         ],
         "hovertemplate": "x=%{x}<br>y=%{y}<br>text=%{text}<br>similarity=%{customdata[0]}<extra></extra>",
         "legendgroup": "",
         "marker": {
          "color": "red",
          "size": 16,
          "symbol": "star"
         },
         "mode": "markers+text",
         "name": "",
         "orientation": "v",
         "showlegend": false,
         "text": [
          "You"
         ],
         "type": "scatter",
         "x": [
          0.18355893083775907
         ],
         "xaxis": "x",
         "y": [
          -0.04549790879062184
         ],
         "yaxis": "y"
        }
       ],
       "layout": {
        "coloraxis": {
         "colorbar": {
          "title": {
           "text": "similarity"
          }
         },
         "colorscale": [
          [
           0,
           "#440154"
          ],
          [
           0.1111111111111111,
           "#482878"
          ],
          [
           0.2222222222222222,
           "#3e4989"
          ],
          [
           0.3333333333333333,
           "#31688e"
          ],
          [
           0.4444444444444444,
           "#26828e"
          ],
          [
           0.5555555555555556,
           "#1f9e89"
          ],
          [
           0.6666666666666666,
           "#35b779"
          ],
          [
           0.7777777777777778,
           "#6ece58"
          ],
          [
           0.8888888888888888,
           "#b5de2b"
          ],
          [
           1,
           "#fde725"
          ]
         ]
        },
        "height": 600,
        "legend": {
         "tracegroupgap": 0
        },
        "template": {
         "data": {
          "bar": [
           {
            "error_x": {
             "color": "#2a3f5f"
            },
            "error_y": {
             "color": "#2a3f5f"
            },
            "marker": {
             "line": {
              "color": "#E5ECF6",
              "width": 0.5
             },
             "pattern": {
              "fillmode": "overlay",
              "size": 10,
              "solidity": 0.2
             }
            },
            "type": "bar"
           }
          ],
          "barpolar": [
           {
            "marker": {
             "line": {
              "color": "#E5ECF6",
              "width": 0.5
             },
             "pattern": {
              "fillmode": "overlay",
              "size": 10,
              "solidity": 0.2
             }
            },
            "type": "barpolar"
           }
          ],
          "carpet": [
           {
            "aaxis": {
             "endlinecolor": "#2a3f5f",
             "gridcolor": "white",
             "linecolor": "white",
             "minorgridcolor": "white",
             "startlinecolor": "#2a3f5f"
            },
            "baxis": {
             "endlinecolor": "#2a3f5f",
             "gridcolor": "white",
             "linecolor": "white",
             "minorgridcolor": "white",
             "startlinecolor": "#2a3f5f"
            },
            "type": "carpet"
           }
          ],
          "choropleth": [
           {
            "colorbar": {
             "outlinewidth": 0,
             "ticks": ""
            },
            "type": "choropleth"
           }
          ],
          "contour": [
           {
            "colorbar": {
             "outlinewidth": 0,
             "ticks": ""
            },
            "colorscale": [
             [
              0,
              "#0d0887"
             ],
             [
              0.1111111111111111,
              "#46039f"
             ],
             [
              0.2222222222222222,
              "#7201a8"
             ],
             [
              0.3333333333333333,
              "#9c179e"
             ],
             [
              0.4444444444444444,
              "#bd3786"
             ],
             [
              0.5555555555555556,
              "#d8576b"
             ],
             [
              0.6666666666666666,
              "#ed7953"
             ],
             [
              0.7777777777777778,
              "#fb9f3a"
             ],
             [
              0.8888888888888888,
              "#fdca26"
             ],
             [
              1,
              "#f0f921"
             ]
            ],
            "type": "contour"
           }
          ],
          "contourcarpet": [
           {
            "colorbar": {
             "outlinewidth": 0,
             "ticks": ""
            },
            "type": "contourcarpet"
           }
          ],
          "heatmap": [
           {
            "colorbar": {
             "outlinewidth": 0,
             "ticks": ""
            },
            "colorscale": [
             [
              0,
              "#0d0887"
             ],
             [
              0.1111111111111111,
              "#46039f"
             ],
             [
              0.2222222222222222,
              "#7201a8"
             ],
             [
              0.3333333333333333,
              "#9c179e"
             ],
             [
              0.4444444444444444,
              "#bd3786"
             ],
             [
              0.5555555555555556,
              "#d8576b"
             ],
             [
              0.6666666666666666,
              "#ed7953"
             ],
             [
              0.7777777777777778,
              "#fb9f3a"
             ],
             [
              0.8888888888888888,
              "#fdca26"
             ],
             [
              1,
              "#f0f921"
             ]
            ],
            "type": "heatmap"
           }
          ],
          "heatmapgl": [
           {
            "colorbar": {
             "outlinewidth": 0,
             "ticks": ""
            },
            "colorscale": [
             [
              0,
              "#0d0887"
             ],
             [
              0.1111111111111111,
              "#46039f"
             ],
             [
              0.2222222222222222,
              "#7201a8"
             ],
             [
              0.3333333333333333,
              "#9c179e"
             ],
             [
              0.4444444444444444,
              "#bd3786"
             ],
             [
              0.5555555555555556,
              "#d8576b"
             ],
             [
              0.6666666666666666,
              "#ed7953"
             ],
             [
              0.7777777777777778,
              "#fb9f3a"
             ],
             [
              0.8888888888888888,
              "#fdca26"
             ],
             [
              1,
              "#f0f921"
             ]
            ],
            "type": "heatmapgl"
           }
          ],
          "histogram": [
           {
            "marker": {
             "pattern": {
              "fillmode": "overlay",
              "size": 10,
              "solidity": 0.2
             }
            },
            "type": "histogram"
           }
          ],
          "histogram2d": [
           {
            "colorbar": {
             "outlinewidth": 0,
             "ticks": ""
            },
            "colorscale": [
             [
              0,
              "#0d0887"
             ],
             [
              0.1111111111111111,
              "#46039f"
             ],
             [
              0.2222222222222222,
              "#7201a8"
             ],
             [
              0.3333333333333333,
              "#9c179e"
             ],
             [
              0.4444444444444444,
              "#bd3786"
             ],
             [
              0.5555555555555556,
              "#d8576b"
             ],
             [
              0.6666666666666666,
              "#ed7953"
             ],
             [
              0.7777777777777778,
              "#fb9f3a"
             ],
             [
              0.8888888888888888,
              "#fdca26"
             ],
             [
              1,
              "#f0f921"
             ]
            ],
            "type": "histogram2d"
           }
          ],
          "histogram2dcontour": [
           {
            "colorbar": {
             "outlinewidth": 0,
             "ticks": ""
            },
            "colorscale": [
             [
              0,
              "#0d0887"
             ],
             [
              0.1111111111111111,
              "#46039f"
             ],
             [
              0.2222222222222222,
              "#7201a8"
             ],
             [
              0.3333333333333333,
              "#9c179e"
             ],
             [
              0.4444444444444444,
              "#bd3786"
             ],
             [
              0.5555555555555556,
              "#d8576b"
             ],
             [
              0.6666666666666666,
              "#ed7953"
             ],
             [
              0.7777777777777778,
              "#fb9f3a"
             ],
             [
              0.8888888888888888,
              "#fdca26"
             ],
             [
              1,
              "#f0f921"
             ]
            ],
            "type": "histogram2dcontour"
           }
          ],
          "mesh3d": [
           {
            "colorbar": {
             "outlinewidth": 0,
             "ticks": ""
            },
            "type": "mesh3d"
           }
          ],
          "parcoords": [
           {
            "line": {
             "colorbar": {
              "outlinewidth": 0,
              "ticks": ""
             }
            },
            "type": "parcoords"
           }
          ],
          "pie": [
           {
            "automargin": true,
            "type": "pie"
           }
          ],
          "scatter": [
           {
            "fillpattern": {
             "fillmode": "overlay",
             "size": 10,
             "solidity": 0.2
            },
            "type": "scatter"
           }
          ],
          "scatter3d": [
           {
            "line": {
             "colorbar": {
              "outlinewidth": 0,
              "ticks": ""
             }
            },
            "marker": {
             "colorbar": {
              "outlinewidth": 0,
              "ticks": ""
             }
            },
            "type": "scatter3d"
           }
          ],
          "scattercarpet": [
           {
            "marker": {
             "colorbar": {
              "outlinewidth": 0,
              "ticks": ""
             }
            },
            "type": "scattercarpet"
           }
          ],
          "scattergeo": [
           {
            "marker": {
             "colorbar": {
              "outlinewidth": 0,
              "ticks": ""
             }
            },
            "type": "scattergeo"
           }
          ],
          "scattergl": [
           {
            "marker": {
             "colorbar": {
              "outlinewidth": 0,
              "ticks": ""
             }
            },
            "type": "scattergl"
           }
          ],
          "scattermapbox": [
           {
            "marker": {
             "colorbar": {
              "outlinewidth": 0,
              "ticks": ""
             }
            },
            "type": "scattermapbox"
           }
          ],
          "scatterpolar": [
           {
            "marker": {
             "colorbar": {
              "outlinewidth": 0,
              "ticks": ""
             }
            },
            "type": "scatterpolar"
           }
          ],
          "scatterpolargl": [
           {
            "marker": {
             "colorbar": {
              "outlinewidth": 0,
              "ticks": ""
             }
            },
            "type": "scatterpolargl"
           }
          ],
          "scatterternary": [
           {
            "marker": {
             "colorbar": {
              "outlinewidth": 0,
              "ticks": ""
             }
            },
            "type": "scatterternary"
           }
          ],
          "surface": [
           {
            "colorbar": {
             "outlinewidth": 0,
             "ticks": ""
            },
            "colorscale": [
             [
              0,
              "#0d0887"
             ],
             [
              0.1111111111111111,
              "#46039f"
             ],
             [
              0.2222222222222222,
              "#7201a8"
             ],
             [
              0.3333333333333333,
              "#9c179e"
             ],
             [
              0.4444444444444444,
              "#bd3786"
             ],
             [
              0.5555555555555556,
              "#d8576b"
             ],
             [
              0.6666666666666666,
              "#ed7953"
             ],
             [
              0.7777777777777778,
              "#fb9f3a"
             ],
             [
              0.8888888888888888,
              "#fdca26"
             ],
             [
              1,
              "#f0f921"
             ]
            ],
            "type": "surface"
           }
          ],
          "table": [
           {
            "cells": {
             "fill": {
              "color": "#EBF0F8"
             },
             "line": {
              "color": "white"
             }
            },
            "header": {
             "fill": {
              "color": "#C8D4E3"
             },
             "line": {
              "color": "white"
             }
            },
            "type": "table"
           }
          ]
         },
         "layout": {
          "annotationdefaults": {
           "arrowcolor": "#2a3f5f",
           "arrowhead": 0,
           "arrowwidth": 1
          },
          "autotypenumbers": "strict",
          "coloraxis": {
           "colorbar": {
            "outlinewidth": 0,
            "ticks": ""
           }
          },
          "colorscale": {
           "diverging": [
            [
             0,
             "#8e0152"
            ],
            [
             0.1,
             "#c51b7d"
            ],
            [
             0.2,
             "#de77ae"
            ],
            [
             0.3,
             "#f1b6da"
            ],
            [
             0.4,
             "#fde0ef"
            ],
            [
             0.5,
             "#f7f7f7"
            ],
            [
             0.6,
             "#e6f5d0"
            ],
            [
             0.7,
             "#b8e186"
            ],
            [
             0.8,
             "#7fbc41"
            ],
            [
             0.9,
             "#4d9221"
            ],
            [
             1,
             "#276419"
            ]
           ],
           "sequential": [
            [
             0,
             "#0d0887"
            ],
            [
             0.1111111111111111,
             "#46039f"
            ],
            [
             0.2222222222222222,
             "#7201a8"
            ],
            [
             0.3333333333333333,
             "#9c179e"
            ],
            [
             0.4444444444444444,
             "#bd3786"
            ],
            [
             0.5555555555555556,
             "#d8576b"
            ],
            [
             0.6666666666666666,
             "#ed7953"
            ],
            [
             0.7777777777777778,
             "#fb9f3a"
            ],
            [
             0.8888888888888888,
             "#fdca26"
            ],
            [
             1,
             "#f0f921"
            ]
           ],
           "sequentialminus": [
            [
             0,
             "#0d0887"
            ],
            [
             0.1111111111111111,
             "#46039f"
            ],
            [
             0.2222222222222222,
             "#7201a8"
            ],
            [
             0.3333333333333333,
             "#9c179e"
            ],
            [
             0.4444444444444444,
             "#bd3786"
            ],
            [
             0.5555555555555556,
             "#d8576b"
            ],
            [
             0.6666666666666666,
             "#ed7953"
            ],
            [
             0.7777777777777778,
             "#fb9f3a"
            ],
            [
             0.8888888888888888,
             "#fdca26"
            ],
            [
             1,
             "#f0f921"
            ]
           ]
          },
          "colorway": [
           "#636efa",
           "#EF553B",
           "#00cc96",
           "#ab63fa",
           "#FFA15A",
           "#19d3f3",
           "#FF6692",
           "#B6E880",
           "#FF97FF",
           "#FECB52"
          ],
          "font": {
           "color": "#2a3f5f"
          },
          "geo": {
           "bgcolor": "white",
           "lakecolor": "white",
           "landcolor": "#E5ECF6",
           "showlakes": true,
           "showland": true,
           "subunitcolor": "white"
          },
          "hoverlabel": {
           "align": "left"
          },
          "hovermode": "closest",
          "mapbox": {
           "style": "light"
          },
          "paper_bgcolor": "white",
          "plot_bgcolor": "#E5ECF6",
          "polar": {
           "angularaxis": {
            "gridcolor": "white",
            "linecolor": "white",
            "ticks": ""
           },
           "bgcolor": "#E5ECF6",
           "radialaxis": {
            "gridcolor": "white",
            "linecolor": "white",
            "ticks": ""
           }
          },
          "scene": {
           "xaxis": {
            "backgroundcolor": "#E5ECF6",
            "gridcolor": "white",
            "gridwidth": 2,
            "linecolor": "white",
            "showbackground": true,
            "ticks": "",
            "zerolinecolor": "white"
           },
           "yaxis": {
            "backgroundcolor": "#E5ECF6",
            "gridcolor": "white",
            "gridwidth": 2,
            "linecolor": "white",
            "showbackground": true,
            "ticks": "",
            "zerolinecolor": "white"
           },
           "zaxis": {
            "backgroundcolor": "#E5ECF6",
            "gridcolor": "white",
            "gridwidth": 2,
            "linecolor": "white",
            "showbackground": true,
            "ticks": "",
            "zerolinecolor": "white"
           }
          },
          "shapedefaults": {
           "line": {
            "color": "#2a3f5f"
           }
          },
          "ternary": {
           "aaxis": {
            "gridcolor": "white",
            "linecolor": "white",
            "ticks": ""
           },
           "baxis": {
            "gridcolor": "white",
            "linecolor": "white",
            "ticks": ""
           },
           "bgcolor": "#E5ECF6",
           "caxis": {
            "gridcolor": "white",
            "linecolor": "white",
            "ticks": ""
           }
          },
          "title": {
           "x": 0.05
          },
          "xaxis": {
           "automargin": true,
           "gridcolor": "white",
           "linecolor": "white",
           "ticks": "",
           "title": {
            "standoff": 15
           },
           "zerolinecolor": "white",
           "zerolinewidth": 2
          },
          "yaxis": {
           "automargin": true,
           "gridcolor": "white",
           "linecolor": "white",
           "ticks": "",
           "title": {
            "standoff": 15
           },
           "zerolinecolor": "white",
           "zerolinewidth": 2
          }
         }
        },
        "title": {
         "text": "Similarity-based PCA Positioning (Target User Highlighted)"
        },
        "width": 900,
        "xaxis": {
         "anchor": "y",
         "domain": [
          0,
          1
         ],
         "title": {
          "text": "x"
         }
        },
        "yaxis": {
         "anchor": "x",
         "domain": [
          0,
          1
         ],
         "title": {
          "text": "y"
         }
        }
       }
      }
     },
     "metadata": {},
     "output_type": "display_data"
    }
   ],
   "source": [
    "import pandas as pd\n",
    "import numpy as np\n",
    "from sklearn.preprocessing import StandardScaler\n",
    "from sklearn.metrics.pairwise import cosine_similarity\n",
    "from sklearn.decomposition import PCA\n",
    "import plotly.express as px\n",
    "\n",
    "# 예시 데이터 생성\n",
    "np.random.seed(0)\n",
    "sample_size = 1000\n",
    "feature_names = [\n",
    "    \"KDA\",\n",
    "    \"cs_per_min\",\n",
    "    \"gold_per_min\",\n",
    "    \"xp_per_min\",\n",
    "    \"damage_per_min\",\n",
    "    \"damage_taken_per_min\",\n",
    "    \"ka_per_min\",\n",
    "    \"damage_efficiency\",\n",
    "    \"survivability\",\n",
    "    \"healthregen_per_min\",\n",
    "    \"offensive_score\",\n",
    "    \"defensive_score\",\n",
    "    \"magic_score\",\n",
    "    \"total_vamp\",\n",
    "    \"haste_score\",\n",
    "    \"wards_placed_per_min\",\n",
    "    \"wards_killed_per_min\",\n",
    "    \"vision_score_est\",\n",
    "]\n",
    "X_full = pd.DataFrame(\n",
    "    np.random.rand(sample_size, len(feature_names)), columns=feature_names\n",
    ")\n",
    "X_full[\"puuid\"] = [\"user_\" + str(i) for i in range(sample_size)]\n",
    "\n",
    "# 기준 유저 생성 (평균 기반)\n",
    "target_puuid = \"target_user\"\n",
    "X_target = pd.DataFrame(X_full[feature_names].mean()).T\n",
    "X_target[\"puuid\"] = target_puuid\n",
    "\n",
    "# 전체 병합\n",
    "X_all = pd.concat([X_full, X_target], ignore_index=True)\n",
    "\n",
    "# 정규화\n",
    "scaler = StandardScaler()\n",
    "X_scaled = scaler.fit_transform(X_all[feature_names])\n",
    "\n",
    "# 유사도 계산\n",
    "similarities = cosine_similarity(X_scaled[-1].reshape(1, -1), X_scaled[:-1])[0]\n",
    "X_full[\"similarity\"] = similarities\n",
    "\n",
    "# 유사도 Top 100명 추출\n",
    "top_similar = X_full.sort_values(\"similarity\", ascending=False).head(100).copy()\n",
    "\n",
    "# PCA 변환\n",
    "X_vis_scaled = scaler.transform(top_similar[feature_names])\n",
    "pca = PCA(n_components=2)\n",
    "X_pca = pca.fit_transform(X_vis_scaled)\n",
    "top_similar[\"x\"] = X_pca[:, 0]\n",
    "top_similar[\"y\"] = X_pca[:, 1]\n",
    "\n",
    "# 기준 유저 위치\n",
    "target_scaled = scaler.transform(X_target[feature_names])\n",
    "target_pca = pca.transform(target_scaled)\n",
    "target_df = pd.DataFrame(\n",
    "    {\n",
    "        \"puuid\": [target_puuid],\n",
    "        \"x\": [target_pca[0, 0]],\n",
    "        \"y\": [target_pca[0, 1]],\n",
    "        \"similarity\": [1.0],\n",
    "    }\n",
    ")\n",
    "\n",
    "# 병합\n",
    "plot_df = pd.concat(\n",
    "    [top_similar[[\"puuid\", \"x\", \"y\", \"similarity\"]], target_df], ignore_index=True\n",
    ")\n",
    "\n",
    "# Plotly 시각화\n",
    "fig = px.scatter(\n",
    "    plot_df,\n",
    "    x=\"x\",\n",
    "    y=\"y\",\n",
    "    color=\"similarity\",\n",
    "    hover_data=[\"puuid\", \"similarity\"],\n",
    "    text=\"puuid\",\n",
    "    color_continuous_scale=\"Viridis\",\n",
    "    title=\"Similarity-based PCA Positioning (Target User Highlighted)\",\n",
    ")\n",
    "\n",
    "# 기준 유저 강조\n",
    "target_trace = px.scatter(\n",
    "    target_df, x=\"x\", y=\"y\", hover_data=[\"similarity\"], text=[\"You\"]\n",
    ")\n",
    "target_trace.update_traces(marker=dict(size=16, color=\"red\", symbol=\"star\"))\n",
    "fig.add_trace(target_trace.data[0])\n",
    "fig.update_layout(height=600, width=900)\n",
    "fig.show()"
   ]
  },
  {
   "cell_type": "code",
   "execution_count": null,
   "id": "e10e523d",
   "metadata": {},
   "outputs": [],
   "source": []
  }
 ],
 "metadata": {
  "kernelspec": {
   "display_name": "base",
   "language": "python",
   "name": "python3"
  },
  "language_info": {
   "codemirror_mode": {
    "name": "ipython",
    "version": 3
   },
   "file_extension": ".py",
   "mimetype": "text/x-python",
   "name": "python",
   "nbconvert_exporter": "python",
   "pygments_lexer": "ipython3",
   "version": "3.11.7"
  }
 },
 "nbformat": 4,
 "nbformat_minor": 5
}
