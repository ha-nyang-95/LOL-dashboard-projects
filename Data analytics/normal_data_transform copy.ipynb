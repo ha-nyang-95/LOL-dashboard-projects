{
 "cells": [
  {
   "cell_type": "code",
   "execution_count": 146,
   "id": "b53a1d37",
   "metadata": {},
   "outputs": [],
   "source": [
    "# ! pip install ipympl\n",
    "#! pip install scikit-learn\n",
    "#! pip install seaborn"
   ]
  },
  {
   "cell_type": "code",
   "execution_count": 42,
   "id": "2022f7fc",
   "metadata": {},
   "outputs": [],
   "source": [
    "import pandas as pd\n",
    "import numpy as np\n",
    "from sklearn.preprocessing import StandardScaler\n",
    "from sklearn.metrics.pairwise import cosine_similarity\n",
    "import matplotlib.pyplot as plt\n",
    "import seaborn as sns\n"
   ]
  },
  {
   "cell_type": "markdown",
   "id": "a4872c58",
   "metadata": {},
   "source": [
    "# 1. 데이터 로딩 및 전처리"
   ]
  },
  {
   "cell_type": "code",
   "execution_count": 43,
   "id": "92a062fc",
   "metadata": {},
   "outputs": [],
   "source": [
    "# 예시 경로, 실제 경로로 수정 필요\n",
    "\n",
    "# 게임에 참가한 사람들의 고유 정보\n",
    "participants = pd.read_csv(\"data/user/participants.csv\")\n",
    "# 시간 흐름에 따라 변화하는 실시간 스탯 (골드, 딜량 등) \n",
    "participants_frames = pd.read_csv(\"data/user/participant_frames.csv\")\n",
    "# 게임 단위의 결과 (승패 등)\n",
    "matches = pd.read_csv(\"data/user/matches.csv\")\n",
    "# 킬 이벤트 정보 (누가 누구를 죽였는지)\n",
    "champ_kill = pd.read_csv('data/user/events__CHAMPION_KILL.csv')"
   ]
  },
  {
   "cell_type": "code",
   "execution_count": 44,
   "id": "3dd3e3fa",
   "metadata": {},
   "outputs": [],
   "source": [
    "# 가장 마지막 프레임만 사용 (게임 종료 시점 상태)\n",
    "# 게임 종료 시점 기준으로 정보 하나로 묶기\n",
    "latest_frames = participants_frames.sort_values(\"frame_timestamp\").drop_duplicates(\n",
    "    subset=[\"game_id\", \"participant_id\"], keep='last'\n",
    ")\n",
    "\n",
    "merged_df = pd.merge(participants, latest_frames, on=[\"game_id\", \"participant_id\"], how=\"left\")"
   ]
  },
  {
   "cell_type": "markdown",
   "id": "bade9f35",
   "metadata": {},
   "source": [
    "## 2. KDA 및 주요 파생 지표 생성"
   ]
  },
  {
   "cell_type": "markdown",
   "id": "6227b0ac",
   "metadata": {},
   "source": [
    "### KDA 계산\n",
    "\n",
    "컬럼 | 의미\n",
    "---- | ----\n",
    "kills | 해당 경기에서 몇 번 킬 했는가\n",
    "deaths | 몇 번 죽었는가\n",
    "assists | 어시스트 수\n",
    "KDA | (킬 + 어시스트) / 데스 (생존 기반 전투 영향력)"
   ]
  },
  {
   "cell_type": "code",
   "execution_count": 45,
   "id": "9d99094f",
   "metadata": {},
   "outputs": [],
   "source": [
    "# kills 수 계산 (킬한 사람 기준)\n",
    "kills = champ_kill.groupby([\"game_id\", \"killer_id\"]).size().reset_index(name=\"kills\")\n",
    "kills.rename(columns={\"killer_id\": \"participant_id\"}, inplace=True)"
   ]
  },
  {
   "cell_type": "code",
   "execution_count": 46,
   "id": "28fc37ad",
   "metadata": {},
   "outputs": [],
   "source": [
    "# deaths 수 계산 (죽은 사람 기준)\n",
    "deaths = champ_kill.groupby([\"game_id\", \"victim_id\"]).size().reset_index(name=\"deaths\")\n",
    "deaths.rename(columns={\"victim_id\": \"participant_id\"}, inplace=True)"
   ]
  },
  {
   "cell_type": "code",
   "execution_count": 47,
   "id": "e36b6eed",
   "metadata": {},
   "outputs": [],
   "source": [
    "# assists 수 계산\n",
    "assist_df = pd.read_csv(\"data/top1000/event_assists.csv\")\n",
    "\n",
    "# 게임 ID + 어시스트 참가자 ID로 그룹화\n",
    "assists = assist_df.groupby([\"game_id\", \"participant_id\"]).size().reset_index(name=\"assists\")\n"
   ]
  },
  {
   "cell_type": "code",
   "execution_count": 48,
   "id": "2ad7d614",
   "metadata": {},
   "outputs": [],
   "source": [
    "# KDA 구하기\n",
    "\n",
    "# 기본 participant list (merged_df)에서 가져오자\n",
    "kda_base = merged_df[[\"game_id\", \"participant_id\", \"puuid\"]].drop_duplicates()\n",
    "\n",
    "# 병합\n",
    "kda_df = (\n",
    "    kda_base\n",
    "    .merge(kills, on=[\"game_id\", \"participant_id\"], how=\"left\")\n",
    "    .merge(deaths, on=[\"game_id\", \"participant_id\"], how=\"left\")\n",
    ")\n",
    "\n",
    "# 어시스트 컬럼 있으면 병합\n",
    "if 'assists' in locals():\n",
    "    kda_df = kda_df.merge(assists, on=[\"game_id\", \"participant_id\"], how=\"left\")\n",
    "\n",
    "# 결측값 0으로 채우기\n",
    "kda_df[[\"kills\", \"deaths\", \"assists\"]] = kda_df[[\"kills\", \"deaths\", \"assists\"]].fillna(0).astype(int)\n",
    "\n",
    "# KDA 계산\n",
    "# 분모가 0이 되면 오류가 나기 때문에, 완벽 생존은 1로 나눈 값을 최대치로 보정\n",
    "kda_df[\"KDA\"] = (kda_df[\"kills\"] + kda_df[\"assists\"]) / kda_df[\"deaths\"].replace(0, 1)\n"
   ]
  },
  {
   "cell_type": "code",
   "execution_count": 49,
   "id": "499d1b79",
   "metadata": {},
   "outputs": [
    {
     "data": {
      "text/html": [
       "<div>\n",
       "<style scoped>\n",
       "    .dataframe tbody tr th:only-of-type {\n",
       "        vertical-align: middle;\n",
       "    }\n",
       "\n",
       "    .dataframe tbody tr th {\n",
       "        vertical-align: top;\n",
       "    }\n",
       "\n",
       "    .dataframe thead th {\n",
       "        text-align: right;\n",
       "    }\n",
       "</style>\n",
       "<table border=\"1\" class=\"dataframe\">\n",
       "  <thead>\n",
       "    <tr style=\"text-align: right;\">\n",
       "      <th></th>\n",
       "      <th>game_id</th>\n",
       "      <th>participant_id</th>\n",
       "      <th>puuid</th>\n",
       "      <th>frame_timestamp</th>\n",
       "      <th>current_gold</th>\n",
       "      <th>gold_per_second</th>\n",
       "      <th>jungle_minions_killed</th>\n",
       "      <th>level</th>\n",
       "      <th>minions_killed</th>\n",
       "      <th>time_enemy_spent_controlled</th>\n",
       "      <th>...</th>\n",
       "      <th>totalDamageDone</th>\n",
       "      <th>totalDamageDoneToChampions</th>\n",
       "      <th>totalDamageTaken</th>\n",
       "      <th>trueDamageDone</th>\n",
       "      <th>trueDamageDoneToChampions</th>\n",
       "      <th>trueDamageTaken</th>\n",
       "      <th>kills</th>\n",
       "      <th>deaths</th>\n",
       "      <th>assists</th>\n",
       "      <th>KDA</th>\n",
       "    </tr>\n",
       "  </thead>\n",
       "  <tbody>\n",
       "    <tr>\n",
       "      <th>0</th>\n",
       "      <td>7494844141</td>\n",
       "      <td>1</td>\n",
       "      <td>FjQNTm2bigLzOTT-Z3OHxkOUv03NA94H5MtpbZvZ5rReDq...</td>\n",
       "      <td>2109058</td>\n",
       "      <td>41</td>\n",
       "      <td>0</td>\n",
       "      <td>192</td>\n",
       "      <td>16</td>\n",
       "      <td>27</td>\n",
       "      <td>808201</td>\n",
       "      <td>...</td>\n",
       "      <td>282328</td>\n",
       "      <td>30644</td>\n",
       "      <td>53658</td>\n",
       "      <td>80762</td>\n",
       "      <td>2110</td>\n",
       "      <td>965</td>\n",
       "      <td>7</td>\n",
       "      <td>11</td>\n",
       "      <td>0</td>\n",
       "      <td>0.636364</td>\n",
       "    </tr>\n",
       "    <tr>\n",
       "      <th>1</th>\n",
       "      <td>7494844141</td>\n",
       "      <td>2</td>\n",
       "      <td>GIMAB6FWhOn1fGc3QwGL1N9-4Zp9bLF7OQFZUMveLZRAN7...</td>\n",
       "      <td>2109058</td>\n",
       "      <td>54</td>\n",
       "      <td>0</td>\n",
       "      <td>4</td>\n",
       "      <td>16</td>\n",
       "      <td>184</td>\n",
       "      <td>66402</td>\n",
       "      <td>...</td>\n",
       "      <td>118735</td>\n",
       "      <td>23226</td>\n",
       "      <td>30316</td>\n",
       "      <td>13692</td>\n",
       "      <td>2111</td>\n",
       "      <td>746</td>\n",
       "      <td>3</td>\n",
       "      <td>8</td>\n",
       "      <td>0</td>\n",
       "      <td>0.375000</td>\n",
       "    </tr>\n",
       "    <tr>\n",
       "      <th>2</th>\n",
       "      <td>7494844141</td>\n",
       "      <td>3</td>\n",
       "      <td>GUtnltQQ4cxM_6Pf1Kl5OqzPzs-NFR8-0xcb3g_oi2uVP8...</td>\n",
       "      <td>2109058</td>\n",
       "      <td>697</td>\n",
       "      <td>0</td>\n",
       "      <td>0</td>\n",
       "      <td>16</td>\n",
       "      <td>191</td>\n",
       "      <td>292153</td>\n",
       "      <td>...</td>\n",
       "      <td>109884</td>\n",
       "      <td>11419</td>\n",
       "      <td>38977</td>\n",
       "      <td>878</td>\n",
       "      <td>0</td>\n",
       "      <td>911</td>\n",
       "      <td>0</td>\n",
       "      <td>10</td>\n",
       "      <td>0</td>\n",
       "      <td>0.000000</td>\n",
       "    </tr>\n",
       "    <tr>\n",
       "      <th>3</th>\n",
       "      <td>7494844141</td>\n",
       "      <td>4</td>\n",
       "      <td>IRp95UwU1QKgaiSJCTjO3aYlIiVMopikQs7_bBglbHxZNu...</td>\n",
       "      <td>2109058</td>\n",
       "      <td>1466</td>\n",
       "      <td>0</td>\n",
       "      <td>32</td>\n",
       "      <td>18</td>\n",
       "      <td>341</td>\n",
       "      <td>28975</td>\n",
       "      <td>...</td>\n",
       "      <td>402103</td>\n",
       "      <td>68445</td>\n",
       "      <td>25425</td>\n",
       "      <td>9706</td>\n",
       "      <td>504</td>\n",
       "      <td>1067</td>\n",
       "      <td>11</td>\n",
       "      <td>7</td>\n",
       "      <td>0</td>\n",
       "      <td>1.571429</td>\n",
       "    </tr>\n",
       "    <tr>\n",
       "      <th>4</th>\n",
       "      <td>7494844141</td>\n",
       "      <td>5</td>\n",
       "      <td>-d5MIcv7Gtetq5g1xLaolc5qUozE9oX3ogQQJCLK2RCUv_...</td>\n",
       "      <td>2109058</td>\n",
       "      <td>197</td>\n",
       "      <td>50</td>\n",
       "      <td>0</td>\n",
       "      <td>14</td>\n",
       "      <td>18</td>\n",
       "      <td>137149</td>\n",
       "      <td>...</td>\n",
       "      <td>18499</td>\n",
       "      <td>7148</td>\n",
       "      <td>24831</td>\n",
       "      <td>4038</td>\n",
       "      <td>0</td>\n",
       "      <td>562</td>\n",
       "      <td>0</td>\n",
       "      <td>10</td>\n",
       "      <td>0</td>\n",
       "      <td>0.000000</td>\n",
       "    </tr>\n",
       "  </tbody>\n",
       "</table>\n",
       "<p>5 rows × 55 columns</p>\n",
       "</div>"
      ],
      "text/plain": [
       "      game_id  participant_id  \\\n",
       "0  7494844141               1   \n",
       "1  7494844141               2   \n",
       "2  7494844141               3   \n",
       "3  7494844141               4   \n",
       "4  7494844141               5   \n",
       "\n",
       "                                               puuid  frame_timestamp  \\\n",
       "0  FjQNTm2bigLzOTT-Z3OHxkOUv03NA94H5MtpbZvZ5rReDq...          2109058   \n",
       "1  GIMAB6FWhOn1fGc3QwGL1N9-4Zp9bLF7OQFZUMveLZRAN7...          2109058   \n",
       "2  GUtnltQQ4cxM_6Pf1Kl5OqzPzs-NFR8-0xcb3g_oi2uVP8...          2109058   \n",
       "3  IRp95UwU1QKgaiSJCTjO3aYlIiVMopikQs7_bBglbHxZNu...          2109058   \n",
       "4  -d5MIcv7Gtetq5g1xLaolc5qUozE9oX3ogQQJCLK2RCUv_...          2109058   \n",
       "\n",
       "   current_gold  gold_per_second  jungle_minions_killed  level  \\\n",
       "0            41                0                    192     16   \n",
       "1            54                0                      4     16   \n",
       "2           697                0                      0     16   \n",
       "3          1466                0                     32     18   \n",
       "4           197               50                      0     14   \n",
       "\n",
       "   minions_killed  time_enemy_spent_controlled  ...  totalDamageDone  \\\n",
       "0              27                       808201  ...           282328   \n",
       "1             184                        66402  ...           118735   \n",
       "2             191                       292153  ...           109884   \n",
       "3             341                        28975  ...           402103   \n",
       "4              18                       137149  ...            18499   \n",
       "\n",
       "   totalDamageDoneToChampions  totalDamageTaken  trueDamageDone  \\\n",
       "0                       30644             53658           80762   \n",
       "1                       23226             30316           13692   \n",
       "2                       11419             38977             878   \n",
       "3                       68445             25425            9706   \n",
       "4                        7148             24831            4038   \n",
       "\n",
       "   trueDamageDoneToChampions  trueDamageTaken  kills  deaths  assists  \\\n",
       "0                       2110              965      7      11        0   \n",
       "1                       2111              746      3       8        0   \n",
       "2                          0              911      0      10        0   \n",
       "3                        504             1067     11       7        0   \n",
       "4                          0              562      0      10        0   \n",
       "\n",
       "        KDA  \n",
       "0  0.636364  \n",
       "1  0.375000  \n",
       "2  0.000000  \n",
       "3  1.571429  \n",
       "4  0.000000  \n",
       "\n",
       "[5 rows x 55 columns]"
      ]
     },
     "execution_count": 49,
     "metadata": {},
     "output_type": "execute_result"
    }
   ],
   "source": [
    "# merged_df에 병합\n",
    "\n",
    "merged_df = pd.merge(merged_df, kda_df[[\"game_id\", \"participant_id\", \"kills\", \"deaths\", \"assists\", \"KDA\"]],\n",
    "                     on=[\"game_id\", \"participant_id\"], how=\"left\")\n",
    "merged_df.head()"
   ]
  },
  {
   "cell_type": "markdown",
   "id": "4b76b1b9",
   "metadata": {},
   "source": [
    "## 유사도 기반 파생 지표 생성 (예시: 시야 점수, 미니언 수, 골드 등)"
   ]
  },
  {
   "cell_type": "markdown",
   "id": "016cf00b",
   "metadata": {},
   "source": [
    "### 성장 및 경제 지표        \n",
    "\n",
    "| 지표 | 의미 | 해석 |  \n",
    "| ---- | ---- | ---- |   \n",
    "| CS/Min | 분당 미니언 수급량 | 파밍 능력 |     \n",
    "| Gold/Min | 분당 골드 | 성장 속도 |        \n",
    "| XP/Min | 분당 경험치 | 레벨 성장 속도 |       \n",
    "\n",
    "\n"
   ]
  },
  {
   "cell_type": "code",
   "execution_count": 50,
   "id": "f410c370",
   "metadata": {},
   "outputs": [],
   "source": [
    "# 성장 및 경제 지표\n",
    "\n",
    "# 분당 라인 몬스터 \n",
    "merged_df['lane_cs_per_min'] = merged_df['minions_killed'] / (merged_df[\"frame_timestamp\"] / 60000)\n",
    "\n",
    "# 분당 정글 몬스터\n",
    "merged_df['jungle_cs_per_min'] = merged_df['jungle_minions_killed'] / (merged_df[\"frame_timestamp\"] / 60000)\n",
    "\n",
    "# # CS (미니언 + 정글)\n",
    "# merged_df[\"cs\"] = merged_df[\"minions_killed\"] + merged_df[\"jungle_minions_killed\"]\n",
    "\n",
    "# # 분당 CS\n",
    "# merged_df[\"cs_per_min\"] = merged_df[\"cs\"] / (merged_df[\"frame_timestamp\"] / 60000)\n",
    "\n",
    "# jungle 성향 분석\n",
    "merged_df['jungle_ratio'] = merged_df['jungle_minions_killed'] / (merged_df['jungle_minions_killed'] + merged_df['minions_killed'])\n",
    "\n",
    "# 분당 골드\n",
    "merged_df[\"gold_per_min\"] = merged_df[\"total_gold\"] / (merged_df[\"frame_timestamp\"] / 60000)\n",
    "\n",
    "# 분당 경험치\n",
    "merged_df[\"xp_per_min\"] = merged_df[\"xp\"] / (merged_df[\"frame_timestamp\"] / 60000)"
   ]
  },
  {
   "cell_type": "markdown",
   "id": "ddaa2d34",
   "metadata": {},
   "source": [
    "### 전투 능력 지표\n",
    "\n",
    "지표 | 의미 | 해석\n",
    "---- | ---- | ----\n",
    "Damage/Min | 분당 딜량 | 전투 기여도\n",
    "Damage Taken/Min | 분당 받은 피해 | 탱킹 능력 또는 위험 노출\n",
    "KA/Min | 분당 킬 관여 수 | 싸움 참여율 (적극적인지 여부)\n",
    "Damage Efficiency | 피해 교환 비율 | 딜 효율 (딜을 얼마나 잘 넣고 덜 맞았는지)"
   ]
  },
  {
   "cell_type": "code",
   "execution_count": 51,
   "id": "9abb96ef",
   "metadata": {},
   "outputs": [],
   "source": [
    "# 전투력 관련 지표\n",
    "# 분당 피해량\n",
    "merged_df[\"damage_per_min\"] = merged_df[\"totalDamageDoneToChampions\"] / (merged_df[\"frame_timestamp\"] / 60000)\n",
    "\n",
    "# 분당 받은 피해량\n",
    "merged_df[\"damage_taken_per_min\"] = merged_df[\"totalDamageTaken\"] / (merged_df[\"frame_timestamp\"] / 60000)\n",
    "\n",
    "# 분당 킬 관여율 (K+A)/시간\n",
    "merged_df[\"ka_per_min\"] = (merged_df[\"kills\"] + merged_df[\"assists\"]) / (merged_df[\"frame_timestamp\"] / 60000)\n",
    "\n",
    "# 피해 교환 효율 (딜량 / 받은 피해량)\n",
    "merged_df[\"damage_efficiency\"] = merged_df[\"totalDamageDoneToChampions\"] / merged_df[\"totalDamageTaken\"].replace(0, 1)\n"
   ]
  },
  {
   "cell_type": "markdown",
   "id": "51178c99",
   "metadata": {},
   "source": [
    "### 생존력 지표\n",
    "\n",
    "지표 | 의미 | 해석\n",
    "---- | ---- | ----\n",
    "survivability | 생존률 | \n",
    "healthregen_per_min | 분당 체력 재생 | \n"
   ]
  },
  {
   "cell_type": "code",
   "execution_count": 52,
   "id": "347895bd",
   "metadata": {},
   "outputs": [],
   "source": [
    "# 생존력 지표\n",
    "# 생존률 (1 - 데스 / 평균 생존시간) → 데스 적을수록 높음\n",
    "merged_df[\"survivability\"] = 1 / merged_df[\"deaths\"].replace(0, 1)\n",
    "\n",
    "# 1. healthregen의 총합을 참가자별로 groupby\n",
    "agg_df = participants_frames.groupby(['game_id', 'participant_id']).agg({\n",
    "    'healthregen': 'sum',\n",
    "    'frame_timestamp': 'max'  # 해당 플레이어의 게임 시간 (ms)\n",
    "}).reset_index()\n",
    "\n",
    "# 2. 게임 시간(ms)를 분 단위로 변환\n",
    "agg_df['game_time_min'] = agg_df['frame_timestamp'] / 60000\n",
    "\n",
    "# 3. 분당 체력 재생량 계산\n",
    "agg_df['healthregen_per_min'] = agg_df['healthregen'] / agg_df['game_time_min']\n",
    "\n",
    "# 4. merged_df에 병합 (game_id + participant_id 기준)\n",
    "merged_df = merged_df.merge(\n",
    "    agg_df[['game_id', 'participant_id', 'healthregen_per_min']],\n",
    "    on=['game_id', 'participant_id'],\n",
    "    how='left'\n",
    ")\n",
    "\n",
    "# # 분당 체력 재생\n",
    "# merged_df[\"healthregen_per_min\"] = merged_df[\"healthregen\"] / (merged_df[\"frame_timestamp\"] / 60000)\n"
   ]
  },
  {
   "cell_type": "markdown",
   "id": "3484cf58",
   "metadata": {},
   "source": [
    "### 시야 장악 지표\n",
    "\n",
    "지표 | 의미 | 해석\n",
    "---- | ---- | ----\n",
    "Wards Placed/Min | 분당 설치 | 시야 제공 적극성\n",
    "Wards Killed/Min | 분당 제거 | 상대 시야 차단 능력\n",
    "Vision Score Est. | 설치+제거 총합 | 시야 장악 종합 평가 (approx.)"
   ]
  },
  {
   "cell_type": "code",
   "execution_count": 53,
   "id": "700a2ec5",
   "metadata": {},
   "outputs": [],
   "source": [
    "# 포지션 제어 / 시야 장악 지표\n",
    "wards_placed = pd.read_csv(\"data/top1000/events__WARD_PLACED.csv\")\n",
    "wards_killed = pd.read_csv(\"data/top1000/events__WARD_KILL.csv\")\n",
    "\n",
    "## 와드 설치 수\n",
    "ward_placed_count = (\n",
    "    wards_placed\n",
    "    .groupby([\"game_id\", \"creator_id\"])\n",
    "    .size()\n",
    "    .reset_index(name=\"wards_placed\")\n",
    "    .rename(columns={\"creator_id\": \"participant_id\"})\n",
    ")\n",
    "\n",
    "## 와드 제거 수\n",
    "ward_kill_count = (\n",
    "    wards_killed\n",
    "    .groupby([\"game_id\", \"killer_id\"])\n",
    "    .size()\n",
    "    .reset_index(name=\"wards_killed\")\n",
    "    .rename(columns={\"killer_id\": \"participant_id\"})\n",
    ")\n",
    "\n",
    "## merged_df에 와드 수 붙이기\n",
    "merged_df = (\n",
    "    merged_df\n",
    "    .merge(ward_placed_count, on=[\"game_id\", \"participant_id\"], how=\"left\")\n",
    "    .merge(ward_kill_count, on=[\"game_id\", \"participant_id\"], how=\"left\")\n",
    ")\n",
    "\n",
    "# 결측치는 0으로 처리\n",
    "merged_df[[\"wards_placed\", \"wards_killed\"]] = merged_df[[\"wards_placed\", \"wards_killed\"]].fillna(0).astype(int)\n",
    "\n",
    "## 시야 제어 파생 지표 추가\n",
    "# 분당 와드 설치\n",
    "merged_df[\"wards_placed_per_min\"] = merged_df[\"wards_placed\"] / (merged_df[\"frame_timestamp\"] / 60000)\n",
    "\n",
    "# 분당 와드 제거\n",
    "merged_df[\"wards_killed_per_min\"] = merged_df[\"wards_killed\"] / (merged_df[\"frame_timestamp\"] / 60000)\n",
    "\n",
    "# 종합 시야 지표 (설치 + 제거)\n",
    "merged_df[\"vision_score_est\"] = merged_df[\"wards_placed\"] + merged_df[\"wards_killed\"]\n"
   ]
  },
  {
   "cell_type": "markdown",
   "id": "933bcb7a",
   "metadata": {},
   "source": [
    "### 종합 능력치 지표\n",
    "기본 아이템 + 능력치 요약"
   ]
  },
  {
   "cell_type": "code",
   "execution_count": 54,
   "id": "fb85c0f3",
   "metadata": {},
   "outputs": [],
   "source": [
    "# 아이템/스탯 관련 종합 능력치\n",
    "# 전체 공격 스탯\n",
    "merged_df[\"offensive_score\"] = merged_df[\"attackdamage\"] + merged_df[\"attackspeed\"]\n",
    "\n",
    "# 전체 방어 스탯\n",
    "merged_df[\"defensive_score\"] = merged_df[\"armor\"] + merged_df[\"magicresist\"]\n",
    "\n",
    "# 전체 마법 능력치\n",
    "merged_df[\"magic_score\"] = merged_df[\"abilitypower\"] + merged_df[\"magicpen\"] + merged_df[\"magicpenpercent\"]\n"
   ]
  },
  {
   "cell_type": "markdown",
   "id": "d4671090",
   "metadata": {},
   "source": [
    "생존 또는 스킬 활용 능력"
   ]
  },
  {
   "cell_type": "code",
   "execution_count": 55,
   "id": "fb7b656b",
   "metadata": {},
   "outputs": [],
   "source": [
    "# 기타 유틸성 스탯\n",
    "# 만능 흡혈 + 물리 흡혈 + 주문 흡혈\n",
    "merged_df[\"total_vamp\"] = merged_df[[\"omnivamp\", \"physicalvamp\", \"spellvamp\"]].sum(axis=1)\n",
    "\n",
    "# 스킬 쿨다운 영향력\n",
    "merged_df[\"haste_score\"] = merged_df[\"cooldownreduction\"] + merged_df[\"abilityhaste\"]\n"
   ]
  },
  {
   "cell_type": "code",
   "execution_count": 56,
   "id": "6e10f31e",
   "metadata": {},
   "outputs": [
    {
     "data": {
      "text/html": [
       "<div>\n",
       "<style scoped>\n",
       "    .dataframe tbody tr th:only-of-type {\n",
       "        vertical-align: middle;\n",
       "    }\n",
       "\n",
       "    .dataframe tbody tr th {\n",
       "        vertical-align: top;\n",
       "    }\n",
       "\n",
       "    .dataframe thead th {\n",
       "        text-align: right;\n",
       "    }\n",
       "</style>\n",
       "<table border=\"1\" class=\"dataframe\">\n",
       "  <thead>\n",
       "    <tr style=\"text-align: right;\">\n",
       "      <th></th>\n",
       "      <th>game_id</th>\n",
       "      <th>participant_id</th>\n",
       "      <th>puuid</th>\n",
       "      <th>frame_timestamp</th>\n",
       "      <th>current_gold</th>\n",
       "      <th>gold_per_second</th>\n",
       "      <th>jungle_minions_killed</th>\n",
       "      <th>level</th>\n",
       "      <th>minions_killed</th>\n",
       "      <th>time_enemy_spent_controlled</th>\n",
       "      <th>...</th>\n",
       "      <th>wards_placed</th>\n",
       "      <th>wards_killed</th>\n",
       "      <th>wards_placed_per_min</th>\n",
       "      <th>wards_killed_per_min</th>\n",
       "      <th>vision_score_est</th>\n",
       "      <th>offensive_score</th>\n",
       "      <th>defensive_score</th>\n",
       "      <th>magic_score</th>\n",
       "      <th>total_vamp</th>\n",
       "      <th>haste_score</th>\n",
       "    </tr>\n",
       "  </thead>\n",
       "  <tbody>\n",
       "    <tr>\n",
       "      <th>0</th>\n",
       "      <td>7494844141</td>\n",
       "      <td>1</td>\n",
       "      <td>FjQNTm2bigLzOTT-Z3OHxkOUv03NA94H5MtpbZvZ5rReDq...</td>\n",
       "      <td>2109058</td>\n",
       "      <td>41</td>\n",
       "      <td>0</td>\n",
       "      <td>192</td>\n",
       "      <td>16</td>\n",
       "      <td>27</td>\n",
       "      <td>808201</td>\n",
       "      <td>...</td>\n",
       "      <td>0</td>\n",
       "      <td>0</td>\n",
       "      <td>0.0</td>\n",
       "      <td>0.0</td>\n",
       "      <td>0</td>\n",
       "      <td>519</td>\n",
       "      <td>172</td>\n",
       "      <td>0</td>\n",
       "      <td>0</td>\n",
       "      <td>0</td>\n",
       "    </tr>\n",
       "    <tr>\n",
       "      <th>1</th>\n",
       "      <td>7494844141</td>\n",
       "      <td>2</td>\n",
       "      <td>GIMAB6FWhOn1fGc3QwGL1N9-4Zp9bLF7OQFZUMveLZRAN7...</td>\n",
       "      <td>2109058</td>\n",
       "      <td>54</td>\n",
       "      <td>0</td>\n",
       "      <td>4</td>\n",
       "      <td>16</td>\n",
       "      <td>184</td>\n",
       "      <td>66402</td>\n",
       "      <td>...</td>\n",
       "      <td>0</td>\n",
       "      <td>0</td>\n",
       "      <td>0.0</td>\n",
       "      <td>0.0</td>\n",
       "      <td>0</td>\n",
       "      <td>220</td>\n",
       "      <td>138</td>\n",
       "      <td>403</td>\n",
       "      <td>0</td>\n",
       "      <td>0</td>\n",
       "    </tr>\n",
       "    <tr>\n",
       "      <th>2</th>\n",
       "      <td>7494844141</td>\n",
       "      <td>3</td>\n",
       "      <td>GUtnltQQ4cxM_6Pf1Kl5OqzPzs-NFR8-0xcb3g_oi2uVP8...</td>\n",
       "      <td>2109058</td>\n",
       "      <td>697</td>\n",
       "      <td>0</td>\n",
       "      <td>0</td>\n",
       "      <td>16</td>\n",
       "      <td>191</td>\n",
       "      <td>292153</td>\n",
       "      <td>...</td>\n",
       "      <td>0</td>\n",
       "      <td>0</td>\n",
       "      <td>0.0</td>\n",
       "      <td>0.0</td>\n",
       "      <td>0</td>\n",
       "      <td>242</td>\n",
       "      <td>208</td>\n",
       "      <td>194</td>\n",
       "      <td>0</td>\n",
       "      <td>0</td>\n",
       "    </tr>\n",
       "    <tr>\n",
       "      <th>3</th>\n",
       "      <td>7494844141</td>\n",
       "      <td>4</td>\n",
       "      <td>IRp95UwU1QKgaiSJCTjO3aYlIiVMopikQs7_bBglbHxZNu...</td>\n",
       "      <td>2109058</td>\n",
       "      <td>1466</td>\n",
       "      <td>0</td>\n",
       "      <td>32</td>\n",
       "      <td>18</td>\n",
       "      <td>341</td>\n",
       "      <td>28975</td>\n",
       "      <td>...</td>\n",
       "      <td>0</td>\n",
       "      <td>0</td>\n",
       "      <td>0.0</td>\n",
       "      <td>0.0</td>\n",
       "      <td>0</td>\n",
       "      <td>622</td>\n",
       "      <td>157</td>\n",
       "      <td>0</td>\n",
       "      <td>0</td>\n",
       "      <td>0</td>\n",
       "    </tr>\n",
       "    <tr>\n",
       "      <th>4</th>\n",
       "      <td>7494844141</td>\n",
       "      <td>5</td>\n",
       "      <td>-d5MIcv7Gtetq5g1xLaolc5qUozE9oX3ogQQJCLK2RCUv_...</td>\n",
       "      <td>2109058</td>\n",
       "      <td>197</td>\n",
       "      <td>50</td>\n",
       "      <td>0</td>\n",
       "      <td>14</td>\n",
       "      <td>18</td>\n",
       "      <td>137149</td>\n",
       "      <td>...</td>\n",
       "      <td>0</td>\n",
       "      <td>0</td>\n",
       "      <td>0.0</td>\n",
       "      <td>0.0</td>\n",
       "      <td>0</td>\n",
       "      <td>213</td>\n",
       "      <td>127</td>\n",
       "      <td>147</td>\n",
       "      <td>0</td>\n",
       "      <td>0</td>\n",
       "    </tr>\n",
       "    <tr>\n",
       "      <th>...</th>\n",
       "      <td>...</td>\n",
       "      <td>...</td>\n",
       "      <td>...</td>\n",
       "      <td>...</td>\n",
       "      <td>...</td>\n",
       "      <td>...</td>\n",
       "      <td>...</td>\n",
       "      <td>...</td>\n",
       "      <td>...</td>\n",
       "      <td>...</td>\n",
       "      <td>...</td>\n",
       "      <td>...</td>\n",
       "      <td>...</td>\n",
       "      <td>...</td>\n",
       "      <td>...</td>\n",
       "      <td>...</td>\n",
       "      <td>...</td>\n",
       "      <td>...</td>\n",
       "      <td>...</td>\n",
       "      <td>...</td>\n",
       "      <td>...</td>\n",
       "    </tr>\n",
       "    <tr>\n",
       "      <th>95</th>\n",
       "      <td>7276335666</td>\n",
       "      <td>6</td>\n",
       "      <td>rf8UusUjnzDhoSdnw1FjTTkHEwM4-h5Rh3xA9fe6qrb91M...</td>\n",
       "      <td>1429418</td>\n",
       "      <td>1420</td>\n",
       "      <td>0</td>\n",
       "      <td>8</td>\n",
       "      <td>15</td>\n",
       "      <td>167</td>\n",
       "      <td>328787</td>\n",
       "      <td>...</td>\n",
       "      <td>0</td>\n",
       "      <td>0</td>\n",
       "      <td>0.0</td>\n",
       "      <td>0.0</td>\n",
       "      <td>0</td>\n",
       "      <td>371</td>\n",
       "      <td>178</td>\n",
       "      <td>212</td>\n",
       "      <td>0</td>\n",
       "      <td>0</td>\n",
       "    </tr>\n",
       "    <tr>\n",
       "      <th>96</th>\n",
       "      <td>7276335666</td>\n",
       "      <td>7</td>\n",
       "      <td>-356wHRenGKjOp5pBnrCzWJv7qFR5ypK9iMpB1S0J8doFX...</td>\n",
       "      <td>1429418</td>\n",
       "      <td>489</td>\n",
       "      <td>0</td>\n",
       "      <td>136</td>\n",
       "      <td>13</td>\n",
       "      <td>15</td>\n",
       "      <td>441586</td>\n",
       "      <td>...</td>\n",
       "      <td>0</td>\n",
       "      <td>0</td>\n",
       "      <td>0.0</td>\n",
       "      <td>0.0</td>\n",
       "      <td>0</td>\n",
       "      <td>423</td>\n",
       "      <td>165</td>\n",
       "      <td>24</td>\n",
       "      <td>0</td>\n",
       "      <td>0</td>\n",
       "    </tr>\n",
       "    <tr>\n",
       "      <th>97</th>\n",
       "      <td>7276335666</td>\n",
       "      <td>8</td>\n",
       "      <td>2-AUndHRg0e4w0tIgiUSCVkGt6TwJpKXB92wFTXGR089Gy...</td>\n",
       "      <td>1429418</td>\n",
       "      <td>890</td>\n",
       "      <td>0</td>\n",
       "      <td>16</td>\n",
       "      <td>16</td>\n",
       "      <td>191</td>\n",
       "      <td>134230</td>\n",
       "      <td>...</td>\n",
       "      <td>0</td>\n",
       "      <td>0</td>\n",
       "      <td>0.0</td>\n",
       "      <td>0.0</td>\n",
       "      <td>0</td>\n",
       "      <td>488</td>\n",
       "      <td>148</td>\n",
       "      <td>24</td>\n",
       "      <td>0</td>\n",
       "      <td>0</td>\n",
       "    </tr>\n",
       "    <tr>\n",
       "      <th>98</th>\n",
       "      <td>7276335666</td>\n",
       "      <td>9</td>\n",
       "      <td>unLyIkTbvbGsOd4U5_sHbMP_H6WLbQi3UmQgFaXdAMd9Eu...</td>\n",
       "      <td>1429418</td>\n",
       "      <td>960</td>\n",
       "      <td>0</td>\n",
       "      <td>0</td>\n",
       "      <td>13</td>\n",
       "      <td>178</td>\n",
       "      <td>47827</td>\n",
       "      <td>...</td>\n",
       "      <td>0</td>\n",
       "      <td>0</td>\n",
       "      <td>0.0</td>\n",
       "      <td>0.0</td>\n",
       "      <td>0</td>\n",
       "      <td>446</td>\n",
       "      <td>120</td>\n",
       "      <td>60</td>\n",
       "      <td>0</td>\n",
       "      <td>0</td>\n",
       "    </tr>\n",
       "    <tr>\n",
       "      <th>99</th>\n",
       "      <td>7276335666</td>\n",
       "      <td>10</td>\n",
       "      <td>Rqg5u4oTD3FbitbQuHMCJzz-Mx5LDeOJgXXnknRxNrCcl0...</td>\n",
       "      <td>1429418</td>\n",
       "      <td>593</td>\n",
       "      <td>50</td>\n",
       "      <td>0</td>\n",
       "      <td>9</td>\n",
       "      <td>25</td>\n",
       "      <td>80719</td>\n",
       "      <td>...</td>\n",
       "      <td>0</td>\n",
       "      <td>0</td>\n",
       "      <td>0.0</td>\n",
       "      <td>0.0</td>\n",
       "      <td>0</td>\n",
       "      <td>216</td>\n",
       "      <td>210</td>\n",
       "      <td>24</td>\n",
       "      <td>0</td>\n",
       "      <td>0</td>\n",
       "    </tr>\n",
       "  </tbody>\n",
       "</table>\n",
       "<p>100 rows × 76 columns</p>\n",
       "</div>"
      ],
      "text/plain": [
       "       game_id  participant_id  \\\n",
       "0   7494844141               1   \n",
       "1   7494844141               2   \n",
       "2   7494844141               3   \n",
       "3   7494844141               4   \n",
       "4   7494844141               5   \n",
       "..         ...             ...   \n",
       "95  7276335666               6   \n",
       "96  7276335666               7   \n",
       "97  7276335666               8   \n",
       "98  7276335666               9   \n",
       "99  7276335666              10   \n",
       "\n",
       "                                                puuid  frame_timestamp  \\\n",
       "0   FjQNTm2bigLzOTT-Z3OHxkOUv03NA94H5MtpbZvZ5rReDq...          2109058   \n",
       "1   GIMAB6FWhOn1fGc3QwGL1N9-4Zp9bLF7OQFZUMveLZRAN7...          2109058   \n",
       "2   GUtnltQQ4cxM_6Pf1Kl5OqzPzs-NFR8-0xcb3g_oi2uVP8...          2109058   \n",
       "3   IRp95UwU1QKgaiSJCTjO3aYlIiVMopikQs7_bBglbHxZNu...          2109058   \n",
       "4   -d5MIcv7Gtetq5g1xLaolc5qUozE9oX3ogQQJCLK2RCUv_...          2109058   \n",
       "..                                                ...              ...   \n",
       "95  rf8UusUjnzDhoSdnw1FjTTkHEwM4-h5Rh3xA9fe6qrb91M...          1429418   \n",
       "96  -356wHRenGKjOp5pBnrCzWJv7qFR5ypK9iMpB1S0J8doFX...          1429418   \n",
       "97  2-AUndHRg0e4w0tIgiUSCVkGt6TwJpKXB92wFTXGR089Gy...          1429418   \n",
       "98  unLyIkTbvbGsOd4U5_sHbMP_H6WLbQi3UmQgFaXdAMd9Eu...          1429418   \n",
       "99  Rqg5u4oTD3FbitbQuHMCJzz-Mx5LDeOJgXXnknRxNrCcl0...          1429418   \n",
       "\n",
       "    current_gold  gold_per_second  jungle_minions_killed  level  \\\n",
       "0             41                0                    192     16   \n",
       "1             54                0                      4     16   \n",
       "2            697                0                      0     16   \n",
       "3           1466                0                     32     18   \n",
       "4            197               50                      0     14   \n",
       "..           ...              ...                    ...    ...   \n",
       "95          1420                0                      8     15   \n",
       "96           489                0                    136     13   \n",
       "97           890                0                     16     16   \n",
       "98           960                0                      0     13   \n",
       "99           593               50                      0      9   \n",
       "\n",
       "    minions_killed  time_enemy_spent_controlled  ...  wards_placed  \\\n",
       "0               27                       808201  ...             0   \n",
       "1              184                        66402  ...             0   \n",
       "2              191                       292153  ...             0   \n",
       "3              341                        28975  ...             0   \n",
       "4               18                       137149  ...             0   \n",
       "..             ...                          ...  ...           ...   \n",
       "95             167                       328787  ...             0   \n",
       "96              15                       441586  ...             0   \n",
       "97             191                       134230  ...             0   \n",
       "98             178                        47827  ...             0   \n",
       "99              25                        80719  ...             0   \n",
       "\n",
       "    wards_killed  wards_placed_per_min  wards_killed_per_min  \\\n",
       "0              0                   0.0                   0.0   \n",
       "1              0                   0.0                   0.0   \n",
       "2              0                   0.0                   0.0   \n",
       "3              0                   0.0                   0.0   \n",
       "4              0                   0.0                   0.0   \n",
       "..           ...                   ...                   ...   \n",
       "95             0                   0.0                   0.0   \n",
       "96             0                   0.0                   0.0   \n",
       "97             0                   0.0                   0.0   \n",
       "98             0                   0.0                   0.0   \n",
       "99             0                   0.0                   0.0   \n",
       "\n",
       "    vision_score_est  offensive_score  defensive_score  magic_score  \\\n",
       "0                  0              519              172            0   \n",
       "1                  0              220              138          403   \n",
       "2                  0              242              208          194   \n",
       "3                  0              622              157            0   \n",
       "4                  0              213              127          147   \n",
       "..               ...              ...              ...          ...   \n",
       "95                 0              371              178          212   \n",
       "96                 0              423              165           24   \n",
       "97                 0              488              148           24   \n",
       "98                 0              446              120           60   \n",
       "99                 0              216              210           24   \n",
       "\n",
       "    total_vamp  haste_score  \n",
       "0            0            0  \n",
       "1            0            0  \n",
       "2            0            0  \n",
       "3            0            0  \n",
       "4            0            0  \n",
       "..         ...          ...  \n",
       "95           0            0  \n",
       "96           0            0  \n",
       "97           0            0  \n",
       "98           0            0  \n",
       "99           0            0  \n",
       "\n",
       "[100 rows x 76 columns]"
      ]
     },
     "execution_count": 56,
     "metadata": {},
     "output_type": "execute_result"
    }
   ],
   "source": [
    "merged_df"
   ]
  },
  {
   "cell_type": "code",
   "execution_count": 57,
   "id": "3ea84853",
   "metadata": {},
   "outputs": [],
   "source": [
    "merged_df = merged_df.drop(columns = ['game_id', 'participant_id'])"
   ]
  },
  {
   "cell_type": "code",
   "execution_count": 59,
   "id": "6fffcfb7",
   "metadata": {},
   "outputs": [
    {
     "data": {
      "text/html": [
       "<div>\n",
       "<style scoped>\n",
       "    .dataframe tbody tr th:only-of-type {\n",
       "        vertical-align: middle;\n",
       "    }\n",
       "\n",
       "    .dataframe tbody tr th {\n",
       "        vertical-align: top;\n",
       "    }\n",
       "\n",
       "    .dataframe thead th {\n",
       "        text-align: right;\n",
       "    }\n",
       "</style>\n",
       "<table border=\"1\" class=\"dataframe\">\n",
       "  <thead>\n",
       "    <tr style=\"text-align: right;\">\n",
       "      <th></th>\n",
       "      <th>puuid</th>\n",
       "      <th>frame_timestamp</th>\n",
       "      <th>current_gold</th>\n",
       "      <th>gold_per_second</th>\n",
       "      <th>jungle_minions_killed</th>\n",
       "      <th>level</th>\n",
       "      <th>minions_killed</th>\n",
       "      <th>time_enemy_spent_controlled</th>\n",
       "      <th>total_gold</th>\n",
       "      <th>xp</th>\n",
       "      <th>...</th>\n",
       "      <th>wards_placed</th>\n",
       "      <th>wards_killed</th>\n",
       "      <th>wards_placed_per_min</th>\n",
       "      <th>wards_killed_per_min</th>\n",
       "      <th>vision_score_est</th>\n",
       "      <th>offensive_score</th>\n",
       "      <th>defensive_score</th>\n",
       "      <th>magic_score</th>\n",
       "      <th>total_vamp</th>\n",
       "      <th>haste_score</th>\n",
       "    </tr>\n",
       "  </thead>\n",
       "  <tbody>\n",
       "    <tr>\n",
       "      <th>0</th>\n",
       "      <td>-356wHRenGKjOp5pBnrCzWJv7qFR5ypK9iMpB1S0J8doFX...</td>\n",
       "      <td>1699902.4</td>\n",
       "      <td>1323.5</td>\n",
       "      <td>10.0</td>\n",
       "      <td>99.7</td>\n",
       "      <td>14.1</td>\n",
       "      <td>49.9</td>\n",
       "      <td>314510.1</td>\n",
       "      <td>12351.8</td>\n",
       "      <td>13831.9</td>\n",
       "      <td>...</td>\n",
       "      <td>0.0</td>\n",
       "      <td>0.0</td>\n",
       "      <td>0.0</td>\n",
       "      <td>0.0</td>\n",
       "      <td>0.0</td>\n",
       "      <td>398.9</td>\n",
       "      <td>190.3</td>\n",
       "      <td>114.7</td>\n",
       "      <td>0.0</td>\n",
       "      <td>0.0</td>\n",
       "    </tr>\n",
       "    <tr>\n",
       "      <th>1</th>\n",
       "      <td>-J6KMZ7IDQZNRHXtuMzSQQRkDwinSGI62fo5qD6C700Hzr...</td>\n",
       "      <td>958008.0</td>\n",
       "      <td>1473.0</td>\n",
       "      <td>50.0</td>\n",
       "      <td>0.0</td>\n",
       "      <td>7.0</td>\n",
       "      <td>20.0</td>\n",
       "      <td>44899.0</td>\n",
       "      <td>3823.0</td>\n",
       "      <td>3980.0</td>\n",
       "      <td>...</td>\n",
       "      <td>0.0</td>\n",
       "      <td>0.0</td>\n",
       "      <td>0.0</td>\n",
       "      <td>0.0</td>\n",
       "      <td>0.0</td>\n",
       "      <td>182.0</td>\n",
       "      <td>99.0</td>\n",
       "      <td>29.0</td>\n",
       "      <td>0.0</td>\n",
       "      <td>0.0</td>\n",
       "    </tr>\n",
       "    <tr>\n",
       "      <th>2</th>\n",
       "      <td>-d5MIcv7Gtetq5g1xLaolc5qUozE9oX3ogQQJCLK2RCUv_...</td>\n",
       "      <td>2109058.0</td>\n",
       "      <td>197.0</td>\n",
       "      <td>50.0</td>\n",
       "      <td>0.0</td>\n",
       "      <td>14.0</td>\n",
       "      <td>18.0</td>\n",
       "      <td>137149.0</td>\n",
       "      <td>8372.0</td>\n",
       "      <td>12921.0</td>\n",
       "      <td>...</td>\n",
       "      <td>0.0</td>\n",
       "      <td>0.0</td>\n",
       "      <td>0.0</td>\n",
       "      <td>0.0</td>\n",
       "      <td>0.0</td>\n",
       "      <td>213.0</td>\n",
       "      <td>127.0</td>\n",
       "      <td>147.0</td>\n",
       "      <td>0.0</td>\n",
       "      <td>0.0</td>\n",
       "    </tr>\n",
       "    <tr>\n",
       "      <th>3</th>\n",
       "      <td>13DRof6AgQVW9VmqftA-XWar4Fxf-tNxD0mmubwlEZwQtS...</td>\n",
       "      <td>1557593.0</td>\n",
       "      <td>541.0</td>\n",
       "      <td>0.0</td>\n",
       "      <td>8.0</td>\n",
       "      <td>16.0</td>\n",
       "      <td>227.0</td>\n",
       "      <td>178260.0</td>\n",
       "      <td>12160.0</td>\n",
       "      <td>15490.0</td>\n",
       "      <td>...</td>\n",
       "      <td>0.0</td>\n",
       "      <td>0.0</td>\n",
       "      <td>0.0</td>\n",
       "      <td>0.0</td>\n",
       "      <td>0.0</td>\n",
       "      <td>517.0</td>\n",
       "      <td>168.0</td>\n",
       "      <td>0.0</td>\n",
       "      <td>0.0</td>\n",
       "      <td>0.0</td>\n",
       "    </tr>\n",
       "    <tr>\n",
       "      <th>4</th>\n",
       "      <td>1ERlFiDMWvXUJsYSTEdjmft0_R6aw2eiuahq5TRSLQidfN...</td>\n",
       "      <td>1429418.0</td>\n",
       "      <td>417.0</td>\n",
       "      <td>50.0</td>\n",
       "      <td>0.0</td>\n",
       "      <td>10.0</td>\n",
       "      <td>43.0</td>\n",
       "      <td>99430.0</td>\n",
       "      <td>6492.0</td>\n",
       "      <td>6738.0</td>\n",
       "      <td>...</td>\n",
       "      <td>0.0</td>\n",
       "      <td>0.0</td>\n",
       "      <td>0.0</td>\n",
       "      <td>0.0</td>\n",
       "      <td>0.0</td>\n",
       "      <td>215.0</td>\n",
       "      <td>173.0</td>\n",
       "      <td>0.0</td>\n",
       "      <td>0.0</td>\n",
       "      <td>0.0</td>\n",
       "    </tr>\n",
       "    <tr>\n",
       "      <th>...</th>\n",
       "      <td>...</td>\n",
       "      <td>...</td>\n",
       "      <td>...</td>\n",
       "      <td>...</td>\n",
       "      <td>...</td>\n",
       "      <td>...</td>\n",
       "      <td>...</td>\n",
       "      <td>...</td>\n",
       "      <td>...</td>\n",
       "      <td>...</td>\n",
       "      <td>...</td>\n",
       "      <td>...</td>\n",
       "      <td>...</td>\n",
       "      <td>...</td>\n",
       "      <td>...</td>\n",
       "      <td>...</td>\n",
       "      <td>...</td>\n",
       "      <td>...</td>\n",
       "      <td>...</td>\n",
       "      <td>...</td>\n",
       "      <td>...</td>\n",
       "    </tr>\n",
       "    <tr>\n",
       "      <th>71</th>\n",
       "      <td>uqyG5YZ07CbimBvEtjCXwbzhONsABM9fGTlQC5x1ZClvHH...</td>\n",
       "      <td>2076960.0</td>\n",
       "      <td>483.0</td>\n",
       "      <td>50.0</td>\n",
       "      <td>0.0</td>\n",
       "      <td>13.0</td>\n",
       "      <td>26.0</td>\n",
       "      <td>442968.0</td>\n",
       "      <td>9083.0</td>\n",
       "      <td>11379.0</td>\n",
       "      <td>...</td>\n",
       "      <td>0.0</td>\n",
       "      <td>0.0</td>\n",
       "      <td>0.0</td>\n",
       "      <td>0.0</td>\n",
       "      <td>0.0</td>\n",
       "      <td>217.0</td>\n",
       "      <td>207.0</td>\n",
       "      <td>0.0</td>\n",
       "      <td>0.0</td>\n",
       "      <td>0.0</td>\n",
       "    </tr>\n",
       "    <tr>\n",
       "      <th>72</th>\n",
       "      <td>v4iBqXC1o7TN__NBmM65HlUOPRvxagalg8_du9vH8YtYN0...</td>\n",
       "      <td>1557593.0</td>\n",
       "      <td>412.0</td>\n",
       "      <td>50.0</td>\n",
       "      <td>0.0</td>\n",
       "      <td>11.0</td>\n",
       "      <td>31.0</td>\n",
       "      <td>234731.0</td>\n",
       "      <td>7537.0</td>\n",
       "      <td>8415.0</td>\n",
       "      <td>...</td>\n",
       "      <td>0.0</td>\n",
       "      <td>0.0</td>\n",
       "      <td>0.0</td>\n",
       "      <td>0.0</td>\n",
       "      <td>0.0</td>\n",
       "      <td>202.0</td>\n",
       "      <td>285.0</td>\n",
       "      <td>0.0</td>\n",
       "      <td>0.0</td>\n",
       "      <td>0.0</td>\n",
       "    </tr>\n",
       "    <tr>\n",
       "      <th>73</th>\n",
       "      <td>wWFgTMjxXdNPJgVCWg8S3bIexkChFWKijPLdYUkZmqR80h...</td>\n",
       "      <td>1557593.0</td>\n",
       "      <td>1209.0</td>\n",
       "      <td>0.0</td>\n",
       "      <td>5.0</td>\n",
       "      <td>15.0</td>\n",
       "      <td>173.0</td>\n",
       "      <td>31183.0</td>\n",
       "      <td>11419.0</td>\n",
       "      <td>13679.0</td>\n",
       "      <td>...</td>\n",
       "      <td>0.0</td>\n",
       "      <td>0.0</td>\n",
       "      <td>0.0</td>\n",
       "      <td>0.0</td>\n",
       "      <td>0.0</td>\n",
       "      <td>481.0</td>\n",
       "      <td>133.0</td>\n",
       "      <td>134.0</td>\n",
       "      <td>0.0</td>\n",
       "      <td>0.0</td>\n",
       "    </tr>\n",
       "    <tr>\n",
       "      <th>74</th>\n",
       "      <td>yrrz30zFwu5ODiWSm1ORwtjaBy4gf5XPLF61uDCkRpqF6X...</td>\n",
       "      <td>2038851.0</td>\n",
       "      <td>1351.0</td>\n",
       "      <td>0.0</td>\n",
       "      <td>16.0</td>\n",
       "      <td>18.0</td>\n",
       "      <td>279.0</td>\n",
       "      <td>452288.0</td>\n",
       "      <td>15300.0</td>\n",
       "      <td>19953.0</td>\n",
       "      <td>...</td>\n",
       "      <td>0.0</td>\n",
       "      <td>0.0</td>\n",
       "      <td>0.0</td>\n",
       "      <td>0.0</td>\n",
       "      <td>0.0</td>\n",
       "      <td>234.0</td>\n",
       "      <td>149.0</td>\n",
       "      <td>466.0</td>\n",
       "      <td>0.0</td>\n",
       "      <td>0.0</td>\n",
       "    </tr>\n",
       "    <tr>\n",
       "      <th>75</th>\n",
       "      <td>zcrNivCpXKMD4QxNCm2hybweZE5D5lMfIT74KOd1pg_pJq...</td>\n",
       "      <td>2038851.0</td>\n",
       "      <td>325.0</td>\n",
       "      <td>0.0</td>\n",
       "      <td>2.0</td>\n",
       "      <td>17.0</td>\n",
       "      <td>205.0</td>\n",
       "      <td>114889.0</td>\n",
       "      <td>10439.0</td>\n",
       "      <td>16539.0</td>\n",
       "      <td>...</td>\n",
       "      <td>0.0</td>\n",
       "      <td>0.0</td>\n",
       "      <td>0.0</td>\n",
       "      <td>0.0</td>\n",
       "      <td>0.0</td>\n",
       "      <td>236.0</td>\n",
       "      <td>168.0</td>\n",
       "      <td>391.0</td>\n",
       "      <td>0.0</td>\n",
       "      <td>0.0</td>\n",
       "    </tr>\n",
       "  </tbody>\n",
       "</table>\n",
       "<p>76 rows × 74 columns</p>\n",
       "</div>"
      ],
      "text/plain": [
       "                                                puuid  frame_timestamp  \\\n",
       "0   -356wHRenGKjOp5pBnrCzWJv7qFR5ypK9iMpB1S0J8doFX...        1699902.4   \n",
       "1   -J6KMZ7IDQZNRHXtuMzSQQRkDwinSGI62fo5qD6C700Hzr...         958008.0   \n",
       "2   -d5MIcv7Gtetq5g1xLaolc5qUozE9oX3ogQQJCLK2RCUv_...        2109058.0   \n",
       "3   13DRof6AgQVW9VmqftA-XWar4Fxf-tNxD0mmubwlEZwQtS...        1557593.0   \n",
       "4   1ERlFiDMWvXUJsYSTEdjmft0_R6aw2eiuahq5TRSLQidfN...        1429418.0   \n",
       "..                                                ...              ...   \n",
       "71  uqyG5YZ07CbimBvEtjCXwbzhONsABM9fGTlQC5x1ZClvHH...        2076960.0   \n",
       "72  v4iBqXC1o7TN__NBmM65HlUOPRvxagalg8_du9vH8YtYN0...        1557593.0   \n",
       "73  wWFgTMjxXdNPJgVCWg8S3bIexkChFWKijPLdYUkZmqR80h...        1557593.0   \n",
       "74  yrrz30zFwu5ODiWSm1ORwtjaBy4gf5XPLF61uDCkRpqF6X...        2038851.0   \n",
       "75  zcrNivCpXKMD4QxNCm2hybweZE5D5lMfIT74KOd1pg_pJq...        2038851.0   \n",
       "\n",
       "    current_gold  gold_per_second  jungle_minions_killed  level  \\\n",
       "0         1323.5             10.0                   99.7   14.1   \n",
       "1         1473.0             50.0                    0.0    7.0   \n",
       "2          197.0             50.0                    0.0   14.0   \n",
       "3          541.0              0.0                    8.0   16.0   \n",
       "4          417.0             50.0                    0.0   10.0   \n",
       "..           ...              ...                    ...    ...   \n",
       "71         483.0             50.0                    0.0   13.0   \n",
       "72         412.0             50.0                    0.0   11.0   \n",
       "73        1209.0              0.0                    5.0   15.0   \n",
       "74        1351.0              0.0                   16.0   18.0   \n",
       "75         325.0              0.0                    2.0   17.0   \n",
       "\n",
       "    minions_killed  time_enemy_spent_controlled  total_gold       xp  ...  \\\n",
       "0             49.9                     314510.1     12351.8  13831.9  ...   \n",
       "1             20.0                      44899.0      3823.0   3980.0  ...   \n",
       "2             18.0                     137149.0      8372.0  12921.0  ...   \n",
       "3            227.0                     178260.0     12160.0  15490.0  ...   \n",
       "4             43.0                      99430.0      6492.0   6738.0  ...   \n",
       "..             ...                          ...         ...      ...  ...   \n",
       "71            26.0                     442968.0      9083.0  11379.0  ...   \n",
       "72            31.0                     234731.0      7537.0   8415.0  ...   \n",
       "73           173.0                      31183.0     11419.0  13679.0  ...   \n",
       "74           279.0                     452288.0     15300.0  19953.0  ...   \n",
       "75           205.0                     114889.0     10439.0  16539.0  ...   \n",
       "\n",
       "    wards_placed  wards_killed  wards_placed_per_min  wards_killed_per_min  \\\n",
       "0            0.0           0.0                   0.0                   0.0   \n",
       "1            0.0           0.0                   0.0                   0.0   \n",
       "2            0.0           0.0                   0.0                   0.0   \n",
       "3            0.0           0.0                   0.0                   0.0   \n",
       "4            0.0           0.0                   0.0                   0.0   \n",
       "..           ...           ...                   ...                   ...   \n",
       "71           0.0           0.0                   0.0                   0.0   \n",
       "72           0.0           0.0                   0.0                   0.0   \n",
       "73           0.0           0.0                   0.0                   0.0   \n",
       "74           0.0           0.0                   0.0                   0.0   \n",
       "75           0.0           0.0                   0.0                   0.0   \n",
       "\n",
       "    vision_score_est  offensive_score  defensive_score  magic_score  \\\n",
       "0                0.0            398.9            190.3        114.7   \n",
       "1                0.0            182.0             99.0         29.0   \n",
       "2                0.0            213.0            127.0        147.0   \n",
       "3                0.0            517.0            168.0          0.0   \n",
       "4                0.0            215.0            173.0          0.0   \n",
       "..               ...              ...              ...          ...   \n",
       "71               0.0            217.0            207.0          0.0   \n",
       "72               0.0            202.0            285.0          0.0   \n",
       "73               0.0            481.0            133.0        134.0   \n",
       "74               0.0            234.0            149.0        466.0   \n",
       "75               0.0            236.0            168.0        391.0   \n",
       "\n",
       "    total_vamp  haste_score  \n",
       "0          0.0          0.0  \n",
       "1          0.0          0.0  \n",
       "2          0.0          0.0  \n",
       "3          0.0          0.0  \n",
       "4          0.0          0.0  \n",
       "..         ...          ...  \n",
       "71         0.0          0.0  \n",
       "72         0.0          0.0  \n",
       "73         0.0          0.0  \n",
       "74         0.0          0.0  \n",
       "75         0.0          0.0  \n",
       "\n",
       "[76 rows x 74 columns]"
      ]
     },
     "execution_count": 59,
     "metadata": {},
     "output_type": "execute_result"
    }
   ],
   "source": [
    "grouped_df = merged_df.groupby('puuid').mean().reset_index()\n",
    "grouped_df"
   ]
  },
  {
   "cell_type": "markdown",
   "id": "1dd7cfc0",
   "metadata": {},
   "source": [
    "## 3. 변수 선택 및 스케일링"
   ]
  },
  {
   "cell_type": "code",
   "execution_count": 65,
   "id": "21d3887f",
   "metadata": {},
   "outputs": [],
   "source": [
    "features = ['puuid',\n",
    "    \"lane_cs_per_min\", \"jungle_cs_per_min\",\n",
    "    \"KDA\", \"gold_per_min\", \"xp_per_min\",\n",
    "    \"damage_per_min\", \"damage_taken_per_min\", \"ka_per_min\", \"damage_efficiency\",\n",
    "    \"survivability\", \"healthregen_per_min\",\n",
    "    \"offensive_score\", \"defensive_score\", \"magic_score\", \"total_vamp\",\n",
    "    \"wards_placed_per_min\", \"wards_killed_per_min\"\n",
    "]"
   ]
  },
  {
   "cell_type": "code",
   "execution_count": 66,
   "id": "924f33fd",
   "metadata": {},
   "outputs": [
    {
     "data": {
      "text/html": [
       "<div>\n",
       "<style scoped>\n",
       "    .dataframe tbody tr th:only-of-type {\n",
       "        vertical-align: middle;\n",
       "    }\n",
       "\n",
       "    .dataframe tbody tr th {\n",
       "        vertical-align: top;\n",
       "    }\n",
       "\n",
       "    .dataframe thead th {\n",
       "        text-align: right;\n",
       "    }\n",
       "</style>\n",
       "<table border=\"1\" class=\"dataframe\">\n",
       "  <thead>\n",
       "    <tr style=\"text-align: right;\">\n",
       "      <th></th>\n",
       "      <th>puuid</th>\n",
       "      <th>lane_cs_per_min</th>\n",
       "      <th>jungle_cs_per_min</th>\n",
       "      <th>KDA</th>\n",
       "      <th>gold_per_min</th>\n",
       "      <th>xp_per_min</th>\n",
       "      <th>damage_per_min</th>\n",
       "      <th>damage_taken_per_min</th>\n",
       "      <th>ka_per_min</th>\n",
       "      <th>damage_efficiency</th>\n",
       "      <th>survivability</th>\n",
       "      <th>healthregen_per_min</th>\n",
       "      <th>offensive_score</th>\n",
       "      <th>defensive_score</th>\n",
       "      <th>magic_score</th>\n",
       "      <th>total_vamp</th>\n",
       "      <th>wards_placed_per_min</th>\n",
       "      <th>wards_killed_per_min</th>\n",
       "    </tr>\n",
       "  </thead>\n",
       "  <tbody>\n",
       "    <tr>\n",
       "      <th>0</th>\n",
       "      <td>-356wHRenGKjOp5pBnrCzWJv7qFR5ypK9iMpB1S0J8doFX...</td>\n",
       "      <td>1.546045</td>\n",
       "      <td>3.788314</td>\n",
       "      <td>1.804935</td>\n",
       "      <td>429.875512</td>\n",
       "      <td>473.095802</td>\n",
       "      <td>798.382411</td>\n",
       "      <td>1148.428457</td>\n",
       "      <td>0.293057</td>\n",
       "      <td>0.682956</td>\n",
       "      <td>0.243539</td>\n",
       "      <td>91.022159</td>\n",
       "      <td>398.9</td>\n",
       "      <td>190.3</td>\n",
       "      <td>114.7</td>\n",
       "      <td>0.0</td>\n",
       "      <td>0.0</td>\n",
       "      <td>0.0</td>\n",
       "    </tr>\n",
       "    <tr>\n",
       "      <th>1</th>\n",
       "      <td>-J6KMZ7IDQZNRHXtuMzSQQRkDwinSGI62fo5qD6C700Hzr...</td>\n",
       "      <td>1.252599</td>\n",
       "      <td>0.000000</td>\n",
       "      <td>0.500000</td>\n",
       "      <td>239.434326</td>\n",
       "      <td>249.267230</td>\n",
       "      <td>188.390911</td>\n",
       "      <td>454.630859</td>\n",
       "      <td>0.062630</td>\n",
       "      <td>0.414382</td>\n",
       "      <td>0.500000</td>\n",
       "      <td>50.041336</td>\n",
       "      <td>182.0</td>\n",
       "      <td>99.0</td>\n",
       "      <td>29.0</td>\n",
       "      <td>0.0</td>\n",
       "      <td>0.0</td>\n",
       "      <td>0.0</td>\n",
       "    </tr>\n",
       "    <tr>\n",
       "      <th>2</th>\n",
       "      <td>-d5MIcv7Gtetq5g1xLaolc5qUozE9oX3ogQQJCLK2RCUv_...</td>\n",
       "      <td>0.512077</td>\n",
       "      <td>0.000000</td>\n",
       "      <td>0.000000</td>\n",
       "      <td>238.172682</td>\n",
       "      <td>367.585908</td>\n",
       "      <td>203.351449</td>\n",
       "      <td>706.410160</td>\n",
       "      <td>0.000000</td>\n",
       "      <td>0.287866</td>\n",
       "      <td>0.100000</td>\n",
       "      <td>30.923758</td>\n",
       "      <td>213.0</td>\n",
       "      <td>127.0</td>\n",
       "      <td>147.0</td>\n",
       "      <td>0.0</td>\n",
       "      <td>0.0</td>\n",
       "      <td>0.0</td>\n",
       "    </tr>\n",
       "    <tr>\n",
       "      <th>3</th>\n",
       "      <td>13DRof6AgQVW9VmqftA-XWar4Fxf-tNxD0mmubwlEZwQtS...</td>\n",
       "      <td>8.744261</td>\n",
       "      <td>0.308168</td>\n",
       "      <td>1.666667</td>\n",
       "      <td>468.415048</td>\n",
       "      <td>596.689893</td>\n",
       "      <td>604.124441</td>\n",
       "      <td>887.176560</td>\n",
       "      <td>0.192605</td>\n",
       "      <td>0.680952</td>\n",
       "      <td>0.333333</td>\n",
       "      <td>65.485656</td>\n",
       "      <td>517.0</td>\n",
       "      <td>168.0</td>\n",
       "      <td>0.0</td>\n",
       "      <td>0.0</td>\n",
       "      <td>0.0</td>\n",
       "      <td>0.0</td>\n",
       "    </tr>\n",
       "    <tr>\n",
       "      <th>4</th>\n",
       "      <td>1ERlFiDMWvXUJsYSTEdjmft0_R6aw2eiuahq5TRSLQidfN...</td>\n",
       "      <td>1.804930</td>\n",
       "      <td>0.000000</td>\n",
       "      <td>1.000000</td>\n",
       "      <td>272.502515</td>\n",
       "      <td>282.828396</td>\n",
       "      <td>244.547081</td>\n",
       "      <td>459.291824</td>\n",
       "      <td>0.083950</td>\n",
       "      <td>0.532444</td>\n",
       "      <td>0.500000</td>\n",
       "      <td>40.715872</td>\n",
       "      <td>215.0</td>\n",
       "      <td>173.0</td>\n",
       "      <td>0.0</td>\n",
       "      <td>0.0</td>\n",
       "      <td>0.0</td>\n",
       "      <td>0.0</td>\n",
       "    </tr>\n",
       "    <tr>\n",
       "      <th>...</th>\n",
       "      <td>...</td>\n",
       "      <td>...</td>\n",
       "      <td>...</td>\n",
       "      <td>...</td>\n",
       "      <td>...</td>\n",
       "      <td>...</td>\n",
       "      <td>...</td>\n",
       "      <td>...</td>\n",
       "      <td>...</td>\n",
       "      <td>...</td>\n",
       "      <td>...</td>\n",
       "      <td>...</td>\n",
       "      <td>...</td>\n",
       "      <td>...</td>\n",
       "      <td>...</td>\n",
       "      <td>...</td>\n",
       "      <td>...</td>\n",
       "      <td>...</td>\n",
       "    </tr>\n",
       "    <tr>\n",
       "      <th>71</th>\n",
       "      <td>uqyG5YZ07CbimBvEtjCXwbzhONsABM9fGTlQC5x1ZClvHH...</td>\n",
       "      <td>0.751098</td>\n",
       "      <td>0.000000</td>\n",
       "      <td>0.500000</td>\n",
       "      <td>262.393113</td>\n",
       "      <td>328.720823</td>\n",
       "      <td>213.369540</td>\n",
       "      <td>882.366536</td>\n",
       "      <td>0.057777</td>\n",
       "      <td>0.241815</td>\n",
       "      <td>0.250000</td>\n",
       "      <td>217.876127</td>\n",
       "      <td>217.0</td>\n",
       "      <td>207.0</td>\n",
       "      <td>0.0</td>\n",
       "      <td>0.0</td>\n",
       "      <td>0.0</td>\n",
       "      <td>0.0</td>\n",
       "    </tr>\n",
       "    <tr>\n",
       "      <th>72</th>\n",
       "      <td>v4iBqXC1o7TN__NBmM65HlUOPRvxagalg8_du9vH8YtYN0...</td>\n",
       "      <td>1.194150</td>\n",
       "      <td>0.000000</td>\n",
       "      <td>0.333333</td>\n",
       "      <td>290.332584</td>\n",
       "      <td>324.153999</td>\n",
       "      <td>254.777724</td>\n",
       "      <td>562.136579</td>\n",
       "      <td>0.077042</td>\n",
       "      <td>0.453231</td>\n",
       "      <td>0.166667</td>\n",
       "      <td>51.348459</td>\n",
       "      <td>202.0</td>\n",
       "      <td>285.0</td>\n",
       "      <td>0.0</td>\n",
       "      <td>0.0</td>\n",
       "      <td>0.0</td>\n",
       "      <td>0.0</td>\n",
       "    </tr>\n",
       "    <tr>\n",
       "      <th>73</th>\n",
       "      <td>wWFgTMjxXdNPJgVCWg8S3bIexkChFWKijPLdYUkZmqR80h...</td>\n",
       "      <td>6.664129</td>\n",
       "      <td>0.192605</td>\n",
       "      <td>1.750000</td>\n",
       "      <td>439.871006</td>\n",
       "      <td>526.928408</td>\n",
       "      <td>892.800622</td>\n",
       "      <td>581.666713</td>\n",
       "      <td>0.269647</td>\n",
       "      <td>1.534901</td>\n",
       "      <td>0.250000</td>\n",
       "      <td>22.958501</td>\n",
       "      <td>481.0</td>\n",
       "      <td>133.0</td>\n",
       "      <td>134.0</td>\n",
       "      <td>0.0</td>\n",
       "      <td>0.0</td>\n",
       "      <td>0.0</td>\n",
       "    </tr>\n",
       "    <tr>\n",
       "      <th>74</th>\n",
       "      <td>yrrz30zFwu5ODiWSm1ORwtjaBy4gf5XPLF61uDCkRpqF6X...</td>\n",
       "      <td>8.210507</td>\n",
       "      <td>0.470853</td>\n",
       "      <td>1.400000</td>\n",
       "      <td>450.253599</td>\n",
       "      <td>587.183664</td>\n",
       "      <td>621.732535</td>\n",
       "      <td>920.812752</td>\n",
       "      <td>0.205998</td>\n",
       "      <td>0.675200</td>\n",
       "      <td>0.200000</td>\n",
       "      <td>50.763886</td>\n",
       "      <td>234.0</td>\n",
       "      <td>149.0</td>\n",
       "      <td>466.0</td>\n",
       "      <td>0.0</td>\n",
       "      <td>0.0</td>\n",
       "      <td>0.0</td>\n",
       "    </tr>\n",
       "    <tr>\n",
       "      <th>75</th>\n",
       "      <td>zcrNivCpXKMD4QxNCm2hybweZE5D5lMfIT74KOd1pg_pJq...</td>\n",
       "      <td>6.032810</td>\n",
       "      <td>0.058857</td>\n",
       "      <td>0.100000</td>\n",
       "      <td>307.202439</td>\n",
       "      <td>486.715312</td>\n",
       "      <td>376.623893</td>\n",
       "      <td>1281.663054</td>\n",
       "      <td>0.029428</td>\n",
       "      <td>0.293856</td>\n",
       "      <td>0.100000</td>\n",
       "      <td>42.347381</td>\n",
       "      <td>236.0</td>\n",
       "      <td>168.0</td>\n",
       "      <td>391.0</td>\n",
       "      <td>0.0</td>\n",
       "      <td>0.0</td>\n",
       "      <td>0.0</td>\n",
       "    </tr>\n",
       "  </tbody>\n",
       "</table>\n",
       "<p>76 rows × 18 columns</p>\n",
       "</div>"
      ],
      "text/plain": [
       "                                                puuid  lane_cs_per_min  \\\n",
       "0   -356wHRenGKjOp5pBnrCzWJv7qFR5ypK9iMpB1S0J8doFX...         1.546045   \n",
       "1   -J6KMZ7IDQZNRHXtuMzSQQRkDwinSGI62fo5qD6C700Hzr...         1.252599   \n",
       "2   -d5MIcv7Gtetq5g1xLaolc5qUozE9oX3ogQQJCLK2RCUv_...         0.512077   \n",
       "3   13DRof6AgQVW9VmqftA-XWar4Fxf-tNxD0mmubwlEZwQtS...         8.744261   \n",
       "4   1ERlFiDMWvXUJsYSTEdjmft0_R6aw2eiuahq5TRSLQidfN...         1.804930   \n",
       "..                                                ...              ...   \n",
       "71  uqyG5YZ07CbimBvEtjCXwbzhONsABM9fGTlQC5x1ZClvHH...         0.751098   \n",
       "72  v4iBqXC1o7TN__NBmM65HlUOPRvxagalg8_du9vH8YtYN0...         1.194150   \n",
       "73  wWFgTMjxXdNPJgVCWg8S3bIexkChFWKijPLdYUkZmqR80h...         6.664129   \n",
       "74  yrrz30zFwu5ODiWSm1ORwtjaBy4gf5XPLF61uDCkRpqF6X...         8.210507   \n",
       "75  zcrNivCpXKMD4QxNCm2hybweZE5D5lMfIT74KOd1pg_pJq...         6.032810   \n",
       "\n",
       "    jungle_cs_per_min       KDA  gold_per_min  xp_per_min  damage_per_min  \\\n",
       "0            3.788314  1.804935    429.875512  473.095802      798.382411   \n",
       "1            0.000000  0.500000    239.434326  249.267230      188.390911   \n",
       "2            0.000000  0.000000    238.172682  367.585908      203.351449   \n",
       "3            0.308168  1.666667    468.415048  596.689893      604.124441   \n",
       "4            0.000000  1.000000    272.502515  282.828396      244.547081   \n",
       "..                ...       ...           ...         ...             ...   \n",
       "71           0.000000  0.500000    262.393113  328.720823      213.369540   \n",
       "72           0.000000  0.333333    290.332584  324.153999      254.777724   \n",
       "73           0.192605  1.750000    439.871006  526.928408      892.800622   \n",
       "74           0.470853  1.400000    450.253599  587.183664      621.732535   \n",
       "75           0.058857  0.100000    307.202439  486.715312      376.623893   \n",
       "\n",
       "    damage_taken_per_min  ka_per_min  damage_efficiency  survivability  \\\n",
       "0            1148.428457    0.293057           0.682956       0.243539   \n",
       "1             454.630859    0.062630           0.414382       0.500000   \n",
       "2             706.410160    0.000000           0.287866       0.100000   \n",
       "3             887.176560    0.192605           0.680952       0.333333   \n",
       "4             459.291824    0.083950           0.532444       0.500000   \n",
       "..                   ...         ...                ...            ...   \n",
       "71            882.366536    0.057777           0.241815       0.250000   \n",
       "72            562.136579    0.077042           0.453231       0.166667   \n",
       "73            581.666713    0.269647           1.534901       0.250000   \n",
       "74            920.812752    0.205998           0.675200       0.200000   \n",
       "75           1281.663054    0.029428           0.293856       0.100000   \n",
       "\n",
       "    healthregen_per_min  offensive_score  defensive_score  magic_score  \\\n",
       "0             91.022159            398.9            190.3        114.7   \n",
       "1             50.041336            182.0             99.0         29.0   \n",
       "2             30.923758            213.0            127.0        147.0   \n",
       "3             65.485656            517.0            168.0          0.0   \n",
       "4             40.715872            215.0            173.0          0.0   \n",
       "..                  ...              ...              ...          ...   \n",
       "71           217.876127            217.0            207.0          0.0   \n",
       "72            51.348459            202.0            285.0          0.0   \n",
       "73            22.958501            481.0            133.0        134.0   \n",
       "74            50.763886            234.0            149.0        466.0   \n",
       "75            42.347381            236.0            168.0        391.0   \n",
       "\n",
       "    total_vamp  wards_placed_per_min  wards_killed_per_min  \n",
       "0          0.0                   0.0                   0.0  \n",
       "1          0.0                   0.0                   0.0  \n",
       "2          0.0                   0.0                   0.0  \n",
       "3          0.0                   0.0                   0.0  \n",
       "4          0.0                   0.0                   0.0  \n",
       "..         ...                   ...                   ...  \n",
       "71         0.0                   0.0                   0.0  \n",
       "72         0.0                   0.0                   0.0  \n",
       "73         0.0                   0.0                   0.0  \n",
       "74         0.0                   0.0                   0.0  \n",
       "75         0.0                   0.0                   0.0  \n",
       "\n",
       "[76 rows x 18 columns]"
      ]
     },
     "execution_count": 66,
     "metadata": {},
     "output_type": "execute_result"
    }
   ],
   "source": [
    "filtered_df = grouped_df[features].fillna(0)\n",
    "filtered_df"
   ]
  },
  {
   "cell_type": "code",
   "execution_count": 67,
   "id": "15f79115",
   "metadata": {},
   "outputs": [
    {
     "data": {
      "text/plain": [
       "puuid                   0\n",
       "lane_cs_per_min         0\n",
       "jungle_cs_per_min       0\n",
       "KDA                     0\n",
       "gold_per_min            0\n",
       "xp_per_min              0\n",
       "damage_per_min          0\n",
       "damage_taken_per_min    0\n",
       "ka_per_min              0\n",
       "damage_efficiency       0\n",
       "survivability           0\n",
       "healthregen_per_min     0\n",
       "offensive_score         0\n",
       "defensive_score         0\n",
       "magic_score             0\n",
       "total_vamp              0\n",
       "wards_placed_per_min    0\n",
       "wards_killed_per_min    0\n",
       "dtype: int64"
      ]
     },
     "execution_count": 67,
     "metadata": {},
     "output_type": "execute_result"
    }
   ],
   "source": [
    "filtered_df.isnull().sum()"
   ]
  },
  {
   "cell_type": "code",
   "execution_count": 69,
   "id": "597a094d",
   "metadata": {},
   "outputs": [
    {
     "data": {
      "text/html": [
       "<div>\n",
       "<style scoped>\n",
       "    .dataframe tbody tr th:only-of-type {\n",
       "        vertical-align: middle;\n",
       "    }\n",
       "\n",
       "    .dataframe tbody tr th {\n",
       "        vertical-align: top;\n",
       "    }\n",
       "\n",
       "    .dataframe thead th {\n",
       "        text-align: right;\n",
       "    }\n",
       "</style>\n",
       "<table border=\"1\" class=\"dataframe\">\n",
       "  <thead>\n",
       "    <tr style=\"text-align: right;\">\n",
       "      <th></th>\n",
       "      <th>puuid</th>\n",
       "      <th>lane_cs_per_min</th>\n",
       "      <th>jungle_cs_per_min</th>\n",
       "      <th>KDA</th>\n",
       "      <th>gold_per_min</th>\n",
       "      <th>xp_per_min</th>\n",
       "      <th>damage_per_min</th>\n",
       "      <th>damage_taken_per_min</th>\n",
       "      <th>ka_per_min</th>\n",
       "      <th>damage_efficiency</th>\n",
       "      <th>survivability</th>\n",
       "      <th>healthregen_per_min</th>\n",
       "      <th>offensive_score</th>\n",
       "      <th>defensive_score</th>\n",
       "      <th>magic_score</th>\n",
       "      <th>total_vamp</th>\n",
       "      <th>wards_placed_per_min</th>\n",
       "      <th>wards_killed_per_min</th>\n",
       "    </tr>\n",
       "  </thead>\n",
       "  <tbody>\n",
       "    <tr>\n",
       "      <th>0</th>\n",
       "      <td>-356wHRenGKjOp5pBnrCzWJv7qFR5ypK9iMpB1S0J8doFX...</td>\n",
       "      <td>-1.036673</td>\n",
       "      <td>1.466676</td>\n",
       "      <td>0.414888</td>\n",
       "      <td>0.449370</td>\n",
       "      <td>0.206065</td>\n",
       "      <td>0.286351</td>\n",
       "      <td>0.627821</td>\n",
       "      <td>0.696177</td>\n",
       "      <td>-0.264621</td>\n",
       "      <td>-0.167017</td>\n",
       "      <td>1.715338</td>\n",
       "      <td>0.145067</td>\n",
       "      <td>0.076626</td>\n",
       "      <td>0.047672</td>\n",
       "      <td>0.0</td>\n",
       "      <td>0.0</td>\n",
       "      <td>0.0</td>\n",
       "    </tr>\n",
       "    <tr>\n",
       "      <th>1</th>\n",
       "      <td>-J6KMZ7IDQZNRHXtuMzSQQRkDwinSGI62fo5qD6C700Hzr...</td>\n",
       "      <td>-1.133717</td>\n",
       "      <td>-0.518764</td>\n",
       "      <td>-0.552861</td>\n",
       "      <td>-1.543108</td>\n",
       "      <td>-2.189635</td>\n",
       "      <td>-1.324364</td>\n",
       "      <td>-1.346892</td>\n",
       "      <td>-0.807420</td>\n",
       "      <td>-0.809331</td>\n",
       "      <td>0.868239</td>\n",
       "      <td>0.239653</td>\n",
       "      <td>-1.230387</td>\n",
       "      <td>-1.206589</td>\n",
       "      <td>-0.429174</td>\n",
       "      <td>0.0</td>\n",
       "      <td>0.0</td>\n",
       "      <td>0.0</td>\n",
       "    </tr>\n",
       "    <tr>\n",
       "      <th>2</th>\n",
       "      <td>-d5MIcv7Gtetq5g1xLaolc5qUozE9oX3ogQQJCLK2RCUv_...</td>\n",
       "      <td>-1.378611</td>\n",
       "      <td>-0.518764</td>\n",
       "      <td>-0.923665</td>\n",
       "      <td>-1.556308</td>\n",
       "      <td>-0.923237</td>\n",
       "      <td>-1.284860</td>\n",
       "      <td>-0.630268</td>\n",
       "      <td>-1.216098</td>\n",
       "      <td>-1.065926</td>\n",
       "      <td>-0.746441</td>\n",
       "      <td>-0.448755</td>\n",
       "      <td>-1.033803</td>\n",
       "      <td>-0.813051</td>\n",
       "      <td>0.227393</td>\n",
       "      <td>0.0</td>\n",
       "      <td>0.0</td>\n",
       "      <td>0.0</td>\n",
       "    </tr>\n",
       "    <tr>\n",
       "      <th>3</th>\n",
       "      <td>13DRof6AgQVW9VmqftA-XWar4Fxf-tNxD0mmubwlEZwQtS...</td>\n",
       "      <td>1.343813</td>\n",
       "      <td>-0.357255</td>\n",
       "      <td>0.312347</td>\n",
       "      <td>0.852587</td>\n",
       "      <td>1.528927</td>\n",
       "      <td>-0.226598</td>\n",
       "      <td>-0.115764</td>\n",
       "      <td>0.040701</td>\n",
       "      <td>-0.268686</td>\n",
       "      <td>0.195456</td>\n",
       "      <td>0.795790</td>\n",
       "      <td>0.893989</td>\n",
       "      <td>-0.236799</td>\n",
       "      <td>-0.590533</td>\n",
       "      <td>0.0</td>\n",
       "      <td>0.0</td>\n",
       "      <td>0.0</td>\n",
       "    </tr>\n",
       "    <tr>\n",
       "      <th>4</th>\n",
       "      <td>1ERlFiDMWvXUJsYSTEdjmft0_R6aw2eiuahq5TRSLQidfN...</td>\n",
       "      <td>-0.951058</td>\n",
       "      <td>-0.518764</td>\n",
       "      <td>-0.182058</td>\n",
       "      <td>-1.197134</td>\n",
       "      <td>-1.830420</td>\n",
       "      <td>-1.176081</td>\n",
       "      <td>-1.333625</td>\n",
       "      <td>-0.668300</td>\n",
       "      <td>-0.569883</td>\n",
       "      <td>0.868239</td>\n",
       "      <td>-0.096149</td>\n",
       "      <td>-1.021121</td>\n",
       "      <td>-0.166524</td>\n",
       "      <td>-0.590533</td>\n",
       "      <td>0.0</td>\n",
       "      <td>0.0</td>\n",
       "      <td>0.0</td>\n",
       "    </tr>\n",
       "    <tr>\n",
       "      <th>...</th>\n",
       "      <td>...</td>\n",
       "      <td>...</td>\n",
       "      <td>...</td>\n",
       "      <td>...</td>\n",
       "      <td>...</td>\n",
       "      <td>...</td>\n",
       "      <td>...</td>\n",
       "      <td>...</td>\n",
       "      <td>...</td>\n",
       "      <td>...</td>\n",
       "      <td>...</td>\n",
       "      <td>...</td>\n",
       "      <td>...</td>\n",
       "      <td>...</td>\n",
       "      <td>...</td>\n",
       "      <td>...</td>\n",
       "      <td>...</td>\n",
       "      <td>...</td>\n",
       "    </tr>\n",
       "    <tr>\n",
       "      <th>71</th>\n",
       "      <td>uqyG5YZ07CbimBvEtjCXwbzhONsABM9fGTlQC5x1ZClvHH...</td>\n",
       "      <td>-1.299566</td>\n",
       "      <td>-0.518764</td>\n",
       "      <td>-0.552861</td>\n",
       "      <td>-1.302903</td>\n",
       "      <td>-1.339221</td>\n",
       "      <td>-1.258407</td>\n",
       "      <td>-0.129455</td>\n",
       "      <td>-0.839089</td>\n",
       "      <td>-1.159325</td>\n",
       "      <td>-0.140936</td>\n",
       "      <td>6.283243</td>\n",
       "      <td>-1.008438</td>\n",
       "      <td>0.311344</td>\n",
       "      <td>-0.590533</td>\n",
       "      <td>0.0</td>\n",
       "      <td>0.0</td>\n",
       "      <td>0.0</td>\n",
       "    </tr>\n",
       "    <tr>\n",
       "      <th>72</th>\n",
       "      <td>v4iBqXC1o7TN__NBmM65HlUOPRvxagalg8_du9vH8YtYN0...</td>\n",
       "      <td>-1.153046</td>\n",
       "      <td>-0.518764</td>\n",
       "      <td>-0.676462</td>\n",
       "      <td>-1.010588</td>\n",
       "      <td>-1.388101</td>\n",
       "      <td>-1.149066</td>\n",
       "      <td>-1.040905</td>\n",
       "      <td>-0.713378</td>\n",
       "      <td>-0.730539</td>\n",
       "      <td>-0.477327</td>\n",
       "      <td>0.286721</td>\n",
       "      <td>-1.103559</td>\n",
       "      <td>1.407629</td>\n",
       "      <td>-0.590533</td>\n",
       "      <td>0.0</td>\n",
       "      <td>0.0</td>\n",
       "      <td>0.0</td>\n",
       "    </tr>\n",
       "    <tr>\n",
       "      <th>73</th>\n",
       "      <td>wWFgTMjxXdNPJgVCWg8S3bIexkChFWKijPLdYUkZmqR80h...</td>\n",
       "      <td>0.655903</td>\n",
       "      <td>-0.417821</td>\n",
       "      <td>0.374147</td>\n",
       "      <td>0.553947</td>\n",
       "      <td>0.782251</td>\n",
       "      <td>0.535667</td>\n",
       "      <td>-0.985318</td>\n",
       "      <td>0.543420</td>\n",
       "      <td>1.463259</td>\n",
       "      <td>-0.140936</td>\n",
       "      <td>-0.735577</td>\n",
       "      <td>0.665698</td>\n",
       "      <td>-0.728722</td>\n",
       "      <td>0.155059</td>\n",
       "      <td>0.0</td>\n",
       "      <td>0.0</td>\n",
       "      <td>0.0</td>\n",
       "    </tr>\n",
       "    <tr>\n",
       "      <th>74</th>\n",
       "      <td>yrrz30zFwu5ODiWSm1ORwtjaBy4gf5XPLF61uDCkRpqF6X...</td>\n",
       "      <td>1.167298</td>\n",
       "      <td>-0.271992</td>\n",
       "      <td>0.114585</td>\n",
       "      <td>0.662574</td>\n",
       "      <td>1.427180</td>\n",
       "      <td>-0.180103</td>\n",
       "      <td>-0.020028</td>\n",
       "      <td>0.128097</td>\n",
       "      <td>-0.280352</td>\n",
       "      <td>-0.342771</td>\n",
       "      <td>0.265671</td>\n",
       "      <td>-0.900634</td>\n",
       "      <td>-0.503843</td>\n",
       "      <td>2.002348</td>\n",
       "      <td>0.0</td>\n",
       "      <td>0.0</td>\n",
       "      <td>0.0</td>\n",
       "    </tr>\n",
       "    <tr>\n",
       "      <th>75</th>\n",
       "      <td>zcrNivCpXKMD4QxNCm2hybweZE5D5lMfIT74KOd1pg_pJq...</td>\n",
       "      <td>0.447122</td>\n",
       "      <td>-0.487918</td>\n",
       "      <td>-0.849504</td>\n",
       "      <td>-0.834088</td>\n",
       "      <td>0.351839</td>\n",
       "      <td>-0.827325</td>\n",
       "      <td>1.007038</td>\n",
       "      <td>-1.024070</td>\n",
       "      <td>-1.053778</td>\n",
       "      <td>-0.746441</td>\n",
       "      <td>-0.037400</td>\n",
       "      <td>-0.887951</td>\n",
       "      <td>-0.236799</td>\n",
       "      <td>1.585039</td>\n",
       "      <td>0.0</td>\n",
       "      <td>0.0</td>\n",
       "      <td>0.0</td>\n",
       "    </tr>\n",
       "  </tbody>\n",
       "</table>\n",
       "<p>76 rows × 18 columns</p>\n",
       "</div>"
      ],
      "text/plain": [
       "                                                puuid  lane_cs_per_min  \\\n",
       "0   -356wHRenGKjOp5pBnrCzWJv7qFR5ypK9iMpB1S0J8doFX...        -1.036673   \n",
       "1   -J6KMZ7IDQZNRHXtuMzSQQRkDwinSGI62fo5qD6C700Hzr...        -1.133717   \n",
       "2   -d5MIcv7Gtetq5g1xLaolc5qUozE9oX3ogQQJCLK2RCUv_...        -1.378611   \n",
       "3   13DRof6AgQVW9VmqftA-XWar4Fxf-tNxD0mmubwlEZwQtS...         1.343813   \n",
       "4   1ERlFiDMWvXUJsYSTEdjmft0_R6aw2eiuahq5TRSLQidfN...        -0.951058   \n",
       "..                                                ...              ...   \n",
       "71  uqyG5YZ07CbimBvEtjCXwbzhONsABM9fGTlQC5x1ZClvHH...        -1.299566   \n",
       "72  v4iBqXC1o7TN__NBmM65HlUOPRvxagalg8_du9vH8YtYN0...        -1.153046   \n",
       "73  wWFgTMjxXdNPJgVCWg8S3bIexkChFWKijPLdYUkZmqR80h...         0.655903   \n",
       "74  yrrz30zFwu5ODiWSm1ORwtjaBy4gf5XPLF61uDCkRpqF6X...         1.167298   \n",
       "75  zcrNivCpXKMD4QxNCm2hybweZE5D5lMfIT74KOd1pg_pJq...         0.447122   \n",
       "\n",
       "    jungle_cs_per_min       KDA  gold_per_min  xp_per_min  damage_per_min  \\\n",
       "0            1.466676  0.414888      0.449370    0.206065        0.286351   \n",
       "1           -0.518764 -0.552861     -1.543108   -2.189635       -1.324364   \n",
       "2           -0.518764 -0.923665     -1.556308   -0.923237       -1.284860   \n",
       "3           -0.357255  0.312347      0.852587    1.528927       -0.226598   \n",
       "4           -0.518764 -0.182058     -1.197134   -1.830420       -1.176081   \n",
       "..                ...       ...           ...         ...             ...   \n",
       "71          -0.518764 -0.552861     -1.302903   -1.339221       -1.258407   \n",
       "72          -0.518764 -0.676462     -1.010588   -1.388101       -1.149066   \n",
       "73          -0.417821  0.374147      0.553947    0.782251        0.535667   \n",
       "74          -0.271992  0.114585      0.662574    1.427180       -0.180103   \n",
       "75          -0.487918 -0.849504     -0.834088    0.351839       -0.827325   \n",
       "\n",
       "    damage_taken_per_min  ka_per_min  damage_efficiency  survivability  \\\n",
       "0               0.627821    0.696177          -0.264621      -0.167017   \n",
       "1              -1.346892   -0.807420          -0.809331       0.868239   \n",
       "2              -0.630268   -1.216098          -1.065926      -0.746441   \n",
       "3              -0.115764    0.040701          -0.268686       0.195456   \n",
       "4              -1.333625   -0.668300          -0.569883       0.868239   \n",
       "..                   ...         ...                ...            ...   \n",
       "71             -0.129455   -0.839089          -1.159325      -0.140936   \n",
       "72             -1.040905   -0.713378          -0.730539      -0.477327   \n",
       "73             -0.985318    0.543420           1.463259      -0.140936   \n",
       "74             -0.020028    0.128097          -0.280352      -0.342771   \n",
       "75              1.007038   -1.024070          -1.053778      -0.746441   \n",
       "\n",
       "    healthregen_per_min  offensive_score  defensive_score  magic_score  \\\n",
       "0              1.715338         0.145067         0.076626     0.047672   \n",
       "1              0.239653        -1.230387        -1.206589    -0.429174   \n",
       "2             -0.448755        -1.033803        -0.813051     0.227393   \n",
       "3              0.795790         0.893989        -0.236799    -0.590533   \n",
       "4             -0.096149        -1.021121        -0.166524    -0.590533   \n",
       "..                  ...              ...              ...          ...   \n",
       "71             6.283243        -1.008438         0.311344    -0.590533   \n",
       "72             0.286721        -1.103559         1.407629    -0.590533   \n",
       "73            -0.735577         0.665698        -0.728722     0.155059   \n",
       "74             0.265671        -0.900634        -0.503843     2.002348   \n",
       "75            -0.037400        -0.887951        -0.236799     1.585039   \n",
       "\n",
       "    total_vamp  wards_placed_per_min  wards_killed_per_min  \n",
       "0          0.0                   0.0                   0.0  \n",
       "1          0.0                   0.0                   0.0  \n",
       "2          0.0                   0.0                   0.0  \n",
       "3          0.0                   0.0                   0.0  \n",
       "4          0.0                   0.0                   0.0  \n",
       "..         ...                   ...                   ...  \n",
       "71         0.0                   0.0                   0.0  \n",
       "72         0.0                   0.0                   0.0  \n",
       "73         0.0                   0.0                   0.0  \n",
       "74         0.0                   0.0                   0.0  \n",
       "75         0.0                   0.0                   0.0  \n",
       "\n",
       "[76 rows x 18 columns]"
      ]
     },
     "execution_count": 69,
     "metadata": {},
     "output_type": "execute_result"
    }
   ],
   "source": [
    "# 스케일링\n",
    "scaler = StandardScaler()\n",
    "\n",
    "# 분석 대상에서 제외할 컬럼 지정\n",
    "id_columns = ['puuid']\n",
    "features = filtered_df.drop(columns=id_columns)\n",
    "\n",
    "# StandardScaler 적용\n",
    "scaler = StandardScaler()\n",
    "scaled_array = scaler.fit_transform(features)\n",
    "\n",
    "# 정규화된 데이터를 다시 DataFrame으로\n",
    "scaled_features = pd.DataFrame(scaled_array, columns=features.columns, index=features.index)\n",
    "\n",
    "# 식별자 컬럼 붙이기\n",
    "scaled_df = pd.concat([filtered_df[id_columns], scaled_features], axis=1)\n",
    "\n",
    "scaled_df"
   ]
  },
  {
   "cell_type": "code",
   "execution_count": null,
   "id": "7d329aa2",
   "metadata": {},
   "outputs": [
    {
     "data": {
      "text/html": [
       "<div>\n",
       "<style scoped>\n",
       "    .dataframe tbody tr th:only-of-type {\n",
       "        vertical-align: middle;\n",
       "    }\n",
       "\n",
       "    .dataframe tbody tr th {\n",
       "        vertical-align: top;\n",
       "    }\n",
       "\n",
       "    .dataframe thead th {\n",
       "        text-align: right;\n",
       "    }\n",
       "</style>\n",
       "<table border=\"1\" class=\"dataframe\">\n",
       "  <thead>\n",
       "    <tr style=\"text-align: right;\">\n",
       "      <th></th>\n",
       "      <th>puuid</th>\n",
       "      <th>lane_cs_per_min</th>\n",
       "      <th>jungle_cs_per_min</th>\n",
       "      <th>KDA</th>\n",
       "      <th>gold_per_min</th>\n",
       "      <th>xp_per_min</th>\n",
       "      <th>damage_per_min</th>\n",
       "      <th>damage_taken_per_min</th>\n",
       "      <th>ka_per_min</th>\n",
       "      <th>damage_efficiency</th>\n",
       "      <th>survivability</th>\n",
       "      <th>healthregen_per_min</th>\n",
       "      <th>offensive_score</th>\n",
       "      <th>defensive_score</th>\n",
       "      <th>magic_score</th>\n",
       "      <th>total_vamp</th>\n",
       "      <th>wards_placed_per_min</th>\n",
       "      <th>wards_killed_per_min</th>\n",
       "    </tr>\n",
       "  </thead>\n",
       "  <tbody>\n",
       "    <tr>\n",
       "      <th>0</th>\n",
       "      <td>-356wHRenGKjOp5pBnrCzWJv7qFR5ypK9iMpB1S0J8doFX...</td>\n",
       "      <td>-1.036673</td>\n",
       "      <td>1.466676</td>\n",
       "      <td>0.414888</td>\n",
       "      <td>0.44937</td>\n",
       "      <td>0.206065</td>\n",
       "      <td>0.286351</td>\n",
       "      <td>0.627821</td>\n",
       "      <td>0.696177</td>\n",
       "      <td>-0.264621</td>\n",
       "      <td>-0.167017</td>\n",
       "      <td>1.715338</td>\n",
       "      <td>0.145067</td>\n",
       "      <td>0.076626</td>\n",
       "      <td>0.047672</td>\n",
       "      <td>0.0</td>\n",
       "      <td>0.0</td>\n",
       "      <td>0.0</td>\n",
       "    </tr>\n",
       "  </tbody>\n",
       "</table>\n",
       "</div>"
      ],
      "text/plain": [
       "                                               puuid  lane_cs_per_min  \\\n",
       "0  -356wHRenGKjOp5pBnrCzWJv7qFR5ypK9iMpB1S0J8doFX...        -1.036673   \n",
       "\n",
       "   jungle_cs_per_min       KDA  gold_per_min  xp_per_min  damage_per_min  \\\n",
       "0           1.466676  0.414888       0.44937    0.206065        0.286351   \n",
       "\n",
       "   damage_taken_per_min  ka_per_min  damage_efficiency  survivability  \\\n",
       "0              0.627821    0.696177          -0.264621      -0.167017   \n",
       "\n",
       "   healthregen_per_min  offensive_score  defensive_score  magic_score  \\\n",
       "0             1.715338         0.145067         0.076626     0.047672   \n",
       "\n",
       "   total_vamp  wards_placed_per_min  wards_killed_per_min  \n",
       "0         0.0                   0.0                   0.0  "
      ]
     },
     "execution_count": 74,
     "metadata": {},
     "output_type": "execute_result"
    }
   ],
   "source": [
    "\n",
    "target_puuid = '-356wHRenGKjOp5pBnrCzWJv7qFR5ypK9iMpB1S0J8doFXsxfHwXECJ_bWG0f57TpkVxUgYiRdb85Q' \n",
    "X_target = scaled_df[scaled_df[\"puuid\"] == target_puuid].fillna(0)\n",
    "X_target.to_csv('data/result/normal.csv')\n",
    "X_target"
   ]
  },
  {
   "cell_type": "markdown",
   "id": "88a302bc",
   "metadata": {},
   "source": [
    "# 유사도 분석\n",
    "- 일반 유저와 Top1000 유저 간의 유사도를 수치로 계산\n",
    "- 가장 유사한 상위 10~20명을 추출"
   ]
  },
  {
   "cell_type": "markdown",
   "id": "b3e9ea34",
   "metadata": {},
   "source": [
    "## 유사도 계산용 피처 선택\n",
    "- 유저의 게임 스타일을 구성하는 성능 지표\n",
    "\n",
    "카테고리 | 예시 지표 | 의미\n",
    "------ | ------- | ----\n",
    "성장 | CS/Min, Gold/Min, XP/Min | 파밍 능력\n",
    "전투 | KDA, KA/Min, Damage | 교전 참여도\n",
    "생존 | Survivability, Damage Efficiency | 얼마나 잘 살아남는가\n",
    "능력치 | offensive_score 등 | 스탯 종합\n",
    "시야 | wards_placed_per_min 등 | 맵 컨트롤 능력"
   ]
  },
  {
   "cell_type": "markdown",
   "id": "e2e7ae49",
   "metadata": {},
   "source": [
    "## 정규화 (Standard Scaler)\n",
    "- 모든 feature는 단위와 크기가 다르기 때문에, 정규화를 하지 않으면 왜곡된 유사도가 계산\n",
    "\n",
    "### 💡 StandardScaler 작동 방식     \n",
    "- 평균을 0으로, 표준편차를 1로 바꾸는 방식        \n",
    "    → 값의 분포가 동일한 기준에서 비교되도록 조정"
   ]
  },
  {
   "cell_type": "code",
   "execution_count": 41,
   "id": "92713128",
   "metadata": {},
   "outputs": [
    {
     "data": {
      "text/html": [
       "<div>\n",
       "<style scoped>\n",
       "    .dataframe tbody tr th:only-of-type {\n",
       "        vertical-align: middle;\n",
       "    }\n",
       "\n",
       "    .dataframe tbody tr th {\n",
       "        vertical-align: top;\n",
       "    }\n",
       "\n",
       "    .dataframe thead th {\n",
       "        text-align: right;\n",
       "    }\n",
       "</style>\n",
       "<table border=\"1\" class=\"dataframe\">\n",
       "  <thead>\n",
       "    <tr style=\"text-align: right;\">\n",
       "      <th></th>\n",
       "      <th>lane_cs_per_min</th>\n",
       "      <th>jungle_cs_per_min</th>\n",
       "      <th>KDA</th>\n",
       "      <th>gold_per_min</th>\n",
       "      <th>xp_per_min</th>\n",
       "      <th>damage_per_min</th>\n",
       "      <th>damage_taken_per_min</th>\n",
       "      <th>ka_per_min</th>\n",
       "      <th>damage_efficiency</th>\n",
       "      <th>survivability</th>\n",
       "      <th>healthregen_per_min</th>\n",
       "      <th>offensive_score</th>\n",
       "      <th>defensive_score</th>\n",
       "      <th>magic_score</th>\n",
       "      <th>total_vamp</th>\n",
       "      <th>wards_placed_per_min</th>\n",
       "      <th>wards_killed_per_min</th>\n",
       "    </tr>\n",
       "    <tr>\n",
       "      <th>puuid</th>\n",
       "      <th></th>\n",
       "      <th></th>\n",
       "      <th></th>\n",
       "      <th></th>\n",
       "      <th></th>\n",
       "      <th></th>\n",
       "      <th></th>\n",
       "      <th></th>\n",
       "      <th></th>\n",
       "      <th></th>\n",
       "      <th></th>\n",
       "      <th></th>\n",
       "      <th></th>\n",
       "      <th></th>\n",
       "      <th></th>\n",
       "      <th></th>\n",
       "      <th></th>\n",
       "    </tr>\n",
       "  </thead>\n",
       "  <tbody>\n",
       "    <tr>\n",
       "      <th>-356wHRenGKjOp5pBnrCzWJv7qFR5ypK9iMpB1S0J8doFXsxfHwXECJ_bWG0f57TpkVxUgYiRdb85Q</th>\n",
       "      <td>0.0</td>\n",
       "      <td>0.0</td>\n",
       "      <td>0.0</td>\n",
       "      <td>0.0</td>\n",
       "      <td>0.0</td>\n",
       "      <td>0.0</td>\n",
       "      <td>0.0</td>\n",
       "      <td>0.0</td>\n",
       "      <td>0.0</td>\n",
       "      <td>0.0</td>\n",
       "      <td>0.0</td>\n",
       "      <td>0.0</td>\n",
       "      <td>0.0</td>\n",
       "      <td>0.0</td>\n",
       "      <td>0.0</td>\n",
       "      <td>0.0</td>\n",
       "      <td>0.0</td>\n",
       "    </tr>\n",
       "  </tbody>\n",
       "</table>\n",
       "</div>"
      ],
      "text/plain": [
       "                                                    lane_cs_per_min  \\\n",
       "puuid                                                                 \n",
       "-356wHRenGKjOp5pBnrCzWJv7qFR5ypK9iMpB1S0J8doFXs...              0.0   \n",
       "\n",
       "                                                    jungle_cs_per_min  KDA  \\\n",
       "puuid                                                                        \n",
       "-356wHRenGKjOp5pBnrCzWJv7qFR5ypK9iMpB1S0J8doFXs...                0.0  0.0   \n",
       "\n",
       "                                                    gold_per_min  xp_per_min  \\\n",
       "puuid                                                                          \n",
       "-356wHRenGKjOp5pBnrCzWJv7qFR5ypK9iMpB1S0J8doFXs...           0.0         0.0   \n",
       "\n",
       "                                                    damage_per_min  \\\n",
       "puuid                                                                \n",
       "-356wHRenGKjOp5pBnrCzWJv7qFR5ypK9iMpB1S0J8doFXs...             0.0   \n",
       "\n",
       "                                                    damage_taken_per_min  \\\n",
       "puuid                                                                      \n",
       "-356wHRenGKjOp5pBnrCzWJv7qFR5ypK9iMpB1S0J8doFXs...                   0.0   \n",
       "\n",
       "                                                    ka_per_min  \\\n",
       "puuid                                                            \n",
       "-356wHRenGKjOp5pBnrCzWJv7qFR5ypK9iMpB1S0J8doFXs...         0.0   \n",
       "\n",
       "                                                    damage_efficiency  \\\n",
       "puuid                                                                   \n",
       "-356wHRenGKjOp5pBnrCzWJv7qFR5ypK9iMpB1S0J8doFXs...                0.0   \n",
       "\n",
       "                                                    survivability  \\\n",
       "puuid                                                               \n",
       "-356wHRenGKjOp5pBnrCzWJv7qFR5ypK9iMpB1S0J8doFXs...            0.0   \n",
       "\n",
       "                                                    healthregen_per_min  \\\n",
       "puuid                                                                     \n",
       "-356wHRenGKjOp5pBnrCzWJv7qFR5ypK9iMpB1S0J8doFXs...                  0.0   \n",
       "\n",
       "                                                    offensive_score  \\\n",
       "puuid                                                                 \n",
       "-356wHRenGKjOp5pBnrCzWJv7qFR5ypK9iMpB1S0J8doFXs...              0.0   \n",
       "\n",
       "                                                    defensive_score  \\\n",
       "puuid                                                                 \n",
       "-356wHRenGKjOp5pBnrCzWJv7qFR5ypK9iMpB1S0J8doFXs...              0.0   \n",
       "\n",
       "                                                    magic_score  total_vamp  \\\n",
       "puuid                                                                         \n",
       "-356wHRenGKjOp5pBnrCzWJv7qFR5ypK9iMpB1S0J8doFXs...          0.0         0.0   \n",
       "\n",
       "                                                    wards_placed_per_min  \\\n",
       "puuid                                                                      \n",
       "-356wHRenGKjOp5pBnrCzWJv7qFR5ypK9iMpB1S0J8doFXs...                   0.0   \n",
       "\n",
       "                                                    wards_killed_per_min  \n",
       "puuid                                                                     \n",
       "-356wHRenGKjOp5pBnrCzWJv7qFR5ypK9iMpB1S0J8doFXs...                   0.0  "
      ]
     },
     "execution_count": 41,
     "metadata": {},
     "output_type": "execute_result"
    }
   ],
   "source": [
    "# 스케일링\n",
    "scaler = StandardScaler()\n",
    "\n",
    "# StandardScaler 적용\n",
    "scaler = StandardScaler()\n",
    "scaled_array = scaler.fit_transform(filtered_df)\n",
    "\n",
    "# 정규화된 데이터를 다시 DataFrame으로\n",
    "scaled_features = pd.DataFrame(scaled_array, columns=filtered_df.columns, index=filtered_df.index)\n",
    "\n",
    "\n",
    "scaled_features"
   ]
  },
  {
   "cell_type": "code",
   "execution_count": 202,
   "id": "0f33d405",
   "metadata": {},
   "outputs": [
    {
     "data": {
      "text/html": [
       "<div>\n",
       "<style scoped>\n",
       "    .dataframe tbody tr th:only-of-type {\n",
       "        vertical-align: middle;\n",
       "    }\n",
       "\n",
       "    .dataframe tbody tr th {\n",
       "        vertical-align: top;\n",
       "    }\n",
       "\n",
       "    .dataframe thead th {\n",
       "        text-align: right;\n",
       "    }\n",
       "</style>\n",
       "<table border=\"1\" class=\"dataframe\">\n",
       "  <thead>\n",
       "    <tr style=\"text-align: right;\">\n",
       "      <th></th>\n",
       "      <th>puuid</th>\n",
       "      <th>lane_cs_per_min</th>\n",
       "      <th>jungle_cs_per_min</th>\n",
       "      <th>KDA</th>\n",
       "      <th>gold_per_min</th>\n",
       "      <th>xp_per_min</th>\n",
       "      <th>damage_per_min</th>\n",
       "      <th>damage_taken_per_min</th>\n",
       "      <th>ka_per_min</th>\n",
       "      <th>damage_efficiency</th>\n",
       "      <th>survivability</th>\n",
       "      <th>healthregen_per_min</th>\n",
       "      <th>offensive_score</th>\n",
       "      <th>defensive_score</th>\n",
       "      <th>magic_score</th>\n",
       "      <th>total_vamp</th>\n",
       "      <th>wards_placed_per_min</th>\n",
       "      <th>wards_killed_per_min</th>\n",
       "      <th>is_top1000</th>\n",
       "    </tr>\n",
       "  </thead>\n",
       "  <tbody>\n",
       "    <tr>\n",
       "      <th>2</th>\n",
       "      <td>-0o6aHvXTe3xfjgA2mJbTCM85Y9vsqmgVmIBj-GX5sQV0m...</td>\n",
       "      <td>0.382491</td>\n",
       "      <td>6.871390</td>\n",
       "      <td>7.750000</td>\n",
       "      <td>387.689206</td>\n",
       "      <td>507.891553</td>\n",
       "      <td>529.058669</td>\n",
       "      <td>912.637495</td>\n",
       "      <td>0.423278</td>\n",
       "      <td>0.599451</td>\n",
       "      <td>0.625000</td>\n",
       "      <td>44.342066</td>\n",
       "      <td>255.000000</td>\n",
       "      <td>158.500000</td>\n",
       "      <td>263.000000</td>\n",
       "      <td>0.000000</td>\n",
       "      <td>0.199846</td>\n",
       "      <td>0.307304</td>\n",
       "      <td>True</td>\n",
       "    </tr>\n",
       "    <tr>\n",
       "      <th>3</th>\n",
       "      <td>-1S8Vgzl5o8qRc1J24lsOqEi7WemMWiln924OtaniSSXZ-...</td>\n",
       "      <td>7.273737</td>\n",
       "      <td>0.015468</td>\n",
       "      <td>4.263889</td>\n",
       "      <td>406.707915</td>\n",
       "      <td>492.078102</td>\n",
       "      <td>874.762058</td>\n",
       "      <td>578.421308</td>\n",
       "      <td>0.670765</td>\n",
       "      <td>1.505342</td>\n",
       "      <td>0.263889</td>\n",
       "      <td>28.844061</td>\n",
       "      <td>213.333333</td>\n",
       "      <td>142.666667</td>\n",
       "      <td>395.666667</td>\n",
       "      <td>0.000000</td>\n",
       "      <td>0.346756</td>\n",
       "      <td>0.117124</td>\n",
       "      <td>True</td>\n",
       "    </tr>\n",
       "    <tr>\n",
       "      <th>8</th>\n",
       "      <td>-AJRi0IczMhxg2SJjU3RrzFhNGgmwUr8zgOUh9FJrpxk7s...</td>\n",
       "      <td>9.337259</td>\n",
       "      <td>0.135979</td>\n",
       "      <td>7.000000</td>\n",
       "      <td>459.746670</td>\n",
       "      <td>644.633456</td>\n",
       "      <td>906.393982</td>\n",
       "      <td>744.215772</td>\n",
       "      <td>0.634571</td>\n",
       "      <td>1.217918</td>\n",
       "      <td>0.500000</td>\n",
       "      <td>35.671954</td>\n",
       "      <td>415.000000</td>\n",
       "      <td>316.000000</td>\n",
       "      <td>0.000000</td>\n",
       "      <td>0.000000</td>\n",
       "      <td>0.317285</td>\n",
       "      <td>0.090653</td>\n",
       "      <td>True</td>\n",
       "    </tr>\n",
       "    <tr>\n",
       "      <th>9</th>\n",
       "      <td>-AfKDjFub1Lkd135hPxm3JdbEXflbibk_TPvnNm0CTbpWi...</td>\n",
       "      <td>9.649859</td>\n",
       "      <td>0.131291</td>\n",
       "      <td>11.000000</td>\n",
       "      <td>576.956531</td>\n",
       "      <td>441.924151</td>\n",
       "      <td>599.013351</td>\n",
       "      <td>377.723049</td>\n",
       "      <td>0.722098</td>\n",
       "      <td>1.585853</td>\n",
       "      <td>1.000000</td>\n",
       "      <td>34.660718</td>\n",
       "      <td>433.000000</td>\n",
       "      <td>99.000000</td>\n",
       "      <td>0.000000</td>\n",
       "      <td>0.000000</td>\n",
       "      <td>0.393872</td>\n",
       "      <td>0.196936</td>\n",
       "      <td>True</td>\n",
       "    </tr>\n",
       "    <tr>\n",
       "      <th>14</th>\n",
       "      <td>-Ei5YuB1CV4cohstuYkeTX7OrAOIU_bZaRYC7Xu90rOcG4...</td>\n",
       "      <td>2.496440</td>\n",
       "      <td>0.048141</td>\n",
       "      <td>5.106061</td>\n",
       "      <td>346.033054</td>\n",
       "      <td>444.518291</td>\n",
       "      <td>557.406646</td>\n",
       "      <td>1024.776026</td>\n",
       "      <td>0.660670</td>\n",
       "      <td>0.560517</td>\n",
       "      <td>0.241515</td>\n",
       "      <td>42.752629</td>\n",
       "      <td>307.200000</td>\n",
       "      <td>158.400000</td>\n",
       "      <td>230.600000</td>\n",
       "      <td>0.000000</td>\n",
       "      <td>2.564423</td>\n",
       "      <td>0.359696</td>\n",
       "      <td>True</td>\n",
       "    </tr>\n",
       "    <tr>\n",
       "      <th>...</th>\n",
       "      <td>...</td>\n",
       "      <td>...</td>\n",
       "      <td>...</td>\n",
       "      <td>...</td>\n",
       "      <td>...</td>\n",
       "      <td>...</td>\n",
       "      <td>...</td>\n",
       "      <td>...</td>\n",
       "      <td>...</td>\n",
       "      <td>...</td>\n",
       "      <td>...</td>\n",
       "      <td>...</td>\n",
       "      <td>...</td>\n",
       "      <td>...</td>\n",
       "      <td>...</td>\n",
       "      <td>...</td>\n",
       "      <td>...</td>\n",
       "      <td>...</td>\n",
       "      <td>...</td>\n",
       "    </tr>\n",
       "    <tr>\n",
       "      <th>2407</th>\n",
       "      <td>zhouqznNR0r9OEw6T7G-40hbaN7s5JidMjkxYW97vNF5rW...</td>\n",
       "      <td>0.987589</td>\n",
       "      <td>6.273609</td>\n",
       "      <td>19.600000</td>\n",
       "      <td>448.611491</td>\n",
       "      <td>563.501088</td>\n",
       "      <td>1000.009627</td>\n",
       "      <td>1411.213952</td>\n",
       "      <td>0.683069</td>\n",
       "      <td>0.726223</td>\n",
       "      <td>0.600000</td>\n",
       "      <td>48.223093</td>\n",
       "      <td>396.500000</td>\n",
       "      <td>211.500000</td>\n",
       "      <td>477.000000</td>\n",
       "      <td>0.000000</td>\n",
       "      <td>1.581634</td>\n",
       "      <td>0.324708</td>\n",
       "      <td>True</td>\n",
       "    </tr>\n",
       "    <tr>\n",
       "      <th>2408</th>\n",
       "      <td>znTmuVKGw2_g_dApzVG2sId1sO0scMTJeeXryiMC-uNysp...</td>\n",
       "      <td>8.814499</td>\n",
       "      <td>0.124026</td>\n",
       "      <td>4.856227</td>\n",
       "      <td>449.894244</td>\n",
       "      <td>544.747040</td>\n",
       "      <td>787.292785</td>\n",
       "      <td>813.970509</td>\n",
       "      <td>0.466535</td>\n",
       "      <td>0.993279</td>\n",
       "      <td>0.418681</td>\n",
       "      <td>35.843255</td>\n",
       "      <td>378.153846</td>\n",
       "      <td>145.538462</td>\n",
       "      <td>136.230769</td>\n",
       "      <td>0.461538</td>\n",
       "      <td>0.294170</td>\n",
       "      <td>0.133766</td>\n",
       "      <td>True</td>\n",
       "    </tr>\n",
       "    <tr>\n",
       "      <th>2411</th>\n",
       "      <td>zotu_CEvJgKm2YXXMpBmKAehbVqBkiMHgF_xYOFicE_IHd...</td>\n",
       "      <td>7.181251</td>\n",
       "      <td>0.074401</td>\n",
       "      <td>7.285154</td>\n",
       "      <td>408.038175</td>\n",
       "      <td>587.342105</td>\n",
       "      <td>741.197995</td>\n",
       "      <td>997.010387</td>\n",
       "      <td>0.652590</td>\n",
       "      <td>0.754444</td>\n",
       "      <td>0.388375</td>\n",
       "      <td>27.907932</td>\n",
       "      <td>241.941176</td>\n",
       "      <td>177.764706</td>\n",
       "      <td>294.411765</td>\n",
       "      <td>0.000000</td>\n",
       "      <td>0.301864</td>\n",
       "      <td>0.199034</td>\n",
       "      <td>True</td>\n",
       "    </tr>\n",
       "    <tr>\n",
       "      <th>2412</th>\n",
       "      <td>zrBPWcUk5Ql4A5cWw8bB4KSN8VFpREnHWOtPe38IFT3jIz...</td>\n",
       "      <td>6.887266</td>\n",
       "      <td>0.000000</td>\n",
       "      <td>13.000000</td>\n",
       "      <td>412.553438</td>\n",
       "      <td>527.961680</td>\n",
       "      <td>660.246825</td>\n",
       "      <td>799.481283</td>\n",
       "      <td>0.806617</td>\n",
       "      <td>0.825844</td>\n",
       "      <td>1.000000</td>\n",
       "      <td>46.907866</td>\n",
       "      <td>203.000000</td>\n",
       "      <td>101.000000</td>\n",
       "      <td>122.000000</td>\n",
       "      <td>0.000000</td>\n",
       "      <td>0.496380</td>\n",
       "      <td>0.062047</td>\n",
       "      <td>True</td>\n",
       "    </tr>\n",
       "    <tr>\n",
       "      <th>2413</th>\n",
       "      <td>zuTzJktw2MnWYD9D_fYDG-brT-s577KqtSiDkg6KQQMpfJ...</td>\n",
       "      <td>1.012666</td>\n",
       "      <td>0.000000</td>\n",
       "      <td>13.000000</td>\n",
       "      <td>290.812194</td>\n",
       "      <td>358.051157</td>\n",
       "      <td>165.686041</td>\n",
       "      <td>306.347812</td>\n",
       "      <td>0.875258</td>\n",
       "      <td>0.562242</td>\n",
       "      <td>0.611111</td>\n",
       "      <td>27.634148</td>\n",
       "      <td>201.666667</td>\n",
       "      <td>104.666667</td>\n",
       "      <td>187.666667</td>\n",
       "      <td>0.000000</td>\n",
       "      <td>1.024894</td>\n",
       "      <td>0.168740</td>\n",
       "      <td>True</td>\n",
       "    </tr>\n",
       "  </tbody>\n",
       "</table>\n",
       "<p>1000 rows × 19 columns</p>\n",
       "</div>"
      ],
      "text/plain": [
       "                                                  puuid  lane_cs_per_min  \\\n",
       "2     -0o6aHvXTe3xfjgA2mJbTCM85Y9vsqmgVmIBj-GX5sQV0m...         0.382491   \n",
       "3     -1S8Vgzl5o8qRc1J24lsOqEi7WemMWiln924OtaniSSXZ-...         7.273737   \n",
       "8     -AJRi0IczMhxg2SJjU3RrzFhNGgmwUr8zgOUh9FJrpxk7s...         9.337259   \n",
       "9     -AfKDjFub1Lkd135hPxm3JdbEXflbibk_TPvnNm0CTbpWi...         9.649859   \n",
       "14    -Ei5YuB1CV4cohstuYkeTX7OrAOIU_bZaRYC7Xu90rOcG4...         2.496440   \n",
       "...                                                 ...              ...   \n",
       "2407  zhouqznNR0r9OEw6T7G-40hbaN7s5JidMjkxYW97vNF5rW...         0.987589   \n",
       "2408  znTmuVKGw2_g_dApzVG2sId1sO0scMTJeeXryiMC-uNysp...         8.814499   \n",
       "2411  zotu_CEvJgKm2YXXMpBmKAehbVqBkiMHgF_xYOFicE_IHd...         7.181251   \n",
       "2412  zrBPWcUk5Ql4A5cWw8bB4KSN8VFpREnHWOtPe38IFT3jIz...         6.887266   \n",
       "2413  zuTzJktw2MnWYD9D_fYDG-brT-s577KqtSiDkg6KQQMpfJ...         1.012666   \n",
       "\n",
       "      jungle_cs_per_min        KDA  gold_per_min  xp_per_min  damage_per_min  \\\n",
       "2              6.871390   7.750000    387.689206  507.891553      529.058669   \n",
       "3              0.015468   4.263889    406.707915  492.078102      874.762058   \n",
       "8              0.135979   7.000000    459.746670  644.633456      906.393982   \n",
       "9              0.131291  11.000000    576.956531  441.924151      599.013351   \n",
       "14             0.048141   5.106061    346.033054  444.518291      557.406646   \n",
       "...                 ...        ...           ...         ...             ...   \n",
       "2407           6.273609  19.600000    448.611491  563.501088     1000.009627   \n",
       "2408           0.124026   4.856227    449.894244  544.747040      787.292785   \n",
       "2411           0.074401   7.285154    408.038175  587.342105      741.197995   \n",
       "2412           0.000000  13.000000    412.553438  527.961680      660.246825   \n",
       "2413           0.000000  13.000000    290.812194  358.051157      165.686041   \n",
       "\n",
       "      damage_taken_per_min  ka_per_min  damage_efficiency  survivability  \\\n",
       "2               912.637495    0.423278           0.599451       0.625000   \n",
       "3               578.421308    0.670765           1.505342       0.263889   \n",
       "8               744.215772    0.634571           1.217918       0.500000   \n",
       "9               377.723049    0.722098           1.585853       1.000000   \n",
       "14             1024.776026    0.660670           0.560517       0.241515   \n",
       "...                    ...         ...                ...            ...   \n",
       "2407           1411.213952    0.683069           0.726223       0.600000   \n",
       "2408            813.970509    0.466535           0.993279       0.418681   \n",
       "2411            997.010387    0.652590           0.754444       0.388375   \n",
       "2412            799.481283    0.806617           0.825844       1.000000   \n",
       "2413            306.347812    0.875258           0.562242       0.611111   \n",
       "\n",
       "      healthregen_per_min  offensive_score  defensive_score  magic_score  \\\n",
       "2               44.342066       255.000000       158.500000   263.000000   \n",
       "3               28.844061       213.333333       142.666667   395.666667   \n",
       "8               35.671954       415.000000       316.000000     0.000000   \n",
       "9               34.660718       433.000000        99.000000     0.000000   \n",
       "14              42.752629       307.200000       158.400000   230.600000   \n",
       "...                   ...              ...              ...          ...   \n",
       "2407            48.223093       396.500000       211.500000   477.000000   \n",
       "2408            35.843255       378.153846       145.538462   136.230769   \n",
       "2411            27.907932       241.941176       177.764706   294.411765   \n",
       "2412            46.907866       203.000000       101.000000   122.000000   \n",
       "2413            27.634148       201.666667       104.666667   187.666667   \n",
       "\n",
       "      total_vamp  wards_placed_per_min  wards_killed_per_min  is_top1000  \n",
       "2       0.000000              0.199846              0.307304        True  \n",
       "3       0.000000              0.346756              0.117124        True  \n",
       "8       0.000000              0.317285              0.090653        True  \n",
       "9       0.000000              0.393872              0.196936        True  \n",
       "14      0.000000              2.564423              0.359696        True  \n",
       "...          ...                   ...                   ...         ...  \n",
       "2407    0.000000              1.581634              0.324708        True  \n",
       "2408    0.461538              0.294170              0.133766        True  \n",
       "2411    0.000000              0.301864              0.199034        True  \n",
       "2412    0.000000              0.496380              0.062047        True  \n",
       "2413    0.000000              1.024894              0.168740        True  \n",
       "\n",
       "[1000 rows x 19 columns]"
      ]
     },
     "execution_count": 202,
     "metadata": {},
     "output_type": "execute_result"
    }
   ],
   "source": [
    "# 상위 유저 데이터만 추출\n",
    "X_top = merged_df[merged_df[\"is_top1000\"] == True].fillna(0)\n",
    "X_top"
   ]
  },
  {
   "cell_type": "code",
   "execution_count": null,
   "id": "09868586",
   "metadata": {},
   "outputs": [
    {
     "data": {
      "text/html": [
       "<div>\n",
       "<style scoped>\n",
       "    .dataframe tbody tr th:only-of-type {\n",
       "        vertical-align: middle;\n",
       "    }\n",
       "\n",
       "    .dataframe tbody tr th {\n",
       "        vertical-align: top;\n",
       "    }\n",
       "\n",
       "    .dataframe thead th {\n",
       "        text-align: right;\n",
       "    }\n",
       "</style>\n",
       "<table border=\"1\" class=\"dataframe\">\n",
       "  <thead>\n",
       "    <tr style=\"text-align: right;\">\n",
       "      <th></th>\n",
       "      <th>puuid</th>\n",
       "      <th>frame_timestamp</th>\n",
       "      <th>current_gold</th>\n",
       "      <th>gold_per_second</th>\n",
       "      <th>jungle_minions_killed</th>\n",
       "      <th>level</th>\n",
       "      <th>minions_killed</th>\n",
       "      <th>time_enemy_spent_controlled</th>\n",
       "      <th>total_gold</th>\n",
       "      <th>xp</th>\n",
       "      <th>...</th>\n",
       "      <th>wards_placed</th>\n",
       "      <th>wards_killed</th>\n",
       "      <th>wards_placed_per_min</th>\n",
       "      <th>wards_killed_per_min</th>\n",
       "      <th>vision_score_est</th>\n",
       "      <th>offensive_score</th>\n",
       "      <th>defensive_score</th>\n",
       "      <th>magic_score</th>\n",
       "      <th>total_vamp</th>\n",
       "      <th>haste_score</th>\n",
       "    </tr>\n",
       "  </thead>\n",
       "  <tbody>\n",
       "  </tbody>\n",
       "</table>\n",
       "<p>0 rows × 74 columns</p>\n",
       "</div>"
      ],
      "text/plain": [
       "Empty DataFrame\n",
       "Columns: [puuid, frame_timestamp, current_gold, gold_per_second, jungle_minions_killed, level, minions_killed, time_enemy_spent_controlled, total_gold, xp, position_x, position_y, abilityhaste, abilitypower, armor, armorpen, armorpenpercent, attackdamage, attackspeed, bonusarmorpenpercent, bonusmagicpenpercent, ccreduction, cooldownreduction, health, healthmax, healthregen, lifesteal, magicpen, magicpenpercent, magicresist, movementspeed, omnivamp, physicalvamp, power, powermax, powerregen, spellvamp, magicDamageDone, magicDamageDoneToChampions, magicDamageTaken, physicalDamageDone, physicalDamageDoneToChampions, physicalDamageTaken, totalDamageDone, totalDamageDoneToChampions, totalDamageTaken, trueDamageDone, trueDamageDoneToChampions, trueDamageTaken, kills, deaths, assists, KDA, lane_cs_per_min, jungle_cs_per_min, jungle_ratio, gold_per_min, xp_per_min, damage_per_min, damage_taken_per_min, ka_per_min, damage_efficiency, survivability, healthregen_per_min, wards_placed, wards_killed, wards_placed_per_min, wards_killed_per_min, vision_score_est, offensive_score, defensive_score, magic_score, total_vamp, haste_score]\n",
       "Index: []\n",
       "\n",
       "[0 rows x 74 columns]"
      ]
     },
     "execution_count": 72,
     "metadata": {},
     "output_type": "execute_result"
    }
   ],
   "source": [
    "# 일반 유저 하나 선택 (예: puuid 기반)\n",
    "# target_puuid = df_user['puuid'].sample(1).values[0]\n",
    "target_puuid = '1nry226Ys8jmA4IrYNRAqBOLA09dO_oisz6Din8AyUOowu80Mp3ggYKg3moP6BbiDD8d8fw9t-3IVw' \n",
    "X_target = merged_df[merged_df[\"puuid\"] == target_puuid].fillna(0).iloc[0:1]\n",
    "X_target\n"
   ]
  },
  {
   "cell_type": "markdown",
   "id": "63f70083",
   "metadata": {},
   "source": [
    "## 유사도 계산 (Cosine Similarity)\n",
    "- 두 벡터(유저)의 방향이 얼마나 비슷한지를 보는 지표\n",
    "\n",
    "  - 모든 유저를 동일한 척도로 정규화\n",
    "\n",
    "  - 기준 유저와 Top 유저 각각의 \"플레이 스타일 유사도\"를 수치화\n",
    "\n",
    "  - 이제 정량적 비교가 가능해짐 → 추천, 시각화, 군집화 등 모두 이 위에서 진행됨"
   ]
  },
  {
   "cell_type": "code",
   "execution_count": 204,
   "id": "548a78d7",
   "metadata": {},
   "outputs": [
    {
     "name": "stdout",
     "output_type": "stream",
     "text": [
      "                                                  puuid  is_top1000  \\\n",
      "1813  kPFSAI3VsTJ6gL2gQswPAkD1qf0-yL1Vx_mH0OgR5o_6r8...        True   \n",
      "749   IJUynUraQc8vgf8gnG4uyNLo0F2Qj08iHm0BNrwOPx0xN9...        True   \n",
      "1444  ae__dytrZCcdz16riiYPOYFkL897VVoTaudKFhK-mqhwaS...        True   \n",
      "1063  RNjteKc0toL3mwt3UJ7tP2M7gg5De8iYzpDcBDSZ_TKQ0K...        True   \n",
      "1327  Ysv_X26GTD6zmdr7js-K4xWz6UkTp7zWoJdLTE6zkcA1fh...        True   \n",
      "1411  a6C8_jVmK04Q3bgckJGyb0_doK_IG_v4mk75oxdIxEtuo5...        True   \n",
      "1821  khJV22ACWF4Q9frLbWnedhg6SjWREfEITkh8tfGu7NDonC...        True   \n",
      "1567  dtc21N33pRGsBYW4LfX8Cm9CWpvP8OGUFfR1Co8V3bwQp6...        True   \n",
      "1776  jfsRrMaYUtCHZJe3cx2DjAq4450_i2y-bCQYGelPnjKmFL...        True   \n",
      "350   7dFOuAFceeoYT7UHcBDWKuvMLp2tdQXb32seq_XB0jnkx7...        True   \n",
      "\n",
      "      similarity  \n",
      "1813    0.999137  \n",
      "749     0.998958  \n",
      "1444    0.998857  \n",
      "1063    0.998748  \n",
      "1327    0.998551  \n",
      "1411    0.998464  \n",
      "1821    0.998313  \n",
      "1567    0.998131  \n",
      "1776    0.997935  \n",
      "350     0.997701  \n"
     ]
    }
   ],
   "source": [
    "# 1. 식별자 컬럼 제외하고 feature만 추출\n",
    "id_cols = ['puuid', 'is_top1000']\n",
    "X_top_features = X_top.drop(columns=id_cols)\n",
    "X_target_features = X_target.drop(columns=id_cols)\n",
    "\n",
    "# 2. 코사인 유사도 계산 (전체 랭커 vs 신규 유저 1명)\n",
    "# → 결과 shape: (랭커 수, 1)\n",
    "similarities = cosine_similarity(X_top_features, X_target_features)\n",
    "\n",
    "# 3. 결과를 DataFrame에 정리\n",
    "result_df = X_top[id_cols].copy()\n",
    "result_df['similarity'] = similarities.ravel()\n",
    "\n",
    "# 4. 유사도 기준 정렬 (높은 순)\n",
    "result_df = result_df.sort_values(by='similarity', ascending=False)\n",
    "\n",
    "# 5. 상위 10명 보기\n",
    "top_10 = result_df.head(10)\n",
    "print(top_10)"
   ]
  },
  {
   "cell_type": "code",
   "execution_count": null,
   "id": "9ec1521a",
   "metadata": {},
   "outputs": [],
   "source": [
    "from sklearn.metrics.pairwise import cosine_similarity\n",
    "\n",
    "# 유사도 계산\n",
    "similarities = cosine_similarity(X_top, X_target)[0]  # 1행으로 나온 값\n"
   ]
  },
  {
   "cell_type": "markdown",
   "id": "ee8b7bef",
   "metadata": {},
   "source": [
    "## 유사도 상위 유저 추출\n",
    "- 기준 유저와 각 Top 유저 간의 유사도 배열"
   ]
  },
  {
   "cell_type": "code",
   "execution_count": 22,
   "id": "faf72381",
   "metadata": {},
   "outputs": [],
   "source": [
    "# 상위 유저 리스트 가져오기\n",
    "top_players = merged_df[merged_df[\"is_top1000\"] == True][[\"puuid\", \"game_id\", \"participant_id\"]].drop_duplicates()\n",
    "\n",
    "# 유사도 결과와 합치기\n",
    "top_players[\"similarity\"] = similarities\n",
    "\n",
    "# 상위 10명 추출\n",
    "top_similar_players = top_players.sort_values(\"similarity\", ascending=False).head(10)\n"
   ]
  },
  {
   "cell_type": "code",
   "execution_count": 23,
   "id": "bf2c9321",
   "metadata": {},
   "outputs": [
    {
     "name": "stdout",
     "output_type": "stream",
     "text": [
      "                                                  puuid     game_id  \\\n",
      "5908  N8s2Toz0lAW-qfSH3A0NufmmkZeVXQoqKYMDedmESurz6n...  7587157805   \n",
      "5323  JkAtetPeV8eLH-GNF14_7Z96cIMbONg0x-7yil5ZrhqURu...  7586075765   \n",
      "1815  _v3N7CJjg-9RvLsJjD-ciWb4ZtXdigRT2miD8SYenA7wnK...  7586550262   \n",
      "3148  0S7Qb-aNl4ZarGy2KldZFAAN4qum5qqCeGLJDv4vUn-d2V...  7587236000   \n",
      "4267  znTmuVKGw2_g_dApzVG2sId1sO0scMTJeeXryiMC-uNysp...  7586830524   \n",
      "4335  EVMY5lU8NxM93WsfJe1FH5irgp_daSX36OzDqSLmhoycEu...  7587377295   \n",
      "4541  BMLYrja7g84tXOAYN6an9UVxswRCySLhffkA_x8VKlFi-s...  7586513486   \n",
      "8122  mkuS-q15u1Xgel-8i20FgzR0qO16_5dV3IdJOiu6rGtQIm...  7587139551   \n",
      "2616  7UDpSRt0mNr-aRORdAY9-LXLEexD2goynSIcH63l2jRdYg...  7585750368   \n",
      "6485  Tjx_NecuU07AaxNwLyhT7sOX6kYjLTtSnwteY6g_jrpeya...  7587091839   \n",
      "\n",
      "      participant_id  similarity  \n",
      "5908               9    0.960658  \n",
      "5323               4    0.924943  \n",
      "1815               6    0.917098  \n",
      "3148               9    0.912967  \n",
      "4267               8    0.900781  \n",
      "4335               6    0.900137  \n",
      "4541               2    0.898521  \n",
      "8122               3    0.892245  \n",
      "2616               7    0.891860  \n",
      "6485               6    0.890804  \n"
     ]
    }
   ],
   "source": [
    "# 유사도(similarity)가 높은 상위 유저 10명 추출\n",
    "print(top_similar_players[[\"puuid\", \"game_id\", \"participant_id\", \"similarity\"]])\n"
   ]
  },
  {
   "cell_type": "markdown",
   "id": "db420dce",
   "metadata": {},
   "source": [
    "## 데이터 추출"
   ]
  },
  {
   "cell_type": "code",
   "execution_count": 24,
   "id": "7fabf596",
   "metadata": {},
   "outputs": [],
   "source": [
    "# export_df = top_similar_players[[\"puuid\", \"game_id\", \"participant_id\", \"similarity\"]]"
   ]
  },
  {
   "cell_type": "code",
   "execution_count": 25,
   "id": "a511fdce",
   "metadata": {},
   "outputs": [],
   "source": [
    "# export_df.to_csv(\"top_similar_users.csv\", index=False)\n"
   ]
  },
  {
   "cell_type": "markdown",
   "id": "ca493658",
   "metadata": {},
   "source": [
    "## 데이터 시각화"
   ]
  },
  {
   "cell_type": "markdown",
   "id": "d84cc049",
   "metadata": {},
   "source": [
    "### 2차원 좌표 생성 (PCA or t-SNE)\n",
    "#### 📌 PCA란?\n",
    "> PCA는 데이터의 가장 큰 **변동성(variance)** 을 유지하면서      \n",
    "> 고차원 데이터를 저차원으로 압축하는 수학 기법이야.\n",
    "\n",
    "- 데이터를 선형 조합하여 새로운 축(주성분)을 생성\n",
    "\n",
    "- 첫 번째 축: 데이터의 가장 큰 분산 방향\n",
    "\n",
    "- 두 번째 축: 그다음으로 큰 분산 방향 (첫 축과 직교)\n",
    "\n",
    "단계 | 설명\n",
    "--- | ---\n",
    "X_vis | 유사도 상위 10명의 원본 성능 데이터\n",
    "scaler.transform() | 앞에서 학습된 정규화 모델로 스케일링\n",
    "pca.fit_transform() | 정규화된 데이터를 2차원으로 압축 (x, y 좌표)"
   ]
  },
  {
   "cell_type": "code",
   "execution_count": 26,
   "id": "3680cc09",
   "metadata": {},
   "outputs": [],
   "source": [
    "from sklearn.decomposition import PCA\n",
    "\n",
    "# 해당 유저들만 필터링\n",
    "similar_puuids = top_similar_players[\"puuid\"].tolist()\n",
    "X_vis = merged_df[merged_df[\"puuid\"].isin(similar_puuids)][features].fillna(0)\n",
    "\n",
    "# PCA로 2D 압축\n",
    "pca = PCA(n_components=2)\n",
    "X_pca = pca.fit_transform(scaler.transform(X_vis))\n",
    "\n",
    "# 위치 + 메타데이터 결합\n",
    "plot_df = merged_df[merged_df[\"puuid\"].isin(similar_puuids)].copy()\n",
    "plot_df = plot_df.reset_index(drop=True)\n",
    "plot_df[\"x\"] = X_pca[:, 0]\n",
    "plot_df[\"y\"] = X_pca[:, 1]\n"
   ]
  },
  {
   "cell_type": "code",
   "execution_count": 27,
   "id": "082cca4a",
   "metadata": {},
   "outputs": [],
   "source": [
    "# similarity 정보 복원\n",
    "similarity_map = top_similar_players.set_index(\"puuid\")[\"similarity\"].to_dict()\n",
    "plot_df[\"similarity\"] = plot_df[\"puuid\"].map(similarity_map)\n"
   ]
  },
  {
   "cell_type": "markdown",
   "id": "043ccc41",
   "metadata": {},
   "source": [
    "#### 💡 PCA가 아니라 t-SNE는 안 썼는가?\n",
    "\n",
    "기법 | 설명 | 장단점\n",
    "--- | --- | ---\n",
    "PCA | 선형 변환, 빠름, 해석 가능 | 빠르고 간단, 큰 구조 보기 좋음\n",
    "t-SNE | 비선형, 국소적 구조 보존 | 군집 표현에 강하지만 느리고 전역 해석 어려움"
   ]
  },
  {
   "cell_type": "markdown",
   "id": "0e951c0c",
   "metadata": {},
   "source": [
    "### matplotlib + interactive 클릭 이벤트 시각화\n",
    "vscode에서는 matplotlib이 클릭이 작동이 안됌"
   ]
  },
  {
   "cell_type": "code",
   "execution_count": 28,
   "id": "7afe1e55",
   "metadata": {},
   "outputs": [
    {
     "data": {
      "image/png": "[encoded data removed]",
      "text/plain": [
       "<Figure size 1000x600 with 2 Axes>"
      ]
     },
     "metadata": {},
     "output_type": "display_data"
    }
   ],
   "source": [
    "import matplotlib.pyplot as plt\n",
    "\n",
    "fig, ax = plt.subplots(figsize=(10, 6))\n",
    "scatter = ax.scatter(plot_df[\"x\"], plot_df[\"y\"], c=plot_df[\"similarity\"], cmap=\"viridis\", s=100)\n",
    "\n",
    "# 텍스트 박스 준비\n",
    "annot = ax.annotate(\"\", xy=(0,0), xytext=(20,20), textcoords=\"offset points\",\n",
    "                    bbox=dict(boxstyle=\"round\", fc=\"w\"),\n",
    "                    arrowprops=dict(arrowstyle=\"->\"))\n",
    "annot.set_visible(False)\n",
    "\n",
    "# 클릭 시 작동할 함수 정의\n",
    "def update_annot(ind):\n",
    "    i = ind[\"ind\"][0]\n",
    "    row = plot_df.iloc[i]\n",
    "    text = f\"\"\"PUUID: {row['puuid']}\n",
    "                KDA: {row['KDA']:.2f}\n",
    "                CS/Min: {row['cs_per_min']:.2f}\n",
    "                Gold/Min: {row['gold_per_min']:.2f}\n",
    "                Damage/Min: {row['damage_per_min']:.2f}\n",
    "                Vision Score: {row['vision_score_est']}\n",
    "                Similarity: {row['similarity']:.2f}\n",
    "            \"\"\"\n",
    "    annot.xy = (row[\"x\"], row[\"y\"])\n",
    "    annot.set_text(text)\n",
    "    annot.get_bbox_patch().set_alpha(0.9)\n",
    "\n",
    "# 마우스 클릭 이벤트 연결\n",
    "def on_click(event):\n",
    "    vis = annot.get_visible()\n",
    "    if event.inaxes == ax:\n",
    "        cont, ind = scatter.contains(event)\n",
    "        if cont:\n",
    "            update_annot(ind)\n",
    "            annot.set_visible(True)\n",
    "            fig.canvas.draw_idle()\n",
    "        else:\n",
    "            if vis:\n",
    "                annot.set_visible(False)\n",
    "                fig.canvas.draw_idle()\n",
    "\n",
    "fig.canvas.mpl_connect(\"button_press_event\", on_click)\n",
    "\n",
    "# 기준 유저 좌표(★)\n",
    "target_row = merged_df[merged_df[\"puuid\"] == target_puuid].copy()\n",
    "target_scaled = scaler.transform(target_row[features].fillna(0))\n",
    "target_pca = pca.transform(target_scaled)\n",
    "ax.scatter(target_pca[:, 0], target_pca[:, 1], c=\"red\", marker=\"*\", s=200, label=\"Target User\")\n",
    "ax.legend()\n",
    "\n",
    "\n",
    "plt.title(\"Top Similar LoL Players (Click to View Info)\")\n",
    "plt.xlabel(\"PCA Dimension 1\")\n",
    "plt.ylabel(\"PCA Dimension 2\")\n",
    "plt.colorbar(scatter, label=\"Similarity\")\n",
    "plt.tight_layout()\n",
    "plt.show()"
   ]
  },
  {
   "cell_type": "markdown",
   "id": "d094ccfb",
   "metadata": {},
   "source": [
    "### 상대적 거리 좌표 생성 (유사도 → 거리 변환)\n",
    "기준 유저를 중심으로        \n",
    "유사도가 높을수록 가까운 거리,      \n",
    "       낮을수록 멀리 배치"
   ]
  },
  {
   "cell_type": "code",
   "execution_count": 29,
   "id": "3e45c553",
   "metadata": {},
   "outputs": [],
   "source": [
    "import numpy as np\n",
    "\n",
    "# 유사도 기반 거리 계산 (0~1 사이 → 가까울수록 유사함)\n",
    "top_similar_players[\"distance\"] = 1 - top_similar_players[\"similarity\"]\n",
    "\n",
    "# 간단한 원형 배치: 유사한 순서대로 각도를 나눠서 원 주변에 배치\n",
    "angles = np.linspace(0, 2 * np.pi, len(top_similar_players), endpoint=False)\n",
    "top_similar_players[\"x\"] = np.cos(angles) * top_similar_players[\"distance\"]\n",
    "top_similar_players[\"y\"] = np.sin(angles) * top_similar_players[\"distance\"]\n",
    "\n",
    "# 파생 지표 붙이기 (중복 제거 주의!)\n",
    "top_features = merged_df[[\"game_id\", \"participant_id\", \"KDA\", \"cs_per_min\", \"gold_per_min\"]].copy()\n",
    "top_similar_players = pd.merge(\n",
    "    top_similar_players,\n",
    "    top_features,\n",
    "    on=[\"game_id\", \"participant_id\"],\n",
    "    how=\"left\"\n",
    ")\n",
    "\n",
    "# 기준 유저 좌표 (항상 중심)\n",
    "target_user_df = pd.DataFrame({\n",
    "    \"puuid\": [target_puuid],\n",
    "    \"x\": [0.0],\n",
    "    \"y\": [0.0],\n",
    "    \"KDA\": merged_df.loc[merged_df[\"puuid\"] == target_puuid, \"KDA\"].values[0],\n",
    "    \"cs_per_min\": merged_df.loc[merged_df[\"puuid\"] == target_puuid, \"cs_per_min\"].values[0],\n",
    "    \"gold_per_min\": merged_df.loc[merged_df[\"puuid\"] == target_puuid, \"gold_per_min\"].values[0],\n",
    "    \"label\": [\"Target\"]\n",
    "})\n",
    "\n",
    "# 상위 유저 + 타겟 유저 병합\n",
    "top_similar_players[\"label\"] = \"Top\"\n",
    "plot_df = pd.concat([top_similar_players, target_user_df], ignore_index=True)\n"
   ]
  },
  {
   "cell_type": "code",
   "execution_count": 30,
   "id": "bfefcc4c",
   "metadata": {},
   "outputs": [],
   "source": [
    "# import plotly.express as px\n",
    "\n",
    "# # Plotly용 데이터 준비\n",
    "# fig = px.scatter(\n",
    "#     plot_df,\n",
    "#     x=\"x\", y=\"y\",\n",
    "#     color=\"similarity\",\n",
    "#     hover_data=[\"puuid\", \"KDA\", \"cs_per_min\", \"gold_per_min\", \"similarity\"],\n",
    "#     text=\"label\",\n",
    "#     color_continuous_scale=\"Viridis\",\n",
    "#     title=\"Similarity-based Positioning (Target User = Center)\"\n",
    "# )\n",
    "\n",
    "# # 기준 유저 강조 (색 없음, hover로만 표시됨)\n",
    "# fig.update_traces(marker=dict(size=14, line=dict(width=1, color='DarkSlateGrey')))\n",
    "\n",
    "# fig.show()\n"
   ]
  },
  {
   "cell_type": "markdown",
   "id": "cddecb73",
   "metadata": {},
   "source": [
    "### Plotly로 시각화\n",
    "- 기준 유저와 유사한 Top 유저들을 2D 공간에 배치하고    \n",
    "   유사도, KDA, CS/분 등의 정보를 마우스만으로 직관적으로 파악\n",
    "- 색상, 크기, 마커, 텍스트 등 시각 정보를 다차원적으로 표현\n",
    "\n"
   ]
  },
  {
   "cell_type": "code",
   "execution_count": 31,
   "id": "ea00d74c",
   "metadata": {},
   "outputs": [
    {
     "data": {
      "application/vnd.plotly.v1+json": {
       "config": {
        "plotlyServerURL": "https://plot.ly"
       },
       "data": [
        {
         "customdata": [
          [
           "N8s2Toz0lAW-qfSH3A0NufmmkZeVXQoqKYMDedmESurz6nYyw9a3mZJrv86FWwJhfrJvzm86fh6nqQ",
           3.3333333333333335,
           8.574889365937901,
           517.6115035438878,
           0.9606584593900177
          ],
          [
           "JkAtetPeV8eLH-GNF14_7Z96cIMbONg0x-7yil5ZrhqURu1J2aBCvTE4mgKK54Top4cV2_ZyomqDtA",
           5.166666666666667,
           8.571203190496952,
           519.0993800398497,
           0.9249429559292812
          ],
          [
           "_v3N7CJjg-9RvLsJjD-ciWb4ZtXdigRT2miD8SYenA7wnKNRaDu_8xnSAVAuM9SY0llbH5twTXb76Q",
           3.6666666666666665,
           6.632732535060524,
           471.2556466160502,
           0.9170976362145455
          ],
          [
           "0S7Qb-aNl4ZarGy2KldZFAAN4qum5qqCeGLJDv4vUn-d2VKjpeLmXgJMGSW8uzUWwxi38XE1rpw4dg",
           10,
           6.6060168558050005,
           591.4925861659246,
           0.9129668771647411
          ],
          [
           "znTmuVKGw2_g_dApzVG2sId1sO0scMTJeeXryiMC-uNysp_6Ns5tyDd7l-JtypWk1NRIMOAmE6sHKw",
           1.6,
           8.204456936827434,
           472.2120770307346,
           0.9007808618406882
          ],
          [
           "EVMY5lU8NxM93WsfJe1FH5irgp_daSX36OzDqSLmhoycEuynfYSCGtOHwsajrnAitJgUjNsCoGcCQw",
           3.4,
           8.544044729325378,
           474.74859416502517,
           0.9001374317462426
          ],
          [
           "BMLYrja7g84tXOAYN6an9UVxswRCySLhffkA_x8VKlFi-sx5fQXjSYPTsam2OaaXA984lzrj8IySTA",
           3.75,
           7.966531616053456,
           496.6774416244563,
           0.8985207443499628
          ],
          [
           "mkuS-q15u1Xgel-8i20FgzR0qO16_5dV3IdJOiu6rGtQIm6l0Of_YfL2QTsHrBY3mqOw2AwMpku6NA",
           4.4,
           8.686749959513335,
           496.3464719949596,
           0.8922449539270413
          ],
          [
           "7UDpSRt0mNr-aRORdAY9-LXLEexD2goynSIcH63l2jRdYgMp2dtNJYa7uONaudzREUYs8X0D0FodYQ",
           7.25,
           7.296867169759098,
           525.7518603866081,
           0.8918599669468047
          ],
          [
           "Tjx_NecuU07AaxNwLyhT7sOX6kYjLTtSnwteY6g_jrpeya-jSiK9xQEl3BnboE4UCMdGJtU_4gJSpw",
           3.1666666666666665,
           9.751681856522724,
           525.9736251980167,
           0.8908036639394334
          ],
          [
           "1nry226Ys8jmA4IrYNRAqBOLA09dO_oisz6Din8AyUOowu80Mp3ggYKg3moP6BbiDD8d8fw9t-3IVw",
           5.5,
           7.941692605259449,
           476.95699388432735,
           null
          ]
         ],
         "hovertemplate": "x=%{x}<br>y=%{y}<br>label=%{text}<br>puuid=%{customdata[0]}<br>KDA=%{customdata[1]}<br>cs_per_min=%{customdata[2]}<br>gold_per_min=%{customdata[3]}<br>similarity=%{marker.color}<extra></extra>",
         "legendgroup": "",
         "marker": {
          "color": [
           0.9606584593900177,
           0.9249429559292812,
           0.9170976362145455,
           0.9129668771647411,
           0.9007808618406882,
           0.9001374317462426,
           0.8985207443499628,
           0.8922449539270413,
           0.8918599669468047,
           0.8908036639394334,
           null
          ],
          "coloraxis": "coloraxis",
          "line": {
           "color": "DarkSlateGrey",
           "width": 1
          },
          "size": 14,
          "symbol": "circle"
         },
         "mode": "markers+text",
         "name": "",
         "orientation": "v",
         "showlegend": false,
         "text": [
          "Top",
          "Top",
          "Top",
          "Top",
          "Top",
          "Top",
          "Top",
          "Top",
          "Top",
          "Top",
          "Target"
         ],
         "type": "scatter",
         "x": [
          0.039341540609982295,
          0.06072242420076088,
          0.025618239283559628,
          -0.026894714029617295,
          -0.0802699689381191,
          -0.09986256825375739,
          -0.08209844239740002,
          -0.0332981404661997,
          0.03341710798570586,
          0.08834169159647623,
          0
         ],
         "xaxis": "x",
         "y": [
          0,
          0.04411742358543471,
          0.07884483329442782,
          0.0827734186059895,
          0.05831954615521286,
          1.2229637456659807e-17,
          -0.05964800988470951,
          -0.10248113873137188,
          -0.10284728310761469,
          -0.06418399594077381,
          0
         ],
         "yaxis": "y"
        },
        {
         "customdata": [
          [
           5.5,
           7.941692605259449,
           476.95699388432735
          ]
         ],
         "hovertemplate": "x=%{x}<br>y=%{y}<br>text=%{text}<br>KDA=%{customdata[0]}<br>cs_per_min=%{customdata[1]}<br>gold_per_min=%{customdata[2]}<extra></extra>",
         "legendgroup": "",
         "marker": {
          "color": "red",
          "size": 16,
          "symbol": "star"
         },
         "mode": "markers+text",
         "name": "",
         "orientation": "v",
         "showlegend": false,
         "text": [
          "You"
         ],
         "type": "scatter",
         "x": [
          0
         ],
         "xaxis": "x",
         "y": [
          0
         ],
         "yaxis": "y"
        }
       ],
       "layout": {
        "coloraxis": {
         "colorbar": {
          "title": {
           "text": "similarity"
          }
         },
         "colorscale": [
          [
           0,
           "#440154"
          ],
          [
           0.1111111111111111,
           "#482878"
          ],
          [
           0.2222222222222222,
           "#3e4989"
          ],
          [
           0.3333333333333333,
           "#31688e"
          ],
          [
           0.4444444444444444,
           "#26828e"
          ],
          [
           0.5555555555555556,
           "#1f9e89"
          ],
          [
           0.6666666666666666,
           "#35b779"
          ],
          [
           0.7777777777777778,
           "#6ece58"
          ],
          [
           0.8888888888888888,
           "#b5de2b"
          ],
          [
           1,
           "#fde725"
          ]
         ]
        },
        "legend": {
         "tracegroupgap": 0
        },
        "template": {
         "data": {
          "bar": [
           {
            "error_x": {
             "color": "#2a3f5f"
            },
            "error_y": {
             "color": "#2a3f5f"
            },
            "marker": {
             "line": {
              "color": "#E5ECF6",
              "width": 0.5
             },
             "pattern": {
              "fillmode": "overlay",
              "size": 10,
              "solidity": 0.2
             }
            },
            "type": "bar"
           }
          ],
          "barpolar": [
           {
            "marker": {
             "line": {
              "color": "#E5ECF6",
              "width": 0.5
             },
             "pattern": {
              "fillmode": "overlay",
              "size": 10,
              "solidity": 0.2
             }
            },
            "type": "barpolar"
           }
          ],
          "carpet": [
           {
            "aaxis": {
             "endlinecolor": "#2a3f5f",
             "gridcolor": "white",
             "linecolor": "white",
             "minorgridcolor": "white",
             "startlinecolor": "#2a3f5f"
            },
            "baxis": {
             "endlinecolor": "#2a3f5f",
             "gridcolor": "white",
             "linecolor": "white",
             "minorgridcolor": "white",
             "startlinecolor": "#2a3f5f"
            },
            "type": "carpet"
           }
          ],
          "choropleth": [
           {
            "colorbar": {
             "outlinewidth": 0,
             "ticks": ""
            },
            "type": "choropleth"
           }
          ],
          "contour": [
           {
            "colorbar": {
             "outlinewidth": 0,
             "ticks": ""
            },
            "colorscale": [
             [
              0,
              "#0d0887"
             ],
             [
              0.1111111111111111,
              "#46039f"
             ],
             [
              0.2222222222222222,
              "#7201a8"
             ],
             [
              0.3333333333333333,
              "#9c179e"
             ],
             [
              0.4444444444444444,
              "#bd3786"
             ],
             [
              0.5555555555555556,
              "#d8576b"
             ],
             [
              0.6666666666666666,
              "#ed7953"
             ],
             [
              0.7777777777777778,
              "#fb9f3a"
             ],
             [
              0.8888888888888888,
              "#fdca26"
             ],
             [
              1,
              "#f0f921"
             ]
            ],
            "type": "contour"
           }
          ],
          "contourcarpet": [
           {
            "colorbar": {
             "outlinewidth": 0,
             "ticks": ""
            },
            "type": "contourcarpet"
           }
          ],
          "heatmap": [
           {
            "colorbar": {
             "outlinewidth": 0,
             "ticks": ""
            },
            "colorscale": [
             [
              0,
              "#0d0887"
             ],
             [
              0.1111111111111111,
              "#46039f"
             ],
             [
              0.2222222222222222,
              "#7201a8"
             ],
             [
              0.3333333333333333,
              "#9c179e"
             ],
             [
              0.4444444444444444,
              "#bd3786"
             ],
             [
              0.5555555555555556,
              "#d8576b"
             ],
             [
              0.6666666666666666,
              "#ed7953"
             ],
             [
              0.7777777777777778,
              "#fb9f3a"
             ],
             [
              0.8888888888888888,
              "#fdca26"
             ],
             [
              1,
              "#f0f921"
             ]
            ],
            "type": "heatmap"
           }
          ],
          "heatmapgl": [
           {
            "colorbar": {
             "outlinewidth": 0,
             "ticks": ""
            },
            "colorscale": [
             [
              0,
              "#0d0887"
             ],
             [
              0.1111111111111111,
              "#46039f"
             ],
             [
              0.2222222222222222,
              "#7201a8"
             ],
             [
              0.3333333333333333,
              "#9c179e"
             ],
             [
              0.4444444444444444,
              "#bd3786"
             ],
             [
              0.5555555555555556,
              "#d8576b"
             ],
             [
              0.6666666666666666,
              "#ed7953"
             ],
             [
              0.7777777777777778,
              "#fb9f3a"
             ],
             [
              0.8888888888888888,
              "#fdca26"
             ],
             [
              1,
              "#f0f921"
             ]
            ],
            "type": "heatmapgl"
           }
          ],
          "histogram": [
           {
            "marker": {
             "pattern": {
              "fillmode": "overlay",
              "size": 10,
              "solidity": 0.2
             }
            },
            "type": "histogram"
           }
          ],
          "histogram2d": [
           {
            "colorbar": {
             "outlinewidth": 0,
             "ticks": ""
            },
            "colorscale": [
             [
              0,
              "#0d0887"
             ],
             [
              0.1111111111111111,
              "#46039f"
             ],
             [
              0.2222222222222222,
              "#7201a8"
             ],
             [
              0.3333333333333333,
              "#9c179e"
             ],
             [
              0.4444444444444444,
              "#bd3786"
             ],
             [
              0.5555555555555556,
              "#d8576b"
             ],
             [
              0.6666666666666666,
              "#ed7953"
             ],
             [
              0.7777777777777778,
              "#fb9f3a"
             ],
             [
              0.8888888888888888,
              "#fdca26"
             ],
             [
              1,
              "#f0f921"
             ]
            ],
            "type": "histogram2d"
           }
          ],
          "histogram2dcontour": [
           {
            "colorbar": {
             "outlinewidth": 0,
             "ticks": ""
            },
            "colorscale": [
             [
              0,
              "#0d0887"
             ],
             [
              0.1111111111111111,
              "#46039f"
             ],
             [
              0.2222222222222222,
              "#7201a8"
             ],
             [
              0.3333333333333333,
              "#9c179e"
             ],
             [
              0.4444444444444444,
              "#bd3786"
             ],
             [
              0.5555555555555556,
              "#d8576b"
             ],
             [
              0.6666666666666666,
              "#ed7953"
             ],
             [
              0.7777777777777778,
              "#fb9f3a"
             ],
             [
              0.8888888888888888,
              "#fdca26"
             ],
             [
              1,
              "#f0f921"
             ]
            ],
            "type": "histogram2dcontour"
           }
          ],
          "mesh3d": [
           {
            "colorbar": {
             "outlinewidth": 0,
             "ticks": ""
            },
            "type": "mesh3d"
           }
          ],
          "parcoords": [
           {
            "line": {
             "colorbar": {
              "outlinewidth": 0,
              "ticks": ""
             }
            },
            "type": "parcoords"
           }
          ],
          "pie": [
           {
            "automargin": true,
            "type": "pie"
           }
          ],
          "scatter": [
           {
            "fillpattern": {
             "fillmode": "overlay",
             "size": 10,
             "solidity": 0.2
            },
            "type": "scatter"
           }
          ],
          "scatter3d": [
           {
            "line": {
             "colorbar": {
              "outlinewidth": 0,
              "ticks": ""
             }
            },
            "marker": {
             "colorbar": {
              "outlinewidth": 0,
              "ticks": ""
             }
            },
            "type": "scatter3d"
           }
          ],
          "scattercarpet": [
           {
            "marker": {
             "colorbar": {
              "outlinewidth": 0,
              "ticks": ""
             }
            },
            "type": "scattercarpet"
           }
          ],
          "scattergeo": [
           {
            "marker": {
             "colorbar": {
              "outlinewidth": 0,
              "ticks": ""
             }
            },
            "type": "scattergeo"
           }
          ],
          "scattergl": [
           {
            "marker": {
             "colorbar": {
              "outlinewidth": 0,
              "ticks": ""
             }
            },
            "type": "scattergl"
           }
          ],
          "scattermapbox": [
           {
            "marker": {
             "colorbar": {
              "outlinewidth": 0,
              "ticks": ""
             }
            },
            "type": "scattermapbox"
           }
          ],
          "scatterpolar": [
           {
            "marker": {
             "colorbar": {
              "outlinewidth": 0,
              "ticks": ""
             }
            },
            "type": "scatterpolar"
           }
          ],
          "scatterpolargl": [
           {
            "marker": {
             "colorbar": {
              "outlinewidth": 0,
              "ticks": ""
             }
            },
            "type": "scatterpolargl"
           }
          ],
          "scatterternary": [
           {
            "marker": {
             "colorbar": {
              "outlinewidth": 0,
              "ticks": ""
             }
            },
            "type": "scatterternary"
           }
          ],
          "surface": [
           {
            "colorbar": {
             "outlinewidth": 0,
             "ticks": ""
            },
            "colorscale": [
             [
              0,
              "#0d0887"
             ],
             [
              0.1111111111111111,
              "#46039f"
             ],
             [
              0.2222222222222222,
              "#7201a8"
             ],
             [
              0.3333333333333333,
              "#9c179e"
             ],
             [
              0.4444444444444444,
              "#bd3786"
             ],
             [
              0.5555555555555556,
              "#d8576b"
             ],
             [
              0.6666666666666666,
              "#ed7953"
             ],
             [
              0.7777777777777778,
              "#fb9f3a"
             ],
             [
              0.8888888888888888,
              "#fdca26"
             ],
             [
              1,
              "#f0f921"
             ]
            ],
            "type": "surface"
           }
          ],
          "table": [
           {
            "cells": {
             "fill": {
              "color": "#EBF0F8"
             },
             "line": {
              "color": "white"
             }
            },
            "header": {
             "fill": {
              "color": "#C8D4E3"
             },
             "line": {
              "color": "white"
             }
            },
            "type": "table"
           }
          ]
         },
         "layout": {
          "annotationdefaults": {
           "arrowcolor": "#2a3f5f",
           "arrowhead": 0,
           "arrowwidth": 1
          },
          "autotypenumbers": "strict",
          "coloraxis": {
           "colorbar": {
            "outlinewidth": 0,
            "ticks": ""
           }
          },
          "colorscale": {
           "diverging": [
            [
             0,
             "#8e0152"
            ],
            [
             0.1,
             "#c51b7d"
            ],
            [
             0.2,
             "#de77ae"
            ],
            [
             0.3,
             "#f1b6da"
            ],
            [
             0.4,
             "#fde0ef"
            ],
            [
             0.5,
             "#f7f7f7"
            ],
            [
             0.6,
             "#e6f5d0"
            ],
            [
             0.7,
             "#b8e186"
            ],
            [
             0.8,
             "#7fbc41"
            ],
            [
             0.9,
             "#4d9221"
            ],
            [
             1,
             "#276419"
            ]
           ],
           "sequential": [
            [
             0,
             "#0d0887"
            ],
            [
             0.1111111111111111,
             "#46039f"
            ],
            [
             0.2222222222222222,
             "#7201a8"
            ],
            [
             0.3333333333333333,
             "#9c179e"
            ],
            [
             0.4444444444444444,
             "#bd3786"
            ],
            [
             0.5555555555555556,
             "#d8576b"
            ],
            [
             0.6666666666666666,
             "#ed7953"
            ],
            [
             0.7777777777777778,
             "#fb9f3a"
            ],
            [
             0.8888888888888888,
             "#fdca26"
            ],
            [
             1,
             "#f0f921"
            ]
           ],
           "sequentialminus": [
            [
             0,
             "#0d0887"
            ],
            [
             0.1111111111111111,
             "#46039f"
            ],
            [
             0.2222222222222222,
             "#7201a8"
            ],
            [
             0.3333333333333333,
             "#9c179e"
            ],
            [
             0.4444444444444444,
             "#bd3786"
            ],
            [
             0.5555555555555556,
             "#d8576b"
            ],
            [
             0.6666666666666666,
             "#ed7953"
            ],
            [
             0.7777777777777778,
             "#fb9f3a"
            ],
            [
             0.8888888888888888,
             "#fdca26"
            ],
            [
             1,
             "#f0f921"
            ]
           ]
          },
          "colorway": [
           "#636efa",
           "#EF553B",
           "#00cc96",
           "#ab63fa",
           "#FFA15A",
           "#19d3f3",
           "#FF6692",
           "#B6E880",
           "#FF97FF",
           "#FECB52"
          ],
          "font": {
           "color": "#2a3f5f"
          },
          "geo": {
           "bgcolor": "white",
           "lakecolor": "white",
           "landcolor": "#E5ECF6",
           "showlakes": true,
           "showland": true,
           "subunitcolor": "white"
          },
          "hoverlabel": {
           "align": "left"
          },
          "hovermode": "closest",
          "mapbox": {
           "style": "light"
          },
          "paper_bgcolor": "white",
          "plot_bgcolor": "#E5ECF6",
          "polar": {
           "angularaxis": {
            "gridcolor": "white",
            "linecolor": "white",
            "ticks": ""
           },
           "bgcolor": "#E5ECF6",
           "radialaxis": {
            "gridcolor": "white",
            "linecolor": "white",
            "ticks": ""
           }
          },
          "scene": {
           "xaxis": {
            "backgroundcolor": "#E5ECF6",
            "gridcolor": "white",
            "gridwidth": 2,
            "linecolor": "white",
            "showbackground": true,
            "ticks": "",
            "zerolinecolor": "white"
           },
           "yaxis": {
            "backgroundcolor": "#E5ECF6",
            "gridcolor": "white",
            "gridwidth": 2,
            "linecolor": "white",
            "showbackground": true,
            "ticks": "",
            "zerolinecolor": "white"
           },
           "zaxis": {
            "backgroundcolor": "#E5ECF6",
            "gridcolor": "white",
            "gridwidth": 2,
            "linecolor": "white",
            "showbackground": true,
            "ticks": "",
            "zerolinecolor": "white"
           }
          },
          "shapedefaults": {
           "line": {
            "color": "#2a3f5f"
           }
          },
          "ternary": {
           "aaxis": {
            "gridcolor": "white",
            "linecolor": "white",
            "ticks": ""
           },
           "baxis": {
            "gridcolor": "white",
            "linecolor": "white",
            "ticks": ""
           },
           "bgcolor": "#E5ECF6",
           "caxis": {
            "gridcolor": "white",
            "linecolor": "white",
            "ticks": ""
           }
          },
          "title": {
           "x": 0.05
          },
          "xaxis": {
           "automargin": true,
           "gridcolor": "white",
           "linecolor": "white",
           "ticks": "",
           "title": {
            "standoff": 15
           },
           "zerolinecolor": "white",
           "zerolinewidth": 2
          },
          "yaxis": {
           "automargin": true,
           "gridcolor": "white",
           "linecolor": "white",
           "ticks": "",
           "title": {
            "standoff": 15
           },
           "zerolinecolor": "white",
           "zerolinewidth": 2
          }
         }
        },
        "title": {
         "text": "Similarity-based Positioning (Target User = Center)"
        },
        "xaxis": {
         "anchor": "y",
         "domain": [
          0,
          1
         ],
         "title": {
          "text": "x"
         }
        },
        "yaxis": {
         "anchor": "x",
         "domain": [
          0,
          1
         ],
         "title": {
          "text": "y"
         }
        }
       }
      }
     },
     "metadata": {},
     "output_type": "display_data"
    }
   ],
   "source": [
    "# 기준 유저 따로 빨간 점으로 표시\n",
    "import plotly.express as px\n",
    "import plotly.graph_objects as go\n",
    "import plotly.express as px\n",
    "\n",
    "# Plotly용 데이터 준비\n",
    "fig = px.scatter(\n",
    "    plot_df,\n",
    "    x=\"x\", y=\"y\",\n",
    "    color=\"similarity\",\n",
    "    # 마우스를 올리면 나오는 정보\n",
    "    hover_data=[\"puuid\", \"KDA\", \"cs_per_min\", \"gold_per_min\", \"similarity\"],\n",
    "    text=\"label\",\n",
    "    color_continuous_scale=\"Viridis\",\n",
    "    title=\"Similarity-based Positioning (Target User = Center)\"\n",
    ")\n",
    "\n",
    "# 기준 유저 강조 (색 없음, hover로만 표시됨)\n",
    "fig.update_traces(marker=dict(size=14, line=dict(width=1, color='DarkSlateGrey')))\n",
    "\n",
    "\n",
    "target_trace = px.scatter(\n",
    "    target_user_df,\n",
    "    x=\"x\", y=\"y\",\n",
    "    hover_data=[\"KDA\", \"cs_per_min\", \"gold_per_min\"],\n",
    "    text=[\"You\"],\n",
    ")\n",
    "\n",
    "target_trace.update_traces(marker=dict(size=16, color='red', symbol='star'))\n",
    "fig.add_trace(target_trace.data[0])\n"
   ]
  },
  {
   "cell_type": "markdown",
   "id": "17333422",
   "metadata": {},
   "source": [
    "### 일반 유저 + 상위 유저 지표 비교 막대그래프 같이 그리기\n",
    "- 기준 유저(일반 유저)의 최근 10게임의 KDA 변화를 시각화\n",
    "\n",
    "- 상위 1000명 유저들의 평균 KDA 선과 비교\n",
    "\n",
    "- 사용자에게 실력의 흐름 + 상대적 수준을 한눈에 보여주는 것"
   ]
  },
  {
   "cell_type": "code",
   "execution_count": null,
   "id": "8ade1bd8",
   "metadata": {},
   "outputs": [
    {
     "data": {
      "application/vnd.plotly.v1+json": {
       "config": {
        "plotlyServerURL": "https://plot.ly"
       },
       "data": [
        {
         "marker": {
          "color": "royalblue"
         },
         "name": "Target User KDA",
         "type": "bar",
         "x": [
          "Game 1",
          "Game 2",
          "Game 3",
          "Game 4",
          "Game 5",
          "Game 6",
          "Game 7",
          "Game 8",
          "Game 9",
          "Game 10"
         ],
         "xaxis": "x",
         "y": [
          5,
          5.5,
          0.7272727272727273,
          5,
          0.5,
          1,
          5.75,
          2.1666666666666665,
          4,
          3.6666666666666665
         ],
         "yaxis": "y"
        },
        {
         "line": {
          "color": "red",
          "dash": "dash"
         },
         "name": "Top Players Avg KDA",
         "type": "scatter",
         "x": [
          "Game 1",
          "Game 2",
          "Game 3",
          "Game 4",
          "Game 5",
          "Game 6",
          "Game 7",
          "Game 8",
          "Game 9",
          "Game 10"
         ],
         "xaxis": "x",
         "y": [
          5.4767703734106625,
          5.4767703734106625,
          5.4767703734106625,
          5.4767703734106625,
          5.4767703734106625,
          5.4767703734106625,
          5.4767703734106625,
          5.4767703734106625,
          5.4767703734106625,
          5.4767703734106625
         ],
         "yaxis": "y"
        },
        {
         "marker": {
          "color": "seagreen"
         },
         "name": "Target User CS/Min",
         "type": "bar",
         "x": [
          "Game 1",
          "Game 2",
          "Game 3",
          "Game 4",
          "Game 5",
          "Game 6",
          "Game 7",
          "Game 8",
          "Game 9",
          "Game 10"
         ],
         "xaxis": "x2",
         "y": [
          7.913284470267152,
          7.941692605259449,
          5.475141816568888,
          8.652097555070334,
          8.60663411621584,
          6.7140521099119885,
          7.455820590185128,
          6.499328084170122,
          8.11942452915298,
          7.2244509417284295
         ],
         "yaxis": "y2"
        },
        {
         "line": {
          "color": "orange",
          "dash": "dash"
         },
         "name": "Top Players Avg CS/Min",
         "type": "scatter",
         "x": [
          "Game 1",
          "Game 2",
          "Game 3",
          "Game 4",
          "Game 5",
          "Game 6",
          "Game 7",
          "Game 8",
          "Game 9",
          "Game 10"
         ],
         "xaxis": "x2",
         "y": [
          6.032137624256394,
          6.032137624256394,
          6.032137624256394,
          6.032137624256394,
          6.032137624256394,
          6.032137624256394,
          6.032137624256394,
          6.032137624256394,
          6.032137624256394,
          6.032137624256394
         ],
         "yaxis": "y2"
        }
       ],
       "layout": {
        "annotations": [
         {
          "font": {
           "size": 16
          },
          "showarrow": false,
          "text": "KDA vs Top Avg",
          "x": 0.225,
          "xanchor": "center",
          "xref": "paper",
          "y": 1,
          "yanchor": "bottom",
          "yref": "paper"
         },
         {
          "font": {
           "size": 16
          },
          "showarrow": false,
          "text": "CS per Min vs Top Avg",
          "x": 0.775,
          "xanchor": "center",
          "xref": "paper",
          "y": 1,
          "yanchor": "bottom",
          "yref": "paper"
         }
        ],
        "showlegend": true,
        "template": {
         "data": {
          "bar": [
           {
            "error_x": {
             "color": "#2a3f5f"
            },
            "error_y": {
             "color": "#2a3f5f"
            },
            "marker": {
             "line": {
              "color": "white",
              "width": 0.5
             },
             "pattern": {
              "fillmode": "overlay",
              "size": 10,
              "solidity": 0.2
             }
            },
            "type": "bar"
           }
          ],
          "barpolar": [
           {
            "marker": {
             "line": {
              "color": "white",
              "width": 0.5
             },
             "pattern": {
              "fillmode": "overlay",
              "size": 10,
              "solidity": 0.2
             }
            },
            "type": "barpolar"
           }
          ],
          "carpet": [
           {
            "aaxis": {
             "endlinecolor": "#2a3f5f",
             "gridcolor": "#C8D4E3",
             "linecolor": "#C8D4E3",
             "minorgridcolor": "#C8D4E3",
             "startlinecolor": "#2a3f5f"
            },
            "baxis": {
             "endlinecolor": "#2a3f5f",
             "gridcolor": "#C8D4E3",
             "linecolor": "#C8D4E3",
             "minorgridcolor": "#C8D4E3",
             "startlinecolor": "#2a3f5f"
            },
            "type": "carpet"
           }
          ],
          "choropleth": [
           {
            "colorbar": {
             "outlinewidth": 0,
             "ticks": ""
            },
            "type": "choropleth"
           }
          ],
          "contour": [
           {
            "colorbar": {
             "outlinewidth": 0,
             "ticks": ""
            },
            "colorscale": [
             [
              0,
              "#0d0887"
             ],
             [
              0.1111111111111111,
              "#46039f"
             ],
             [
              0.2222222222222222,
              "#7201a8"
             ],
             [
              0.3333333333333333,
              "#9c179e"
             ],
             [
              0.4444444444444444,
              "#bd3786"
             ],
             [
              0.5555555555555556,
              "#d8576b"
             ],
             [
              0.6666666666666666,
              "#ed7953"
             ],
             [
              0.7777777777777778,
              "#fb9f3a"
             ],
             [
              0.8888888888888888,
              "#fdca26"
             ],
             [
              1,
              "#f0f921"
             ]
            ],
            "type": "contour"
           }
          ],
          "contourcarpet": [
           {
            "colorbar": {
             "outlinewidth": 0,
             "ticks": ""
            },
            "type": "contourcarpet"
           }
          ],
          "heatmap": [
           {
            "colorbar": {
             "outlinewidth": 0,
             "ticks": ""
            },
            "colorscale": [
             [
              0,
              "#0d0887"
             ],
             [
              0.1111111111111111,
              "#46039f"
             ],
             [
              0.2222222222222222,
              "#7201a8"
             ],
             [
              0.3333333333333333,
              "#9c179e"
             ],
             [
              0.4444444444444444,
              "#bd3786"
             ],
             [
              0.5555555555555556,
              "#d8576b"
             ],
             [
              0.6666666666666666,
              "#ed7953"
             ],
             [
              0.7777777777777778,
              "#fb9f3a"
             ],
             [
              0.8888888888888888,
              "#fdca26"
             ],
             [
              1,
              "#f0f921"
             ]
            ],
            "type": "heatmap"
           }
          ],
          "heatmapgl": [
           {
            "colorbar": {
             "outlinewidth": 0,
             "ticks": ""
            },
            "colorscale": [
             [
              0,
              "#0d0887"
             ],
             [
              0.1111111111111111,
              "#46039f"
             ],
             [
              0.2222222222222222,
              "#7201a8"
             ],
             [
              0.3333333333333333,
              "#9c179e"
             ],
             [
              0.4444444444444444,
              "#bd3786"
             ],
             [
              0.5555555555555556,
              "#d8576b"
             ],
             [
              0.6666666666666666,
              "#ed7953"
             ],
             [
              0.7777777777777778,
              "#fb9f3a"
             ],
             [
              0.8888888888888888,
              "#fdca26"
             ],
             [
              1,
              "#f0f921"
             ]
            ],
            "type": "heatmapgl"
           }
          ],
          "histogram": [
           {
            "marker": {
             "pattern": {
              "fillmode": "overlay",
              "size": 10,
              "solidity": 0.2
             }
            },
            "type": "histogram"
           }
          ],
          "histogram2d": [
           {
            "colorbar": {
             "outlinewidth": 0,
             "ticks": ""
            },
            "colorscale": [
             [
              0,
              "#0d0887"
             ],
             [
              0.1111111111111111,
              "#46039f"
             ],
             [
              0.2222222222222222,
              "#7201a8"
             ],
             [
              0.3333333333333333,
              "#9c179e"
             ],
             [
              0.4444444444444444,
              "#bd3786"
             ],
             [
              0.5555555555555556,
              "#d8576b"
             ],
             [
              0.6666666666666666,
              "#ed7953"
             ],
             [
              0.7777777777777778,
              "#fb9f3a"
             ],
             [
              0.8888888888888888,
              "#fdca26"
             ],
             [
              1,
              "#f0f921"
             ]
            ],
            "type": "histogram2d"
           }
          ],
          "histogram2dcontour": [
           {
            "colorbar": {
             "outlinewidth": 0,
             "ticks": ""
            },
            "colorscale": [
             [
              0,
              "#0d0887"
             ],
             [
              0.1111111111111111,
              "#46039f"
             ],
             [
              0.2222222222222222,
              "#7201a8"
             ],
             [
              0.3333333333333333,
              "#9c179e"
             ],
             [
              0.4444444444444444,
              "#bd3786"
             ],
             [
              0.5555555555555556,
              "#d8576b"
             ],
             [
              0.6666666666666666,
              "#ed7953"
             ],
             [
              0.7777777777777778,
              "#fb9f3a"
             ],
             [
              0.8888888888888888,
              "#fdca26"
             ],
             [
              1,
              "#f0f921"
             ]
            ],
            "type": "histogram2dcontour"
           }
          ],
          "mesh3d": [
           {
            "colorbar": {
             "outlinewidth": 0,
             "ticks": ""
            },
            "type": "mesh3d"
           }
          ],
          "parcoords": [
           {
            "line": {
             "colorbar": {
              "outlinewidth": 0,
              "ticks": ""
             }
            },
            "type": "parcoords"
           }
          ],
          "pie": [
           {
            "automargin": true,
            "type": "pie"
           }
          ],
          "scatter": [
           {
            "fillpattern": {
             "fillmode": "overlay",
             "size": 10,
             "solidity": 0.2
            },
            "type": "scatter"
           }
          ],
          "scatter3d": [
           {
            "line": {
             "colorbar": {
              "outlinewidth": 0,
              "ticks": ""
             }
            },
            "marker": {
             "colorbar": {
              "outlinewidth": 0,
              "ticks": ""
             }
            },
            "type": "scatter3d"
           }
          ],
          "scattercarpet": [
           {
            "marker": {
             "colorbar": {
              "outlinewidth": 0,
              "ticks": ""
             }
            },
            "type": "scattercarpet"
           }
          ],
          "scattergeo": [
           {
            "marker": {
             "colorbar": {
              "outlinewidth": 0,
              "ticks": ""
             }
            },
            "type": "scattergeo"
           }
          ],
          "scattergl": [
           {
            "marker": {
             "colorbar": {
              "outlinewidth": 0,
              "ticks": ""
             }
            },
            "type": "scattergl"
           }
          ],
          "scattermapbox": [
           {
            "marker": {
             "colorbar": {
              "outlinewidth": 0,
              "ticks": ""
             }
            },
            "type": "scattermapbox"
           }
          ],
          "scatterpolar": [
           {
            "marker": {
             "colorbar": {
              "outlinewidth": 0,
              "ticks": ""
             }
            },
            "type": "scatterpolar"
           }
          ],
          "scatterpolargl": [
           {
            "marker": {
             "colorbar": {
              "outlinewidth": 0,
              "ticks": ""
             }
            },
            "type": "scatterpolargl"
           }
          ],
          "scatterternary": [
           {
            "marker": {
             "colorbar": {
              "outlinewidth": 0,
              "ticks": ""
             }
            },
            "type": "scatterternary"
           }
          ],
          "surface": [
           {
            "colorbar": {
             "outlinewidth": 0,
             "ticks": ""
            },
            "colorscale": [
             [
              0,
              "#0d0887"
             ],
             [
              0.1111111111111111,
              "#46039f"
             ],
             [
              0.2222222222222222,
              "#7201a8"
             ],
             [
              0.3333333333333333,
              "#9c179e"
             ],
             [
              0.4444444444444444,
              "#bd3786"
             ],
             [
              0.5555555555555556,
              "#d8576b"
             ],
             [
              0.6666666666666666,
              "#ed7953"
             ],
             [
              0.7777777777777778,
              "#fb9f3a"
             ],
             [
              0.8888888888888888,
              "#fdca26"
             ],
             [
              1,
              "#f0f921"
             ]
            ],
            "type": "surface"
           }
          ],
          "table": [
           {
            "cells": {
             "fill": {
              "color": "#EBF0F8"
             },
             "line": {
              "color": "white"
             }
            },
            "header": {
             "fill": {
              "color": "#C8D4E3"
             },
             "line": {
              "color": "white"
             }
            },
            "type": "table"
           }
          ]
         },
         "layout": {
          "annotationdefaults": {
           "arrowcolor": "#2a3f5f",
           "arrowhead": 0,
           "arrowwidth": 1
          },
          "autotypenumbers": "strict",
          "coloraxis": {
           "colorbar": {
            "outlinewidth": 0,
            "ticks": ""
           }
          },
          "colorscale": {
           "diverging": [
            [
             0,
             "#8e0152"
            ],
            [
             0.1,
             "#c51b7d"
            ],
            [
             0.2,
             "#de77ae"
            ],
            [
             0.3,
             "#f1b6da"
            ],
            [
             0.4,
             "#fde0ef"
            ],
            [
             0.5,
             "#f7f7f7"
            ],
            [
             0.6,
             "#e6f5d0"
            ],
            [
             0.7,
             "#b8e186"
            ],
            [
             0.8,
             "#7fbc41"
            ],
            [
             0.9,
             "#4d9221"
            ],
            [
             1,
             "#276419"
            ]
           ],
           "sequential": [
            [
             0,
             "#0d0887"
            ],
            [
             0.1111111111111111,
             "#46039f"
            ],
            [
             0.2222222222222222,
             "#7201a8"
            ],
            [
             0.3333333333333333,
             "#9c179e"
            ],
            [
             0.4444444444444444,
             "#bd3786"
            ],
            [
             0.5555555555555556,
             "#d8576b"
            ],
            [
             0.6666666666666666,
             "#ed7953"
            ],
            [
             0.7777777777777778,
             "#fb9f3a"
            ],
            [
             0.8888888888888888,
             "#fdca26"
            ],
            [
             1,
             "#f0f921"
            ]
           ],
           "sequentialminus": [
            [
             0,
             "#0d0887"
            ],
            [
             0.1111111111111111,
             "#46039f"
            ],
            [
             0.2222222222222222,
             "#7201a8"
            ],
            [
             0.3333333333333333,
             "#9c179e"
            ],
            [
             0.4444444444444444,
             "#bd3786"
            ],
            [
             0.5555555555555556,
             "#d8576b"
            ],
            [
             0.6666666666666666,
             "#ed7953"
            ],
            [
             0.7777777777777778,
             "#fb9f3a"
            ],
            [
             0.8888888888888888,
             "#fdca26"
            ],
            [
             1,
             "#f0f921"
            ]
           ]
          },
          "colorway": [
           "#636efa",
           "#EF553B",
           "#00cc96",
           "#ab63fa",
           "#FFA15A",
           "#19d3f3",
           "#FF6692",
           "#B6E880",
           "#FF97FF",
           "#FECB52"
          ],
          "font": {
           "color": "#2a3f5f"
          },
          "geo": {
           "bgcolor": "white",
           "lakecolor": "white",
           "landcolor": "white",
           "showlakes": true,
           "showland": true,
           "subunitcolor": "#C8D4E3"
          },
          "hoverlabel": {
           "align": "left"
          },
          "hovermode": "closest",
          "mapbox": {
           "style": "light"
          },
          "paper_bgcolor": "white",
          "plot_bgcolor": "white",
          "polar": {
           "angularaxis": {
            "gridcolor": "#EBF0F8",
            "linecolor": "#EBF0F8",
            "ticks": ""
           },
           "bgcolor": "white",
           "radialaxis": {
            "gridcolor": "#EBF0F8",
            "linecolor": "#EBF0F8",
            "ticks": ""
           }
          },
          "scene": {
           "xaxis": {
            "backgroundcolor": "white",
            "gridcolor": "#DFE8F3",
            "gridwidth": 2,
            "linecolor": "#EBF0F8",
            "showbackground": true,
            "ticks": "",
            "zerolinecolor": "#EBF0F8"
           },
           "yaxis": {
            "backgroundcolor": "white",
            "gridcolor": "#DFE8F3",
            "gridwidth": 2,
            "linecolor": "#EBF0F8",
            "showbackground": true,
            "ticks": "",
            "zerolinecolor": "#EBF0F8"
           },
           "zaxis": {
            "backgroundcolor": "white",
            "gridcolor": "#DFE8F3",
            "gridwidth": 2,
            "linecolor": "#EBF0F8",
            "showbackground": true,
            "ticks": "",
            "zerolinecolor": "#EBF0F8"
           }
          },
          "shapedefaults": {
           "line": {
            "color": "#2a3f5f"
           }
          },
          "ternary": {
           "aaxis": {
            "gridcolor": "#DFE8F3",
            "linecolor": "#A2B1C6",
            "ticks": ""
           },
           "baxis": {
            "gridcolor": "#DFE8F3",
            "linecolor": "#A2B1C6",
            "ticks": ""
           },
           "bgcolor": "white",
           "caxis": {
            "gridcolor": "#DFE8F3",
            "linecolor": "#A2B1C6",
            "ticks": ""
           }
          },
          "title": {
           "x": 0.05
          },
          "xaxis": {
           "automargin": true,
           "gridcolor": "#EBF0F8",
           "linecolor": "#EBF0F8",
           "ticks": "",
           "title": {
            "standoff": 15
           },
           "zerolinecolor": "#EBF0F8",
           "zerolinewidth": 2
          },
          "yaxis": {
           "automargin": true,
           "gridcolor": "#EBF0F8",
           "linecolor": "#EBF0F8",
           "ticks": "",
           "title": {
            "standoff": 15
           },
           "zerolinecolor": "#EBF0F8",
           "zerolinewidth": 2
          }
         }
        },
        "title": {
         "text": "Recent 10 Games Comparison: KDA vs CS per Min"
        },
        "xaxis": {
         "anchor": "y",
         "domain": [
          0,
          0.45
         ],
         "title": {
          "text": "Game"
         }
        },
        "xaxis2": {
         "anchor": "y2",
         "domain": [
          0.55,
          1
         ],
         "title": {
          "text": "Game"
         }
        },
        "yaxis": {
         "anchor": "x",
         "domain": [
          0,
          1
         ],
         "title": {
          "text": "KDA"
         }
        },
        "yaxis2": {
         "anchor": "x2",
         "domain": [
          0,
          1
         ],
         "title": {
          "text": "CS per Min"
         }
        }
       }
      }
     },
     "metadata": {},
     "output_type": "display_data"
    }
   ],
   "source": [
    "# import plotly.graph_objects as go\n",
    "# from plotly.subplots import make_subplots\n",
    "# import pandas as pd\n",
    "\n",
    "# # 1. 기준 유저 게임 가져오기\n",
    "# user_games = merged_df[(merged_df[\"puuid\"] == target_puuid)].copy()\n",
    "# user_games = user_games.sort_values(\"game_id\", ascending=False).head(10)\n",
    "\n",
    "# # 2. KDA 데이터 부족 시 채우기 (0으로)\n",
    "# kda_values = user_games[\"KDA\"].tolist()\n",
    "# kda_values += [0] * (10 - len(kda_values))  # 10게임 채우기\n",
    "\n",
    "# # 2-1 CS 데이터 부족 시 채우기\n",
    "# cs_values = user_games[\"cs_per_min\"].tolist()\n",
    "# cs_values += [0] * (10 - len(cs_values))\n",
    "\n",
    "\n",
    "# # 3. x축 레이블\n",
    "# x_labels = [f\"Game {i+1}\" for i in range(10)]\n",
    "\n",
    "# # 4. Top 평균 KDA\n",
    "# top_avg_kda = merged_df[merged_df[\"is_top1000\"] == True][\"KDA\"].mean()\n",
    "\n",
    "# # 4-1. Top 평균 CS\n",
    "# top_avg_cs = merged_df[merged_df[\"is_top1000\"] == True][\"cs_per_min\"].mean()\n",
    "\n",
    "\n",
    "# # # 5. 그래프 생성\n",
    "# # fig = go.Figure()\n",
    "\n",
    "# # # 유저 KDA 막대\n",
    "# # fig.add_trace(go.Bar(\n",
    "# #     x=x_labels,\n",
    "# #     y=kda_values,\n",
    "# #     name=\"Target User KDA\",\n",
    "# #     marker_color='royalblue'\n",
    "# # ))\n",
    "\n",
    "# # # Top 유저 평균 선\n",
    "# # fig.add_trace(go.Scatter(\n",
    "# #     x=x_labels,\n",
    "# #     y=[top_avg_kda] * 10,\n",
    "# #     name=\"Top Players Avg KDA\",\n",
    "# #     mode='lines',\n",
    "# #     line=dict(color='red', dash='dash')\n",
    "# # ))\n",
    "\n",
    "# # fig.update_layout(\n",
    "# #     title=\"Recent 10 Games KDA vs Top Player Avg KDA\",\n",
    "# #     xaxis_title=\"Game\",\n",
    "# #     yaxis_title=\"KDA\",\n",
    "# #     barmode='group',\n",
    "# #     template='plotly_white'\n",
    "# # )\n",
    "\n",
    "# # fig.show()\n",
    "\n",
    "# # 두 개의 서브플롯 생성 (1행 2열)\n",
    "# fig = make_subplots(\n",
    "#     rows=1, cols=2, subplot_titles=(\"KDA vs Top Avg\", \"CS per Min vs Top Avg\")\n",
    "# )\n",
    "\n",
    "# # Target 유저 데이터\n",
    "# fig.add_trace(\n",
    "#     go.Bar(x=x_labels, y=kda_values, name=\"Target User KDA\", marker_color=\"royalblue\"),\n",
    "#     row=1,\n",
    "#     col=1,\n",
    "# )\n",
    "# fig.add_trace(\n",
    "#     go.Scatter(\n",
    "#         x=x_labels,\n",
    "#         y=[top_avg_kda] * 10,\n",
    "#         name=\"Top Players Avg KDA\",\n",
    "#         line=dict(color=\"red\", dash=\"dash\"),\n",
    "#     ),\n",
    "#     row=1,\n",
    "#     col=1,\n",
    "# )\n",
    "\n",
    "# fig.add_trace(\n",
    "#     go.Bar(x=x_labels, y=cs_values, name=\"Target User CS/Min\", marker_color=\"seagreen\"),\n",
    "#     row=1,\n",
    "#     col=2,\n",
    "# )\n",
    "# fig.add_trace(\n",
    "#     go.Scatter(\n",
    "#         x=x_labels,\n",
    "#         y=[top_avg_cs] * 10,\n",
    "#         name=\"Top Players Avg CS/Min\",\n",
    "#         line=dict(color=\"orange\", dash=\"dash\"),\n",
    "#     ),\n",
    "#     row=1,\n",
    "#     col=2,\n",
    "# )\n",
    "\n",
    "# # 레이아웃 설정\n",
    "# fig.update_layout(\n",
    "#     title_text=\"Recent 10 Games Comparison: KDA vs CS per Min\",\n",
    "#     template=\"plotly_white\",\n",
    "#     showlegend=True,\n",
    "# )\n",
    "\n",
    "# # 축 레이블 개별 설정\n",
    "# fig.update_xaxes(title_text=\"Game\", row=1, col=1)\n",
    "# fig.update_yaxes(title_text=\"KDA\", row=1, col=1)\n",
    "\n",
    "# fig.update_xaxes(title_text=\"Game\", row=1, col=2)\n",
    "# fig.update_yaxes(title_text=\"CS per Min\", row=1, col=2)\n",
    "\n",
    "# fig.show()"
   ]
  },
  {
   "cell_type": "code",
   "execution_count": 34,
   "id": "87b6b7c8",
   "metadata": {},
   "outputs": [
    {
     "data": {
      "application/vnd.plotly.v1+json": {
       "config": {
        "plotlyServerURL": "https://plot.ly"
       },
       "data": [
        {
         "marker": {
          "color": "royalblue"
         },
         "name": "KDA",
         "type": "bar",
         "x": [
          "Game 1",
          "Game 2",
          "Game 3",
          "Game 4",
          "Game 5",
          "Game 6",
          "Game 7",
          "Game 8",
          "Game 9",
          "Game 10"
         ],
         "xaxis": "x",
         "y": [
          5,
          5.5,
          0.7272727272727273,
          5,
          0.5,
          1,
          5.75,
          2.1666666666666665,
          4,
          3.6666666666666665
         ],
         "yaxis": "y"
        },
        {
         "line": {
          "color": "red",
          "dash": "dash"
         },
         "name": "Top Avg KDA",
         "type": "scatter",
         "x": [
          "Game 1",
          "Game 2",
          "Game 3",
          "Game 4",
          "Game 5",
          "Game 6",
          "Game 7",
          "Game 8",
          "Game 9",
          "Game 10"
         ],
         "xaxis": "x",
         "y": [
          5.4767703734106625,
          5.4767703734106625,
          5.4767703734106625,
          5.4767703734106625,
          5.4767703734106625,
          5.4767703734106625,
          5.4767703734106625,
          5.4767703734106625,
          5.4767703734106625,
          5.4767703734106625
         ],
         "yaxis": "y"
        },
        {
         "marker": {
          "color": "seagreen"
         },
         "name": "CS/Min",
         "type": "bar",
         "x": [
          "Game 1",
          "Game 2",
          "Game 3",
          "Game 4",
          "Game 5",
          "Game 6",
          "Game 7",
          "Game 8",
          "Game 9",
          "Game 10"
         ],
         "xaxis": "x2",
         "y": [
          7.913284470267152,
          7.941692605259449,
          5.475141816568888,
          8.652097555070334,
          8.60663411621584,
          6.7140521099119885,
          7.455820590185128,
          6.499328084170122,
          8.11942452915298,
          7.2244509417284295
         ],
         "yaxis": "y2"
        },
        {
         "line": {
          "color": "orange",
          "dash": "dash"
         },
         "name": "Top Avg CS",
         "type": "scatter",
         "x": [
          "Game 1",
          "Game 2",
          "Game 3",
          "Game 4",
          "Game 5",
          "Game 6",
          "Game 7",
          "Game 8",
          "Game 9",
          "Game 10"
         ],
         "xaxis": "x2",
         "y": [
          6.032137624256394,
          6.032137624256394,
          6.032137624256394,
          6.032137624256394,
          6.032137624256394,
          6.032137624256394,
          6.032137624256394,
          6.032137624256394,
          6.032137624256394,
          6.032137624256394
         ],
         "yaxis": "y2"
        },
        {
         "marker": {
          "color": "goldenrod"
         },
         "name": "Gold/Min",
         "type": "bar",
         "x": [
          "Game 1",
          "Game 2",
          "Game 3",
          "Game 4",
          "Game 5",
          "Game 6",
          "Game 7",
          "Game 8",
          "Game 9",
          "Game 10"
         ],
         "xaxis": "x3",
         "y": [
          436.70779229914325,
          476.95699388432735,
          355.22581494713717,
          444.1410078269438,
          340.58619281269404,
          310.7466004832851,
          447.2390508703661,
          431.97592954728356,
          362.879901505543,
          359.01271503365746
         ],
         "yaxis": "y3"
        },
        {
         "line": {
          "color": "darkblue",
          "dash": "dash"
         },
         "name": "Top Avg Gold",
         "type": "scatter",
         "x": [
          "Game 1",
          "Game 2",
          "Game 3",
          "Game 4",
          "Game 5",
          "Game 6",
          "Game 7",
          "Game 8",
          "Game 9",
          "Game 10"
         ],
         "xaxis": "x3",
         "y": [
          398.2689843436052,
          398.2689843436052,
          398.2689843436052,
          398.2689843436052,
          398.2689843436052,
          398.2689843436052,
          398.2689843436052,
          398.2689843436052,
          398.2689843436052,
          398.2689843436052
         ],
         "yaxis": "y3"
        },
        {
         "marker": {
          "color": "indianred"
         },
         "name": "Damage/Min",
         "type": "bar",
         "x": [
          "Game 1",
          "Game 2",
          "Game 3",
          "Game 4",
          "Game 5",
          "Game 6",
          "Game 7",
          "Game 8",
          "Game 9",
          "Game 10"
         ],
         "xaxis": "x4",
         "y": [
          902.9936834404851,
          1493.0951394848717,
          534.8659110046885,
          443.126255644559,
          572.3083189798182,
          529.9033957690915,
          741.8357846332967,
          528.6247612930605,
          433.72586063246604,
          902.3764193921263
         ],
         "yaxis": "y4"
        },
        {
         "line": {
          "color": "black",
          "dash": "dash"
         },
         "name": "Top Avg Damage",
         "type": "scatter",
         "x": [
          "Game 1",
          "Game 2",
          "Game 3",
          "Game 4",
          "Game 5",
          "Game 6",
          "Game 7",
          "Game 8",
          "Game 9",
          "Game 10"
         ],
         "xaxis": "x4",
         "y": [
          659.2192216246698,
          659.2192216246698,
          659.2192216246698,
          659.2192216246698,
          659.2192216246698,
          659.2192216246698,
          659.2192216246698,
          659.2192216246698,
          659.2192216246698,
          659.2192216246698
         ],
         "yaxis": "y4"
        }
       ],
       "layout": {
        "annotations": [
         {
          "font": {
           "size": 16
          },
          "showarrow": false,
          "text": "KDA vs Top Avg",
          "x": 0.225,
          "xanchor": "center",
          "xref": "paper",
          "y": 1,
          "yanchor": "bottom",
          "yref": "paper"
         },
         {
          "font": {
           "size": 16
          },
          "showarrow": false,
          "text": "CS per Min vs Top Avg",
          "x": 0.775,
          "xanchor": "center",
          "xref": "paper",
          "y": 1,
          "yanchor": "bottom",
          "yref": "paper"
         },
         {
          "font": {
           "size": 16
          },
          "showarrow": false,
          "text": "Gold per Min vs Top Avg",
          "x": 0.225,
          "xanchor": "center",
          "xref": "paper",
          "y": 0.375,
          "yanchor": "bottom",
          "yref": "paper"
         },
         {
          "font": {
           "size": 16
          },
          "showarrow": false,
          "text": "Damage per Min vs Top Avg",
          "x": 0.775,
          "xanchor": "center",
          "xref": "paper",
          "y": 0.375,
          "yanchor": "bottom",
          "yref": "paper"
         }
        ],
        "height": 800,
        "showlegend": false,
        "template": {
         "data": {
          "bar": [
           {
            "error_x": {
             "color": "#2a3f5f"
            },
            "error_y": {
             "color": "#2a3f5f"
            },
            "marker": {
             "line": {
              "color": "white",
              "width": 0.5
             },
             "pattern": {
              "fillmode": "overlay",
              "size": 10,
              "solidity": 0.2
             }
            },
            "type": "bar"
           }
          ],
          "barpolar": [
           {
            "marker": {
             "line": {
              "color": "white",
              "width": 0.5
             },
             "pattern": {
              "fillmode": "overlay",
              "size": 10,
              "solidity": 0.2
             }
            },
            "type": "barpolar"
           }
          ],
          "carpet": [
           {
            "aaxis": {
             "endlinecolor": "#2a3f5f",
             "gridcolor": "#C8D4E3",
             "linecolor": "#C8D4E3",
             "minorgridcolor": "#C8D4E3",
             "startlinecolor": "#2a3f5f"
            },
            "baxis": {
             "endlinecolor": "#2a3f5f",
             "gridcolor": "#C8D4E3",
             "linecolor": "#C8D4E3",
             "minorgridcolor": "#C8D4E3",
             "startlinecolor": "#2a3f5f"
            },
            "type": "carpet"
           }
          ],
          "choropleth": [
           {
            "colorbar": {
             "outlinewidth": 0,
             "ticks": ""
            },
            "type": "choropleth"
           }
          ],
          "contour": [
           {
            "colorbar": {
             "outlinewidth": 0,
             "ticks": ""
            },
            "colorscale": [
             [
              0,
              "#0d0887"
             ],
             [
              0.1111111111111111,
              "#46039f"
             ],
             [
              0.2222222222222222,
              "#7201a8"
             ],
             [
              0.3333333333333333,
              "#9c179e"
             ],
             [
              0.4444444444444444,
              "#bd3786"
             ],
             [
              0.5555555555555556,
              "#d8576b"
             ],
             [
              0.6666666666666666,
              "#ed7953"
             ],
             [
              0.7777777777777778,
              "#fb9f3a"
             ],
             [
              0.8888888888888888,
              "#fdca26"
             ],
             [
              1,
              "#f0f921"
             ]
            ],
            "type": "contour"
           }
          ],
          "contourcarpet": [
           {
            "colorbar": {
             "outlinewidth": 0,
             "ticks": ""
            },
            "type": "contourcarpet"
           }
          ],
          "heatmap": [
           {
            "colorbar": {
             "outlinewidth": 0,
             "ticks": ""
            },
            "colorscale": [
             [
              0,
              "#0d0887"
             ],
             [
              0.1111111111111111,
              "#46039f"
             ],
             [
              0.2222222222222222,
              "#7201a8"
             ],
             [
              0.3333333333333333,
              "#9c179e"
             ],
             [
              0.4444444444444444,
              "#bd3786"
             ],
             [
              0.5555555555555556,
              "#d8576b"
             ],
             [
              0.6666666666666666,
              "#ed7953"
             ],
             [
              0.7777777777777778,
              "#fb9f3a"
             ],
             [
              0.8888888888888888,
              "#fdca26"
             ],
             [
              1,
              "#f0f921"
             ]
            ],
            "type": "heatmap"
           }
          ],
          "heatmapgl": [
           {
            "colorbar": {
             "outlinewidth": 0,
             "ticks": ""
            },
            "colorscale": [
             [
              0,
              "#0d0887"
             ],
             [
              0.1111111111111111,
              "#46039f"
             ],
             [
              0.2222222222222222,
              "#7201a8"
             ],
             [
              0.3333333333333333,
              "#9c179e"
             ],
             [
              0.4444444444444444,
              "#bd3786"
             ],
             [
              0.5555555555555556,
              "#d8576b"
             ],
             [
              0.6666666666666666,
              "#ed7953"
             ],
             [
              0.7777777777777778,
              "#fb9f3a"
             ],
             [
              0.8888888888888888,
              "#fdca26"
             ],
             [
              1,
              "#f0f921"
             ]
            ],
            "type": "heatmapgl"
           }
          ],
          "histogram": [
           {
            "marker": {
             "pattern": {
              "fillmode": "overlay",
              "size": 10,
              "solidity": 0.2
             }
            },
            "type": "histogram"
           }
          ],
          "histogram2d": [
           {
            "colorbar": {
             "outlinewidth": 0,
             "ticks": ""
            },
            "colorscale": [
             [
              0,
              "#0d0887"
             ],
             [
              0.1111111111111111,
              "#46039f"
             ],
             [
              0.2222222222222222,
              "#7201a8"
             ],
             [
              0.3333333333333333,
              "#9c179e"
             ],
             [
              0.4444444444444444,
              "#bd3786"
             ],
             [
              0.5555555555555556,
              "#d8576b"
             ],
             [
              0.6666666666666666,
              "#ed7953"
             ],
             [
              0.7777777777777778,
              "#fb9f3a"
             ],
             [
              0.8888888888888888,
              "#fdca26"
             ],
             [
              1,
              "#f0f921"
             ]
            ],
            "type": "histogram2d"
           }
          ],
          "histogram2dcontour": [
           {
            "colorbar": {
             "outlinewidth": 0,
             "ticks": ""
            },
            "colorscale": [
             [
              0,
              "#0d0887"
             ],
             [
              0.1111111111111111,
              "#46039f"
             ],
             [
              0.2222222222222222,
              "#7201a8"
             ],
             [
              0.3333333333333333,
              "#9c179e"
             ],
             [
              0.4444444444444444,
              "#bd3786"
             ],
             [
              0.5555555555555556,
              "#d8576b"
             ],
             [
              0.6666666666666666,
              "#ed7953"
             ],
             [
              0.7777777777777778,
              "#fb9f3a"
             ],
             [
              0.8888888888888888,
              "#fdca26"
             ],
             [
              1,
              "#f0f921"
             ]
            ],
            "type": "histogram2dcontour"
           }
          ],
          "mesh3d": [
           {
            "colorbar": {
             "outlinewidth": 0,
             "ticks": ""
            },
            "type": "mesh3d"
           }
          ],
          "parcoords": [
           {
            "line": {
             "colorbar": {
              "outlinewidth": 0,
              "ticks": ""
             }
            },
            "type": "parcoords"
           }
          ],
          "pie": [
           {
            "automargin": true,
            "type": "pie"
           }
          ],
          "scatter": [
           {
            "fillpattern": {
             "fillmode": "overlay",
             "size": 10,
             "solidity": 0.2
            },
            "type": "scatter"
           }
          ],
          "scatter3d": [
           {
            "line": {
             "colorbar": {
              "outlinewidth": 0,
              "ticks": ""
             }
            },
            "marker": {
             "colorbar": {
              "outlinewidth": 0,
              "ticks": ""
             }
            },
            "type": "scatter3d"
           }
          ],
          "scattercarpet": [
           {
            "marker": {
             "colorbar": {
              "outlinewidth": 0,
              "ticks": ""
             }
            },
            "type": "scattercarpet"
           }
          ],
          "scattergeo": [
           {
            "marker": {
             "colorbar": {
              "outlinewidth": 0,
              "ticks": ""
             }
            },
            "type": "scattergeo"
           }
          ],
          "scattergl": [
           {
            "marker": {
             "colorbar": {
              "outlinewidth": 0,
              "ticks": ""
             }
            },
            "type": "scattergl"
           }
          ],
          "scattermapbox": [
           {
            "marker": {
             "colorbar": {
              "outlinewidth": 0,
              "ticks": ""
             }
            },
            "type": "scattermapbox"
           }
          ],
          "scatterpolar": [
           {
            "marker": {
             "colorbar": {
              "outlinewidth": 0,
              "ticks": ""
             }
            },
            "type": "scatterpolar"
           }
          ],
          "scatterpolargl": [
           {
            "marker": {
             "colorbar": {
              "outlinewidth": 0,
              "ticks": ""
             }
            },
            "type": "scatterpolargl"
           }
          ],
          "scatterternary": [
           {
            "marker": {
             "colorbar": {
              "outlinewidth": 0,
              "ticks": ""
             }
            },
            "type": "scatterternary"
           }
          ],
          "surface": [
           {
            "colorbar": {
             "outlinewidth": 0,
             "ticks": ""
            },
            "colorscale": [
             [
              0,
              "#0d0887"
             ],
             [
              0.1111111111111111,
              "#46039f"
             ],
             [
              0.2222222222222222,
              "#7201a8"
             ],
             [
              0.3333333333333333,
              "#9c179e"
             ],
             [
              0.4444444444444444,
              "#bd3786"
             ],
             [
              0.5555555555555556,
              "#d8576b"
             ],
             [
              0.6666666666666666,
              "#ed7953"
             ],
             [
              0.7777777777777778,
              "#fb9f3a"
             ],
             [
              0.8888888888888888,
              "#fdca26"
             ],
             [
              1,
              "#f0f921"
             ]
            ],
            "type": "surface"
           }
          ],
          "table": [
           {
            "cells": {
             "fill": {
              "color": "#EBF0F8"
             },
             "line": {
              "color": "white"
             }
            },
            "header": {
             "fill": {
              "color": "#C8D4E3"
             },
             "line": {
              "color": "white"
             }
            },
            "type": "table"
           }
          ]
         },
         "layout": {
          "annotationdefaults": {
           "arrowcolor": "#2a3f5f",
           "arrowhead": 0,
           "arrowwidth": 1
          },
          "autotypenumbers": "strict",
          "coloraxis": {
           "colorbar": {
            "outlinewidth": 0,
            "ticks": ""
           }
          },
          "colorscale": {
           "diverging": [
            [
             0,
             "#8e0152"
            ],
            [
             0.1,
             "#c51b7d"
            ],
            [
             0.2,
             "#de77ae"
            ],
            [
             0.3,
             "#f1b6da"
            ],
            [
             0.4,
             "#fde0ef"
            ],
            [
             0.5,
             "#f7f7f7"
            ],
            [
             0.6,
             "#e6f5d0"
            ],
            [
             0.7,
             "#b8e186"
            ],
            [
             0.8,
             "#7fbc41"
            ],
            [
             0.9,
             "#4d9221"
            ],
            [
             1,
             "#276419"
            ]
           ],
           "sequential": [
            [
             0,
             "#0d0887"
            ],
            [
             0.1111111111111111,
             "#46039f"
            ],
            [
             0.2222222222222222,
             "#7201a8"
            ],
            [
             0.3333333333333333,
             "#9c179e"
            ],
            [
             0.4444444444444444,
             "#bd3786"
            ],
            [
             0.5555555555555556,
             "#d8576b"
            ],
            [
             0.6666666666666666,
             "#ed7953"
            ],
            [
             0.7777777777777778,
             "#fb9f3a"
            ],
            [
             0.8888888888888888,
             "#fdca26"
            ],
            [
             1,
             "#f0f921"
            ]
           ],
           "sequentialminus": [
            [
             0,
             "#0d0887"
            ],
            [
             0.1111111111111111,
             "#46039f"
            ],
            [
             0.2222222222222222,
             "#7201a8"
            ],
            [
             0.3333333333333333,
             "#9c179e"
            ],
            [
             0.4444444444444444,
             "#bd3786"
            ],
            [
             0.5555555555555556,
             "#d8576b"
            ],
            [
             0.6666666666666666,
             "#ed7953"
            ],
            [
             0.7777777777777778,
             "#fb9f3a"
            ],
            [
             0.8888888888888888,
             "#fdca26"
            ],
            [
             1,
             "#f0f921"
            ]
           ]
          },
          "colorway": [
           "#636efa",
           "#EF553B",
           "#00cc96",
           "#ab63fa",
           "#FFA15A",
           "#19d3f3",
           "#FF6692",
           "#B6E880",
           "#FF97FF",
           "#FECB52"
          ],
          "font": {
           "color": "#2a3f5f"
          },
          "geo": {
           "bgcolor": "white",
           "lakecolor": "white",
           "landcolor": "white",
           "showlakes": true,
           "showland": true,
           "subunitcolor": "#C8D4E3"
          },
          "hoverlabel": {
           "align": "left"
          },
          "hovermode": "closest",
          "mapbox": {
           "style": "light"
          },
          "paper_bgcolor": "white",
          "plot_bgcolor": "white",
          "polar": {
           "angularaxis": {
            "gridcolor": "#EBF0F8",
            "linecolor": "#EBF0F8",
            "ticks": ""
           },
           "bgcolor": "white",
           "radialaxis": {
            "gridcolor": "#EBF0F8",
            "linecolor": "#EBF0F8",
            "ticks": ""
           }
          },
          "scene": {
           "xaxis": {
            "backgroundcolor": "white",
            "gridcolor": "#DFE8F3",
            "gridwidth": 2,
            "linecolor": "#EBF0F8",
            "showbackground": true,
            "ticks": "",
            "zerolinecolor": "#EBF0F8"
           },
           "yaxis": {
            "backgroundcolor": "white",
            "gridcolor": "#DFE8F3",
            "gridwidth": 2,
            "linecolor": "#EBF0F8",
            "showbackground": true,
            "ticks": "",
            "zerolinecolor": "#EBF0F8"
           },
           "zaxis": {
            "backgroundcolor": "white",
            "gridcolor": "#DFE8F3",
            "gridwidth": 2,
            "linecolor": "#EBF0F8",
            "showbackground": true,
            "ticks": "",
            "zerolinecolor": "#EBF0F8"
           }
          },
          "shapedefaults": {
           "line": {
            "color": "#2a3f5f"
           }
          },
          "ternary": {
           "aaxis": {
            "gridcolor": "#DFE8F3",
            "linecolor": "#A2B1C6",
            "ticks": ""
           },
           "baxis": {
            "gridcolor": "#DFE8F3",
            "linecolor": "#A2B1C6",
            "ticks": ""
           },
           "bgcolor": "white",
           "caxis": {
            "gridcolor": "#DFE8F3",
            "linecolor": "#A2B1C6",
            "ticks": ""
           }
          },
          "title": {
           "x": 0.05
          },
          "xaxis": {
           "automargin": true,
           "gridcolor": "#EBF0F8",
           "linecolor": "#EBF0F8",
           "ticks": "",
           "title": {
            "standoff": 15
           },
           "zerolinecolor": "#EBF0F8",
           "zerolinewidth": 2
          },
          "yaxis": {
           "automargin": true,
           "gridcolor": "#EBF0F8",
           "linecolor": "#EBF0F8",
           "ticks": "",
           "title": {
            "standoff": 15
           },
           "zerolinecolor": "#EBF0F8",
           "zerolinewidth": 2
          }
         }
        },
        "title": {
         "text": "Recent 10 Games Comparison (KDA / CS / Gold / Damage)"
        },
        "xaxis": {
         "anchor": "y",
         "domain": [
          0,
          0.45
         ],
         "title": {
          "text": "Game"
         }
        },
        "xaxis2": {
         "anchor": "y2",
         "domain": [
          0.55,
          1
         ],
         "title": {
          "text": "Game"
         }
        },
        "xaxis3": {
         "anchor": "y3",
         "domain": [
          0,
          0.45
         ],
         "title": {
          "text": "Game"
         }
        },
        "xaxis4": {
         "anchor": "y4",
         "domain": [
          0.55,
          1
         ],
         "title": {
          "text": "Game"
         }
        },
        "yaxis": {
         "anchor": "x",
         "domain": [
          0.625,
          1
         ],
         "title": {
          "text": "KDA"
         }
        },
        "yaxis2": {
         "anchor": "x2",
         "domain": [
          0.625,
          1
         ],
         "title": {
          "text": "CS/Min"
         }
        },
        "yaxis3": {
         "anchor": "x3",
         "domain": [
          0,
          0.375
         ],
         "title": {
          "text": "Gold/Min"
         }
        },
        "yaxis4": {
         "anchor": "x4",
         "domain": [
          0,
          0.375
         ],
         "title": {
          "text": "Damage/Min"
         }
        }
       }
      }
     },
     "metadata": {},
     "output_type": "display_data"
    }
   ],
   "source": [
    "from plotly.subplots import make_subplots\n",
    "import plotly.graph_objects as go\n",
    "\n",
    "# 경기 10개, x축 라벨\n",
    "x_labels = [f\"Game {i+1}\" for i in range(10)]\n",
    "\n",
    "# 데이터 준비\n",
    "user_games = merged_df[(merged_df[\"puuid\"] == target_puuid)].copy()\n",
    "user_games = user_games.sort_values(\"game_id\", ascending=False).head(10)\n",
    "\n",
    "\n",
    "def fill_10(values):\n",
    "    return values.tolist() + [0] * (10 - len(values))\n",
    "\n",
    "\n",
    "kda_values = fill_10(user_games[\"KDA\"])\n",
    "cs_values = fill_10(user_games[\"cs_per_min\"])\n",
    "gold_values = fill_10(user_games[\"gold_per_min\"])\n",
    "damage_values = fill_10(user_games[\"damage_per_min\"])\n",
    "\n",
    "# 상위 유저 평균값\n",
    "top_avg_kda = merged_df[merged_df[\"is_top1000\"] == True][\"KDA\"].mean()\n",
    "top_avg_cs = merged_df[merged_df[\"is_top1000\"] == True][\"cs_per_min\"].mean()\n",
    "top_avg_gold = merged_df[merged_df[\"is_top1000\"] == True][\"gold_per_min\"].mean()\n",
    "top_avg_damage = merged_df[merged_df[\"is_top1000\"] == True][\"damage_per_min\"].mean()\n",
    "\n",
    "# subplot 구성\n",
    "fig = make_subplots(\n",
    "    rows=2,\n",
    "    cols=2,\n",
    "    subplot_titles=(\n",
    "        \"KDA vs Top Avg\",\n",
    "        \"CS per Min vs Top Avg\",\n",
    "        \"Gold per Min vs Top Avg\",\n",
    "        \"Damage per Min vs Top Avg\",\n",
    "    ),\n",
    ")\n",
    "\n",
    "# (1,1) KDA\n",
    "fig.add_trace(\n",
    "    go.Bar(x=x_labels, y=kda_values, name=\"KDA\", marker_color=\"royalblue\"), row=1, col=1\n",
    ")\n",
    "fig.add_trace(\n",
    "    go.Scatter(\n",
    "        x=x_labels,\n",
    "        y=[top_avg_kda] * 10,\n",
    "        name=\"Top Avg KDA\",\n",
    "        line=dict(color=\"red\", dash=\"dash\"),\n",
    "    ),\n",
    "    row=1,\n",
    "    col=1,\n",
    ")\n",
    "\n",
    "# (1,2) CS/Min\n",
    "fig.add_trace(\n",
    "    go.Bar(x=x_labels, y=cs_values, name=\"CS/Min\", marker_color=\"seagreen\"),\n",
    "    row=1,\n",
    "    col=2,\n",
    ")\n",
    "fig.add_trace(\n",
    "    go.Scatter(\n",
    "        x=x_labels,\n",
    "        y=[top_avg_cs] * 10,\n",
    "        name=\"Top Avg CS\",\n",
    "        line=dict(color=\"orange\", dash=\"dash\"),\n",
    "    ),\n",
    "    row=1,\n",
    "    col=2,\n",
    ")\n",
    "\n",
    "# (2,1) Gold/Min\n",
    "fig.add_trace(\n",
    "    go.Bar(x=x_labels, y=gold_values, name=\"Gold/Min\", marker_color=\"goldenrod\"),\n",
    "    row=2,\n",
    "    col=1,\n",
    ")\n",
    "fig.add_trace(\n",
    "    go.Scatter(\n",
    "        x=x_labels,\n",
    "        y=[top_avg_gold] * 10,\n",
    "        name=\"Top Avg Gold\",\n",
    "        line=dict(color=\"darkblue\", dash=\"dash\"),\n",
    "    ),\n",
    "    row=2,\n",
    "    col=1,\n",
    ")\n",
    "\n",
    "# (2,2) Damage/Min\n",
    "fig.add_trace(\n",
    "    go.Bar(x=x_labels, y=damage_values, name=\"Damage/Min\", marker_color=\"indianred\"),\n",
    "    row=2,\n",
    "    col=2,\n",
    ")\n",
    "fig.add_trace(\n",
    "    go.Scatter(\n",
    "        x=x_labels,\n",
    "        y=[top_avg_damage] * 10,\n",
    "        name=\"Top Avg Damage\",\n",
    "        line=dict(color=\"black\", dash=\"dash\"),\n",
    "    ),\n",
    "    row=2,\n",
    "    col=2,\n",
    ")\n",
    "\n",
    "# 전체 레이아웃 설정\n",
    "fig.update_layout(\n",
    "    title_text=\"Recent 10 Games Comparison (KDA / CS / Gold / Damage)\",\n",
    "    template=\"plotly_white\",\n",
    "    height=800,\n",
    "    showlegend=False,\n",
    ")\n",
    "\n",
    "# 개별 축 설정\n",
    "fig.update_xaxes(title_text=\"Game\", row=1, col=1)\n",
    "fig.update_yaxes(title_text=\"KDA\", row=1, col=1)\n",
    "\n",
    "fig.update_xaxes(title_text=\"Game\", row=1, col=2)\n",
    "fig.update_yaxes(title_text=\"CS/Min\", row=1, col=2)\n",
    "\n",
    "fig.update_xaxes(title_text=\"Game\", row=2, col=1)\n",
    "fig.update_yaxes(title_text=\"Gold/Min\", row=2, col=1)\n",
    "\n",
    "fig.update_xaxes(title_text=\"Game\", row=2, col=2)\n",
    "fig.update_yaxes(title_text=\"Damage/Min\", row=2, col=2)\n",
    "\n",
    "fig.show()"
   ]
  },
  {
   "cell_type": "markdown",
   "id": "466aca07",
   "metadata": {},
   "source": [
    "### 유사도 순 정렬된 테이블 만들기"
   ]
  },
  {
   "cell_type": "code",
   "execution_count": 33,
   "id": "5b179931",
   "metadata": {},
   "outputs": [
    {
     "data": {
      "text/html": [
       "<div>\n",
       "<style scoped>\n",
       "    .dataframe tbody tr th:only-of-type {\n",
       "        vertical-align: middle;\n",
       "    }\n",
       "\n",
       "    .dataframe tbody tr th {\n",
       "        vertical-align: top;\n",
       "    }\n",
       "\n",
       "    .dataframe thead th {\n",
       "        text-align: right;\n",
       "    }\n",
       "</style>\n",
       "<table border=\"1\" class=\"dataframe\">\n",
       "  <thead>\n",
       "    <tr style=\"text-align: right;\">\n",
       "      <th></th>\n",
       "      <th>puuid</th>\n",
       "      <th>KDA</th>\n",
       "      <th>cs_per_min</th>\n",
       "      <th>gold_per_min</th>\n",
       "      <th>similarity</th>\n",
       "    </tr>\n",
       "  </thead>\n",
       "  <tbody>\n",
       "    <tr>\n",
       "      <th>0</th>\n",
       "      <td>N8s2Toz0lAW-qfSH3A0NufmmkZeVXQoqKYMDedmESurz6n...</td>\n",
       "      <td>3.333333</td>\n",
       "      <td>8.574889</td>\n",
       "      <td>517.611504</td>\n",
       "      <td>0.960658</td>\n",
       "    </tr>\n",
       "    <tr>\n",
       "      <th>1</th>\n",
       "      <td>JkAtetPeV8eLH-GNF14_7Z96cIMbONg0x-7yil5ZrhqURu...</td>\n",
       "      <td>5.166667</td>\n",
       "      <td>8.571203</td>\n",
       "      <td>519.099380</td>\n",
       "      <td>0.924943</td>\n",
       "    </tr>\n",
       "    <tr>\n",
       "      <th>2</th>\n",
       "      <td>_v3N7CJjg-9RvLsJjD-ciWb4ZtXdigRT2miD8SYenA7wnK...</td>\n",
       "      <td>3.666667</td>\n",
       "      <td>6.632733</td>\n",
       "      <td>471.255647</td>\n",
       "      <td>0.917098</td>\n",
       "    </tr>\n",
       "    <tr>\n",
       "      <th>3</th>\n",
       "      <td>0S7Qb-aNl4ZarGy2KldZFAAN4qum5qqCeGLJDv4vUn-d2V...</td>\n",
       "      <td>10.000000</td>\n",
       "      <td>6.606017</td>\n",
       "      <td>591.492586</td>\n",
       "      <td>0.912967</td>\n",
       "    </tr>\n",
       "    <tr>\n",
       "      <th>4</th>\n",
       "      <td>znTmuVKGw2_g_dApzVG2sId1sO0scMTJeeXryiMC-uNysp...</td>\n",
       "      <td>1.600000</td>\n",
       "      <td>8.204457</td>\n",
       "      <td>472.212077</td>\n",
       "      <td>0.900781</td>\n",
       "    </tr>\n",
       "    <tr>\n",
       "      <th>5</th>\n",
       "      <td>EVMY5lU8NxM93WsfJe1FH5irgp_daSX36OzDqSLmhoycEu...</td>\n",
       "      <td>3.400000</td>\n",
       "      <td>8.544045</td>\n",
       "      <td>474.748594</td>\n",
       "      <td>0.900137</td>\n",
       "    </tr>\n",
       "    <tr>\n",
       "      <th>6</th>\n",
       "      <td>BMLYrja7g84tXOAYN6an9UVxswRCySLhffkA_x8VKlFi-s...</td>\n",
       "      <td>3.750000</td>\n",
       "      <td>7.966532</td>\n",
       "      <td>496.677442</td>\n",
       "      <td>0.898521</td>\n",
       "    </tr>\n",
       "    <tr>\n",
       "      <th>7</th>\n",
       "      <td>mkuS-q15u1Xgel-8i20FgzR0qO16_5dV3IdJOiu6rGtQIm...</td>\n",
       "      <td>4.400000</td>\n",
       "      <td>8.686750</td>\n",
       "      <td>496.346472</td>\n",
       "      <td>0.892245</td>\n",
       "    </tr>\n",
       "    <tr>\n",
       "      <th>8</th>\n",
       "      <td>7UDpSRt0mNr-aRORdAY9-LXLEexD2goynSIcH63l2jRdYg...</td>\n",
       "      <td>7.250000</td>\n",
       "      <td>7.296867</td>\n",
       "      <td>525.751860</td>\n",
       "      <td>0.891860</td>\n",
       "    </tr>\n",
       "    <tr>\n",
       "      <th>9</th>\n",
       "      <td>Tjx_NecuU07AaxNwLyhT7sOX6kYjLTtSnwteY6g_jrpeya...</td>\n",
       "      <td>3.166667</td>\n",
       "      <td>9.751682</td>\n",
       "      <td>525.973625</td>\n",
       "      <td>0.890804</td>\n",
       "    </tr>\n",
       "  </tbody>\n",
       "</table>\n",
       "</div>"
      ],
      "text/plain": [
       "                                               puuid        KDA  cs_per_min  \\\n",
       "0  N8s2Toz0lAW-qfSH3A0NufmmkZeVXQoqKYMDedmESurz6n...   3.333333    8.574889   \n",
       "1  JkAtetPeV8eLH-GNF14_7Z96cIMbONg0x-7yil5ZrhqURu...   5.166667    8.571203   \n",
       "2  _v3N7CJjg-9RvLsJjD-ciWb4ZtXdigRT2miD8SYenA7wnK...   3.666667    6.632733   \n",
       "3  0S7Qb-aNl4ZarGy2KldZFAAN4qum5qqCeGLJDv4vUn-d2V...  10.000000    6.606017   \n",
       "4  znTmuVKGw2_g_dApzVG2sId1sO0scMTJeeXryiMC-uNysp...   1.600000    8.204457   \n",
       "5  EVMY5lU8NxM93WsfJe1FH5irgp_daSX36OzDqSLmhoycEu...   3.400000    8.544045   \n",
       "6  BMLYrja7g84tXOAYN6an9UVxswRCySLhffkA_x8VKlFi-s...   3.750000    7.966532   \n",
       "7  mkuS-q15u1Xgel-8i20FgzR0qO16_5dV3IdJOiu6rGtQIm...   4.400000    8.686750   \n",
       "8  7UDpSRt0mNr-aRORdAY9-LXLEexD2goynSIcH63l2jRdYg...   7.250000    7.296867   \n",
       "9  Tjx_NecuU07AaxNwLyhT7sOX6kYjLTtSnwteY6g_jrpeya...   3.166667    9.751682   \n",
       "\n",
       "   gold_per_min  similarity  \n",
       "0    517.611504    0.960658  \n",
       "1    519.099380    0.924943  \n",
       "2    471.255647    0.917098  \n",
       "3    591.492586    0.912967  \n",
       "4    472.212077    0.900781  \n",
       "5    474.748594    0.900137  \n",
       "6    496.677442    0.898521  \n",
       "7    496.346472    0.892245  \n",
       "8    525.751860    0.891860  \n",
       "9    525.973625    0.890804  "
      ]
     },
     "metadata": {},
     "output_type": "display_data"
    }
   ],
   "source": [
    "import pandas as pd\n",
    "from IPython.display import display\n",
    "\n",
    "display(\n",
    "    plot_df[plot_df[\"label\"] == \"Top\"]\n",
    "    .sort_values(\"similarity\", ascending=False)[\n",
    "        [\"puuid\", \"KDA\", \"cs_per_min\", \"gold_per_min\", \"similarity\"]\n",
    "    ]\n",
    ")\n"
   ]
  },
  {
   "cell_type": "code",
   "execution_count": null,
   "id": "1f53f225",
   "metadata": {},
   "outputs": [],
   "source": []
  }
 ],
 "metadata": {
  "kernelspec": {
   "display_name": "Python 3",
   "language": "python",
   "name": "python3"
  },
  "language_info": {
   "codemirror_mode": {
    "name": "ipython",
    "version": 3
   },
   "file_extension": ".py",
   "mimetype": "text/x-python",
   "name": "python",
   "nbconvert_exporter": "python",
   "pygments_lexer": "ipython3",
   "version": "3.9.13"
  }
 },
 "nbformat": 4,
 "nbformat_minor": 5
}
