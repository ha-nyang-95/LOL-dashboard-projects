{
 "cells": [
  {
   "cell_type": "code",
   "execution_count": 1,
   "id": "b53a1d37",
   "metadata": {},
   "outputs": [],
   "source": [
    "# ! pip install ipympl\n"
   ]
  },
  {
   "cell_type": "code",
   "execution_count": null,
   "id": "2022f7fc",
   "metadata": {},
   "outputs": [],
   "source": [
    "import pandas as pd\n",
    "import numpy as np\n",
    "from sklearn.preprocessing import StandardScaler\n",
    "from sklearn.metrics.pairwise import cosine_similarity\n",
    "import matplotlib.pyplot as plt\n",
    "import seaborn as sns\n"
   ]
  },
  {
   "cell_type": "markdown",
   "id": "a4872c58",
   "metadata": {},
   "source": [
    "# 1. 데이터 로딩 및 전처리"
   ]
  },
  {
   "cell_type": "code",
   "execution_count": null,
   "id": "92a062fc",
   "metadata": {},
   "outputs": [],
   "source": [
    "# 예시 경로, 실제 경로로 수정 필요\n",
    "\n",
    "# 게임에 참가한 사람들의 고유 정보\n",
    "participants = pd.read_csv(\"data/top1000/participants.csv\")\n",
    "# 시간 흐름에 따라 변화하는 실시간 스탯 (골드, 딜량 등) \n",
    "participants_frames = pd.read_csv(\"data/top1000/participant_frames.csv\")\n",
    "# 게임 단위의 결과 (승패 등)\n",
    "matches = pd.read_csv(\"data/top1000/matches.csv\")\n",
    "# 킬 이벤트 정보 (누가 누구를 죽였는지)\n",
    "champ_kill = pd.read_csv('data/top1000/events__CHAMPION_KILL.csv')"
   ]
  },
  {
   "cell_type": "code",
   "execution_count": null,
   "id": "3dd3e3fa",
   "metadata": {},
   "outputs": [],
   "source": [
    "# 가장 마지막 프레임만 사용 (게임 종료 시점 상태)\n",
    "# 게임 종료 시점 기준으로 정보 하나로 묶기\n",
    "latest_frames = participants_frames.sort_values(\"frame_timestamp\").drop_duplicates(\n",
    "    subset=[\"game_id\", \"participant_id\"], keep='last'\n",
    ")\n",
    "\n",
    "merged_df = pd.merge(participants, latest_frames, on=[\"game_id\", \"participant_id\"], how=\"left\")"
   ]
  },
  {
   "cell_type": "code",
   "execution_count": null,
   "id": "f6b4ad2b",
   "metadata": {},
   "outputs": [
    {
     "data": {
      "text/html": [
       "<div>\n",
       "<style scoped>\n",
       "    .dataframe tbody tr th:only-of-type {\n",
       "        vertical-align: middle;\n",
       "    }\n",
       "\n",
       "    .dataframe tbody tr th {\n",
       "        vertical-align: top;\n",
       "    }\n",
       "\n",
       "    .dataframe thead th {\n",
       "        text-align: right;\n",
       "    }\n",
       "</style>\n",
       "<table border=\"1\" class=\"dataframe\">\n",
       "  <thead>\n",
       "    <tr style=\"text-align: right;\">\n",
       "      <th></th>\n",
       "      <th>game_id</th>\n",
       "      <th>participant_id</th>\n",
       "      <th>puuid</th>\n",
       "      <th>frame_timestamp</th>\n",
       "      <th>current_gold</th>\n",
       "      <th>gold_per_second</th>\n",
       "      <th>jungle_minions_killed</th>\n",
       "      <th>level</th>\n",
       "      <th>minions_killed</th>\n",
       "      <th>time_enemy_spent_controlled</th>\n",
       "      <th>...</th>\n",
       "      <th>physicalDamageDone</th>\n",
       "      <th>physicalDamageDoneToChampions</th>\n",
       "      <th>physicalDamageTaken</th>\n",
       "      <th>totalDamageDone</th>\n",
       "      <th>totalDamageDoneToChampions</th>\n",
       "      <th>totalDamageTaken</th>\n",
       "      <th>trueDamageDone</th>\n",
       "      <th>trueDamageDoneToChampions</th>\n",
       "      <th>trueDamageTaken</th>\n",
       "      <th>end_of_game_result</th>\n",
       "    </tr>\n",
       "  </thead>\n",
       "  <tbody>\n",
       "    <tr>\n",
       "      <th>0</th>\n",
       "      <td>7586549521</td>\n",
       "      <td>1</td>\n",
       "      <td>T2coi9U5HI63yttsRxRgUeQ2xLzedwMv0LWMV_Xtp812gj...</td>\n",
       "      <td>1956361</td>\n",
       "      <td>3780</td>\n",
       "      <td>0</td>\n",
       "      <td>4</td>\n",
       "      <td>18</td>\n",
       "      <td>236</td>\n",
       "      <td>227461</td>\n",
       "      <td>...</td>\n",
       "      <td>194329</td>\n",
       "      <td>25468</td>\n",
       "      <td>29526</td>\n",
       "      <td>221039</td>\n",
       "      <td>38637</td>\n",
       "      <td>35625</td>\n",
       "      <td>26709</td>\n",
       "      <td>13168</td>\n",
       "      <td>3156</td>\n",
       "      <td>GameComplete</td>\n",
       "    </tr>\n",
       "    <tr>\n",
       "      <th>1</th>\n",
       "      <td>7586549521</td>\n",
       "      <td>2</td>\n",
       "      <td>VzxkuEt2Ay_6P_1wY1FajjdMW8ty20cPLb0jmwqAAjA9Ns...</td>\n",
       "      <td>1956361</td>\n",
       "      <td>1597</td>\n",
       "      <td>0</td>\n",
       "      <td>142</td>\n",
       "      <td>17</td>\n",
       "      <td>22</td>\n",
       "      <td>171344</td>\n",
       "      <td>...</td>\n",
       "      <td>179288</td>\n",
       "      <td>21128</td>\n",
       "      <td>32491</td>\n",
       "      <td>251617</td>\n",
       "      <td>26859</td>\n",
       "      <td>44796</td>\n",
       "      <td>65212</td>\n",
       "      <td>2829</td>\n",
       "      <td>2577</td>\n",
       "      <td>GameComplete</td>\n",
       "    </tr>\n",
       "    <tr>\n",
       "      <th>2</th>\n",
       "      <td>7586549521</td>\n",
       "      <td>3</td>\n",
       "      <td>-jMFYAy4ogcmItoiwYmQX7tG2fB59CvKQieQwZqYvcLw1x...</td>\n",
       "      <td>1956361</td>\n",
       "      <td>2454</td>\n",
       "      <td>0</td>\n",
       "      <td>8</td>\n",
       "      <td>17</td>\n",
       "      <td>232</td>\n",
       "      <td>259989</td>\n",
       "      <td>...</td>\n",
       "      <td>7663</td>\n",
       "      <td>1838</td>\n",
       "      <td>21349</td>\n",
       "      <td>206296</td>\n",
       "      <td>37478</td>\n",
       "      <td>31216</td>\n",
       "      <td>7563</td>\n",
       "      <td>1790</td>\n",
       "      <td>3254</td>\n",
       "      <td>GameComplete</td>\n",
       "    </tr>\n",
       "    <tr>\n",
       "      <th>3</th>\n",
       "      <td>7586549521</td>\n",
       "      <td>4</td>\n",
       "      <td>CDtqv-NZS5cmtQI0bsfbxBhq29QlqmwX_YwgG5oW3PkhMm...</td>\n",
       "      <td>1956361</td>\n",
       "      <td>1339</td>\n",
       "      <td>0</td>\n",
       "      <td>16</td>\n",
       "      <td>18</td>\n",
       "      <td>199</td>\n",
       "      <td>130050</td>\n",
       "      <td>...</td>\n",
       "      <td>142170</td>\n",
       "      <td>22574</td>\n",
       "      <td>20998</td>\n",
       "      <td>217726</td>\n",
       "      <td>47278</td>\n",
       "      <td>33657</td>\n",
       "      <td>9483</td>\n",
       "      <td>2649</td>\n",
       "      <td>782</td>\n",
       "      <td>GameComplete</td>\n",
       "    </tr>\n",
       "    <tr>\n",
       "      <th>4</th>\n",
       "      <td>7586549521</td>\n",
       "      <td>5</td>\n",
       "      <td>72aXoGzHe_SjiP1hNKnMXyx_UYND4_HE2j1Awp9E3l6pge...</td>\n",
       "      <td>1956361</td>\n",
       "      <td>1189</td>\n",
       "      <td>50</td>\n",
       "      <td>0</td>\n",
       "      <td>14</td>\n",
       "      <td>15</td>\n",
       "      <td>226379</td>\n",
       "      <td>...</td>\n",
       "      <td>5571</td>\n",
       "      <td>3723</td>\n",
       "      <td>21177</td>\n",
       "      <td>17701</td>\n",
       "      <td>12926</td>\n",
       "      <td>36143</td>\n",
       "      <td>3208</td>\n",
       "      <td>2008</td>\n",
       "      <td>2392</td>\n",
       "      <td>GameComplete</td>\n",
       "    </tr>\n",
       "  </tbody>\n",
       "</table>\n",
       "<p>5 rows × 52 columns</p>\n",
       "</div>"
      ],
      "text/plain": [
       "      game_id  participant_id  \\\n",
       "0  7586549521               1   \n",
       "1  7586549521               2   \n",
       "2  7586549521               3   \n",
       "3  7586549521               4   \n",
       "4  7586549521               5   \n",
       "\n",
       "                                               puuid  frame_timestamp  \\\n",
       "0  T2coi9U5HI63yttsRxRgUeQ2xLzedwMv0LWMV_Xtp812gj...          1956361   \n",
       "1  VzxkuEt2Ay_6P_1wY1FajjdMW8ty20cPLb0jmwqAAjA9Ns...          1956361   \n",
       "2  -jMFYAy4ogcmItoiwYmQX7tG2fB59CvKQieQwZqYvcLw1x...          1956361   \n",
       "3  CDtqv-NZS5cmtQI0bsfbxBhq29QlqmwX_YwgG5oW3PkhMm...          1956361   \n",
       "4  72aXoGzHe_SjiP1hNKnMXyx_UYND4_HE2j1Awp9E3l6pge...          1956361   \n",
       "\n",
       "   current_gold  gold_per_second  jungle_minions_killed  level  \\\n",
       "0          3780                0                      4     18   \n",
       "1          1597                0                    142     17   \n",
       "2          2454                0                      8     17   \n",
       "3          1339                0                     16     18   \n",
       "4          1189               50                      0     14   \n",
       "\n",
       "   minions_killed  time_enemy_spent_controlled  ...  physicalDamageDone  \\\n",
       "0             236                       227461  ...              194329   \n",
       "1              22                       171344  ...              179288   \n",
       "2             232                       259989  ...                7663   \n",
       "3             199                       130050  ...              142170   \n",
       "4              15                       226379  ...                5571   \n",
       "\n",
       "   physicalDamageDoneToChampions  physicalDamageTaken  totalDamageDone  \\\n",
       "0                          25468                29526           221039   \n",
       "1                          21128                32491           251617   \n",
       "2                           1838                21349           206296   \n",
       "3                          22574                20998           217726   \n",
       "4                           3723                21177            17701   \n",
       "\n",
       "   totalDamageDoneToChampions  totalDamageTaken  trueDamageDone  \\\n",
       "0                       38637             35625           26709   \n",
       "1                       26859             44796           65212   \n",
       "2                       37478             31216            7563   \n",
       "3                       47278             33657            9483   \n",
       "4                       12926             36143            3208   \n",
       "\n",
       "   trueDamageDoneToChampions  trueDamageTaken  end_of_game_result  \n",
       "0                      13168             3156        GameComplete  \n",
       "1                       2829             2577        GameComplete  \n",
       "2                       1790             3254        GameComplete  \n",
       "3                       2649              782        GameComplete  \n",
       "4                       2008             2392        GameComplete  \n",
       "\n",
       "[5 rows x 52 columns]"
      ]
     },
     "execution_count": 5,
     "metadata": {},
     "output_type": "execute_result"
    }
   ],
   "source": [
    "# participants, latest_frames, matches 병합\n",
    "\n",
    "merged_df = pd.merge(merged_df, matches[[\"game_id\", \"end_of_game_result\"]], on=\"game_id\", how=\"left\")\n",
    "merged_df.head()"
   ]
  },
  {
   "cell_type": "markdown",
   "id": "bade9f35",
   "metadata": {},
   "source": [
    "## 2. KDA 및 주요 파생 지표 생성"
   ]
  },
  {
   "cell_type": "markdown",
   "id": "6227b0ac",
   "metadata": {},
   "source": [
    "### KDA 계산\n",
    "\n",
    "컬럼 | 의미\n",
    "---- | ----\n",
    "kills | 해당 경기에서 몇 번 킬 했는가\n",
    "deaths | 몇 번 죽었는가\n",
    "assists | 어시스트 수\n",
    "KDA | (킬 + 어시스트) / 데스 (생존 기반 전투 영향력)"
   ]
  },
  {
   "cell_type": "code",
   "execution_count": 6,
   "id": "9d99094f",
   "metadata": {},
   "outputs": [],
   "source": [
    "# kills 수 계산 (킬한 사람 기준)\n",
    "kills = champ_kill.groupby([\"game_id\", \"killer_id\"]).size().reset_index(name=\"kills\")\n",
    "kills.rename(columns={\"killer_id\": \"participant_id\"}, inplace=True)"
   ]
  },
  {
   "cell_type": "code",
   "execution_count": 7,
   "id": "28fc37ad",
   "metadata": {},
   "outputs": [],
   "source": [
    "# deaths 수 계산 (죽은 사람 기준)\n",
    "deaths = champ_kill.groupby([\"game_id\", \"victim_id\"]).size().reset_index(name=\"deaths\")\n",
    "deaths.rename(columns={\"victim_id\": \"participant_id\"}, inplace=True)"
   ]
  },
  {
   "cell_type": "code",
   "execution_count": 8,
   "id": "e36b6eed",
   "metadata": {},
   "outputs": [],
   "source": [
    "# assists 수 계산\n",
    "assist_df = pd.read_csv(\"data/top1000/event_assists.csv\")\n",
    "\n",
    "# 게임 ID + 어시스트 참가자 ID로 그룹화\n",
    "assists = assist_df.groupby([\"game_id\", \"participant_id\"]).size().reset_index(name=\"assists\")\n"
   ]
  },
  {
   "cell_type": "code",
   "execution_count": null,
   "id": "2ad7d614",
   "metadata": {},
   "outputs": [],
   "source": [
    "# KDA 구하기\n",
    "\n",
    "# 기본 participant list (merged_df)에서 가져오자\n",
    "kda_base = merged_df[[\"game_id\", \"participant_id\", \"puuid\"]].drop_duplicates()\n",
    "\n",
    "# 병합\n",
    "kda_df = (\n",
    "    kda_base\n",
    "    .merge(kills, on=[\"game_id\", \"participant_id\"], how=\"left\")\n",
    "    .merge(deaths, on=[\"game_id\", \"participant_id\"], how=\"left\")\n",
    ")\n",
    "\n",
    "# 어시스트 컬럼 있으면 병합\n",
    "if 'assists' in locals():\n",
    "    kda_df = kda_df.merge(assists, on=[\"game_id\", \"participant_id\"], how=\"left\")\n",
    "\n",
    "# 결측값 0으로 채우기\n",
    "kda_df[[\"kills\", \"deaths\", \"assists\"]] = kda_df[[\"kills\", \"deaths\", \"assists\"]].fillna(0).astype(int)\n",
    "\n",
    "# KDA 계산\n",
    "# 분모가 0이 되면 오류가 나기 때문에, 완벽 생존은 1로 나눈 값을 최대치로 보정\n",
    "kda_df[\"KDA\"] = (kda_df[\"kills\"] + kda_df[\"assists\"]) / kda_df[\"deaths\"].replace(0, 1)\n"
   ]
  },
  {
   "cell_type": "code",
   "execution_count": 10,
   "id": "499d1b79",
   "metadata": {},
   "outputs": [
    {
     "data": {
      "text/html": [
       "<div>\n",
       "<style scoped>\n",
       "    .dataframe tbody tr th:only-of-type {\n",
       "        vertical-align: middle;\n",
       "    }\n",
       "\n",
       "    .dataframe tbody tr th {\n",
       "        vertical-align: top;\n",
       "    }\n",
       "\n",
       "    .dataframe thead th {\n",
       "        text-align: right;\n",
       "    }\n",
       "</style>\n",
       "<table border=\"1\" class=\"dataframe\">\n",
       "  <thead>\n",
       "    <tr style=\"text-align: right;\">\n",
       "      <th></th>\n",
       "      <th>game_id</th>\n",
       "      <th>participant_id</th>\n",
       "      <th>puuid</th>\n",
       "      <th>frame_timestamp</th>\n",
       "      <th>current_gold</th>\n",
       "      <th>gold_per_second</th>\n",
       "      <th>jungle_minions_killed</th>\n",
       "      <th>level</th>\n",
       "      <th>minions_killed</th>\n",
       "      <th>time_enemy_spent_controlled</th>\n",
       "      <th>...</th>\n",
       "      <th>totalDamageDoneToChampions</th>\n",
       "      <th>totalDamageTaken</th>\n",
       "      <th>trueDamageDone</th>\n",
       "      <th>trueDamageDoneToChampions</th>\n",
       "      <th>trueDamageTaken</th>\n",
       "      <th>end_of_game_result</th>\n",
       "      <th>kills</th>\n",
       "      <th>deaths</th>\n",
       "      <th>assists</th>\n",
       "      <th>KDA</th>\n",
       "    </tr>\n",
       "  </thead>\n",
       "  <tbody>\n",
       "    <tr>\n",
       "      <th>0</th>\n",
       "      <td>7586549521</td>\n",
       "      <td>1</td>\n",
       "      <td>T2coi9U5HI63yttsRxRgUeQ2xLzedwMv0LWMV_Xtp812gj...</td>\n",
       "      <td>1956361</td>\n",
       "      <td>3780</td>\n",
       "      <td>0</td>\n",
       "      <td>4</td>\n",
       "      <td>18</td>\n",
       "      <td>236</td>\n",
       "      <td>227461</td>\n",
       "      <td>...</td>\n",
       "      <td>38637</td>\n",
       "      <td>35625</td>\n",
       "      <td>26709</td>\n",
       "      <td>13168</td>\n",
       "      <td>3156</td>\n",
       "      <td>GameComplete</td>\n",
       "      <td>13</td>\n",
       "      <td>3</td>\n",
       "      <td>19</td>\n",
       "      <td>10.666667</td>\n",
       "    </tr>\n",
       "    <tr>\n",
       "      <th>1</th>\n",
       "      <td>7586549521</td>\n",
       "      <td>2</td>\n",
       "      <td>VzxkuEt2Ay_6P_1wY1FajjdMW8ty20cPLb0jmwqAAjA9Ns...</td>\n",
       "      <td>1956361</td>\n",
       "      <td>1597</td>\n",
       "      <td>0</td>\n",
       "      <td>142</td>\n",
       "      <td>17</td>\n",
       "      <td>22</td>\n",
       "      <td>171344</td>\n",
       "      <td>...</td>\n",
       "      <td>26859</td>\n",
       "      <td>44796</td>\n",
       "      <td>65212</td>\n",
       "      <td>2829</td>\n",
       "      <td>2577</td>\n",
       "      <td>GameComplete</td>\n",
       "      <td>12</td>\n",
       "      <td>10</td>\n",
       "      <td>14</td>\n",
       "      <td>2.600000</td>\n",
       "    </tr>\n",
       "    <tr>\n",
       "      <th>2</th>\n",
       "      <td>7586549521</td>\n",
       "      <td>3</td>\n",
       "      <td>-jMFYAy4ogcmItoiwYmQX7tG2fB59CvKQieQwZqYvcLw1x...</td>\n",
       "      <td>1956361</td>\n",
       "      <td>2454</td>\n",
       "      <td>0</td>\n",
       "      <td>8</td>\n",
       "      <td>17</td>\n",
       "      <td>232</td>\n",
       "      <td>259989</td>\n",
       "      <td>...</td>\n",
       "      <td>37478</td>\n",
       "      <td>31216</td>\n",
       "      <td>7563</td>\n",
       "      <td>1790</td>\n",
       "      <td>3254</td>\n",
       "      <td>GameComplete</td>\n",
       "      <td>4</td>\n",
       "      <td>11</td>\n",
       "      <td>19</td>\n",
       "      <td>2.090909</td>\n",
       "    </tr>\n",
       "    <tr>\n",
       "      <th>3</th>\n",
       "      <td>7586549521</td>\n",
       "      <td>4</td>\n",
       "      <td>CDtqv-NZS5cmtQI0bsfbxBhq29QlqmwX_YwgG5oW3PkhMm...</td>\n",
       "      <td>1956361</td>\n",
       "      <td>1339</td>\n",
       "      <td>0</td>\n",
       "      <td>16</td>\n",
       "      <td>18</td>\n",
       "      <td>199</td>\n",
       "      <td>130050</td>\n",
       "      <td>...</td>\n",
       "      <td>47278</td>\n",
       "      <td>33657</td>\n",
       "      <td>9483</td>\n",
       "      <td>2649</td>\n",
       "      <td>782</td>\n",
       "      <td>GameComplete</td>\n",
       "      <td>16</td>\n",
       "      <td>11</td>\n",
       "      <td>15</td>\n",
       "      <td>2.818182</td>\n",
       "    </tr>\n",
       "    <tr>\n",
       "      <th>4</th>\n",
       "      <td>7586549521</td>\n",
       "      <td>5</td>\n",
       "      <td>72aXoGzHe_SjiP1hNKnMXyx_UYND4_HE2j1Awp9E3l6pge...</td>\n",
       "      <td>1956361</td>\n",
       "      <td>1189</td>\n",
       "      <td>50</td>\n",
       "      <td>0</td>\n",
       "      <td>14</td>\n",
       "      <td>15</td>\n",
       "      <td>226379</td>\n",
       "      <td>...</td>\n",
       "      <td>12926</td>\n",
       "      <td>36143</td>\n",
       "      <td>3208</td>\n",
       "      <td>2008</td>\n",
       "      <td>2392</td>\n",
       "      <td>GameComplete</td>\n",
       "      <td>2</td>\n",
       "      <td>15</td>\n",
       "      <td>23</td>\n",
       "      <td>1.666667</td>\n",
       "    </tr>\n",
       "  </tbody>\n",
       "</table>\n",
       "<p>5 rows × 56 columns</p>\n",
       "</div>"
      ],
      "text/plain": [
       "      game_id  participant_id  \\\n",
       "0  7586549521               1   \n",
       "1  7586549521               2   \n",
       "2  7586549521               3   \n",
       "3  7586549521               4   \n",
       "4  7586549521               5   \n",
       "\n",
       "                                               puuid  frame_timestamp  \\\n",
       "0  T2coi9U5HI63yttsRxRgUeQ2xLzedwMv0LWMV_Xtp812gj...          1956361   \n",
       "1  VzxkuEt2Ay_6P_1wY1FajjdMW8ty20cPLb0jmwqAAjA9Ns...          1956361   \n",
       "2  -jMFYAy4ogcmItoiwYmQX7tG2fB59CvKQieQwZqYvcLw1x...          1956361   \n",
       "3  CDtqv-NZS5cmtQI0bsfbxBhq29QlqmwX_YwgG5oW3PkhMm...          1956361   \n",
       "4  72aXoGzHe_SjiP1hNKnMXyx_UYND4_HE2j1Awp9E3l6pge...          1956361   \n",
       "\n",
       "   current_gold  gold_per_second  jungle_minions_killed  level  \\\n",
       "0          3780                0                      4     18   \n",
       "1          1597                0                    142     17   \n",
       "2          2454                0                      8     17   \n",
       "3          1339                0                     16     18   \n",
       "4          1189               50                      0     14   \n",
       "\n",
       "   minions_killed  time_enemy_spent_controlled  ...  \\\n",
       "0             236                       227461  ...   \n",
       "1              22                       171344  ...   \n",
       "2             232                       259989  ...   \n",
       "3             199                       130050  ...   \n",
       "4              15                       226379  ...   \n",
       "\n",
       "   totalDamageDoneToChampions  totalDamageTaken  trueDamageDone  \\\n",
       "0                       38637             35625           26709   \n",
       "1                       26859             44796           65212   \n",
       "2                       37478             31216            7563   \n",
       "3                       47278             33657            9483   \n",
       "4                       12926             36143            3208   \n",
       "\n",
       "   trueDamageDoneToChampions  trueDamageTaken  end_of_game_result  kills  \\\n",
       "0                      13168             3156        GameComplete     13   \n",
       "1                       2829             2577        GameComplete     12   \n",
       "2                       1790             3254        GameComplete      4   \n",
       "3                       2649              782        GameComplete     16   \n",
       "4                       2008             2392        GameComplete      2   \n",
       "\n",
       "   deaths  assists        KDA  \n",
       "0       3       19  10.666667  \n",
       "1      10       14   2.600000  \n",
       "2      11       19   2.090909  \n",
       "3      11       15   2.818182  \n",
       "4      15       23   1.666667  \n",
       "\n",
       "[5 rows x 56 columns]"
      ]
     },
     "execution_count": 10,
     "metadata": {},
     "output_type": "execute_result"
    }
   ],
   "source": [
    "# merged_df에 병합\n",
    "\n",
    "merged_df = pd.merge(merged_df, kda_df[[\"game_id\", \"participant_id\", \"kills\", \"deaths\", \"assists\", \"KDA\"]],\n",
    "                     on=[\"game_id\", \"participant_id\"], how=\"left\")\n",
    "merged_df.head()"
   ]
  },
  {
   "cell_type": "markdown",
   "id": "4b76b1b9",
   "metadata": {},
   "source": [
    "## 유사도 기반 파생 지표 생성 (예시: 시야 점수, 미니언 수, 골드 등)"
   ]
  },
  {
   "cell_type": "markdown",
   "id": "016cf00b",
   "metadata": {},
   "source": [
    "### 성장 및 경제 지표        \n",
    "\n",
    "| 지표 | 의미 | 해석 |  \n",
    "| ---- | ---- | ---- |   \n",
    "| CS/Min | 분당 미니언 수급량 | 파밍 능력 |     \n",
    "| Gold/Min | 분당 골드 | 성장 속도 |        \n",
    "| XP/Min | 분당 경험치 | 레벨 성장 속도 |       \n",
    "\n",
    "\n"
   ]
  },
  {
   "cell_type": "code",
   "execution_count": 1,
   "id": "f410c370",
   "metadata": {},
   "outputs": [
    {
     "ename": "NameError",
     "evalue": "name 'merged_df' is not defined",
     "output_type": "error",
     "traceback": [
      "\u001b[1;31m---------------------------------------------------------------------------\u001b[0m",
      "\u001b[1;31mNameError\u001b[0m                                 Traceback (most recent call last)",
      "Cell \u001b[1;32mIn[1], line 3\u001b[0m\n\u001b[0;32m      1\u001b[0m \u001b[38;5;66;03m# 성장 및 경제 지표\u001b[39;00m\n\u001b[0;32m      2\u001b[0m \u001b[38;5;66;03m# CS (미니언 + 정글)\u001b[39;00m\n\u001b[1;32m----> 3\u001b[0m merged_df[\u001b[38;5;124m\"\u001b[39m\u001b[38;5;124mcs\u001b[39m\u001b[38;5;124m\"\u001b[39m] \u001b[38;5;241m=\u001b[39m \u001b[43mmerged_df\u001b[49m[\u001b[38;5;124m\"\u001b[39m\u001b[38;5;124mminions_killed\u001b[39m\u001b[38;5;124m\"\u001b[39m] \u001b[38;5;241m+\u001b[39m merged_df[\u001b[38;5;124m\"\u001b[39m\u001b[38;5;124mjungle_minions_killed\u001b[39m\u001b[38;5;124m\"\u001b[39m]\n\u001b[0;32m      5\u001b[0m \u001b[38;5;66;03m# 분당 CS\u001b[39;00m\n\u001b[0;32m      6\u001b[0m merged_df[\u001b[38;5;124m\"\u001b[39m\u001b[38;5;124mcs_per_min\u001b[39m\u001b[38;5;124m\"\u001b[39m] \u001b[38;5;241m=\u001b[39m merged_df[\u001b[38;5;124m\"\u001b[39m\u001b[38;5;124mcs\u001b[39m\u001b[38;5;124m\"\u001b[39m] \u001b[38;5;241m/\u001b[39m (merged_df[\u001b[38;5;124m\"\u001b[39m\u001b[38;5;124mframe_timestamp\u001b[39m\u001b[38;5;124m\"\u001b[39m] \u001b[38;5;241m/\u001b[39m \u001b[38;5;241m60000\u001b[39m)\n",
      "\u001b[1;31mNameError\u001b[0m: name 'merged_df' is not defined"
     ]
    }
   ],
   "source": [
    "# 성장 및 경제 지표\n",
    "# CS (미니언 + 정글)\n",
    "merged_df[\"cs\"] = merged_df[\"minions_killed\"] + merged_df[\"jungle_minions_killed\"]\n",
    "\n",
    "# 분당 CS\n",
    "merged_df[\"cs_per_min\"] = merged_df[\"cs\"] / (merged_df[\"frame_timestamp\"] / 60000)\n",
    "\n",
    "# 분당 골드\n",
    "merged_df[\"gold_per_min\"] = merged_df[\"total_gold\"] / (merged_df[\"frame_timestamp\"] / 60000)\n",
    "\n",
    "# 분당 경험치\n",
    "merged_df[\"xp_per_min\"] = merged_df[\"xp\"] / (merged_df[\"frame_timestamp\"] / 60000)"
   ]
  },
  {
   "cell_type": "markdown",
   "id": "ddaa2d34",
   "metadata": {},
   "source": [
    "### 전투 능력 지표\n",
    "\n",
    "지표 | 의미 | 해석\n",
    "---- | ---- | ----\n",
    "Damage/Min | 분당 딜량 | 전투 기여도\n",
    "Damage Taken/Min | 분당 받은 피해 | 탱킹 능력 또는 위험 노출\n",
    "KA/Min | 분당 킬 관여 수 | 싸움 참여율 (적극적인지 여부)\n",
    "Damage Efficiency | 피해 교환 비율 | 딜 효율 (딜을 얼마나 잘 넣고 덜 맞았는지)"
   ]
  },
  {
   "cell_type": "code",
   "execution_count": null,
   "id": "9abb96ef",
   "metadata": {},
   "outputs": [],
   "source": [
    "# 전투력 관련 지표\n",
    "# 분당 피해량\n",
    "merged_df[\"damage_per_min\"] = merged_df[\"totalDamageDoneToChampions\"] / (merged_df[\"frame_timestamp\"] / 60000)\n",
    "\n",
    "# 분당 받은 피해량\n",
    "merged_df[\"damage_taken_per_min\"] = merged_df[\"totalDamageTaken\"] / (merged_df[\"frame_timestamp\"] / 60000)\n",
    "\n",
    "# 분당 킬 관여율 (K+A)/시간\n",
    "merged_df[\"ka_per_min\"] = (merged_df[\"kills\"] + merged_df[\"assists\"]) / (merged_df[\"frame_timestamp\"] / 60000)\n",
    "\n",
    "# 피해 교환 효율 (딜량 / 받은 피해량)\n",
    "merged_df[\"damage_efficiency\"] = merged_df[\"totalDamageDoneToChampions\"] / merged_df[\"totalDamageTaken\"].replace(0, 1)\n"
   ]
  },
  {
   "cell_type": "markdown",
   "id": "51178c99",
   "metadata": {},
   "source": [
    "### 생존력 지표\n",
    "\n",
    "지표 | 의미 | 해석\n",
    "---- | ---- | ----\n",
    "survivability | 생존률 | \n",
    "healthregen_per_min | 분당 체력 재생 | \n"
   ]
  },
  {
   "cell_type": "code",
   "execution_count": 14,
   "id": "347895bd",
   "metadata": {},
   "outputs": [],
   "source": [
    "# 생존력 지표\n",
    "# 생존률 (1 - 데스 / 평균 생존시간) → 데스 적을수록 높음\n",
    "merged_df[\"survivability\"] = 1 / merged_df[\"deaths\"].replace(0, 1)\n",
    "\n",
    "# 분당 체력 재생\n",
    "merged_df[\"healthregen_per_min\"] = merged_df[\"healthregen\"] / (merged_df[\"frame_timestamp\"] / 60000)\n"
   ]
  },
  {
   "cell_type": "markdown",
   "id": "3484cf58",
   "metadata": {},
   "source": [
    "### 시야 장악 지표\n",
    "\n",
    "지표 | 의미 | 해석\n",
    "---- | ---- | ----\n",
    "Wards Placed/Min | 분당 설치 | 시야 제공 적극성\n",
    "Wards Killed/Min | 분당 제거 | 상대 시야 차단 능력\n",
    "Vision Score Est. | 설치+제거 총합 | 시야 장악 종합 평가 (approx.)"
   ]
  },
  {
   "cell_type": "code",
   "execution_count": 15,
   "id": "700a2ec5",
   "metadata": {},
   "outputs": [],
   "source": [
    "# 포지션 제어 / 시야 장악 지표\n",
    "wards_placed = pd.read_csv(\"data/top1000/events__WARD_PLACED.csv\")\n",
    "wards_killed = pd.read_csv(\"data/top1000/events__WARD_KILL.csv\")\n",
    "\n",
    "## 와드 설치 수\n",
    "ward_placed_count = (\n",
    "    wards_placed\n",
    "    .groupby([\"game_id\", \"creator_id\"])\n",
    "    .size()\n",
    "    .reset_index(name=\"wards_placed\")\n",
    "    .rename(columns={\"creator_id\": \"participant_id\"})\n",
    ")\n",
    "\n",
    "## 와드 제거 수\n",
    "ward_kill_count = (\n",
    "    wards_killed\n",
    "    .groupby([\"game_id\", \"killer_id\"])\n",
    "    .size()\n",
    "    .reset_index(name=\"wards_killed\")\n",
    "    .rename(columns={\"killer_id\": \"participant_id\"})\n",
    ")\n",
    "\n",
    "## merged_df에 와드 수 붙이기\n",
    "merged_df = (\n",
    "    merged_df\n",
    "    .merge(ward_placed_count, on=[\"game_id\", \"participant_id\"], how=\"left\")\n",
    "    .merge(ward_kill_count, on=[\"game_id\", \"participant_id\"], how=\"left\")\n",
    ")\n",
    "\n",
    "# 결측치는 0으로 처리\n",
    "merged_df[[\"wards_placed\", \"wards_killed\"]] = merged_df[[\"wards_placed\", \"wards_killed\"]].fillna(0).astype(int)\n",
    "\n",
    "## 시야 제어 파생 지표 추가\n",
    "# 분당 와드 설치\n",
    "merged_df[\"wards_placed_per_min\"] = merged_df[\"wards_placed\"] / (merged_df[\"frame_timestamp\"] / 60000)\n",
    "\n",
    "# 분당 와드 제거\n",
    "merged_df[\"wards_killed_per_min\"] = merged_df[\"wards_killed\"] / (merged_df[\"frame_timestamp\"] / 60000)\n",
    "\n",
    "# 종합 시야 지표 (설치 + 제거)\n",
    "merged_df[\"vision_score_est\"] = merged_df[\"wards_placed\"] + merged_df[\"wards_killed\"]\n"
   ]
  },
  {
   "cell_type": "markdown",
   "id": "933bcb7a",
   "metadata": {},
   "source": [
    "### 종합 능력치 지표\n",
    "기본 아이템 + 능력치 요약"
   ]
  },
  {
   "cell_type": "code",
   "execution_count": 16,
   "id": "fb85c0f3",
   "metadata": {},
   "outputs": [],
   "source": [
    "# 아이템/스탯 관련 종합 능력치\n",
    "# 전체 공격 스탯\n",
    "merged_df[\"offensive_score\"] = merged_df[\"attackdamage\"] + merged_df[\"attackspeed\"]\n",
    "\n",
    "# 전체 방어 스탯\n",
    "merged_df[\"defensive_score\"] = merged_df[\"armor\"] + merged_df[\"magicresist\"]\n",
    "\n",
    "# 전체 마법 능력치\n",
    "merged_df[\"magic_score\"] = merged_df[\"abilitypower\"] + merged_df[\"magicpen\"] + merged_df[\"magicpenpercent\"]\n"
   ]
  },
  {
   "cell_type": "markdown",
   "id": "d4671090",
   "metadata": {},
   "source": [
    "생존 또는 스킬 활용 능력"
   ]
  },
  {
   "cell_type": "code",
   "execution_count": 17,
   "id": "fb7b656b",
   "metadata": {},
   "outputs": [],
   "source": [
    "# 기타 유틸성 스탯\n",
    "# 만능 흡혈 + 물리 흡혈 + 주문 흡혈\n",
    "merged_df[\"total_vamp\"] = merged_df[[\"omnivamp\", \"physicalvamp\", \"spellvamp\"]].sum(axis=1)\n",
    "\n",
    "# 스킬 쿨다운 영향력\n",
    "merged_df[\"haste_score\"] = merged_df[\"cooldownreduction\"] + merged_df[\"abilityhaste\"]\n"
   ]
  },
  {
   "cell_type": "markdown",
   "id": "1dd7cfc0",
   "metadata": {},
   "source": [
    "## 3. 상위 1000명 필터링 및 일반 유저 선택"
   ]
  },
  {
   "cell_type": "code",
   "execution_count": 18,
   "id": "69b83e9c",
   "metadata": {},
   "outputs": [],
   "source": [
    "# Top 1000 유저 필터링\n",
    "top1000_puuids = merged_df.sort_values(\"KDA\", ascending=False)[\"puuid\"].unique()[:1000]\n",
    "merged_df[\"is_top1000\"] = merged_df[\"puuid\"].isin(top1000_puuids)\n"
   ]
  },
  {
   "cell_type": "code",
   "execution_count": 19,
   "id": "e6dde6cd",
   "metadata": {},
   "outputs": [],
   "source": [
    "# 상위 1000명의 유저와 아닌 유저 분리\n",
    "df_top = merged_df[merged_df[\"is_top1000\"] == True].copy()\n",
    "df_user = merged_df[merged_df[\"is_top1000\"] == False].copy()\n"
   ]
  },
  {
   "cell_type": "markdown",
   "id": "88a302bc",
   "metadata": {},
   "source": [
    "# 유사도 분석\n",
    "- 일반 유저와 Top1000 유저 간의 유사도를 수치로 계산\n",
    "- 가장 유사한 상위 10~20명을 추출"
   ]
  },
  {
   "cell_type": "markdown",
   "id": "b3e9ea34",
   "metadata": {},
   "source": [
    "## 유사도 계산용 피처 선택"
   ]
  },
  {
   "cell_type": "code",
   "execution_count": 20,
   "id": "10c29caf",
   "metadata": {},
   "outputs": [],
   "source": [
    "features = [\n",
    "    \"KDA\", \"cs_per_min\", \"gold_per_min\", \"xp_per_min\",\n",
    "    \"damage_per_min\", \"damage_taken_per_min\", \"ka_per_min\", \"damage_efficiency\",\n",
    "    \"survivability\", \"healthregen_per_min\",\n",
    "    \"offensive_score\", \"defensive_score\", \"magic_score\", \"total_vamp\", \"haste_score\",\n",
    "    \"wards_placed_per_min\", \"wards_killed_per_min\", \"vision_score_est\"\n",
    "]\n"
   ]
  },
  {
   "cell_type": "markdown",
   "id": "e2e7ae49",
   "metadata": {},
   "source": [
    "## 정규화 (Standard Scaler)"
   ]
  },
  {
   "cell_type": "code",
   "execution_count": null,
   "id": "09868586",
   "metadata": {},
   "outputs": [],
   "source": [
    "from sklearn.preprocessing import StandardScaler\n",
    "\n",
    "# 상위 유저 데이터만 추출\n",
    "X_top = merged_df[merged_df[\"is_top1000\"] == True][features].fillna(0)\n",
    "\n",
    "# 일반 유저 하나 선택 (예: puuid 기반)\n",
    "# target_puuid = df_user['puuid'].sample(1).values[0]\n",
    "target_puuid = '1nry226Ys8jmA4IrYNRAqBOLA09dO_oisz6Din8AyUOowu80Mp3ggYKg3moP6BbiDD8d8fw9t-3IVw' \n",
    "X_target = merged_df[merged_df[\"puuid\"] == target_puuid][features].fillna(0).iloc[0:1]\n",
    "\n",
    "# 스케일링\n",
    "scaler = StandardScaler()\n",
    "scaler.fit(pd.concat([X_top, X_target]))  # 전체 기준으로 학습\n",
    "X_top_scaled = scaler.transform(X_top)\n",
    "X_target_scaled = scaler.transform(X_target)\n"
   ]
  },
  {
   "cell_type": "markdown",
   "id": "63f70083",
   "metadata": {},
   "source": [
    "## 유사도 계산 (Cosine Similarity)"
   ]
  },
  {
   "cell_type": "code",
   "execution_count": 22,
   "id": "9ec1521a",
   "metadata": {},
   "outputs": [],
   "source": [
    "from sklearn.metrics.pairwise import cosine_similarity\n",
    "\n",
    "# 유사도 계산\n",
    "similarities = cosine_similarity(X_target_scaled, X_top_scaled)[0]  # 1행으로 나온 값\n"
   ]
  },
  {
   "cell_type": "markdown",
   "id": "ee8b7bef",
   "metadata": {},
   "source": [
    "## 유사도 상위 유저 추출"
   ]
  },
  {
   "cell_type": "code",
   "execution_count": 23,
   "id": "faf72381",
   "metadata": {},
   "outputs": [],
   "source": [
    "# 상위 유저 리스트 가져오기\n",
    "top_players = merged_df[merged_df[\"is_top1000\"] == True][[\"puuid\", \"game_id\", \"participant_id\"]].drop_duplicates()\n",
    "\n",
    "# 유사도 결과와 합치기\n",
    "top_players[\"similarity\"] = similarities\n",
    "\n",
    "# 상위 10명 추출\n",
    "top_similar_players = top_players.sort_values(\"similarity\", ascending=False).head(10)\n"
   ]
  },
  {
   "cell_type": "code",
   "execution_count": 24,
   "id": "bf2c9321",
   "metadata": {},
   "outputs": [
    {
     "name": "stdout",
     "output_type": "stream",
     "text": [
      "                                                  puuid     game_id  \\\n",
      "5908  N8s2Toz0lAW-qfSH3A0NufmmkZeVXQoqKYMDedmESurz6n...  7587157805   \n",
      "5323  JkAtetPeV8eLH-GNF14_7Z96cIMbONg0x-7yil5ZrhqURu...  7586075765   \n",
      "1815  _v3N7CJjg-9RvLsJjD-ciWb4ZtXdigRT2miD8SYenA7wnK...  7586550262   \n",
      "3148  0S7Qb-aNl4ZarGy2KldZFAAN4qum5qqCeGLJDv4vUn-d2V...  7587236000   \n",
      "4267  znTmuVKGw2_g_dApzVG2sId1sO0scMTJeeXryiMC-uNysp...  7586830524   \n",
      "4335  EVMY5lU8NxM93WsfJe1FH5irgp_daSX36OzDqSLmhoycEu...  7587377295   \n",
      "4541  BMLYrja7g84tXOAYN6an9UVxswRCySLhffkA_x8VKlFi-s...  7586513486   \n",
      "8122  mkuS-q15u1Xgel-8i20FgzR0qO16_5dV3IdJOiu6rGtQIm...  7587139551   \n",
      "2616  7UDpSRt0mNr-aRORdAY9-LXLEexD2goynSIcH63l2jRdYg...  7585750368   \n",
      "1907  SpupeSpNpf9A7EavhpubnhV0eYdogaVhD1asHUcIhfA3Tq...  7585778619   \n",
      "\n",
      "      participant_id  similarity  \n",
      "5908               9    0.960775  \n",
      "5323               4    0.925255  \n",
      "1815               6    0.917426  \n",
      "3148               9    0.913063  \n",
      "4267               8    0.901022  \n",
      "4335               6    0.900476  \n",
      "4541               2    0.898614  \n",
      "8122               3    0.892541  \n",
      "2616               7    0.891998  \n",
      "1907               8    0.890968  \n"
     ]
    }
   ],
   "source": [
    "# 유사도(similarity)가 높은 상위 유저 10명 추출\n",
    "print(top_similar_players[[\"puuid\", \"game_id\", \"participant_id\", \"similarity\"]])\n"
   ]
  },
  {
   "cell_type": "markdown",
   "id": "db420dce",
   "metadata": {},
   "source": [
    "## 데이터 추출"
   ]
  },
  {
   "cell_type": "code",
   "execution_count": 25,
   "id": "7fabf596",
   "metadata": {},
   "outputs": [],
   "source": [
    "export_df = top_similar_players[[\"puuid\", \"game_id\", \"participant_id\", \"similarity\"]]"
   ]
  },
  {
   "cell_type": "code",
   "execution_count": 26,
   "id": "a511fdce",
   "metadata": {},
   "outputs": [],
   "source": [
    "export_df.to_csv(\"top_similar_users.csv\", index=False)\n"
   ]
  },
  {
   "cell_type": "markdown",
   "id": "ca493658",
   "metadata": {},
   "source": [
    "## 데이터 시각화"
   ]
  },
  {
   "cell_type": "markdown",
   "id": "d84cc049",
   "metadata": {},
   "source": [
    "### 2차원 좌표 생성 (PCA or t-SNE)"
   ]
  },
  {
   "cell_type": "code",
   "execution_count": 27,
   "id": "3680cc09",
   "metadata": {},
   "outputs": [],
   "source": [
    "from sklearn.decomposition import PCA\n",
    "\n",
    "# 해당 유저들만 필터링\n",
    "similar_puuids = top_similar_players[\"puuid\"].tolist()\n",
    "X_vis = merged_df[merged_df[\"puuid\"].isin(similar_puuids)][features].fillna(0)\n",
    "\n",
    "# PCA로 2D 압축\n",
    "pca = PCA(n_components=2)\n",
    "X_pca = pca.fit_transform(scaler.transform(X_vis))\n",
    "\n",
    "# 위치 + 메타데이터 결합\n",
    "plot_df = merged_df[merged_df[\"puuid\"].isin(similar_puuids)].copy()\n",
    "plot_df = plot_df.reset_index(drop=True)\n",
    "plot_df[\"x\"] = X_pca[:, 0]\n",
    "plot_df[\"y\"] = X_pca[:, 1]\n"
   ]
  },
  {
   "cell_type": "code",
   "execution_count": 28,
   "id": "082cca4a",
   "metadata": {},
   "outputs": [],
   "source": [
    "# similarity 정보 복원\n",
    "similarity_map = top_similar_players.set_index(\"puuid\")[\"similarity\"].to_dict()\n",
    "plot_df[\"similarity\"] = plot_df[\"puuid\"].map(similarity_map)\n"
   ]
  },
  {
   "cell_type": "markdown",
   "id": "0e951c0c",
   "metadata": {},
   "source": [
    "### matplotlib + interactive 클릭 이벤트 시각화"
   ]
  },
  {
   "cell_type": "code",
   "execution_count": null,
   "id": "7afe1e55",
   "metadata": {},
   "outputs": [
    {
     "data": {
      "image/png": "[encoded data removed]",
      "text/plain": [
       "<Figure size 1000x600 with 2 Axes>"
      ]
     },
     "metadata": {},
     "output_type": "display_data"
    }
   ],
   "source": [
    "import matplotlib.pyplot as plt\n",
    "\n",
    "fig, ax = plt.subplots(figsize=(10, 6))\n",
    "scatter = ax.scatter(plot_df[\"x\"], plot_df[\"y\"], c=plot_df[\"similarity\"], cmap=\"viridis\", s=100)\n",
    "\n",
    "# 텍스트 박스 준비\n",
    "annot = ax.annotate(\"\", xy=(0,0), xytext=(20,20), textcoords=\"offset points\",\n",
    "                    bbox=dict(boxstyle=\"round\", fc=\"w\"),\n",
    "                    arrowprops=dict(arrowstyle=\"->\"))\n",
    "annot.set_visible(False)\n",
    "\n",
    "def update_annot(ind):\n",
    "    i = ind[\"ind\"][0]\n",
    "    row = plot_df.iloc[i]\n",
    "    text = f\"\"\"PUUID: {row['puuid']}\n",
    "                KDA: {row['KDA']:.2f}\n",
    "                CS/Min: {row['cs_per_min']:.2f}\n",
    "                Gold/Min: {row['gold_per_min']:.2f}\n",
    "                Damage/Min: {row['damage_per_min']:.2f}\n",
    "                Vision Score: {row['vision_score_est']}\n",
    "                Similarity: {row['similarity']:.2f}\n",
    "            \"\"\"\n",
    "    annot.xy = (row[\"x\"], row[\"y\"])\n",
    "    annot.set_text(text)\n",
    "    annot.get_bbox_patch().set_alpha(0.9)\n",
    "\n",
    "def on_click(event):\n",
    "    vis = annot.get_visible()\n",
    "    if event.inaxes == ax:\n",
    "        cont, ind = scatter.contains(event)\n",
    "        if cont:\n",
    "            update_annot(ind)\n",
    "            annot.set_visible(True)\n",
    "            fig.canvas.draw_idle()\n",
    "        else:\n",
    "            if vis:\n",
    "                annot.set_visible(False)\n",
    "                fig.canvas.draw_idle()\n",
    "\n",
    "fig.canvas.mpl_connect(\"button_press_event\", on_click)\n",
    "\n",
    "# 기준 유저 좌표\n",
    "target_row = merged_df[merged_df[\"puuid\"] == target_puuid].copy()\n",
    "target_scaled = scaler.transform(target_row[features].fillna(0))\n",
    "target_pca = pca.transform(target_scaled)\n",
    "ax.scatter(target_pca[:, 0], target_pca[:, 1], c=\"red\", marker=\"*\", s=200, label=\"Target User\")\n",
    "ax.legend()\n",
    "\n",
    "\n",
    "plt.title(\"Top Similar LoL Players (Click to View Info)\")\n",
    "plt.xlabel(\"PCA Dimension 1\")\n",
    "plt.ylabel(\"PCA Dimension 2\")\n",
    "plt.colorbar(scatter, label=\"Similarity\")\n",
    "plt.tight_layout()\n",
    "plt.show()\n"
   ]
  },
  {
   "cell_type": "markdown",
   "id": "d094ccfb",
   "metadata": {},
   "source": [
    "### 상대적 거리 좌표 생성 (유사도 → 거리 변환)"
   ]
  },
  {
   "cell_type": "code",
   "execution_count": 30,
   "id": "3e45c553",
   "metadata": {},
   "outputs": [],
   "source": [
    "import numpy as np\n",
    "\n",
    "# 유사도 기반 거리 계산 (0~1 사이 → 가까울수록 유사함)\n",
    "top_similar_players[\"distance\"] = 1 - top_similar_players[\"similarity\"]\n",
    "\n",
    "# 간단한 원형 배치: 유사한 순서대로 각도를 나눠서 원 주변에 배치\n",
    "angles = np.linspace(0, 2 * np.pi, len(top_similar_players), endpoint=False)\n",
    "top_similar_players[\"x\"] = np.cos(angles) * top_similar_players[\"distance\"]\n",
    "top_similar_players[\"y\"] = np.sin(angles) * top_similar_players[\"distance\"]\n",
    "\n",
    "# 파생 지표 붙이기 (중복 제거 주의!)\n",
    "top_features = merged_df[[\"game_id\", \"participant_id\", \"KDA\", \"cs_per_min\", \"gold_per_min\"]].copy()\n",
    "top_similar_players = pd.merge(\n",
    "    top_similar_players,\n",
    "    top_features,\n",
    "    on=[\"game_id\", \"participant_id\"],\n",
    "    how=\"left\"\n",
    ")\n",
    "\n",
    "# 기준 유저 좌표 (항상 중심)\n",
    "target_user_df = pd.DataFrame({\n",
    "    \"puuid\": [target_puuid],\n",
    "    \"x\": [0.0],\n",
    "    \"y\": [0.0],\n",
    "    \"KDA\": merged_df.loc[merged_df[\"puuid\"] == target_puuid, \"KDA\"].values[0],\n",
    "    \"cs_per_min\": merged_df.loc[merged_df[\"puuid\"] == target_puuid, \"cs_per_min\"].values[0],\n",
    "    \"gold_per_min\": merged_df.loc[merged_df[\"puuid\"] == target_puuid, \"gold_per_min\"].values[0],\n",
    "    \"label\": [\"Target\"]\n",
    "})\n",
    "\n",
    "# 상위 유저 + 타겟 유저 병합\n",
    "top_similar_players[\"label\"] = \"Top\"\n",
    "plot_df = pd.concat([top_similar_players, target_user_df], ignore_index=True)\n"
   ]
  },
  {
   "cell_type": "code",
   "execution_count": 31,
   "id": "bfefcc4c",
   "metadata": {},
   "outputs": [],
   "source": [
    "# import plotly.express as px\n",
    "\n",
    "# # Plotly용 데이터 준비\n",
    "# fig = px.scatter(\n",
    "#     plot_df,\n",
    "#     x=\"x\", y=\"y\",\n",
    "#     color=\"similarity\",\n",
    "#     hover_data=[\"puuid\", \"KDA\", \"cs_per_min\", \"gold_per_min\", \"similarity\"],\n",
    "#     text=\"label\",\n",
    "#     color_continuous_scale=\"Viridis\",\n",
    "#     title=\"Similarity-based Positioning (Target User = Center)\"\n",
    "# )\n",
    "\n",
    "# # 기준 유저 강조 (색 없음, hover로만 표시됨)\n",
    "# fig.update_traces(marker=dict(size=14, line=dict(width=1, color='DarkSlateGrey')))\n",
    "\n",
    "# fig.show()\n"
   ]
  },
  {
   "cell_type": "markdown",
   "id": "cddecb73",
   "metadata": {},
   "source": [
    "### Plotly로 시각화"
   ]
  },
  {
   "cell_type": "code",
   "execution_count": 32,
   "id": "ea00d74c",
   "metadata": {},
   "outputs": [
    {
     "data": {
      "application/vnd.plotly.v1+json": {
       "config": {
        "plotlyServerURL": "https://plot.ly"
       },
       "data": [
        {
         "customdata": [
          [
           "N8s2Toz0lAW-qfSH3A0NufmmkZeVXQoqKYMDedmESurz6nYyw9a3mZJrv86FWwJhfrJvzm86fh6nqQ",
           3.3333333333333335,
           8.574889365937901,
           517.6115035438878,
           0.9607753714347762
          ],
          [
           "JkAtetPeV8eLH-GNF14_7Z96cIMbONg0x-7yil5ZrhqURu1J2aBCvTE4mgKK54Top4cV2_ZyomqDtA",
           5.166666666666667,
           8.571203190496952,
           519.0993800398497,
           0.9252550233389428
          ],
          [
           "_v3N7CJjg-9RvLsJjD-ciWb4ZtXdigRT2miD8SYenA7wnKNRaDu_8xnSAVAuM9SY0llbH5twTXb76Q",
           3.6666666666666665,
           6.632732535060524,
           471.2556466160502,
           0.9174257127061376
          ],
          [
           "0S7Qb-aNl4ZarGy2KldZFAAN4qum5qqCeGLJDv4vUn-d2VKjpeLmXgJMGSW8uzUWwxi38XE1rpw4dg",
           10,
           6.6060168558050005,
           591.4925861659246,
           0.9130628132235096
          ],
          [
           "znTmuVKGw2_g_dApzVG2sId1sO0scMTJeeXryiMC-uNysp_6Ns5tyDd7l-JtypWk1NRIMOAmE6sHKw",
           1.6,
           8.204456936827434,
           472.2120770307346,
           0.9010223332585032
          ],
          [
           "EVMY5lU8NxM93WsfJe1FH5irgp_daSX36OzDqSLmhoycEuynfYSCGtOHwsajrnAitJgUjNsCoGcCQw",
           3.4,
           8.544044729325378,
           474.74859416502517,
           0.9004759054823054
          ],
          [
           "BMLYrja7g84tXOAYN6an9UVxswRCySLhffkA_x8VKlFi-sx5fQXjSYPTsam2OaaXA984lzrj8IySTA",
           3.75,
           7.966531616053456,
           496.6774416244563,
           0.8986142670044016
          ],
          [
           "mkuS-q15u1Xgel-8i20FgzR0qO16_5dV3IdJOiu6rGtQIm6l0Of_YfL2QTsHrBY3mqOw2AwMpku6NA",
           4.4,
           8.686749959513335,
           496.3464719949596,
           0.8925413033743853
          ],
          [
           "7UDpSRt0mNr-aRORdAY9-LXLEexD2goynSIcH63l2jRdYgMp2dtNJYa7uONaudzREUYs8X0D0FodYQ",
           7.25,
           7.296867169759098,
           525.7518603866081,
           0.8919980735402439
          ],
          [
           "SpupeSpNpf9A7EavhpubnhV0eYdogaVhD1asHUcIhfA3Tq6LcSDeKqGJU2hC8ZxgzRAeelUkjpy8sg",
           2.9,
           6.295404779875879,
           456.6437079745103,
           0.8909677399962531
          ],
          [
           "1nry226Ys8jmA4IrYNRAqBOLA09dO_oisz6Din8AyUOowu80Mp3ggYKg3moP6BbiDD8d8fw9t-3IVw",
           5.5,
           7.941692605259449,
           476.95699388432735,
           null
          ]
         ],
         "hovertemplate": "x=%{x}<br>y=%{y}<br>label=%{text}<br>puuid=%{customdata[0]}<br>KDA=%{customdata[1]}<br>cs_per_min=%{customdata[2]}<br>gold_per_min=%{customdata[3]}<br>similarity=%{marker.color}<extra></extra>",
         "legendgroup": "",
         "marker": {
          "color": {
           "bdata": "8Krj/au+7j9NajZssJvtP6KiEiuNW+0/raM/gc837T/E8snJLNXsP1k9nNiy0Ow/5RcQtXLB7D91T4rHso/sP0VpPos/i+w/5WUix86C7D8AAAAAAAD4fw==",
           "dtype": "f8"
          },
          "coloraxis": "coloraxis",
          "line": {
           "color": "DarkSlateGrey",
           "width": 1
          },
          "size": 14,
          "symbol": "circle"
         },
         "mode": "markers+text",
         "name": "",
         "orientation": "v",
         "showlegend": false,
         "text": [
          "Top",
          "Top",
          "Top",
          "Top",
          "Top",
          "Top",
          "Top",
          "Top",
          "Top",
          "Top",
          "Target"
         ],
         "type": "scatter",
         "x": {
          "bdata": "AFHFIUAVpD/DWfAJ6/WuP4/JqlsXIZo/LNaONISCm7/BpVUaxX+0vzgVHjtperm/nLHW6XH/tL+XCxFgcwChv3r2xBB0FqE/lz30oNyUtj8AAAAAAAAAAA==",
          "dtype": "f8"
         },
         "xaxis": "x",
         "y": {
          "bdata": "AAAAAAAAAAAC1Rs/hH6mP5gl1fu5GrQ/wjZwwqgqtT/2BNHAdMmtPwrWpaaiGmw8JT8fkPqCrr+Q4O+fuym6v5obm3GXS7q/4UB2vgposL8AAAAAAAAAAA==",
          "dtype": "f8"
         },
         "yaxis": "y"
        },
        {
         "customdata": {
          "bdata": "AAAAAAAAFkDC5fkQS8QfQIe60dhPz31A",
          "dtype": "f8",
          "shape": "1, 3"
         },
         "hovertemplate": "x=%{x}<br>y=%{y}<br>text=%{text}<br>KDA=%{customdata[0]}<br>cs_per_min=%{customdata[1]}<br>gold_per_min=%{customdata[2]}<extra></extra>",
         "legendgroup": "",
         "marker": {
          "color": "red",
          "size": 16,
          "symbol": "star"
         },
         "mode": "markers+text",
         "name": "",
         "orientation": "v",
         "showlegend": false,
         "text": [
          "You"
         ],
         "type": "scatter",
         "x": {
          "bdata": "AAAAAAAAAAA=",
          "dtype": "f8"
         },
         "xaxis": "x",
         "y": {
          "bdata": "AAAAAAAAAAA=",
          "dtype": "f8"
         },
         "yaxis": "y"
        }
       ],
       "layout": {
        "coloraxis": {
         "colorbar": {
          "title": {
           "text": "similarity"
          }
         },
         "colorscale": [
          [
           0,
           "#440154"
          ],
          [
           0.1111111111111111,
           "#482878"
          ],
          [
           0.2222222222222222,
           "#3e4989"
          ],
          [
           0.3333333333333333,
           "#31688e"
          ],
          [
           0.4444444444444444,
           "#26828e"
          ],
          [
           0.5555555555555556,
           "#1f9e89"
          ],
          [
           0.6666666666666666,
           "#35b779"
          ],
          [
           0.7777777777777778,
           "#6ece58"
          ],
          [
           0.8888888888888888,
           "#b5de2b"
          ],
          [
           1,
           "#fde725"
          ]
         ]
        },
        "legend": {
         "tracegroupgap": 0
        },
        "template": {
         "data": {
          "bar": [
           {
            "error_x": {
             "color": "#2a3f5f"
            },
            "error_y": {
             "color": "#2a3f5f"
            },
            "marker": {
             "line": {
              "color": "#E5ECF6",
              "width": 0.5
             },
             "pattern": {
              "fillmode": "overlay",
              "size": 10,
              "solidity": 0.2
             }
            },
            "type": "bar"
           }
          ],
          "barpolar": [
           {
            "marker": {
             "line": {
              "color": "#E5ECF6",
              "width": 0.5
             },
             "pattern": {
              "fillmode": "overlay",
              "size": 10,
              "solidity": 0.2
             }
            },
            "type": "barpolar"
           }
          ],
          "carpet": [
           {
            "aaxis": {
             "endlinecolor": "#2a3f5f",
             "gridcolor": "white",
             "linecolor": "white",
             "minorgridcolor": "white",
             "startlinecolor": "#2a3f5f"
            },
            "baxis": {
             "endlinecolor": "#2a3f5f",
             "gridcolor": "white",
             "linecolor": "white",
             "minorgridcolor": "white",
             "startlinecolor": "#2a3f5f"
            },
            "type": "carpet"
           }
          ],
          "choropleth": [
           {
            "colorbar": {
             "outlinewidth": 0,
             "ticks": ""
            },
            "type": "choropleth"
           }
          ],
          "contour": [
           {
            "colorbar": {
             "outlinewidth": 0,
             "ticks": ""
            },
            "colorscale": [
             [
              0,
              "#0d0887"
             ],
             [
              0.1111111111111111,
              "#46039f"
             ],
             [
              0.2222222222222222,
              "#7201a8"
             ],
             [
              0.3333333333333333,
              "#9c179e"
             ],
             [
              0.4444444444444444,
              "#bd3786"
             ],
             [
              0.5555555555555556,
              "#d8576b"
             ],
             [
              0.6666666666666666,
              "#ed7953"
             ],
             [
              0.7777777777777778,
              "#fb9f3a"
             ],
             [
              0.8888888888888888,
              "#fdca26"
             ],
             [
              1,
              "#f0f921"
             ]
            ],
            "type": "contour"
           }
          ],
          "contourcarpet": [
           {
            "colorbar": {
             "outlinewidth": 0,
             "ticks": ""
            },
            "type": "contourcarpet"
           }
          ],
          "heatmap": [
           {
            "colorbar": {
             "outlinewidth": 0,
             "ticks": ""
            },
            "colorscale": [
             [
              0,
              "#0d0887"
             ],
             [
              0.1111111111111111,
              "#46039f"
             ],
             [
              0.2222222222222222,
              "#7201a8"
             ],
             [
              0.3333333333333333,
              "#9c179e"
             ],
             [
              0.4444444444444444,
              "#bd3786"
             ],
             [
              0.5555555555555556,
              "#d8576b"
             ],
             [
              0.6666666666666666,
              "#ed7953"
             ],
             [
              0.7777777777777778,
              "#fb9f3a"
             ],
             [
              0.8888888888888888,
              "#fdca26"
             ],
             [
              1,
              "#f0f921"
             ]
            ],
            "type": "heatmap"
           }
          ],
          "histogram": [
           {
            "marker": {
             "pattern": {
              "fillmode": "overlay",
              "size": 10,
              "solidity": 0.2
             }
            },
            "type": "histogram"
           }
          ],
          "histogram2d": [
           {
            "colorbar": {
             "outlinewidth": 0,
             "ticks": ""
            },
            "colorscale": [
             [
              0,
              "#0d0887"
             ],
             [
              0.1111111111111111,
              "#46039f"
             ],
             [
              0.2222222222222222,
              "#7201a8"
             ],
             [
              0.3333333333333333,
              "#9c179e"
             ],
             [
              0.4444444444444444,
              "#bd3786"
             ],
             [
              0.5555555555555556,
              "#d8576b"
             ],
             [
              0.6666666666666666,
              "#ed7953"
             ],
             [
              0.7777777777777778,
              "#fb9f3a"
             ],
             [
              0.8888888888888888,
              "#fdca26"
             ],
             [
              1,
              "#f0f921"
             ]
            ],
            "type": "histogram2d"
           }
          ],
          "histogram2dcontour": [
           {
            "colorbar": {
             "outlinewidth": 0,
             "ticks": ""
            },
            "colorscale": [
             [
              0,
              "#0d0887"
             ],
             [
              0.1111111111111111,
              "#46039f"
             ],
             [
              0.2222222222222222,
              "#7201a8"
             ],
             [
              0.3333333333333333,
              "#9c179e"
             ],
             [
              0.4444444444444444,
              "#bd3786"
             ],
             [
              0.5555555555555556,
              "#d8576b"
             ],
             [
              0.6666666666666666,
              "#ed7953"
             ],
             [
              0.7777777777777778,
              "#fb9f3a"
             ],
             [
              0.8888888888888888,
              "#fdca26"
             ],
             [
              1,
              "#f0f921"
             ]
            ],
            "type": "histogram2dcontour"
           }
          ],
          "mesh3d": [
           {
            "colorbar": {
             "outlinewidth": 0,
             "ticks": ""
            },
            "type": "mesh3d"
           }
          ],
          "parcoords": [
           {
            "line": {
             "colorbar": {
              "outlinewidth": 0,
              "ticks": ""
             }
            },
            "type": "parcoords"
           }
          ],
          "pie": [
           {
            "automargin": true,
            "type": "pie"
           }
          ],
          "scatter": [
           {
            "fillpattern": {
             "fillmode": "overlay",
             "size": 10,
             "solidity": 0.2
            },
            "type": "scatter"
           }
          ],
          "scatter3d": [
           {
            "line": {
             "colorbar": {
              "outlinewidth": 0,
              "ticks": ""
             }
            },
            "marker": {
             "colorbar": {
              "outlinewidth": 0,
              "ticks": ""
             }
            },
            "type": "scatter3d"
           }
          ],
          "scattercarpet": [
           {
            "marker": {
             "colorbar": {
              "outlinewidth": 0,
              "ticks": ""
             }
            },
            "type": "scattercarpet"
           }
          ],
          "scattergeo": [
           {
            "marker": {
             "colorbar": {
              "outlinewidth": 0,
              "ticks": ""
             }
            },
            "type": "scattergeo"
           }
          ],
          "scattergl": [
           {
            "marker": {
             "colorbar": {
              "outlinewidth": 0,
              "ticks": ""
             }
            },
            "type": "scattergl"
           }
          ],
          "scattermap": [
           {
            "marker": {
             "colorbar": {
              "outlinewidth": 0,
              "ticks": ""
             }
            },
            "type": "scattermap"
           }
          ],
          "scattermapbox": [
           {
            "marker": {
             "colorbar": {
              "outlinewidth": 0,
              "ticks": ""
             }
            },
            "type": "scattermapbox"
           }
          ],
          "scatterpolar": [
           {
            "marker": {
             "colorbar": {
              "outlinewidth": 0,
              "ticks": ""
             }
            },
            "type": "scatterpolar"
           }
          ],
          "scatterpolargl": [
           {
            "marker": {
             "colorbar": {
              "outlinewidth": 0,
              "ticks": ""
             }
            },
            "type": "scatterpolargl"
           }
          ],
          "scatterternary": [
           {
            "marker": {
             "colorbar": {
              "outlinewidth": 0,
              "ticks": ""
             }
            },
            "type": "scatterternary"
           }
          ],
          "surface": [
           {
            "colorbar": {
             "outlinewidth": 0,
             "ticks": ""
            },
            "colorscale": [
             [
              0,
              "#0d0887"
             ],
             [
              0.1111111111111111,
              "#46039f"
             ],
             [
              0.2222222222222222,
              "#7201a8"
             ],
             [
              0.3333333333333333,
              "#9c179e"
             ],
             [
              0.4444444444444444,
              "#bd3786"
             ],
             [
              0.5555555555555556,
              "#d8576b"
             ],
             [
              0.6666666666666666,
              "#ed7953"
             ],
             [
              0.7777777777777778,
              "#fb9f3a"
             ],
             [
              0.8888888888888888,
              "#fdca26"
             ],
             [
              1,
              "#f0f921"
             ]
            ],
            "type": "surface"
           }
          ],
          "table": [
           {
            "cells": {
             "fill": {
              "color": "#EBF0F8"
             },
             "line": {
              "color": "white"
             }
            },
            "header": {
             "fill": {
              "color": "#C8D4E3"
             },
             "line": {
              "color": "white"
             }
            },
            "type": "table"
           }
          ]
         },
         "layout": {
          "annotationdefaults": {
           "arrowcolor": "#2a3f5f",
           "arrowhead": 0,
           "arrowwidth": 1
          },
          "autotypenumbers": "strict",
          "coloraxis": {
           "colorbar": {
            "outlinewidth": 0,
            "ticks": ""
           }
          },
          "colorscale": {
           "diverging": [
            [
             0,
             "#8e0152"
            ],
            [
             0.1,
             "#c51b7d"
            ],
            [
             0.2,
             "#de77ae"
            ],
            [
             0.3,
             "#f1b6da"
            ],
            [
             0.4,
             "#fde0ef"
            ],
            [
             0.5,
             "#f7f7f7"
            ],
            [
             0.6,
             "#e6f5d0"
            ],
            [
             0.7,
             "#b8e186"
            ],
            [
             0.8,
             "#7fbc41"
            ],
            [
             0.9,
             "#4d9221"
            ],
            [
             1,
             "#276419"
            ]
           ],
           "sequential": [
            [
             0,
             "#0d0887"
            ],
            [
             0.1111111111111111,
             "#46039f"
            ],
            [
             0.2222222222222222,
             "#7201a8"
            ],
            [
             0.3333333333333333,
             "#9c179e"
            ],
            [
             0.4444444444444444,
             "#bd3786"
            ],
            [
             0.5555555555555556,
             "#d8576b"
            ],
            [
             0.6666666666666666,
             "#ed7953"
            ],
            [
             0.7777777777777778,
             "#fb9f3a"
            ],
            [
             0.8888888888888888,
             "#fdca26"
            ],
            [
             1,
             "#f0f921"
            ]
           ],
           "sequentialminus": [
            [
             0,
             "#0d0887"
            ],
            [
             0.1111111111111111,
             "#46039f"
            ],
            [
             0.2222222222222222,
             "#7201a8"
            ],
            [
             0.3333333333333333,
             "#9c179e"
            ],
            [
             0.4444444444444444,
             "#bd3786"
            ],
            [
             0.5555555555555556,
             "#d8576b"
            ],
            [
             0.6666666666666666,
             "#ed7953"
            ],
            [
             0.7777777777777778,
             "#fb9f3a"
            ],
            [
             0.8888888888888888,
             "#fdca26"
            ],
            [
             1,
             "#f0f921"
            ]
           ]
          },
          "colorway": [
           "#636efa",
           "#EF553B",
           "#00cc96",
           "#ab63fa",
           "#FFA15A",
           "#19d3f3",
           "#FF6692",
           "#B6E880",
           "#FF97FF",
           "#FECB52"
          ],
          "font": {
           "color": "#2a3f5f"
          },
          "geo": {
           "bgcolor": "white",
           "lakecolor": "white",
           "landcolor": "#E5ECF6",
           "showlakes": true,
           "showland": true,
           "subunitcolor": "white"
          },
          "hoverlabel": {
           "align": "left"
          },
          "hovermode": "closest",
          "mapbox": {
           "style": "light"
          },
          "paper_bgcolor": "white",
          "plot_bgcolor": "#E5ECF6",
          "polar": {
           "angularaxis": {
            "gridcolor": "white",
            "linecolor": "white",
            "ticks": ""
           },
           "bgcolor": "#E5ECF6",
           "radialaxis": {
            "gridcolor": "white",
            "linecolor": "white",
            "ticks": ""
           }
          },
          "scene": {
           "xaxis": {
            "backgroundcolor": "#E5ECF6",
            "gridcolor": "white",
            "gridwidth": 2,
            "linecolor": "white",
            "showbackground": true,
            "ticks": "",
            "zerolinecolor": "white"
           },
           "yaxis": {
            "backgroundcolor": "#E5ECF6",
            "gridcolor": "white",
            "gridwidth": 2,
            "linecolor": "white",
            "showbackground": true,
            "ticks": "",
            "zerolinecolor": "white"
           },
           "zaxis": {
            "backgroundcolor": "#E5ECF6",
            "gridcolor": "white",
            "gridwidth": 2,
            "linecolor": "white",
            "showbackground": true,
            "ticks": "",
            "zerolinecolor": "white"
           }
          },
          "shapedefaults": {
           "line": {
            "color": "#2a3f5f"
           }
          },
          "ternary": {
           "aaxis": {
            "gridcolor": "white",
            "linecolor": "white",
            "ticks": ""
           },
           "baxis": {
            "gridcolor": "white",
            "linecolor": "white",
            "ticks": ""
           },
           "bgcolor": "#E5ECF6",
           "caxis": {
            "gridcolor": "white",
            "linecolor": "white",
            "ticks": ""
           }
          },
          "title": {
           "x": 0.05
          },
          "xaxis": {
           "automargin": true,
           "gridcolor": "white",
           "linecolor": "white",
           "ticks": "",
           "title": {
            "standoff": 15
           },
           "zerolinecolor": "white",
           "zerolinewidth": 2
          },
          "yaxis": {
           "automargin": true,
           "gridcolor": "white",
           "linecolor": "white",
           "ticks": "",
           "title": {
            "standoff": 15
           },
           "zerolinecolor": "white",
           "zerolinewidth": 2
          }
         }
        },
        "title": {
         "text": "Similarity-based Positioning (Target User = Center)"
        },
        "xaxis": {
         "anchor": "y",
         "domain": [
          0,
          1
         ],
         "title": {
          "text": "x"
         }
        },
        "yaxis": {
         "anchor": "x",
         "domain": [
          0,
          1
         ],
         "title": {
          "text": "y"
         }
        }
       }
      }
     },
     "metadata": {},
     "output_type": "display_data"
    }
   ],
   "source": [
    "# 기준 유저 따로 빨간 점으로 표시\n",
    "import plotly.express as px\n",
    "import plotly.graph_objects as go\n",
    "import plotly.express as px\n",
    "\n",
    "# Plotly용 데이터 준비\n",
    "fig = px.scatter(\n",
    "    plot_df,\n",
    "    x=\"x\", y=\"y\",\n",
    "    color=\"similarity\",\n",
    "    hover_data=[\"puuid\", \"KDA\", \"cs_per_min\", \"gold_per_min\", \"similarity\"],\n",
    "    text=\"label\",\n",
    "    color_continuous_scale=\"Viridis\",\n",
    "    title=\"Similarity-based Positioning (Target User = Center)\"\n",
    ")\n",
    "\n",
    "# 기준 유저 강조 (색 없음, hover로만 표시됨)\n",
    "fig.update_traces(marker=dict(size=14, line=dict(width=1, color='DarkSlateGrey')))\n",
    "\n",
    "\n",
    "target_trace = px.scatter(\n",
    "    target_user_df,\n",
    "    x=\"x\", y=\"y\",\n",
    "    hover_data=[\"KDA\", \"cs_per_min\", \"gold_per_min\"],\n",
    "    text=[\"You\"],\n",
    ")\n",
    "\n",
    "target_trace.update_traces(marker=dict(size=16, color='red', symbol='star'))\n",
    "fig.add_trace(target_trace.data[0])\n"
   ]
  },
  {
   "cell_type": "markdown",
   "id": "17333422",
   "metadata": {},
   "source": [
    "### 일반 유저 + 상위 유저 지표 비교 막대그래프 같이 그리기"
   ]
  },
  {
   "cell_type": "code",
   "execution_count": 33,
   "id": "8ade1bd8",
   "metadata": {},
   "outputs": [
    {
     "data": {
      "application/vnd.plotly.v1+json": {
       "config": {
        "plotlyServerURL": "https://plot.ly"
       },
       "data": [
        {
         "marker": {
          "color": "royalblue"
         },
         "name": "Target User KDA",
         "type": "bar",
         "x": [
          "Game 1",
          "Game 2",
          "Game 3",
          "Game 4",
          "Game 5",
          "Game 6",
          "Game 7",
          "Game 8",
          "Game 9",
          "Game 10"
         ],
         "y": [
          5,
          5.5,
          0.7272727272727273,
          5,
          0.5,
          1,
          5.75,
          2.1666666666666665,
          4,
          3.6666666666666665
         ]
        },
        {
         "line": {
          "color": "red",
          "dash": "dash"
         },
         "mode": "lines",
         "name": "Top Players Avg KDA",
         "type": "scatter",
         "x": [
          "Game 1",
          "Game 2",
          "Game 3",
          "Game 4",
          "Game 5",
          "Game 6",
          "Game 7",
          "Game 8",
          "Game 9",
          "Game 10"
         ],
         "y": [
          5.467478083786885,
          5.467478083786885,
          5.467478083786885,
          5.467478083786885,
          5.467478083786885,
          5.467478083786885,
          5.467478083786885,
          5.467478083786885,
          5.467478083786885,
          5.467478083786885
         ]
        }
       ],
       "layout": {
        "barmode": "group",
        "template": {
         "data": {
          "bar": [
           {
            "error_x": {
             "color": "#2a3f5f"
            },
            "error_y": {
             "color": "#2a3f5f"
            },
            "marker": {
             "line": {
              "color": "white",
              "width": 0.5
             },
             "pattern": {
              "fillmode": "overlay",
              "size": 10,
              "solidity": 0.2
             }
            },
            "type": "bar"
           }
          ],
          "barpolar": [
           {
            "marker": {
             "line": {
              "color": "white",
              "width": 0.5
             },
             "pattern": {
              "fillmode": "overlay",
              "size": 10,
              "solidity": 0.2
             }
            },
            "type": "barpolar"
           }
          ],
          "carpet": [
           {
            "aaxis": {
             "endlinecolor": "#2a3f5f",
             "gridcolor": "#C8D4E3",
             "linecolor": "#C8D4E3",
             "minorgridcolor": "#C8D4E3",
             "startlinecolor": "#2a3f5f"
            },
            "baxis": {
             "endlinecolor": "#2a3f5f",
             "gridcolor": "#C8D4E3",
             "linecolor": "#C8D4E3",
             "minorgridcolor": "#C8D4E3",
             "startlinecolor": "#2a3f5f"
            },
            "type": "carpet"
           }
          ],
          "choropleth": [
           {
            "colorbar": {
             "outlinewidth": 0,
             "ticks": ""
            },
            "type": "choropleth"
           }
          ],
          "contour": [
           {
            "colorbar": {
             "outlinewidth": 0,
             "ticks": ""
            },
            "colorscale": [
             [
              0,
              "#0d0887"
             ],
             [
              0.1111111111111111,
              "#46039f"
             ],
             [
              0.2222222222222222,
              "#7201a8"
             ],
             [
              0.3333333333333333,
              "#9c179e"
             ],
             [
              0.4444444444444444,
              "#bd3786"
             ],
             [
              0.5555555555555556,
              "#d8576b"
             ],
             [
              0.6666666666666666,
              "#ed7953"
             ],
             [
              0.7777777777777778,
              "#fb9f3a"
             ],
             [
              0.8888888888888888,
              "#fdca26"
             ],
             [
              1,
              "#f0f921"
             ]
            ],
            "type": "contour"
           }
          ],
          "contourcarpet": [
           {
            "colorbar": {
             "outlinewidth": 0,
             "ticks": ""
            },
            "type": "contourcarpet"
           }
          ],
          "heatmap": [
           {
            "colorbar": {
             "outlinewidth": 0,
             "ticks": ""
            },
            "colorscale": [
             [
              0,
              "#0d0887"
             ],
             [
              0.1111111111111111,
              "#46039f"
             ],
             [
              0.2222222222222222,
              "#7201a8"
             ],
             [
              0.3333333333333333,
              "#9c179e"
             ],
             [
              0.4444444444444444,
              "#bd3786"
             ],
             [
              0.5555555555555556,
              "#d8576b"
             ],
             [
              0.6666666666666666,
              "#ed7953"
             ],
             [
              0.7777777777777778,
              "#fb9f3a"
             ],
             [
              0.8888888888888888,
              "#fdca26"
             ],
             [
              1,
              "#f0f921"
             ]
            ],
            "type": "heatmap"
           }
          ],
          "histogram": [
           {
            "marker": {
             "pattern": {
              "fillmode": "overlay",
              "size": 10,
              "solidity": 0.2
             }
            },
            "type": "histogram"
           }
          ],
          "histogram2d": [
           {
            "colorbar": {
             "outlinewidth": 0,
             "ticks": ""
            },
            "colorscale": [
             [
              0,
              "#0d0887"
             ],
             [
              0.1111111111111111,
              "#46039f"
             ],
             [
              0.2222222222222222,
              "#7201a8"
             ],
             [
              0.3333333333333333,
              "#9c179e"
             ],
             [
              0.4444444444444444,
              "#bd3786"
             ],
             [
              0.5555555555555556,
              "#d8576b"
             ],
             [
              0.6666666666666666,
              "#ed7953"
             ],
             [
              0.7777777777777778,
              "#fb9f3a"
             ],
             [
              0.8888888888888888,
              "#fdca26"
             ],
             [
              1,
              "#f0f921"
             ]
            ],
            "type": "histogram2d"
           }
          ],
          "histogram2dcontour": [
           {
            "colorbar": {
             "outlinewidth": 0,
             "ticks": ""
            },
            "colorscale": [
             [
              0,
              "#0d0887"
             ],
             [
              0.1111111111111111,
              "#46039f"
             ],
             [
              0.2222222222222222,
              "#7201a8"
             ],
             [
              0.3333333333333333,
              "#9c179e"
             ],
             [
              0.4444444444444444,
              "#bd3786"
             ],
             [
              0.5555555555555556,
              "#d8576b"
             ],
             [
              0.6666666666666666,
              "#ed7953"
             ],
             [
              0.7777777777777778,
              "#fb9f3a"
             ],
             [
              0.8888888888888888,
              "#fdca26"
             ],
             [
              1,
              "#f0f921"
             ]
            ],
            "type": "histogram2dcontour"
           }
          ],
          "mesh3d": [
           {
            "colorbar": {
             "outlinewidth": 0,
             "ticks": ""
            },
            "type": "mesh3d"
           }
          ],
          "parcoords": [
           {
            "line": {
             "colorbar": {
              "outlinewidth": 0,
              "ticks": ""
             }
            },
            "type": "parcoords"
           }
          ],
          "pie": [
           {
            "automargin": true,
            "type": "pie"
           }
          ],
          "scatter": [
           {
            "fillpattern": {
             "fillmode": "overlay",
             "size": 10,
             "solidity": 0.2
            },
            "type": "scatter"
           }
          ],
          "scatter3d": [
           {
            "line": {
             "colorbar": {
              "outlinewidth": 0,
              "ticks": ""
             }
            },
            "marker": {
             "colorbar": {
              "outlinewidth": 0,
              "ticks": ""
             }
            },
            "type": "scatter3d"
           }
          ],
          "scattercarpet": [
           {
            "marker": {
             "colorbar": {
              "outlinewidth": 0,
              "ticks": ""
             }
            },
            "type": "scattercarpet"
           }
          ],
          "scattergeo": [
           {
            "marker": {
             "colorbar": {
              "outlinewidth": 0,
              "ticks": ""
             }
            },
            "type": "scattergeo"
           }
          ],
          "scattergl": [
           {
            "marker": {
             "colorbar": {
              "outlinewidth": 0,
              "ticks": ""
             }
            },
            "type": "scattergl"
           }
          ],
          "scattermap": [
           {
            "marker": {
             "colorbar": {
              "outlinewidth": 0,
              "ticks": ""
             }
            },
            "type": "scattermap"
           }
          ],
          "scattermapbox": [
           {
            "marker": {
             "colorbar": {
              "outlinewidth": 0,
              "ticks": ""
             }
            },
            "type": "scattermapbox"
           }
          ],
          "scatterpolar": [
           {
            "marker": {
             "colorbar": {
              "outlinewidth": 0,
              "ticks": ""
             }
            },
            "type": "scatterpolar"
           }
          ],
          "scatterpolargl": [
           {
            "marker": {
             "colorbar": {
              "outlinewidth": 0,
              "ticks": ""
             }
            },
            "type": "scatterpolargl"
           }
          ],
          "scatterternary": [
           {
            "marker": {
             "colorbar": {
              "outlinewidth": 0,
              "ticks": ""
             }
            },
            "type": "scatterternary"
           }
          ],
          "surface": [
           {
            "colorbar": {
             "outlinewidth": 0,
             "ticks": ""
            },
            "colorscale": [
             [
              0,
              "#0d0887"
             ],
             [
              0.1111111111111111,
              "#46039f"
             ],
             [
              0.2222222222222222,
              "#7201a8"
             ],
             [
              0.3333333333333333,
              "#9c179e"
             ],
             [
              0.4444444444444444,
              "#bd3786"
             ],
             [
              0.5555555555555556,
              "#d8576b"
             ],
             [
              0.6666666666666666,
              "#ed7953"
             ],
             [
              0.7777777777777778,
              "#fb9f3a"
             ],
             [
              0.8888888888888888,
              "#fdca26"
             ],
             [
              1,
              "#f0f921"
             ]
            ],
            "type": "surface"
           }
          ],
          "table": [
           {
            "cells": {
             "fill": {
              "color": "#EBF0F8"
             },
             "line": {
              "color": "white"
             }
            },
            "header": {
             "fill": {
              "color": "#C8D4E3"
             },
             "line": {
              "color": "white"
             }
            },
            "type": "table"
           }
          ]
         },
         "layout": {
          "annotationdefaults": {
           "arrowcolor": "#2a3f5f",
           "arrowhead": 0,
           "arrowwidth": 1
          },
          "autotypenumbers": "strict",
          "coloraxis": {
           "colorbar": {
            "outlinewidth": 0,
            "ticks": ""
           }
          },
          "colorscale": {
           "diverging": [
            [
             0,
             "#8e0152"
            ],
            [
             0.1,
             "#c51b7d"
            ],
            [
             0.2,
             "#de77ae"
            ],
            [
             0.3,
             "#f1b6da"
            ],
            [
             0.4,
             "#fde0ef"
            ],
            [
             0.5,
             "#f7f7f7"
            ],
            [
             0.6,
             "#e6f5d0"
            ],
            [
             0.7,
             "#b8e186"
            ],
            [
             0.8,
             "#7fbc41"
            ],
            [
             0.9,
             "#4d9221"
            ],
            [
             1,
             "#276419"
            ]
           ],
           "sequential": [
            [
             0,
             "#0d0887"
            ],
            [
             0.1111111111111111,
             "#46039f"
            ],
            [
             0.2222222222222222,
             "#7201a8"
            ],
            [
             0.3333333333333333,
             "#9c179e"
            ],
            [
             0.4444444444444444,
             "#bd3786"
            ],
            [
             0.5555555555555556,
             "#d8576b"
            ],
            [
             0.6666666666666666,
             "#ed7953"
            ],
            [
             0.7777777777777778,
             "#fb9f3a"
            ],
            [
             0.8888888888888888,
             "#fdca26"
            ],
            [
             1,
             "#f0f921"
            ]
           ],
           "sequentialminus": [
            [
             0,
             "#0d0887"
            ],
            [
             0.1111111111111111,
             "#46039f"
            ],
            [
             0.2222222222222222,
             "#7201a8"
            ],
            [
             0.3333333333333333,
             "#9c179e"
            ],
            [
             0.4444444444444444,
             "#bd3786"
            ],
            [
             0.5555555555555556,
             "#d8576b"
            ],
            [
             0.6666666666666666,
             "#ed7953"
            ],
            [
             0.7777777777777778,
             "#fb9f3a"
            ],
            [
             0.8888888888888888,
             "#fdca26"
            ],
            [
             1,
             "#f0f921"
            ]
           ]
          },
          "colorway": [
           "#636efa",
           "#EF553B",
           "#00cc96",
           "#ab63fa",
           "#FFA15A",
           "#19d3f3",
           "#FF6692",
           "#B6E880",
           "#FF97FF",
           "#FECB52"
          ],
          "font": {
           "color": "#2a3f5f"
          },
          "geo": {
           "bgcolor": "white",
           "lakecolor": "white",
           "landcolor": "white",
           "showlakes": true,
           "showland": true,
           "subunitcolor": "#C8D4E3"
          },
          "hoverlabel": {
           "align": "left"
          },
          "hovermode": "closest",
          "mapbox": {
           "style": "light"
          },
          "paper_bgcolor": "white",
          "plot_bgcolor": "white",
          "polar": {
           "angularaxis": {
            "gridcolor": "#EBF0F8",
            "linecolor": "#EBF0F8",
            "ticks": ""
           },
           "bgcolor": "white",
           "radialaxis": {
            "gridcolor": "#EBF0F8",
            "linecolor": "#EBF0F8",
            "ticks": ""
           }
          },
          "scene": {
           "xaxis": {
            "backgroundcolor": "white",
            "gridcolor": "#DFE8F3",
            "gridwidth": 2,
            "linecolor": "#EBF0F8",
            "showbackground": true,
            "ticks": "",
            "zerolinecolor": "#EBF0F8"
           },
           "yaxis": {
            "backgroundcolor": "white",
            "gridcolor": "#DFE8F3",
            "gridwidth": 2,
            "linecolor": "#EBF0F8",
            "showbackground": true,
            "ticks": "",
            "zerolinecolor": "#EBF0F8"
           },
           "zaxis": {
            "backgroundcolor": "white",
            "gridcolor": "#DFE8F3",
            "gridwidth": 2,
            "linecolor": "#EBF0F8",
            "showbackground": true,
            "ticks": "",
            "zerolinecolor": "#EBF0F8"
           }
          },
          "shapedefaults": {
           "line": {
            "color": "#2a3f5f"
           }
          },
          "ternary": {
           "aaxis": {
            "gridcolor": "#DFE8F3",
            "linecolor": "#A2B1C6",
            "ticks": ""
           },
           "baxis": {
            "gridcolor": "#DFE8F3",
            "linecolor": "#A2B1C6",
            "ticks": ""
           },
           "bgcolor": "white",
           "caxis": {
            "gridcolor": "#DFE8F3",
            "linecolor": "#A2B1C6",
            "ticks": ""
           }
          },
          "title": {
           "x": 0.05
          },
          "xaxis": {
           "automargin": true,
           "gridcolor": "#EBF0F8",
           "linecolor": "#EBF0F8",
           "ticks": "",
           "title": {
            "standoff": 15
           },
           "zerolinecolor": "#EBF0F8",
           "zerolinewidth": 2
          },
          "yaxis": {
           "automargin": true,
           "gridcolor": "#EBF0F8",
           "linecolor": "#EBF0F8",
           "ticks": "",
           "title": {
            "standoff": 15
           },
           "zerolinecolor": "#EBF0F8",
           "zerolinewidth": 2
          }
         }
        },
        "title": {
         "text": "Recent 10 Games KDA vs Top Player Avg KDA"
        },
        "xaxis": {
         "title": {
          "text": "Game"
         }
        },
        "yaxis": {
         "title": {
          "text": "KDA"
         }
        }
       }
      }
     },
     "metadata": {},
     "output_type": "display_data"
    }
   ],
   "source": [
    "import plotly.graph_objects as go\n",
    "import pandas as pd\n",
    "\n",
    "# 1. 기준 유저 게임 가져오기\n",
    "user_games = merged_df[(merged_df[\"puuid\"] == target_puuid)].copy()\n",
    "user_games = user_games.sort_values(\"game_id\", ascending=False).head(10)\n",
    "\n",
    "# 2. KDA 데이터 부족 시 채우기 (0으로)\n",
    "kda_values = user_games[\"KDA\"].tolist()\n",
    "kda_values += [0] * (10 - len(kda_values))  # 10게임 채우기\n",
    "\n",
    "# 3. x축 레이블\n",
    "x_labels = [f\"Game {i+1}\" for i in range(10)]\n",
    "\n",
    "# 4. Top 평균 KDA\n",
    "top_avg_kda = merged_df[merged_df[\"is_top1000\"] == True][\"KDA\"].mean()\n",
    "\n",
    "# 5. 그래프 생성\n",
    "fig = go.Figure()\n",
    "\n",
    "# 유저 KDA 막대\n",
    "fig.add_trace(go.Bar(\n",
    "    x=x_labels,\n",
    "    y=kda_values,\n",
    "    name=\"Target User KDA\",\n",
    "    marker_color='royalblue'\n",
    "))\n",
    "\n",
    "# Top 유저 평균 선\n",
    "fig.add_trace(go.Scatter(\n",
    "    x=x_labels,\n",
    "    y=[top_avg_kda] * 10,\n",
    "    name=\"Top Players Avg KDA\",\n",
    "    mode='lines',\n",
    "    line=dict(color='red', dash='dash')\n",
    "))\n",
    "\n",
    "fig.update_layout(\n",
    "    title=\"Recent 10 Games KDA vs Top Player Avg KDA\",\n",
    "    xaxis_title=\"Game\",\n",
    "    yaxis_title=\"KDA\",\n",
    "    barmode='group',\n",
    "    template='plotly_white'\n",
    ")\n",
    "\n",
    "fig.show()\n"
   ]
  },
  {
   "cell_type": "markdown",
   "id": "466aca07",
   "metadata": {},
   "source": [
    "### 유사도 순 정렬된 테이블 만들기"
   ]
  },
  {
   "cell_type": "code",
   "execution_count": 34,
   "id": "5b179931",
   "metadata": {},
   "outputs": [
    {
     "data": {
      "text/html": [
       "<div>\n",
       "<style scoped>\n",
       "    .dataframe tbody tr th:only-of-type {\n",
       "        vertical-align: middle;\n",
       "    }\n",
       "\n",
       "    .dataframe tbody tr th {\n",
       "        vertical-align: top;\n",
       "    }\n",
       "\n",
       "    .dataframe thead th {\n",
       "        text-align: right;\n",
       "    }\n",
       "</style>\n",
       "<table border=\"1\" class=\"dataframe\">\n",
       "  <thead>\n",
       "    <tr style=\"text-align: right;\">\n",
       "      <th></th>\n",
       "      <th>puuid</th>\n",
       "      <th>KDA</th>\n",
       "      <th>cs_per_min</th>\n",
       "      <th>gold_per_min</th>\n",
       "      <th>similarity</th>\n",
       "    </tr>\n",
       "  </thead>\n",
       "  <tbody>\n",
       "    <tr>\n",
       "      <th>0</th>\n",
       "      <td>N8s2Toz0lAW-qfSH3A0NufmmkZeVXQoqKYMDedmESurz6n...</td>\n",
       "      <td>3.333333</td>\n",
       "      <td>8.574889</td>\n",
       "      <td>517.611504</td>\n",
       "      <td>0.960775</td>\n",
       "    </tr>\n",
       "    <tr>\n",
       "      <th>1</th>\n",
       "      <td>JkAtetPeV8eLH-GNF14_7Z96cIMbONg0x-7yil5ZrhqURu...</td>\n",
       "      <td>5.166667</td>\n",
       "      <td>8.571203</td>\n",
       "      <td>519.099380</td>\n",
       "      <td>0.925255</td>\n",
       "    </tr>\n",
       "    <tr>\n",
       "      <th>2</th>\n",
       "      <td>_v3N7CJjg-9RvLsJjD-ciWb4ZtXdigRT2miD8SYenA7wnK...</td>\n",
       "      <td>3.666667</td>\n",
       "      <td>6.632733</td>\n",
       "      <td>471.255647</td>\n",
       "      <td>0.917426</td>\n",
       "    </tr>\n",
       "    <tr>\n",
       "      <th>3</th>\n",
       "      <td>0S7Qb-aNl4ZarGy2KldZFAAN4qum5qqCeGLJDv4vUn-d2V...</td>\n",
       "      <td>10.000000</td>\n",
       "      <td>6.606017</td>\n",
       "      <td>591.492586</td>\n",
       "      <td>0.913063</td>\n",
       "    </tr>\n",
       "    <tr>\n",
       "      <th>4</th>\n",
       "      <td>znTmuVKGw2_g_dApzVG2sId1sO0scMTJeeXryiMC-uNysp...</td>\n",
       "      <td>1.600000</td>\n",
       "      <td>8.204457</td>\n",
       "      <td>472.212077</td>\n",
       "      <td>0.901022</td>\n",
       "    </tr>\n",
       "    <tr>\n",
       "      <th>5</th>\n",
       "      <td>EVMY5lU8NxM93WsfJe1FH5irgp_daSX36OzDqSLmhoycEu...</td>\n",
       "      <td>3.400000</td>\n",
       "      <td>8.544045</td>\n",
       "      <td>474.748594</td>\n",
       "      <td>0.900476</td>\n",
       "    </tr>\n",
       "    <tr>\n",
       "      <th>6</th>\n",
       "      <td>BMLYrja7g84tXOAYN6an9UVxswRCySLhffkA_x8VKlFi-s...</td>\n",
       "      <td>3.750000</td>\n",
       "      <td>7.966532</td>\n",
       "      <td>496.677442</td>\n",
       "      <td>0.898614</td>\n",
       "    </tr>\n",
       "    <tr>\n",
       "      <th>7</th>\n",
       "      <td>mkuS-q15u1Xgel-8i20FgzR0qO16_5dV3IdJOiu6rGtQIm...</td>\n",
       "      <td>4.400000</td>\n",
       "      <td>8.686750</td>\n",
       "      <td>496.346472</td>\n",
       "      <td>0.892541</td>\n",
       "    </tr>\n",
       "    <tr>\n",
       "      <th>8</th>\n",
       "      <td>7UDpSRt0mNr-aRORdAY9-LXLEexD2goynSIcH63l2jRdYg...</td>\n",
       "      <td>7.250000</td>\n",
       "      <td>7.296867</td>\n",
       "      <td>525.751860</td>\n",
       "      <td>0.891998</td>\n",
       "    </tr>\n",
       "    <tr>\n",
       "      <th>9</th>\n",
       "      <td>SpupeSpNpf9A7EavhpubnhV0eYdogaVhD1asHUcIhfA3Tq...</td>\n",
       "      <td>2.900000</td>\n",
       "      <td>6.295405</td>\n",
       "      <td>456.643708</td>\n",
       "      <td>0.890968</td>\n",
       "    </tr>\n",
       "  </tbody>\n",
       "</table>\n",
       "</div>"
      ],
      "text/plain": [
       "                                               puuid        KDA  cs_per_min  \\\n",
       "0  N8s2Toz0lAW-qfSH3A0NufmmkZeVXQoqKYMDedmESurz6n...   3.333333    8.574889   \n",
       "1  JkAtetPeV8eLH-GNF14_7Z96cIMbONg0x-7yil5ZrhqURu...   5.166667    8.571203   \n",
       "2  _v3N7CJjg-9RvLsJjD-ciWb4ZtXdigRT2miD8SYenA7wnK...   3.666667    6.632733   \n",
       "3  0S7Qb-aNl4ZarGy2KldZFAAN4qum5qqCeGLJDv4vUn-d2V...  10.000000    6.606017   \n",
       "4  znTmuVKGw2_g_dApzVG2sId1sO0scMTJeeXryiMC-uNysp...   1.600000    8.204457   \n",
       "5  EVMY5lU8NxM93WsfJe1FH5irgp_daSX36OzDqSLmhoycEu...   3.400000    8.544045   \n",
       "6  BMLYrja7g84tXOAYN6an9UVxswRCySLhffkA_x8VKlFi-s...   3.750000    7.966532   \n",
       "7  mkuS-q15u1Xgel-8i20FgzR0qO16_5dV3IdJOiu6rGtQIm...   4.400000    8.686750   \n",
       "8  7UDpSRt0mNr-aRORdAY9-LXLEexD2goynSIcH63l2jRdYg...   7.250000    7.296867   \n",
       "9  SpupeSpNpf9A7EavhpubnhV0eYdogaVhD1asHUcIhfA3Tq...   2.900000    6.295405   \n",
       "\n",
       "   gold_per_min  similarity  \n",
       "0    517.611504    0.960775  \n",
       "1    519.099380    0.925255  \n",
       "2    471.255647    0.917426  \n",
       "3    591.492586    0.913063  \n",
       "4    472.212077    0.901022  \n",
       "5    474.748594    0.900476  \n",
       "6    496.677442    0.898614  \n",
       "7    496.346472    0.892541  \n",
       "8    525.751860    0.891998  \n",
       "9    456.643708    0.890968  "
      ]
     },
     "metadata": {},
     "output_type": "display_data"
    }
   ],
   "source": [
    "import pandas as pd\n",
    "from IPython.display import display\n",
    "\n",
    "display(\n",
    "    plot_df[plot_df[\"label\"] == \"Top\"]\n",
    "    .sort_values(\"similarity\", ascending=False)[\n",
    "        [\"puuid\", \"KDA\", \"cs_per_min\", \"gold_per_min\", \"similarity\"]\n",
    "    ]\n",
    ")\n"
   ]
  },
  {
   "cell_type": "code",
   "execution_count": null,
   "id": "1f53f225",
   "metadata": {},
   "outputs": [],
   "source": []
  }
 ],
 "metadata": {
  "kernelspec": {
   "display_name": "Python 3",
   "language": "python",
   "name": "python3"
  },
  "language_info": {
   "codemirror_mode": {
    "name": "ipython",
    "version": 3
   },
   "file_extension": ".py",
   "mimetype": "text/x-python",
   "name": "python",
   "nbconvert_exporter": "python",
   "pygments_lexer": "ipython3",
   "version": "3.9.13"
  }
 },
 "nbformat": 4,
 "nbformat_minor": 5
}
